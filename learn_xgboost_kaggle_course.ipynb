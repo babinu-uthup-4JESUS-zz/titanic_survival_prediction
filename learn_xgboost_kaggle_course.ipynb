{
 "cells": [
  {
   "cell_type": "markdown",
   "metadata": {
    "_cell_guid": "e81ee64d-e474-4662-9036-ce23df615199",
    "_uuid": "b6269c0e8f417f82daf093dda8fa0da6d2c57d86"
   },
   "source": [
    "# Introduction\n",
    "**This will be your workspace for the [Machine Learning course](https://www.kaggle.com/learn/machine-learning).**\n",
    "\n",
    "You will need to translate the concepts to work with the data in this notebook, the Iowa data. Each page in the Machine Learning course includes instructions for what code to write at that step in the course.\n",
    "\n",
    "# Write Your Code Below"
   ]
  },
  {
   "cell_type": "code",
   "execution_count": 58,
   "metadata": {
    "_cell_guid": "86b26423-563a-4fa1-a595-89e25ff93089",
    "_uuid": "1c728098629e1301643443b1341556a15c089b2b"
   },
   "outputs": [
    {
     "name": "stdout",
     "output_type": "stream",
     "text": [
      "Some output from running this cell\n"
     ]
    }
   ],
   "source": [
    "import pandas as pd\n",
    "\n",
    "main_file_path = 'train_kaggle_xgboost.csv' # this is the path to the Iowa data that you will use\n",
    "data = pd.read_csv(main_file_path)\n",
    "\n",
    "# Run this code block with the control-enter keys on your keyboard. Or click the blue botton on the left\n",
    "print('Some output from running this cell')\n",
    "\n"
   ]
  },
  {
   "cell_type": "code",
   "execution_count": 59,
   "metadata": {
    "_uuid": "b172f2ccdda8938e1359eefc2fd27dc11e792e1f"
   },
   "outputs": [
    {
     "name": "stdout",
     "output_type": "stream",
     "text": [
      "                Id   MSSubClass  LotFrontage        LotArea  OverallQual  \\\n",
      "count  1460.000000  1460.000000  1201.000000    1460.000000  1460.000000   \n",
      "mean    730.500000    56.897260    70.049958   10516.828082     6.099315   \n",
      "std     421.610009    42.300571    24.284752    9981.264932     1.382997   \n",
      "min       1.000000    20.000000    21.000000    1300.000000     1.000000   \n",
      "25%     365.750000    20.000000    59.000000    7553.500000     5.000000   \n",
      "50%     730.500000    50.000000    69.000000    9478.500000     6.000000   \n",
      "75%    1095.250000    70.000000    80.000000   11601.500000     7.000000   \n",
      "max    1460.000000   190.000000   313.000000  215245.000000    10.000000   \n",
      "\n",
      "       OverallCond    YearBuilt  YearRemodAdd   MasVnrArea   BsmtFinSF1  \\\n",
      "count  1460.000000  1460.000000   1460.000000  1452.000000  1460.000000   \n",
      "mean      5.575342  1971.267808   1984.865753   103.685262   443.639726   \n",
      "std       1.112799    30.202904     20.645407   181.066207   456.098091   \n",
      "min       1.000000  1872.000000   1950.000000     0.000000     0.000000   \n",
      "25%       5.000000  1954.000000   1967.000000     0.000000     0.000000   \n",
      "50%       5.000000  1973.000000   1994.000000     0.000000   383.500000   \n",
      "75%       6.000000  2000.000000   2004.000000   166.000000   712.250000   \n",
      "max       9.000000  2010.000000   2010.000000  1600.000000  5644.000000   \n",
      "\n",
      "           ...         WoodDeckSF  OpenPorchSF  EnclosedPorch    3SsnPorch  \\\n",
      "count      ...        1460.000000  1460.000000    1460.000000  1460.000000   \n",
      "mean       ...          94.244521    46.660274      21.954110     3.409589   \n",
      "std        ...         125.338794    66.256028      61.119149    29.317331   \n",
      "min        ...           0.000000     0.000000       0.000000     0.000000   \n",
      "25%        ...           0.000000     0.000000       0.000000     0.000000   \n",
      "50%        ...           0.000000    25.000000       0.000000     0.000000   \n",
      "75%        ...         168.000000    68.000000       0.000000     0.000000   \n",
      "max        ...         857.000000   547.000000     552.000000   508.000000   \n",
      "\n",
      "       ScreenPorch     PoolArea       MiscVal       MoSold       YrSold  \\\n",
      "count  1460.000000  1460.000000   1460.000000  1460.000000  1460.000000   \n",
      "mean     15.060959     2.758904     43.489041     6.321918  2007.815753   \n",
      "std      55.757415    40.177307    496.123024     2.703626     1.328095   \n",
      "min       0.000000     0.000000      0.000000     1.000000  2006.000000   \n",
      "25%       0.000000     0.000000      0.000000     5.000000  2007.000000   \n",
      "50%       0.000000     0.000000      0.000000     6.000000  2008.000000   \n",
      "75%       0.000000     0.000000      0.000000     8.000000  2009.000000   \n",
      "max     480.000000   738.000000  15500.000000    12.000000  2010.000000   \n",
      "\n",
      "           SalePrice  \n",
      "count    1460.000000  \n",
      "mean   180921.195890  \n",
      "std     79442.502883  \n",
      "min     34900.000000  \n",
      "25%    129975.000000  \n",
      "50%    163000.000000  \n",
      "75%    214000.000000  \n",
      "max    755000.000000  \n",
      "\n",
      "[8 rows x 38 columns]\n"
     ]
    }
   ],
   "source": [
    "print(data.describe())"
   ]
  },
  {
   "cell_type": "code",
   "execution_count": 60,
   "metadata": {
    "_uuid": "77994a843ffe998082948286ecfcb9002fac40dd"
   },
   "outputs": [
    {
     "name": "stdout",
     "output_type": "stream",
     "text": [
      "Index(['Id', 'MSSubClass', 'MSZoning', 'LotFrontage', 'LotArea', 'Street',\n",
      "       'Alley', 'LotShape', 'LandContour', 'Utilities', 'LotConfig',\n",
      "       'LandSlope', 'Neighborhood', 'Condition1', 'Condition2', 'BldgType',\n",
      "       'HouseStyle', 'OverallQual', 'OverallCond', 'YearBuilt', 'YearRemodAdd',\n",
      "       'RoofStyle', 'RoofMatl', 'Exterior1st', 'Exterior2nd', 'MasVnrType',\n",
      "       'MasVnrArea', 'ExterQual', 'ExterCond', 'Foundation', 'BsmtQual',\n",
      "       'BsmtCond', 'BsmtExposure', 'BsmtFinType1', 'BsmtFinSF1',\n",
      "       'BsmtFinType2', 'BsmtFinSF2', 'BsmtUnfSF', 'TotalBsmtSF', 'Heating',\n",
      "       'HeatingQC', 'CentralAir', 'Electrical', '1stFlrSF', '2ndFlrSF',\n",
      "       'LowQualFinSF', 'GrLivArea', 'BsmtFullBath', 'BsmtHalfBath', 'FullBath',\n",
      "       'HalfBath', 'BedroomAbvGr', 'KitchenAbvGr', 'KitchenQual',\n",
      "       'TotRmsAbvGrd', 'Functional', 'Fireplaces', 'FireplaceQu', 'GarageType',\n",
      "       'GarageYrBlt', 'GarageFinish', 'GarageCars', 'GarageArea', 'GarageQual',\n",
      "       'GarageCond', 'PavedDrive', 'WoodDeckSF', 'OpenPorchSF',\n",
      "       'EnclosedPorch', '3SsnPorch', 'ScreenPorch', 'PoolArea', 'PoolQC',\n",
      "       'Fence', 'MiscFeature', 'MiscVal', 'MoSold', 'YrSold', 'SaleType',\n",
      "       'SaleCondition', 'SalePrice'],\n",
      "      dtype='object')\n"
     ]
    }
   ],
   "source": [
    "print(data.columns)"
   ]
  },
  {
   "cell_type": "code",
   "execution_count": 61,
   "metadata": {
    "_uuid": "df6fd0478900882db869be541f369cbc925ad022"
   },
   "outputs": [],
   "source": [
    "iowa_saleprices = data.SalePrice"
   ]
  },
  {
   "cell_type": "code",
   "execution_count": 62,
   "metadata": {
    "_uuid": "a76e7a8cd4922c41c3dc4424d952928101f6e079"
   },
   "outputs": [
    {
     "data": {
      "text/plain": [
       "0    208500\n",
       "1    181500\n",
       "2    223500\n",
       "3    140000\n",
       "4    250000\n",
       "Name: SalePrice, dtype: int64"
      ]
     },
     "execution_count": 62,
     "metadata": {},
     "output_type": "execute_result"
    }
   ],
   "source": [
    "iowa_saleprices.head()"
   ]
  },
  {
   "cell_type": "code",
   "execution_count": 63,
   "metadata": {
    "_uuid": "096a936115a921bc118a6afdc6ae55cb4919b1d5"
   },
   "outputs": [],
   "source": [
    "cols = ['SaleCondition', 'SalePrice']"
   ]
  },
  {
   "cell_type": "code",
   "execution_count": 64,
   "metadata": {
    "_uuid": "1634555a7ed9c0024ae365973131ee19d365f552"
   },
   "outputs": [],
   "source": [
    "sale_metrics = data[cols]"
   ]
  },
  {
   "cell_type": "code",
   "execution_count": 65,
   "metadata": {
    "_uuid": "0ad4971ca5fc9c0f5c065105e60b5fbc43e20513"
   },
   "outputs": [
    {
     "data": {
      "text/html": [
       "<div>\n",
       "<style scoped>\n",
       "    .dataframe tbody tr th:only-of-type {\n",
       "        vertical-align: middle;\n",
       "    }\n",
       "\n",
       "    .dataframe tbody tr th {\n",
       "        vertical-align: top;\n",
       "    }\n",
       "\n",
       "    .dataframe thead th {\n",
       "        text-align: right;\n",
       "    }\n",
       "</style>\n",
       "<table border=\"1\" class=\"dataframe\">\n",
       "  <thead>\n",
       "    <tr style=\"text-align: right;\">\n",
       "      <th></th>\n",
       "      <th>SalePrice</th>\n",
       "    </tr>\n",
       "  </thead>\n",
       "  <tbody>\n",
       "    <tr>\n",
       "      <th>count</th>\n",
       "      <td>1460.000000</td>\n",
       "    </tr>\n",
       "    <tr>\n",
       "      <th>mean</th>\n",
       "      <td>180921.195890</td>\n",
       "    </tr>\n",
       "    <tr>\n",
       "      <th>std</th>\n",
       "      <td>79442.502883</td>\n",
       "    </tr>\n",
       "    <tr>\n",
       "      <th>min</th>\n",
       "      <td>34900.000000</td>\n",
       "    </tr>\n",
       "    <tr>\n",
       "      <th>25%</th>\n",
       "      <td>129975.000000</td>\n",
       "    </tr>\n",
       "    <tr>\n",
       "      <th>50%</th>\n",
       "      <td>163000.000000</td>\n",
       "    </tr>\n",
       "    <tr>\n",
       "      <th>75%</th>\n",
       "      <td>214000.000000</td>\n",
       "    </tr>\n",
       "    <tr>\n",
       "      <th>max</th>\n",
       "      <td>755000.000000</td>\n",
       "    </tr>\n",
       "  </tbody>\n",
       "</table>\n",
       "</div>"
      ],
      "text/plain": [
       "           SalePrice\n",
       "count    1460.000000\n",
       "mean   180921.195890\n",
       "std     79442.502883\n",
       "min     34900.000000\n",
       "25%    129975.000000\n",
       "50%    163000.000000\n",
       "75%    214000.000000\n",
       "max    755000.000000"
      ]
     },
     "execution_count": 65,
     "metadata": {},
     "output_type": "execute_result"
    }
   ],
   "source": [
    "sale_metrics.describe()"
   ]
  },
  {
   "cell_type": "code",
   "execution_count": 66,
   "metadata": {
    "_uuid": "9715dd20b1c6b6b5a4ceff13928f0eafd43a379c"
   },
   "outputs": [],
   "source": [
    "# Select predictor variable here.\n",
    "Y = data.SalePrice"
   ]
  },
  {
   "cell_type": "code",
   "execution_count": 67,
   "metadata": {
    "_uuid": "a71adec015bfc2011e047f5ab29b45f83250ea95"
   },
   "outputs": [],
   "source": [
    "predictor_cols = ['LotArea', 'YearBuilt', '1stFlrSF', '2ndFlrSF', 'FullBath', 'BedroomAbvGr', 'TotRmsAbvGrd']"
   ]
  },
  {
   "cell_type": "code",
   "execution_count": 68,
   "metadata": {
    "_uuid": "9da8157534c77186cc91ec929e2621d2cec0333f"
   },
   "outputs": [],
   "source": [
    "X = data[predictor_cols]"
   ]
  },
  {
   "cell_type": "code",
   "execution_count": 69,
   "metadata": {
    "_uuid": "4cfbed87e085bf7af5f09dc242778a55bd396707"
   },
   "outputs": [
    {
     "data": {
      "text/plain": [
       "DecisionTreeRegressor(criterion='mse', max_depth=None, max_features=None,\n",
       "           max_leaf_nodes=None, min_impurity_decrease=0.0,\n",
       "           min_impurity_split=None, min_samples_leaf=1,\n",
       "           min_samples_split=2, min_weight_fraction_leaf=0.0,\n",
       "           presort=False, random_state=None, splitter='best')"
      ]
     },
     "execution_count": 69,
     "metadata": {},
     "output_type": "execute_result"
    }
   ],
   "source": [
    "from sklearn.tree import DecisionTreeRegressor\n",
    "iowa_model = DecisionTreeRegressor()\n",
    "iowa_model.fit(X, Y)"
   ]
  },
  {
   "cell_type": "code",
   "execution_count": 70,
   "metadata": {
    "_uuid": "84e1ae306dc56a3835ab6f775fa519c7ede65280"
   },
   "outputs": [
    {
     "data": {
      "text/plain": [
       "array([208500., 181500., 223500., 140000., 250000.])"
      ]
     },
     "execution_count": 70,
     "metadata": {},
     "output_type": "execute_result"
    }
   ],
   "source": [
    "iowa_model.predict(X.head())"
   ]
  },
  {
   "cell_type": "code",
   "execution_count": 71,
   "metadata": {
    "_uuid": "2562dc64b5071159240638a1a31b8150d4dad5ea"
   },
   "outputs": [],
   "source": [
    "from sklearn.metrics import mean_absolute_error"
   ]
  },
  {
   "cell_type": "code",
   "execution_count": 72,
   "metadata": {
    "_uuid": "0e2fecad618ec2471a240fdadb894368a8c04d2d"
   },
   "outputs": [],
   "source": [
    "from sklearn.model_selection import train_test_split"
   ]
  },
  {
   "cell_type": "code",
   "execution_count": 73,
   "metadata": {
    "_uuid": "980c07f7ebbf9f3a8095f249ba002a9da9f0c306"
   },
   "outputs": [],
   "source": [
    "X_train, X_test, Y_train, Y_test = train_test_split(X, Y, random_state=0)"
   ]
  },
  {
   "cell_type": "code",
   "execution_count": 74,
   "metadata": {
    "_uuid": "fac9f72f7f25f6f07659b9cc49694c160afeceb8"
   },
   "outputs": [],
   "source": [
    "iowa_new_model = DecisionTreeRegressor()\n",
    "fit_model = iowa_new_model.fit(X_train, Y_train)"
   ]
  },
  {
   "cell_type": "code",
   "execution_count": 75,
   "metadata": {
    "_uuid": "948a782ec0de88fd4a552e4d5f837329aea15f67"
   },
   "outputs": [],
   "source": [
    "predictions = fit_model.predict(X_test)"
   ]
  },
  {
   "cell_type": "code",
   "execution_count": 76,
   "metadata": {
    "_uuid": "5390e87cdf3d86fbe769639339b73154df32c6bd"
   },
   "outputs": [
    {
     "name": "stdout",
     "output_type": "stream",
     "text": [
      "32123.80821917808\n"
     ]
    }
   ],
   "source": [
    "print(mean_absolute_error(predictions, Y_test))"
   ]
  },
  {
   "cell_type": "code",
   "execution_count": 77,
   "metadata": {
    "_uuid": "a0f20ce7b8074c7e588f257036a6ee0df2355a53"
   },
   "outputs": [],
   "source": [
    "from sklearn.metrics import mean_absolute_error\n",
    "from sklearn.tree import DecisionTreeRegressor\n",
    "\n",
    "def get_mae(max_leaf_nodes, predictors_train, predictors_val, targ_train, targ_val):\n",
    "    model = DecisionTreeRegressor(max_leaf_nodes=max_leaf_nodes, random_state=0)\n",
    "    model.fit(predictors_train, targ_train)\n",
    "    preds_val = model.predict(predictors_val)\n",
    "    mae = mean_absolute_error(targ_val, preds_val)\n",
    "    return(mae)"
   ]
  },
  {
   "cell_type": "code",
   "execution_count": 78,
   "metadata": {
    "_uuid": "4a4d33cfac8182ca6f1b69eabf3b0bc9b5b44b64"
   },
   "outputs": [
    {
     "name": "stdout",
     "output_type": "stream",
     "text": [
      "Max leaf nodes: 5  \t\t Mean Absolute Error:  35190\n",
      "Max leaf nodes: 50  \t\t Mean Absolute Error:  27825\n",
      "Max leaf nodes: 500  \t\t Mean Absolute Error:  32662\n",
      "Max leaf nodes: 5000  \t\t Mean Absolute Error:  33382\n"
     ]
    }
   ],
   "source": [
    "# compare MAE with differing values of max_leaf_nodes\n",
    "for max_leaf_nodes in [5, 50, 500, 5000]:\n",
    "    my_mae = get_mae(max_leaf_nodes, X_train, X_test, Y_train, Y_test)\n",
    "    print(\"Max leaf nodes: %d  \\t\\t Mean Absolute Error:  %d\" %(max_leaf_nodes, my_mae))\n"
   ]
  },
  {
   "cell_type": "code",
   "execution_count": 79,
   "metadata": {
    "_uuid": "90419a9ee3b49f84245eb7a88cb3988981ada016"
   },
   "outputs": [
    {
     "name": "stdout",
     "output_type": "stream",
     "text": [
      "24396.513744292235\n"
     ]
    }
   ],
   "source": [
    "from sklearn.ensemble import RandomForestRegressor\n",
    "iowa_regressor = RandomForestRegressor(random_state=0)\n",
    "iow_rf_model = iowa_regressor.fit(X_train, Y_train)\n",
    "predictions = iow_rf_model.predict(X_test)\n",
    "print(mean_absolute_error(predictions, Y_test))"
   ]
  },
  {
   "cell_type": "markdown",
   "metadata": {
    "_uuid": "79020a14524d1e6eb886b4abfedbde1aa709d33f"
   },
   "source": [
    "Model 1 : Remove columns with nans"
   ]
  },
  {
   "cell_type": "code",
   "execution_count": 80,
   "metadata": {
    "_uuid": "05b83285dea2e8d4ed5faad1d35ae0339ceb1641"
   },
   "outputs": [],
   "source": [
    "def score_dataset(X_train, X_test, Y_train, Y_test):\n",
    "    my_model = RandomForestRegressor(random_state=0)\n",
    "    my_model.fit(X_train, Y_train)\n",
    "    predictions = my_model.predict(X_test)\n",
    "    return(mean_absolute_error(predictions, Y_test))"
   ]
  },
  {
   "cell_type": "code",
   "execution_count": 93,
   "metadata": {
    "_uuid": "e49351cc91b65ccaca4090c7ac3561ed5fe2ef24"
   },
   "outputs": [
    {
     "name": "stdout",
     "output_type": "stream",
     "text": [
      "Index(['Id', 'MSSubClass', 'LotArea', 'OverallQual', 'OverallCond',\n",
      "       'YearBuilt', 'YearRemodAdd', 'BsmtFinSF1', 'BsmtFinSF2', 'BsmtUnfSF',\n",
      "       'TotalBsmtSF', '1stFlrSF', '2ndFlrSF', 'LowQualFinSF', 'GrLivArea',\n",
      "       'BsmtFullBath', 'BsmtHalfBath', 'FullBath', 'HalfBath', 'BedroomAbvGr',\n",
      "       'KitchenAbvGr', 'TotRmsAbvGrd', 'Fireplaces', 'GarageCars',\n",
      "       'GarageArea', 'WoodDeckSF', 'OpenPorchSF', 'EnclosedPorch', '3SsnPorch',\n",
      "       'ScreenPorch', 'PoolArea', 'MiscVal', 'MoSold', 'YrSold'],\n",
      "      dtype='object')\n"
     ]
    },
    {
     "data": {
      "text/plain": [
       "19895.280821917808"
      ]
     },
     "execution_count": 93,
     "metadata": {},
     "output_type": "execute_result"
    }
   ],
   "source": [
    "from sklearn.preprocessing import Imputer\n",
    "my_imputer = Imputer()\n",
    "\n",
    "X = data.drop(columns='SalePrice').select_dtypes(exclude='object').copy()\n",
    "\n",
    "Y = data.SalePrice.copy()\n",
    "X_train, X_test, Y_train, Y_test = train_test_split(X, Y, random_state=0)\n",
    "col_x_missing = [col for col in X_train.columns if X_train[col].isnull().any()]\n",
    "\n",
    "# Get data once again to make sure that missing data is handled correctly.\n",
    "X_train_reduced = X_train.drop(col_x_missing, axis=1)\n",
    "X_test_reduced = X_test.drop(col_x_missing, axis=1)\n",
    "print(X_train_reduced.columns)\n",
    "score_dataset(X_train_reduced, X_test_reduced, Y_train, Y_test)"
   ]
  },
  {
   "cell_type": "markdown",
   "metadata": {
    "_uuid": "546c89f61f37b158c0a5b243331c4bd4d567131f"
   },
   "source": [
    "Model 2: After imputation."
   ]
  },
  {
   "cell_type": "code",
   "execution_count": 94,
   "metadata": {
    "_uuid": "c8e486da7705f324a624c26166e5f7ccb4c84c8f"
   },
   "outputs": [
    {
     "data": {
      "text/plain": [
       "20032.675342465755"
      ]
     },
     "execution_count": 94,
     "metadata": {},
     "output_type": "execute_result"
    }
   ],
   "source": [
    "from sklearn.preprocessing import Imputer\n",
    "my_imputer = Imputer()\n",
    "X = data.drop(columns='SalePrice').select_dtypes(exclude='object').copy()\n",
    "Y = data.SalePrice.copy()\n",
    "X_train, X_test, Y_train, Y_test = train_test_split(X, Y, random_state=0)\n",
    "imputed_X_train = my_imputer.fit_transform(X_train)\n",
    "imputed_X_test = my_imputer.transform(X_test)\n",
    "score_dataset(imputed_X_train, imputed_X_test, Y_train, Y_test)"
   ]
  },
  {
   "cell_type": "markdown",
   "metadata": {
    "_uuid": "dba039746f1469fc7eddb4c60932cbfe15491104"
   },
   "source": [
    "Model 3 : Along with imputation, add a column ,showing missed columns."
   ]
  },
  {
   "cell_type": "code",
   "execution_count": 95,
   "metadata": {
    "_uuid": "f9f056b102153853921280a6440f226452d6ba3d"
   },
   "outputs": [
    {
     "data": {
      "text/plain": [
       "19740.9597260274"
      ]
     },
     "execution_count": 95,
     "metadata": {},
     "output_type": "execute_result"
    }
   ],
   "source": [
    "from sklearn.preprocessing import Imputer\n",
    "my_imputer = Imputer()\n",
    "\n",
    "X = data.drop(columns='SalePrice').select_dtypes(exclude='object').copy()\n",
    "Y = data.SalePrice.copy()\n",
    "X_train, X_test, Y_train, Y_test = train_test_split(X, Y, random_state=0)\n",
    "col_x_missing = [col for col in X_train.columns if X_train[col].isnull().any()]\n",
    "X_train = X_train.copy()\n",
    "X_test = X_test.copy()\n",
    "for col in col_x_missing:    \n",
    "    X_train[col + 'missing'] = X_train[col].isnull()\n",
    "    X_test[col + 'missing'] = X_train[col].isnull()    \n",
    "\n",
    "imputed_X_train = my_imputer.fit_transform(X_train)\n",
    "imputed_X_test = my_imputer.transform(X_test)\n",
    "score_dataset(imputed_X_train, imputed_X_test, Y_train, Y_test)\n",
    "\n"
   ]
  },
  {
   "cell_type": "markdown",
   "metadata": {
    "_uuid": "a9d7ae887354727b3240841c96a17faea11fab08"
   },
   "source": [
    "Check one hot encoding !"
   ]
  },
  {
   "cell_type": "code",
   "execution_count": 96,
   "metadata": {
    "_uuid": "4291663f470742753e4be7d5327eb54eddc563d7"
   },
   "outputs": [],
   "source": [
    "from sklearn.model_selection import cross_val_score\n",
    "\n",
    "def get_mae(X, Y):\n",
    "    return (-1) * cross_val_score(RandomForestRegressor(1), X, Y, scoring='neg_mean_absolute_error').mean()"
   ]
  },
  {
   "cell_type": "code",
   "execution_count": 100,
   "metadata": {
    "_uuid": "b370959cce62e8c25cd7fa916cf842c5e00d8344"
   },
   "outputs": [
    {
     "name": "stdout",
     "output_type": "stream",
     "text": [
      "Error on test set is 18907.065753424657\n",
      "Cross validation error(with one hot encoding) is 28512.972549665796\n",
      "Cross validation error(with non categorical predictors) is 29409.151714114298\n"
     ]
    }
   ],
   "source": [
    "from sklearn.preprocessing import Imputer\n",
    "my_imputer = Imputer()\n",
    "\n",
    "#X = data.select_dtypes(exclude='object').copy()\n",
    "X = data.drop(columns=['SalePrice'])\n",
    "col_x_missing = [col for col in X.columns if X[col].isnull().any()]\n",
    "X = X.drop(col_x_missing, axis=1)\n",
    "Y = data.SalePrice.copy()\n",
    "X_one_hot = pd.get_dummies(X)\n",
    "X_normal_predictors = X.select_dtypes(exclude='object').copy()\n",
    "X_train, X_test, Y_train, Y_test = train_test_split(X_one_hot, Y, random_state=0)\n",
    "col_x_missing = [col for col in X_one_hot.columns if X_one_hot[col].isnull().any()]\n",
    "\n",
    "print(\"Error on test set is {0}\".format(score_dataset(X_train, X_test, Y_train, Y_test)))\n",
    "print(\"Cross validation error(with one hot encoding) is {0}\".format(get_mae(X_one_hot, Y)))\n",
    "print(\"Cross validation error(with non categorical predictors) is {0}\".format(get_mae(X_normal_predictors, Y)))\n"
   ]
  },
  {
   "cell_type": "code",
   "execution_count": 101,
   "metadata": {
    "_uuid": "b0f9bbf340d8dd8b7a4fd704b17fe50d3f34e13e"
   },
   "outputs": [],
   "source": [
    "def get_mean_absolute_error_model(my_model, X_test, Y_test):\n",
    "    predictions = my_model.predict(X_test)    \n",
    "    return(mean_absolute_error(predictions, Y_test))\n",
    "    "
   ]
  },
  {
   "cell_type": "code",
   "execution_count": 127,
   "metadata": {},
   "outputs": [],
   "source": [
    "from xgboost import XGBRegressor\n",
    "my_model = XGBRegressor(seed=1)\n"
   ]
  },
  {
   "cell_type": "code",
   "execution_count": 135,
   "metadata": {},
   "outputs": [],
   "source": [
    "import numpy as np"
   ]
  },
  {
   "cell_type": "code",
   "execution_count": 152,
   "metadata": {},
   "outputs": [
    {
     "name": "stdout",
     "output_type": "stream",
     "text": [
      "(1095, 37) (365, 37) (1095,) (365,)\n",
      "XGBRegressor(base_score=0.5, booster='gbtree', colsample_bylevel=1,\n",
      "       colsample_bytree=1, gamma=0, learning_rate=0.1, max_delta_step=0,\n",
      "       max_depth=3, min_child_weight=1, missing=None, n_estimators=100,\n",
      "       n_jobs=1, nthread=None, objective='reg:linear', random_state=0,\n",
      "       reg_alpha=0, reg_lambda=1, scale_pos_weight=1, seed=1, silent=True,\n",
      "       subsample=1)\n",
      "Mean absolute error is 17165.850770547946\n"
     ]
    }
   ],
   "source": [
    "# Get X and Y in one go.\n",
    "Y = data.SalePrice\n",
    "X = data.drop(columns=['SalePrice']).select_dtypes(exclude='object')\n",
    "\n",
    "# Do imputation on relevant columns.\n",
    "my_imputer = Imputer()\n",
    "X_train, X_test, Y_train, Y_test = train_test_split(X, Y, random_state=0)\n",
    "\n",
    "print(np.shape(X_train), np.shape(X_test), np.shape(Y_train), np.shape(Y_test))\n",
    "X_train = my_imputer.fit_transform(X_train)\n",
    "X_test = my_imputer.transform(X_test)\n",
    "\n",
    "# Do XGboost\n",
    "my_model.fit(X_train, Y_train, verbose=False)\n",
    "print(my_model)\n",
    "# Make predictions on the test set.\n",
    "print(\"Mean absolute error is {0}\".format(get_mean_absolute_error_model(my_model, X_test, Y_test)))\n"
   ]
  },
  {
   "cell_type": "markdown",
   "metadata": {},
   "source": [
    "Write the same code using pipeline !"
   ]
  },
  {
   "cell_type": "code",
   "execution_count": 200,
   "metadata": {},
   "outputs": [
    {
     "name": "stdout",
     "output_type": "stream",
     "text": [
      "XGBRegressor(base_score=0.5, booster='gbtree', colsample_bylevel=1,\n",
      "       colsample_bytree=1, gamma=0, learning_rate=0.01, max_delta_step=0,\n",
      "       max_depth=3, min_child_weight=1, missing=None, n_estimators=1000,\n",
      "       n_jobs=1, nthread=None, objective='reg:linear', random_state=0,\n",
      "       reg_alpha=0, reg_lambda=1, scale_pos_weight=1, seed=None,\n",
      "       silent=True, subsample=1)\n",
      "Mean absolute error is 17165.850770547946\n"
     ]
    }
   ],
   "source": [
    "##\n",
    "# Get X and Y in one go.\n",
    "from sklearn.pipeline import make_pipeline\n",
    "Y = data.SalePrice\n",
    "X = data.drop(columns=['SalePrice']).select_dtypes(exclude='object')\n",
    "\n",
    "# Do imputation on relevant columns.\n",
    "\n",
    "X_train, X_test, Y_train, Y_test = train_test_split(X, Y, random_state=0)\n",
    "my_pipeline = make_pipeline(Imputer(), XGBRegressor(random_state=0))\n",
    "my_pipeline.fit(X_train, Y_train) \n",
    "predictions = my_pipeline.predict(X_test)\n",
    "print(my_model)\n",
    "# Make predictions on the test set.\n",
    "print(\"Mean absolute error is {0}\".format(mean_absolute_error(predictions, Y_test)))\n"
   ]
  },
  {
   "cell_type": "markdown",
   "metadata": {},
   "source": [
    "Use cross validation in the above example !"
   ]
  },
  {
   "cell_type": "code",
   "execution_count": 207,
   "metadata": {},
   "outputs": [],
   "source": [
    "from sklearn.model_selection import cross_val_score"
   ]
  },
  {
   "cell_type": "code",
   "execution_count": 209,
   "metadata": {},
   "outputs": [
    {
     "name": "stdout",
     "output_type": "stream",
     "text": [
      "16723.04924511493\n"
     ]
    }
   ],
   "source": [
    "cross_val_score_val = cross_val_score(my_pipeline, X, Y, scoring='neg_mean_absolute_error').mean()\n",
    "print((-1)* float(cross_val_score_val))"
   ]
  },
  {
   "cell_type": "code",
   "execution_count": 185,
   "metadata": {
    "_uuid": "e5b15642f45b1fb068915f33655374bf093998eb"
   },
   "outputs": [
    {
     "name": "stdout",
     "output_type": "stream",
     "text": [
      "Index(['Id', 'MSSubClass', 'LotFrontage', 'LotArea', 'OverallQual',\n",
      "       'OverallCond', 'YearBuilt', 'YearRemodAdd', 'MasVnrArea', 'BsmtFinSF1',\n",
      "       'BsmtFinSF2', 'BsmtUnfSF', 'TotalBsmtSF', '1stFlrSF', '2ndFlrSF',\n",
      "       'LowQualFinSF', 'GrLivArea', 'BsmtFullBath', 'BsmtHalfBath', 'FullBath',\n",
      "       'HalfBath', 'BedroomAbvGr', 'KitchenAbvGr', 'TotRmsAbvGrd',\n",
      "       'Fireplaces', 'GarageYrBlt', 'GarageCars', 'GarageArea', 'WoodDeckSF',\n",
      "       'OpenPorchSF', 'EnclosedPorch', '3SsnPorch', 'ScreenPorch', 'PoolArea',\n",
      "       'MiscVal', 'MoSold', 'YrSold'],\n",
      "      dtype='object')\n",
      "Mean absolute error is 17165.850770547946\n",
      "Mean absolute error is 17263.93895547945\n",
      "31589.203125 79 80\n",
      "Mean absolute error is 16873.277803938356\n",
      "30276.871094 303 304\n",
      "Mean absolute error is 17178.245408818493\n",
      "30898.15625 609 610\n",
      "Mean absolute error is 17286.034053938358\n",
      "30827.982422 999 1000\n"
     ]
    }
   ],
   "source": [
    "# Get X and Y in one go.\n",
    "Y = data.SalePrice\n",
    "X = data.drop(columns=['SalePrice']).select_dtypes(exclude='object')\n",
    "\n",
    "# Do imputation on relevant columns.\n",
    "my_imputer = Imputer()\n",
    "X_train, X_test, Y_train, Y_test = train_test_split(X, Y, random_state=0)\n",
    "\n",
    "X_train = my_imputer.fit_transform(X_train)\n",
    "X_test = my_imputer.transform(X_test)\n",
    "\n",
    "# Do XGboost\n",
    "from xgboost import XGBRegressor\n",
    "my_model = XGBRegressor(random_state=0)\n",
    "my_model.fit(X_train, Y_train, verbose=False)\n",
    "\n",
    "# Make predictions on the test set.\n",
    "print(\"Mean absolute error is {0}\".format(get_mean_absolute_error_model(my_model, X_test, Y_test)))\n",
    "\n",
    "# Modify number of estimators and stopping rounds number.\n",
    "my_model = XGBRegressor(n_estimators=100, random_state=0)\n",
    "my_model.fit(X_train, Y_train, early_stopping_rounds=5,eval_set=[(X_test, Y_test)], verbose=False)\n",
    "# Make predictions on the test set.\n",
    "print(\"Mean absolute error is {0}\".format(get_mean_absolute_error_model(my_model, X_test, Y_test)))\n",
    "print(my_model.best_score, my_model.best_iteration, my_model.best_ntree_limit)\n",
    "# Modify number of estimators and stopping rounds number.\n",
    "my_model = XGBRegressor(n_estimators=1000, learning_rate=0.05, random_state=0)\n",
    "my_model.fit(X_train, Y_train, early_stopping_rounds=10,eval_set=[(X_test, Y_test)], verbose=False)\n",
    "\n",
    "# Make predictions on the test set.\n",
    "print(\"Mean absolute error is {0}\".format(get_mean_absolute_error_model(my_model, X_test, Y_test)))\n",
    "print(my_model.best_score, my_model.best_iteration, my_model.best_ntree_limit)\n",
    "\n",
    "\n",
    "\n",
    "my_model = XGBRegressor(n_estimators=1000, learning_rate=0.02, random_state=0)\n",
    "my_model.fit(X_train, Y_train, early_stopping_rounds=10,eval_set=[(X_test, Y_test)], verbose=False)\n",
    "\n",
    "# Make predictions on the test set. \n",
    "print(\"Mean absolute error is {0}\".format(get_mean_absolute_error_model(my_model, X_test, Y_test)))\n",
    "print(my_model.best_score, my_model.best_iteration, my_model.best_ntree_limit)\n",
    "\n",
    "my_model = XGBRegressor(n_estimators=1000, learning_rate=0.01, random_state=0)\n",
    "my_model.fit(X_train, Y_train, early_stopping_rounds=10,eval_set=[(X_test, Y_test)], verbose=False)\n",
    "\n",
    "# Make predictions on the test set.\n",
    "print(\"Mean absolute error is {0}\".format(get_mean_absolute_error_model(my_model, X_test, Y_test)))\n",
    "print(my_model.best_score, my_model.best_iteration, my_model.best_ntree_limit)\n"
   ]
  },
  {
   "cell_type": "code",
   "execution_count": 168,
   "metadata": {},
   "outputs": [
    {
     "name": "stdout",
     "output_type": "stream",
     "text": [
      "Mean absolute error is 16873.277803938356\n"
     ]
    }
   ],
   "source": [
    "my_model = XGBRegressor(n_estimators=314, learning_rate=0.05, random_state=0)\n",
    "my_model.fit(X_train, Y_train)\n",
    "\n",
    "print(\"Mean absolute error is {0}\".format(get_mean_absolute_error_model(my_model, X_test, Y_test)))"
   ]
  },
  {
   "cell_type": "markdown",
   "metadata": {},
   "source": [
    "Check out partial dependence plots "
   ]
  },
  {
   "cell_type": "code",
   "execution_count": 169,
   "metadata": {},
   "outputs": [],
   "source": [
    "from sklearn.ensemble.partial_dependence import partial_dependence,plot_partial_dependence"
   ]
  },
  {
   "cell_type": "code",
   "execution_count": 170,
   "metadata": {},
   "outputs": [
    {
     "data": {
      "text/plain": [
       "Index(['Id', 'MSSubClass', 'LotFrontage', 'LotArea', 'OverallQual',\n",
       "       'OverallCond', 'YearBuilt', 'YearRemodAdd', 'MasVnrArea', 'BsmtFinSF1',\n",
       "       'BsmtFinSF2', 'BsmtUnfSF', 'TotalBsmtSF', '1stFlrSF', '2ndFlrSF',\n",
       "       'LowQualFinSF', 'GrLivArea', 'BsmtFullBath', 'BsmtHalfBath', 'FullBath',\n",
       "       'HalfBath', 'BedroomAbvGr', 'KitchenAbvGr', 'TotRmsAbvGrd',\n",
       "       'Fireplaces', 'GarageYrBlt', 'GarageCars', 'GarageArea', 'WoodDeckSF',\n",
       "       'OpenPorchSF', 'EnclosedPorch', '3SsnPorch', 'ScreenPorch', 'PoolArea',\n",
       "       'MiscVal', 'MoSold', 'YrSold'],\n",
       "      dtype='object')"
      ]
     },
     "execution_count": 170,
     "metadata": {},
     "output_type": "execute_result"
    }
   ],
   "source": [
    "X.columns"
   ]
  },
  {
   "cell_type": "code",
   "execution_count": 173,
   "metadata": {},
   "outputs": [
    {
     "data": {
      "text/plain": [
       "XGBRegressor(base_score=0.5, booster='gbtree', colsample_bylevel=1,\n",
       "       colsample_bytree=1, gamma=0, learning_rate=0.05, max_delta_step=0,\n",
       "       max_depth=3, min_child_weight=1, missing=None, n_estimators=314,\n",
       "       n_jobs=1, nthread=None, objective='reg:linear', random_state=0,\n",
       "       reg_alpha=0, reg_lambda=1, scale_pos_weight=1, seed=None,\n",
       "       silent=True, subsample=1)"
      ]
     },
     "execution_count": 173,
     "metadata": {},
     "output_type": "execute_result"
    }
   ],
   "source": [
    "my_model"
   ]
  },
  {
   "cell_type": "code",
   "execution_count": 172,
   "metadata": {},
   "outputs": [],
   "source": [
    "from sklearn.ensemble import GradientBoostingRegressor"
   ]
  },
  {
   "cell_type": "code",
   "execution_count": 174,
   "metadata": {},
   "outputs": [],
   "source": [
    "clf = GradientBoostingRegressor(n_estimators=314,\n",
    "                                learning_rate=0.05,\n",
    "                                random_state=0)"
   ]
  },
  {
   "cell_type": "code",
   "execution_count": 176,
   "metadata": {},
   "outputs": [
    {
     "name": "stdout",
     "output_type": "stream",
     "text": [
      "Mean absolute error is 16782.98371137917\n"
     ]
    }
   ],
   "source": [
    "clf.fit(X_train, Y_train)\n",
    "print(\"Mean absolute error is {0}\".format(get_mean_absolute_error_model(clf, X_test, Y_test)))"
   ]
  },
  {
   "cell_type": "code",
   "execution_count": 182,
   "metadata": {},
   "outputs": [
    {
     "data": {
      "text/plain": [
       "count    1201.000000\n",
       "mean       70.049958\n",
       "std        24.284752\n",
       "min        21.000000\n",
       "25%        59.000000\n",
       "50%        69.000000\n",
       "75%        80.000000\n",
       "max       313.000000\n",
       "Name: LotFrontage, dtype: float64"
      ]
     },
     "execution_count": 182,
     "metadata": {},
     "output_type": "execute_result"
    }
   ],
   "source": [
    "X['LotFrontage'].describe()"
   ]
  },
  {
   "cell_type": "code",
   "execution_count": 197,
   "metadata": {},
   "outputs": [
    {
     "data": {
      "text/plain": [
       "[27]"
      ]
     },
     "execution_count": 197,
     "metadata": {},
     "output_type": "execute_result"
    }
   ],
   "source": [
    "indices = [i for i in range(len(X.columns)) if X.columns[i] == 'GarageArea']\n",
    "indices"
   ]
  },
  {
   "cell_type": "code",
   "execution_count": 198,
   "metadata": {},
   "outputs": [
    {
     "data": {
      "image/png": "[encoded data removed]",
      "text/plain": [
       "<matplotlib.figure.Figure at 0x1a21df1b00>"
      ]
     },
     "metadata": {},
     "output_type": "display_data"
    }
   ],
   "source": [
    "my_plots = plot_partial_dependence(clf,\n",
    "                                   features=[3, 16, 27],\n",
    "                                   X=X_train,\n",
    "                                   feature_names=X.columns,\n",
    "                                   grid_resolution=10\n",
    "                                  )"
   ]
  },
  {
   "cell_type": "markdown",
   "metadata": {
    "_cell_guid": "06a2e301-f224-40d0-8709-a942b24cd124",
    "_uuid": "64fde43ae8511da761549c42f24eccb5d1039271"
   },
   "source": [
    " \n",
    "**If you have any questions or hit any problems, come to the [Learn Discussion](https://www.kaggle.com/learn-forum) for help. **\n",
    "\n",
    "**Return to [ML Course Index](https://www.kaggle.com/learn/machine-learning)**"
   ]
  }
 ],
 "metadata": {
  "kernelspec": {
   "display_name": "Python 3",
   "language": "python",
   "name": "python3"
  },
  "language_info": {
   "codemirror_mode": {
    "name": "ipython",
    "version": 3
   },
   "file_extension": ".py",
   "mimetype": "text/x-python",
   "name": "python",
   "nbconvert_exporter": "python",
   "pygments_lexer": "ipython3",
   "version": "3.6.4"
  }
 },
 "nbformat": 4,
 "nbformat_minor": 1
}
