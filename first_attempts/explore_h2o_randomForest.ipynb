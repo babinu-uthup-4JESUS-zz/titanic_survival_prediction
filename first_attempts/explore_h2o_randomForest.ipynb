{
 "cells": [
  {
   "cell_type": "markdown",
   "metadata": {},
   "source": [
    "\n",
    "# Basic Overview\n",
    "The objective is to explore h2o package in python and see how we can make randomForest models using the same.\n",
    "\n",
    "Comments/criticisms/appreciations are greatly accepted and appreciated. Do not be shy and send me an email at babinu@gmail.com !\n",
    "\n",
    "Source of data : https://www.kaggle.com/c/titanic/data"
   ]
  },
  {
   "cell_type": "markdown",
   "metadata": {},
   "source": [
    "### A note about randoForest and h2o\n",
    "\n",
    "This is more of binary classification problem and hence random forest appears to be a natural first choice.\n",
    "\n",
    "However, we cannot yet use categorical predictors correctly in scikit learn (https://github.com/scikit-learn/scikit-learn/pull/4899) and hence we use another package named h2o to do the same(http://docs.h2o.ai/h2o/latest-stable/h2o-py/docs/intro.html)\n",
    "\n",
    "A more detailed description can be seen here : https://roamanalytics.com/2016/10/28/are-categorical-variables-getting-lost-in-your-random-forests/"
   ]
  },
  {
   "cell_type": "code",
   "execution_count": 1,
   "metadata": {},
   "outputs": [],
   "source": [
    "import pandas as pd\n",
    "import numpy as np"
   ]
  },
  {
   "cell_type": "code",
   "execution_count": 2,
   "metadata": {},
   "outputs": [],
   "source": [
    "train_data = pd.read_csv(\"../train.csv\")\n",
    "test_data = pd.read_csv(\"../test.csv\")"
   ]
  },
  {
   "cell_type": "code",
   "execution_count": 3,
   "metadata": {},
   "outputs": [
    {
     "data": {
      "text/plain": [
       "891"
      ]
     },
     "execution_count": 3,
     "metadata": {},
     "output_type": "execute_result"
    }
   ],
   "source": [
    "len(train_data)"
   ]
  },
  {
   "cell_type": "code",
   "execution_count": 4,
   "metadata": {},
   "outputs": [],
   "source": [
    "train_data['Predictions'] = -1"
   ]
  },
  {
   "cell_type": "code",
   "execution_count": 5,
   "metadata": {},
   "outputs": [
    {
     "name": "stdout",
     "output_type": "stream",
     "text": [
      "Checking whether there is an H2O instance running at http://localhost:54321. connected.\n",
      "Warning: Your H2O cluster version is too old (3 months and 20 days)! Please download and install the latest version from http://h2o.ai/download/\n"
     ]
    },
    {
     "data": {
      "text/html": [
       "<div style=\"overflow:auto\"><table style=\"width:50%\"><tr><td>H2O cluster uptime:</td>\n",
       "<td>3 days 23 hours 18 mins</td></tr>\n",
       "<tr><td>H2O cluster timezone:</td>\n",
       "<td>America/New_York</td></tr>\n",
       "<tr><td>H2O data parsing timezone:</td>\n",
       "<td>UTC</td></tr>\n",
       "<tr><td>H2O cluster version:</td>\n",
       "<td>3.18.0.2</td></tr>\n",
       "<tr><td>H2O cluster version age:</td>\n",
       "<td>3 months and 20 days !!!</td></tr>\n",
       "<tr><td>H2O cluster name:</td>\n",
       "<td>H2O_from_python_babs4JESUS_c6btew</td></tr>\n",
       "<tr><td>H2O cluster total nodes:</td>\n",
       "<td>1</td></tr>\n",
       "<tr><td>H2O cluster free memory:</td>\n",
       "<td>6.770 Gb</td></tr>\n",
       "<tr><td>H2O cluster total cores:</td>\n",
       "<td>8</td></tr>\n",
       "<tr><td>H2O cluster allowed cores:</td>\n",
       "<td>8</td></tr>\n",
       "<tr><td>H2O cluster status:</td>\n",
       "<td>locked, healthy</td></tr>\n",
       "<tr><td>H2O connection url:</td>\n",
       "<td>http://localhost:54321</td></tr>\n",
       "<tr><td>H2O connection proxy:</td>\n",
       "<td>None</td></tr>\n",
       "<tr><td>H2O internal security:</td>\n",
       "<td>False</td></tr>\n",
       "<tr><td>H2O API Extensions:</td>\n",
       "<td>XGBoost, Algos, AutoML, Core V3, Core V4</td></tr>\n",
       "<tr><td>Python version:</td>\n",
       "<td>3.6.4 final</td></tr></table></div>"
      ],
      "text/plain": [
       "--------------------------  ----------------------------------------\n",
       "H2O cluster uptime:         3 days 23 hours 18 mins\n",
       "H2O cluster timezone:       America/New_York\n",
       "H2O data parsing timezone:  UTC\n",
       "H2O cluster version:        3.18.0.2\n",
       "H2O cluster version age:    3 months and 20 days !!!\n",
       "H2O cluster name:           H2O_from_python_babs4JESUS_c6btew\n",
       "H2O cluster total nodes:    1\n",
       "H2O cluster free memory:    6.770 Gb\n",
       "H2O cluster total cores:    8\n",
       "H2O cluster allowed cores:  8\n",
       "H2O cluster status:         locked, healthy\n",
       "H2O connection url:         http://localhost:54321\n",
       "H2O connection proxy:\n",
       "H2O internal security:      False\n",
       "H2O API Extensions:         XGBoost, Algos, AutoML, Core V3, Core V4\n",
       "Python version:             3.6.4 final\n",
       "--------------------------  ----------------------------------------"
      ]
     },
     "metadata": {},
     "output_type": "display_data"
    }
   ],
   "source": [
    "# Using h2o\n",
    "import h2o\n",
    "h2o.init(nthreads = -1, max_mem_size = 8)"
   ]
  },
  {
   "cell_type": "code",
   "execution_count": 6,
   "metadata": {},
   "outputs": [],
   "source": [
    "def get_h2o_frame_with_rel_factors_test(clean_training_data_v3):\n",
    "    clean_h2o_data = h2o.H2OFrame(clean_training_data_v3)    \n",
    "    clean_h2o_data['Sex'] = clean_h2o_data['Sex'].asfactor()\n",
    "    clean_h2o_data['Pclass'] = clean_h2o_data['Pclass'].asfactor()\n",
    "    return clean_h2o_data"
   ]
  },
  {
   "cell_type": "code",
   "execution_count": 7,
   "metadata": {},
   "outputs": [],
   "source": [
    "def get_h2o_frame_with_rel_factors(clean_training_data_v3):\n",
    "    \n",
    "    clean_h2o_data = get_h2o_frame_with_rel_factors_test(clean_training_data_v3)\n",
    "    clean_h2o_data['Survived'] = clean_h2o_data['Survived'].asfactor()\n",
    "    return clean_h2o_data"
   ]
  },
  {
   "cell_type": "code",
   "execution_count": 8,
   "metadata": {},
   "outputs": [
    {
     "name": "stdout",
     "output_type": "stream",
     "text": [
      "Parse progress: |█████████████████████████████████████████████████████████| 100%\n",
      "Parse progress: |█████████████████████████████████████████████████████████| 100%\n"
     ]
    }
   ],
   "source": [
    "train_data_h2o = get_h2o_frame_with_rel_factors(train_data)\n",
    "test_data_h2o = get_h2o_frame_with_rel_factors_test(test_data)"
   ]
  },
  {
   "cell_type": "code",
   "execution_count": 9,
   "metadata": {},
   "outputs": [],
   "source": [
    "# Split to 70% training, 15% validation and 15% for test. Seed set to fixed value to ensure reproducibility.\n",
    "splits = train_data_h2o.split_frame(ratios=[0.75], seed=1)  \n",
    "\n",
    "train_validation = splits[0]\n",
    "test = splits[1]"
   ]
  },
  {
   "cell_type": "code",
   "execution_count": 10,
   "metadata": {},
   "outputs": [],
   "source": [
    "y_column = 'Survived'\n",
    "x_columns = 'Sex'"
   ]
  },
  {
   "cell_type": "code",
   "execution_count": 11,
   "metadata": {},
   "outputs": [],
   "source": [
    "# Import H2O RF:\n",
    "from h2o.estimators.random_forest import H2ORandomForestEstimator\n"
   ]
  },
  {
   "cell_type": "code",
   "execution_count": 12,
   "metadata": {},
   "outputs": [
    {
     "name": "stdout",
     "output_type": "stream",
     "text": [
      "drf Model Build progress: |███████████████████████████████████████████████| 100%\n"
     ]
    }
   ],
   "source": [
    "# Do a 10 fold cross validation as that is done typically.\n",
    "rf_fit_cross_val = H2ORandomForestEstimator(model_id='rf_fit_cross_val', seed=1, nfolds=10)\n",
    "rf_fit_cross_val.train(x=x_columns, y=y_column, \n",
    "                       training_frame=train_validation)\n"
   ]
  },
  {
   "cell_type": "markdown",
   "metadata": {},
   "source": [
    "### Getting useful metrics.\n",
    "Now, we will see as to how to extract useful metrics from this cross validated model object."
   ]
  },
  {
   "cell_type": "code",
   "execution_count": 13,
   "metadata": {},
   "outputs": [
    {
     "name": "stdout",
     "output_type": "stream",
     "text": [
      "Cross validated auc () is  0.7286\n",
      "AUC ()  obtained directly from training data is  0.7646\n"
     ]
    }
   ],
   "source": [
    "# Cross validated auc(). Details can be found here : \n",
    "# http://docs.h2o.ai/h2o/latest-stable/h2o-docs/cross-validation.html\n",
    "print(\"Cross validated auc () is \", format(rf_fit_cross_val.auc(xval=True), '0.4f'))\n",
    "\n",
    "# AUC() directly obtained from training data\n",
    "print(\"AUC ()  obtained directly from training data is \", format(rf_fit_cross_val.auc(), '0.4f'))\n"
   ]
  },
  {
   "cell_type": "markdown",
   "metadata": {},
   "source": [
    "### Dissecting AUC\n",
    "\n",
    "What exactly is this AUC() and how do we interpret this result ?"
   ]
  },
  {
   "cell_type": "markdown",
   "metadata": {},
   "source": [
    "A detailed explanation can be found in https://stats.stackexchange.com/questions/145566/how-to-calculate-area-under-the-curve-auc-or-the-c-statistic-by-hand.\n",
    "\n",
    "For now, I will explaining as to how we got the computed value by doing a paralled computation by hand."
   ]
  },
  {
   "cell_type": "code",
   "execution_count": 14,
   "metadata": {
    "scrolled": false
   },
   "outputs": [
    {
     "name": "stdout",
     "output_type": "stream",
     "text": [
      "Model Details\n",
      "=============\n",
      "H2ORandomForestEstimator :  Distributed Random Forest\n",
      "Model Key:  rf_fit_cross_val\n",
      "\n",
      "\n",
      "ModelMetricsBinomial: drf\n",
      "** Reported on train data. **\n",
      "\n",
      "MSE: 0.1631173476185785\n",
      "RMSE: 0.4038778870136102\n",
      "LogLoss: 0.5065569105131861\n",
      "Mean Per-Class Error: 0.2316714975845411\n",
      "AUC: 0.7645845410628019\n",
      "Gini: 0.5291690821256039\n",
      "Confusion Matrix (Act/Pred) for max f1 @ threshold = 0.7393161333524264: \n"
     ]
    },
    {
     "data": {
      "text/html": [
       "<div style=\"overflow:auto\"><table style=\"width:50%\"><tr><td><b></b></td>\n",
       "<td><b>0</b></td>\n",
       "<td><b>1</b></td>\n",
       "<td><b>Error</b></td>\n",
       "<td><b>Rate</b></td></tr>\n",
       "<tr><td>0</td>\n",
       "<td>353.0</td>\n",
       "<td>61.0</td>\n",
       "<td>0.1473</td>\n",
       "<td> (61.0/414.0)</td></tr>\n",
       "<tr><td>1</td>\n",
       "<td>79.0</td>\n",
       "<td>171.0</td>\n",
       "<td>0.316</td>\n",
       "<td> (79.0/250.0)</td></tr>\n",
       "<tr><td>Total</td>\n",
       "<td>432.0</td>\n",
       "<td>232.0</td>\n",
       "<td>0.2108</td>\n",
       "<td> (140.0/664.0)</td></tr></table></div>"
      ],
      "text/plain": [
       "       0    1    Error    Rate\n",
       "-----  ---  ---  -------  -------------\n",
       "0      353  61   0.1473   (61.0/414.0)\n",
       "1      79   171  0.316    (79.0/250.0)\n",
       "Total  432  232  0.2108   (140.0/664.0)"
      ]
     },
     "metadata": {},
     "output_type": "display_data"
    },
    {
     "name": "stdout",
     "output_type": "stream",
     "text": [
      "Maximum Metrics: Maximum metrics at their respective thresholds\n",
      "\n"
     ]
    },
    {
     "data": {
      "text/html": [
       "<div style=\"overflow:auto\"><table style=\"width:50%\"><tr><td><b>metric</b></td>\n",
       "<td><b>threshold</b></td>\n",
       "<td><b>value</b></td>\n",
       "<td><b>idx</b></td></tr>\n",
       "<tr><td>max f1</td>\n",
       "<td>0.7393161</td>\n",
       "<td>0.7148760</td>\n",
       "<td>11.0</td></tr>\n",
       "<tr><td>max f2</td>\n",
       "<td>0.1790696</td>\n",
       "<td>0.7512019</td>\n",
       "<td>27.0</td></tr>\n",
       "<tr><td>max f0point5</td>\n",
       "<td>0.7393161</td>\n",
       "<td>0.7293423</td>\n",
       "<td>11.0</td></tr>\n",
       "<tr><td>max accuracy</td>\n",
       "<td>0.7393161</td>\n",
       "<td>0.7921687</td>\n",
       "<td>11.0</td></tr>\n",
       "<tr><td>max precision</td>\n",
       "<td>0.7393162</td>\n",
       "<td>0.7582418</td>\n",
       "<td>1.0</td></tr>\n",
       "<tr><td>max recall</td>\n",
       "<td>0.1790696</td>\n",
       "<td>1.0</td>\n",
       "<td>27.0</td></tr>\n",
       "<tr><td>max specificity</td>\n",
       "<td>0.7393162</td>\n",
       "<td>0.9589372</td>\n",
       "<td>0.0</td></tr>\n",
       "<tr><td>max absolute_mcc</td>\n",
       "<td>0.7393161</td>\n",
       "<td>0.5523967</td>\n",
       "<td>11.0</td></tr>\n",
       "<tr><td>max min_per_class_accuracy</td>\n",
       "<td>0.1790696</td>\n",
       "<td>0.72</td>\n",
       "<td>14.0</td></tr>\n",
       "<tr><td>max mean_per_class_accuracy</td>\n",
       "<td>0.7393161</td>\n",
       "<td>0.7723285</td>\n",
       "<td>11.0</td></tr></table></div>"
      ],
      "text/plain": [
       "metric                       threshold    value     idx\n",
       "---------------------------  -----------  --------  -----\n",
       "max f1                       0.739316     0.714876  11\n",
       "max f2                       0.17907      0.751202  27\n",
       "max f0point5                 0.739316     0.729342  11\n",
       "max accuracy                 0.739316     0.792169  11\n",
       "max precision                0.739316     0.758242  1\n",
       "max recall                   0.17907      1         27\n",
       "max specificity              0.739316     0.958937  0\n",
       "max absolute_mcc             0.739316     0.552397  11\n",
       "max min_per_class_accuracy   0.17907      0.72      14\n",
       "max mean_per_class_accuracy  0.739316     0.772329  11"
      ]
     },
     "metadata": {},
     "output_type": "display_data"
    },
    {
     "name": "stdout",
     "output_type": "stream",
     "text": [
      "Gains/Lift Table: Avg response rate: 37.65 %\n",
      "\n"
     ]
    },
    {
     "data": {
      "text/html": [
       "<div style=\"overflow:auto\"><table style=\"width:50%\"><tr><td><b></b></td>\n",
       "<td><b>group</b></td>\n",
       "<td><b>cumulative_data_fraction</b></td>\n",
       "<td><b>lower_threshold</b></td>\n",
       "<td><b>lift</b></td>\n",
       "<td><b>cumulative_lift</b></td>\n",
       "<td><b>response_rate</b></td>\n",
       "<td><b>cumulative_response_rate</b></td>\n",
       "<td><b>capture_rate</b></td>\n",
       "<td><b>cumulative_capture_rate</b></td>\n",
       "<td><b>gain</b></td>\n",
       "<td><b>cumulative_gain</b></td></tr>\n",
       "<tr><td></td>\n",
       "<td>1</td>\n",
       "<td>0.0978916</td>\n",
       "<td>0.7393162</td>\n",
       "<td>1.9613538</td>\n",
       "<td>1.9613538</td>\n",
       "<td>0.7384615</td>\n",
       "<td>0.7384615</td>\n",
       "<td>0.192</td>\n",
       "<td>0.192</td>\n",
       "<td>96.1353846</td>\n",
       "<td>96.1353846</td></tr>\n",
       "<tr><td></td>\n",
       "<td>2</td>\n",
       "<td>0.1370482</td>\n",
       "<td>0.7393162</td>\n",
       "<td>2.1452308</td>\n",
       "<td>2.0138901</td>\n",
       "<td>0.8076923</td>\n",
       "<td>0.7582418</td>\n",
       "<td>0.084</td>\n",
       "<td>0.276</td>\n",
       "<td>114.5230769</td>\n",
       "<td>101.3890110</td></tr>\n",
       "<tr><td></td>\n",
       "<td>3</td>\n",
       "<td>0.1686747</td>\n",
       "<td>0.7393162</td>\n",
       "<td>1.7706667</td>\n",
       "<td>1.9682857</td>\n",
       "<td>0.6666667</td>\n",
       "<td>0.7410714</td>\n",
       "<td>0.056</td>\n",
       "<td>0.332</td>\n",
       "<td>77.0666667</td>\n",
       "<td>96.8285714</td></tr>\n",
       "<tr><td></td>\n",
       "<td>4</td>\n",
       "<td>0.2153614</td>\n",
       "<td>0.7393162</td>\n",
       "<td>1.9705806</td>\n",
       "<td>1.9687832</td>\n",
       "<td>0.7419355</td>\n",
       "<td>0.7412587</td>\n",
       "<td>0.092</td>\n",
       "<td>0.424</td>\n",
       "<td>97.0580645</td>\n",
       "<td>96.8783217</td></tr>\n",
       "<tr><td></td>\n",
       "<td>5</td>\n",
       "<td>0.3072289</td>\n",
       "<td>0.7393162</td>\n",
       "<td>1.9158033</td>\n",
       "<td>1.9529412</td>\n",
       "<td>0.7213115</td>\n",
       "<td>0.7352941</td>\n",
       "<td>0.176</td>\n",
       "<td>0.6</td>\n",
       "<td>91.5803279</td>\n",
       "<td>95.2941176</td></tr>\n",
       "<tr><td></td>\n",
       "<td>6</td>\n",
       "<td>0.4277108</td>\n",
       "<td>0.1790696</td>\n",
       "<td>0.996</td>\n",
       "<td>1.6833803</td>\n",
       "<td>0.375</td>\n",
       "<td>0.6338028</td>\n",
       "<td>0.12</td>\n",
       "<td>0.72</td>\n",
       "<td>-0.4000000</td>\n",
       "<td>68.3380282</td></tr>\n",
       "<tr><td></td>\n",
       "<td>7</td>\n",
       "<td>0.5376506</td>\n",
       "<td>0.1790696</td>\n",
       "<td>0.3638356</td>\n",
       "<td>1.4135574</td>\n",
       "<td>0.1369863</td>\n",
       "<td>0.5322129</td>\n",
       "<td>0.04</td>\n",
       "<td>0.76</td>\n",
       "<td>-63.6164384</td>\n",
       "<td>41.3557423</td></tr>\n",
       "<tr><td></td>\n",
       "<td>8</td>\n",
       "<td>0.5993976</td>\n",
       "<td>0.1790696</td>\n",
       "<td>0.6478049</td>\n",
       "<td>1.3346734</td>\n",
       "<td>0.2439024</td>\n",
       "<td>0.5025126</td>\n",
       "<td>0.04</td>\n",
       "<td>0.8</td>\n",
       "<td>-35.2195122</td>\n",
       "<td>33.4673367</td></tr>\n",
       "<tr><td></td>\n",
       "<td>9</td>\n",
       "<td>0.7018072</td>\n",
       "<td>0.1790696</td>\n",
       "<td>0.5077647</td>\n",
       "<td>1.2140086</td>\n",
       "<td>0.1911765</td>\n",
       "<td>0.4570815</td>\n",
       "<td>0.052</td>\n",
       "<td>0.852</td>\n",
       "<td>-49.2235294</td>\n",
       "<td>21.4008584</td></tr>\n",
       "<tr><td></td>\n",
       "<td>10</td>\n",
       "<td>0.8433735</td>\n",
       "<td>0.1790696</td>\n",
       "<td>0.4803404</td>\n",
       "<td>1.0908571</td>\n",
       "<td>0.1808511</td>\n",
       "<td>0.4107143</td>\n",
       "<td>0.068</td>\n",
       "<td>0.92</td>\n",
       "<td>-51.9659574</td>\n",
       "<td>9.0857143</td></tr>\n",
       "<tr><td></td>\n",
       "<td>11</td>\n",
       "<td>0.9171687</td>\n",
       "<td>0.1790696</td>\n",
       "<td>0.4878367</td>\n",
       "<td>1.0423383</td>\n",
       "<td>0.1836735</td>\n",
       "<td>0.3924466</td>\n",
       "<td>0.036</td>\n",
       "<td>0.956</td>\n",
       "<td>-51.2163265</td>\n",
       "<td>4.2338259</td></tr>\n",
       "<tr><td></td>\n",
       "<td>12</td>\n",
       "<td>1.0</td>\n",
       "<td>0.1790696</td>\n",
       "<td>0.5312</td>\n",
       "<td>1.0</td>\n",
       "<td>0.2</td>\n",
       "<td>0.3765060</td>\n",
       "<td>0.044</td>\n",
       "<td>1.0</td>\n",
       "<td>-46.88</td>\n",
       "<td>0.0</td></tr></table></div>"
      ],
      "text/plain": [
       "    group    cumulative_data_fraction    lower_threshold    lift      cumulative_lift    response_rate    cumulative_response_rate    capture_rate    cumulative_capture_rate    gain      cumulative_gain\n",
       "--  -------  --------------------------  -----------------  --------  -----------------  ---------------  --------------------------  --------------  -------------------------  --------  -----------------\n",
       "    1        0.0978916                   0.739316           1.96135   1.96135            0.738462         0.738462                    0.192           0.192                      96.1354   96.1354\n",
       "    2        0.137048                    0.739316           2.14523   2.01389            0.807692         0.758242                    0.084           0.276                      114.523   101.389\n",
       "    3        0.168675                    0.739316           1.77067   1.96829            0.666667         0.741071                    0.056           0.332                      77.0667   96.8286\n",
       "    4        0.215361                    0.739316           1.97058   1.96878            0.741935         0.741259                    0.092           0.424                      97.0581   96.8783\n",
       "    5        0.307229                    0.739316           1.9158    1.95294            0.721311         0.735294                    0.176           0.6                        91.5803   95.2941\n",
       "    6        0.427711                    0.17907            0.996     1.68338            0.375            0.633803                    0.12            0.72                       -0.4      68.338\n",
       "    7        0.537651                    0.17907            0.363836  1.41356            0.136986         0.532213                    0.04            0.76                       -63.6164  41.3557\n",
       "    8        0.599398                    0.17907            0.647805  1.33467            0.243902         0.502513                    0.04            0.8                        -35.2195  33.4673\n",
       "    9        0.701807                    0.17907            0.507765  1.21401            0.191176         0.457082                    0.052           0.852                      -49.2235  21.4009\n",
       "    10       0.843373                    0.17907            0.48034   1.09086            0.180851         0.410714                    0.068           0.92                       -51.966   9.08571\n",
       "    11       0.917169                    0.17907            0.487837  1.04234            0.183673         0.392447                    0.036           0.956                      -51.2163  4.23383\n",
       "    12       1                           0.17907            0.5312    1                  0.2              0.376506                    0.044           1                          -46.88    0"
      ]
     },
     "metadata": {},
     "output_type": "display_data"
    },
    {
     "name": "stdout",
     "output_type": "stream",
     "text": [
      "\n",
      "\n",
      "ModelMetricsBinomial: drf\n",
      "** Reported on cross-validation data. **\n",
      "\n",
      "MSE: 0.1643192354001771\n",
      "RMSE: 0.4053630908212748\n",
      "LogLoss: 0.510189193374565\n",
      "Mean Per-Class Error: 0.22767149758454108\n",
      "AUC: 0.7285507246376812\n",
      "Gini: 0.45710144927536245\n",
      "Confusion Matrix (Act/Pred) for max f1 @ threshold = 0.7156862616539001: \n"
     ]
    },
    {
     "data": {
      "text/html": [
       "<div style=\"overflow:auto\"><table style=\"width:50%\"><tr><td><b></b></td>\n",
       "<td><b>0</b></td>\n",
       "<td><b>1</b></td>\n",
       "<td><b>Error</b></td>\n",
       "<td><b>Rate</b></td></tr>\n",
       "<tr><td>0</td>\n",
       "<td>353.0</td>\n",
       "<td>61.0</td>\n",
       "<td>0.1473</td>\n",
       "<td> (61.0/414.0)</td></tr>\n",
       "<tr><td>1</td>\n",
       "<td>77.0</td>\n",
       "<td>173.0</td>\n",
       "<td>0.308</td>\n",
       "<td> (77.0/250.0)</td></tr>\n",
       "<tr><td>Total</td>\n",
       "<td>430.0</td>\n",
       "<td>234.0</td>\n",
       "<td>0.2078</td>\n",
       "<td> (138.0/664.0)</td></tr></table></div>"
      ],
      "text/plain": [
       "       0    1    Error    Rate\n",
       "-----  ---  ---  -------  -------------\n",
       "0      353  61   0.1473   (61.0/414.0)\n",
       "1      77   173  0.308    (77.0/250.0)\n",
       "Total  430  234  0.2078   (138.0/664.0)"
      ]
     },
     "metadata": {},
     "output_type": "display_data"
    },
    {
     "name": "stdout",
     "output_type": "stream",
     "text": [
      "Maximum Metrics: Maximum metrics at their respective thresholds\n",
      "\n"
     ]
    },
    {
     "data": {
      "text/html": [
       "<div style=\"overflow:auto\"><table style=\"width:50%\"><tr><td><b>metric</b></td>\n",
       "<td><b>threshold</b></td>\n",
       "<td><b>value</b></td>\n",
       "<td><b>idx</b></td></tr>\n",
       "<tr><td>max f1</td>\n",
       "<td>0.7156863</td>\n",
       "<td>0.7148760</td>\n",
       "<td>8.0</td></tr>\n",
       "<tr><td>max f2</td>\n",
       "<td>0.1666667</td>\n",
       "<td>0.7512019</td>\n",
       "<td>18.0</td></tr>\n",
       "<tr><td>max f0point5</td>\n",
       "<td>0.7156863</td>\n",
       "<td>0.7293423</td>\n",
       "<td>8.0</td></tr>\n",
       "<tr><td>max accuracy</td>\n",
       "<td>0.7156863</td>\n",
       "<td>0.7921687</td>\n",
       "<td>8.0</td></tr>\n",
       "<tr><td>max precision</td>\n",
       "<td>0.7156863</td>\n",
       "<td>0.7393162</td>\n",
       "<td>8.0</td></tr>\n",
       "<tr><td>max recall</td>\n",
       "<td>0.1666667</td>\n",
       "<td>1.0</td>\n",
       "<td>18.0</td></tr>\n",
       "<tr><td>max specificity</td>\n",
       "<td>0.75</td>\n",
       "<td>0.9830918</td>\n",
       "<td>0.0</td></tr>\n",
       "<tr><td>max absolute_mcc</td>\n",
       "<td>0.7156863</td>\n",
       "<td>0.5523967</td>\n",
       "<td>8.0</td></tr>\n",
       "<tr><td>max min_per_class_accuracy</td>\n",
       "<td>0.1883289</td>\n",
       "<td>0.716</td>\n",
       "<td>9.0</td></tr>\n",
       "<tr><td>max mean_per_class_accuracy</td>\n",
       "<td>0.7156863</td>\n",
       "<td>0.7723285</td>\n",
       "<td>8.0</td></tr></table></div>"
      ],
      "text/plain": [
       "metric                       threshold    value     idx\n",
       "---------------------------  -----------  --------  -----\n",
       "max f1                       0.715686     0.714876  8\n",
       "max f2                       0.166667     0.751202  18\n",
       "max f0point5                 0.715686     0.729342  8\n",
       "max accuracy                 0.715686     0.792169  8\n",
       "max precision                0.715686     0.739316  8\n",
       "max recall                   0.166667     1         18\n",
       "max specificity              0.75         0.983092  0\n",
       "max absolute_mcc             0.715686     0.552397  8\n",
       "max min_per_class_accuracy   0.188329     0.716     9\n",
       "max mean_per_class_accuracy  0.715686     0.772329  8"
      ]
     },
     "metadata": {},
     "output_type": "display_data"
    },
    {
     "name": "stdout",
     "output_type": "stream",
     "text": [
      "Gains/Lift Table: Avg response rate: 37.65 %\n",
      "\n"
     ]
    },
    {
     "data": {
      "text/html": [
       "<div style=\"overflow:auto\"><table style=\"width:50%\"><tr><td><b></b></td>\n",
       "<td><b>group</b></td>\n",
       "<td><b>cumulative_data_fraction</b></td>\n",
       "<td><b>lower_threshold</b></td>\n",
       "<td><b>lift</b></td>\n",
       "<td><b>cumulative_lift</b></td>\n",
       "<td><b>response_rate</b></td>\n",
       "<td><b>cumulative_response_rate</b></td>\n",
       "<td><b>capture_rate</b></td>\n",
       "<td><b>cumulative_capture_rate</b></td>\n",
       "<td><b>gain</b></td>\n",
       "<td><b>cumulative_gain</b></td></tr>\n",
       "<tr><td></td>\n",
       "<td>1</td>\n",
       "<td>0.0271084</td>\n",
       "<td>0.75</td>\n",
       "<td>1.6231111</td>\n",
       "<td>1.6231111</td>\n",
       "<td>0.6111111</td>\n",
       "<td>0.6111111</td>\n",
       "<td>0.044</td>\n",
       "<td>0.044</td>\n",
       "<td>62.3111111</td>\n",
       "<td>62.3111111</td></tr>\n",
       "<tr><td></td>\n",
       "<td>2</td>\n",
       "<td>0.0557229</td>\n",
       "<td>0.7488372</td>\n",
       "<td>1.6774737</td>\n",
       "<td>1.6510270</td>\n",
       "<td>0.6315789</td>\n",
       "<td>0.6216216</td>\n",
       "<td>0.048</td>\n",
       "<td>0.092</td>\n",
       "<td>67.7473684</td>\n",
       "<td>65.1027027</td></tr>\n",
       "<tr><td></td>\n",
       "<td>3</td>\n",
       "<td>0.1265060</td>\n",
       "<td>0.7414634</td>\n",
       "<td>1.8648511</td>\n",
       "<td>1.7706667</td>\n",
       "<td>0.7021277</td>\n",
       "<td>0.6666667</td>\n",
       "<td>0.132</td>\n",
       "<td>0.224</td>\n",
       "<td>86.4851064</td>\n",
       "<td>77.0666667</td></tr>\n",
       "<tr><td></td>\n",
       "<td>4</td>\n",
       "<td>0.2048193</td>\n",
       "<td>0.7403846</td>\n",
       "<td>1.9409231</td>\n",
       "<td>1.8357647</td>\n",
       "<td>0.7307692</td>\n",
       "<td>0.6911765</td>\n",
       "<td>0.152</td>\n",
       "<td>0.376</td>\n",
       "<td>94.0923077</td>\n",
       "<td>83.5764706</td></tr>\n",
       "<tr><td></td>\n",
       "<td>5</td>\n",
       "<td>0.3072289</td>\n",
       "<td>0.7348837</td>\n",
       "<td>2.0310588</td>\n",
       "<td>1.9008627</td>\n",
       "<td>0.7647059</td>\n",
       "<td>0.7156863</td>\n",
       "<td>0.208</td>\n",
       "<td>0.584</td>\n",
       "<td>103.1058824</td>\n",
       "<td>90.0862745</td></tr>\n",
       "<tr><td></td>\n",
       "<td>6</td>\n",
       "<td>0.4322289</td>\n",
       "<td>0.1883289</td>\n",
       "<td>1.056</td>\n",
       "<td>1.6565296</td>\n",
       "<td>0.3975904</td>\n",
       "<td>0.6236934</td>\n",
       "<td>0.132</td>\n",
       "<td>0.716</td>\n",
       "<td>5.6000000</td>\n",
       "<td>65.6529617</td></tr>\n",
       "<tr><td></td>\n",
       "<td>7</td>\n",
       "<td>0.5602410</td>\n",
       "<td>0.1855670</td>\n",
       "<td>0.3124706</td>\n",
       "<td>1.3494194</td>\n",
       "<td>0.1176471</td>\n",
       "<td>0.5080645</td>\n",
       "<td>0.04</td>\n",
       "<td>0.756</td>\n",
       "<td>-68.7529412</td>\n",
       "<td>34.9419355</td></tr>\n",
       "<tr><td></td>\n",
       "<td>8</td>\n",
       "<td>0.6204819</td>\n",
       "<td>0.1846154</td>\n",
       "<td>0.3320000</td>\n",
       "<td>1.2506408</td>\n",
       "<td>0.125</td>\n",
       "<td>0.4708738</td>\n",
       "<td>0.02</td>\n",
       "<td>0.776</td>\n",
       "<td>-66.8</td>\n",
       "<td>25.0640777</td></tr>\n",
       "<tr><td></td>\n",
       "<td>9</td>\n",
       "<td>0.7018072</td>\n",
       "<td>0.1835107</td>\n",
       "<td>0.3934815</td>\n",
       "<td>1.1513133</td>\n",
       "<td>0.1481481</td>\n",
       "<td>0.4334764</td>\n",
       "<td>0.032</td>\n",
       "<td>0.808</td>\n",
       "<td>-60.6518519</td>\n",
       "<td>15.1313305</td></tr>\n",
       "<tr><td></td>\n",
       "<td>10</td>\n",
       "<td>0.8207831</td>\n",
       "<td>0.1734694</td>\n",
       "<td>0.5379241</td>\n",
       "<td>1.0624</td>\n",
       "<td>0.2025316</td>\n",
       "<td>0.4</td>\n",
       "<td>0.064</td>\n",
       "<td>0.872</td>\n",
       "<td>-46.2075949</td>\n",
       "<td>6.2400000</td></tr>\n",
       "<tr><td></td>\n",
       "<td>11</td>\n",
       "<td>0.9487952</td>\n",
       "<td>0.1709183</td>\n",
       "<td>0.6561882</td>\n",
       "<td>1.0075937</td>\n",
       "<td>0.2470588</td>\n",
       "<td>0.3793651</td>\n",
       "<td>0.084</td>\n",
       "<td>0.956</td>\n",
       "<td>-34.3811765</td>\n",
       "<td>0.7593651</td></tr>\n",
       "<tr><td></td>\n",
       "<td>12</td>\n",
       "<td>1.0</td>\n",
       "<td>0.1666667</td>\n",
       "<td>0.8592941</td>\n",
       "<td>1.0</td>\n",
       "<td>0.3235294</td>\n",
       "<td>0.3765060</td>\n",
       "<td>0.044</td>\n",
       "<td>1.0</td>\n",
       "<td>-14.0705882</td>\n",
       "<td>0.0</td></tr></table></div>"
      ],
      "text/plain": [
       "    group    cumulative_data_fraction    lower_threshold    lift      cumulative_lift    response_rate    cumulative_response_rate    capture_rate    cumulative_capture_rate    gain      cumulative_gain\n",
       "--  -------  --------------------------  -----------------  --------  -----------------  ---------------  --------------------------  --------------  -------------------------  --------  -----------------\n",
       "    1        0.0271084                   0.75               1.62311   1.62311            0.611111         0.611111                    0.044           0.044                      62.3111   62.3111\n",
       "    2        0.0557229                   0.748837           1.67747   1.65103            0.631579         0.621622                    0.048           0.092                      67.7474   65.1027\n",
       "    3        0.126506                    0.741463           1.86485   1.77067            0.702128         0.666667                    0.132           0.224                      86.4851   77.0667\n",
       "    4        0.204819                    0.740385           1.94092   1.83576            0.730769         0.691176                    0.152           0.376                      94.0923   83.5765\n",
       "    5        0.307229                    0.734884           2.03106   1.90086            0.764706         0.715686                    0.208           0.584                      103.106   90.0863\n",
       "    6        0.432229                    0.188329           1.056     1.65653            0.39759          0.623693                    0.132           0.716                      5.6       65.653\n",
       "    7        0.560241                    0.185567           0.312471  1.34942            0.117647         0.508065                    0.04            0.756                      -68.7529  34.9419\n",
       "    8        0.620482                    0.184615           0.332     1.25064            0.125            0.470874                    0.02            0.776                      -66.8     25.0641\n",
       "    9        0.701807                    0.183511           0.393481  1.15131            0.148148         0.433476                    0.032           0.808                      -60.6519  15.1313\n",
       "    10       0.820783                    0.173469           0.537924  1.0624             0.202532         0.4                         0.064           0.872                      -46.2076  6.24\n",
       "    11       0.948795                    0.170918           0.656188  1.00759            0.247059         0.379365                    0.084           0.956                      -34.3812  0.759365\n",
       "    12       1                           0.166667           0.859294  1                  0.323529         0.376506                    0.044           1                          -14.0706  0"
      ]
     },
     "metadata": {},
     "output_type": "display_data"
    },
    {
     "name": "stdout",
     "output_type": "stream",
     "text": [
      "\n",
      "Cross-Validation Metrics Summary: \n"
     ]
    },
    {
     "data": {
      "text/html": [
       "<div style=\"overflow:auto\"><table style=\"width:50%\"><tr><td><b></b></td>\n",
       "<td><b>mean</b></td>\n",
       "<td><b>sd</b></td>\n",
       "<td><b>cv_1_valid</b></td>\n",
       "<td><b>cv_2_valid</b></td>\n",
       "<td><b>cv_3_valid</b></td>\n",
       "<td><b>cv_4_valid</b></td>\n",
       "<td><b>cv_5_valid</b></td>\n",
       "<td><b>cv_6_valid</b></td>\n",
       "<td><b>cv_7_valid</b></td>\n",
       "<td><b>cv_8_valid</b></td>\n",
       "<td><b>cv_9_valid</b></td>\n",
       "<td><b>cv_10_valid</b></td></tr>\n",
       "<tr><td>accuracy</td>\n",
       "<td>0.7895145</td>\n",
       "<td>0.0258059</td>\n",
       "<td>0.835443</td>\n",
       "<td>0.8072289</td>\n",
       "<td>0.8032787</td>\n",
       "<td>0.779661</td>\n",
       "<td>0.8235294</td>\n",
       "<td>0.7118644</td>\n",
       "<td>0.7543859</td>\n",
       "<td>0.8260869</td>\n",
       "<td>0.7605634</td>\n",
       "<td>0.7931035</td></tr>\n",
       "<tr><td>auc</td>\n",
       "<td>0.7713597</td>\n",
       "<td>0.0266816</td>\n",
       "<td>0.8151852</td>\n",
       "<td>0.7879949</td>\n",
       "<td>0.7733957</td>\n",
       "<td>0.7407895</td>\n",
       "<td>0.828125</td>\n",
       "<td>0.7132184</td>\n",
       "<td>0.7375</td>\n",
       "<td>0.8180556</td>\n",
       "<td>0.7389163</td>\n",
       "<td>0.7604167</td></tr>\n",
       "<tr><td>err</td>\n",
       "<td>0.2104855</td>\n",
       "<td>0.0258059</td>\n",
       "<td>0.1645570</td>\n",
       "<td>0.1927711</td>\n",
       "<td>0.1967213</td>\n",
       "<td>0.2203390</td>\n",
       "<td>0.1764706</td>\n",
       "<td>0.2881356</td>\n",
       "<td>0.2456140</td>\n",
       "<td>0.1739131</td>\n",
       "<td>0.2394366</td>\n",
       "<td>0.2068966</td></tr>\n",
       "<tr><td>err_count</td>\n",
       "<td>13.8</td>\n",
       "<td>1.4071248</td>\n",
       "<td>13.0</td>\n",
       "<td>16.0</td>\n",
       "<td>12.0</td>\n",
       "<td>13.0</td>\n",
       "<td>12.0</td>\n",
       "<td>17.0</td>\n",
       "<td>14.0</td>\n",
       "<td>12.0</td>\n",
       "<td>17.0</td>\n",
       "<td>12.0</td></tr>\n",
       "<tr><td>f0point5</td>\n",
       "<td>0.719099</td>\n",
       "<td>0.0451879</td>\n",
       "<td>0.7364341</td>\n",
       "<td>0.7241379</td>\n",
       "<td>0.6451613</td>\n",
       "<td>0.6593407</td>\n",
       "<td>0.8653846</td>\n",
       "<td>0.7307692</td>\n",
       "<td>0.7425743</td>\n",
       "<td>0.7421875</td>\n",
       "<td>0.72</td>\n",
       "<td>0.625</td></tr>\n",
       "<tr><td>f1</td>\n",
       "<td>0.7061765</td>\n",
       "<td>0.0368760</td>\n",
       "<td>0.7450980</td>\n",
       "<td>0.7241379</td>\n",
       "<td>0.6666667</td>\n",
       "<td>0.6486486</td>\n",
       "<td>0.8181818</td>\n",
       "<td>0.6909091</td>\n",
       "<td>0.6818182</td>\n",
       "<td>0.76</td>\n",
       "<td>0.6792453</td>\n",
       "<td>0.6470588</td></tr>\n",
       "<tr><td>f2</td>\n",
       "<td>0.6959623</td>\n",
       "<td>0.0388520</td>\n",
       "<td>0.7539682</td>\n",
       "<td>0.7241379</td>\n",
       "<td>0.6896552</td>\n",
       "<td>0.6382979</td>\n",
       "<td>0.7758621</td>\n",
       "<td>0.6551724</td>\n",
       "<td>0.6302521</td>\n",
       "<td>0.7786886</td>\n",
       "<td>0.6428571</td>\n",
       "<td>0.6707317</td></tr>\n",
       "<tr><td>lift_top_group</td>\n",
       "<td>1.9865305</td>\n",
       "<td>0.1793898</td>\n",
       "<td>2.3092308</td>\n",
       "<td>2.0725327</td>\n",
       "<td>2.266254</td>\n",
       "<td>2.0701754</td>\n",
       "<td>1.7</td>\n",
       "<td>1.4946667</td>\n",
       "<td>1.8</td>\n",
       "<td>2.1009614</td>\n",
       "<td>1.8362069</td>\n",
       "<td>2.2152777</td></tr>\n",
       "<tr><td>logloss</td>\n",
       "<td>0.514018</td>\n",
       "<td>0.0407193</td>\n",
       "<td>0.4427268</td>\n",
       "<td>0.4818485</td>\n",
       "<td>0.4780133</td>\n",
       "<td>0.5166941</td>\n",
       "<td>0.5014075</td>\n",
       "<td>0.6392374</td>\n",
       "<td>0.5762265</td>\n",
       "<td>0.4548141</td>\n",
       "<td>0.5585339</td>\n",
       "<td>0.4906777</td></tr>\n",
       "<tr><td>max_per_class_error</td>\n",
       "<td>0.3095211</td>\n",
       "<td>0.0446014</td>\n",
       "<td>0.24</td>\n",
       "<td>0.2758621</td>\n",
       "<td>0.2941177</td>\n",
       "<td>0.3684211</td>\n",
       "<td>0.25</td>\n",
       "<td>0.3666667</td>\n",
       "<td>0.4</td>\n",
       "<td>0.2083333</td>\n",
       "<td>0.3793103</td>\n",
       "<td>0.3125</td></tr>\n",
       "<tr><td>mcc</td>\n",
       "<td>0.543404</td>\n",
       "<td>0.0495933</td>\n",
       "<td>0.6239331</td>\n",
       "<td>0.5759898</td>\n",
       "<td>0.5293843</td>\n",
       "<td>0.4887042</td>\n",
       "<td>0.6596949</td>\n",
       "<td>0.4314245</td>\n",
       "<td>0.5</td>\n",
       "<td>0.6252072</td>\n",
       "<td>0.4965292</td>\n",
       "<td>0.5031728</td></tr>\n",
       "<tr><td>mean_per_class_accuracy</td>\n",
       "<td>0.7713597</td>\n",
       "<td>0.0266816</td>\n",
       "<td>0.8151852</td>\n",
       "<td>0.7879949</td>\n",
       "<td>0.7733957</td>\n",
       "<td>0.7407895</td>\n",
       "<td>0.828125</td>\n",
       "<td>0.7132184</td>\n",
       "<td>0.7375</td>\n",
       "<td>0.8180556</td>\n",
       "<td>0.7389163</td>\n",
       "<td>0.7604167</td></tr>\n",
       "<tr><td>mean_per_class_error</td>\n",
       "<td>0.2286403</td>\n",
       "<td>0.0266816</td>\n",
       "<td>0.1848148</td>\n",
       "<td>0.2120051</td>\n",
       "<td>0.2266043</td>\n",
       "<td>0.2592105</td>\n",
       "<td>0.171875</td>\n",
       "<td>0.2867816</td>\n",
       "<td>0.2625</td>\n",
       "<td>0.1819444</td>\n",
       "<td>0.2610838</td>\n",
       "<td>0.2395833</td></tr>\n",
       "<tr><td>mse</td>\n",
       "<td>0.1659471</td>\n",
       "<td>0.0168824</td>\n",
       "<td>0.1359194</td>\n",
       "<td>0.1528211</td>\n",
       "<td>0.1520147</td>\n",
       "<td>0.1681332</td>\n",
       "<td>0.1579438</td>\n",
       "<td>0.2178167</td>\n",
       "<td>0.1913376</td>\n",
       "<td>0.1412420</td>\n",
       "<td>0.1846193</td>\n",
       "<td>0.1576234</td></tr>\n",
       "<tr><td>precision</td>\n",
       "<td>0.7294507</td>\n",
       "<td>0.0554987</td>\n",
       "<td>0.7307692</td>\n",
       "<td>0.7241379</td>\n",
       "<td>0.6315789</td>\n",
       "<td>0.6666667</td>\n",
       "<td>0.9</td>\n",
       "<td>0.76</td>\n",
       "<td>0.7894737</td>\n",
       "<td>0.7307692</td>\n",
       "<td>0.75</td>\n",
       "<td>0.6111111</td></tr>\n",
       "<tr><td>r2</td>\n",
       "<td>0.2714720</td>\n",
       "<td>0.0563817</td>\n",
       "<td>0.3716496</td>\n",
       "<td>0.3277238</td>\n",
       "<td>0.2437877</td>\n",
       "<td>0.2299058</td>\n",
       "<td>0.3660311</td>\n",
       "<td>0.1284829</td>\n",
       "<td>0.2229300</td>\n",
       "<td>0.3773584</td>\n",
       "<td>0.2359067</td>\n",
       "<td>0.2109446</td></tr>\n",
       "<tr><td>recall</td>\n",
       "<td>0.6904789</td>\n",
       "<td>0.0446014</td>\n",
       "<td>0.76</td>\n",
       "<td>0.7241379</td>\n",
       "<td>0.7058824</td>\n",
       "<td>0.6315789</td>\n",
       "<td>0.75</td>\n",
       "<td>0.6333333</td>\n",
       "<td>0.6</td>\n",
       "<td>0.7916667</td>\n",
       "<td>0.6206896</td>\n",
       "<td>0.6875</td></tr>\n",
       "<tr><td>rmse</td>\n",
       "<td>0.4063592</td>\n",
       "<td>0.0202404</td>\n",
       "<td>0.3686725</td>\n",
       "<td>0.3909234</td>\n",
       "<td>0.3898906</td>\n",
       "<td>0.4100405</td>\n",
       "<td>0.3974215</td>\n",
       "<td>0.4667084</td>\n",
       "<td>0.4374216</td>\n",
       "<td>0.3758217</td>\n",
       "<td>0.4296734</td>\n",
       "<td>0.3970182</td></tr>\n",
       "<tr><td>specificity</td>\n",
       "<td>0.8522406</td>\n",
       "<td>0.0197949</td>\n",
       "<td>0.8703704</td>\n",
       "<td>0.8518519</td>\n",
       "<td>0.8409091</td>\n",
       "<td>0.85</td>\n",
       "<td>0.90625</td>\n",
       "<td>0.7931035</td>\n",
       "<td>0.875</td>\n",
       "<td>0.8444445</td>\n",
       "<td>0.8571429</td>\n",
       "<td>0.8333333</td></tr></table></div>"
      ],
      "text/plain": [
       "                         mean      sd         cv_1_valid    cv_2_valid    cv_3_valid    cv_4_valid    cv_5_valid    cv_6_valid    cv_7_valid    cv_8_valid    cv_9_valid    cv_10_valid\n",
       "-----------------------  --------  ---------  ------------  ------------  ------------  ------------  ------------  ------------  ------------  ------------  ------------  -------------\n",
       "accuracy                 0.789515  0.0258059  0.835443      0.807229      0.803279      0.779661      0.823529      0.711864      0.754386      0.826087      0.760563      0.793103\n",
       "auc                      0.77136   0.0266816  0.815185      0.787995      0.773396      0.740789      0.828125      0.713218      0.7375        0.818056      0.738916      0.760417\n",
       "err                      0.210485  0.0258059  0.164557      0.192771      0.196721      0.220339      0.176471      0.288136      0.245614      0.173913      0.239437      0.206897\n",
       "err_count                13.8      1.40712    13            16            12            13            12            17            14            12            17            12\n",
       "f0point5                 0.719099  0.0451879  0.736434      0.724138      0.645161      0.659341      0.865385      0.730769      0.742574      0.742188      0.72          0.625\n",
       "f1                       0.706176  0.036876   0.745098      0.724138      0.666667      0.648649      0.818182      0.690909      0.681818      0.76          0.679245      0.647059\n",
       "f2                       0.695962  0.038852   0.753968      0.724138      0.689655      0.638298      0.775862      0.655172      0.630252      0.778689      0.642857      0.670732\n",
       "lift_top_group           1.98653   0.17939    2.30923       2.07253       2.26625       2.07018       1.7           1.49467       1.8           2.10096       1.83621       2.21528\n",
       "logloss                  0.514018  0.0407193  0.442727      0.481849      0.478013      0.516694      0.501408      0.639237      0.576227      0.454814      0.558534      0.490678\n",
       "max_per_class_error      0.309521  0.0446014  0.24          0.275862      0.294118      0.368421      0.25          0.366667      0.4           0.208333      0.37931       0.3125\n",
       "mcc                      0.543404  0.0495933  0.623933      0.57599       0.529384      0.488704      0.659695      0.431425      0.5           0.625207      0.496529      0.503173\n",
       "mean_per_class_accuracy  0.77136   0.0266816  0.815185      0.787995      0.773396      0.740789      0.828125      0.713218      0.7375        0.818056      0.738916      0.760417\n",
       "mean_per_class_error     0.22864   0.0266816  0.184815      0.212005      0.226604      0.259211      0.171875      0.286782      0.2625        0.181944      0.261084      0.239583\n",
       "mse                      0.165947  0.0168824  0.135919      0.152821      0.152015      0.168133      0.157944      0.217817      0.191338      0.141242      0.184619      0.157623\n",
       "precision                0.729451  0.0554987  0.730769      0.724138      0.631579      0.666667      0.9           0.76          0.789474      0.730769      0.75          0.611111\n",
       "r2                       0.271472  0.0563817  0.37165       0.327724      0.243788      0.229906      0.366031      0.128483      0.22293       0.377358      0.235907      0.210945\n",
       "recall                   0.690479  0.0446014  0.76          0.724138      0.705882      0.631579      0.75          0.633333      0.6           0.791667      0.62069       0.6875\n",
       "rmse                     0.406359  0.0202404  0.368673      0.390923      0.389891      0.41004       0.397421      0.466708      0.437422      0.375822      0.429673      0.397018\n",
       "specificity              0.852241  0.0197949  0.87037       0.851852      0.840909      0.85          0.90625       0.793103      0.875         0.844444      0.857143      0.833333"
      ]
     },
     "metadata": {},
     "output_type": "display_data"
    },
    {
     "name": "stdout",
     "output_type": "stream",
     "text": [
      "Scoring History: \n"
     ]
    },
    {
     "data": {
      "text/html": [
       "<div style=\"overflow:auto\"><table style=\"width:50%\"><tr><td><b></b></td>\n",
       "<td><b>timestamp</b></td>\n",
       "<td><b>duration</b></td>\n",
       "<td><b>number_of_trees</b></td>\n",
       "<td><b>training_rmse</b></td>\n",
       "<td><b>training_logloss</b></td>\n",
       "<td><b>training_auc</b></td>\n",
       "<td><b>training_lift</b></td>\n",
       "<td><b>training_classification_error</b></td></tr>\n",
       "<tr><td></td>\n",
       "<td>2018-06-26 13:37:00</td>\n",
       "<td> 0.340 sec</td>\n",
       "<td>0.0</td>\n",
       "<td>nan</td>\n",
       "<td>nan</td>\n",
       "<td>nan</td>\n",
       "<td>nan</td>\n",
       "<td>nan</td></tr>\n",
       "<tr><td></td>\n",
       "<td>2018-06-26 13:37:00</td>\n",
       "<td> 0.341 sec</td>\n",
       "<td>1.0</td>\n",
       "<td>0.4182649</td>\n",
       "<td>0.5355520</td>\n",
       "<td>0.7601504</td>\n",
       "<td>2.0405854</td>\n",
       "<td>0.2236842</td></tr>\n",
       "<tr><td></td>\n",
       "<td>2018-06-26 13:37:00</td>\n",
       "<td> 0.342 sec</td>\n",
       "<td>2.0</td>\n",
       "<td>0.4074420</td>\n",
       "<td>0.5145612</td>\n",
       "<td>0.7747845</td>\n",
       "<td>2.0574648</td>\n",
       "<td>0.2091837</td></tr>\n",
       "<tr><td></td>\n",
       "<td>2018-06-26 13:37:00</td>\n",
       "<td> 0.343 sec</td>\n",
       "<td>3.0</td>\n",
       "<td>0.4070305</td>\n",
       "<td>0.5128467</td>\n",
       "<td>0.7711684</td>\n",
       "<td>1.9843678</td>\n",
       "<td>0.2111801</td></tr>\n",
       "<tr><td></td>\n",
       "<td>2018-06-26 13:37:00</td>\n",
       "<td> 0.343 sec</td>\n",
       "<td>4.0</td>\n",
       "<td>0.4079117</td>\n",
       "<td>0.5143937</td>\n",
       "<td>0.7694028</td>\n",
       "<td>1.9718788</td>\n",
       "<td>0.2127273</td></tr>\n",
       "<tr><td>---</td>\n",
       "<td>---</td>\n",
       "<td>---</td>\n",
       "<td>---</td>\n",
       "<td>---</td>\n",
       "<td>---</td>\n",
       "<td>---</td>\n",
       "<td>---</td>\n",
       "<td>---</td></tr>\n",
       "<tr><td></td>\n",
       "<td>2018-06-26 13:37:00</td>\n",
       "<td> 0.406 sec</td>\n",
       "<td>46.0</td>\n",
       "<td>0.4038779</td>\n",
       "<td>0.5065569</td>\n",
       "<td>0.7751981</td>\n",
       "<td>1.9584646</td>\n",
       "<td>0.2078313</td></tr>\n",
       "<tr><td></td>\n",
       "<td>2018-06-26 13:37:00</td>\n",
       "<td> 0.408 sec</td>\n",
       "<td>47.0</td>\n",
       "<td>0.4038779</td>\n",
       "<td>0.5065569</td>\n",
       "<td>0.7754879</td>\n",
       "<td>1.9994607</td>\n",
       "<td>0.2078313</td></tr>\n",
       "<tr><td></td>\n",
       "<td>2018-06-26 13:37:00</td>\n",
       "<td> 0.410 sec</td>\n",
       "<td>48.0</td>\n",
       "<td>0.4038779</td>\n",
       "<td>0.5065569</td>\n",
       "<td>0.7685266</td>\n",
       "<td>2.0090256</td>\n",
       "<td>0.2078313</td></tr>\n",
       "<tr><td></td>\n",
       "<td>2018-06-26 13:37:00</td>\n",
       "<td> 0.411 sec</td>\n",
       "<td>49.0</td>\n",
       "<td>0.4038779</td>\n",
       "<td>0.5065569</td>\n",
       "<td>0.7620145</td>\n",
       "<td>1.9826479</td>\n",
       "<td>0.2078313</td></tr>\n",
       "<tr><td></td>\n",
       "<td>2018-06-26 13:37:00</td>\n",
       "<td> 0.413 sec</td>\n",
       "<td>50.0</td>\n",
       "<td>0.4038779</td>\n",
       "<td>0.5065569</td>\n",
       "<td>0.7645845</td>\n",
       "<td>1.9613538</td>\n",
       "<td>0.2078313</td></tr></table></div>"
      ],
      "text/plain": [
       "     timestamp            duration    number_of_trees    training_rmse        training_logloss    training_auc        training_lift       training_classification_error\n",
       "---  -------------------  ----------  -----------------  -------------------  ------------------  ------------------  ------------------  -------------------------------\n",
       "     2018-06-26 13:37:00  0.340 sec   0.0                nan                  nan                 nan                 nan                 nan\n",
       "     2018-06-26 13:37:00  0.341 sec   1.0                0.4182648963938531   0.5355520466612966  0.7601503759398496  2.0405853658536586  0.2236842105263158\n",
       "     2018-06-26 13:37:00  0.342 sec   2.0                0.40744197502405993  0.5145611728357857  0.7747844827586207  2.057464788732394   0.20918367346938777\n",
       "     2018-06-26 13:37:00  0.343 sec   3.0                0.4070305345199281   0.5128466868991368  0.7711684096646232  1.9843678160919538  0.2111801242236025\n",
       "     2018-06-26 13:37:00  0.343 sec   4.0                0.40791167779024345  0.5143936744665389  0.7694027667488611  1.9718787878787878  0.21272727272727274\n",
       "---  ---                  ---         ---                ---                  ---                 ---                 ---                 ---\n",
       "     2018-06-26 13:37:00  0.406 sec   46.0               0.40387788673893427  0.5065569096196756  0.7751980676328503  1.9584646464646462  0.20783132530120482\n",
       "     2018-06-26 13:37:00  0.408 sec   47.0               0.40387788662830976  0.5065569094175242  0.7754879227053141  1.999460674157303   0.20783132530120482\n",
       "     2018-06-26 13:37:00  0.410 sec   48.0               0.4038778869518281   0.5065569102867875  0.7685265700483093  2.009025641025641   0.20783132530120482\n",
       "     2018-06-26 13:37:00  0.411 sec   49.0               0.4038778871475183   0.5065569108384887  0.7620144927536232  1.9826478873239435  0.20783132530120482\n",
       "     2018-06-26 13:37:00  0.413 sec   50.0               0.4038778870136102   0.5065569105131861  0.7645845410628019  1.9613538461538462  0.20783132530120482"
      ]
     },
     "metadata": {},
     "output_type": "display_data"
    },
    {
     "name": "stdout",
     "output_type": "stream",
     "text": [
      "\n",
      "See the whole table with table.as_data_frame()\n",
      "Variable Importances: \n"
     ]
    },
    {
     "data": {
      "text/html": [
       "<div style=\"overflow:auto\"><table style=\"width:50%\"><tr><td><b>variable</b></td>\n",
       "<td><b>relative_importance</b></td>\n",
       "<td><b>scaled_importance</b></td>\n",
       "<td><b>percentage</b></td></tr>\n",
       "<tr><td>Sex</td>\n",
       "<td>2378.1787109</td>\n",
       "<td>1.0</td>\n",
       "<td>1.0</td></tr></table></div>"
      ],
      "text/plain": [
       "variable    relative_importance    scaled_importance    percentage\n",
       "----------  ---------------------  -------------------  ------------\n",
       "Sex         2378.18                1                    1"
      ]
     },
     "metadata": {},
     "output_type": "display_data"
    },
    {
     "data": {
      "text/plain": []
     },
     "execution_count": 14,
     "metadata": {},
     "output_type": "execute_result"
    }
   ],
   "source": [
    "rf_fit_cross_val"
   ]
  },
  {
   "cell_type": "markdown",
   "metadata": {},
   "source": [
    "NOTE : An issue with the confusion matrix has been logged in https://github.com/h2oai/h2o-tutorials/issues/71"
   ]
  },
  {
   "cell_type": "markdown",
   "metadata": {},
   "source": [
    "We compute the AUC by hand, by computing the area in the ROC curve.\n",
    "\n",
    "The ROC curve is computed by finding the relevant data points.\n",
    "\n",
    "Data point #1 -> Corresponding to sensitivity = 0 and specificity = 1 (or (1 - specificity) = 0)\n",
    "Data point #2 -> Corresopnding to sensitivity = 1 and specificity = 0 (or (1 - specificity) = 1)\n",
    "Data point #3 -> Corresponding to the case we have our predictions as 1 and see how many survived.\n",
    "\n",
    "In this scenario => When we predict as survived, we see that we obtained 173 out of 250 cases => Sensitivity = 173/250\n",
    "Also, we see that in we actually predict 353 (out of the total 414 cases) of not survived correctly => Specificity = 353/432\n",
    "\n",
    "=> Our relevant data point = (1- 353/432, 173/250)\n",
    "=> AUC = Area under ROC curve => Area of the triangle and relevant trapeziod , which when computed turns out to be = 0.5 * ( 353/414 + 173/250 ) = 0.77232850241\n",
    "\n",
    "NOTE : The expression for area, comes out nicely as 0.5*(sensitivity + specificity)."
   ]
  },
  {
   "cell_type": "markdown",
   "metadata": {},
   "source": [
    "Let us compare with the value of AUC computed from the model directly ."
   ]
  },
  {
   "cell_type": "code",
   "execution_count": 15,
   "metadata": {},
   "outputs": [
    {
     "data": {
      "text/plain": [
       "<matplotlib.figure.Figure at 0x10dbf1358>"
      ]
     },
     "metadata": {},
     "output_type": "display_data"
    },
    {
     "name": "stdout",
     "output_type": "stream",
     "text": [
      "\n",
      "ModelMetricsBinomial: drf\n",
      "** Reported on train data. **\n",
      "\n",
      "MSE: 0.1631173476185785\n",
      "RMSE: 0.4038778870136102\n",
      "LogLoss: 0.5065569105131861\n",
      "Mean Per-Class Error: 0.2316714975845411\n",
      "AUC: 0.7645845410628019\n",
      "Gini: 0.5291690821256039\n",
      "Confusion Matrix (Act/Pred) for max f1 @ threshold = 0.7393161333524264: \n"
     ]
    },
    {
     "data": {
      "text/html": [
       "<div style=\"overflow:auto\"><table style=\"width:50%\"><tr><td><b></b></td>\n",
       "<td><b>0</b></td>\n",
       "<td><b>1</b></td>\n",
       "<td><b>Error</b></td>\n",
       "<td><b>Rate</b></td></tr>\n",
       "<tr><td>0</td>\n",
       "<td>353.0</td>\n",
       "<td>61.0</td>\n",
       "<td>0.1473</td>\n",
       "<td> (61.0/414.0)</td></tr>\n",
       "<tr><td>1</td>\n",
       "<td>79.0</td>\n",
       "<td>171.0</td>\n",
       "<td>0.316</td>\n",
       "<td> (79.0/250.0)</td></tr>\n",
       "<tr><td>Total</td>\n",
       "<td>432.0</td>\n",
       "<td>232.0</td>\n",
       "<td>0.2108</td>\n",
       "<td> (140.0/664.0)</td></tr></table></div>"
      ],
      "text/plain": [
       "       0    1    Error    Rate\n",
       "-----  ---  ---  -------  -------------\n",
       "0      353  61   0.1473   (61.0/414.0)\n",
       "1      79   171  0.316    (79.0/250.0)\n",
       "Total  432  232  0.2108   (140.0/664.0)"
      ]
     },
     "metadata": {},
     "output_type": "display_data"
    },
    {
     "name": "stdout",
     "output_type": "stream",
     "text": [
      "Maximum Metrics: Maximum metrics at their respective thresholds\n",
      "\n"
     ]
    },
    {
     "data": {
      "text/html": [
       "<div style=\"overflow:auto\"><table style=\"width:50%\"><tr><td><b>metric</b></td>\n",
       "<td><b>threshold</b></td>\n",
       "<td><b>value</b></td>\n",
       "<td><b>idx</b></td></tr>\n",
       "<tr><td>max f1</td>\n",
       "<td>0.7393161</td>\n",
       "<td>0.7148760</td>\n",
       "<td>11.0</td></tr>\n",
       "<tr><td>max f2</td>\n",
       "<td>0.1790696</td>\n",
       "<td>0.7512019</td>\n",
       "<td>27.0</td></tr>\n",
       "<tr><td>max f0point5</td>\n",
       "<td>0.7393161</td>\n",
       "<td>0.7293423</td>\n",
       "<td>11.0</td></tr>\n",
       "<tr><td>max accuracy</td>\n",
       "<td>0.7393161</td>\n",
       "<td>0.7921687</td>\n",
       "<td>11.0</td></tr>\n",
       "<tr><td>max precision</td>\n",
       "<td>0.7393162</td>\n",
       "<td>0.7582418</td>\n",
       "<td>1.0</td></tr>\n",
       "<tr><td>max recall</td>\n",
       "<td>0.1790696</td>\n",
       "<td>1.0</td>\n",
       "<td>27.0</td></tr>\n",
       "<tr><td>max specificity</td>\n",
       "<td>0.7393162</td>\n",
       "<td>0.9589372</td>\n",
       "<td>0.0</td></tr>\n",
       "<tr><td>max absolute_mcc</td>\n",
       "<td>0.7393161</td>\n",
       "<td>0.5523967</td>\n",
       "<td>11.0</td></tr>\n",
       "<tr><td>max min_per_class_accuracy</td>\n",
       "<td>0.1790696</td>\n",
       "<td>0.72</td>\n",
       "<td>14.0</td></tr>\n",
       "<tr><td>max mean_per_class_accuracy</td>\n",
       "<td>0.7393161</td>\n",
       "<td>0.7723285</td>\n",
       "<td>11.0</td></tr></table></div>"
      ],
      "text/plain": [
       "metric                       threshold    value     idx\n",
       "---------------------------  -----------  --------  -----\n",
       "max f1                       0.739316     0.714876  11\n",
       "max f2                       0.17907      0.751202  27\n",
       "max f0point5                 0.739316     0.729342  11\n",
       "max accuracy                 0.739316     0.792169  11\n",
       "max precision                0.739316     0.758242  1\n",
       "max recall                   0.17907      1         27\n",
       "max specificity              0.739316     0.958937  0\n",
       "max absolute_mcc             0.739316     0.552397  11\n",
       "max min_per_class_accuracy   0.17907      0.72      14\n",
       "max mean_per_class_accuracy  0.739316     0.772329  11"
      ]
     },
     "metadata": {},
     "output_type": "display_data"
    },
    {
     "name": "stdout",
     "output_type": "stream",
     "text": [
      "Gains/Lift Table: Avg response rate: 37.65 %\n",
      "\n"
     ]
    },
    {
     "data": {
      "text/html": [
       "<div style=\"overflow:auto\"><table style=\"width:50%\"><tr><td><b></b></td>\n",
       "<td><b>group</b></td>\n",
       "<td><b>cumulative_data_fraction</b></td>\n",
       "<td><b>lower_threshold</b></td>\n",
       "<td><b>lift</b></td>\n",
       "<td><b>cumulative_lift</b></td>\n",
       "<td><b>response_rate</b></td>\n",
       "<td><b>cumulative_response_rate</b></td>\n",
       "<td><b>capture_rate</b></td>\n",
       "<td><b>cumulative_capture_rate</b></td>\n",
       "<td><b>gain</b></td>\n",
       "<td><b>cumulative_gain</b></td></tr>\n",
       "<tr><td></td>\n",
       "<td>1</td>\n",
       "<td>0.0978916</td>\n",
       "<td>0.7393162</td>\n",
       "<td>1.9613538</td>\n",
       "<td>1.9613538</td>\n",
       "<td>0.7384615</td>\n",
       "<td>0.7384615</td>\n",
       "<td>0.192</td>\n",
       "<td>0.192</td>\n",
       "<td>96.1353846</td>\n",
       "<td>96.1353846</td></tr>\n",
       "<tr><td></td>\n",
       "<td>2</td>\n",
       "<td>0.1370482</td>\n",
       "<td>0.7393162</td>\n",
       "<td>2.1452308</td>\n",
       "<td>2.0138901</td>\n",
       "<td>0.8076923</td>\n",
       "<td>0.7582418</td>\n",
       "<td>0.084</td>\n",
       "<td>0.276</td>\n",
       "<td>114.5230769</td>\n",
       "<td>101.3890110</td></tr>\n",
       "<tr><td></td>\n",
       "<td>3</td>\n",
       "<td>0.1686747</td>\n",
       "<td>0.7393162</td>\n",
       "<td>1.7706667</td>\n",
       "<td>1.9682857</td>\n",
       "<td>0.6666667</td>\n",
       "<td>0.7410714</td>\n",
       "<td>0.056</td>\n",
       "<td>0.332</td>\n",
       "<td>77.0666667</td>\n",
       "<td>96.8285714</td></tr>\n",
       "<tr><td></td>\n",
       "<td>4</td>\n",
       "<td>0.2153614</td>\n",
       "<td>0.7393162</td>\n",
       "<td>1.9705806</td>\n",
       "<td>1.9687832</td>\n",
       "<td>0.7419355</td>\n",
       "<td>0.7412587</td>\n",
       "<td>0.092</td>\n",
       "<td>0.424</td>\n",
       "<td>97.0580645</td>\n",
       "<td>96.8783217</td></tr>\n",
       "<tr><td></td>\n",
       "<td>5</td>\n",
       "<td>0.3072289</td>\n",
       "<td>0.7393162</td>\n",
       "<td>1.9158033</td>\n",
       "<td>1.9529412</td>\n",
       "<td>0.7213115</td>\n",
       "<td>0.7352941</td>\n",
       "<td>0.176</td>\n",
       "<td>0.6</td>\n",
       "<td>91.5803279</td>\n",
       "<td>95.2941176</td></tr>\n",
       "<tr><td></td>\n",
       "<td>6</td>\n",
       "<td>0.4277108</td>\n",
       "<td>0.1790696</td>\n",
       "<td>0.996</td>\n",
       "<td>1.6833803</td>\n",
       "<td>0.375</td>\n",
       "<td>0.6338028</td>\n",
       "<td>0.12</td>\n",
       "<td>0.72</td>\n",
       "<td>-0.4000000</td>\n",
       "<td>68.3380282</td></tr>\n",
       "<tr><td></td>\n",
       "<td>7</td>\n",
       "<td>0.5376506</td>\n",
       "<td>0.1790696</td>\n",
       "<td>0.3638356</td>\n",
       "<td>1.4135574</td>\n",
       "<td>0.1369863</td>\n",
       "<td>0.5322129</td>\n",
       "<td>0.04</td>\n",
       "<td>0.76</td>\n",
       "<td>-63.6164384</td>\n",
       "<td>41.3557423</td></tr>\n",
       "<tr><td></td>\n",
       "<td>8</td>\n",
       "<td>0.5993976</td>\n",
       "<td>0.1790696</td>\n",
       "<td>0.6478049</td>\n",
       "<td>1.3346734</td>\n",
       "<td>0.2439024</td>\n",
       "<td>0.5025126</td>\n",
       "<td>0.04</td>\n",
       "<td>0.8</td>\n",
       "<td>-35.2195122</td>\n",
       "<td>33.4673367</td></tr>\n",
       "<tr><td></td>\n",
       "<td>9</td>\n",
       "<td>0.7018072</td>\n",
       "<td>0.1790696</td>\n",
       "<td>0.5077647</td>\n",
       "<td>1.2140086</td>\n",
       "<td>0.1911765</td>\n",
       "<td>0.4570815</td>\n",
       "<td>0.052</td>\n",
       "<td>0.852</td>\n",
       "<td>-49.2235294</td>\n",
       "<td>21.4008584</td></tr>\n",
       "<tr><td></td>\n",
       "<td>10</td>\n",
       "<td>0.8433735</td>\n",
       "<td>0.1790696</td>\n",
       "<td>0.4803404</td>\n",
       "<td>1.0908571</td>\n",
       "<td>0.1808511</td>\n",
       "<td>0.4107143</td>\n",
       "<td>0.068</td>\n",
       "<td>0.92</td>\n",
       "<td>-51.9659574</td>\n",
       "<td>9.0857143</td></tr>\n",
       "<tr><td></td>\n",
       "<td>11</td>\n",
       "<td>0.9171687</td>\n",
       "<td>0.1790696</td>\n",
       "<td>0.4878367</td>\n",
       "<td>1.0423383</td>\n",
       "<td>0.1836735</td>\n",
       "<td>0.3924466</td>\n",
       "<td>0.036</td>\n",
       "<td>0.956</td>\n",
       "<td>-51.2163265</td>\n",
       "<td>4.2338259</td></tr>\n",
       "<tr><td></td>\n",
       "<td>12</td>\n",
       "<td>1.0</td>\n",
       "<td>0.1790696</td>\n",
       "<td>0.5312</td>\n",
       "<td>1.0</td>\n",
       "<td>0.2</td>\n",
       "<td>0.3765060</td>\n",
       "<td>0.044</td>\n",
       "<td>1.0</td>\n",
       "<td>-46.88</td>\n",
       "<td>0.0</td></tr></table></div>"
      ],
      "text/plain": [
       "    group    cumulative_data_fraction    lower_threshold    lift      cumulative_lift    response_rate    cumulative_response_rate    capture_rate    cumulative_capture_rate    gain      cumulative_gain\n",
       "--  -------  --------------------------  -----------------  --------  -----------------  ---------------  --------------------------  --------------  -------------------------  --------  -----------------\n",
       "    1        0.0978916                   0.739316           1.96135   1.96135            0.738462         0.738462                    0.192           0.192                      96.1354   96.1354\n",
       "    2        0.137048                    0.739316           2.14523   2.01389            0.807692         0.758242                    0.084           0.276                      114.523   101.389\n",
       "    3        0.168675                    0.739316           1.77067   1.96829            0.666667         0.741071                    0.056           0.332                      77.0667   96.8286\n",
       "    4        0.215361                    0.739316           1.97058   1.96878            0.741935         0.741259                    0.092           0.424                      97.0581   96.8783\n",
       "    5        0.307229                    0.739316           1.9158    1.95294            0.721311         0.735294                    0.176           0.6                        91.5803   95.2941\n",
       "    6        0.427711                    0.17907            0.996     1.68338            0.375            0.633803                    0.12            0.72                       -0.4      68.338\n",
       "    7        0.537651                    0.17907            0.363836  1.41356            0.136986         0.532213                    0.04            0.76                       -63.6164  41.3557\n",
       "    8        0.599398                    0.17907            0.647805  1.33467            0.243902         0.502513                    0.04            0.8                        -35.2195  33.4673\n",
       "    9        0.701807                    0.17907            0.507765  1.21401            0.191176         0.457082                    0.052           0.852                      -49.2235  21.4009\n",
       "    10       0.843373                    0.17907            0.48034   1.09086            0.180851         0.410714                    0.068           0.92                       -51.966   9.08571\n",
       "    11       0.917169                    0.17907            0.487837  1.04234            0.183673         0.392447                    0.036           0.956                      -51.2163  4.23383\n",
       "    12       1                           0.17907            0.5312    1                  0.2              0.376506                    0.044           1                          -46.88    0"
      ]
     },
     "metadata": {},
     "output_type": "display_data"
    },
    {
     "name": "stdout",
     "output_type": "stream",
     "text": [
      "\n"
     ]
    }
   ],
   "source": [
    "perf = rf_fit_cross_val.model_performance()  #train=True is the default, so it's not needed\n",
    "perf.plot() \n",
    "perf.show()"
   ]
  },
  {
   "cell_type": "markdown",
   "metadata": {},
   "source": [
    "How do we explain the mismatch between the AUC numbers ?\n",
    "\n",
    "I am not very sure, from the the following link(http://gim.unmc.edu/dxtests/roc3.htm) and from the plot obtained from the summary, it looks like h2o computes AUC using a parametric method, whereas we do an approximation using trapezoids.\n",
    "\n",
    "Moreover, when we compute the metric using model performance function and a relevant function in scikit learn, the values match exactly. "
   ]
  },
  {
   "cell_type": "code",
   "execution_count": 16,
   "metadata": {},
   "outputs": [
    {
     "name": "stdout",
     "output_type": "stream",
     "text": [
      "AUC ()  obtained directly from training data is  0.7723285024\n"
     ]
    }
   ],
   "source": [
    "# Using model performance function.\n",
    "print(\"AUC ()  obtained directly from training data is \", \n",
    "      format(rf_fit_cross_val.model_performance(train_validation).auc(), '0.10f')) "
   ]
  },
  {
   "cell_type": "code",
   "execution_count": 17,
   "metadata": {},
   "outputs": [
    {
     "name": "stdout",
     "output_type": "stream",
     "text": [
      "drf prediction progress: |████████████████████████████████████████████████| 100%\n",
      "0.7723285024154589\n",
      "0.7723285024154589\n"
     ]
    }
   ],
   "source": [
    "# Using relevant routine from scikit learn.\n",
    "survived_set = rf_fit_cross_val.predict(train_validation)['predict']\n",
    "survived_set['Survived'] = train_validation['Survived']\n",
    "survived_set_df = survived_set.as_data_frame()\n",
    "from sklearn.metrics import roc_curve, auc, roc_auc_score\n",
    "\n",
    "fp_rate, tp_rate, thresholds = roc_curve(survived_set_df['Survived'], survived_set_df['predict'])\n",
    "print(auc(fp_rate, tp_rate))\n",
    "print(roc_auc_score(survived_set_df['Survived'], survived_set_df['predict']))"
   ]
  },
  {
   "cell_type": "markdown",
   "metadata": {},
   "source": [
    "### What are the takeaways from this ?\n",
    "\n",
    "1. Though we understand the basic computation of AUC, we are not able to replicate exactly as to how it is computed by the h2o model internally. This will make it tricky when we build complex models later and will be forced to compute auc by hand and compare with earlier values.\n",
    "\n",
    "2. We are able compute auc by hand using the trapezoid approximation and are able to match up with values generated by scikit learn. We can opt to use this method of computing auc, rather than the one implicitly used by the model.\n",
    "\n",
    "3. We can ignore auc and use a fit score, measuring the number of observations we are able to predict correctly and use that to refine our model. \n",
    "\n",
    "Practically, I believe we can go for both #2 and #3. Let us see how it goes !"
   ]
  },
  {
   "cell_type": "code",
   "execution_count": 18,
   "metadata": {},
   "outputs": [
    {
     "data": {
      "text/html": [
       "<div>\n",
       "<style scoped>\n",
       "    .dataframe tbody tr th:only-of-type {\n",
       "        vertical-align: middle;\n",
       "    }\n",
       "\n",
       "    .dataframe tbody tr th {\n",
       "        vertical-align: top;\n",
       "    }\n",
       "\n",
       "    .dataframe thead th {\n",
       "        text-align: right;\n",
       "    }\n",
       "</style>\n",
       "<table border=\"1\" class=\"dataframe\">\n",
       "  <thead>\n",
       "    <tr style=\"text-align: right;\">\n",
       "      <th></th>\n",
       "      <th>PassengerId</th>\n",
       "      <th>Survived</th>\n",
       "      <th>Pclass</th>\n",
       "      <th>Name</th>\n",
       "      <th>Sex</th>\n",
       "      <th>Age</th>\n",
       "      <th>SibSp</th>\n",
       "      <th>Parch</th>\n",
       "      <th>Ticket</th>\n",
       "      <th>Fare</th>\n",
       "      <th>Cabin</th>\n",
       "      <th>Embarked</th>\n",
       "      <th>Predictions</th>\n",
       "    </tr>\n",
       "  </thead>\n",
       "  <tbody>\n",
       "    <tr>\n",
       "      <th>0</th>\n",
       "      <td>1</td>\n",
       "      <td>0</td>\n",
       "      <td>3</td>\n",
       "      <td>Braund, Mr. Owen Harris</td>\n",
       "      <td>male</td>\n",
       "      <td>22.0</td>\n",
       "      <td>1</td>\n",
       "      <td>0</td>\n",
       "      <td>A/5 21171</td>\n",
       "      <td>7.2500</td>\n",
       "      <td>NaN</td>\n",
       "      <td>S</td>\n",
       "      <td>-1</td>\n",
       "    </tr>\n",
       "    <tr>\n",
       "      <th>1</th>\n",
       "      <td>2</td>\n",
       "      <td>1</td>\n",
       "      <td>1</td>\n",
       "      <td>Cumings, Mrs. John Bradley (Florence Briggs Th...</td>\n",
       "      <td>female</td>\n",
       "      <td>38.0</td>\n",
       "      <td>1</td>\n",
       "      <td>0</td>\n",
       "      <td>PC 17599</td>\n",
       "      <td>71.2833</td>\n",
       "      <td>C85</td>\n",
       "      <td>C</td>\n",
       "      <td>-1</td>\n",
       "    </tr>\n",
       "    <tr>\n",
       "      <th>2</th>\n",
       "      <td>3</td>\n",
       "      <td>1</td>\n",
       "      <td>3</td>\n",
       "      <td>Heikkinen, Miss. Laina</td>\n",
       "      <td>female</td>\n",
       "      <td>26.0</td>\n",
       "      <td>0</td>\n",
       "      <td>0</td>\n",
       "      <td>STON/O2. 3101282</td>\n",
       "      <td>7.9250</td>\n",
       "      <td>NaN</td>\n",
       "      <td>S</td>\n",
       "      <td>-1</td>\n",
       "    </tr>\n",
       "    <tr>\n",
       "      <th>3</th>\n",
       "      <td>4</td>\n",
       "      <td>1</td>\n",
       "      <td>1</td>\n",
       "      <td>Futrelle, Mrs. Jacques Heath (Lily May Peel)</td>\n",
       "      <td>female</td>\n",
       "      <td>35.0</td>\n",
       "      <td>1</td>\n",
       "      <td>0</td>\n",
       "      <td>113803</td>\n",
       "      <td>53.1000</td>\n",
       "      <td>C123</td>\n",
       "      <td>S</td>\n",
       "      <td>-1</td>\n",
       "    </tr>\n",
       "    <tr>\n",
       "      <th>4</th>\n",
       "      <td>5</td>\n",
       "      <td>0</td>\n",
       "      <td>3</td>\n",
       "      <td>Allen, Mr. William Henry</td>\n",
       "      <td>male</td>\n",
       "      <td>35.0</td>\n",
       "      <td>0</td>\n",
       "      <td>0</td>\n",
       "      <td>373450</td>\n",
       "      <td>8.0500</td>\n",
       "      <td>NaN</td>\n",
       "      <td>S</td>\n",
       "      <td>-1</td>\n",
       "    </tr>\n",
       "  </tbody>\n",
       "</table>\n",
       "</div>"
      ],
      "text/plain": [
       "   PassengerId  Survived  Pclass  \\\n",
       "0            1         0       3   \n",
       "1            2         1       1   \n",
       "2            3         1       3   \n",
       "3            4         1       1   \n",
       "4            5         0       3   \n",
       "\n",
       "                                                Name     Sex   Age  SibSp  \\\n",
       "0                            Braund, Mr. Owen Harris    male  22.0      1   \n",
       "1  Cumings, Mrs. John Bradley (Florence Briggs Th...  female  38.0      1   \n",
       "2                             Heikkinen, Miss. Laina  female  26.0      0   \n",
       "3       Futrelle, Mrs. Jacques Heath (Lily May Peel)  female  35.0      1   \n",
       "4                           Allen, Mr. William Henry    male  35.0      0   \n",
       "\n",
       "   Parch            Ticket     Fare Cabin Embarked  Predictions  \n",
       "0      0         A/5 21171   7.2500   NaN        S           -1  \n",
       "1      0          PC 17599  71.2833   C85        C           -1  \n",
       "2      0  STON/O2. 3101282   7.9250   NaN        S           -1  \n",
       "3      0            113803  53.1000  C123        S           -1  \n",
       "4      0            373450   8.0500   NaN        S           -1  "
      ]
     },
     "execution_count": 18,
     "metadata": {},
     "output_type": "execute_result"
    }
   ],
   "source": [
    "train_data.head()"
   ]
  },
  {
   "cell_type": "code",
   "execution_count": 19,
   "metadata": {},
   "outputs": [],
   "source": [
    "# Function for splitting input dataframe into training/validation and test sets.\n",
    "def get_train_validation_test_data(input_df, ratio=0.75):\n",
    "    train_len = int(ratio * len(input_df))\n",
    "    train_validation = input_df[:train_len]\n",
    "    test = input_df[train_len:]\n",
    "    return (train_validation, test)\n"
   ]
  },
  {
   "cell_type": "code",
   "execution_count": 20,
   "metadata": {},
   "outputs": [
    {
     "name": "stdout",
     "output_type": "stream",
     "text": [
      "Parse progress: |█████████████████████████████████████████████████████████| 100%\n",
      "Parse progress: |█████████████████████████████████████████████████████████| 100%\n"
     ]
    }
   ],
   "source": [
    "(train_validation, test) = get_train_validation_test_data(train_data)\n",
    "test_h2o = get_h2o_frame_with_rel_factors_test(test)\n",
    "train_validation_h2o = get_h2o_frame_with_rel_factors(train_validation)"
   ]
  },
  {
   "cell_type": "code",
   "execution_count": 21,
   "metadata": {},
   "outputs": [],
   "source": [
    "def get_predictions_given_model_and_data(rf_fit, train_validation, train_validation_h2o):\n",
    "    # Using relevant routine from scikit learn.\n",
    "    predict_out = rf_fit.predict(train_validation_h2o) \n",
    "    if 'Survived' in train_validation.columns:\n",
    "        survived_set = pd.DataFrame(columns=['Survived', 'Predictions'])\n",
    "        survived_set['Survived'] = train_validation['Survived']\n",
    "    else:\n",
    "        survived_set = pd.DataFrame(columns=['Predictions'])\n",
    "    survived_set['Predictions'] = predict_out.as_data_frame()['predict'].values.tolist()\n",
    "    \n",
    "    return survived_set"
   ]
  },
  {
   "cell_type": "code",
   "execution_count": 22,
   "metadata": {},
   "outputs": [],
   "source": [
    "# The bread and butter routine for cross validation.\n",
    "def get_cross_val_output(input_df, x_columns=['Sex'], y_column = 'Survived', nfolds=10):\n",
    "    partition_indices = np.array_split(np.arange(len(input_df)), nfolds)\n",
    "    \n",
    "    cross_validated_data = pd.DataFrame(columns=input_df.columns)\n",
    "    for i in range(nfolds):\n",
    "        cross_validated_set = input_df[partition_indices[i][0]:partition_indices[i][-1] + 1].copy()\n",
    "        rel_training_data = pd.DataFrame(columns=input_df.columns)\n",
    "        for j in range(nfolds):\n",
    "            if j != i:\n",
    "                training_set = input_df[partition_indices[j][0]:partition_indices[j][-1] + 1]\n",
    "                rel_training_data = pd.concat([rel_training_data, training_set])\n",
    "        h2o_train_data = get_h2o_frame_with_rel_factors(rel_training_data)\n",
    "\n",
    "        rf_fit = H2ORandomForestEstimator(model_id='rf_fit', seed=1)\n",
    "        rf_fit.train(x=x_columns, y=y_column, training_frame=h2o_train_data)\n",
    "\n",
    "        predict_out = rf_fit.predict(\n",
    "            get_h2o_frame_with_rel_factors_test(cross_validated_set))                \n",
    "\n",
    "        cross_validated_set['Predictions'] = predict_out.as_data_frame()['predict'].values.tolist()\n",
    "        cross_validated_data = pd.concat([cross_validated_data, cross_validated_set])\n",
    "\n",
    "    return cross_validated_data\n",
    "    "
   ]
  },
  {
   "cell_type": "code",
   "execution_count": 23,
   "metadata": {
    "scrolled": false
   },
   "outputs": [
    {
     "name": "stdout",
     "output_type": "stream",
     "text": [
      "Parse progress: |█████████████████████████████████████████████████████████| 100%\n",
      "drf Model Build progress: |███████████████████████████████████████████████| 100%\n",
      "Parse progress: |█████████████████████████████████████████████████████████| 100%\n",
      "drf prediction progress: |████████████████████████████████████████████████| 100%\n",
      "Parse progress: |█████████████████████████████████████████████████████████| 100%\n",
      "drf Model Build progress: |███████████████████████████████████████████████| 100%\n",
      "Parse progress: |█████████████████████████████████████████████████████████| 100%\n",
      "drf prediction progress: |████████████████████████████████████████████████| 100%\n",
      "Parse progress: |█████████████████████████████████████████████████████████| 100%\n",
      "drf Model Build progress: |███████████████████████████████████████████████| 100%\n",
      "Parse progress: |█████████████████████████████████████████████████████████| 100%\n",
      "drf prediction progress: |████████████████████████████████████████████████| 100%\n",
      "Parse progress: |█████████████████████████████████████████████████████████| 100%\n",
      "drf Model Build progress: |███████████████████████████████████████████████| 100%\n",
      "Parse progress: |█████████████████████████████████████████████████████████| 100%\n",
      "drf prediction progress: |████████████████████████████████████████████████| 100%\n",
      "Parse progress: |█████████████████████████████████████████████████████████| 100%\n",
      "drf Model Build progress: |███████████████████████████████████████████████| 100%\n",
      "Parse progress: |█████████████████████████████████████████████████████████| 100%\n",
      "drf prediction progress: |████████████████████████████████████████████████| 100%\n",
      "Parse progress: |█████████████████████████████████████████████████████████| 100%\n",
      "drf Model Build progress: |███████████████████████████████████████████████| 100%\n",
      "Parse progress: |█████████████████████████████████████████████████████████| 100%\n",
      "drf prediction progress: |████████████████████████████████████████████████| 100%\n",
      "Parse progress: |█████████████████████████████████████████████████████████| 100%\n",
      "drf Model Build progress: |███████████████████████████████████████████████| 100%\n",
      "Parse progress: |█████████████████████████████████████████████████████████| 100%\n",
      "drf prediction progress: |████████████████████████████████████████████████| 100%\n",
      "Parse progress: |█████████████████████████████████████████████████████████| 100%\n",
      "drf Model Build progress: |███████████████████████████████████████████████| 100%\n",
      "Parse progress: |█████████████████████████████████████████████████████████| 100%\n",
      "drf prediction progress: |████████████████████████████████████████████████| 100%\n",
      "Parse progress: |█████████████████████████████████████████████████████████| 100%\n",
      "drf Model Build progress: |███████████████████████████████████████████████| 100%\n",
      "Parse progress: |█████████████████████████████████████████████████████████| 100%\n",
      "drf prediction progress: |████████████████████████████████████████████████| 100%\n",
      "Parse progress: |█████████████████████████████████████████████████████████| 100%\n",
      "drf Model Build progress: |███████████████████████████████████████████████| 100%\n",
      "Parse progress: |█████████████████████████████████████████████████████████| 100%\n",
      "drf prediction progress: |████████████████████████████████████████████████| 100%\n"
     ]
    }
   ],
   "source": [
    "cross_validated_output = get_cross_val_output(train_validation, x_columns=['Sex'], y_column = 'Survived', nfolds=10)"
   ]
  },
  {
   "cell_type": "code",
   "execution_count": 24,
   "metadata": {},
   "outputs": [],
   "source": [
    "assert(cross_validated_output[cross_validated_output['Predictions'] == -1].empty)"
   ]
  },
  {
   "cell_type": "code",
   "execution_count": 25,
   "metadata": {},
   "outputs": [
    {
     "name": "stdout",
     "output_type": "stream",
     "text": [
      "Fit score obtained through cross validation is  0.7859281437125747\n"
     ]
    }
   ],
   "source": [
    "print(\"Fit score obtained through cross validation is \", \n",
    "      np.sum((cross_validated_output['Survived'] == cross_validated_output['Predictions'])/len(\n",
    "          cross_validated_output['Survived'])))"
   ]
  },
  {
   "cell_type": "code",
   "execution_count": 26,
   "metadata": {},
   "outputs": [
    {
     "name": "stdout",
     "output_type": "stream",
     "text": [
      "0.768947963800905\n"
     ]
    }
   ],
   "source": [
    "print(roc_auc_score(cross_validated_output['Survived'].apply(lambda x : int(x)), \n",
    "                    cross_validated_output['Predictions'].apply(lambda x : int(x))))"
   ]
  },
  {
   "cell_type": "markdown",
   "metadata": {},
   "source": [
    "### Out of sample testing.\n",
    "Let us see how out of sample testing looks with this model. Intuitively, one would not expect the results to be much different from that of cross validation."
   ]
  },
  {
   "cell_type": "code",
   "execution_count": 27,
   "metadata": {},
   "outputs": [
    {
     "data": {
      "text/plain": [
       "0.7593409444732745"
      ]
     },
     "execution_count": 27,
     "metadata": {},
     "output_type": "execute_result"
    }
   ],
   "source": [
    "\n",
    "rf_fit_cross_val.model_performance(test_h2o).auc()"
   ]
  },
  {
   "cell_type": "code",
   "execution_count": 28,
   "metadata": {},
   "outputs": [
    {
     "data": {
      "text/plain": [
       "0.7285507246376812"
      ]
     },
     "execution_count": 28,
     "metadata": {},
     "output_type": "execute_result"
    }
   ],
   "source": [
    "rf_fit_cross_val.model_performance(train_validation_h2o).auc()\n",
    "rf_fit_cross_val.auc(xval=True)"
   ]
  },
  {
   "cell_type": "markdown",
   "metadata": {},
   "source": [
    "Let us see how things look, using the performance metrics designed by us "
   ]
  },
  {
   "cell_type": "code",
   "execution_count": 29,
   "metadata": {},
   "outputs": [
    {
     "name": "stdout",
     "output_type": "stream",
     "text": [
      "drf prediction progress: |████████████████████████████████████████████████| 100%\n"
     ]
    }
   ],
   "source": [
    "predictions_set = get_predictions_given_model_and_data(rf_fit_cross_val, test, test_h2o)"
   ]
  },
  {
   "cell_type": "code",
   "execution_count": 30,
   "metadata": {
    "scrolled": false
   },
   "outputs": [
    {
     "name": "stdout",
     "output_type": "stream",
     "text": [
      "Computed AUC is  0.7593409444732746\n"
     ]
    }
   ],
   "source": [
    "print(\"Computed AUC is \", \n",
    "      roc_auc_score(predictions_set['Survived'].apply(lambda x : int(x)), \n",
    "                    predictions_set['Predictions'].apply(lambda x : int(x))))"
   ]
  },
  {
   "cell_type": "code",
   "execution_count": 31,
   "metadata": {},
   "outputs": [
    {
     "name": "stdout",
     "output_type": "stream",
     "text": [
      "Computed fit score is  0.7892376681614349\n"
     ]
    }
   ],
   "source": [
    "print(\"Computed fit score is \",\n",
    "      np.sum((predictions_set['Survived'] == predictions_set['Predictions'])/len(\n",
    "          predictions_set['Survived'])))"
   ]
  },
  {
   "cell_type": "markdown",
   "metadata": {},
   "source": [
    "### Train the model on entire training data"
   ]
  },
  {
   "cell_type": "code",
   "execution_count": 32,
   "metadata": {
    "scrolled": false
   },
   "outputs": [
    {
     "name": "stdout",
     "output_type": "stream",
     "text": [
      "drf Model Build progress: |███████████████████████████████████████████████| 100%\n"
     ]
    }
   ],
   "source": [
    "model1_full_train_data = H2ORandomForestEstimator(model_id='model1_full_train_data', seed=1)\n",
    "model1_full_train_data.train(x=x_columns, y=y_column, \n",
    "                             training_frame=train_data_h2o)\n"
   ]
  },
  {
   "cell_type": "markdown",
   "metadata": {},
   "source": [
    "###  Making predictions\n",
    "Let us make predictions on the test data here !"
   ]
  },
  {
   "cell_type": "code",
   "execution_count": 33,
   "metadata": {},
   "outputs": [
    {
     "name": "stdout",
     "output_type": "stream",
     "text": [
      "drf prediction progress: |████████████████████████████████████████████████| 100%\n"
     ]
    }
   ],
   "source": [
    "predict_out = get_predictions_given_model_and_data(model1_full_train_data, test_data, test_data_h2o)"
   ]
  },
  {
   "cell_type": "code",
   "execution_count": 34,
   "metadata": {},
   "outputs": [],
   "source": [
    "test_data['Survived'] = predict_out['Predictions']"
   ]
  },
  {
   "cell_type": "markdown",
   "metadata": {},
   "source": [
    "Some sanity on test data !"
   ]
  },
  {
   "cell_type": "code",
   "execution_count": 35,
   "metadata": {},
   "outputs": [
    {
     "data": {
      "text/html": [
       "<div>\n",
       "<style scoped>\n",
       "    .dataframe tbody tr th:only-of-type {\n",
       "        vertical-align: middle;\n",
       "    }\n",
       "\n",
       "    .dataframe tbody tr th {\n",
       "        vertical-align: top;\n",
       "    }\n",
       "\n",
       "    .dataframe thead th {\n",
       "        text-align: right;\n",
       "    }\n",
       "</style>\n",
       "<table border=\"1\" class=\"dataframe\">\n",
       "  <thead>\n",
       "    <tr style=\"text-align: right;\">\n",
       "      <th></th>\n",
       "      <th>PassengerId</th>\n",
       "      <th>Pclass</th>\n",
       "      <th>Name</th>\n",
       "      <th>Sex</th>\n",
       "      <th>Age</th>\n",
       "      <th>SibSp</th>\n",
       "      <th>Parch</th>\n",
       "      <th>Ticket</th>\n",
       "      <th>Fare</th>\n",
       "      <th>Cabin</th>\n",
       "      <th>Embarked</th>\n",
       "      <th>Survived</th>\n",
       "    </tr>\n",
       "  </thead>\n",
       "  <tbody>\n",
       "  </tbody>\n",
       "</table>\n",
       "</div>"
      ],
      "text/plain": [
       "Empty DataFrame\n",
       "Columns: [PassengerId, Pclass, Name, Sex, Age, SibSp, Parch, Ticket, Fare, Cabin, Embarked, Survived]\n",
       "Index: []"
      ]
     },
     "execution_count": 35,
     "metadata": {},
     "output_type": "execute_result"
    }
   ],
   "source": [
    "test_data[(test_data['Survived'] ==1) &(test_data['Sex'] == 'male')]"
   ]
  },
  {
   "cell_type": "code",
   "execution_count": 36,
   "metadata": {},
   "outputs": [],
   "source": [
    "test_data[['PassengerId', 'Survived']].sort_values(by=['PassengerId']).to_csv(\"output_only_gender.csv\", index=False)\n",
    "# Kaggle score : 0.76555 ???"
   ]
  }
 ],
 "metadata": {
  "kernelspec": {
   "display_name": "Python 3",
   "language": "python",
   "name": "python3"
  },
  "language_info": {
   "codemirror_mode": {
    "name": "ipython",
    "version": 3
   },
   "file_extension": ".py",
   "mimetype": "text/x-python",
   "name": "python",
   "nbconvert_exporter": "python",
   "pygments_lexer": "ipython3",
   "version": "3.6.4"
  }
 },
 "nbformat": 4,
 "nbformat_minor": 2
}
