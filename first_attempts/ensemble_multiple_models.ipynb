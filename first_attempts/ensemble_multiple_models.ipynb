{
 "cells": [
  {
   "cell_type": "markdown",
   "metadata": {},
   "source": [
    "\n",
    "# Basic Overview\n",
    "The objective is to see if we can squeeze out some more predictive power from logistic regression, random forest and\n",
    "xgboot models via ensembling.\n",
    "\n",
    "Comments/criticisms/appreciations are greatly accepted and appreciated. Do not be shy and send me an email at babinu@gmail.com !\n",
    "\n",
    "Source of data : https://www.kaggle.com/c/titanic/data"
   ]
  },
  {
   "cell_type": "code",
   "execution_count": 80,
   "metadata": {},
   "outputs": [],
   "source": [
    "import pandas as pd\n",
    "import numpy as np\n",
    "import os\n",
    "import re"
   ]
  },
  {
   "cell_type": "code",
   "execution_count": 81,
   "metadata": {},
   "outputs": [
    {
     "name": "stdout",
     "output_type": "stream",
     "text": [
      "['../learn_from_aashita/kaggle_out_xgboost_my_attempt_detailed_fine_tuning.csv', '../learn_from_oscar/kaggle_out_tickets_svc.csv', '../learn_from_oscar/kaggle_out_names_svc.csv']\n"
     ]
    }
   ],
   "source": [
    "files = [f for f in os.listdir('.') if re.match('kaggle_out.*\\.csv', f)]\n",
    "\n",
    "files = [\n",
    "         '../learn_from_aashita/kaggle_out_xgboost_my_attempt_detailed_fine_tuning.csv',\n",
    "        '../learn_from_oscar/kaggle_out_tickets_svc.csv',\n",
    "        '../learn_from_oscar/kaggle_out_names_svc.csv']\n",
    "print(files)\n",
    "count = 0\n",
    "master_df = pd.DataFrame()\n",
    "count_to_file_name = dict()\n",
    "for  csv_file in files:\n",
    "    count += 1\n",
    "    data_df = pd.read_csv(csv_file)\n",
    "    column_name = 'Survived_or_not_model_' + str(count)\n",
    "\n",
    "    survived_list = data_df['Survived'].values\n",
    "    master_df[column_name] = survived_list\n",
    "    master_df['PassengerId'] = data_df['PassengerId'].values\n",
    "    count_to_file_name[count] = csv_file\n",
    "    prev_survived_list = survived_list"
   ]
  },
  {
   "cell_type": "code",
   "execution_count": 82,
   "metadata": {},
   "outputs": [
    {
     "data": {
      "text/html": [
       "<div>\n",
       "<style scoped>\n",
       "    .dataframe tbody tr th:only-of-type {\n",
       "        vertical-align: middle;\n",
       "    }\n",
       "\n",
       "    .dataframe tbody tr th {\n",
       "        vertical-align: top;\n",
       "    }\n",
       "\n",
       "    .dataframe thead th {\n",
       "        text-align: right;\n",
       "    }\n",
       "</style>\n",
       "<table border=\"1\" class=\"dataframe\">\n",
       "  <thead>\n",
       "    <tr style=\"text-align: right;\">\n",
       "      <th></th>\n",
       "      <th>Survived_or_not_model_1</th>\n",
       "      <th>Survived_or_not_model_2</th>\n",
       "      <th>Survived_or_not_model_3</th>\n",
       "    </tr>\n",
       "  </thead>\n",
       "  <tbody>\n",
       "    <tr>\n",
       "      <th>Survived_or_not_model_1</th>\n",
       "      <td>1.000000</td>\n",
       "      <td>0.183321</td>\n",
       "      <td>0.875787</td>\n",
       "    </tr>\n",
       "    <tr>\n",
       "      <th>Survived_or_not_model_2</th>\n",
       "      <td>0.183321</td>\n",
       "      <td>1.000000</td>\n",
       "      <td>0.255624</td>\n",
       "    </tr>\n",
       "    <tr>\n",
       "      <th>Survived_or_not_model_3</th>\n",
       "      <td>0.875787</td>\n",
       "      <td>0.255624</td>\n",
       "      <td>1.000000</td>\n",
       "    </tr>\n",
       "  </tbody>\n",
       "</table>\n",
       "</div>"
      ],
      "text/plain": [
       "                         Survived_or_not_model_1  Survived_or_not_model_2  \\\n",
       "Survived_or_not_model_1                 1.000000                 0.183321   \n",
       "Survived_or_not_model_2                 0.183321                 1.000000   \n",
       "Survived_or_not_model_3                 0.875787                 0.255624   \n",
       "\n",
       "                         Survived_or_not_model_3  \n",
       "Survived_or_not_model_1                 0.875787  \n",
       "Survived_or_not_model_2                 0.255624  \n",
       "Survived_or_not_model_3                 1.000000  "
      ]
     },
     "execution_count": 82,
     "metadata": {},
     "output_type": "execute_result"
    }
   ],
   "source": [
    "relevant_cols = [col for col in master_df.columns if col not in ['PassengerId']]\n",
    "\n",
    "master_df[relevant_cols].corr()"
   ]
  },
  {
   "cell_type": "code",
   "execution_count": 83,
   "metadata": {},
   "outputs": [
    {
     "data": {
      "text/plain": [
       "<matplotlib.axes._subplots.AxesSubplot at 0x1a21991470>"
      ]
     },
     "execution_count": 83,
     "metadata": {},
     "output_type": "execute_result"
    },
    {
     "data": {
      "image/png": "[encoded data removed]",
      "text/plain": [
       "<Figure size 1152x648 with 2 Axes>"
      ]
     },
     "metadata": {},
     "output_type": "display_data"
    }
   ],
   "source": [
    "import seaborn as sns\n",
    "import matplotlib.pyplot as plt\n",
    "fig, ax = plt.subplots(1, 1, figsize=(16, 9))\n",
    "sns.heatmap(master_df[relevant_cols].corr(), ax=ax)"
   ]
  },
  {
   "cell_type": "markdown",
   "metadata": {},
   "source": [
    "### Comment\n",
    "The correlation is relatively, but let us still go with ensembling and see what we get (for more details see https://mlwave.com/kaggle-ensembling-guide/)"
   ]
  },
  {
   "cell_type": "code",
   "execution_count": 84,
   "metadata": {},
   "outputs": [],
   "source": [
    "def get_most_frequent_entry(a, b, c):\n",
    "    sum_vals = a + b + c\n",
    "    \n",
    "    if sum_vals <= 1:\n",
    "        frequent_val = 0\n",
    "    else:\n",
    "        frequent_val = 1\n",
    "    return frequent_val"
   ]
  },
  {
   "cell_type": "code",
   "execution_count": 85,
   "metadata": {},
   "outputs": [],
   "source": [
    "master_df['Survived_or_not_ensembled'] = master_df.apply(\n",
    "    lambda x : get_most_frequent_entry(x['Survived_or_not_model_1'], \n",
    "                                       x['Survived_or_not_model_2'], \n",
    "                                       x['Survived_or_not_model_3']), axis=1)"
   ]
  },
  {
   "cell_type": "code",
   "execution_count": 86,
   "metadata": {},
   "outputs": [],
   "source": [
    "master_df.sort_values(by=['PassengerId'], inplace=True)"
   ]
  },
  {
   "cell_type": "code",
   "execution_count": 87,
   "metadata": {},
   "outputs": [
    {
     "name": "stdout",
     "output_type": "stream",
     "text": [
      "Success rate of model on test data is 0.799\n"
     ]
    }
   ],
   "source": [
    "# Check with out of sample of data (to be submitted to kaggle.)\n",
    "test_data = pd.read_csv(\"../input/test_data_processed_correct.csv\")\n",
    "test_data['Predictions'] = master_df['Survived_or_not_ensembled']\n",
    "sucess_rate = (np.sum(test_data['Survived'] == test_data['Predictions'])/len(test_data))\n",
    "print(\"Success rate of model on test data is {0:0.3g}\".format(sucess_rate))"
   ]
  },
  {
   "cell_type": "code",
   "execution_count": 88,
   "metadata": {},
   "outputs": [
    {
     "name": "stdout",
     "output_type": "stream",
     "text": [
      "Number of passengers whose survivorship is to be predicted is 418\n",
      "Rel file is ../learn_from_aashita/kaggle_out_xgboost_my_attempt_detailed_fine_tuning.csv\n",
      "Number of entries with common prediction as that of the ensembled model is 401\n",
      "Rel file is ../learn_from_oscar/kaggle_out_tickets_svc.csv\n",
      "Number of entries with common prediction as that of the ensembled model is 290\n",
      "Rel file is ../learn_from_oscar/kaggle_out_names_svc.csv\n",
      "Number of entries with common prediction as that of the ensembled model is 411\n"
     ]
    }
   ],
   "source": [
    "# We notice that the success rate is same as in the case when we used xgboost models alone.\n",
    "# Let us confirm the same.\n",
    "print(\"Number of passengers whose survivorship is to be predicted is {0}\".format(len(master_df)))\n",
    "\n",
    "for i in range(len(files)):\n",
    "    index = i + 1\n",
    "    rel_csv_file = count_to_file_name.get(index)\n",
    "    print(\"Rel file is {0}\".format(rel_csv_file))    \n",
    "    single_model_prediction_col = 'Survived_or_not_model_' + str(index)\n",
    "    num_common_entries = np.sum(master_df[single_model_prediction_col] == master_df['Survived_or_not_ensembled'])\n",
    "    print(\"Number of entries with common prediction as that of the ensembled model is {0}\".format(num_common_entries))    \n",
    "    "
   ]
  },
  {
   "cell_type": "markdown",
   "metadata": {},
   "source": [
    "### Conclusion\n",
    "We do look to be getting some differences in the ensembled model(though the total accuracy remained same as that of the xgboost model). Let us generate and submit predictions to kaggle."
   ]
  },
  {
   "cell_type": "code",
   "execution_count": 89,
   "metadata": {},
   "outputs": [],
   "source": [
    "predictions_to_kaggle = test_data[['PassengerId', 'Predictions']].copy()\n",
    "#predictions_to_kaggle.rename(columns={'Predictions' : 'Survived'}, inplace=True)\n",
    "#predictions_to_kaggle.to_csv('kaggle_out_ensemble_xgboost_rft_logreg.csv', index=False)\n",
    "predictions_to_kaggle.to_csv('kaggle_out_ensemble_aashita_oscar.csv', index=False)\n",
    "#predictions_to_kaggle.to_csv('kaggle_out_ensemble_all_oscar.csv', index=False)\n",
    "#predictions_to_kaggle.to_csv('kaggle_out_ensemble_least_corr.csv', index=False)"
   ]
  }
 ],
 "metadata": {
  "kernelspec": {
   "display_name": "Python 3",
   "language": "python",
   "name": "python3"
  },
  "language_info": {
   "codemirror_mode": {
    "name": "ipython",
    "version": 3
   },
   "file_extension": ".py",
   "mimetype": "text/x-python",
   "name": "python",
   "nbconvert_exporter": "python",
   "pygments_lexer": "ipython3",
   "version": "3.6.4"
  }
 },
 "nbformat": 4,
 "nbformat_minor": 2
}
