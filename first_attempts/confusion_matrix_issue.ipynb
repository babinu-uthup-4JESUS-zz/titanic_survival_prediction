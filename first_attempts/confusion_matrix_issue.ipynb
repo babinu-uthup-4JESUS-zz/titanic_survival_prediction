{
 "cells": [
  {
   "cell_type": "code",
   "execution_count": 1,
   "metadata": {},
   "outputs": [
    {
     "name": "stdout",
     "output_type": "stream",
     "text": [
      "Checking whether there is an H2O instance running at http://localhost:54321. connected.\n",
      "Warning: Your H2O cluster version is too old (3 months and 19 days)! Please download and install the latest version from http://h2o.ai/download/\n"
     ]
    },
    {
     "data": {
      "text/html": [
       "<div style=\"overflow:auto\"><table style=\"width:50%\"><tr><td>H2O cluster uptime:</td>\n",
       "<td>3 days 0 hours 25 mins</td></tr>\n",
       "<tr><td>H2O cluster timezone:</td>\n",
       "<td>America/New_York</td></tr>\n",
       "<tr><td>H2O data parsing timezone:</td>\n",
       "<td>UTC</td></tr>\n",
       "<tr><td>H2O cluster version:</td>\n",
       "<td>3.18.0.2</td></tr>\n",
       "<tr><td>H2O cluster version age:</td>\n",
       "<td>3 months and 19 days !!!</td></tr>\n",
       "<tr><td>H2O cluster name:</td>\n",
       "<td>H2O_from_python_babs4JESUS_c6btew</td></tr>\n",
       "<tr><td>H2O cluster total nodes:</td>\n",
       "<td>1</td></tr>\n",
       "<tr><td>H2O cluster free memory:</td>\n",
       "<td>6.787 Gb</td></tr>\n",
       "<tr><td>H2O cluster total cores:</td>\n",
       "<td>8</td></tr>\n",
       "<tr><td>H2O cluster allowed cores:</td>\n",
       "<td>8</td></tr>\n",
       "<tr><td>H2O cluster status:</td>\n",
       "<td>locked, healthy</td></tr>\n",
       "<tr><td>H2O connection url:</td>\n",
       "<td>http://localhost:54321</td></tr>\n",
       "<tr><td>H2O connection proxy:</td>\n",
       "<td>None</td></tr>\n",
       "<tr><td>H2O internal security:</td>\n",
       "<td>False</td></tr>\n",
       "<tr><td>H2O API Extensions:</td>\n",
       "<td>XGBoost, Algos, AutoML, Core V3, Core V4</td></tr>\n",
       "<tr><td>Python version:</td>\n",
       "<td>3.6.4 final</td></tr></table></div>"
      ],
      "text/plain": [
       "--------------------------  ----------------------------------------\n",
       "H2O cluster uptime:         3 days 0 hours 25 mins\n",
       "H2O cluster timezone:       America/New_York\n",
       "H2O data parsing timezone:  UTC\n",
       "H2O cluster version:        3.18.0.2\n",
       "H2O cluster version age:    3 months and 19 days !!!\n",
       "H2O cluster name:           H2O_from_python_babs4JESUS_c6btew\n",
       "H2O cluster total nodes:    1\n",
       "H2O cluster free memory:    6.787 Gb\n",
       "H2O cluster total cores:    8\n",
       "H2O cluster allowed cores:  8\n",
       "H2O cluster status:         locked, healthy\n",
       "H2O connection url:         http://localhost:54321\n",
       "H2O connection proxy:\n",
       "H2O internal security:      False\n",
       "H2O API Extensions:         XGBoost, Algos, AutoML, Core V3, Core V4\n",
       "Python version:             3.6.4 final\n",
       "--------------------------  ----------------------------------------"
      ]
     },
     "metadata": {},
     "output_type": "display_data"
    }
   ],
   "source": [
    "import pandas as pd\n",
    "train_data = pd.read_csv(\"train.csv\")\n",
    "import h2o\n",
    "h2o.init(nthreads = -1, max_mem_size = 8)\n"
   ]
  },
  {
   "cell_type": "code",
   "execution_count": 6,
   "metadata": {},
   "outputs": [],
   "source": [
    "y_column = 'Survived'\n",
    "x_columns = 'Sex'"
   ]
  },
  {
   "cell_type": "code",
   "execution_count": 26,
   "metadata": {},
   "outputs": [
    {
     "name": "stdout",
     "output_type": "stream",
     "text": [
      "Parse progress: |█████████████████████████████████████████████████████████| 100%\n"
     ]
    }
   ],
   "source": [
    "clean_h2o_data = h2o.H2OFrame(train_data)    \n",
    "clean_h2o_data['Sex'] = clean_h2o_data['Sex'].asfactor()\n",
    "clean_h2o_data['Survived'] = clean_h2o_data['Survived'].asfactor()\n"
   ]
  },
  {
   "cell_type": "code",
   "execution_count": 27,
   "metadata": {},
   "outputs": [],
   "source": [
    "# Import H2O RF:\n",
    "from h2o.estimators.random_forest import H2ORandomForestEstimator\n"
   ]
  },
  {
   "cell_type": "code",
   "execution_count": 28,
   "metadata": {},
   "outputs": [
    {
     "name": "stdout",
     "output_type": "stream",
     "text": [
      "drf Model Build progress: |███████████████████████████████████████████████| 100%\n"
     ]
    }
   ],
   "source": [
    "# Do a 10 fold cross validation as that is done typically.\n",
    "rf_fit_cross_val = H2ORandomForestEstimator(model_id='rf_fit_cross_val', seed=1)\n",
    "rf_fit_cross_val.train(x=x_columns, y=y_column, \n",
    "                       training_frame=clean_h2o_data)\n"
   ]
  },
  {
   "cell_type": "code",
   "execution_count": 29,
   "metadata": {},
   "outputs": [
    {
     "name": "stdout",
     "output_type": "stream",
     "text": [
      "drf prediction progress: |████████████████████████████████████████████████| 100%\n"
     ]
    }
   ],
   "source": [
    "survived_set = clean_h2o_data['Survived']\n",
    "survived_set['predictions'] = rf_fit_cross_val.predict(clean_h2o_data)['predict']"
   ]
  },
  {
   "cell_type": "code",
   "execution_count": 30,
   "metadata": {},
   "outputs": [],
   "source": [
    "survived_set_df = survived_set.as_data_frame()"
   ]
  },
  {
   "cell_type": "code",
   "execution_count": 31,
   "metadata": {
    "scrolled": false
   },
   "outputs": [
    {
     "name": "stdout",
     "output_type": "stream",
     "text": [
      "Model Details\n",
      "=============\n",
      "H2ORandomForestEstimator :  Distributed Random Forest\n",
      "Model Key:  rf_fit_cross_val\n",
      "\n",
      "\n",
      "ModelMetricsBinomial: drf\n",
      "** Reported on train data. **\n",
      "\n",
      "MSE: 0.16668250151251918\n",
      "RMSE: 0.40826768364948895\n",
      "LogLoss: 0.5150414885568484\n",
      "Mean Per-Class Error: 0.37105742498322314\n",
      "AUC: 0.757959714100065\n",
      "Gini: 0.51591942820013\n",
      "Confusion Matrix (Act/Pred) for max f1 @ threshold = 0.7420382272629511: \n"
     ]
    },
    {
     "data": {
      "text/html": [
       "<div style=\"overflow:auto\"><table style=\"width:50%\"><tr><td><b></b></td>\n",
       "<td><b>0</b></td>\n",
       "<td><b>1</b></td>\n",
       "<td><b>Error</b></td>\n",
       "<td><b>Rate</b></td></tr>\n",
       "<tr><td>0</td>\n",
       "<td>514.0</td>\n",
       "<td>35.0</td>\n",
       "<td>0.0638</td>\n",
       "<td> (35.0/549.0)</td></tr>\n",
       "<tr><td>1</td>\n",
       "<td>232.0</td>\n",
       "<td>110.0</td>\n",
       "<td>0.6784</td>\n",
       "<td> (232.0/342.0)</td></tr>\n",
       "<tr><td>Total</td>\n",
       "<td>746.0</td>\n",
       "<td>145.0</td>\n",
       "<td>0.2997</td>\n",
       "<td> (267.0/891.0)</td></tr></table></div>"
      ],
      "text/plain": [
       "       0    1    Error    Rate\n",
       "-----  ---  ---  -------  -------------\n",
       "0      514  35   0.0638   (35.0/549.0)\n",
       "1      232  110  0.6784   (232.0/342.0)\n",
       "Total  746  145  0.2997   (267.0/891.0)"
      ]
     },
     "metadata": {},
     "output_type": "display_data"
    },
    {
     "name": "stdout",
     "output_type": "stream",
     "text": [
      "Maximum Metrics: Maximum metrics at their respective thresholds\n",
      "\n"
     ]
    },
    {
     "data": {
      "text/html": [
       "<div style=\"overflow:auto\"><table style=\"width:50%\"><tr><td><b>metric</b></td>\n",
       "<td><b>threshold</b></td>\n",
       "<td><b>value</b></td>\n",
       "<td><b>idx</b></td></tr>\n",
       "<tr><td>max f1</td>\n",
       "<td>0.7420382</td>\n",
       "<td>0.7103659</td>\n",
       "<td>13.0</td></tr>\n",
       "<tr><td>max f2</td>\n",
       "<td>0.1889081</td>\n",
       "<td>0.7569721</td>\n",
       "<td>34.0</td></tr>\n",
       "<tr><td>max f0point5</td>\n",
       "<td>0.7420382</td>\n",
       "<td>0.7290363</td>\n",
       "<td>13.0</td></tr>\n",
       "<tr><td>max accuracy</td>\n",
       "<td>0.7420382</td>\n",
       "<td>0.7867565</td>\n",
       "<td>13.0</td></tr>\n",
       "<tr><td>max precision</td>\n",
       "<td>0.7420382</td>\n",
       "<td>0.7586207</td>\n",
       "<td>8.0</td></tr>\n",
       "<tr><td>max recall</td>\n",
       "<td>0.1889081</td>\n",
       "<td>1.0</td>\n",
       "<td>34.0</td></tr>\n",
       "<tr><td>max specificity</td>\n",
       "<td>0.7420382</td>\n",
       "<td>0.9890710</td>\n",
       "<td>0.0</td></tr>\n",
       "<tr><td>max absolute_mcc</td>\n",
       "<td>0.7420382</td>\n",
       "<td>0.5433514</td>\n",
       "<td>13.0</td></tr>\n",
       "<tr><td>max min_per_class_accuracy</td>\n",
       "<td>0.1889084</td>\n",
       "<td>0.7163743</td>\n",
       "<td>14.0</td></tr>\n",
       "<tr><td>max mean_per_class_accuracy</td>\n",
       "<td>0.7420382</td>\n",
       "<td>0.7668728</td>\n",
       "<td>13.0</td></tr></table></div>"
      ],
      "text/plain": [
       "metric                       threshold    value     idx\n",
       "---------------------------  -----------  --------  -----\n",
       "max f1                       0.742038     0.710366  13\n",
       "max f2                       0.188908     0.756972  34\n",
       "max f0point5                 0.742038     0.729036  13\n",
       "max accuracy                 0.742038     0.786756  13\n",
       "max precision                0.742038     0.758621  8\n",
       "max recall                   0.188908     1         34\n",
       "max specificity              0.742038     0.989071  0\n",
       "max absolute_mcc             0.742038     0.543351  13\n",
       "max min_per_class_accuracy   0.188908     0.716374  14\n",
       "max mean_per_class_accuracy  0.742038     0.766873  13"
      ]
     },
     "metadata": {},
     "output_type": "display_data"
    },
    {
     "name": "stdout",
     "output_type": "stream",
     "text": [
      "Gains/Lift Table: Avg response rate: 38.38 %\n",
      "\n"
     ]
    },
    {
     "data": {
      "text/html": [
       "<div style=\"overflow:auto\"><table style=\"width:50%\"><tr><td><b></b></td>\n",
       "<td><b>group</b></td>\n",
       "<td><b>cumulative_data_fraction</b></td>\n",
       "<td><b>lower_threshold</b></td>\n",
       "<td><b>lift</b></td>\n",
       "<td><b>cumulative_lift</b></td>\n",
       "<td><b>response_rate</b></td>\n",
       "<td><b>cumulative_response_rate</b></td>\n",
       "<td><b>capture_rate</b></td>\n",
       "<td><b>cumulative_capture_rate</b></td>\n",
       "<td><b>gain</b></td>\n",
       "<td><b>cumulative_gain</b></td></tr>\n",
       "<tr><td></td>\n",
       "<td>1</td>\n",
       "<td>0.0224467</td>\n",
       "<td>0.7420382</td>\n",
       "<td>1.8236842</td>\n",
       "<td>1.8236842</td>\n",
       "<td>0.7</td>\n",
       "<td>0.7</td>\n",
       "<td>0.0409357</td>\n",
       "<td>0.0409357</td>\n",
       "<td>82.3684211</td>\n",
       "<td>82.3684211</td></tr>\n",
       "<tr><td></td>\n",
       "<td>2</td>\n",
       "<td>0.0336700</td>\n",
       "<td>0.7420382</td>\n",
       "<td>1.8236842</td>\n",
       "<td>1.8236842</td>\n",
       "<td>0.7</td>\n",
       "<td>0.7</td>\n",
       "<td>0.0204678</td>\n",
       "<td>0.0614035</td>\n",
       "<td>82.3684211</td>\n",
       "<td>82.3684211</td></tr>\n",
       "<tr><td></td>\n",
       "<td>3</td>\n",
       "<td>0.0493827</td>\n",
       "<td>0.7420382</td>\n",
       "<td>1.6748120</td>\n",
       "<td>1.7763158</td>\n",
       "<td>0.6428571</td>\n",
       "<td>0.6818182</td>\n",
       "<td>0.0263158</td>\n",
       "<td>0.0877193</td>\n",
       "<td>67.4812030</td>\n",
       "<td>77.6315789</td></tr>\n",
       "<tr><td></td>\n",
       "<td>4</td>\n",
       "<td>0.0549944</td>\n",
       "<td>0.7420382</td>\n",
       "<td>2.6052632</td>\n",
       "<td>1.8609023</td>\n",
       "<td>1.0</td>\n",
       "<td>0.7142857</td>\n",
       "<td>0.0146199</td>\n",
       "<td>0.1023392</td>\n",
       "<td>160.5263158</td>\n",
       "<td>86.0902256</td></tr>\n",
       "<tr><td></td>\n",
       "<td>5</td>\n",
       "<td>0.1234568</td>\n",
       "<td>0.7420382</td>\n",
       "<td>2.0073339</td>\n",
       "<td>1.9421053</td>\n",
       "<td>0.7704918</td>\n",
       "<td>0.7454545</td>\n",
       "<td>0.1374269</td>\n",
       "<td>0.2397661</td>\n",
       "<td>100.7333909</td>\n",
       "<td>94.2105263</td></tr>\n",
       "<tr><td></td>\n",
       "<td>6</td>\n",
       "<td>0.1627385</td>\n",
       "<td>0.7420382</td>\n",
       "<td>2.0842105</td>\n",
       "<td>1.9764065</td>\n",
       "<td>0.8</td>\n",
       "<td>0.7586207</td>\n",
       "<td>0.0818713</td>\n",
       "<td>0.3216374</td>\n",
       "<td>108.4210526</td>\n",
       "<td>97.6406534</td></tr>\n",
       "<tr><td></td>\n",
       "<td>7</td>\n",
       "<td>0.2312009</td>\n",
       "<td>0.7420382</td>\n",
       "<td>1.7937877</td>\n",
       "<td>1.9223301</td>\n",
       "<td>0.6885246</td>\n",
       "<td>0.7378641</td>\n",
       "<td>0.1228070</td>\n",
       "<td>0.4444444</td>\n",
       "<td>79.3787748</td>\n",
       "<td>92.2330097</td></tr>\n",
       "<tr><td></td>\n",
       "<td>8</td>\n",
       "<td>0.3142536</td>\n",
       "<td>0.7420382</td>\n",
       "<td>1.7603129</td>\n",
       "<td>1.8795113</td>\n",
       "<td>0.6756757</td>\n",
       "<td>0.7214286</td>\n",
       "<td>0.1461988</td>\n",
       "<td>0.5906433</td>\n",
       "<td>76.0312945</td>\n",
       "<td>87.9511278</td></tr>\n",
       "<tr><td></td>\n",
       "<td>9</td>\n",
       "<td>0.4242424</td>\n",
       "<td>0.1889084</td>\n",
       "<td>1.1431257</td>\n",
       "<td>1.6885965</td>\n",
       "<td>0.4387755</td>\n",
       "<td>0.6481481</td>\n",
       "<td>0.1257310</td>\n",
       "<td>0.7163743</td>\n",
       "<td>14.3125671</td>\n",
       "<td>68.8596491</td></tr>\n",
       "<tr><td></td>\n",
       "<td>10</td>\n",
       "<td>0.5072952</td>\n",
       "<td>0.1889084</td>\n",
       "<td>0.3520626</td>\n",
       "<td>1.4697834</td>\n",
       "<td>0.1351351</td>\n",
       "<td>0.5641593</td>\n",
       "<td>0.0292398</td>\n",
       "<td>0.7456140</td>\n",
       "<td>-64.7937411</td>\n",
       "<td>46.9783419</td></tr>\n",
       "<tr><td></td>\n",
       "<td>11</td>\n",
       "<td>0.6487093</td>\n",
       "<td>0.1889084</td>\n",
       "<td>0.4962406</td>\n",
       "<td>1.2575578</td>\n",
       "<td>0.1904762</td>\n",
       "<td>0.4826990</td>\n",
       "<td>0.0701754</td>\n",
       "<td>0.8157895</td>\n",
       "<td>-50.3759398</td>\n",
       "<td>25.7557822</td></tr>\n",
       "<tr><td></td>\n",
       "<td>12</td>\n",
       "<td>0.7059484</td>\n",
       "<td>0.1889083</td>\n",
       "<td>0.5619195</td>\n",
       "<td>1.2011547</td>\n",
       "<td>0.2156863</td>\n",
       "<td>0.4610493</td>\n",
       "<td>0.0321637</td>\n",
       "<td>0.8479532</td>\n",
       "<td>-43.8080495</td>\n",
       "<td>20.1154715</td></tr>\n",
       "<tr><td></td>\n",
       "<td>13</td>\n",
       "<td>0.8181818</td>\n",
       "<td>0.1889083</td>\n",
       "<td>0.5210526</td>\n",
       "<td>1.1078622</td>\n",
       "<td>0.2</td>\n",
       "<td>0.4252401</td>\n",
       "<td>0.0584795</td>\n",
       "<td>0.9064327</td>\n",
       "<td>-47.8947368</td>\n",
       "<td>10.7862248</td></tr>\n",
       "<tr><td></td>\n",
       "<td>14</td>\n",
       "<td>0.9158249</td>\n",
       "<td>0.1889083</td>\n",
       "<td>0.4491833</td>\n",
       "<td>1.0376354</td>\n",
       "<td>0.1724138</td>\n",
       "<td>0.3982843</td>\n",
       "<td>0.0438596</td>\n",
       "<td>0.9502924</td>\n",
       "<td>-55.0816697</td>\n",
       "<td>3.7635449</td></tr>\n",
       "<tr><td></td>\n",
       "<td>15</td>\n",
       "<td>1.0</td>\n",
       "<td>0.1889081</td>\n",
       "<td>0.5905263</td>\n",
       "<td>1.0</td>\n",
       "<td>0.2266667</td>\n",
       "<td>0.3838384</td>\n",
       "<td>0.0497076</td>\n",
       "<td>1.0</td>\n",
       "<td>-40.9473684</td>\n",
       "<td>0.0</td></tr></table></div>"
      ],
      "text/plain": [
       "    group    cumulative_data_fraction    lower_threshold    lift      cumulative_lift    response_rate    cumulative_response_rate    capture_rate    cumulative_capture_rate    gain      cumulative_gain\n",
       "--  -------  --------------------------  -----------------  --------  -----------------  ---------------  --------------------------  --------------  -------------------------  --------  -----------------\n",
       "    1        0.0224467                   0.742038           1.82368   1.82368            0.7              0.7                         0.0409357       0.0409357                  82.3684   82.3684\n",
       "    2        0.03367                     0.742038           1.82368   1.82368            0.7              0.7                         0.0204678       0.0614035                  82.3684   82.3684\n",
       "    3        0.0493827                   0.742038           1.67481   1.77632            0.642857         0.681818                    0.0263158       0.0877193                  67.4812   77.6316\n",
       "    4        0.0549944                   0.742038           2.60526   1.8609             1                0.714286                    0.0146199       0.102339                   160.526   86.0902\n",
       "    5        0.123457                    0.742038           2.00733   1.94211            0.770492         0.745455                    0.137427        0.239766                   100.733   94.2105\n",
       "    6        0.162738                    0.742038           2.08421   1.97641            0.8              0.758621                    0.0818713       0.321637                   108.421   97.6407\n",
       "    7        0.231201                    0.742038           1.79379   1.92233            0.688525         0.737864                    0.122807        0.444444                   79.3788   92.233\n",
       "    8        0.314254                    0.742038           1.76031   1.87951            0.675676         0.721429                    0.146199        0.590643                   76.0313   87.9511\n",
       "    9        0.424242                    0.188908           1.14313   1.6886             0.438776         0.648148                    0.125731        0.716374                   14.3126   68.8596\n",
       "    10       0.507295                    0.188908           0.352063  1.46978            0.135135         0.564159                    0.0292398       0.745614                   -64.7937  46.9783\n",
       "    11       0.648709                    0.188908           0.496241  1.25756            0.190476         0.482699                    0.0701754       0.815789                   -50.3759  25.7558\n",
       "    12       0.705948                    0.188908           0.56192   1.20115            0.215686         0.461049                    0.0321637       0.847953                   -43.808   20.1155\n",
       "    13       0.818182                    0.188908           0.521053  1.10786            0.2              0.42524                     0.0584795       0.906433                   -47.8947  10.7862\n",
       "    14       0.915825                    0.188908           0.449183  1.03764            0.172414         0.398284                    0.0438596       0.950292                   -55.0817  3.76354\n",
       "    15       1                           0.188908           0.590526  1                  0.226667         0.383838                    0.0497076       1                          -40.9474  0"
      ]
     },
     "metadata": {},
     "output_type": "display_data"
    },
    {
     "name": "stdout",
     "output_type": "stream",
     "text": [
      "\n",
      "Scoring History: \n"
     ]
    },
    {
     "data": {
      "text/html": [
       "<div style=\"overflow:auto\"><table style=\"width:50%\"><tr><td><b></b></td>\n",
       "<td><b>timestamp</b></td>\n",
       "<td><b>duration</b></td>\n",
       "<td><b>number_of_trees</b></td>\n",
       "<td><b>training_rmse</b></td>\n",
       "<td><b>training_logloss</b></td>\n",
       "<td><b>training_auc</b></td>\n",
       "<td><b>training_lift</b></td>\n",
       "<td><b>training_classification_error</b></td></tr>\n",
       "<tr><td></td>\n",
       "<td>2018-06-25 14:49:41</td>\n",
       "<td> 0.000 sec</td>\n",
       "<td>0.0</td>\n",
       "<td>nan</td>\n",
       "<td>nan</td>\n",
       "<td>nan</td>\n",
       "<td>nan</td>\n",
       "<td>nan</td></tr>\n",
       "<tr><td></td>\n",
       "<td>2018-06-25 14:49:41</td>\n",
       "<td> 0.002 sec</td>\n",
       "<td>1.0</td>\n",
       "<td>0.4159935</td>\n",
       "<td>0.5291761</td>\n",
       "<td>0.7564076</td>\n",
       "<td>1.8641107</td>\n",
       "<td>0.2257053</td></tr>\n",
       "<tr><td></td>\n",
       "<td>2018-06-25 14:49:41</td>\n",
       "<td> 0.003 sec</td>\n",
       "<td>2.0</td>\n",
       "<td>0.4133440</td>\n",
       "<td>0.5242423</td>\n",
       "<td>0.7554480</td>\n",
       "<td>1.8752169</td>\n",
       "<td>0.2215909</td></tr>\n",
       "<tr><td></td>\n",
       "<td>2018-06-25 14:49:41</td>\n",
       "<td> 0.005 sec</td>\n",
       "<td>3.0</td>\n",
       "<td>0.4085014</td>\n",
       "<td>0.5148531</td>\n",
       "<td>0.7634202</td>\n",
       "<td>1.8679245</td>\n",
       "<td>0.2153846</td></tr>\n",
       "<tr><td></td>\n",
       "<td>2018-06-25 14:49:41</td>\n",
       "<td> 0.006 sec</td>\n",
       "<td>4.0</td>\n",
       "<td>0.4108006</td>\n",
       "<td>0.5194015</td>\n",
       "<td>0.7611488</td>\n",
       "<td>1.8537449</td>\n",
       "<td>0.2180350</td></tr>\n",
       "<tr><td>---</td>\n",
       "<td>---</td>\n",
       "<td>---</td>\n",
       "<td>---</td>\n",
       "<td>---</td>\n",
       "<td>---</td>\n",
       "<td>---</td>\n",
       "<td>---</td>\n",
       "<td>---</td></tr>\n",
       "<tr><td></td>\n",
       "<td>2018-06-25 14:49:41</td>\n",
       "<td> 0.085 sec</td>\n",
       "<td>46.0</td>\n",
       "<td>0.4082677</td>\n",
       "<td>0.5150415</td>\n",
       "<td>0.7636000</td>\n",
       "<td>2.0131579</td>\n",
       "<td>0.2132435</td></tr>\n",
       "<tr><td></td>\n",
       "<td>2018-06-25 14:49:41</td>\n",
       "<td> 0.087 sec</td>\n",
       "<td>47.0</td>\n",
       "<td>0.4082677</td>\n",
       "<td>0.5150415</td>\n",
       "<td>0.7585616</td>\n",
       "<td>1.8036437</td>\n",
       "<td>0.2132435</td></tr>\n",
       "<tr><td></td>\n",
       "<td>2018-06-25 14:49:41</td>\n",
       "<td> 0.088 sec</td>\n",
       "<td>48.0</td>\n",
       "<td>0.4082677</td>\n",
       "<td>0.5150415</td>\n",
       "<td>0.7633257</td>\n",
       "<td>1.8333333</td>\n",
       "<td>0.2132435</td></tr>\n",
       "<tr><td></td>\n",
       "<td>2018-06-25 14:49:41</td>\n",
       "<td> 0.090 sec</td>\n",
       "<td>49.0</td>\n",
       "<td>0.4082677</td>\n",
       "<td>0.5150415</td>\n",
       "<td>0.7648462</td>\n",
       "<td>1.9539474</td>\n",
       "<td>0.2132435</td></tr>\n",
       "<tr><td></td>\n",
       "<td>2018-06-25 14:49:41</td>\n",
       "<td> 0.092 sec</td>\n",
       "<td>50.0</td>\n",
       "<td>0.4082677</td>\n",
       "<td>0.5150415</td>\n",
       "<td>0.7579597</td>\n",
       "<td>1.8236842</td>\n",
       "<td>0.2132435</td></tr></table></div>"
      ],
      "text/plain": [
       "     timestamp            duration    number_of_trees    training_rmse        training_logloss    training_auc        training_lift       training_classification_error\n",
       "---  -------------------  ----------  -----------------  -------------------  ------------------  ------------------  ------------------  -------------------------------\n",
       "     2018-06-25 14:49:41  0.000 sec   0.0                nan                  nan                 nan                 nan                 nan\n",
       "     2018-06-25 14:49:41  0.002 sec   1.0                0.41599350419997144  0.5291761278266599  0.7564075892485645  1.864110707803993   0.22570532915360503\n",
       "     2018-06-25 14:49:41  0.003 sec   2.0                0.4133440346076846   0.5242422732482179  0.7554480347201987  1.8752168883747833  0.2215909090909091\n",
       "     2018-06-25 14:49:41  0.005 sec   3.0                0.40850139871401747  0.5148531314363173  0.763420171232528   1.8679245283018868  0.2153846153846154\n",
       "     2018-06-25 14:49:41  0.006 sec   4.0                0.4108005506142401   0.5194014939183996  0.7611487802977164  1.8537449392712553  0.2180349932705249\n",
       "---  ---                  ---         ---                ---                  ---                 ---                 ---                 ---\n",
       "     2018-06-25 14:49:41  0.085 sec   46.0               0.4082676832291561   0.5150414874844043  0.7635999531311581  2.013157894736842   0.2132435465768799\n",
       "     2018-06-25 14:49:41  0.087 sec   47.0               0.4082676836694841   0.5150414886374259  0.758561552636905   1.8036437246963564  0.2132435465768799\n",
       "     2018-06-25 14:49:41  0.088 sec   48.0               0.4082676834355231   0.515041488019233   0.7633256638864923  1.8333333333333335  0.2132435465768799\n",
       "     2018-06-25 14:49:41  0.090 sec   49.0               0.4082676834344663   0.5150414880197736  0.7648462382428446  1.9539473684210527  0.2132435465768799\n",
       "     2018-06-25 14:49:41  0.092 sec   50.0               0.40826768364948895  0.5150414885568484  0.757959714100065   1.8236842105263158  0.2132435465768799"
      ]
     },
     "metadata": {},
     "output_type": "display_data"
    },
    {
     "name": "stdout",
     "output_type": "stream",
     "text": [
      "\n",
      "See the whole table with table.as_data_frame()\n",
      "Variable Importances: \n"
     ]
    },
    {
     "data": {
      "text/html": [
       "<div style=\"overflow:auto\"><table style=\"width:50%\"><tr><td><b>variable</b></td>\n",
       "<td><b>relative_importance</b></td>\n",
       "<td><b>scaled_importance</b></td>\n",
       "<td><b>percentage</b></td></tr>\n",
       "<tr><td>Sex</td>\n",
       "<td>3110.6569824</td>\n",
       "<td>1.0</td>\n",
       "<td>1.0</td></tr></table></div>"
      ],
      "text/plain": [
       "variable    relative_importance    scaled_importance    percentage\n",
       "----------  ---------------------  -------------------  ------------\n",
       "Sex         3110.66                1                    1"
      ]
     },
     "metadata": {},
     "output_type": "display_data"
    },
    {
     "data": {
      "text/plain": []
     },
     "execution_count": 31,
     "metadata": {},
     "output_type": "execute_result"
    }
   ],
   "source": [
    "rf_fit_cross_val"
   ]
  },
  {
   "cell_type": "code",
   "execution_count": 39,
   "metadata": {},
   "outputs": [
    {
     "data": {
      "text/plain": [
       "81"
      ]
     },
     "execution_count": 39,
     "metadata": {},
     "output_type": "execute_result"
    }
   ],
   "source": [
    "len(survived_set_df[(survived_set_df['Survived'] == 0) & (survived_set_df['predictions'] == 1)])"
   ]
  }
 ],
 "metadata": {
  "kernelspec": {
   "display_name": "Python 3",
   "language": "python",
   "name": "python3"
  },
  "language_info": {
   "codemirror_mode": {
    "name": "ipython",
    "version": 3
   },
   "file_extension": ".py",
   "mimetype": "text/x-python",
   "name": "python",
   "nbconvert_exporter": "python",
   "pygments_lexer": "ipython3",
   "version": "3.6.4"
  }
 },
 "nbformat": 4,
 "nbformat_minor": 2
}
