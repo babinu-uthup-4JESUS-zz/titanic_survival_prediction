{
 "cells": [
  {
   "cell_type": "markdown",
   "metadata": {},
   "source": [
    "\n",
    "# Basic Overview\n",
    "The objective is to see if we can squeeze out some more predictive power from logistic regression, random forest and\n",
    "xgboot models via ensembling.\n",
    "\n",
    "Comments/criticisms/appreciations are greatly accepted and appreciated. Do not be shy and send me an email at babinu@gmail.com !\n",
    "\n",
    "Source of data : https://www.kaggle.com/c/titanic/data"
   ]
  },
  {
   "cell_type": "code",
   "execution_count": 105,
   "metadata": {},
   "outputs": [],
   "source": [
    "import pandas as pd\n",
    "import numpy as np\n",
    "import os\n",
    "import re"
   ]
  },
  {
   "cell_type": "code",
   "execution_count": 144,
   "metadata": {},
   "outputs": [
    {
     "name": "stdout",
     "output_type": "stream",
     "text": [
      "['kaggle_out_logistic_regression.csv', 'kaggle_out_random_forest.csv', 'kaggle_out_xgboost.csv']\n",
      "Correlation with previous list is 0.711\n",
      "Correlation with previous list is 0.725\n"
     ]
    }
   ],
   "source": [
    "files = [f for f in os.listdir('.') if re.match('kaggle_out.*\\.csv', f)]\n",
    "print(files)\n",
    "count = 0\n",
    "for  csv_file in files:\n",
    "    count += 1\n",
    "    data_df = pd.read_csv(csv_file)\n",
    "    survived_list = data_df['Survived'].values\n",
    "    if count > 1:\n",
    "        print(\"Correlation with previous list is {0:0.3g}\".format(\n",
    "            np.corrcoef(survived_list, prev_survived_list)[0,1]))\n",
    "    prev_survived_list = survived_list"
   ]
  },
  {
   "cell_type": "markdown",
   "metadata": {},
   "source": [
    "### Comment\n",
    "The correlation is relatively, but let us still go with ensembling and see what we get (for more details see https://mlwave.com/kaggle-ensembling-guide/)"
   ]
  },
  {
   "cell_type": "code",
   "execution_count": 132,
   "metadata": {},
   "outputs": [],
   "source": [
    "from collections import defaultdict\n",
    "pid_to_survived_0 = defaultdict(int)\n",
    "pid_to_survived_1 = defaultdict(int)\n"
   ]
  },
  {
   "cell_type": "code",
   "execution_count": 139,
   "metadata": {},
   "outputs": [],
   "source": [
    "# Log the predictions in each scenario and store them into relevant dictionaries.\n",
    "pid_to_survived_lists = list()\n",
    "for  csv_file in files:\n",
    "    data_df = pd.read_csv(csv_file)\n",
    "    pid_to_survived = dict(zip(data_df['PassengerId'], data_df['Survived']))\n",
    "    for (pid, survived) in pid_to_survived.items():\n",
    "        if survived == 0:                \n",
    "            pid_to_survived_0[pid] += 1\n",
    "        elif survived == 1:\n",
    "            pid_to_survived_1[pid] += 1\n",
    "        else:\n",
    "            print(\"Expected value {0} for survived obtained for pid {1}\".format(survived, pid))\n",
    "    pid_to_survived_lists.append(pid_to_survived)\n"
   ]
  },
  {
   "cell_type": "code",
   "execution_count": 140,
   "metadata": {},
   "outputs": [],
   "source": [
    "# Pick the majority of the predictions as the ensembled one.\n",
    "pid_to_ensembled_survived = dict()\n",
    "for pid in pid_to_survived_lists[0].keys():\n",
    "    num_zeros = pid_to_survived_0.get(pid, 0)\n",
    "    num_ones = pid_to_survived_1.get(pid, 0)\n",
    "    if num_zeros > num_ones:\n",
    "        pid_to_ensembled_survived[pid] = 0\n",
    "    else:\n",
    "        pid_to_ensembled_survived[pid] = 1\n"
   ]
  },
  {
   "cell_type": "code",
   "execution_count": 164,
   "metadata": {},
   "outputs": [
    {
     "name": "stdout",
     "output_type": "stream",
     "text": [
      "Success rate of model on test data is 0.773\n"
     ]
    }
   ],
   "source": [
    "# Check with out of sample of data (to be submitted to kaggle.)\n",
    "test_data = pd.read_csv(\"test_data_processed_correct.csv\")\n",
    "test_data['Predictions'] = test_data['PassengerId'].apply(lambda x : pid_to_ensembled_survived.get(x))\n",
    "sucess_rate = (np.sum(test_data['Survived'] == test_data['Predictions'])/len(test_data))\n",
    "print(\"Success rate of model on test data is {0:0.3g}\".format(sucess_rate))"
   ]
  },
  {
   "cell_type": "code",
   "execution_count": 162,
   "metadata": {},
   "outputs": [
    {
     "name": "stdout",
     "output_type": "stream",
     "text": [
      "Number of passengers whose survivorship is to be predicted is 418\n",
      "Number of entries with common prediction as that of the ensembled model is 406\n",
      "Number of entries with common prediction as that of the ensembled model is 375\n",
      "Number of entries with common prediction as that of the ensembled model is 408\n"
     ]
    }
   ],
   "source": [
    "# We notice that the success rate is same as in the case when we used xgboost models alone.\n",
    "# Let us confirm the same.\n",
    "print(\"Number of passengers whose survivorship is to be predicted is {0}\".format(len(pid_to_ensembled_survived)))\n",
    "\n",
    "for i in range(len(pid_to_survived_lists)):\n",
    "\n",
    "    relevant_prediction_dictionary = pid_to_survived_lists[i]\n",
    "\n",
    "    shared_items = \\\n",
    "        {k : pid_to_ensembled_survived[k] for k in relevant_prediction_dictionary.keys() if \\\n",
    "         relevant_prediction_dictionary[k] == pid_to_ensembled_survived[k]}\n",
    "    print(\"Number of entries with common prediction as that of the ensembled model is {0}\".format(len(shared_items)))"
   ]
  },
  {
   "cell_type": "markdown",
   "metadata": {},
   "source": [
    "### Conclusion\n",
    "We do look to be getting some differences in the ensembled model(though the total accuracy remained same as that of the xgboost model). Let us generate and submit predictions to kaggle."
   ]
  },
  {
   "cell_type": "code",
   "execution_count": 163,
   "metadata": {},
   "outputs": [],
   "source": [
    "predictions_to_kaggle = test_data[['PassengerId', 'Predictions']].copy()\n",
    "predictions_to_kaggle.rename(columns={'Predictions' : 'Survived'}, inplace=True)\n",
    "predictions_to_kaggle.to_csv('kaggle_out_ensemble_xgboost_rft_logreg.csv', index=False)"
   ]
  }
 ],
 "metadata": {
  "kernelspec": {
   "display_name": "Python 3",
   "language": "python",
   "name": "python3"
  },
  "language_info": {
   "codemirror_mode": {
    "name": "ipython",
    "version": 3
   },
   "file_extension": ".py",
   "mimetype": "text/x-python",
   "name": "python",
   "nbconvert_exporter": "python",
   "pygments_lexer": "ipython3",
   "version": "3.6.4"
  }
 },
 "nbformat": 4,
 "nbformat_minor": 2
}
