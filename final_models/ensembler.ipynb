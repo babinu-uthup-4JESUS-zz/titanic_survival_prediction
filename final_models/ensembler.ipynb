{
 "cells": [
  {
   "cell_type": "markdown",
   "metadata": {},
   "source": [
    "\n",
    "# Basic Overview\n",
    "Given all the models, which we have built, the idea is to intelligently ensemble them so as to a get a more powerful one.\n",
    "\n",
    "Source of data : https://www.kaggle.com/c/titanic/data"
   ]
  },
  {
   "cell_type": "code",
   "execution_count": 4,
   "metadata": {},
   "outputs": [],
   "source": [
    "import pandas as pd\n",
    "import numpy as np\n",
    "import os\n",
    "import re"
   ]
  },
  {
   "cell_type": "code",
   "execution_count": 5,
   "metadata": {},
   "outputs": [],
   "source": [
    "import seaborn as sns\n",
    "import matplotlib.pyplot as plt"
   ]
  },
  {
   "cell_type": "markdown",
   "metadata": {},
   "source": [
    "### Listing all relevant routines, that will be used for ensembling."
   ]
  },
  {
   "cell_type": "code",
   "execution_count": 6,
   "metadata": {},
   "outputs": [],
   "source": [
    "def populate_model_files_data(files):\n",
    "    count = 0\n",
    "    master_df = pd.DataFrame()\n",
    "    count_to_file_name = dict()\n",
    "    for  csv_file in files:\n",
    "        count += 1\n",
    "        data_df = pd.read_csv(csv_file)\n",
    "        column_name = 'Survived_or_not_model_' + str(count)\n",
    "\n",
    "        survived_list = data_df['Survived'].values\n",
    "        master_df[column_name] = survived_list\n",
    "        master_df['PassengerId'] = data_df['PassengerId'].values\n",
    "        count_to_file_name[count] = csv_file\n",
    "        prev_survived_list = survived_list\n",
    "    return master_df"
   ]
  },
  {
   "cell_type": "code",
   "execution_count": 7,
   "metadata": {},
   "outputs": [],
   "source": [
    "def display_corr_info(master_df, generate_corr_heat_map):\n",
    "    relevant_cols = [col for col in master_df.columns if col not in ['PassengerId']]\n",
    "\n",
    "    print(\"                              CORRELATION MATRIX OF MODEL OUTPUTS\")\n",
    "    display(master_df[relevant_cols].corr())\n",
    "    if generate_corr_heat_map:\n",
    "        fig, ax = plt.subplots(1, 1, figsize=(16, 9))\n",
    "        sns.heatmap(master_df[relevant_cols].corr(), ax=ax)    "
   ]
  },
  {
   "cell_type": "code",
   "execution_count": 8,
   "metadata": {},
   "outputs": [],
   "source": [
    "def get_most_frequent_entry_3(a, b, c):\n",
    "    sum_vals = a + b + c\n",
    "    \n",
    "    if sum_vals <= 1:\n",
    "        frequent_val = 0\n",
    "    else:\n",
    "        frequent_val = 1\n",
    "    return frequent_val"
   ]
  },
  {
   "cell_type": "code",
   "execution_count": 9,
   "metadata": {},
   "outputs": [],
   "source": [
    "def get_most_frequent_entry_5(a, b, c, d, e):\n",
    "    sum_vals = a + b + c + d + e\n",
    "    \n",
    "    if sum_vals <= 2:\n",
    "        frequent_val = 0\n",
    "    else:\n",
    "        frequent_val = 1\n",
    "    return frequent_val"
   ]
  },
  {
   "cell_type": "code",
   "execution_count": 10,
   "metadata": {},
   "outputs": [],
   "source": [
    "def get_most_frequent_entry_7(a, b, c, d, e, f, g):\n",
    "    sum_vals = a + b + c + d  + e + f + g\n",
    "    \n",
    "    if sum_vals <= 3:\n",
    "        frequent_val = 0\n",
    "    else:\n",
    "        frequent_val = 1\n",
    "    return frequent_val"
   ]
  },
  {
   "cell_type": "code",
   "execution_count": 11,
   "metadata": {},
   "outputs": [],
   "source": [
    "def update_ensembled_cols(master_df):\n",
    "    \n",
    "    # Decrease by 1 to account for PassengerId column.\n",
    "    num_files = len(master_df.columns) - 1\n",
    "    if num_files == 7:\n",
    "        master_df['Survived_or_not_ensembled'] = master_df.apply(\n",
    "            lambda x : get_most_frequent_entry_7(x['Survived_or_not_model_1'], \n",
    "                                                 x['Survived_or_not_model_2'], \n",
    "                                                 x['Survived_or_not_model_3'],                                        \n",
    "                                                 x['Survived_or_not_model_4'],                                                                               \n",
    "                                                 x['Survived_or_not_model_5'],\n",
    "                                                 x['Survived_or_not_model_6'],\n",
    "                                                 x['Survived_or_not_model_7']), axis=1)\n",
    "\n",
    "    elif num_files == 5:\n",
    "\n",
    "        master_df['Survived_or_not_ensembled'] = master_df.apply(\n",
    "            lambda x : get_most_frequent_entry_5(x['Survived_or_not_model_1'], \n",
    "                                                 x['Survived_or_not_model_2'], \n",
    "                                                 x['Survived_or_not_model_3'],                                        \n",
    "                                                 x['Survived_or_not_model_4'],                                                                               \n",
    "                                                 x['Survived_or_not_model_5']), axis=1)\n",
    "    elif num_files == 3:\n",
    "        master_df['Survived_or_not_ensembled'] = master_df.apply(\n",
    "            lambda x : get_most_frequent_entry_3(x['Survived_or_not_model_1'], \n",
    "                                                 x['Survived_or_not_model_2'], \n",
    "                                                 x['Survived_or_not_model_3']), axis=1)    \n",
    "    master_df.sort_values(by=['PassengerId'], inplace=True)"
   ]
  },
  {
   "cell_type": "code",
   "execution_count": 12,
   "metadata": {},
   "outputs": [],
   "source": [
    "def display_commonalities_stats(master_df, files):\n",
    "    \n",
    "    print(\"                              COMMONALITY STATS\\n\")\n",
    "    print(\"Number of entries to be predicted         : {0}\".format(len(master_df)))\n",
    "\n",
    "    for i in range(len(files)):\n",
    "        index = i + 1\n",
    "        rel_csv_file = files[i]\n",
    "        print(\"\\nRelevant model file                       : {0}\".format(rel_csv_file))    \n",
    "        single_model_prediction_col = 'Survived_or_not_model_' + str(index)\n",
    "        num_common_entries = np.sum(master_df[single_model_prediction_col] == master_df['Survived_or_not_ensembled'])\n",
    "        print(\"Number of entries common with final model : {0}\".format(num_common_entries))    \n",
    "    "
   ]
  },
  {
   "cell_type": "code",
   "execution_count": 13,
   "metadata": {},
   "outputs": [],
   "source": [
    "def dump_predictions_to_csv(master_df, csv_file):\n",
    "    predictions_to_kaggle = master_df[['PassengerId', 'Survived_or_not_ensembled']].copy()\n",
    "    predictions_to_kaggle.rename(columns={'Survived_or_not_ensembled' : 'Survived'}, inplace=True)\n",
    "    predictions_to_kaggle.to_csv(csv_file, index=False)    "
   ]
  },
  {
   "cell_type": "code",
   "execution_count": 14,
   "metadata": {},
   "outputs": [],
   "source": [
    "def generate_ensembled_predictions_and_verify_results(files, generate_corr_heat_map=False, \n",
    "                                                      generate_csv=False, csv_file='temp.csv'):\n",
    "    master_df = populate_model_files_data(files)\n",
    "    \n",
    "    # Display correlation info amongst predictors as a matrix as well as  heatmap\n",
    "    display_corr_info(master_df, generate_corr_heat_map)\n",
    "    \n",
    "    # The core routine for selecting the majority vote as the ensembled prediction.\n",
    "    update_ensembled_cols(master_df)\n",
    "    \n",
    "    \n",
    "    # How common are the ensembled predictions \n",
    "    display_commonalities_stats(master_df, files)\n",
    "    \n",
    "    if generate_csv:\n",
    "        dump_predictions_to_csv(master_df, csv_file)\n"
   ]
  },
  {
   "cell_type": "markdown",
   "metadata": {},
   "source": [
    "### Listing models by their out of sample performance\n",
    "\n",
    "Before we set out in our ensembling journey, let us list the output files corresponding to each model and their respective out of sample performances."
   ]
  },
  {
   "cell_type": "code",
   "execution_count": 17,
   "metadata": {},
   "outputs": [],
   "source": [
    "#kaggle_out_xgboost_sex_pclass_age_fare : 0.8305672733436958\n",
    "# : 0.8010471204188482\n",
    "#kaggle_out_svc_tickets : 0.7329842931937173\n",
    "#kaggle_out_xgboost_cabin_null : 0.6925897239756053\n",
    "#kaggle_out_xgboost_parch_sibsp_embarked_s : 0.6850822065638291"
   ]
  },
  {
   "cell_type": "markdown",
   "metadata": {},
   "source": [
    "### Starting with the ensembler.\n",
    "\n",
    "We start with the default ensembler with our 3 best models."
   ]
  },
  {
   "cell_type": "code",
   "execution_count": 22,
   "metadata": {},
   "outputs": [],
   "source": [
    "files = [\n",
    "        'kaggle_out_xgboost_sex_pclass_age_fare.csv',\n",
    "        'kaggle_out_svc_names.csv',\n",
    "        'kaggle_out_svc_tickets.csv']\n"
   ]
  },
  {
   "cell_type": "code",
   "execution_count": 24,
   "metadata": {},
   "outputs": [
    {
     "name": "stdout",
     "output_type": "stream",
     "text": [
      "                              CORRELATION MATRIX OF MODEL OUTPUTS\n"
     ]
    },
    {
     "data": {
      "text/html": [
       "<div>\n",
       "<style scoped>\n",
       "    .dataframe tbody tr th:only-of-type {\n",
       "        vertical-align: middle;\n",
       "    }\n",
       "\n",
       "    .dataframe tbody tr th {\n",
       "        vertical-align: top;\n",
       "    }\n",
       "\n",
       "    .dataframe thead th {\n",
       "        text-align: right;\n",
       "    }\n",
       "</style>\n",
       "<table border=\"1\" class=\"dataframe\">\n",
       "  <thead>\n",
       "    <tr style=\"text-align: right;\">\n",
       "      <th></th>\n",
       "      <th>Survived_or_not_model_1</th>\n",
       "      <th>Survived_or_not_model_2</th>\n",
       "      <th>Survived_or_not_model_3</th>\n",
       "    </tr>\n",
       "  </thead>\n",
       "  <tbody>\n",
       "    <tr>\n",
       "      <th>Survived_or_not_model_1</th>\n",
       "      <td>1.000000</td>\n",
       "      <td>0.875787</td>\n",
       "      <td>0.183321</td>\n",
       "    </tr>\n",
       "    <tr>\n",
       "      <th>Survived_or_not_model_2</th>\n",
       "      <td>0.875787</td>\n",
       "      <td>1.000000</td>\n",
       "      <td>0.255624</td>\n",
       "    </tr>\n",
       "    <tr>\n",
       "      <th>Survived_or_not_model_3</th>\n",
       "      <td>0.183321</td>\n",
       "      <td>0.255624</td>\n",
       "      <td>1.000000</td>\n",
       "    </tr>\n",
       "  </tbody>\n",
       "</table>\n",
       "</div>"
      ],
      "text/plain": [
       "                         Survived_or_not_model_1  Survived_or_not_model_2  \\\n",
       "Survived_or_not_model_1                 1.000000                 0.875787   \n",
       "Survived_or_not_model_2                 0.875787                 1.000000   \n",
       "Survived_or_not_model_3                 0.183321                 0.255624   \n",
       "\n",
       "                         Survived_or_not_model_3  \n",
       "Survived_or_not_model_1                 0.183321  \n",
       "Survived_or_not_model_2                 0.255624  \n",
       "Survived_or_not_model_3                 1.000000  "
      ]
     },
     "metadata": {},
     "output_type": "display_data"
    },
    {
     "name": "stdout",
     "output_type": "stream",
     "text": [
      "                              COMMONALITY STATS\n",
      "\n",
      "Number of entries to be predicted         : 418\n",
      "\n",
      "Relevant model file                       : kaggle_out_xgboost_sex_pclass_age_fare.csv\n",
      "Number of entries common with final model : 401\n",
      "\n",
      "Relevant model file                       : kaggle_out_svc_names.csv\n",
      "Number of entries common with final model : 411\n",
      "\n",
      "Relevant model file                       : kaggle_out_svc_tickets.csv\n",
      "Number of entries common with final model : 290\n"
     ]
    }
   ],
   "source": [
    "generate_ensembled_predictions_and_verify_results(files, \n",
    "                                                  generate_corr_heat_map=False, \n",
    "                                                  generate_csv=False)"
   ]
  },
  {
   "cell_type": "markdown",
   "metadata": {},
   "source": [
    "Comments : The correlation of the third model with the first 2 is very small, thus enabling it to be a good ensembler.\n",
    "\n",
    "However, we have an idea here :\n",
    "\n",
    "We have 3 models, which are not greatly performing in themselves, but have reasonably small correlation with each other. If we combine these 3 by ensembling, shouldn't we get a model that is more powerful that these 3 individual ones and at the same time preserve the low correlation with the first 2 powerful models ?\n"
   ]
  },
  {
   "cell_type": "markdown",
   "metadata": {},
   "source": [
    "### Ensemble of bottom 3 models"
   ]
  },
  {
   "cell_type": "code",
   "execution_count": 25,
   "metadata": {},
   "outputs": [],
   "source": [
    "files = [\n",
    "        'kaggle_out_svc_tickets.csv',\n",
    "        'kaggle_out_xgboost_cabin_null.csv',\n",
    "        'kaggle_out_xgboost_parch_sibsp_embarked_s.csv' ]\n"
   ]
  },
  {
   "cell_type": "code",
   "execution_count": 26,
   "metadata": {},
   "outputs": [
    {
     "name": "stdout",
     "output_type": "stream",
     "text": [
      "                              CORRELATION MATRIX OF MODEL OUTPUTS\n"
     ]
    },
    {
     "data": {
      "text/html": [
       "<div>\n",
       "<style scoped>\n",
       "    .dataframe tbody tr th:only-of-type {\n",
       "        vertical-align: middle;\n",
       "    }\n",
       "\n",
       "    .dataframe tbody tr th {\n",
       "        vertical-align: top;\n",
       "    }\n",
       "\n",
       "    .dataframe thead th {\n",
       "        text-align: right;\n",
       "    }\n",
       "</style>\n",
       "<table border=\"1\" class=\"dataframe\">\n",
       "  <thead>\n",
       "    <tr style=\"text-align: right;\">\n",
       "      <th></th>\n",
       "      <th>Survived_or_not_model_1</th>\n",
       "      <th>Survived_or_not_model_2</th>\n",
       "      <th>Survived_or_not_model_3</th>\n",
       "    </tr>\n",
       "  </thead>\n",
       "  <tbody>\n",
       "    <tr>\n",
       "      <th>Survived_or_not_model_1</th>\n",
       "      <td>1.000000</td>\n",
       "      <td>0.293430</td>\n",
       "      <td>0.360471</td>\n",
       "    </tr>\n",
       "    <tr>\n",
       "      <th>Survived_or_not_model_2</th>\n",
       "      <td>0.293430</td>\n",
       "      <td>1.000000</td>\n",
       "      <td>0.207858</td>\n",
       "    </tr>\n",
       "    <tr>\n",
       "      <th>Survived_or_not_model_3</th>\n",
       "      <td>0.360471</td>\n",
       "      <td>0.207858</td>\n",
       "      <td>1.000000</td>\n",
       "    </tr>\n",
       "  </tbody>\n",
       "</table>\n",
       "</div>"
      ],
      "text/plain": [
       "                         Survived_or_not_model_1  Survived_or_not_model_2  \\\n",
       "Survived_or_not_model_1                 1.000000                 0.293430   \n",
       "Survived_or_not_model_2                 0.293430                 1.000000   \n",
       "Survived_or_not_model_3                 0.360471                 0.207858   \n",
       "\n",
       "                         Survived_or_not_model_3  \n",
       "Survived_or_not_model_1                 0.360471  \n",
       "Survived_or_not_model_2                 0.207858  \n",
       "Survived_or_not_model_3                 1.000000  "
      ]
     },
     "metadata": {},
     "output_type": "display_data"
    },
    {
     "name": "stdout",
     "output_type": "stream",
     "text": [
      "                              COMMONALITY STATS\n",
      "\n",
      "Number of entries to be predicted         : 418\n",
      "\n",
      "Relevant model file                       : kaggle_out_svc_tickets.csv\n",
      "Number of entries common with final model : 379\n",
      "\n",
      "Relevant model file                       : kaggle_out_xgboost_cabin_null.csv\n",
      "Number of entries common with final model : 356\n",
      "\n",
      "Relevant model file                       : kaggle_out_xgboost_parch_sibsp_embarked_s.csv\n",
      "Number of entries common with final model : 358\n"
     ]
    }
   ],
   "source": [
    "generate_ensembled_predictions_and_verify_results(files, \n",
    "                                                  generate_corr_heat_map=False, \n",
    "                                                  generate_csv=False)"
   ]
  },
  {
   "cell_type": "markdown",
   "metadata": {},
   "source": [
    "Comments : As expected the correlation between these models is very low. Therefore, let us dump the ensembled model values to a file so that we can use them for ensembling later."
   ]
  },
  {
   "cell_type": "code",
   "execution_count": 27,
   "metadata": {},
   "outputs": [
    {
     "name": "stdout",
     "output_type": "stream",
     "text": [
      "                              CORRELATION MATRIX OF MODEL OUTPUTS\n"
     ]
    },
    {
     "data": {
      "text/html": [
       "<div>\n",
       "<style scoped>\n",
       "    .dataframe tbody tr th:only-of-type {\n",
       "        vertical-align: middle;\n",
       "    }\n",
       "\n",
       "    .dataframe tbody tr th {\n",
       "        vertical-align: top;\n",
       "    }\n",
       "\n",
       "    .dataframe thead th {\n",
       "        text-align: right;\n",
       "    }\n",
       "</style>\n",
       "<table border=\"1\" class=\"dataframe\">\n",
       "  <thead>\n",
       "    <tr style=\"text-align: right;\">\n",
       "      <th></th>\n",
       "      <th>Survived_or_not_model_1</th>\n",
       "      <th>Survived_or_not_model_2</th>\n",
       "      <th>Survived_or_not_model_3</th>\n",
       "    </tr>\n",
       "  </thead>\n",
       "  <tbody>\n",
       "    <tr>\n",
       "      <th>Survived_or_not_model_1</th>\n",
       "      <td>1.000000</td>\n",
       "      <td>0.293430</td>\n",
       "      <td>0.360471</td>\n",
       "    </tr>\n",
       "    <tr>\n",
       "      <th>Survived_or_not_model_2</th>\n",
       "      <td>0.293430</td>\n",
       "      <td>1.000000</td>\n",
       "      <td>0.207858</td>\n",
       "    </tr>\n",
       "    <tr>\n",
       "      <th>Survived_or_not_model_3</th>\n",
       "      <td>0.360471</td>\n",
       "      <td>0.207858</td>\n",
       "      <td>1.000000</td>\n",
       "    </tr>\n",
       "  </tbody>\n",
       "</table>\n",
       "</div>"
      ],
      "text/plain": [
       "                         Survived_or_not_model_1  Survived_or_not_model_2  \\\n",
       "Survived_or_not_model_1                 1.000000                 0.293430   \n",
       "Survived_or_not_model_2                 0.293430                 1.000000   \n",
       "Survived_or_not_model_3                 0.360471                 0.207858   \n",
       "\n",
       "                         Survived_or_not_model_3  \n",
       "Survived_or_not_model_1                 0.360471  \n",
       "Survived_or_not_model_2                 0.207858  \n",
       "Survived_or_not_model_3                 1.000000  "
      ]
     },
     "metadata": {},
     "output_type": "display_data"
    },
    {
     "name": "stdout",
     "output_type": "stream",
     "text": [
      "                              COMMONALITY STATS\n",
      "\n",
      "Number of entries to be predicted         : 418\n",
      "\n",
      "Relevant model file                       : kaggle_out_svc_tickets.csv\n",
      "Number of entries common with final model : 379\n",
      "\n",
      "Relevant model file                       : kaggle_out_xgboost_cabin_null.csv\n",
      "Number of entries common with final model : 356\n",
      "\n",
      "Relevant model file                       : kaggle_out_xgboost_parch_sibsp_embarked_s.csv\n",
      "Number of entries common with final model : 358\n"
     ]
    }
   ],
   "source": [
    "generate_ensembled_predictions_and_verify_results(files, \n",
    "                                                  generate_corr_heat_map=False, \n",
    "                                                  generate_csv=True, csv_file='kaggle_out_ensemble_bottom_three.csv')"
   ]
  },
  {
   "cell_type": "markdown",
   "metadata": {},
   "source": [
    "### Ensemble with the top 2 models.\n",
    "\n",
    "Now, we proceed to use this ensembled model of the bottom 3 models as another model to be ensembled with the top 2. Let us see how correlations look."
   ]
  },
  {
   "cell_type": "code",
   "execution_count": 28,
   "metadata": {},
   "outputs": [],
   "source": [
    "files = [\n",
    "        'kaggle_out_xgboost_sex_pclass_age_fare.csv',\n",
    "        'kaggle_out_svc_names.csv',\n",
    "        'kaggle_out_ensemble_bottom_three.csv']\n"
   ]
  },
  {
   "cell_type": "code",
   "execution_count": 29,
   "metadata": {},
   "outputs": [
    {
     "name": "stdout",
     "output_type": "stream",
     "text": [
      "                              CORRELATION MATRIX OF MODEL OUTPUTS\n"
     ]
    },
    {
     "data": {
      "text/html": [
       "<div>\n",
       "<style scoped>\n",
       "    .dataframe tbody tr th:only-of-type {\n",
       "        vertical-align: middle;\n",
       "    }\n",
       "\n",
       "    .dataframe tbody tr th {\n",
       "        vertical-align: top;\n",
       "    }\n",
       "\n",
       "    .dataframe thead th {\n",
       "        text-align: right;\n",
       "    }\n",
       "</style>\n",
       "<table border=\"1\" class=\"dataframe\">\n",
       "  <thead>\n",
       "    <tr style=\"text-align: right;\">\n",
       "      <th></th>\n",
       "      <th>Survived_or_not_model_1</th>\n",
       "      <th>Survived_or_not_model_2</th>\n",
       "      <th>Survived_or_not_model_3</th>\n",
       "    </tr>\n",
       "  </thead>\n",
       "  <tbody>\n",
       "    <tr>\n",
       "      <th>Survived_or_not_model_1</th>\n",
       "      <td>1.000000</td>\n",
       "      <td>0.875787</td>\n",
       "      <td>0.268127</td>\n",
       "    </tr>\n",
       "    <tr>\n",
       "      <th>Survived_or_not_model_2</th>\n",
       "      <td>0.875787</td>\n",
       "      <td>1.000000</td>\n",
       "      <td>0.318947</td>\n",
       "    </tr>\n",
       "    <tr>\n",
       "      <th>Survived_or_not_model_3</th>\n",
       "      <td>0.268127</td>\n",
       "      <td>0.318947</td>\n",
       "      <td>1.000000</td>\n",
       "    </tr>\n",
       "  </tbody>\n",
       "</table>\n",
       "</div>"
      ],
      "text/plain": [
       "                         Survived_or_not_model_1  Survived_or_not_model_2  \\\n",
       "Survived_or_not_model_1                 1.000000                 0.875787   \n",
       "Survived_or_not_model_2                 0.875787                 1.000000   \n",
       "Survived_or_not_model_3                 0.268127                 0.318947   \n",
       "\n",
       "                         Survived_or_not_model_3  \n",
       "Survived_or_not_model_1                 0.268127  \n",
       "Survived_or_not_model_2                 0.318947  \n",
       "Survived_or_not_model_3                 1.000000  "
      ]
     },
     "metadata": {},
     "output_type": "display_data"
    },
    {
     "name": "stdout",
     "output_type": "stream",
     "text": [
      "                              COMMONALITY STATS\n",
      "\n",
      "Number of entries to be predicted         : 418\n",
      "\n",
      "Relevant model file                       : kaggle_out_xgboost_sex_pclass_age_fare.csv\n",
      "Number of entries common with final model : 403\n",
      "\n",
      "Relevant model file                       : kaggle_out_svc_names.csv\n",
      "Number of entries common with final model : 409\n",
      "\n",
      "Relevant model file                       : kaggle_out_ensemble_bottom_three.csv\n",
      "Number of entries common with final model : 303\n"
     ]
    }
   ],
   "source": [
    "generate_ensembled_predictions_and_verify_results(files, \n",
    "                                                  generate_corr_heat_map=False, \n",
    "                                                  generate_csv=False)"
   ]
  },
  {
   "cell_type": "markdown",
   "metadata": {},
   "source": [
    "Comment : The correlation looks to have increased slightly, but we strongly believe that this yield us a better estimate ,as  we are using a better ensembled model as one of the inputs.\n",
    "\n",
    "NOTE : Ideally, we should have set aside some part of training data as test data and we could have tested out the performance of the ensembled model as well. I am not proceeding to do that here."
   ]
  },
  {
   "cell_type": "markdown",
   "metadata": {},
   "source": [
    "### Generate predictions file"
   ]
  },
  {
   "cell_type": "code",
   "execution_count": 30,
   "metadata": {},
   "outputs": [
    {
     "name": "stdout",
     "output_type": "stream",
     "text": [
      "                              CORRELATION MATRIX OF MODEL OUTPUTS\n"
     ]
    },
    {
     "data": {
      "text/html": [
       "<div>\n",
       "<style scoped>\n",
       "    .dataframe tbody tr th:only-of-type {\n",
       "        vertical-align: middle;\n",
       "    }\n",
       "\n",
       "    .dataframe tbody tr th {\n",
       "        vertical-align: top;\n",
       "    }\n",
       "\n",
       "    .dataframe thead th {\n",
       "        text-align: right;\n",
       "    }\n",
       "</style>\n",
       "<table border=\"1\" class=\"dataframe\">\n",
       "  <thead>\n",
       "    <tr style=\"text-align: right;\">\n",
       "      <th></th>\n",
       "      <th>Survived_or_not_model_1</th>\n",
       "      <th>Survived_or_not_model_2</th>\n",
       "      <th>Survived_or_not_model_3</th>\n",
       "    </tr>\n",
       "  </thead>\n",
       "  <tbody>\n",
       "    <tr>\n",
       "      <th>Survived_or_not_model_1</th>\n",
       "      <td>1.000000</td>\n",
       "      <td>0.875787</td>\n",
       "      <td>0.268127</td>\n",
       "    </tr>\n",
       "    <tr>\n",
       "      <th>Survived_or_not_model_2</th>\n",
       "      <td>0.875787</td>\n",
       "      <td>1.000000</td>\n",
       "      <td>0.318947</td>\n",
       "    </tr>\n",
       "    <tr>\n",
       "      <th>Survived_or_not_model_3</th>\n",
       "      <td>0.268127</td>\n",
       "      <td>0.318947</td>\n",
       "      <td>1.000000</td>\n",
       "    </tr>\n",
       "  </tbody>\n",
       "</table>\n",
       "</div>"
      ],
      "text/plain": [
       "                         Survived_or_not_model_1  Survived_or_not_model_2  \\\n",
       "Survived_or_not_model_1                 1.000000                 0.875787   \n",
       "Survived_or_not_model_2                 0.875787                 1.000000   \n",
       "Survived_or_not_model_3                 0.268127                 0.318947   \n",
       "\n",
       "                         Survived_or_not_model_3  \n",
       "Survived_or_not_model_1                 0.268127  \n",
       "Survived_or_not_model_2                 0.318947  \n",
       "Survived_or_not_model_3                 1.000000  "
      ]
     },
     "metadata": {},
     "output_type": "display_data"
    },
    {
     "name": "stdout",
     "output_type": "stream",
     "text": [
      "                              COMMONALITY STATS\n",
      "\n",
      "Number of entries to be predicted         : 418\n",
      "\n",
      "Relevant model file                       : kaggle_out_xgboost_sex_pclass_age_fare.csv\n",
      "Number of entries common with final model : 403\n",
      "\n",
      "Relevant model file                       : kaggle_out_svc_names.csv\n",
      "Number of entries common with final model : 409\n",
      "\n",
      "Relevant model file                       : kaggle_out_ensemble_bottom_three.csv\n",
      "Number of entries common with final model : 303\n"
     ]
    }
   ],
   "source": [
    "generate_ensembled_predictions_and_verify_results(files, \n",
    "                                                  generate_corr_heat_map=False, \n",
    "                                                  generate_csv=True,\n",
    "                                                  csv_file='kaggle_out_ensembled_model_predictions.csv')"
   ]
  }
 ],
 "metadata": {
  "kernelspec": {
   "display_name": "Python 3",
   "language": "python",
   "name": "python3"
  },
  "language_info": {
   "codemirror_mode": {
    "name": "ipython",
    "version": 3
   },
   "file_extension": ".py",
   "mimetype": "text/x-python",
   "name": "python",
   "nbconvert_exporter": "python",
   "pygments_lexer": "ipython3",
   "version": "3.6.4"
  }
 },
 "nbformat": 4,
 "nbformat_minor": 2
}
