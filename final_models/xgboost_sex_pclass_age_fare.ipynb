{
 "cells": [
  {
   "cell_type": "markdown",
   "metadata": {},
   "source": [
    "# Basic Overview\n",
    "The idea here is to build an optimum model using xgboost method.\n",
    "\n",
    "Comments/criticisms/appreciations are greatly accepted and appreciated.\n",
    "\n",
    "Source of data : https://www.kaggle.com/c/titanic/data"
   ]
  },
  {
   "cell_type": "code",
   "execution_count": 57,
   "metadata": {},
   "outputs": [],
   "source": [
    "import pandas as pd\n",
    "import numpy as np"
   ]
  },
  {
   "cell_type": "code",
   "execution_count": 58,
   "metadata": {},
   "outputs": [],
   "source": [
    "from sklearn.preprocessing import Imputer\n",
    "from sklearn.pipeline import Pipeline\n",
    "from sklearn.model_selection import GridSearchCV"
   ]
  },
  {
   "cell_type": "code",
   "execution_count": 59,
   "metadata": {},
   "outputs": [],
   "source": [
    "# Ha\n",
    "import os\n",
    "os.environ[\"KMP_DUPLICATE_LIB_OK\"]=\"TRUE\""
   ]
  },
  {
   "cell_type": "code",
   "execution_count": 60,
   "metadata": {},
   "outputs": [],
   "source": [
    "train_data = pd.read_csv(\"../input/train.csv\")\n",
    "test_data = pd.read_csv(\"../input/test.csv\")"
   ]
  },
  {
   "cell_type": "markdown",
   "metadata": {},
   "source": [
    "Since XGBoost uses only numeric predictors, and we do not want to increase dimensionality, we will go with numeric encoding for sex and plcass variables for now."
   ]
  },
  {
   "cell_type": "code",
   "execution_count": 61,
   "metadata": {},
   "outputs": [],
   "source": [
    "train_data.loc[(train_data['Sex'] == 'male'), 'Sex'] = 1\n",
    "train_data.loc[(train_data['Sex'] == 'female'), 'Sex'] = 0\n",
    "\n",
    "test_data.loc[(test_data['Sex'] == 'male'), 'Sex'] = 1\n",
    "test_data.loc[(test_data['Sex'] == 'female'), 'Sex'] = 0\n"
   ]
  },
  {
   "cell_type": "code",
   "execution_count": null,
   "metadata": {},
   "outputs": [],
   "source": [
    "# Since we see that lots of entries are having Cabin fields set to null, we add that information and see how much \n",
    "# it will help us.\n",
    "train_data['IsCabinNull'] = "
   ]
  },
  {
   "cell_type": "code",
   "execution_count": 62,
   "metadata": {},
   "outputs": [],
   "source": [
    "# Add a column called Predictions in training data, which will become handy while doing\n",
    "# cross validation.\n",
    "train_data['Predictions'] = -1"
   ]
  },
  {
   "cell_type": "code",
   "execution_count": 63,
   "metadata": {},
   "outputs": [],
   "source": [
    "from sklearn.preprocessing import Imputer\n",
    "from xgboost import XGBClassifier\n",
    "from sklearn.model_selection import cross_val_score\n",
    "from sklearn.pipeline import make_pipeline\n",
    "from sklearn.model_selection import train_test_split\n",
    "from sklearn.metrics import mean_absolute_error\n",
    "import xgboost as xgb"
   ]
  },
  {
   "cell_type": "code",
   "execution_count": 64,
   "metadata": {},
   "outputs": [],
   "source": [
    "def get_train_test_data(train_data,\n",
    "                        X_columns=['Sex', 'Pclass', 'Age'], \n",
    "                        Y_columns=['Survived']):\n",
    "    # Simple training and testing\n",
    "    X = train_data[X_columns]\n",
    "    Y = train_data[Y_columns]\n",
    "\n",
    "    X_one_hot = pd.get_dummies(X)\n",
    "\n",
    "    # Do imputation on relevant columns.\n",
    "    X_train, X_test, Y_train, Y_test = train_test_split(X_one_hot, Y, random_state=0)\n",
    "\n",
    "    return (X_train, X_test, Y_train, Y_test, X_one_hot, Y)\n"
   ]
  },
  {
   "cell_type": "code",
   "execution_count": 65,
   "metadata": {},
   "outputs": [],
   "source": [
    "def create_pipeline_and_out_of_sample_score(X_train, X_test, Y_train, Y_test, n_estimators=100, \n",
    "                                            learning_rate=0.1):\n",
    "    # Rewrite everything as a pipeline\n",
    "    my_pipeline = make_pipeline(Imputer(), \n",
    "                                XGBClassifier(seed=1, n_estimators=n_estimators, learning_rate=learning_rate))\n",
    "    my_pipeline.fit(X_train, Y_train.values.ravel())\n",
    "    predictions = my_pipeline.predict(X_test)\n",
    "    out_of_sample_score = 1.0 - mean_absolute_error(predictions, Y_test)\n",
    "    return (my_pipeline, out_of_sample_score, predictions)"
   ]
  },
  {
   "cell_type": "code",
   "execution_count": 66,
   "metadata": {},
   "outputs": [],
   "source": [
    "def cross_validate(my_pipeline, X_one_hot, Y):\n",
    "    cross_val_scores = cross_val_score(my_pipeline, X_one_hot, Y, scoring='neg_mean_absolute_error', cv=5)\n",
    "    return 1.0  + cross_val_scores.mean()"
   ]
  },
  {
   "cell_type": "code",
   "execution_count": 67,
   "metadata": {},
   "outputs": [],
   "source": [
    "def train_test_cross_validate(train_data, \n",
    "                              X_columns=['Sex', 'Pclass', 'Age'], \n",
    "                              Y_columns=['Survived'],\n",
    "                              n_estimators=100,\n",
    "                              learning_rate=0.1):\n",
    "    (X_train, X_test, Y_train, Y_test, X_one_hot, Y) = get_train_test_data(train_data, X_columns, Y_columns)\n",
    "    my_pipeline, out_of_sample_score, predictions_test = \\\n",
    "        create_pipeline_and_out_of_sample_score(X_train, X_test, Y_train, Y_test, n_estimators, learning_rate)\n",
    "\n",
    "    print(\"Number of entries in training set is {0}\".format(len(X_train)))\n",
    "    predictions_train = my_pipeline.predict(X_train)\n",
    "    num_correct_predictions_train = int((1.0 - mean_absolute_error(predictions_train, Y_train)) * len(Y_train))\n",
    "\n",
    "\n",
    "    print(\"Number of correct predictions in training set is {0}\".format(num_correct_predictions_train))    \n",
    "    print(\"Number of entries in test set is {0}\".format(len(X_test)))    \n",
    "    print(\"Number of correct predictions in test set is {0}\".format(int(out_of_sample_score * len(X_test))))\n",
    "\n",
    "    cross_validation_score = cross_validate(make_pipeline(Imputer(), \n",
    "                                                          XGBClassifier(seed=1,\n",
    "                                                                        n_estimators=n_estimators, \n",
    "                                                                        learning_rate=learning_rate)), \n",
    "                                            X_one_hot, Y.values.ravel())\n",
    "    return (my_pipeline, out_of_sample_score, cross_validation_score)"
   ]
  },
  {
   "cell_type": "code",
   "execution_count": 68,
   "metadata": {},
   "outputs": [],
   "source": [
    "# Make sure that unnecessary deprecation warnings are avoided.\n",
    "# Thanks to https://stackoverflow.com/questions/49545947/sklearn-deprecationwarning-truth-value-of-an-array\n",
    "import warnings\n",
    "warnings.filterwarnings(action='ignore', category=DeprecationWarning)\n"
   ]
  },
  {
   "cell_type": "markdown",
   "metadata": {},
   "source": [
    "### Correlation between predictors. "
   ]
  },
  {
   "cell_type": "code",
   "execution_count": 69,
   "metadata": {},
   "outputs": [
    {
     "data": {
      "text/html": [
       "<div>\n",
       "<style scoped>\n",
       "    .dataframe tbody tr th:only-of-type {\n",
       "        vertical-align: middle;\n",
       "    }\n",
       "\n",
       "    .dataframe tbody tr th {\n",
       "        vertical-align: top;\n",
       "    }\n",
       "\n",
       "    .dataframe thead th {\n",
       "        text-align: right;\n",
       "    }\n",
       "</style>\n",
       "<table border=\"1\" class=\"dataframe\">\n",
       "  <thead>\n",
       "    <tr style=\"text-align: right;\">\n",
       "      <th></th>\n",
       "      <th>Survived</th>\n",
       "      <th>Pclass</th>\n",
       "      <th>Age</th>\n",
       "      <th>Sex</th>\n",
       "    </tr>\n",
       "  </thead>\n",
       "  <tbody>\n",
       "    <tr>\n",
       "      <th>Survived</th>\n",
       "      <td>1.000000</td>\n",
       "      <td>-0.338481</td>\n",
       "      <td>-0.077221</td>\n",
       "      <td>-0.543351</td>\n",
       "    </tr>\n",
       "    <tr>\n",
       "      <th>Pclass</th>\n",
       "      <td>-0.338481</td>\n",
       "      <td>1.000000</td>\n",
       "      <td>-0.369226</td>\n",
       "      <td>0.131900</td>\n",
       "    </tr>\n",
       "    <tr>\n",
       "      <th>Age</th>\n",
       "      <td>-0.077221</td>\n",
       "      <td>-0.369226</td>\n",
       "      <td>1.000000</td>\n",
       "      <td>0.093254</td>\n",
       "    </tr>\n",
       "    <tr>\n",
       "      <th>Sex</th>\n",
       "      <td>-0.543351</td>\n",
       "      <td>0.131900</td>\n",
       "      <td>0.093254</td>\n",
       "      <td>1.000000</td>\n",
       "    </tr>\n",
       "  </tbody>\n",
       "</table>\n",
       "</div>"
      ],
      "text/plain": [
       "          Survived    Pclass       Age       Sex\n",
       "Survived  1.000000 -0.338481 -0.077221 -0.543351\n",
       "Pclass   -0.338481  1.000000 -0.369226  0.131900\n",
       "Age      -0.077221 -0.369226  1.000000  0.093254\n",
       "Sex      -0.543351  0.131900  0.093254  1.000000"
      ]
     },
     "execution_count": 69,
     "metadata": {},
     "output_type": "execute_result"
    }
   ],
   "source": [
    "train_data[['Survived', 'Pclass', 'Age', 'Sex']].corr()"
   ]
  },
  {
   "cell_type": "code",
   "execution_count": 70,
   "metadata": {},
   "outputs": [
    {
     "data": {
      "text/plain": [
       "<matplotlib.axes._subplots.AxesSubplot at 0x1a13efa668>"
      ]
     },
     "execution_count": 70,
     "metadata": {},
     "output_type": "execute_result"
    },
    {
     "data": {
      "image/png": "[encoded data removed]",
      "text/plain": [
       "<Figure size 1152x648 with 2 Axes>"
      ]
     },
     "metadata": {},
     "output_type": "display_data"
    }
   ],
   "source": [
    "import seaborn as sns\n",
    "import matplotlib.pyplot as plt\n",
    "fig, ax = plt.subplots(1, 1, figsize=(16, 9))\n",
    "sns.heatmap(train_data[['Survived', 'Pclass', 'Age', 'Sex']].corr(), ax=ax)"
   ]
  },
  {
   "cell_type": "markdown",
   "metadata": {},
   "source": [
    "The correlation level looks acceptable here."
   ]
  },
  {
   "cell_type": "code",
   "execution_count": 71,
   "metadata": {},
   "outputs": [],
   "source": [
    "# Get the XGBclassifier directly as it is far easier to visualize this than the\n",
    "# pipeline object.\n",
    "def get_sklearn_xgbclassifier(train_data, X_columns=['Sex'], Y_columns=['Survived']):\n",
    "    my_model = XGBClassifier(seed=1)\n",
    "    X_train = train_data[X_columns]\n",
    "    Y_train = train_data[Y_columns]\n",
    "    my_model.fit(X_train, Y_train.values.ravel())    \n",
    "    return my_model"
   ]
  },
  {
   "cell_type": "code",
   "execution_count": 72,
   "metadata": {},
   "outputs": [],
   "source": [
    "def get_gridsearch_crossval_output(train_data, \n",
    "                                   X_columns = ['Sex', 'Pclass'], \n",
    "                                   Y_columns = ['Survived'],\n",
    "                                   n_estimators_list = [10, 50, 70, 100, 120, 150, 200],\n",
    "                                   learning_rates_list = [0.01, 0.02, 0.05, 0.07, 0.1],\n",
    "                                   early_stopping_round = 10,\n",
    "                                   num_cross_val_sets = 5\n",
    "                                  ):\n",
    "    (X_train, X_test, Y_train, Y_test, X_one_hot, Y) = get_train_test_data(train_data, X_columns, Y_columns)\n",
    "    col_names = ['f' + str(i) for i in range(len(X_train.columns))]\n",
    "    X_train.columns = col_names\n",
    "    X_test.columns = col_names\n",
    "    my_pipeline = Pipeline([('imputer', Imputer()), ('xgcl', XGBClassifier())])\n",
    "    param_grid = {\n",
    "        'xgcl__n_estimators' : n_estimators_list,\n",
    "        'xgcl__learning_rate' : learning_rates_list\n",
    "    }\n",
    "    fit_params = {'xgcl__eval_set' : [(X_test, Y_test.values.ravel())],\n",
    "                  'xgcl__early_stopping_rounds' : early_stopping_round,\n",
    "                  'xgcl__verbose': False}\n",
    "\n",
    "    searchCV = GridSearchCV(my_pipeline, cv=num_cross_val_sets, param_grid=param_grid, fit_params=fit_params)\n",
    "    searchCV.fit(X_train, Y_train.values.ravel())\n",
    "    return searchCV"
   ]
  },
  {
   "cell_type": "code",
   "execution_count": 73,
   "metadata": {},
   "outputs": [],
   "source": [
    "def get_model_metrics_and_display(train_data, X_columns=['Sex'], Y_columns=['Survived']):\n",
    "    (my_pipeline, out_of_sample_score, cross_validation_score) = \\\n",
    "        train_test_cross_validate(train_data,\n",
    "                                  X_columns, \n",
    "                                  Y_columns)\n",
    "\n",
    "    print(\"Out of sample score is {0}\\nCross val score is {1}\".format(out_of_sample_score, cross_validation_score))\n",
    "    my_model = get_sklearn_xgbclassifier(train_data, X_columns, Y_columns)\n",
    "    return my_model\n",
    "    "
   ]
  },
  {
   "cell_type": "markdown",
   "metadata": {},
   "source": [
    "### Model 1: Sex as the only predictor"
   ]
  },
  {
   "cell_type": "markdown",
   "metadata": {},
   "source": [
    "#### Basic training/cross validation"
   ]
  },
  {
   "cell_type": "code",
   "execution_count": 74,
   "metadata": {},
   "outputs": [],
   "source": [
    "X_columns = ['Sex']\n",
    "Y_columns = ['Survived']"
   ]
  },
  {
   "cell_type": "code",
   "execution_count": 75,
   "metadata": {},
   "outputs": [
    {
     "name": "stdout",
     "output_type": "stream",
     "text": [
      "Number of entries in training set is 668\n",
      "Number of correct predictions in training set is 527\n",
      "Number of entries in test set is 223\n",
      "Number of correct predictions in test set is 174\n",
      "Out of sample score is 0.7802690582959642\n",
      "Cross val score is 0.7867150249291879\n"
     ]
    },
    {
     "data": {
      "image/svg+xml": [
       "<?xml version=\"1.0\" encoding=\"UTF-8\" standalone=\"no\"?>\n",
       "<!DOCTYPE svg PUBLIC \"-//W3C//DTD SVG 1.1//EN\"\n",
       " \"http://www.w3.org/Graphics/SVG/1.1/DTD/svg11.dtd\">\n",
       "<!-- Generated by graphviz version 2.40.1 (20161225.0304)\n",
       " -->\n",
       "<!-- Title: %3 Pages: 1 -->\n",
       "<svg width=\"222pt\" height=\"151pt\"\n",
       " viewBox=\"0.00 0.00 222.00 150.90\" xmlns=\"http://www.w3.org/2000/svg\" xmlns:xlink=\"http://www.w3.org/1999/xlink\">\n",
       "<g id=\"graph0\" class=\"graph\" transform=\"scale(1 1) rotate(0) translate(4 146.895)\">\n",
       "<title>%3</title>\n",
       "<polygon fill=\"#ffffff\" stroke=\"transparent\" points=\"-4,4 -4,-146.895 218,-146.895 218,4 -4,4\"/>\n",
       "<!-- 0 -->\n",
       "<g id=\"node1\" class=\"node\">\n",
       "<title>0</title>\n",
       "<ellipse fill=\"none\" stroke=\"#000000\" cx=\"107.5\" cy=\"-114.9475\" rx=\"27.8951\" ry=\"27.8951\"/>\n",
       "<text text-anchor=\"middle\" x=\"107.5\" y=\"-111.2475\" font-family=\"Times,serif\" font-size=\"14.00\" fill=\"#000000\">Sex&lt;1</text>\n",
       "</g>\n",
       "<!-- 1 -->\n",
       "<g id=\"node2\" class=\"node\">\n",
       "<title>1</title>\n",
       "<polygon fill=\"none\" stroke=\"#000000\" points=\"99,-36 0,-36 0,0 99,0 99,-36\"/>\n",
       "<text text-anchor=\"middle\" x=\"49.5\" y=\"-14.3\" font-family=\"Times,serif\" font-size=\"14.00\" fill=\"#000000\">leaf=0.0955974832</text>\n",
       "</g>\n",
       "<!-- 0&#45;&gt;1 -->\n",
       "<g id=\"edge1\" class=\"edge\">\n",
       "<title>0&#45;&gt;1</title>\n",
       "<path fill=\"none\" stroke=\"#0000ff\" d=\"M92.8642,-90.4836C84.5505,-76.5873 74.1298,-59.169 65.5874,-44.8903\"/>\n",
       "<polygon fill=\"#0000ff\" stroke=\"#0000ff\" points=\"68.4237,-42.8137 60.2861,-36.0291 62.4166,-46.4076 68.4237,-42.8137\"/>\n",
       "<text text-anchor=\"middle\" x=\"104.5\" y=\"-57.8\" font-family=\"Times,serif\" font-size=\"14.00\" fill=\"#000000\">yes, missing</text>\n",
       "</g>\n",
       "<!-- 2 -->\n",
       "<g id=\"node3\" class=\"node\">\n",
       "<title>2</title>\n",
       "<polygon fill=\"none\" stroke=\"#000000\" points=\"214,-36 117,-36 117,0 214,0 214,-36\"/>\n",
       "<text text-anchor=\"middle\" x=\"165.5\" y=\"-14.3\" font-family=\"Times,serif\" font-size=\"14.00\" fill=\"#000000\">leaf=&#45;0.123580039</text>\n",
       "</g>\n",
       "<!-- 0&#45;&gt;2 -->\n",
       "<g id=\"edge2\" class=\"edge\">\n",
       "<title>0&#45;&gt;2</title>\n",
       "<path fill=\"none\" stroke=\"#ff0000\" d=\"M122.1358,-90.4836C130.4495,-76.5873 140.8702,-59.169 149.4126,-44.8903\"/>\n",
       "<polygon fill=\"#ff0000\" stroke=\"#ff0000\" points=\"152.5834,-46.4076 154.7139,-36.0291 146.5763,-42.8137 152.5834,-46.4076\"/>\n",
       "<text text-anchor=\"middle\" x=\"148\" y=\"-57.8\" font-family=\"Times,serif\" font-size=\"14.00\" fill=\"#000000\">no</text>\n",
       "</g>\n",
       "</g>\n",
       "</svg>\n"
      ],
      "text/plain": [
       "<graphviz.dot.Digraph at 0x1a13028080>"
      ]
     },
     "execution_count": 75,
     "metadata": {},
     "output_type": "execute_result"
    }
   ],
   "source": [
    "my_model = get_model_metrics_and_display(train_data,X_columns=['Sex'])\n",
    "xgb.to_graphviz(my_model)\n"
   ]
  },
  {
   "cell_type": "markdown",
   "metadata": {},
   "source": [
    "### Model 2: Sex and Pclass as predictors."
   ]
  },
  {
   "cell_type": "markdown",
   "metadata": {},
   "source": [
    "#### Basic training/cross validation"
   ]
  },
  {
   "cell_type": "code",
   "execution_count": 76,
   "metadata": {},
   "outputs": [],
   "source": [
    "X_columns = ['Sex', 'Pclass']\n",
    "Y_columns = ['Survived']"
   ]
  },
  {
   "cell_type": "code",
   "execution_count": 77,
   "metadata": {},
   "outputs": [
    {
     "name": "stdout",
     "output_type": "stream",
     "text": [
      "Number of entries in training set is 668\n",
      "Number of correct predictions in training set is 527\n",
      "Number of entries in test set is 223\n",
      "Number of correct predictions in test set is 174\n",
      "Out of sample score is 0.7802690582959642\n",
      "Cross val score is 0.7733072037001376\n"
     ]
    },
    {
     "data": {
      "image/svg+xml": [
       "<?xml version=\"1.0\" encoding=\"UTF-8\" standalone=\"no\"?>\n",
       "<!DOCTYPE svg PUBLIC \"-//W3C//DTD SVG 1.1//EN\"\n",
       " \"http://www.w3.org/Graphics/SVG/1.1/DTD/svg11.dtd\">\n",
       "<!-- Generated by graphviz version 2.40.1 (20161225.0304)\n",
       " -->\n",
       "<!-- Title: %3 Pages: 1 -->\n",
       "<svg width=\"409pt\" height=\"272pt\"\n",
       " viewBox=\"0.00 0.00 409.00 272.09\" xmlns=\"http://www.w3.org/2000/svg\" xmlns:xlink=\"http://www.w3.org/1999/xlink\">\n",
       "<g id=\"graph0\" class=\"graph\" transform=\"scale(1 1) rotate(0) translate(4 268.0888)\">\n",
       "<title>%3</title>\n",
       "<polygon fill=\"#ffffff\" stroke=\"transparent\" points=\"-4,4 -4,-268.0888 405,-268.0888 405,4 -4,4\"/>\n",
       "<!-- 0 -->\n",
       "<g id=\"node1\" class=\"node\">\n",
       "<title>0</title>\n",
       "<ellipse fill=\"none\" stroke=\"#000000\" cx=\"185.5\" cy=\"-236.1413\" rx=\"27.8951\" ry=\"27.8951\"/>\n",
       "<text text-anchor=\"middle\" x=\"185.5\" y=\"-232.4413\" font-family=\"Times,serif\" font-size=\"14.00\" fill=\"#000000\">Sex&lt;1</text>\n",
       "</g>\n",
       "<!-- 1 -->\n",
       "<g id=\"node2\" class=\"node\">\n",
       "<title>1</title>\n",
       "<ellipse fill=\"none\" stroke=\"#000000\" cx=\"138.5\" cy=\"-122.0969\" rx=\"35.194\" ry=\"35.194\"/>\n",
       "<text text-anchor=\"middle\" x=\"138.5\" y=\"-118.3969\" font-family=\"Times,serif\" font-size=\"14.00\" fill=\"#000000\">Pclass&lt;3</text>\n",
       "</g>\n",
       "<!-- 0&#45;&gt;1 -->\n",
       "<g id=\"edge1\" class=\"edge\">\n",
       "<title>0&#45;&gt;1</title>\n",
       "<path fill=\"none\" stroke=\"#0000ff\" d=\"M167.9996,-213.7181C163.0474,-206.5209 158.0463,-198.3054 154.5,-190.1938 151.2847,-182.8393 148.6631,-174.7432 146.543,-166.7788\"/>\n",
       "<polygon fill=\"#0000ff\" stroke=\"#0000ff\" points=\"149.8861,-165.7142 144.1188,-156.8266 143.085,-167.3709 149.8861,-165.7142\"/>\n",
       "<text text-anchor=\"middle\" x=\"180.5\" y=\"-178.9938\" font-family=\"Times,serif\" font-size=\"14.00\" fill=\"#000000\">yes, missing</text>\n",
       "</g>\n",
       "<!-- 2 -->\n",
       "<g id=\"node3\" class=\"node\">\n",
       "<title>2</title>\n",
       "<ellipse fill=\"none\" stroke=\"#000000\" cx=\"234.5\" cy=\"-122.0969\" rx=\"35.194\" ry=\"35.194\"/>\n",
       "<text text-anchor=\"middle\" x=\"234.5\" y=\"-118.3969\" font-family=\"Times,serif\" font-size=\"14.00\" fill=\"#000000\">Pclass&lt;2</text>\n",
       "</g>\n",
       "<!-- 0&#45;&gt;2 -->\n",
       "<g id=\"edge2\" class=\"edge\">\n",
       "<title>0&#45;&gt;2</title>\n",
       "<path fill=\"none\" stroke=\"#ff0000\" d=\"M197.4488,-210.4602C200.4537,-203.8766 203.6372,-196.7914 206.5,-190.1938 210.123,-181.8442 213.8967,-172.8713 217.4571,-164.2677\"/>\n",
       "<polygon fill=\"#ff0000\" stroke=\"#ff0000\" points=\"220.7991,-165.3435 221.3667,-154.7639 214.3254,-162.6804 220.7991,-165.3435\"/>\n",
       "<text text-anchor=\"middle\" x=\"219\" y=\"-178.9938\" font-family=\"Times,serif\" font-size=\"14.00\" fill=\"#000000\">no</text>\n",
       "</g>\n",
       "<!-- 3 -->\n",
       "<g id=\"node4\" class=\"node\">\n",
       "<title>3</title>\n",
       "<polygon fill=\"none\" stroke=\"#000000\" points=\"93,-36 0,-36 0,0 93,0 93,-36\"/>\n",
       "<text text-anchor=\"middle\" x=\"46.5\" y=\"-14.3\" font-family=\"Times,serif\" font-size=\"14.00\" fill=\"#000000\">leaf=0.174712643</text>\n",
       "</g>\n",
       "<!-- 1&#45;&gt;3 -->\n",
       "<g id=\"edge3\" class=\"edge\">\n",
       "<title>1&#45;&gt;3</title>\n",
       "<path fill=\"none\" stroke=\"#0000ff\" d=\"M111.794,-98.7893C102.1487,-89.862 91.4422,-79.3337 82.5,-69 75.9378,-61.4167 69.4162,-52.6524 63.7631,-44.5516\"/>\n",
       "<polygon fill=\"#0000ff\" stroke=\"#0000ff\" points=\"66.5331,-42.4011 58.009,-36.109 60.7488,-46.3435 66.5331,-42.4011\"/>\n",
       "<text text-anchor=\"middle\" x=\"108.5\" y=\"-57.8\" font-family=\"Times,serif\" font-size=\"14.00\" fill=\"#000000\">yes, missing</text>\n",
       "</g>\n",
       "<!-- 4 -->\n",
       "<g id=\"node5\" class=\"node\">\n",
       "<title>4</title>\n",
       "<polygon fill=\"none\" stroke=\"#000000\" points=\"165.5,-36 111.5,-36 111.5,0 165.5,0 165.5,-36\"/>\n",
       "<text text-anchor=\"middle\" x=\"138.5\" y=\"-14.3\" font-family=\"Times,serif\" font-size=\"14.00\" fill=\"#000000\">leaf=&#45;0</text>\n",
       "</g>\n",
       "<!-- 1&#45;&gt;4 -->\n",
       "<g id=\"edge4\" class=\"edge\">\n",
       "<title>1&#45;&gt;4</title>\n",
       "<path fill=\"none\" stroke=\"#ff0000\" d=\"M138.5,-86.8544C138.5,-73.716 138.5,-58.977 138.5,-46.517\"/>\n",
       "<polygon fill=\"#ff0000\" stroke=\"#ff0000\" points=\"142.0001,-46.2514 138.5,-36.2514 135.0001,-46.2514 142.0001,-46.2514\"/>\n",
       "<text text-anchor=\"middle\" x=\"144\" y=\"-57.8\" font-family=\"Times,serif\" font-size=\"14.00\" fill=\"#000000\">no</text>\n",
       "</g>\n",
       "<!-- 5 -->\n",
       "<g id=\"node6\" class=\"node\">\n",
       "<title>5</title>\n",
       "<polygon fill=\"none\" stroke=\"#000000\" points=\"285.5,-36 183.5,-36 183.5,0 285.5,0 285.5,-36\"/>\n",
       "<text text-anchor=\"middle\" x=\"234.5\" y=\"-14.3\" font-family=\"Times,serif\" font-size=\"14.00\" fill=\"#000000\">leaf=&#45;0.0507936552</text>\n",
       "</g>\n",
       "<!-- 2&#45;&gt;5 -->\n",
       "<g id=\"edge5\" class=\"edge\">\n",
       "<title>2&#45;&gt;5</title>\n",
       "<path fill=\"none\" stroke=\"#0000ff\" d=\"M234.5,-86.8544C234.5,-73.716 234.5,-58.977 234.5,-46.517\"/>\n",
       "<polygon fill=\"#0000ff\" stroke=\"#0000ff\" points=\"238.0001,-46.2514 234.5,-36.2514 231.0001,-46.2514 238.0001,-46.2514\"/>\n",
       "<text text-anchor=\"middle\" x=\"260.5\" y=\"-57.8\" font-family=\"Times,serif\" font-size=\"14.00\" fill=\"#000000\">yes, missing</text>\n",
       "</g>\n",
       "<!-- 6 -->\n",
       "<g id=\"node7\" class=\"node\">\n",
       "<title>6</title>\n",
       "<polygon fill=\"none\" stroke=\"#000000\" points=\"401,-36 304,-36 304,0 401,0 401,-36\"/>\n",
       "<text text-anchor=\"middle\" x=\"352.5\" y=\"-14.3\" font-family=\"Times,serif\" font-size=\"14.00\" fill=\"#000000\">leaf=&#45;0.142483667</text>\n",
       "</g>\n",
       "<!-- 2&#45;&gt;6 -->\n",
       "<g id=\"edge6\" class=\"edge\">\n",
       "<title>2&#45;&gt;6</title>\n",
       "<path fill=\"none\" stroke=\"#ff0000\" d=\"M260.9815,-98.7355C279.8535,-82.0871 305.1808,-59.7439 324.4069,-42.7831\"/>\n",
       "<polygon fill=\"#ff0000\" stroke=\"#ff0000\" points=\"326.7897,-45.3483 331.9734,-36.1081 322.1589,-40.099 326.7897,-45.3483\"/>\n",
       "<text text-anchor=\"middle\" x=\"316\" y=\"-57.8\" font-family=\"Times,serif\" font-size=\"14.00\" fill=\"#000000\">no</text>\n",
       "</g>\n",
       "</g>\n",
       "</svg>\n"
      ],
      "text/plain": [
       "<graphviz.dot.Digraph at 0x1a1408c710>"
      ]
     },
     "execution_count": 77,
     "metadata": {},
     "output_type": "execute_result"
    }
   ],
   "source": [
    "my_model = get_model_metrics_and_display(train_data,X_columns=X_columns)\n",
    "xgb.to_graphviz(my_model)\n"
   ]
  },
  {
   "cell_type": "markdown",
   "metadata": {},
   "source": [
    "It looks like here, we are not taking into account pclass here. Hence, let us see if we can finetune the model to take into account plcass as well."
   ]
  },
  {
   "cell_type": "markdown",
   "metadata": {},
   "source": [
    "### Model 3: Sex, Pclass  and Age as predictors."
   ]
  },
  {
   "cell_type": "markdown",
   "metadata": {},
   "source": [
    "#### Basic training/cross validation"
   ]
  },
  {
   "cell_type": "code",
   "execution_count": 78,
   "metadata": {},
   "outputs": [],
   "source": [
    "X_columns = ['Sex', 'Pclass', 'Age']\n",
    "Y_columns = ['Survived']"
   ]
  },
  {
   "cell_type": "code",
   "execution_count": 79,
   "metadata": {},
   "outputs": [
    {
     "name": "stdout",
     "output_type": "stream",
     "text": [
      "Number of entries in training set is 668\n",
      "Number of correct predictions in training set is 562\n",
      "Number of entries in test set is 223\n",
      "Number of correct predictions in test set is 184\n",
      "Out of sample score is 0.8251121076233183\n",
      "Cross val score is 0.8025148353403998\n"
     ]
    },
    {
     "data": {
      "image/svg+xml": [
       "<?xml version=\"1.0\" encoding=\"UTF-8\" standalone=\"no\"?>\n",
       "<!DOCTYPE svg PUBLIC \"-//W3C//DTD SVG 1.1//EN\"\n",
       " \"http://www.w3.org/Graphics/SVG/1.1/DTD/svg11.dtd\">\n",
       "<!-- Generated by graphviz version 2.40.1 (20161225.0304)\n",
       " -->\n",
       "<!-- Title: %3 Pages: 1 -->\n",
       "<svg width=\"657pt\" height=\"398pt\"\n",
       " viewBox=\"0.00 0.00 657.00 398.48\" xmlns=\"http://www.w3.org/2000/svg\" xmlns:xlink=\"http://www.w3.org/1999/xlink\">\n",
       "<g id=\"graph0\" class=\"graph\" transform=\"scale(1 1) rotate(0) translate(4 394.4821)\">\n",
       "<title>%3</title>\n",
       "<polygon fill=\"#ffffff\" stroke=\"transparent\" points=\"-4,4 -4,-394.4821 653,-394.4821 653,4 -4,4\"/>\n",
       "<!-- 0 -->\n",
       "<g id=\"node1\" class=\"node\">\n",
       "<title>0</title>\n",
       "<ellipse fill=\"none\" stroke=\"#000000\" cx=\"197.5\" cy=\"-362.5346\" rx=\"27.8951\" ry=\"27.8951\"/>\n",
       "<text text-anchor=\"middle\" x=\"197.5\" y=\"-358.8346\" font-family=\"Times,serif\" font-size=\"14.00\" fill=\"#000000\">Sex&lt;1</text>\n",
       "</g>\n",
       "<!-- 1 -->\n",
       "<g id=\"node2\" class=\"node\">\n",
       "<title>1</title>\n",
       "<ellipse fill=\"none\" stroke=\"#000000\" cx=\"149.5\" cy=\"-248.4902\" rx=\"35.194\" ry=\"35.194\"/>\n",
       "<text text-anchor=\"middle\" x=\"149.5\" y=\"-244.7902\" font-family=\"Times,serif\" font-size=\"14.00\" fill=\"#000000\">Pclass&lt;3</text>\n",
       "</g>\n",
       "<!-- 0&#45;&gt;1 -->\n",
       "<g id=\"edge1\" class=\"edge\">\n",
       "<title>0&#45;&gt;1</title>\n",
       "<path fill=\"none\" stroke=\"#0000ff\" d=\"M180.0688,-340.0808C175.1194,-332.8825 170.1025,-324.6739 166.5,-316.5871 163.1863,-309.1486 160.4442,-300.9533 158.2011,-292.903\"/>\n",
       "<polygon fill=\"#0000ff\" stroke=\"#0000ff\" points=\"161.59,-292.0279 155.7076,-283.2161 154.811,-293.773 161.59,-292.0279\"/>\n",
       "<text text-anchor=\"middle\" x=\"192.5\" y=\"-305.3871\" font-family=\"Times,serif\" font-size=\"14.00\" fill=\"#000000\">yes, missing</text>\n",
       "</g>\n",
       "<!-- 2 -->\n",
       "<g id=\"node3\" class=\"node\">\n",
       "<title>2</title>\n",
       "<ellipse fill=\"none\" stroke=\"#000000\" cx=\"296.5\" cy=\"-248.4902\" rx=\"32.4942\" ry=\"32.4942\"/>\n",
       "<text text-anchor=\"middle\" x=\"296.5\" y=\"-244.7902\" font-family=\"Times,serif\" font-size=\"14.00\" fill=\"#000000\">Age&lt;13</text>\n",
       "</g>\n",
       "<!-- 0&#45;&gt;2 -->\n",
       "<g id=\"edge2\" class=\"edge\">\n",
       "<title>0&#45;&gt;2</title>\n",
       "<path fill=\"none\" stroke=\"#ff0000\" d=\"M215.8891,-341.351C230.6332,-324.3664 251.57,-300.2479 268.411,-280.8477\"/>\n",
       "<polygon fill=\"#ff0000\" stroke=\"#ff0000\" points=\"271.1994,-282.9746 275.1118,-273.1286 265.9133,-278.3858 271.1994,-282.9746\"/>\n",
       "<text text-anchor=\"middle\" x=\"256\" y=\"-305.3871\" font-family=\"Times,serif\" font-size=\"14.00\" fill=\"#000000\">no</text>\n",
       "</g>\n",
       "<!-- 3 -->\n",
       "<g id=\"node4\" class=\"node\">\n",
       "<title>3</title>\n",
       "<polygon fill=\"none\" stroke=\"#000000\" points=\"94,-142.6967 1,-142.6967 1,-106.6967 94,-106.6967 94,-142.6967\"/>\n",
       "<text text-anchor=\"middle\" x=\"47.5\" y=\"-120.9967\" font-family=\"Times,serif\" font-size=\"14.00\" fill=\"#000000\">leaf=0.174712643</text>\n",
       "</g>\n",
       "<!-- 1&#45;&gt;3 -->\n",
       "<g id=\"edge3\" class=\"edge\">\n",
       "<title>1&#45;&gt;3</title>\n",
       "<path fill=\"none\" stroke=\"#0000ff\" d=\"M122.8642,-225.6257C113.121,-216.6636 102.3309,-205.9972 93.5,-195.3933 82.2316,-181.8626 71.3998,-165.4446 63.0807,-151.8373\"/>\n",
       "<polygon fill=\"#0000ff\" stroke=\"#0000ff\" points=\"65.8898,-149.7158 57.7482,-142.9359 59.8848,-153.3131 65.8898,-149.7158\"/>\n",
       "<text text-anchor=\"middle\" x=\"119.5\" y=\"-184.1933\" font-family=\"Times,serif\" font-size=\"14.00\" fill=\"#000000\">yes, missing</text>\n",
       "</g>\n",
       "<!-- 4 -->\n",
       "<g id=\"node5\" class=\"node\">\n",
       "<title>4</title>\n",
       "<ellipse fill=\"none\" stroke=\"#000000\" cx=\"149.5\" cy=\"-124.6967\" rx=\"37.8943\" ry=\"37.8943\"/>\n",
       "<text text-anchor=\"middle\" x=\"149.5\" y=\"-120.9967\" font-family=\"Times,serif\" font-size=\"14.00\" fill=\"#000000\">Age&lt;38.5</text>\n",
       "</g>\n",
       "<!-- 1&#45;&gt;4 -->\n",
       "<g id=\"edge4\" class=\"edge\">\n",
       "<title>1&#45;&gt;4</title>\n",
       "<path fill=\"none\" stroke=\"#ff0000\" d=\"M149.5,-213.3471C149.5,-200.7015 149.5,-186.211 149.5,-172.6603\"/>\n",
       "<polygon fill=\"#ff0000\" stroke=\"#ff0000\" points=\"153.0001,-172.5272 149.5,-162.5273 146.0001,-172.5273 153.0001,-172.5272\"/>\n",
       "<text text-anchor=\"middle\" x=\"155\" y=\"-184.1933\" font-family=\"Times,serif\" font-size=\"14.00\" fill=\"#000000\">no</text>\n",
       "</g>\n",
       "<!-- 5 -->\n",
       "<g id=\"node8\" class=\"node\">\n",
       "<title>5</title>\n",
       "<ellipse fill=\"none\" stroke=\"#000000\" cx=\"296.5\" cy=\"-124.6967\" rx=\"35.194\" ry=\"35.194\"/>\n",
       "<text text-anchor=\"middle\" x=\"296.5\" y=\"-120.9967\" font-family=\"Times,serif\" font-size=\"14.00\" fill=\"#000000\">Pclass&lt;3</text>\n",
       "</g>\n",
       "<!-- 2&#45;&gt;5 -->\n",
       "<g id=\"edge7\" class=\"edge\">\n",
       "<title>2&#45;&gt;5</title>\n",
       "<path fill=\"none\" stroke=\"#0000ff\" d=\"M296.5,-215.9649C296.5,-201.9958 296.5,-185.4284 296.5,-170.2682\"/>\n",
       "<polygon fill=\"#0000ff\" stroke=\"#0000ff\" points=\"300.0001,-170.0466 296.5,-160.0466 293.0001,-170.0467 300.0001,-170.0466\"/>\n",
       "<text text-anchor=\"middle\" x=\"303.5\" y=\"-184.1933\" font-family=\"Times,serif\" font-size=\"14.00\" fill=\"#000000\">yes</text>\n",
       "</g>\n",
       "<!-- 6 -->\n",
       "<g id=\"node9\" class=\"node\">\n",
       "<title>6</title>\n",
       "<ellipse fill=\"none\" stroke=\"#000000\" cx=\"482.5\" cy=\"-124.6967\" rx=\"35.194\" ry=\"35.194\"/>\n",
       "<text text-anchor=\"middle\" x=\"482.5\" y=\"-120.9967\" font-family=\"Times,serif\" font-size=\"14.00\" fill=\"#000000\">Pclass&lt;2</text>\n",
       "</g>\n",
       "<!-- 2&#45;&gt;6 -->\n",
       "<g id=\"edge8\" class=\"edge\">\n",
       "<title>2&#45;&gt;6</title>\n",
       "<path fill=\"none\" stroke=\"#ff0000\" d=\"M323.9449,-230.224C355.805,-209.0194 408.5497,-173.9148 444.3771,-150.0696\"/>\n",
       "<polygon fill=\"#ff0000\" stroke=\"#ff0000\" points=\"446.7128,-152.7195 453.0983,-144.2651 442.8343,-146.8921 446.7128,-152.7195\"/>\n",
       "<text text-anchor=\"middle\" x=\"420\" y=\"-184.1933\" font-family=\"Times,serif\" font-size=\"14.00\" fill=\"#000000\">no, missing</text>\n",
       "</g>\n",
       "<!-- 7 -->\n",
       "<g id=\"node6\" class=\"node\">\n",
       "<title>7</title>\n",
       "<polygon fill=\"none\" stroke=\"#000000\" points=\"99,-36 0,-36 0,0 99,0 99,-36\"/>\n",
       "<text text-anchor=\"middle\" x=\"49.5\" y=\"-14.3\" font-family=\"Times,serif\" font-size=\"14.00\" fill=\"#000000\">leaf=0.0147058833</text>\n",
       "</g>\n",
       "<!-- 4&#45;&gt;7 -->\n",
       "<g id=\"edge5\" class=\"edge\">\n",
       "<title>4&#45;&gt;7</title>\n",
       "<path fill=\"none\" stroke=\"#0000ff\" d=\"M122.3037,-98.4734C113.0129,-89.2991 102.6596,-78.8325 93.5,-69 86.0871,-61.0425 78.2533,-52.1359 71.2827,-44.0201\"/>\n",
       "<polygon fill=\"#0000ff\" stroke=\"#0000ff\" points=\"73.797,-41.5743 64.6474,-36.2323 68.4686,-46.114 73.797,-41.5743\"/>\n",
       "<text text-anchor=\"middle\" x=\"119.5\" y=\"-57.8\" font-family=\"Times,serif\" font-size=\"14.00\" fill=\"#000000\">yes, missing</text>\n",
       "</g>\n",
       "<!-- 8 -->\n",
       "<g id=\"node7\" class=\"node\">\n",
       "<title>8</title>\n",
       "<polygon fill=\"none\" stroke=\"#000000\" points=\"182,-36 117,-36 117,0 182,0 182,-36\"/>\n",
       "<text text-anchor=\"middle\" x=\"149.5\" y=\"-14.3\" font-family=\"Times,serif\" font-size=\"14.00\" fill=\"#000000\">leaf=&#45;0.125</text>\n",
       "</g>\n",
       "<!-- 4&#45;&gt;8 -->\n",
       "<g id=\"edge6\" class=\"edge\">\n",
       "<title>4&#45;&gt;8</title>\n",
       "<path fill=\"none\" stroke=\"#ff0000\" d=\"M149.5,-86.779C149.5,-73.4367 149.5,-58.6856 149.5,-46.2768\"/>\n",
       "<polygon fill=\"#ff0000\" stroke=\"#ff0000\" points=\"153.0001,-46.0694 149.5,-36.0694 146.0001,-46.0695 153.0001,-46.0694\"/>\n",
       "<text text-anchor=\"middle\" x=\"155\" y=\"-57.8\" font-family=\"Times,serif\" font-size=\"14.00\" fill=\"#000000\">no</text>\n",
       "</g>\n",
       "<!-- 9 -->\n",
       "<g id=\"node10\" class=\"node\">\n",
       "<title>9</title>\n",
       "<polygon fill=\"none\" stroke=\"#000000\" points=\"293,-36 200,-36 200,0 293,0 293,-36\"/>\n",
       "<text text-anchor=\"middle\" x=\"246.5\" y=\"-14.3\" font-family=\"Times,serif\" font-size=\"14.00\" fill=\"#000000\">leaf=0.150000006</text>\n",
       "</g>\n",
       "<!-- 5&#45;&gt;9 -->\n",
       "<g id=\"edge9\" class=\"edge\">\n",
       "<title>5&#45;&gt;9</title>\n",
       "<path fill=\"none\" stroke=\"#0000ff\" d=\"M281.4984,-92.6841C274.4401,-77.6223 266.1088,-59.8438 259.3457,-45.4119\"/>\n",
       "<polygon fill=\"#0000ff\" stroke=\"#0000ff\" points=\"262.3618,-43.5997 254.9491,-36.0298 256.0233,-46.5701 262.3618,-43.5997\"/>\n",
       "<text text-anchor=\"middle\" x=\"296.5\" y=\"-57.8\" font-family=\"Times,serif\" font-size=\"14.00\" fill=\"#000000\">yes, missing</text>\n",
       "</g>\n",
       "<!-- 10 -->\n",
       "<g id=\"node11\" class=\"node\">\n",
       "<title>10</title>\n",
       "<polygon fill=\"none\" stroke=\"#000000\" points=\"413.5,-36 311.5,-36 311.5,0 413.5,0 413.5,-36\"/>\n",
       "<text text-anchor=\"middle\" x=\"362.5\" y=\"-14.3\" font-family=\"Times,serif\" font-size=\"14.00\" fill=\"#000000\">leaf=&#45;0.0482758619</text>\n",
       "</g>\n",
       "<!-- 5&#45;&gt;10 -->\n",
       "<g id=\"edge10\" class=\"edge\">\n",
       "<title>5&#45;&gt;10</title>\n",
       "<path fill=\"none\" stroke=\"#ff0000\" d=\"M315.0603,-94.6917C324.722,-79.0725 336.4407,-60.1279 345.8135,-44.9756\"/>\n",
       "<polygon fill=\"#ff0000\" stroke=\"#ff0000\" points=\"349.0228,-46.4406 351.3069,-36.0949 343.0697,-42.7581 349.0228,-46.4406\"/>\n",
       "<text text-anchor=\"middle\" x=\"345\" y=\"-57.8\" font-family=\"Times,serif\" font-size=\"14.00\" fill=\"#000000\">no</text>\n",
       "</g>\n",
       "<!-- 11 -->\n",
       "<g id=\"node12\" class=\"node\">\n",
       "<title>11</title>\n",
       "<polygon fill=\"none\" stroke=\"#000000\" points=\"533.5,-36 431.5,-36 431.5,0 533.5,0 533.5,-36\"/>\n",
       "<text text-anchor=\"middle\" x=\"482.5\" y=\"-14.3\" font-family=\"Times,serif\" font-size=\"14.00\" fill=\"#000000\">leaf=&#45;0.0569105707</text>\n",
       "</g>\n",
       "<!-- 6&#45;&gt;11 -->\n",
       "<g id=\"edge11\" class=\"edge\">\n",
       "<title>6&#45;&gt;11</title>\n",
       "<path fill=\"none\" stroke=\"#0000ff\" d=\"M482.5,-89.4645C482.5,-75.5225 482.5,-59.7073 482.5,-46.5054\"/>\n",
       "<polygon fill=\"#0000ff\" stroke=\"#0000ff\" points=\"486.0001,-46.1289 482.5,-36.1289 479.0001,-46.1289 486.0001,-46.1289\"/>\n",
       "<text text-anchor=\"middle\" x=\"508.5\" y=\"-57.8\" font-family=\"Times,serif\" font-size=\"14.00\" fill=\"#000000\">yes, missing</text>\n",
       "</g>\n",
       "<!-- 12 -->\n",
       "<g id=\"node13\" class=\"node\">\n",
       "<title>12</title>\n",
       "<polygon fill=\"none\" stroke=\"#000000\" points=\"649,-36 552,-36 552,0 649,0 649,-36\"/>\n",
       "<text text-anchor=\"middle\" x=\"600.5\" y=\"-14.3\" font-family=\"Times,serif\" font-size=\"14.00\" fill=\"#000000\">leaf=&#45;0.154823527</text>\n",
       "</g>\n",
       "<!-- 6&#45;&gt;12 -->\n",
       "<g id=\"edge12\" class=\"edge\">\n",
       "<title>6&#45;&gt;12</title>\n",
       "<path fill=\"none\" stroke=\"#ff0000\" d=\"M508.688,-101.0172C527.665,-83.8581 553.2824,-60.6945 572.6356,-43.1952\"/>\n",
       "<polygon fill=\"#ff0000\" stroke=\"#ff0000\" points=\"575.1744,-45.6183 580.2444,-36.3153 570.4796,-40.4261 575.1744,-45.6183\"/>\n",
       "<text text-anchor=\"middle\" x=\"564\" y=\"-57.8\" font-family=\"Times,serif\" font-size=\"14.00\" fill=\"#000000\">no</text>\n",
       "</g>\n",
       "</g>\n",
       "</svg>\n"
      ],
      "text/plain": [
       "<graphviz.dot.Digraph at 0x1a1408c198>"
      ]
     },
     "execution_count": 79,
     "metadata": {},
     "output_type": "execute_result"
    }
   ],
   "source": [
    "my_model = get_model_metrics_and_display(train_data,X_columns=X_columns)\n",
    "xgb.to_graphviz(my_model)\n"
   ]
  },
  {
   "cell_type": "markdown",
   "metadata": {},
   "source": [
    "### Model 4: Sex, Pclass,Age,Fare as predictors."
   ]
  },
  {
   "cell_type": "code",
   "execution_count": 80,
   "metadata": {},
   "outputs": [],
   "source": [
    "X_columns = ['Sex', 'Pclass', 'Age', 'Fare']\n",
    "Y_columns = ['Survived']"
   ]
  },
  {
   "cell_type": "code",
   "execution_count": 81,
   "metadata": {},
   "outputs": [
    {
     "name": "stdout",
     "output_type": "stream",
     "text": [
      "Number of entries in training set is 668\n",
      "Number of correct predictions in training set is 576\n",
      "Number of entries in test set is 223\n",
      "Number of correct predictions in test set is 186\n",
      "Out of sample score is 0.8340807174887892\n",
      "Cross val score is 0.8305672733436958\n"
     ]
    },
    {
     "data": {
      "image/svg+xml": [
       "<?xml version=\"1.0\" encoding=\"UTF-8\" standalone=\"no\"?>\n",
       "<!DOCTYPE svg PUBLIC \"-//W3C//DTD SVG 1.1//EN\"\n",
       " \"http://www.w3.org/Graphics/SVG/1.1/DTD/svg11.dtd\">\n",
       "<!-- Generated by graphviz version 2.40.1 (20161225.0304)\n",
       " -->\n",
       "<!-- Title: %3 Pages: 1 -->\n",
       "<svg width=\"695pt\" height=\"441pt\"\n",
       " viewBox=\"0.00 0.00 694.50 441.38\" xmlns=\"http://www.w3.org/2000/svg\" xmlns:xlink=\"http://www.w3.org/1999/xlink\">\n",
       "<g id=\"graph0\" class=\"graph\" transform=\"scale(1 1) rotate(0) translate(4 437.3783)\">\n",
       "<title>%3</title>\n",
       "<polygon fill=\"#ffffff\" stroke=\"transparent\" points=\"-4,4 -4,-437.3783 690.5,-437.3783 690.5,4 -4,4\"/>\n",
       "<!-- 0 -->\n",
       "<g id=\"node1\" class=\"node\">\n",
       "<title>0</title>\n",
       "<ellipse fill=\"none\" stroke=\"#000000\" cx=\"226.5\" cy=\"-405.4308\" rx=\"27.8951\" ry=\"27.8951\"/>\n",
       "<text text-anchor=\"middle\" x=\"226.5\" y=\"-401.7308\" font-family=\"Times,serif\" font-size=\"14.00\" fill=\"#000000\">Sex&lt;1</text>\n",
       "</g>\n",
       "<!-- 1 -->\n",
       "<g id=\"node2\" class=\"node\">\n",
       "<title>1</title>\n",
       "<ellipse fill=\"none\" stroke=\"#000000\" cx=\"170.5\" cy=\"-291.3864\" rx=\"35.194\" ry=\"35.194\"/>\n",
       "<text text-anchor=\"middle\" x=\"170.5\" y=\"-287.6864\" font-family=\"Times,serif\" font-size=\"14.00\" fill=\"#000000\">Pclass&lt;3</text>\n",
       "</g>\n",
       "<!-- 0&#45;&gt;1 -->\n",
       "<g id=\"edge1\" class=\"edge\">\n",
       "<title>0&#45;&gt;1</title>\n",
       "<path fill=\"none\" stroke=\"#0000ff\" d=\"M211.6132,-381.432C207.501,-374.4551 203.1652,-366.7537 199.5,-359.4833 195.3371,-351.2254 191.2228,-342.2287 187.4589,-333.5612\"/>\n",
       "<polygon fill=\"#0000ff\" stroke=\"#0000ff\" points=\"190.6674,-332.1624 183.5264,-324.3357 184.228,-334.9073 190.6674,-332.1624\"/>\n",
       "<text text-anchor=\"middle\" x=\"225.5\" y=\"-348.2833\" font-family=\"Times,serif\" font-size=\"14.00\" fill=\"#000000\">yes, missing</text>\n",
       "</g>\n",
       "<!-- 2 -->\n",
       "<g id=\"node3\" class=\"node\">\n",
       "<title>2</title>\n",
       "<ellipse fill=\"none\" stroke=\"#000000\" cx=\"332.5\" cy=\"-291.3864\" rx=\"32.4942\" ry=\"32.4942\"/>\n",
       "<text text-anchor=\"middle\" x=\"332.5\" y=\"-287.6864\" font-family=\"Times,serif\" font-size=\"14.00\" fill=\"#000000\">Age&lt;13</text>\n",
       "</g>\n",
       "<!-- 0&#45;&gt;2 -->\n",
       "<g id=\"edge2\" class=\"edge\">\n",
       "<title>0&#45;&gt;2</title>\n",
       "<path fill=\"none\" stroke=\"#ff0000\" d=\"M245.6958,-384.7782C261.7072,-367.5517 284.7831,-342.7246 303.1182,-322.998\"/>\n",
       "<polygon fill=\"#ff0000\" stroke=\"#ff0000\" points=\"305.8972,-325.1491 310.1416,-315.4416 300.7699,-320.3835 305.8972,-325.1491\"/>\n",
       "<text text-anchor=\"middle\" x=\"289\" y=\"-348.2833\" font-family=\"Times,serif\" font-size=\"14.00\" fill=\"#000000\">no</text>\n",
       "</g>\n",
       "<!-- 3 -->\n",
       "<g id=\"node4\" class=\"node\">\n",
       "<title>3</title>\n",
       "<polygon fill=\"none\" stroke=\"#000000\" points=\"93,-164.1448 0,-164.1448 0,-128.1448 93,-128.1448 93,-164.1448\"/>\n",
       "<text text-anchor=\"middle\" x=\"46.5\" y=\"-142.4448\" font-family=\"Times,serif\" font-size=\"14.00\" fill=\"#000000\">leaf=0.174712643</text>\n",
       "</g>\n",
       "<!-- 1&#45;&gt;3 -->\n",
       "<g id=\"edge3\" class=\"edge\">\n",
       "<title>1&#45;&gt;3</title>\n",
       "<path fill=\"none\" stroke=\"#0000ff\" d=\"M143.9118,-267.9758C134.2792,-259.0374 123.5507,-248.5283 114.5,-238.2895 95.9712,-217.3282 77.2666,-191.5703 64.1777,-172.622\"/>\n",
       "<polygon fill=\"#0000ff\" stroke=\"#0000ff\" points=\"66.9378,-170.4576 58.4045,-164.1779 61.1592,-174.4084 66.9378,-170.4576\"/>\n",
       "<text text-anchor=\"middle\" x=\"140.5\" y=\"-227.0895\" font-family=\"Times,serif\" font-size=\"14.00\" fill=\"#000000\">yes, missing</text>\n",
       "</g>\n",
       "<!-- 4 -->\n",
       "<g id=\"node5\" class=\"node\">\n",
       "<title>4</title>\n",
       "<ellipse fill=\"none\" stroke=\"#000000\" cx=\"170.5\" cy=\"-146.1448\" rx=\"59.2899\" ry=\"59.2899\"/>\n",
       "<text text-anchor=\"middle\" x=\"170.5\" y=\"-142.4448\" font-family=\"Times,serif\" font-size=\"14.00\" fill=\"#000000\">Fare&lt;23.3500004</text>\n",
       "</g>\n",
       "<!-- 1&#45;&gt;4 -->\n",
       "<g id=\"edge4\" class=\"edge\">\n",
       "<title>1&#45;&gt;4</title>\n",
       "<path fill=\"none\" stroke=\"#ff0000\" d=\"M170.5,-256.2274C170.5,-243.9321 170.5,-229.6637 170.5,-215.5571\"/>\n",
       "<polygon fill=\"#ff0000\" stroke=\"#ff0000\" points=\"174.0001,-215.3444 170.5,-205.3445 167.0001,-215.3445 174.0001,-215.3444\"/>\n",
       "<text text-anchor=\"middle\" x=\"176\" y=\"-227.0895\" font-family=\"Times,serif\" font-size=\"14.00\" fill=\"#000000\">no</text>\n",
       "</g>\n",
       "<!-- 5 -->\n",
       "<g id=\"node8\" class=\"node\">\n",
       "<title>5</title>\n",
       "<ellipse fill=\"none\" stroke=\"#000000\" cx=\"332.5\" cy=\"-146.1448\" rx=\"35.194\" ry=\"35.194\"/>\n",
       "<text text-anchor=\"middle\" x=\"332.5\" y=\"-142.4448\" font-family=\"Times,serif\" font-size=\"14.00\" fill=\"#000000\">Pclass&lt;3</text>\n",
       "</g>\n",
       "<!-- 2&#45;&gt;5 -->\n",
       "<g id=\"edge7\" class=\"edge\">\n",
       "<title>2&#45;&gt;5</title>\n",
       "<path fill=\"none\" stroke=\"#0000ff\" d=\"M332.5,-258.7913C332.5,-238.9357 332.5,-213.2748 332.5,-191.4609\"/>\n",
       "<polygon fill=\"#0000ff\" stroke=\"#0000ff\" points=\"336.0001,-191.4246 332.5,-181.4246 329.0001,-191.4247 336.0001,-191.4246\"/>\n",
       "<text text-anchor=\"middle\" x=\"339.5\" y=\"-227.0895\" font-family=\"Times,serif\" font-size=\"14.00\" fill=\"#000000\">yes</text>\n",
       "</g>\n",
       "<!-- 6 -->\n",
       "<g id=\"node9\" class=\"node\">\n",
       "<title>6</title>\n",
       "<ellipse fill=\"none\" stroke=\"#000000\" cx=\"517.5\" cy=\"-146.1448\" rx=\"59.2899\" ry=\"59.2899\"/>\n",
       "<text text-anchor=\"middle\" x=\"517.5\" y=\"-142.4448\" font-family=\"Times,serif\" font-size=\"14.00\" fill=\"#000000\">Fare&lt;26.2687492</text>\n",
       "</g>\n",
       "<!-- 2&#45;&gt;6 -->\n",
       "<g id=\"edge8\" class=\"edge\">\n",
       "<title>2&#45;&gt;6</title>\n",
       "<path fill=\"none\" stroke=\"#ff0000\" d=\"M358.2235,-271.1912C385.1544,-250.048 428.2555,-216.2097 462.8341,-189.0624\"/>\n",
       "<polygon fill=\"#ff0000\" stroke=\"#ff0000\" points=\"465.2692,-191.6005 470.9734,-182.6723 460.9465,-186.0945 465.2692,-191.6005\"/>\n",
       "<text text-anchor=\"middle\" x=\"439\" y=\"-227.0895\" font-family=\"Times,serif\" font-size=\"14.00\" fill=\"#000000\">no, missing</text>\n",
       "</g>\n",
       "<!-- 7 -->\n",
       "<g id=\"node6\" class=\"node\">\n",
       "<title>7</title>\n",
       "<polygon fill=\"none\" stroke=\"#000000\" points=\"104,-36 5,-36 5,0 104,0 104,-36\"/>\n",
       "<text text-anchor=\"middle\" x=\"54.5\" y=\"-14.3\" font-family=\"Times,serif\" font-size=\"14.00\" fill=\"#000000\">leaf=0.0347107463</text>\n",
       "</g>\n",
       "<!-- 4&#45;&gt;7 -->\n",
       "<g id=\"edge5\" class=\"edge\">\n",
       "<title>4&#45;&gt;7</title>\n",
       "<path fill=\"none\" stroke=\"#0000ff\" d=\"M130.5794,-102.0446C113.0074,-82.6329 92.9755,-60.5037 77.879,-43.8267\"/>\n",
       "<polygon fill=\"#0000ff\" stroke=\"#0000ff\" points=\"80.2028,-41.1784 70.8969,-36.1136 75.0132,-45.8762 80.2028,-41.1784\"/>\n",
       "<text text-anchor=\"middle\" x=\"125.5\" y=\"-57.8\" font-family=\"Times,serif\" font-size=\"14.00\" fill=\"#000000\">yes, missing</text>\n",
       "</g>\n",
       "<!-- 8 -->\n",
       "<g id=\"node7\" class=\"node\">\n",
       "<title>8</title>\n",
       "<polygon fill=\"none\" stroke=\"#000000\" points=\"219,-36 122,-36 122,0 219,0 219,-36\"/>\n",
       "<text text-anchor=\"middle\" x=\"170.5\" y=\"-14.3\" font-family=\"Times,serif\" font-size=\"14.00\" fill=\"#000000\">leaf=&#45;0.135483876</text>\n",
       "</g>\n",
       "<!-- 4&#45;&gt;8 -->\n",
       "<g id=\"edge6\" class=\"edge\">\n",
       "<title>4&#45;&gt;8</title>\n",
       "<path fill=\"none\" stroke=\"#ff0000\" d=\"M170.5,-86.9487C170.5,-72.7899 170.5,-58.3116 170.5,-46.3012\"/>\n",
       "<polygon fill=\"#ff0000\" stroke=\"#ff0000\" points=\"174.0001,-46.0448 170.5,-36.0448 167.0001,-46.0449 174.0001,-46.0448\"/>\n",
       "<text text-anchor=\"middle\" x=\"176\" y=\"-57.8\" font-family=\"Times,serif\" font-size=\"14.00\" fill=\"#000000\">no</text>\n",
       "</g>\n",
       "<!-- 9 -->\n",
       "<g id=\"node10\" class=\"node\">\n",
       "<title>9</title>\n",
       "<polygon fill=\"none\" stroke=\"#000000\" points=\"330,-36 237,-36 237,0 330,0 330,-36\"/>\n",
       "<text text-anchor=\"middle\" x=\"283.5\" y=\"-14.3\" font-family=\"Times,serif\" font-size=\"14.00\" fill=\"#000000\">leaf=0.150000006</text>\n",
       "</g>\n",
       "<!-- 5&#45;&gt;9 -->\n",
       "<g id=\"edge9\" class=\"edge\">\n",
       "<title>5&#45;&gt;9</title>\n",
       "<path fill=\"none\" stroke=\"#0000ff\" d=\"M319.8813,-113.1443C311.8762,-92.2094 301.6383,-65.4352 294.0634,-45.6254\"/>\n",
       "<polygon fill=\"#0000ff\" stroke=\"#0000ff\" points=\"297.3166,-44.3334 290.4758,-36.243 290.7783,-46.8336 297.3166,-44.3334\"/>\n",
       "<text text-anchor=\"middle\" x=\"328.5\" y=\"-57.8\" font-family=\"Times,serif\" font-size=\"14.00\" fill=\"#000000\">yes, missing</text>\n",
       "</g>\n",
       "<!-- 10 -->\n",
       "<g id=\"node11\" class=\"node\">\n",
       "<title>10</title>\n",
       "<polygon fill=\"none\" stroke=\"#000000\" points=\"450.5,-36 348.5,-36 348.5,0 450.5,0 450.5,-36\"/>\n",
       "<text text-anchor=\"middle\" x=\"399.5\" y=\"-14.3\" font-family=\"Times,serif\" font-size=\"14.00\" fill=\"#000000\">leaf=&#45;0.0482758619</text>\n",
       "</g>\n",
       "<!-- 5&#45;&gt;10 -->\n",
       "<g id=\"edge10\" class=\"edge\">\n",
       "<title>5&#45;&gt;10</title>\n",
       "<path fill=\"none\" stroke=\"#ff0000\" d=\"M348.89,-114.797C359.9935,-93.5605 374.5249,-65.7675 385.1671,-45.4132\"/>\n",
       "<polygon fill=\"#ff0000\" stroke=\"#ff0000\" points=\"388.3699,-46.8414 389.9016,-36.3579 382.1666,-43.598 388.3699,-46.8414\"/>\n",
       "<text text-anchor=\"middle\" x=\"386\" y=\"-57.8\" font-family=\"Times,serif\" font-size=\"14.00\" fill=\"#000000\">no</text>\n",
       "</g>\n",
       "<!-- 11 -->\n",
       "<g id=\"node12\" class=\"node\">\n",
       "<title>11</title>\n",
       "<polygon fill=\"none\" stroke=\"#000000\" points=\"566,-36 469,-36 469,0 566,0 566,-36\"/>\n",
       "<text text-anchor=\"middle\" x=\"517.5\" y=\"-14.3\" font-family=\"Times,serif\" font-size=\"14.00\" fill=\"#000000\">leaf=&#45;0.157425746</text>\n",
       "</g>\n",
       "<!-- 6&#45;&gt;11 -->\n",
       "<g id=\"edge11\" class=\"edge\">\n",
       "<title>6&#45;&gt;11</title>\n",
       "<path fill=\"none\" stroke=\"#0000ff\" d=\"M517.5,-86.9487C517.5,-72.7899 517.5,-58.3116 517.5,-46.3012\"/>\n",
       "<polygon fill=\"#0000ff\" stroke=\"#0000ff\" points=\"521.0001,-46.0448 517.5,-36.0448 514.0001,-46.0449 521.0001,-46.0448\"/>\n",
       "<text text-anchor=\"middle\" x=\"543.5\" y=\"-57.8\" font-family=\"Times,serif\" font-size=\"14.00\" fill=\"#000000\">yes, missing</text>\n",
       "</g>\n",
       "<!-- 12 -->\n",
       "<g id=\"node13\" class=\"node\">\n",
       "<title>12</title>\n",
       "<polygon fill=\"none\" stroke=\"#000000\" points=\"686.5,-36 584.5,-36 584.5,0 686.5,0 686.5,-36\"/>\n",
       "<text text-anchor=\"middle\" x=\"635.5\" y=\"-14.3\" font-family=\"Times,serif\" font-size=\"14.00\" fill=\"#000000\">leaf=&#45;0.0638888925</text>\n",
       "</g>\n",
       "<!-- 6&#45;&gt;12 -->\n",
       "<g id=\"edge12\" class=\"edge\">\n",
       "<title>6&#45;&gt;12</title>\n",
       "<path fill=\"none\" stroke=\"#ff0000\" d=\"M557.7789,-102.403C575.6802,-82.9626 596.1468,-60.7365 611.5826,-43.9737\"/>\n",
       "<polygon fill=\"#ff0000\" stroke=\"#ff0000\" points=\"614.5235,-45.9468 618.7227,-36.2197 609.3741,-41.2051 614.5235,-45.9468\"/>\n",
       "<text text-anchor=\"middle\" x=\"606\" y=\"-57.8\" font-family=\"Times,serif\" font-size=\"14.00\" fill=\"#000000\">no</text>\n",
       "</g>\n",
       "</g>\n",
       "</svg>\n"
      ],
      "text/plain": [
       "<graphviz.dot.Digraph at 0x1a1408c0b8>"
      ]
     },
     "execution_count": 81,
     "metadata": {},
     "output_type": "execute_result"
    }
   ],
   "source": [
    "my_model = get_model_metrics_and_display(train_data,X_columns=X_columns)\n",
    "xgb.to_graphviz(my_model)\n"
   ]
  },
  {
   "cell_type": "markdown",
   "metadata": {},
   "source": [
    "Comments : Since ,we see significant improvement in our cross validation score, we proceed with more fine tuning on this model."
   ]
  },
  {
   "cell_type": "markdown",
   "metadata": {},
   "source": [
    "#### Fine tuning using cross validation"
   ]
  },
  {
   "cell_type": "code",
   "execution_count": 82,
   "metadata": {},
   "outputs": [],
   "source": [
    "X_train = train_data[X_columns]\n",
    "Y_train = train_data[Y_columns]\n",
    "dtrain = xgb.DMatrix(data=X_train, label=Y_train)\n",
    "params = {\"Objective\" : 'gbtree',\n",
    "          \"eval_metric\" : 'error',\n",
    "          'learning_rate' : 0.01\n",
    "         }\n",
    "cv = xgb.cv(dtrain=dtrain, params=params, num_boost_round=500, nfold=5, seed=0, early_stopping_rounds=10)"
   ]
  },
  {
   "cell_type": "code",
   "execution_count": 83,
   "metadata": {},
   "outputs": [
    {
     "data": {
      "text/html": [
       "<div>\n",
       "<style scoped>\n",
       "    .dataframe tbody tr th:only-of-type {\n",
       "        vertical-align: middle;\n",
       "    }\n",
       "\n",
       "    .dataframe tbody tr th {\n",
       "        vertical-align: top;\n",
       "    }\n",
       "\n",
       "    .dataframe thead th {\n",
       "        text-align: right;\n",
       "    }\n",
       "</style>\n",
       "<table border=\"1\" class=\"dataframe\">\n",
       "  <thead>\n",
       "    <tr style=\"text-align: right;\">\n",
       "      <th></th>\n",
       "      <th>test-error-mean</th>\n",
       "      <th>test-error-std</th>\n",
       "      <th>train-error-mean</th>\n",
       "      <th>train-error-std</th>\n",
       "    </tr>\n",
       "  </thead>\n",
       "  <tbody>\n",
       "    <tr>\n",
       "      <th>0</th>\n",
       "      <td>0.191946</td>\n",
       "      <td>0.027087</td>\n",
       "      <td>0.131874</td>\n",
       "      <td>0.002643</td>\n",
       "    </tr>\n",
       "    <tr>\n",
       "      <th>1</th>\n",
       "      <td>0.189699</td>\n",
       "      <td>0.024371</td>\n",
       "      <td>0.129630</td>\n",
       "      <td>0.003032</td>\n",
       "    </tr>\n",
       "  </tbody>\n",
       "</table>\n",
       "</div>"
      ],
      "text/plain": [
       "   test-error-mean  test-error-std  train-error-mean  train-error-std\n",
       "0         0.191946        0.027087          0.131874         0.002643\n",
       "1         0.189699        0.024371          0.129630         0.003032"
      ]
     },
     "execution_count": 83,
     "metadata": {},
     "output_type": "execute_result"
    }
   ],
   "source": [
    "cv.tail(10)"
   ]
  },
  {
   "cell_type": "markdown",
   "metadata": {},
   "source": [
    "#### Fine tuning using grid searchCV"
   ]
  },
  {
   "cell_type": "code",
   "execution_count": 84,
   "metadata": {},
   "outputs": [
    {
     "data": {
      "text/plain": [
       "{'xgcl__learning_rate': 0.01, 'xgcl__n_estimators': 1}"
      ]
     },
     "execution_count": 84,
     "metadata": {},
     "output_type": "execute_result"
    }
   ],
   "source": [
    "searchCV = get_gridsearch_crossval_output(train_data, X_columns=X_columns,\n",
    "                                          Y_columns = ['Survived'],\n",
    "                                          n_estimators_list = [1, 2, 3, 4 , 5, 6 ,7 ,8 , 10, 15, 18, 20, 50, 70, 100, 120, 150, 200])\n",
    "searchCV.best_params_\n"
   ]
  },
  {
   "cell_type": "markdown",
   "metadata": {},
   "source": [
    "#### Creating a file with predictions on out of sample data"
   ]
  },
  {
   "cell_type": "code",
   "execution_count": 88,
   "metadata": {},
   "outputs": [],
   "source": [
    "#create_pipeline_and_out_of_sample_score(X_train, X_test, Y_train, Y_test)\n",
    "X_train = train_data[X_columns]\n",
    "X_train_one_hot = pd.get_dummies(X_train)\n",
    "Y_train = train_data[Y_columns]\n",
    "X_test = test_data[X_columns]\n",
    "X_test_one_hot = pd.get_dummies(X_test)\n",
    "\n",
    "# Create a dummy test data s\n",
    "Y_test = np.ones(len(test_data[X_columns])) * -1\n",
    "(my_pipeline, out_of_sample_score, predictions_out_of_sample) = \\\n",
    "    create_pipeline_and_out_of_sample_score(X_train_one_hot, \n",
    "                                            X_test_one_hot,\n",
    "                                            Y_train,\n",
    "                                            Y_test,\n",
    "                                            1,\n",
    "                                            0.01)\n",
    "test_data['Predictions'] = predictions_out_of_sample\n",
    "kaggle_data = test_data[['PassengerId', 'Predictions']].copy()\n",
    "kaggle_data.rename(columns={'Predictions' : 'Survived'}, inplace=True)\n",
    "kaggle_data.sort_values(by=['PassengerId']).to_csv('kaggle_out_xgboost_sex_pclass_age_fare.csv', index=False)"
   ]
  }
 ],
 "metadata": {
  "kernelspec": {
   "display_name": "Python 3",
   "language": "python",
   "name": "python3"
  },
  "language_info": {
   "codemirror_mode": {
    "name": "ipython",
    "version": 3
   },
   "file_extension": ".py",
   "mimetype": "text/x-python",
   "name": "python",
   "nbconvert_exporter": "python",
   "pygments_lexer": "ipython3",
   "version": "3.6.4"
  }
 },
 "nbformat": 4,
 "nbformat_minor": 2
}
