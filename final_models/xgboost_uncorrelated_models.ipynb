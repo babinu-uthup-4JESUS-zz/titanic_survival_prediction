{
 "cells": [
  {
   "cell_type": "markdown",
   "metadata": {},
   "source": [
    "# Basic Overview\n",
    "The idea here is to build xgboost models that are comprised of separate predictors and hence extremely low correlation to each other.\n",
    "\n",
    "Even if the models are themselves not very powerful in itself, the low correlations between them make them ideal candidates for ensembling.\n",
    "\n",
    "Comments/criticisms/appreciations are greatly accepted and appreciated.\n",
    "\n",
    "Source of data : https://www.kaggle.com/c/titanic/data"
   ]
  },
  {
   "cell_type": "code",
   "execution_count": 43,
   "metadata": {},
   "outputs": [],
   "source": [
    "import pandas as pd\n",
    "import numpy as np"
   ]
  },
  {
   "cell_type": "code",
   "execution_count": 44,
   "metadata": {},
   "outputs": [],
   "source": [
    "from sklearn.preprocessing import Imputer\n",
    "from sklearn.pipeline import Pipeline\n",
    "from sklearn.model_selection import GridSearchCV"
   ]
  },
  {
   "cell_type": "code",
   "execution_count": 45,
   "metadata": {},
   "outputs": [],
   "source": [
    "# Ha\n",
    "import os\n",
    "os.environ[\"KMP_DUPLICATE_LIB_OK\"]=\"TRUE\""
   ]
  },
  {
   "cell_type": "code",
   "execution_count": 46,
   "metadata": {},
   "outputs": [],
   "source": [
    "train_data = pd.read_csv(\"../input/train.csv\")\n",
    "test_data = pd.read_csv(\"../input/test.csv\")"
   ]
  },
  {
   "cell_type": "markdown",
   "metadata": {},
   "source": [
    "Since XGBoost uses only numeric predictors, and we do not want to increase dimensionality, we will go with numeric encoding for sex and plcass variables for now."
   ]
  },
  {
   "cell_type": "code",
   "execution_count": 47,
   "metadata": {},
   "outputs": [],
   "source": [
    "train_data.loc[(train_data['Sex'] == 'male'), 'Sex'] = 1\n",
    "train_data.loc[(train_data['Sex'] == 'female'), 'Sex'] = 0\n",
    "\n",
    "test_data.loc[(test_data['Sex'] == 'male'), 'Sex'] = 1\n",
    "test_data.loc[(test_data['Sex'] == 'female'), 'Sex'] = 0\n"
   ]
  },
  {
   "cell_type": "code",
   "execution_count": 48,
   "metadata": {},
   "outputs": [],
   "source": [
    "# Add a column called Predictions in training data, which will become handy while doing\n",
    "# cross validation.\n",
    "train_data['Predictions'] = -1"
   ]
  },
  {
   "cell_type": "code",
   "execution_count": 49,
   "metadata": {},
   "outputs": [],
   "source": [
    "# Since we look to be having lots of entries with cabin field set as null, we make that as a factor and see\n",
    "# what we can get out of it.\n",
    "train_data['IsCabinNull'] = train_data['Cabin'].isnull()\n",
    "test_data['IsCabinNull'] = test_data['Cabin'].isnull()"
   ]
  },
  {
   "cell_type": "code",
   "execution_count": 50,
   "metadata": {},
   "outputs": [],
   "source": [
    "from sklearn.preprocessing import Imputer\n",
    "from xgboost import XGBClassifier\n",
    "from sklearn.model_selection import cross_val_score\n",
    "from sklearn.pipeline import make_pipeline\n",
    "from sklearn.model_selection import train_test_split\n",
    "from sklearn.metrics import mean_absolute_error\n",
    "import xgboost as xgb"
   ]
  },
  {
   "cell_type": "code",
   "execution_count": 51,
   "metadata": {},
   "outputs": [],
   "source": [
    "def get_train_test_data(train_data,\n",
    "                        X_columns=['Sex', 'Pclass', 'Age'], \n",
    "                        Y_columns=['Survived']):\n",
    "    # Simple training and testing\n",
    "    X = train_data[X_columns]\n",
    "    Y = train_data[Y_columns]\n",
    "\n",
    "    X_one_hot = pd.get_dummies(X)\n",
    "\n",
    "    # Do imputation on relevant columns.\n",
    "    X_train, X_test, Y_train, Y_test = train_test_split(X_one_hot, Y, random_state=0)\n",
    "\n",
    "    return (X_train, X_test, Y_train, Y_test, X_one_hot, Y)\n"
   ]
  },
  {
   "cell_type": "code",
   "execution_count": 52,
   "metadata": {},
   "outputs": [],
   "source": [
    "def create_pipeline_and_out_of_sample_score(X_train, X_test, Y_train, Y_test, n_estimators=100, \n",
    "                                            learning_rate=0.1):\n",
    "    # Rewrite everything as a pipeline\n",
    "    my_pipeline = make_pipeline(Imputer(), \n",
    "                                XGBClassifier(seed=1, n_estimators=n_estimators, learning_rate=learning_rate))\n",
    "    my_pipeline.fit(X_train, Y_train.values.ravel())\n",
    "    predictions = my_pipeline.predict(X_test)\n",
    "    out_of_sample_score = 1.0 - mean_absolute_error(predictions, Y_test)\n",
    "    return (my_pipeline, out_of_sample_score, predictions)"
   ]
  },
  {
   "cell_type": "code",
   "execution_count": 53,
   "metadata": {},
   "outputs": [],
   "source": [
    "def cross_validate(my_pipeline, X_one_hot, Y):\n",
    "    cross_val_scores = cross_val_score(my_pipeline, X_one_hot, Y, scoring='neg_mean_absolute_error', cv=5)\n",
    "    return 1.0  + cross_val_scores.mean()"
   ]
  },
  {
   "cell_type": "code",
   "execution_count": 54,
   "metadata": {},
   "outputs": [],
   "source": [
    "def train_test_cross_validate(train_data, \n",
    "                              X_columns=['Sex', 'Pclass', 'Age'], \n",
    "                              Y_columns=['Survived'],\n",
    "                              n_estimators=100,\n",
    "                              learning_rate=0.1):\n",
    "    (X_train, X_test, Y_train, Y_test, X_one_hot, Y) = get_train_test_data(train_data, X_columns, Y_columns)\n",
    "    my_pipeline, out_of_sample_score, predictions_test = \\\n",
    "        create_pipeline_and_out_of_sample_score(X_train, X_test, Y_train, Y_test, n_estimators, learning_rate)\n",
    "\n",
    "    print(\"Number of entries in training set is {0}\".format(len(X_train)))\n",
    "    predictions_train = my_pipeline.predict(X_train)\n",
    "    num_correct_predictions_train = int((1.0 - mean_absolute_error(predictions_train, Y_train)) * len(Y_train))\n",
    "\n",
    "\n",
    "    print(\"Number of correct predictions in training set is {0}\".format(num_correct_predictions_train))    \n",
    "    print(\"Number of entries in test set is {0}\".format(len(X_test)))    \n",
    "    print(\"Number of correct predictions in test set is {0}\".format(int(out_of_sample_score * len(X_test))))\n",
    "\n",
    "    cross_validation_score = cross_validate(make_pipeline(Imputer(), \n",
    "                                                          XGBClassifier(seed=1,\n",
    "                                                                        n_estimators=n_estimators, \n",
    "                                                                        learning_rate=learning_rate)), \n",
    "                                            X_one_hot, Y.values.ravel())\n",
    "    return (my_pipeline, out_of_sample_score, cross_validation_score)"
   ]
  },
  {
   "cell_type": "code",
   "execution_count": 55,
   "metadata": {},
   "outputs": [],
   "source": [
    "# Make sure that unnecessary deprecation warnings are avoided.\n",
    "# Thanks to https://stackoverflow.com/questions/49545947/sklearn-deprecationwarning-truth-value-of-an-array\n",
    "import warnings\n",
    "warnings.filterwarnings(action='ignore', category=DeprecationWarning)\n"
   ]
  },
  {
   "cell_type": "markdown",
   "metadata": {},
   "source": [
    "### Correlation between predictors. "
   ]
  },
  {
   "cell_type": "code",
   "execution_count": 56,
   "metadata": {},
   "outputs": [
    {
     "data": {
      "text/html": [
       "<div>\n",
       "<style scoped>\n",
       "    .dataframe tbody tr th:only-of-type {\n",
       "        vertical-align: middle;\n",
       "    }\n",
       "\n",
       "    .dataframe tbody tr th {\n",
       "        vertical-align: top;\n",
       "    }\n",
       "\n",
       "    .dataframe thead th {\n",
       "        text-align: right;\n",
       "    }\n",
       "</style>\n",
       "<table border=\"1\" class=\"dataframe\">\n",
       "  <thead>\n",
       "    <tr style=\"text-align: right;\">\n",
       "      <th></th>\n",
       "      <th>Survived</th>\n",
       "      <th>Pclass</th>\n",
       "      <th>Age</th>\n",
       "      <th>Sex</th>\n",
       "    </tr>\n",
       "  </thead>\n",
       "  <tbody>\n",
       "    <tr>\n",
       "      <th>Survived</th>\n",
       "      <td>1.000000</td>\n",
       "      <td>-0.338481</td>\n",
       "      <td>-0.077221</td>\n",
       "      <td>-0.543351</td>\n",
       "    </tr>\n",
       "    <tr>\n",
       "      <th>Pclass</th>\n",
       "      <td>-0.338481</td>\n",
       "      <td>1.000000</td>\n",
       "      <td>-0.369226</td>\n",
       "      <td>0.131900</td>\n",
       "    </tr>\n",
       "    <tr>\n",
       "      <th>Age</th>\n",
       "      <td>-0.077221</td>\n",
       "      <td>-0.369226</td>\n",
       "      <td>1.000000</td>\n",
       "      <td>0.093254</td>\n",
       "    </tr>\n",
       "    <tr>\n",
       "      <th>Sex</th>\n",
       "      <td>-0.543351</td>\n",
       "      <td>0.131900</td>\n",
       "      <td>0.093254</td>\n",
       "      <td>1.000000</td>\n",
       "    </tr>\n",
       "  </tbody>\n",
       "</table>\n",
       "</div>"
      ],
      "text/plain": [
       "          Survived    Pclass       Age       Sex\n",
       "Survived  1.000000 -0.338481 -0.077221 -0.543351\n",
       "Pclass   -0.338481  1.000000 -0.369226  0.131900\n",
       "Age      -0.077221 -0.369226  1.000000  0.093254\n",
       "Sex      -0.543351  0.131900  0.093254  1.000000"
      ]
     },
     "execution_count": 56,
     "metadata": {},
     "output_type": "execute_result"
    }
   ],
   "source": [
    "train_data[['Survived', 'Pclass', 'Age', 'Sex']].corr()"
   ]
  },
  {
   "cell_type": "code",
   "execution_count": 57,
   "metadata": {},
   "outputs": [
    {
     "data": {
      "text/plain": [
       "<matplotlib.axes._subplots.AxesSubplot at 0x1a1e2d6668>"
      ]
     },
     "execution_count": 57,
     "metadata": {},
     "output_type": "execute_result"
    },
    {
     "data": {
      "image/png": "[encoded data removed]",
      "text/plain": [
       "<Figure size 1152x648 with 2 Axes>"
      ]
     },
     "metadata": {},
     "output_type": "display_data"
    }
   ],
   "source": [
    "import seaborn as sns\n",
    "import matplotlib.pyplot as plt\n",
    "fig, ax = plt.subplots(1, 1, figsize=(16, 9))\n",
    "sns.heatmap(train_data[['Survived', 'Pclass', 'Age', 'Sex']].corr(), ax=ax)"
   ]
  },
  {
   "cell_type": "markdown",
   "metadata": {},
   "source": [
    "The correlation level looks acceptable here."
   ]
  },
  {
   "cell_type": "code",
   "execution_count": 58,
   "metadata": {},
   "outputs": [],
   "source": [
    "# Get the XGBclassifier directly as it is far easier to visualize this than the\n",
    "# pipeline object.\n",
    "def get_sklearn_xgbclassifier(train_data, X_columns=['Sex'], Y_columns=['Survived']):\n",
    "    my_model = XGBClassifier(seed=1)\n",
    "    X_train = train_data[X_columns]\n",
    "    Y_train = train_data[Y_columns]\n",
    "    my_model.fit(X_train, Y_train.values.ravel())    \n",
    "    return my_model"
   ]
  },
  {
   "cell_type": "code",
   "execution_count": 59,
   "metadata": {},
   "outputs": [],
   "source": [
    "def get_gridsearch_crossval_output(train_data, \n",
    "                                   X_columns = ['Sex', 'Pclass'], \n",
    "                                   Y_columns = ['Survived'],\n",
    "                                   n_estimators_list = [10, 50, 70, 100, 120, 150, 200],\n",
    "                                   learning_rates_list = [0.01, 0.02, 0.05, 0.07, 0.1],\n",
    "                                   early_stopping_round = 10,\n",
    "                                   num_cross_val_sets = 5\n",
    "                                  ):\n",
    "    (X_train, X_test, Y_train, Y_test, X_one_hot, Y) = get_train_test_data(train_data, X_columns, Y_columns)\n",
    "    col_names = ['f' + str(i) for i in range(len(X_train.columns))]\n",
    "    X_train.columns = col_names\n",
    "    X_test.columns = col_names\n",
    "    my_pipeline = Pipeline([('imputer', Imputer()), ('xgcl', XGBClassifier())])\n",
    "    param_grid = {\n",
    "        'xgcl__n_estimators' : n_estimators_list,\n",
    "        'xgcl__learning_rate' : learning_rates_list\n",
    "    }\n",
    "    fit_params = {'xgcl__eval_set' : [(X_test, Y_test.values.ravel())],\n",
    "                  'xgcl__early_stopping_rounds' : early_stopping_round,\n",
    "                  'xgcl__verbose': False}\n",
    "\n",
    "    searchCV = GridSearchCV(my_pipeline, cv=num_cross_val_sets, param_grid=param_grid, fit_params=fit_params)\n",
    "    searchCV.fit(X_train, Y_train.values.ravel())\n",
    "    return searchCV"
   ]
  },
  {
   "cell_type": "code",
   "execution_count": 60,
   "metadata": {},
   "outputs": [],
   "source": [
    "def get_model_metrics_and_display(train_data, X_columns=['Sex'], Y_columns=['Survived']):\n",
    "    (my_pipeline, out_of_sample_score, cross_validation_score) = \\\n",
    "        train_test_cross_validate(train_data,\n",
    "                                  X_columns, \n",
    "                                  Y_columns)\n",
    "\n",
    "    print(\"Out of sample score is {0}\\nCross val score is {1}\".format(out_of_sample_score, cross_validation_score))\n",
    "    my_model = get_sklearn_xgbclassifier(train_data, X_columns, Y_columns)\n",
    "    return my_model\n",
    "    "
   ]
  },
  {
   "cell_type": "markdown",
   "metadata": {},
   "source": [
    "### Model 1: IsCabinNull as the predictor"
   ]
  },
  {
   "cell_type": "markdown",
   "metadata": {},
   "source": [
    "#### Basic training/cross validation"
   ]
  },
  {
   "cell_type": "code",
   "execution_count": 61,
   "metadata": {},
   "outputs": [],
   "source": [
    "X_columns = ['IsCabinNull']\n",
    "Y_columns = ['Survived']"
   ]
  },
  {
   "cell_type": "code",
   "execution_count": 62,
   "metadata": {},
   "outputs": [
    {
     "name": "stdout",
     "output_type": "stream",
     "text": [
      "Number of entries in training set is 668\n",
      "Number of correct predictions in training set is 457\n",
      "Number of entries in test set is 223\n",
      "Number of correct predictions in test set is 160\n",
      "Out of sample score is 0.7174887892376682\n",
      "Cross val score is 0.6925897239756053\n"
     ]
    },
    {
     "data": {
      "image/svg+xml": [
       "<?xml version=\"1.0\" encoding=\"UTF-8\" standalone=\"no\"?>\n",
       "<!DOCTYPE svg PUBLIC \"-//W3C//DTD SVG 1.1//EN\"\n",
       " \"http://www.w3.org/Graphics/SVG/1.1/DTD/svg11.dtd\">\n",
       "<!-- Generated by graphviz version 2.40.1 (20161225.0304)\n",
       " -->\n",
       "<!-- Title: %3 Pages: 1 -->\n",
       "<svg width=\"228pt\" height=\"183pt\"\n",
       " viewBox=\"0.00 0.00 227.50 183.39\" xmlns=\"http://www.w3.org/2000/svg\" xmlns:xlink=\"http://www.w3.org/1999/xlink\">\n",
       "<g id=\"graph0\" class=\"graph\" transform=\"scale(1 1) rotate(0) translate(4 179.3922)\">\n",
       "<title>%3</title>\n",
       "<polygon fill=\"#ffffff\" stroke=\"transparent\" points=\"-4,4 -4,-179.3922 223.5,-179.3922 223.5,4 -4,4\"/>\n",
       "<!-- 0 -->\n",
       "<g id=\"node1\" class=\"node\">\n",
       "<title>0</title>\n",
       "<ellipse fill=\"none\" stroke=\"#000000\" cx=\"110\" cy=\"-131.1961\" rx=\"44.393\" ry=\"44.393\"/>\n",
       "<text text-anchor=\"middle\" x=\"110\" y=\"-127.4961\" font-family=\"Times,serif\" font-size=\"14.00\" fill=\"#000000\">IsCabinNull</text>\n",
       "</g>\n",
       "<!-- 2 -->\n",
       "<g id=\"node2\" class=\"node\">\n",
       "<title>2</title>\n",
       "<polygon fill=\"none\" stroke=\"#000000\" points=\"102,-36 0,-36 0,0 102,0 102,-36\"/>\n",
       "<text text-anchor=\"middle\" x=\"51\" y=\"-14.3\" font-family=\"Times,serif\" font-size=\"14.00\" fill=\"#000000\">leaf=&#45;0.0795947909</text>\n",
       "</g>\n",
       "<!-- 0&#45;&gt;2 -->\n",
       "<g id=\"edge1\" class=\"edge\">\n",
       "<title>0&#45;&gt;2</title>\n",
       "<path fill=\"none\" stroke=\"#0000ff\" d=\"M89.5302,-91.9233C81.5258,-76.5662 72.5397,-59.3257 65.2604,-45.3596\"/>\n",
       "<polygon fill=\"#0000ff\" stroke=\"#0000ff\" points=\"68.2523,-43.5273 60.5265,-36.2773 62.0449,-46.7628 68.2523,-43.5273\"/>\n",
       "<text text-anchor=\"middle\" x=\"84\" y=\"-57.8\" font-family=\"Times,serif\" font-size=\"14.00\" fill=\"#000000\">yes</text>\n",
       "</g>\n",
       "<!-- 1 -->\n",
       "<g id=\"node3\" class=\"node\">\n",
       "<title>1</title>\n",
       "<polygon fill=\"none\" stroke=\"#000000\" points=\"219.5,-36 120.5,-36 120.5,0 219.5,0 219.5,-36\"/>\n",
       "<text text-anchor=\"middle\" x=\"170\" y=\"-14.3\" font-family=\"Times,serif\" font-size=\"14.00\" fill=\"#000000\">leaf=0.0653846189</text>\n",
       "</g>\n",
       "<!-- 0&#45;&gt;1 -->\n",
       "<g id=\"edge2\" class=\"edge\">\n",
       "<title>0&#45;&gt;1</title>\n",
       "<path fill=\"none\" stroke=\"#ff0000\" d=\"M130.8167,-91.9233C138.9568,-76.5662 148.0952,-59.3257 155.4979,-45.3596\"/>\n",
       "<polygon fill=\"#ff0000\" stroke=\"#ff0000\" points=\"158.7211,-46.752 160.3121,-36.2773 152.5363,-43.4737 158.7211,-46.752\"/>\n",
       "<text text-anchor=\"middle\" x=\"155.5\" y=\"-57.8\" font-family=\"Times,serif\" font-size=\"14.00\" fill=\"#000000\">no</text>\n",
       "</g>\n",
       "</g>\n",
       "</svg>\n"
      ],
      "text/plain": [
       "<graphviz.dot.Digraph at 0x1a1d33e390>"
      ]
     },
     "execution_count": 62,
     "metadata": {},
     "output_type": "execute_result"
    }
   ],
   "source": [
    "my_model = get_model_metrics_and_display(train_data,X_columns=X_columns)\n",
    "xgb.to_graphviz(my_model)\n"
   ]
  },
  {
   "cell_type": "markdown",
   "metadata": {},
   "source": [
    "### Model 2: Parch, SibSp,Embarked as predictors."
   ]
  },
  {
   "cell_type": "markdown",
   "metadata": {},
   "source": [
    "#### Analysis of Embarked variable"
   ]
  },
  {
   "cell_type": "code",
   "execution_count": 63,
   "metadata": {},
   "outputs": [],
   "source": [
    "# Remove the nans from the training data before analysis.\n",
    "train_data_new = pd.get_dummies(train_data[train_data['Embarked'].notnull()])\n",
    "test_data_new = pd.get_dummies(test_data[test_data['Embarked'].notnull()])"
   ]
  },
  {
   "cell_type": "code",
   "execution_count": 64,
   "metadata": {},
   "outputs": [
    {
     "data": {
      "text/plain": [
       "Index(['PassengerId', 'Survived', 'Pclass', 'Sex', 'Age', 'SibSp', 'Parch',\n",
       "       'Fare', 'Predictions', 'IsCabinNull',\n",
       "       ...\n",
       "       'Cabin_F G73', 'Cabin_F2', 'Cabin_F33', 'Cabin_F38', 'Cabin_F4',\n",
       "       'Cabin_G6', 'Cabin_T', 'Embarked_C', 'Embarked_Q', 'Embarked_S'],\n",
       "      dtype='object', length=1728)"
      ]
     },
     "execution_count": 64,
     "metadata": {},
     "output_type": "execute_result"
    }
   ],
   "source": [
    "train_data_new.columns"
   ]
  },
  {
   "cell_type": "markdown",
   "metadata": {},
   "source": [
    "Comment : It can be seen that since Embarked is a categorical variable, we will be forced to add in 2 variables (there are 3 values for this variable, hence we can represent this with 2 variables).\n",
    "\n",
    "However, since we want to keep dimensonality as low as possible, we will try to see the 'density' of the values of this variable and check if we can manage with one variable itself."
   ]
  },
  {
   "cell_type": "code",
   "execution_count": 65,
   "metadata": {},
   "outputs": [
    {
     "data": {
      "text/html": [
       "<div>\n",
       "<style scoped>\n",
       "    .dataframe tbody tr th:only-of-type {\n",
       "        vertical-align: middle;\n",
       "    }\n",
       "\n",
       "    .dataframe tbody tr th {\n",
       "        vertical-align: top;\n",
       "    }\n",
       "\n",
       "    .dataframe thead th {\n",
       "        text-align: right;\n",
       "    }\n",
       "</style>\n",
       "<table border=\"1\" class=\"dataframe\">\n",
       "  <thead>\n",
       "    <tr style=\"text-align: right;\">\n",
       "      <th></th>\n",
       "      <th>Embarked_C</th>\n",
       "    </tr>\n",
       "  </thead>\n",
       "  <tbody>\n",
       "    <tr>\n",
       "      <th>count</th>\n",
       "      <td>889.000000</td>\n",
       "    </tr>\n",
       "    <tr>\n",
       "      <th>mean</th>\n",
       "      <td>0.188976</td>\n",
       "    </tr>\n",
       "    <tr>\n",
       "      <th>std</th>\n",
       "      <td>0.391710</td>\n",
       "    </tr>\n",
       "    <tr>\n",
       "      <th>min</th>\n",
       "      <td>0.000000</td>\n",
       "    </tr>\n",
       "    <tr>\n",
       "      <th>25%</th>\n",
       "      <td>0.000000</td>\n",
       "    </tr>\n",
       "    <tr>\n",
       "      <th>50%</th>\n",
       "      <td>0.000000</td>\n",
       "    </tr>\n",
       "    <tr>\n",
       "      <th>75%</th>\n",
       "      <td>0.000000</td>\n",
       "    </tr>\n",
       "    <tr>\n",
       "      <th>max</th>\n",
       "      <td>1.000000</td>\n",
       "    </tr>\n",
       "  </tbody>\n",
       "</table>\n",
       "</div>"
      ],
      "text/plain": [
       "       Embarked_C\n",
       "count  889.000000\n",
       "mean     0.188976\n",
       "std      0.391710\n",
       "min      0.000000\n",
       "25%      0.000000\n",
       "50%      0.000000\n",
       "75%      0.000000\n",
       "max      1.000000"
      ]
     },
     "execution_count": 65,
     "metadata": {},
     "output_type": "execute_result"
    }
   ],
   "source": [
    "train_data_new[['Embarked_C']].describe()"
   ]
  },
  {
   "cell_type": "code",
   "execution_count": 66,
   "metadata": {},
   "outputs": [
    {
     "data": {
      "text/html": [
       "<div>\n",
       "<style scoped>\n",
       "    .dataframe tbody tr th:only-of-type {\n",
       "        vertical-align: middle;\n",
       "    }\n",
       "\n",
       "    .dataframe tbody tr th {\n",
       "        vertical-align: top;\n",
       "    }\n",
       "\n",
       "    .dataframe thead th {\n",
       "        text-align: right;\n",
       "    }\n",
       "</style>\n",
       "<table border=\"1\" class=\"dataframe\">\n",
       "  <thead>\n",
       "    <tr style=\"text-align: right;\">\n",
       "      <th></th>\n",
       "      <th>Embarked_Q</th>\n",
       "    </tr>\n",
       "  </thead>\n",
       "  <tbody>\n",
       "    <tr>\n",
       "      <th>count</th>\n",
       "      <td>889.000000</td>\n",
       "    </tr>\n",
       "    <tr>\n",
       "      <th>mean</th>\n",
       "      <td>0.086614</td>\n",
       "    </tr>\n",
       "    <tr>\n",
       "      <th>std</th>\n",
       "      <td>0.281427</td>\n",
       "    </tr>\n",
       "    <tr>\n",
       "      <th>min</th>\n",
       "      <td>0.000000</td>\n",
       "    </tr>\n",
       "    <tr>\n",
       "      <th>25%</th>\n",
       "      <td>0.000000</td>\n",
       "    </tr>\n",
       "    <tr>\n",
       "      <th>50%</th>\n",
       "      <td>0.000000</td>\n",
       "    </tr>\n",
       "    <tr>\n",
       "      <th>75%</th>\n",
       "      <td>0.000000</td>\n",
       "    </tr>\n",
       "    <tr>\n",
       "      <th>max</th>\n",
       "      <td>1.000000</td>\n",
       "    </tr>\n",
       "  </tbody>\n",
       "</table>\n",
       "</div>"
      ],
      "text/plain": [
       "       Embarked_Q\n",
       "count  889.000000\n",
       "mean     0.086614\n",
       "std      0.281427\n",
       "min      0.000000\n",
       "25%      0.000000\n",
       "50%      0.000000\n",
       "75%      0.000000\n",
       "max      1.000000"
      ]
     },
     "execution_count": 66,
     "metadata": {},
     "output_type": "execute_result"
    }
   ],
   "source": [
    "train_data_new[['Embarked_Q']].describe()"
   ]
  },
  {
   "cell_type": "code",
   "execution_count": 67,
   "metadata": {},
   "outputs": [
    {
     "data": {
      "text/html": [
       "<div>\n",
       "<style scoped>\n",
       "    .dataframe tbody tr th:only-of-type {\n",
       "        vertical-align: middle;\n",
       "    }\n",
       "\n",
       "    .dataframe tbody tr th {\n",
       "        vertical-align: top;\n",
       "    }\n",
       "\n",
       "    .dataframe thead th {\n",
       "        text-align: right;\n",
       "    }\n",
       "</style>\n",
       "<table border=\"1\" class=\"dataframe\">\n",
       "  <thead>\n",
       "    <tr style=\"text-align: right;\">\n",
       "      <th></th>\n",
       "      <th>Embarked_S</th>\n",
       "    </tr>\n",
       "  </thead>\n",
       "  <tbody>\n",
       "    <tr>\n",
       "      <th>count</th>\n",
       "      <td>889.000000</td>\n",
       "    </tr>\n",
       "    <tr>\n",
       "      <th>mean</th>\n",
       "      <td>0.724409</td>\n",
       "    </tr>\n",
       "    <tr>\n",
       "      <th>std</th>\n",
       "      <td>0.447063</td>\n",
       "    </tr>\n",
       "    <tr>\n",
       "      <th>min</th>\n",
       "      <td>0.000000</td>\n",
       "    </tr>\n",
       "    <tr>\n",
       "      <th>25%</th>\n",
       "      <td>0.000000</td>\n",
       "    </tr>\n",
       "    <tr>\n",
       "      <th>50%</th>\n",
       "      <td>1.000000</td>\n",
       "    </tr>\n",
       "    <tr>\n",
       "      <th>75%</th>\n",
       "      <td>1.000000</td>\n",
       "    </tr>\n",
       "    <tr>\n",
       "      <th>max</th>\n",
       "      <td>1.000000</td>\n",
       "    </tr>\n",
       "  </tbody>\n",
       "</table>\n",
       "</div>"
      ],
      "text/plain": [
       "       Embarked_S\n",
       "count  889.000000\n",
       "mean     0.724409\n",
       "std      0.447063\n",
       "min      0.000000\n",
       "25%      0.000000\n",
       "50%      1.000000\n",
       "75%      1.000000\n",
       "max      1.000000"
      ]
     },
     "execution_count": 67,
     "metadata": {},
     "output_type": "execute_result"
    }
   ],
   "source": [
    "train_data_new[['Embarked_S']].describe()"
   ]
  },
  {
   "cell_type": "markdown",
   "metadata": {},
   "source": [
    "Comments : It can be easily seen that 'S' is the major embarking point and hence let us use only that as our predictor for now(as far as 'Embarked' variable is concerned)."
   ]
  },
  {
   "cell_type": "markdown",
   "metadata": {},
   "source": [
    "#### Basic training/cross validation"
   ]
  },
  {
   "cell_type": "code",
   "execution_count": 68,
   "metadata": {},
   "outputs": [],
   "source": [
    "X_columns = ['Parch', 'SibSp', 'Embarked_S']\n",
    "Y_columns = ['Survived']"
   ]
  },
  {
   "cell_type": "code",
   "execution_count": 69,
   "metadata": {},
   "outputs": [
    {
     "name": "stdout",
     "output_type": "stream",
     "text": [
      "Number of entries in training set is 666\n",
      "Number of correct predictions in training set is 462\n",
      "Number of entries in test set is 223\n",
      "Number of correct predictions in test set is 150\n",
      "Out of sample score is 0.6726457399103138\n",
      "Cross val score is 0.6850822065638291\n"
     ]
    },
    {
     "data": {
      "image/svg+xml": [
       "<?xml version=\"1.0\" encoding=\"UTF-8\" standalone=\"no\"?>\n",
       "<!DOCTYPE svg PUBLIC \"-//W3C//DTD SVG 1.1//EN\"\n",
       " \"http://www.w3.org/Graphics/SVG/1.1/DTD/svg11.dtd\">\n",
       "<!-- Generated by graphviz version 2.40.1 (20161225.0304)\n",
       " -->\n",
       "<!-- Title: %3 Pages: 1 -->\n",
       "<svg width=\"928pt\" height=\"441pt\"\n",
       " viewBox=\"0.00 0.00 928.00 441.38\" xmlns=\"http://www.w3.org/2000/svg\" xmlns:xlink=\"http://www.w3.org/1999/xlink\">\n",
       "<g id=\"graph0\" class=\"graph\" transform=\"scale(1 1) rotate(0) translate(4 437.3783)\">\n",
       "<title>%3</title>\n",
       "<polygon fill=\"#ffffff\" stroke=\"transparent\" points=\"-4,4 -4,-437.3783 924,-437.3783 924,4 -4,4\"/>\n",
       "<!-- 0 -->\n",
       "<g id=\"node1\" class=\"node\">\n",
       "<title>0</title>\n",
       "<ellipse fill=\"none\" stroke=\"#000000\" cx=\"422\" cy=\"-380.083\" rx=\"53.0913\" ry=\"53.0913\"/>\n",
       "<text text-anchor=\"middle\" x=\"422\" y=\"-376.383\" font-family=\"Times,serif\" font-size=\"14.00\" fill=\"#000000\">Embarked_S&lt;1</text>\n",
       "</g>\n",
       "<!-- 1 -->\n",
       "<g id=\"node2\" class=\"node\">\n",
       "<title>1</title>\n",
       "<ellipse fill=\"none\" stroke=\"#000000\" cx=\"364\" cy=\"-241.3408\" rx=\"34.394\" ry=\"34.394\"/>\n",
       "<text text-anchor=\"middle\" x=\"364\" y=\"-237.6408\" font-family=\"Times,serif\" font-size=\"14.00\" fill=\"#000000\">SibSp&lt;1</text>\n",
       "</g>\n",
       "<!-- 0&#45;&gt;1 -->\n",
       "<g id=\"edge1\" class=\"edge\">\n",
       "<title>0&#45;&gt;1</title>\n",
       "<path fill=\"none\" stroke=\"#0000ff\" d=\"M401.3881,-330.7771C394.8175,-315.0596 387.6184,-297.8385 381.3068,-282.7406\"/>\n",
       "<polygon fill=\"#0000ff\" stroke=\"#0000ff\" points=\"384.3892,-281.0392 377.303,-273.1629 377.9308,-283.7392 384.3892,-281.0392\"/>\n",
       "<text text-anchor=\"middle\" x=\"418\" y=\"-297.5878\" font-family=\"Times,serif\" font-size=\"14.00\" fill=\"#000000\">yes, missing</text>\n",
       "</g>\n",
       "<!-- 2 -->\n",
       "<g id=\"node3\" class=\"node\">\n",
       "<title>2</title>\n",
       "<ellipse fill=\"none\" stroke=\"#000000\" cx=\"562\" cy=\"-241.3408\" rx=\"33.5952\" ry=\"33.5952\"/>\n",
       "<text text-anchor=\"middle\" x=\"562\" y=\"-237.6408\" font-family=\"Times,serif\" font-size=\"14.00\" fill=\"#000000\">Parch&lt;1</text>\n",
       "</g>\n",
       "<!-- 0&#45;&gt;2 -->\n",
       "<g id=\"edge2\" class=\"edge\">\n",
       "<title>0&#45;&gt;2</title>\n",
       "<path fill=\"none\" stroke=\"#ff0000\" d=\"M459.886,-342.5374C482.0523,-320.5703 509.7037,-293.1673 530.6397,-272.4193\"/>\n",
       "<polygon fill=\"#ff0000\" stroke=\"#ff0000\" points=\"533.1058,-274.9031 537.745,-265.3779 528.1784,-269.931 533.1058,-274.9031\"/>\n",
       "<text text-anchor=\"middle\" x=\"514.5\" y=\"-297.5878\" font-family=\"Times,serif\" font-size=\"14.00\" fill=\"#000000\">no</text>\n",
       "</g>\n",
       "<!-- 3 -->\n",
       "<g id=\"node4\" class=\"node\">\n",
       "<title>3</title>\n",
       "<ellipse fill=\"none\" stroke=\"#000000\" cx=\"170\" cy=\"-121.4469\" rx=\"33.5952\" ry=\"33.5952\"/>\n",
       "<text text-anchor=\"middle\" x=\"170\" y=\"-117.7469\" font-family=\"Times,serif\" font-size=\"14.00\" fill=\"#000000\">Parch&lt;1</text>\n",
       "</g>\n",
       "<!-- 1&#45;&gt;3 -->\n",
       "<g id=\"edge3\" class=\"edge\">\n",
       "<title>1&#45;&gt;3</title>\n",
       "<path fill=\"none\" stroke=\"#0000ff\" d=\"M334.5356,-223.1315C300.4842,-202.0874 244.3895,-167.4204 207.3181,-144.5099\"/>\n",
       "<polygon fill=\"#0000ff\" stroke=\"#0000ff\" points=\"209.1368,-141.5194 198.7902,-139.2395 205.4568,-147.4741 209.1368,-141.5194\"/>\n",
       "<text text-anchor=\"middle\" x=\"305\" y=\"-177.6939\" font-family=\"Times,serif\" font-size=\"14.00\" fill=\"#000000\">yes, missing</text>\n",
       "</g>\n",
       "<!-- 4 -->\n",
       "<g id=\"node5\" class=\"node\">\n",
       "<title>4</title>\n",
       "<ellipse fill=\"none\" stroke=\"#000000\" cx=\"364\" cy=\"-121.4469\" rx=\"34.394\" ry=\"34.394\"/>\n",
       "<text text-anchor=\"middle\" x=\"364\" y=\"-117.7469\" font-family=\"Times,serif\" font-size=\"14.00\" fill=\"#000000\">SibSp&lt;4</text>\n",
       "</g>\n",
       "<!-- 1&#45;&gt;4 -->\n",
       "<g id=\"edge4\" class=\"edge\">\n",
       "<title>1&#45;&gt;4</title>\n",
       "<path fill=\"none\" stroke=\"#ff0000\" d=\"M364,-206.6626C364,-194.1113 364,-179.7512 364,-166.4415\"/>\n",
       "<polygon fill=\"#ff0000\" stroke=\"#ff0000\" points=\"367.5001,-166.0473 364,-156.0473 360.5001,-166.0473 367.5001,-166.0473\"/>\n",
       "<text text-anchor=\"middle\" x=\"369.5\" y=\"-177.6939\" font-family=\"Times,serif\" font-size=\"14.00\" fill=\"#000000\">no</text>\n",
       "</g>\n",
       "<!-- 5 -->\n",
       "<g id=\"node10\" class=\"node\">\n",
       "<title>5</title>\n",
       "<ellipse fill=\"none\" stroke=\"#000000\" cx=\"562\" cy=\"-121.4469\" rx=\"34.394\" ry=\"34.394\"/>\n",
       "<text text-anchor=\"middle\" x=\"562\" y=\"-117.7469\" font-family=\"Times,serif\" font-size=\"14.00\" fill=\"#000000\">SibSp&lt;1</text>\n",
       "</g>\n",
       "<!-- 2&#45;&gt;5 -->\n",
       "<g id=\"edge9\" class=\"edge\">\n",
       "<title>2&#45;&gt;5</title>\n",
       "<path fill=\"none\" stroke=\"#0000ff\" d=\"M562,-207.3048C562,-194.5058 562,-179.7556 562,-166.132\"/>\n",
       "<polygon fill=\"#0000ff\" stroke=\"#0000ff\" points=\"565.5001,-165.9844 562,-155.9845 558.5001,-165.9845 565.5001,-165.9844\"/>\n",
       "<text text-anchor=\"middle\" x=\"588\" y=\"-177.6939\" font-family=\"Times,serif\" font-size=\"14.00\" fill=\"#000000\">yes, missing</text>\n",
       "</g>\n",
       "<!-- 6 -->\n",
       "<g id=\"node11\" class=\"node\">\n",
       "<title>6</title>\n",
       "<ellipse fill=\"none\" stroke=\"#000000\" cx=\"760\" cy=\"-121.4469\" rx=\"34.394\" ry=\"34.394\"/>\n",
       "<text text-anchor=\"middle\" x=\"760\" y=\"-117.7469\" font-family=\"Times,serif\" font-size=\"14.00\" fill=\"#000000\">SibSp&lt;3</text>\n",
       "</g>\n",
       "<!-- 2&#45;&gt;6 -->\n",
       "<g id=\"edge10\" class=\"edge\">\n",
       "<title>2&#45;&gt;6</title>\n",
       "<path fill=\"none\" stroke=\"#ff0000\" d=\"M591.2156,-223.6501C625.7728,-202.7248 683.4112,-167.8234 721.5627,-144.7217\"/>\n",
       "<polygon fill=\"#ff0000\" stroke=\"#ff0000\" points=\"723.5995,-147.58 730.3407,-139.4064 719.9737,-141.5922 723.5995,-147.58\"/>\n",
       "<text text-anchor=\"middle\" x=\"678.5\" y=\"-177.6939\" font-family=\"Times,serif\" font-size=\"14.00\" fill=\"#000000\">no</text>\n",
       "</g>\n",
       "<!-- 7 -->\n",
       "<g id=\"node6\" class=\"node\">\n",
       "<title>7</title>\n",
       "<polygon fill=\"none\" stroke=\"#000000\" points=\"102,-36 0,-36 0,0 102,0 102,-36\"/>\n",
       "<text text-anchor=\"middle\" x=\"51\" y=\"-14.3\" font-family=\"Times,serif\" font-size=\"14.00\" fill=\"#000000\">leaf=&#45;0.0301369876</text>\n",
       "</g>\n",
       "<!-- 3&#45;&gt;7 -->\n",
       "<g id=\"edge5\" class=\"edge\">\n",
       "<title>3&#45;&gt;7</title>\n",
       "<path fill=\"none\" stroke=\"#0000ff\" d=\"M144.4715,-99.255C125.3841,-82.6622 99.2823,-59.9719 79.5119,-42.7855\"/>\n",
       "<polygon fill=\"#0000ff\" stroke=\"#0000ff\" points=\"81.579,-39.9448 71.7357,-36.0255 76.9865,-45.2277 81.579,-39.9448\"/>\n",
       "<text text-anchor=\"middle\" x=\"133\" y=\"-57.8\" font-family=\"Times,serif\" font-size=\"14.00\" fill=\"#000000\">yes, missing</text>\n",
       "</g>\n",
       "<!-- 8 -->\n",
       "<g id=\"node7\" class=\"node\">\n",
       "<title>8</title>\n",
       "<polygon fill=\"none\" stroke=\"#000000\" points=\"219.5,-36 120.5,-36 120.5,0 219.5,0 219.5,-36\"/>\n",
       "<text text-anchor=\"middle\" x=\"170\" y=\"-14.3\" font-family=\"Times,serif\" font-size=\"14.00\" fill=\"#000000\">leaf=0.0266666692</text>\n",
       "</g>\n",
       "<!-- 3&#45;&gt;8 -->\n",
       "<g id=\"edge6\" class=\"edge\">\n",
       "<title>3&#45;&gt;8</title>\n",
       "<path fill=\"none\" stroke=\"#ff0000\" d=\"M170,-87.5745C170,-74.2244 170,-59.0658 170,-46.3134\"/>\n",
       "<polygon fill=\"#ff0000\" stroke=\"#ff0000\" points=\"173.5001,-46.2598 170,-36.2598 166.5001,-46.2599 173.5001,-46.2598\"/>\n",
       "<text text-anchor=\"middle\" x=\"175.5\" y=\"-57.8\" font-family=\"Times,serif\" font-size=\"14.00\" fill=\"#000000\">no</text>\n",
       "</g>\n",
       "<!-- 9 -->\n",
       "<g id=\"node8\" class=\"node\">\n",
       "<title>9</title>\n",
       "<polygon fill=\"none\" stroke=\"#000000\" points=\"336.5,-36 237.5,-36 237.5,0 336.5,0 336.5,-36\"/>\n",
       "<text text-anchor=\"middle\" x=\"287\" y=\"-14.3\" font-family=\"Times,serif\" font-size=\"14.00\" fill=\"#000000\">leaf=0.0597402565</text>\n",
       "</g>\n",
       "<!-- 4&#45;&gt;9 -->\n",
       "<g id=\"edge7\" class=\"edge\">\n",
       "<title>4&#45;&gt;9</title>\n",
       "<path fill=\"none\" stroke=\"#0000ff\" d=\"M343.3654,-93.7251C331.9703,-78.4161 317.8923,-59.5027 306.6563,-44.4076\"/>\n",
       "<polygon fill=\"#0000ff\" stroke=\"#0000ff\" points=\"309.1896,-41.9491 300.411,-36.0172 303.5743,-46.1288 309.1896,-41.9491\"/>\n",
       "<text text-anchor=\"middle\" x=\"350\" y=\"-57.8\" font-family=\"Times,serif\" font-size=\"14.00\" fill=\"#000000\">yes, missing</text>\n",
       "</g>\n",
       "<!-- 10 -->\n",
       "<g id=\"node9\" class=\"node\">\n",
       "<title>10</title>\n",
       "<polygon fill=\"none\" stroke=\"#000000\" points=\"451.5,-36 354.5,-36 354.5,0 451.5,0 451.5,-36\"/>\n",
       "<text text-anchor=\"middle\" x=\"403\" y=\"-14.3\" font-family=\"Times,serif\" font-size=\"14.00\" fill=\"#000000\">leaf=&#45;0.100000001</text>\n",
       "</g>\n",
       "<!-- 4&#45;&gt;10 -->\n",
       "<g id=\"edge8\" class=\"edge\">\n",
       "<title>4&#45;&gt;10</title>\n",
       "<path fill=\"none\" stroke=\"#ff0000\" d=\"M376.2328,-88.9995C381.4664,-75.1176 387.5149,-59.074 392.5368,-45.7536\"/>\n",
       "<polygon fill=\"#ff0000\" stroke=\"#ff0000\" points=\"395.8936,-46.771 396.1464,-36.1791 389.3436,-44.3015 395.8936,-46.771\"/>\n",
       "<text text-anchor=\"middle\" x=\"395.5\" y=\"-57.8\" font-family=\"Times,serif\" font-size=\"14.00\" fill=\"#000000\">no</text>\n",
       "</g>\n",
       "<!-- 11 -->\n",
       "<g id=\"node12\" class=\"node\">\n",
       "<title>11</title>\n",
       "<polygon fill=\"none\" stroke=\"#000000\" points=\"572,-36 470,-36 470,0 572,0 572,-36\"/>\n",
       "<text text-anchor=\"middle\" x=\"521\" y=\"-14.3\" font-family=\"Times,serif\" font-size=\"14.00\" fill=\"#000000\">leaf=&#45;0.0962216631</text>\n",
       "</g>\n",
       "<!-- 5&#45;&gt;11 -->\n",
       "<g id=\"edge11\" class=\"edge\">\n",
       "<title>5&#45;&gt;11</title>\n",
       "<path fill=\"none\" stroke=\"#0000ff\" d=\"M549.2521,-89.2827C543.7448,-75.3874 537.3622,-59.2833 532.0584,-45.9013\"/>\n",
       "<polygon fill=\"#0000ff\" stroke=\"#0000ff\" points=\"535.1835,-44.2871 528.2452,-36.2802 528.676,-46.8663 535.1835,-44.2871\"/>\n",
       "<text text-anchor=\"middle\" x=\"567\" y=\"-57.8\" font-family=\"Times,serif\" font-size=\"14.00\" fill=\"#000000\">yes, missing</text>\n",
       "</g>\n",
       "<!-- 12 -->\n",
       "<g id=\"node13\" class=\"node\">\n",
       "<title>12</title>\n",
       "<polygon fill=\"none\" stroke=\"#000000\" points=\"692,-36 590,-36 590,0 692,0 692,-36\"/>\n",
       "<text text-anchor=\"middle\" x=\"641\" y=\"-14.3\" font-family=\"Times,serif\" font-size=\"14.00\" fill=\"#000000\">leaf=&#45;0.0357894748</text>\n",
       "</g>\n",
       "<!-- 5&#45;&gt;12 -->\n",
       "<g id=\"edge12\" class=\"edge\">\n",
       "<title>5&#45;&gt;12</title>\n",
       "<path fill=\"none\" stroke=\"#ff0000\" d=\"M582.9631,-93.9967C594.7652,-78.5424 609.4226,-59.3492 621.0544,-44.1178\"/>\n",
       "<polygon fill=\"#ff0000\" stroke=\"#ff0000\" points=\"623.8802,-46.1843 627.1679,-36.1125 618.3169,-41.9357 623.8802,-46.1843\"/>\n",
       "<text text-anchor=\"middle\" x=\"619.5\" y=\"-57.8\" font-family=\"Times,serif\" font-size=\"14.00\" fill=\"#000000\">no</text>\n",
       "</g>\n",
       "<!-- 13 -->\n",
       "<g id=\"node14\" class=\"node\">\n",
       "<title>13</title>\n",
       "<polygon fill=\"none\" stroke=\"#000000\" points=\"809.5,-36 710.5,-36 710.5,0 809.5,0 809.5,-36\"/>\n",
       "<text text-anchor=\"middle\" x=\"760\" y=\"-14.3\" font-family=\"Times,serif\" font-size=\"14.00\" fill=\"#000000\">leaf=0.0451612882</text>\n",
       "</g>\n",
       "<!-- 6&#45;&gt;13 -->\n",
       "<g id=\"edge13\" class=\"edge\">\n",
       "<title>6&#45;&gt;13</title>\n",
       "<path fill=\"none\" stroke=\"#0000ff\" d=\"M760,-86.7128C760,-73.6383 760,-58.9344 760,-46.4937\"/>\n",
       "<polygon fill=\"#0000ff\" stroke=\"#0000ff\" points=\"763.5001,-46.2412 760,-36.2413 756.5001,-46.2413 763.5001,-46.2412\"/>\n",
       "<text text-anchor=\"middle\" x=\"786\" y=\"-57.8\" font-family=\"Times,serif\" font-size=\"14.00\" fill=\"#000000\">yes, missing</text>\n",
       "</g>\n",
       "<!-- 14 -->\n",
       "<g id=\"node15\" class=\"node\">\n",
       "<title>14</title>\n",
       "<polygon fill=\"none\" stroke=\"#000000\" points=\"920,-36 828,-36 828,0 920,0 920,-36\"/>\n",
       "<text text-anchor=\"middle\" x=\"874\" y=\"-14.3\" font-family=\"Times,serif\" font-size=\"14.00\" fill=\"#000000\">leaf=&#45;0.13636364</text>\n",
       "</g>\n",
       "<!-- 6&#45;&gt;14 -->\n",
       "<g id=\"edge14\" class=\"edge\">\n",
       "<title>6&#45;&gt;14</title>\n",
       "<path fill=\"none\" stroke=\"#ff0000\" d=\"M785.5838,-98.2314C803.6202,-81.8647 827.7597,-59.9598 846.2584,-43.1736\"/>\n",
       "<polygon fill=\"#ff0000\" stroke=\"#ff0000\" points=\"848.7533,-45.6359 853.8068,-36.3239 844.0492,-40.452 848.7533,-45.6359\"/>\n",
       "<text text-anchor=\"middle\" x=\"838.5\" y=\"-57.8\" font-family=\"Times,serif\" font-size=\"14.00\" fill=\"#000000\">no</text>\n",
       "</g>\n",
       "</g>\n",
       "</svg>\n"
      ],
      "text/plain": [
       "<graphviz.dot.Digraph at 0x1a1df6c470>"
      ]
     },
     "execution_count": 69,
     "metadata": {},
     "output_type": "execute_result"
    }
   ],
   "source": [
    "my_model = get_model_metrics_and_display(train_data_new,X_columns=X_columns)\n",
    "xgb.to_graphviz(my_model)\n"
   ]
  },
  {
   "cell_type": "markdown",
   "metadata": {},
   "source": [
    "Comment : Though these models do not perform as well as the ones we had seen earlier, they could still be useful as a third model for ensembling (since they are extremely likely to have very small correlation with our earlier models).\n",
    "\n",
    "Let us generate ouptut files on out of sample data and see how correlated these are, to each other. "
   ]
  },
  {
   "cell_type": "markdown",
   "metadata": {},
   "source": [
    "#### Creating a file with predictions on out of sample data for Model 1"
   ]
  },
  {
   "cell_type": "code",
   "execution_count": 70,
   "metadata": {},
   "outputs": [],
   "source": [
    "#create_pipeline_and_out_of_sample_score(X_train, X_test, Y_train, Y_test)\n",
    "X_columns = ['IsCabinNull']\n",
    "Y_columns = ['Survived']\n",
    "X_train = train_data[X_columns]\n",
    "X_train_one_hot = pd.get_dummies(X_train)\n",
    "Y_train = train_data[Y_columns]\n",
    "X_test = test_data[X_columns]\n",
    "X_test_one_hot = pd.get_dummies(X_test)\n",
    "\n",
    "# Create a dummy test data s\n",
    "Y_test = np.ones(len(test_data[X_columns])) * -1\n",
    "(my_pipeline, out_of_sample_score, predictions_out_of_sample) = \\\n",
    "    create_pipeline_and_out_of_sample_score(X_train_one_hot, \n",
    "                                            X_test_one_hot,\n",
    "                                            Y_train,\n",
    "                                            Y_test,\n",
    "                                            1,\n",
    "                                            0.01)\n",
    "test_data['Predictions'] = predictions_out_of_sample\n",
    "kaggle_data = test_data[['PassengerId', 'Predictions']].copy()\n",
    "kaggle_data.rename(columns={'Predictions' : 'Survived'}, inplace=True)\n",
    "kaggle_data.sort_values(by=['PassengerId']).to_csv('kaggle_out_xgboost_cabin_null.csv', index=False)"
   ]
  },
  {
   "cell_type": "markdown",
   "metadata": {},
   "source": [
    "#### Creating a file with predictions on out of sample data for Model 2"
   ]
  },
  {
   "cell_type": "code",
   "execution_count": 71,
   "metadata": {},
   "outputs": [],
   "source": [
    "#create_pipeline_and_out_of_sample_score(X_train, X_test, Y_train, Y_test)\n",
    "X_columns = ['Parch', 'SibSp', 'Embarked_S']\n",
    "Y_columns = ['Survived']\n",
    "X_train = train_data_new[X_columns]\n",
    "X_train_one_hot = pd.get_dummies(X_train)\n",
    "Y_train = train_data_new[Y_columns]\n",
    "X_test = test_data_new[X_columns]\n",
    "X_test_one_hot = pd.get_dummies(X_test)\n",
    "\n",
    "# Create a dummy test data s\n",
    "Y_test = np.ones(len(test_data_new[X_columns])) * -1\n",
    "(my_pipeline, out_of_sample_score, predictions_out_of_sample) = \\\n",
    "    create_pipeline_and_out_of_sample_score(X_train_one_hot, \n",
    "                                            X_test_one_hot,\n",
    "                                            Y_train,\n",
    "                                            Y_test,\n",
    "                                            1,\n",
    "                                            0.01)\n",
    "test_data['Predictions'] = predictions_out_of_sample\n",
    "kaggle_data = test_data[['PassengerId', 'Predictions']].copy()\n",
    "kaggle_data.rename(columns={'Predictions' : 'Survived'}, inplace=True)\n",
    "kaggle_data.sort_values(by=['PassengerId']).to_csv('kaggle_out_xgboost_parch_sibsp_embarked_s.csv', index=False)"
   ]
  },
  {
   "cell_type": "markdown",
   "metadata": {},
   "source": [
    "#### Check correlation of predictions on out of sample data"
   ]
  },
  {
   "cell_type": "code",
   "execution_count": 72,
   "metadata": {},
   "outputs": [
    {
     "name": "stdout",
     "output_type": "stream",
     "text": [
      "Index(['PassengerId', 'Survived_1', 'Survived_2'], dtype='object')\n"
     ]
    },
    {
     "data": {
      "text/html": [
       "<div>\n",
       "<style scoped>\n",
       "    .dataframe tbody tr th:only-of-type {\n",
       "        vertical-align: middle;\n",
       "    }\n",
       "\n",
       "    .dataframe tbody tr th {\n",
       "        vertical-align: top;\n",
       "    }\n",
       "\n",
       "    .dataframe thead th {\n",
       "        text-align: right;\n",
       "    }\n",
       "</style>\n",
       "<table border=\"1\" class=\"dataframe\">\n",
       "  <thead>\n",
       "    <tr style=\"text-align: right;\">\n",
       "      <th></th>\n",
       "      <th>Survived_1</th>\n",
       "      <th>Survived_2</th>\n",
       "    </tr>\n",
       "  </thead>\n",
       "  <tbody>\n",
       "    <tr>\n",
       "      <th>Survived_1</th>\n",
       "      <td>1.000000</td>\n",
       "      <td>0.207858</td>\n",
       "    </tr>\n",
       "    <tr>\n",
       "      <th>Survived_2</th>\n",
       "      <td>0.207858</td>\n",
       "      <td>1.000000</td>\n",
       "    </tr>\n",
       "  </tbody>\n",
       "</table>\n",
       "</div>"
      ],
      "text/plain": [
       "            Survived_1  Survived_2\n",
       "Survived_1    1.000000    0.207858\n",
       "Survived_2    0.207858    1.000000"
      ]
     },
     "metadata": {},
     "output_type": "display_data"
    }
   ],
   "source": [
    "predictions_models_df = pd.read_csv('kaggle_out_cabin_null.csv')\n",
    "predictions2 = pd.read_csv('kaggle_out_parch_sibsp_embarked_s.csv')\n",
    "predictions_models_df.rename(columns={'Survived' : 'Survived_1'}, inplace=True)\n",
    "predictions_models_df['Survived_2'] = predictions2['Survived']\n",
    "\n",
    "print(predictions_models_df.columns)\n",
    "display(predictions_models_df[['Survived_1', 'Survived_2']].corr())"
   ]
  },
  {
   "cell_type": "markdown",
   "metadata": {},
   "source": [
    "Comments : This looks promising, as we have only 20% correlation between predictions."
   ]
  }
 ],
 "metadata": {
  "kernelspec": {
   "display_name": "Python 3",
   "language": "python",
   "name": "python3"
  },
  "language_info": {
   "codemirror_mode": {
    "name": "ipython",
    "version": 3
   },
   "file_extension": ".py",
   "mimetype": "text/x-python",
   "name": "python",
   "nbconvert_exporter": "python",
   "pygments_lexer": "ipython3",
   "version": "3.6.4"
  }
 },
 "nbformat": 4,
 "nbformat_minor": 2
}
