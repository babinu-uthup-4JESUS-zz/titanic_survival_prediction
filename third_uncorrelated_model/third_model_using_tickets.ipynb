{
 "cells": [
  {
   "cell_type": "markdown",
   "metadata": {},
   "source": [
    "# Basic Overview\n",
    "This is a stab to see if we can build a third uncorrelated model using the support vector classification on the ticket field.\n",
    "\n",
    "The idea here is as follows :\n",
    "1. Generate survived or not prediction by doing SVC on tickets field.\n",
    "2. Use this prediction as another factor and in other factors. This way , we hope to improve upon a base model using just tickets alone.\n",
    "\n",
    "\n",
    "Comments/criticisms/appreciations are greatly accepted and appreciated. Do not be shy and send me an email at babinu@gmail.com !\n",
    "\n",
    "Source of data : https://www.kaggle.com/c/titanic/data"
   ]
  },
  {
   "cell_type": "code",
   "execution_count": 260,
   "metadata": {},
   "outputs": [],
   "source": [
    "import pandas as pd\n",
    "import numpy as np\n",
    "from sklearn.feature_extraction.text import TfidfVectorizer"
   ]
  },
  {
   "cell_type": "code",
   "execution_count": 261,
   "metadata": {},
   "outputs": [],
   "source": [
    "train_data = pd.read_csv(\"../input/train.csv\")\n",
    "test_data = pd.read_csv(\"../input/test_data_processed_correct.csv\")"
   ]
  },
  {
   "cell_type": "code",
   "execution_count": 262,
   "metadata": {},
   "outputs": [],
   "source": [
    "train_data['Family_Size'] = train_data['SibSp'] + train_data['Parch'] + 1\n"
   ]
  },
  {
   "cell_type": "markdown",
   "metadata": {},
   "source": [
    "#### Pipeline for SVC\n"
   ]
  },
  {
   "cell_type": "code",
   "execution_count": 263,
   "metadata": {},
   "outputs": [],
   "source": [
    "# We use a pipeline to make things easire\n",
    "from sklearn.linear_model import SGDClassifier\n",
    "from sklearn.feature_extraction.text import TfidfTransformer\n",
    "from sklearn.pipeline import Pipeline\n",
    "best_model_svc = Pipeline([('vect', TfidfVectorizer()),\n",
    "                           ('transformer', TfidfTransformer(use_idf=False)),\n",
    "                           ('classify', SGDClassifier(loss='hinge', penalty='l2', alpha=1e-3, \n",
    "                                                      random_state=0, max_iter=5, tol=None))])"
   ]
  },
  {
   "cell_type": "markdown",
   "metadata": {},
   "source": [
    "Comment : See if we combine this with other predictors and get a more refined indicator."
   ]
  },
  {
   "cell_type": "markdown",
   "metadata": {},
   "source": [
    "#### Pipeline for xgboost(which is getting the output of svc)"
   ]
  },
  {
   "cell_type": "code",
   "execution_count": 264,
   "metadata": {},
   "outputs": [],
   "source": [
    "from sklearn.preprocessing import Imputer\n",
    "from xgboost import XGBClassifier\n",
    "from sklearn.model_selection import cross_val_score\n",
    "from sklearn.pipeline import make_pipeline\n",
    "from sklearn.model_selection import train_test_split\n",
    "from sklearn.metrics import mean_absolute_error\n",
    "import xgboost as xgb"
   ]
  },
  {
   "cell_type": "code",
   "execution_count": 265,
   "metadata": {},
   "outputs": [],
   "source": [
    "import warnings\n",
    "warnings.filterwarnings(action='ignore', category=DeprecationWarning)\n"
   ]
  },
  {
   "cell_type": "code",
   "execution_count": 266,
   "metadata": {},
   "outputs": [],
   "source": [
    "def get_train_test_data(train_data,\n",
    "                        train_test_X_columns=['Family_Size'], \n",
    "                        train_test_Y_columns=['Survived']):\n",
    "\n",
    "    # Simple training and testing\n",
    "    print(\"TEST\", train_test_X_columns)\n",
    "    rel_cols = train_test_X_columns\n",
    "    if 'Ticket' not in train_test_X_columns:\n",
    "        rel_cols.append('Ticket')\n",
    "    X = train_data[rel_cols]\n",
    "    Y = train_data[train_test_Y_columns]\n",
    "\n",
    "\n",
    "    # Do imputation on relevant columns.\n",
    "    X_train, X_test, Y_train, Y_test = train_test_split(X, Y, random_state=0)\n",
    "    X_train = X_train.copy()\n",
    "    X_test = X_test.copy()\n",
    "    return (X_train, X_test, Y_train, Y_test, X, Y)\n"
   ]
  },
  {
   "cell_type": "code",
   "execution_count": 286,
   "metadata": {},
   "outputs": [],
   "source": [
    "def create_pipeline_and_out_of_sample_score(X_train, X_test, Y_train, Y_test, n_estimators=100, \n",
    "                                            learning_rate=0.1): \n",
    "    # Rewrite everything as a pipeline\n",
    "    print(\"TESTc\", X_train.columns)\n",
    "    best_model_svc = Pipeline([('vect', TfidfVectorizer()),\n",
    "                               ('transformer', TfidfTransformer(use_idf=False)),\n",
    "                               ('classify', SGDClassifier(loss='hinge', penalty='l2', alpha=1e-3, \n",
    "                                                          random_state=0, max_iter=5, tol=None))])    \n",
    "    best_model_svc.fit(X_train['Ticket'], Y_train.values.ravel())\n",
    "    predictions = best_model_svc.predict(X_train['Ticket'])\n",
    "    X_train['Ticket_Survived'] = predictions\n",
    "    my_pipeline = make_pipeline(Imputer(), \n",
    "                                XGBClassifier(seed=1, n_estimators=n_estimators, learning_rate=learning_rate))\n",
    "    rel_cols = [col for col in X_train.columns if col not in ['Ticket']]\n",
    "    print(\"TESTc2\", rel_cols)\n",
    "    my_pipeline.fit(X_train[rel_cols], Y_train.values.ravel())\n",
    "    predictions_test = best_model_svc.predict(X_test['Ticket'])\n",
    "    X_test['Ticket_Survived'] = predictions_test\n",
    "    predictions = my_pipeline.predict(X_test[rel_cols])\n",
    "    out_of_sample_score = 1.0 - mean_absolute_error(predictions, Y_test)\n",
    "    return (my_pipeline, out_of_sample_score, predictions)"
   ]
  },
  {
   "cell_type": "code",
   "execution_count": 279,
   "metadata": {},
   "outputs": [],
   "source": [
    "def train_test(train_data, \n",
    "               train_X_columns=['Family_Size'], \n",
    "               train_Y_columns=['Survived']):\n",
    "\n",
    "    rel_cols = train_X_columns.copy()\n",
    "    if 'Ticket' not in rel_cols:\n",
    "        rel_cols.append('Ticket')\n",
    "    print(rel_cols)\n",
    "    print(train_X_columns)\n",
    "    (X_train, X_test, Y_train, Y_test, X, Y) = get_train_test_data(train_data, rel_cols, train_Y_columns)\n",
    "\n",
    "    my_pipeline, out_of_sample_score, predictions_test = \\\n",
    "        create_pipeline_and_out_of_sample_score(X_train, X_test, Y_train, Y_test)\n",
    "    print(\"Number of entries in training set is {0}\".format(len(X_train)))\n",
    "    rel_cols_predict = train_X_columns.copy()\n",
    "    rel_cols_predict.append('Ticket_Survived')\n",
    "    print(rel_cols_predict)\n",
    "    predictions_train = my_pipeline.predict(X_train[rel_cols_predict])\n",
    "    num_correct_predictions_train = int((1.0 - mean_absolute_error(predictions_train, Y_train)) * len(Y_train))\n",
    "\n",
    "\n",
    "    print(\"Number of correct predictions in training set is {0}\".format(num_correct_predictions_train))    \n",
    "    print(\"Number of entries in test set is {0}\".format(len(X_test)))    \n",
    "    print(\"Number of correct predictions in test set is {0}\".format(int(out_of_sample_score * len(X_test))))\n"
   ]
  },
  {
   "cell_type": "markdown",
   "metadata": {},
   "source": [
    "#### Performance, by making some port of input data as a test set"
   ]
  },
  {
   "cell_type": "code",
   "execution_count": null,
   "metadata": {},
   "outputs": [],
   "source": [
    "train_data['Sex_new'] = "
   ]
  },
  {
   "cell_type": "code",
   "execution_count": 297,
   "metadata": {},
   "outputs": [
    {
     "name": "stdout",
     "output_type": "stream",
     "text": [
      "['Fare', 'Ticket']\n",
      "['Fare']\n",
      "TEST ['Fare', 'Ticket']\n",
      "TESTc Index(['Fare', 'Ticket'], dtype='object')\n",
      "TESTc2 ['Fare', 'Ticket_Survived']\n",
      "Number of entries in training set is 668\n",
      "['Fare', 'Ticket_Survived']\n",
      "Number of correct predictions in training set is 636\n",
      "Number of entries in test set is 223\n",
      "Number of correct predictions in test set is 161\n"
     ]
    }
   ],
   "source": [
    "train_test(train_data, ['Fare'])"
   ]
  },
  {
   "cell_type": "code",
   "execution_count": null,
   "metadata": {},
   "outputs": [],
   "source": []
  },
  {
   "cell_type": "markdown",
   "metadata": {},
   "source": [
    "Comment : Performance looks reasonable, though not very great. Let us see how things look on out of sample data"
   ]
  },
  {
   "cell_type": "code",
   "execution_count": null,
   "metadata": {},
   "outputs": [],
   "source": [
    "test_data['Family_Size'] = test_data['SibSp'] + test_data['Parch'] + 1\n",
    "test_data['Ticket_Survived'] = -1"
   ]
  },
  {
   "cell_type": "code",
   "execution_count": 294,
   "metadata": {},
   "outputs": [
    {
     "name": "stdout",
     "output_type": "stream",
     "text": [
      "TESTc Index(['Fare', 'Ticket'], dtype='object')\n",
      "TESTc2 ['Fare', 'Ticket_Survived']\n"
     ]
    },
    {
     "data": {
      "text/plain": [
       "(Pipeline(memory=None,\n",
       "      steps=[('imputer', Imputer(axis=0, copy=True, missing_values='NaN', strategy='mean', verbose=0)), ('xgbclassifier', XGBClassifier(base_score=0.5, booster='gbtree', colsample_bylevel=1,\n",
       "        colsample_bytree=1, gamma=0, learning_rate=0.1, max_delta_step=0,\n",
       "        max_depth=3, min_child_weight=1, mi...=0,\n",
       "        reg_alpha=0, reg_lambda=1, scale_pos_weight=1, seed=1, silent=True,\n",
       "        subsample=1))]),\n",
       " 0.69377990430622,\n",
       " array([0, 0, 0, 0, 1, 0, 0, 1, 0, 0, 0, 0, 0, 0, 0, 0, 0, 0, 0, 0, 1, 0,\n",
       "        1, 0, 1, 0, 0, 0, 0, 0, 1, 0, 0, 0, 0, 0, 0, 0, 0, 1, 1, 0, 0, 0,\n",
       "        1, 0, 1, 0, 1, 1, 0, 0, 1, 0, 1, 0, 0, 0, 1, 1, 0, 0, 0, 0, 1, 0,\n",
       "        0, 0, 0, 0, 0, 0, 0, 1, 0, 0, 0, 0, 0, 0, 0, 0, 0, 0, 0, 0, 0, 0,\n",
       "        0, 1, 0, 0, 0, 0, 0, 0, 0, 0, 0, 0, 0, 1, 0, 0, 1, 0, 0, 0, 0, 0,\n",
       "        0, 0, 1, 0, 0, 0, 0, 1, 0, 0, 1, 0, 0, 0, 0, 0, 0, 1, 0, 0, 0, 0,\n",
       "        0, 0, 0, 0, 0, 0, 0, 0, 0, 0, 1, 0, 1, 0, 0, 0, 0, 0, 1, 0, 0, 0,\n",
       "        1, 1, 0, 0, 0, 0, 0, 1, 0, 0, 0, 1, 1, 0, 0, 0, 0, 0, 0, 0, 1, 0,\n",
       "        0, 0, 1, 1, 0, 1, 0, 0, 1, 0, 0, 0, 0, 0, 1, 0, 0, 0, 1, 0, 1, 0,\n",
       "        0, 0, 0, 0, 1, 1, 0, 0, 0, 0, 1, 0, 0, 0, 0, 0, 0, 0, 0, 1, 0, 0,\n",
       "        0, 0, 0, 0, 1, 1, 0, 0, 0, 0, 1, 0, 0, 0, 1, 0, 1, 0, 0, 1, 0, 1,\n",
       "        1, 0, 0, 1, 0, 1, 0, 0, 1, 0, 0, 0, 0, 0, 0, 0, 0, 0, 1, 0, 1, 0,\n",
       "        0, 0, 0, 0, 0, 0, 0, 0, 0, 0, 0, 0, 1, 1, 0, 0, 0, 0, 0, 1, 0, 0,\n",
       "        0, 0, 0, 0, 1, 0, 0, 1, 0, 0, 1, 0, 0, 0, 0, 0, 0, 0, 0, 0, 0, 1,\n",
       "        1, 0, 0, 0, 0, 0, 1, 0, 1, 0, 0, 0, 0, 0, 0, 0, 1, 0, 1, 1, 1, 0,\n",
       "        0, 1, 0, 1, 0, 0, 0, 0, 0, 0, 0, 0, 0, 1, 0, 0, 0, 0, 0, 1, 1, 0,\n",
       "        0, 1, 0, 0, 1, 0, 0, 0, 0, 0, 0, 0, 1, 0, 0, 0, 0, 0, 0, 1, 0, 0,\n",
       "        1, 1, 0, 0, 0, 1, 0, 0, 0, 0, 0, 1, 0, 0, 0, 0, 1, 1, 0, 0, 1, 0,\n",
       "        0, 1, 0, 0, 1, 0, 0, 0, 0, 0, 0, 0, 0, 0, 0, 0, 0, 0, 1, 0, 0, 1]))"
      ]
     },
     "execution_count": 294,
     "metadata": {},
     "output_type": "execute_result"
    }
   ],
   "source": [
    "X_train = train_data[['Fare', 'Ticket']].copy()\n",
    "Y_train = train_data[['Survived']].copy()\n",
    "X_test = test_data[['Fare', 'Ticket']].copy()\n",
    "Y_test = test_data[['Survived']].copy()\n",
    "\n",
    "create_pipeline_and_out_of_sample_score(X_train, X_test, Y_train, Y_test)"
   ]
  }
 ],
 "metadata": {
  "kernelspec": {
   "display_name": "Python 3",
   "language": "python",
   "name": "python3"
  },
  "language_info": {
   "codemirror_mode": {
    "name": "ipython",
    "version": 3
   },
   "file_extension": ".py",
   "mimetype": "text/x-python",
   "name": "python",
   "nbconvert_exporter": "python",
   "pygments_lexer": "ipython3",
   "version": "3.6.4"
  }
 },
 "nbformat": 4,
 "nbformat_minor": 2
}
