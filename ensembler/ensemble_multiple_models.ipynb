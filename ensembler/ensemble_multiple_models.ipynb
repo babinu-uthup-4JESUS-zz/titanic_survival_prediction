{
 "cells": [
  {
   "cell_type": "markdown",
   "metadata": {},
   "source": [
    "\n",
    "# Basic Overview\n",
    "The objective is to see if we can squeeze out some more predictive power from logistic regression, random forest and\n",
    "xgboot models via ensembling.\n",
    "\n",
    "Comments/criticisms/appreciations are greatly accepted and appreciated. Do not be shy and send me an email at babinu@gmail.com !\n",
    "\n",
    "Source of data : https://www.kaggle.com/c/titanic/data"
   ]
  },
  {
   "cell_type": "code",
   "execution_count": 4,
   "metadata": {},
   "outputs": [],
   "source": [
    "import pandas as pd\n",
    "import numpy as np\n",
    "import os\n",
    "import re"
   ]
  },
  {
   "cell_type": "code",
   "execution_count": 5,
   "metadata": {},
   "outputs": [],
   "source": [
    "import seaborn as sns\n",
    "import matplotlib.pyplot as plt"
   ]
  },
  {
   "cell_type": "markdown",
   "metadata": {},
   "source": [
    "Comments :\n",
    "\n",
    "The ensemble of the following 3 models \n",
    "\n",
    "Model #1. Ensemble of 5 models :\n",
    "\n",
    "(a) Final fine tuned xgboost with Sex,Pclass,Age,Fare\n",
    "\n",
    "(b) Oscar's idea : xgboost model with Sex,Age,Pclass,Embarked\n",
    "\n",
    "(c) Xgboost model on Parch, SibSp, Fare --> Generated so as to get a reasonable model with low correlation with other models.\n",
    "\n",
    "(d) SVC on tickets field.\n",
    "\n",
    "(e) SVC on names field.\n",
    "\n",
    "\n",
    "Model #2. Ensemble of the following 3 models :\n",
    "\n",
    "\n",
    "(a) Final fine tuned xgboost with Sex,Pclass,Age,Fare\n",
    "\n",
    "\n",
    "(b) Xgboost model on Parch, SibSp, Embarked --> Generated so as to get a reasonable model with low correlation with other models.\n",
    "\n",
    "\n",
    "(c) SVC on names field.\n",
    "\n",
    "\n",
    "\n",
    "Model #3. Ensemble of the following 3 models :\n",
    "\n",
    "(a) Final fine tuned xgboost with Sex,Pclass,Age,Fare\n",
    "\n",
    "\n",
    "(b) SVC on tickets field.\n",
    "\n",
    "\n",
    "(c) SVC on names field.\n",
    "\n",
    "\n",
    "Other models worth taking a look :\n",
    "\n",
    "\n",
    "Model #4. Ensemble of the following 3 models :\n",
    "\n",
    "(a) Oscar's idea : xgboost model with Sex,Age,Pclass,Embarked\n",
    "\n",
    "(b) SVC on tickets field.\n",
    "\n",
    "(c) SVC on names field.\n",
    "\n",
    "\n",
    "\n",
    "Model #5. Ensemble of the following 3 models :\n",
    "\n",
    "(a) Final fine tuned xgboost with Sex,Pclass,Age,Fare\n",
    "\n",
    "(b) Oscar's idea : xgboost model with Sex,Age,Pclass,Embarked\n",
    "\n",
    "(c) SVC on names field.\n"
   ]
  },
  {
   "cell_type": "code",
   "execution_count": 6,
   "metadata": {},
   "outputs": [],
   "source": [
    "def populate_model_files_data(files):\n",
    "    count = 0\n",
    "    master_df = pd.DataFrame()\n",
    "    count_to_file_name = dict()\n",
    "    for  csv_file in files:\n",
    "        count += 1\n",
    "        data_df = pd.read_csv(csv_file)\n",
    "        column_name = 'Survived_or_not_model_' + str(count)\n",
    "\n",
    "        survived_list = data_df['Survived'].values\n",
    "        master_df[column_name] = survived_list\n",
    "        master_df['PassengerId'] = data_df['PassengerId'].values\n",
    "        count_to_file_name[count] = csv_file\n",
    "        prev_survived_list = survived_list\n",
    "    return master_df"
   ]
  },
  {
   "cell_type": "code",
   "execution_count": 28,
   "metadata": {},
   "outputs": [],
   "source": [
    "def display_corr_info(master_df, generate_corr_heat_map):\n",
    "    relevant_cols = [col for col in master_df.columns if col not in ['PassengerId']]\n",
    "\n",
    "    print(\"                              CORRELATION MATRIX OF MODEL OUTPUTS\")\n",
    "    display(master_df[relevant_cols].corr())\n",
    "    if generate_corr_heat_map:\n",
    "        fig, ax = plt.subplots(1, 1, figsize=(16, 9))\n",
    "        sns.heatmap(master_df[relevant_cols].corr(), ax=ax)    "
   ]
  },
  {
   "cell_type": "code",
   "execution_count": 8,
   "metadata": {},
   "outputs": [],
   "source": [
    "def get_most_frequent_entry_3(a, b, c):\n",
    "    sum_vals = a + b + c\n",
    "    \n",
    "    if sum_vals <= 1:\n",
    "        frequent_val = 0\n",
    "    else:\n",
    "        frequent_val = 1\n",
    "    return frequent_val"
   ]
  },
  {
   "cell_type": "code",
   "execution_count": 9,
   "metadata": {},
   "outputs": [],
   "source": [
    "def get_most_frequent_entry_5(a, b, c, d, e):\n",
    "    sum_vals = a + b + c + d + e\n",
    "    \n",
    "    if sum_vals <= 2:\n",
    "        frequent_val = 0\n",
    "    else:\n",
    "        frequent_val = 1\n",
    "    return frequent_val"
   ]
  },
  {
   "cell_type": "code",
   "execution_count": 10,
   "metadata": {},
   "outputs": [],
   "source": [
    "def get_most_frequent_entry_7(a, b, c, d, e, f, g):\n",
    "    sum_vals = a + b + c + d  + e + f + g\n",
    "    \n",
    "    if sum_vals <= 3:\n",
    "        frequent_val = 0\n",
    "    else:\n",
    "        frequent_val = 1\n",
    "    return frequent_val"
   ]
  },
  {
   "cell_type": "code",
   "execution_count": 11,
   "metadata": {},
   "outputs": [],
   "source": [
    "def update_ensembled_cols(master_df):\n",
    "    \n",
    "    # Decrease by 1 to account for PassengerId column.\n",
    "    num_files = len(master_df.columns) - 1\n",
    "    if num_files == 7:\n",
    "        master_df['Survived_or_not_ensembled'] = master_df.apply(\n",
    "            lambda x : get_most_frequent_entry_7(x['Survived_or_not_model_1'], \n",
    "                                                 x['Survived_or_not_model_2'], \n",
    "                                                 x['Survived_or_not_model_3'],                                        \n",
    "                                                 x['Survived_or_not_model_4'],                                                                               \n",
    "                                                 x['Survived_or_not_model_5'],\n",
    "                                                 x['Survived_or_not_model_6'],\n",
    "                                                 x['Survived_or_not_model_7']), axis=1)\n",
    "\n",
    "    elif num_files == 5:\n",
    "\n",
    "        master_df['Survived_or_not_ensembled'] = master_df.apply(\n",
    "            lambda x : get_most_frequent_entry_5(x['Survived_or_not_model_1'], \n",
    "                                                 x['Survived_or_not_model_2'], \n",
    "                                                 x['Survived_or_not_model_3'],                                        \n",
    "                                                 x['Survived_or_not_model_4'],                                                                               \n",
    "                                                 x['Survived_or_not_model_5']), axis=1)\n",
    "    elif num_files == 3:\n",
    "        master_df['Survived_or_not_ensembled'] = master_df.apply(\n",
    "            lambda x : get_most_frequent_entry_3(x['Survived_or_not_model_1'], \n",
    "                                                 x['Survived_or_not_model_2'], \n",
    "                                                 x['Survived_or_not_model_3']), axis=1)    \n",
    "    master_df.sort_values(by=['PassengerId'], inplace=True)"
   ]
  },
  {
   "cell_type": "code",
   "execution_count": 12,
   "metadata": {},
   "outputs": [],
   "source": [
    "def evaluate_correctness_percentage(master_df):\n",
    "    # Check with out of sample of data (to be submitted to kaggle.)\n",
    "    test_data = pd.read_csv(\"../input/test_data_processed_correct.csv\")\n",
    "    test_data['Predictions'] = master_df['Survived_or_not_ensembled']\n",
    "    sucess_rate = (np.sum(test_data['Survived'] == test_data['Predictions'])/len(test_data))\n",
    "    print(\"Success rate of model on test data is {0:0.3g}\".format(sucess_rate))"
   ]
  },
  {
   "cell_type": "code",
   "execution_count": 83,
   "metadata": {},
   "outputs": [],
   "source": [
    "def display_commonalities_stats(master_df, files):\n",
    "    \n",
    "    print(\"                              COMMONALITY STATS\\n\")\n",
    "    print(\"Number of entries to be predicted         : {0}\".format(len(master_df)))\n",
    "\n",
    "    for i in range(len(files)):\n",
    "        index = i + 1\n",
    "        rel_csv_file = files[i]\n",
    "        print(\"\\nRelevant model file                       : {0}\".format(rel_csv_file))    \n",
    "        single_model_prediction_col = 'Survived_or_not_model_' + str(index)\n",
    "        num_common_entries = np.sum(master_df[single_model_prediction_col] == master_df['Survived_or_not_ensembled'])\n",
    "        print(\"Number of entries common with final model : {0}\".format(num_common_entries))    \n",
    "    "
   ]
  },
  {
   "cell_type": "code",
   "execution_count": 14,
   "metadata": {},
   "outputs": [],
   "source": [
    "def dump_predictions_to_csv(master_df, csv_file):\n",
    "    predictions_to_kaggle = master_df[['PassengerId', 'Survived_or_not_ensembled']].copy()\n",
    "    predictions_to_kaggle.rename(columns={'Survived_or_not_ensembled' : 'Survived'}, inplace=True)\n",
    "    predictions_to_kaggle.to_csv(csv_file, index=False)    "
   ]
  },
  {
   "cell_type": "code",
   "execution_count": 18,
   "metadata": {},
   "outputs": [],
   "source": [
    "def generate_ensembled_predictions_and_verify_results(files, generate_corr_heat_map=False, \n",
    "                                                      generate_csv=False, csv_file='temp.csv'):\n",
    "    master_df = populate_model_files_data(files)\n",
    "    \n",
    "    # Display correlation info amongst predictors as a matrix as well as  heatmap\n",
    "    display_corr_info(master_df, generate_corr_heat_map)\n",
    "    \n",
    "    # The core routine for selecting the majority vote as the ensembled prediction.\n",
    "    update_ensembled_cols(master_df)\n",
    "    \n",
    "    # How correct are the predictions obtained by ensembling ?\n",
    "    #evaluate_correctness_percentage(master_df)\n",
    "    \n",
    "    # How common are the ensembled predictions \n",
    "    display_commonalities_stats(master_df, files)\n",
    "    \n",
    "    if generate_csv:\n",
    "        dump_predictions_to_csv(master_df, csv_file)\n"
   ]
  },
  {
   "cell_type": "markdown",
   "metadata": {},
   "source": [
    "### Generate model 1\n",
    "\n",
    "Ensemble of several models. The source file for each of the csv files is listed as a comment above the same so as to provide maximum clarity"
   ]
  },
  {
   "cell_type": "code",
   "execution_count": 61,
   "metadata": {},
   "outputs": [],
   "source": [
    "files = [\n",
    "        # Obtained by running ../learn_from_aashita/xgboost_my_attempt_detailed_fine_tuning.ipynb\n",
    "        '../learn_from_aashita/kaggle_out_xgboost_sex_pclass_age_fare.csv',    \n",
    "        # Obtained by running ../learn_from_oscar/xgboost_oscar_idea1_sex_pclass_embarked.ipynb\n",
    "        '../learn_from_oscar/kaggle_out_xgboost_sex_pclass_embarked.csv',  \n",
    "        # Obtained by running ../learn_from_aashita/xgboost_my_attempt_detailed_fine_tuning.ipynb\n",
    "        '../learn_from_aashita/kaggle_out_xgboost_parch_sibsp_fare.csv',    \n",
    "        # Obtained by running ../learn_from_oscar/xgboost_oscar_idea2_name_analysis     \n",
    "        '../learn_from_oscar/kaggle_out_tickets_svc.csv',  \n",
    "        # Obtained by running ../learn_from_oscar/xgboost_oscar_idea2_name_analysis     \n",
    "        '../learn_from_oscar/kaggle_out_names_svc.csv']\n"
   ]
  },
  {
   "cell_type": "code",
   "execution_count": 84,
   "metadata": {},
   "outputs": [
    {
     "name": "stdout",
     "output_type": "stream",
     "text": [
      "                              CORRELATION MATRIX OF MODEL OUTPUTS\n"
     ]
    },
    {
     "data": {
      "text/html": [
       "<div>\n",
       "<style scoped>\n",
       "    .dataframe tbody tr th:only-of-type {\n",
       "        vertical-align: middle;\n",
       "    }\n",
       "\n",
       "    .dataframe tbody tr th {\n",
       "        vertical-align: top;\n",
       "    }\n",
       "\n",
       "    .dataframe thead th {\n",
       "        text-align: right;\n",
       "    }\n",
       "</style>\n",
       "<table border=\"1\" class=\"dataframe\">\n",
       "  <thead>\n",
       "    <tr style=\"text-align: right;\">\n",
       "      <th></th>\n",
       "      <th>Survived_or_not_model_1</th>\n",
       "      <th>Survived_or_not_model_2</th>\n",
       "      <th>Survived_or_not_model_3</th>\n",
       "      <th>Survived_or_not_model_4</th>\n",
       "      <th>Survived_or_not_model_5</th>\n",
       "    </tr>\n",
       "  </thead>\n",
       "  <tbody>\n",
       "    <tr>\n",
       "      <th>Survived_or_not_model_1</th>\n",
       "      <td>1.000000</td>\n",
       "      <td>0.822808</td>\n",
       "      <td>0.326308</td>\n",
       "      <td>0.183321</td>\n",
       "      <td>0.875787</td>\n",
       "    </tr>\n",
       "    <tr>\n",
       "      <th>Survived_or_not_model_2</th>\n",
       "      <td>0.822808</td>\n",
       "      <td>1.000000</td>\n",
       "      <td>0.338980</td>\n",
       "      <td>0.245163</td>\n",
       "      <td>0.750166</td>\n",
       "    </tr>\n",
       "    <tr>\n",
       "      <th>Survived_or_not_model_3</th>\n",
       "      <td>0.326308</td>\n",
       "      <td>0.338980</td>\n",
       "      <td>1.000000</td>\n",
       "      <td>0.462658</td>\n",
       "      <td>0.321721</td>\n",
       "    </tr>\n",
       "    <tr>\n",
       "      <th>Survived_or_not_model_4</th>\n",
       "      <td>0.183321</td>\n",
       "      <td>0.245163</td>\n",
       "      <td>0.462658</td>\n",
       "      <td>1.000000</td>\n",
       "      <td>0.255624</td>\n",
       "    </tr>\n",
       "    <tr>\n",
       "      <th>Survived_or_not_model_5</th>\n",
       "      <td>0.875787</td>\n",
       "      <td>0.750166</td>\n",
       "      <td>0.321721</td>\n",
       "      <td>0.255624</td>\n",
       "      <td>1.000000</td>\n",
       "    </tr>\n",
       "  </tbody>\n",
       "</table>\n",
       "</div>"
      ],
      "text/plain": [
       "                         Survived_or_not_model_1  Survived_or_not_model_2  \\\n",
       "Survived_or_not_model_1                 1.000000                 0.822808   \n",
       "Survived_or_not_model_2                 0.822808                 1.000000   \n",
       "Survived_or_not_model_3                 0.326308                 0.338980   \n",
       "Survived_or_not_model_4                 0.183321                 0.245163   \n",
       "Survived_or_not_model_5                 0.875787                 0.750166   \n",
       "\n",
       "                         Survived_or_not_model_3  Survived_or_not_model_4  \\\n",
       "Survived_or_not_model_1                 0.326308                 0.183321   \n",
       "Survived_or_not_model_2                 0.338980                 0.245163   \n",
       "Survived_or_not_model_3                 1.000000                 0.462658   \n",
       "Survived_or_not_model_4                 0.462658                 1.000000   \n",
       "Survived_or_not_model_5                 0.321721                 0.255624   \n",
       "\n",
       "                         Survived_or_not_model_5  \n",
       "Survived_or_not_model_1                 0.875787  \n",
       "Survived_or_not_model_2                 0.750166  \n",
       "Survived_or_not_model_3                 0.321721  \n",
       "Survived_or_not_model_4                 0.255624  \n",
       "Survived_or_not_model_5                 1.000000  "
      ]
     },
     "metadata": {},
     "output_type": "display_data"
    },
    {
     "name": "stdout",
     "output_type": "stream",
     "text": [
      "                              COMMONALITY STATS\n",
      "\n",
      "Number of entries to be predicted         : 418\n",
      "\n",
      "Relevant model file                       : ../learn_from_aashita/kaggle_out_xgboost_sex_pclass_age_fare.csv\n",
      "Number of entries common with final model : 387\n",
      "\n",
      "Relevant model file                       : ../learn_from_oscar/kaggle_out_xgboost_sex_pclass_embarked.csv\n",
      "Number of entries common with final model : 402\n",
      "\n",
      "Relevant model file                       : ../learn_from_aashita/kaggle_out_xgboost_parch_sibsp_fare.csv\n",
      "Number of entries common with final model : 319\n",
      "\n",
      "Relevant model file                       : ../learn_from_oscar/kaggle_out_tickets_svc.csv\n",
      "Number of entries common with final model : 304\n",
      "\n",
      "Relevant model file                       : ../learn_from_oscar/kaggle_out_names_svc.csv\n",
      "Number of entries common with final model : 385\n"
     ]
    }
   ],
   "source": [
    "generate_ensembled_predictions_and_verify_results(files, \n",
    "                                                  generate_corr_heat_map=False, \n",
    "                                                  generate_csv=True, \n",
    "                                                  csv_file='kaggle_out_ensemble_model_1.csv')"
   ]
  },
  {
   "cell_type": "markdown",
   "metadata": {},
   "source": [
    "### Generate model 2"
   ]
  },
  {
   "cell_type": "code",
   "execution_count": 85,
   "metadata": {},
   "outputs": [],
   "source": [
    "files = [\n",
    "        # Obtained by running ../learn_from_aashita/xgboost_my_attempt_detailed_fine_tuning.ipynb\n",
    "        '../learn_from_aashita/kaggle_out_xgboost_sex_pclass_age_fare.csv',    \n",
    "        # Obtained by running ../learn_from_oscar/xgboost_oscar_idea1_name_analysis     \n",
    "        '../learn_from_oscar/kaggle_out_xgboost_parch_sibsp_embarked.csv',  \n",
    "        # Obtained by running ../learn_from_oscar/xgboost_oscar_idea2_name_analysis     \n",
    "        '../learn_from_oscar/kaggle_out_names_svc.csv']\n"
   ]
  },
  {
   "cell_type": "code",
   "execution_count": 86,
   "metadata": {},
   "outputs": [
    {
     "name": "stdout",
     "output_type": "stream",
     "text": [
      "                              CORRELATION MATRIX OF MODEL OUTPUTS\n"
     ]
    },
    {
     "data": {
      "text/html": [
       "<div>\n",
       "<style scoped>\n",
       "    .dataframe tbody tr th:only-of-type {\n",
       "        vertical-align: middle;\n",
       "    }\n",
       "\n",
       "    .dataframe tbody tr th {\n",
       "        vertical-align: top;\n",
       "    }\n",
       "\n",
       "    .dataframe thead th {\n",
       "        text-align: right;\n",
       "    }\n",
       "</style>\n",
       "<table border=\"1\" class=\"dataframe\">\n",
       "  <thead>\n",
       "    <tr style=\"text-align: right;\">\n",
       "      <th></th>\n",
       "      <th>Survived_or_not_model_1</th>\n",
       "      <th>Survived_or_not_model_2</th>\n",
       "      <th>Survived_or_not_model_3</th>\n",
       "    </tr>\n",
       "  </thead>\n",
       "  <tbody>\n",
       "    <tr>\n",
       "      <th>Survived_or_not_model_1</th>\n",
       "      <td>1.000000</td>\n",
       "      <td>0.248443</td>\n",
       "      <td>0.875787</td>\n",
       "    </tr>\n",
       "    <tr>\n",
       "      <th>Survived_or_not_model_2</th>\n",
       "      <td>0.248443</td>\n",
       "      <td>1.000000</td>\n",
       "      <td>0.292766</td>\n",
       "    </tr>\n",
       "    <tr>\n",
       "      <th>Survived_or_not_model_3</th>\n",
       "      <td>0.875787</td>\n",
       "      <td>0.292766</td>\n",
       "      <td>1.000000</td>\n",
       "    </tr>\n",
       "  </tbody>\n",
       "</table>\n",
       "</div>"
      ],
      "text/plain": [
       "                         Survived_or_not_model_1  Survived_or_not_model_2  \\\n",
       "Survived_or_not_model_1                 1.000000                 0.248443   \n",
       "Survived_or_not_model_2                 0.248443                 1.000000   \n",
       "Survived_or_not_model_3                 0.875787                 0.292766   \n",
       "\n",
       "                         Survived_or_not_model_3  \n",
       "Survived_or_not_model_1                 0.875787  \n",
       "Survived_or_not_model_2                 0.292766  \n",
       "Survived_or_not_model_3                 1.000000  "
      ]
     },
     "metadata": {},
     "output_type": "display_data"
    },
    {
     "name": "stdout",
     "output_type": "stream",
     "text": [
      "                              COMMONALITY STATS\n",
      "\n",
      "Number of entries to be predicted         : 418\n",
      "\n",
      "Relevant model file                       : ../learn_from_aashita/kaggle_out_xgboost_sex_pclass_age_fare.csv\n",
      "Number of entries common with final model : 403\n",
      "\n",
      "Relevant model file                       : ../learn_from_oscar/kaggle_out_xgboost_parch_sibsp_embarked.csv\n",
      "Number of entries common with final model : 297\n",
      "\n",
      "Relevant model file                       : ../learn_from_oscar/kaggle_out_names_svc.csv\n",
      "Number of entries common with final model : 409\n"
     ]
    }
   ],
   "source": [
    "generate_ensembled_predictions_and_verify_results(files, \n",
    "                                                  generate_corr_heat_map=False, \n",
    "                                                  generate_csv=True, \n",
    "                                                  csv_file='kaggle_out_ensemble_model_2.csv')"
   ]
  },
  {
   "cell_type": "markdown",
   "metadata": {},
   "source": [
    "### Generate model 3"
   ]
  },
  {
   "cell_type": "code",
   "execution_count": 87,
   "metadata": {},
   "outputs": [],
   "source": [
    "files = [\n",
    "        # Obtained by running ../learn_from_aashita/xgboost_my_attempt_detailed_fine_tuning.ipynb\n",
    "        '../learn_from_aashita/kaggle_out_xgboost_sex_pclass_age_fare.csv',    \n",
    "        # Obtained by running ../learn_from_oscar/xgboost_oscar_idea2_name_analysis     \n",
    "        '../learn_from_oscar/kaggle_out_tickets_svc.csv',  \n",
    "        # Obtained by running ../learn_from_oscar/xgboost_oscar_idea2_name_analysis     \n",
    "        '../learn_from_oscar/kaggle_out_names_svc.csv']\n"
   ]
  },
  {
   "cell_type": "code",
   "execution_count": 88,
   "metadata": {},
   "outputs": [
    {
     "name": "stdout",
     "output_type": "stream",
     "text": [
      "                              CORRELATION MATRIX OF MODEL OUTPUTS\n"
     ]
    },
    {
     "data": {
      "text/html": [
       "<div>\n",
       "<style scoped>\n",
       "    .dataframe tbody tr th:only-of-type {\n",
       "        vertical-align: middle;\n",
       "    }\n",
       "\n",
       "    .dataframe tbody tr th {\n",
       "        vertical-align: top;\n",
       "    }\n",
       "\n",
       "    .dataframe thead th {\n",
       "        text-align: right;\n",
       "    }\n",
       "</style>\n",
       "<table border=\"1\" class=\"dataframe\">\n",
       "  <thead>\n",
       "    <tr style=\"text-align: right;\">\n",
       "      <th></th>\n",
       "      <th>Survived_or_not_model_1</th>\n",
       "      <th>Survived_or_not_model_2</th>\n",
       "      <th>Survived_or_not_model_3</th>\n",
       "    </tr>\n",
       "  </thead>\n",
       "  <tbody>\n",
       "    <tr>\n",
       "      <th>Survived_or_not_model_1</th>\n",
       "      <td>1.000000</td>\n",
       "      <td>0.183321</td>\n",
       "      <td>0.875787</td>\n",
       "    </tr>\n",
       "    <tr>\n",
       "      <th>Survived_or_not_model_2</th>\n",
       "      <td>0.183321</td>\n",
       "      <td>1.000000</td>\n",
       "      <td>0.255624</td>\n",
       "    </tr>\n",
       "    <tr>\n",
       "      <th>Survived_or_not_model_3</th>\n",
       "      <td>0.875787</td>\n",
       "      <td>0.255624</td>\n",
       "      <td>1.000000</td>\n",
       "    </tr>\n",
       "  </tbody>\n",
       "</table>\n",
       "</div>"
      ],
      "text/plain": [
       "                         Survived_or_not_model_1  Survived_or_not_model_2  \\\n",
       "Survived_or_not_model_1                 1.000000                 0.183321   \n",
       "Survived_or_not_model_2                 0.183321                 1.000000   \n",
       "Survived_or_not_model_3                 0.875787                 0.255624   \n",
       "\n",
       "                         Survived_or_not_model_3  \n",
       "Survived_or_not_model_1                 0.875787  \n",
       "Survived_or_not_model_2                 0.255624  \n",
       "Survived_or_not_model_3                 1.000000  "
      ]
     },
     "metadata": {},
     "output_type": "display_data"
    },
    {
     "name": "stdout",
     "output_type": "stream",
     "text": [
      "                              COMMONALITY STATS\n",
      "\n",
      "Number of entries to be predicted         : 418\n",
      "\n",
      "Relevant model file                       : ../learn_from_aashita/kaggle_out_xgboost_sex_pclass_age_fare.csv\n",
      "Number of entries common with final model : 401\n",
      "\n",
      "Relevant model file                       : ../learn_from_oscar/kaggle_out_tickets_svc.csv\n",
      "Number of entries common with final model : 290\n",
      "\n",
      "Relevant model file                       : ../learn_from_oscar/kaggle_out_names_svc.csv\n",
      "Number of entries common with final model : 411\n"
     ]
    }
   ],
   "source": [
    "generate_ensembled_predictions_and_verify_results(files, \n",
    "                                                  generate_corr_heat_map=False, \n",
    "                                                  generate_csv=True, \n",
    "                                                  csv_file='kaggle_out_ensemble_model_3.csv')"
   ]
  },
  {
   "cell_type": "markdown",
   "metadata": {},
   "source": [
    "### Generate model that is ensemble of ensembles."
   ]
  },
  {
   "cell_type": "code",
   "execution_count": 89,
   "metadata": {},
   "outputs": [],
   "source": [
    "files = ['kaggle_out_ensemble_model_1.csv',\n",
    "         'kaggle_out_ensemble_model_2.csv',\n",
    "         'kaggle_out_ensemble_model_3.csv']\n"
   ]
  },
  {
   "cell_type": "code",
   "execution_count": 90,
   "metadata": {},
   "outputs": [
    {
     "name": "stdout",
     "output_type": "stream",
     "text": [
      "                              CORRELATION MATRIX OF MODEL OUTPUTS\n"
     ]
    },
    {
     "data": {
      "text/html": [
       "<div>\n",
       "<style scoped>\n",
       "    .dataframe tbody tr th:only-of-type {\n",
       "        vertical-align: middle;\n",
       "    }\n",
       "\n",
       "    .dataframe tbody tr th {\n",
       "        vertical-align: top;\n",
       "    }\n",
       "\n",
       "    .dataframe thead th {\n",
       "        text-align: right;\n",
       "    }\n",
       "</style>\n",
       "<table border=\"1\" class=\"dataframe\">\n",
       "  <thead>\n",
       "    <tr style=\"text-align: right;\">\n",
       "      <th></th>\n",
       "      <th>Survived_or_not_model_1</th>\n",
       "      <th>Survived_or_not_model_2</th>\n",
       "      <th>Survived_or_not_model_3</th>\n",
       "    </tr>\n",
       "  </thead>\n",
       "  <tbody>\n",
       "    <tr>\n",
       "      <th>Survived_or_not_model_1</th>\n",
       "      <td>1.000000</td>\n",
       "      <td>0.847311</td>\n",
       "      <td>0.865445</td>\n",
       "    </tr>\n",
       "    <tr>\n",
       "      <th>Survived_or_not_model_2</th>\n",
       "      <td>0.847311</td>\n",
       "      <td>1.000000</td>\n",
       "      <td>0.937821</td>\n",
       "    </tr>\n",
       "    <tr>\n",
       "      <th>Survived_or_not_model_3</th>\n",
       "      <td>0.865445</td>\n",
       "      <td>0.937821</td>\n",
       "      <td>1.000000</td>\n",
       "    </tr>\n",
       "  </tbody>\n",
       "</table>\n",
       "</div>"
      ],
      "text/plain": [
       "                         Survived_or_not_model_1  Survived_or_not_model_2  \\\n",
       "Survived_or_not_model_1                 1.000000                 0.847311   \n",
       "Survived_or_not_model_2                 0.847311                 1.000000   \n",
       "Survived_or_not_model_3                 0.865445                 0.937821   \n",
       "\n",
       "                         Survived_or_not_model_3  \n",
       "Survived_or_not_model_1                 0.865445  \n",
       "Survived_or_not_model_2                 0.937821  \n",
       "Survived_or_not_model_3                 1.000000  "
      ]
     },
     "metadata": {},
     "output_type": "display_data"
    },
    {
     "name": "stdout",
     "output_type": "stream",
     "text": [
      "                              COMMONALITY STATS\n",
      "\n",
      "Number of entries to be predicted         : 418\n",
      "\n",
      "Relevant model file                       : kaggle_out_ensemble_model_1.csv\n",
      "Number of entries common with final model : 396\n",
      "\n",
      "Relevant model file                       : kaggle_out_ensemble_model_2.csv\n",
      "Number of entries common with final model : 410\n",
      "\n",
      "Relevant model file                       : kaggle_out_ensemble_model_3.csv\n",
      "Number of entries common with final model : 414\n"
     ]
    }
   ],
   "source": [
    "generate_ensembled_predictions_and_verify_results(files, \n",
    "                                                  generate_corr_heat_map=False, \n",
    "                                                  generate_csv=True, \n",
    "                                                  csv_file='kaggle_ensemble_of_ensembles.csv')"
   ]
  },
  {
   "cell_type": "markdown",
   "metadata": {},
   "source": [
    "Comment : The purpose of doing this was just to record the earlier way in which I had scored 82.29%. \n",
    "\n",
    "Honestly, it looks like this was obtained more by luck , rather than by anything else. I had just thrown in a lot of stuff, until something worked.\n",
    "\n",
    "Let us try more 'scientific' approaches below :\n"
   ]
  },
  {
   "cell_type": "markdown",
   "metadata": {},
   "source": [
    "Let us see if we can have an ensemble of 7 models (including our earlier logistic regression and randomForest models)"
   ]
  },
  {
   "cell_type": "markdown",
   "metadata": {},
   "source": [
    "### Generate ensembler with randomForest and Logistic regression models."
   ]
  },
  {
   "cell_type": "code",
   "execution_count": 91,
   "metadata": {},
   "outputs": [],
   "source": [
    "files = [\n",
    "        # Obtained by running ../learn_from_aashita/xgboost_my_attempt_detailed_fine_tuning.ipynb\n",
    "        '../learn_from_aashita/kaggle_out_xgboost_sex_pclass_age_fare.csv',    \n",
    "        # Obtained by running ../learn_from_oscar/xgboost_oscar_idea1_sex_pclass_embarked.ipynb\n",
    "        '../learn_from_oscar/kaggle_out_xgboost_sex_pclass_embarked.csv',  \n",
    "        # Obtained by running ../learn_from_aashita/xgboost_my_attempt_detailed_fine_tuning.ipynb\n",
    "        '../learn_from_aashita/kaggle_out_xgboost_parch_sibsp_fare.csv',    \n",
    "        # Obtained by running ../learn_from_oscar/xgboost_oscar_idea2_name_analysis     \n",
    "        '../learn_from_oscar/kaggle_out_tickets_svc.csv',  \n",
    "        # Obtained by running ../learn_from_oscar/xgboost_oscar_idea2_name_analysis     \n",
    "        '../learn_from_oscar/kaggle_out_names_svc.csv',\n",
    "        # Obtained by running ../first_attempts/random_forest_models.ipynb     \n",
    "        '../first_attempts/kaggle_out_random_forest.csv',\n",
    "        # Obtained by running ../first_attempts/logistic_regression_models.ipynb\n",
    "        '../first_attempts/kaggle_out_logistic_regression.csv']\n"
   ]
  },
  {
   "cell_type": "code",
   "execution_count": 92,
   "metadata": {},
   "outputs": [
    {
     "name": "stdout",
     "output_type": "stream",
     "text": [
      "                              CORRELATION MATRIX OF MODEL OUTPUTS\n"
     ]
    },
    {
     "data": {
      "text/html": [
       "<div>\n",
       "<style scoped>\n",
       "    .dataframe tbody tr th:only-of-type {\n",
       "        vertical-align: middle;\n",
       "    }\n",
       "\n",
       "    .dataframe tbody tr th {\n",
       "        vertical-align: top;\n",
       "    }\n",
       "\n",
       "    .dataframe thead th {\n",
       "        text-align: right;\n",
       "    }\n",
       "</style>\n",
       "<table border=\"1\" class=\"dataframe\">\n",
       "  <thead>\n",
       "    <tr style=\"text-align: right;\">\n",
       "      <th></th>\n",
       "      <th>Survived_or_not_model_1</th>\n",
       "      <th>Survived_or_not_model_2</th>\n",
       "      <th>Survived_or_not_model_3</th>\n",
       "      <th>Survived_or_not_model_4</th>\n",
       "      <th>Survived_or_not_model_5</th>\n",
       "      <th>Survived_or_not_model_6</th>\n",
       "      <th>Survived_or_not_model_7</th>\n",
       "    </tr>\n",
       "  </thead>\n",
       "  <tbody>\n",
       "    <tr>\n",
       "      <th>Survived_or_not_model_1</th>\n",
       "      <td>1.000000</td>\n",
       "      <td>0.822808</td>\n",
       "      <td>0.326308</td>\n",
       "      <td>0.183321</td>\n",
       "      <td>0.875787</td>\n",
       "      <td>0.730146</td>\n",
       "      <td>0.927266</td>\n",
       "    </tr>\n",
       "    <tr>\n",
       "      <th>Survived_or_not_model_2</th>\n",
       "      <td>0.822808</td>\n",
       "      <td>1.000000</td>\n",
       "      <td>0.338980</td>\n",
       "      <td>0.245163</td>\n",
       "      <td>0.750166</td>\n",
       "      <td>0.728044</td>\n",
       "      <td>0.780749</td>\n",
       "    </tr>\n",
       "    <tr>\n",
       "      <th>Survived_or_not_model_3</th>\n",
       "      <td>0.326308</td>\n",
       "      <td>0.338980</td>\n",
       "      <td>1.000000</td>\n",
       "      <td>0.462658</td>\n",
       "      <td>0.321721</td>\n",
       "      <td>0.339859</td>\n",
       "      <td>0.307886</td>\n",
       "    </tr>\n",
       "    <tr>\n",
       "      <th>Survived_or_not_model_4</th>\n",
       "      <td>0.183321</td>\n",
       "      <td>0.245163</td>\n",
       "      <td>0.462658</td>\n",
       "      <td>1.000000</td>\n",
       "      <td>0.255624</td>\n",
       "      <td>0.222948</td>\n",
       "      <td>0.165471</td>\n",
       "    </tr>\n",
       "    <tr>\n",
       "      <th>Survived_or_not_model_5</th>\n",
       "      <td>0.875787</td>\n",
       "      <td>0.750166</td>\n",
       "      <td>0.321721</td>\n",
       "      <td>0.255624</td>\n",
       "      <td>1.000000</td>\n",
       "      <td>0.680408</td>\n",
       "      <td>0.834635</td>\n",
       "    </tr>\n",
       "    <tr>\n",
       "      <th>Survived_or_not_model_6</th>\n",
       "      <td>0.730146</td>\n",
       "      <td>0.728044</td>\n",
       "      <td>0.339859</td>\n",
       "      <td>0.222948</td>\n",
       "      <td>0.680408</td>\n",
       "      <td>1.000000</td>\n",
       "      <td>0.710525</td>\n",
       "    </tr>\n",
       "    <tr>\n",
       "      <th>Survived_or_not_model_7</th>\n",
       "      <td>0.927266</td>\n",
       "      <td>0.780749</td>\n",
       "      <td>0.307886</td>\n",
       "      <td>0.165471</td>\n",
       "      <td>0.834635</td>\n",
       "      <td>0.710525</td>\n",
       "      <td>1.000000</td>\n",
       "    </tr>\n",
       "  </tbody>\n",
       "</table>\n",
       "</div>"
      ],
      "text/plain": [
       "                         Survived_or_not_model_1  Survived_or_not_model_2  \\\n",
       "Survived_or_not_model_1                 1.000000                 0.822808   \n",
       "Survived_or_not_model_2                 0.822808                 1.000000   \n",
       "Survived_or_not_model_3                 0.326308                 0.338980   \n",
       "Survived_or_not_model_4                 0.183321                 0.245163   \n",
       "Survived_or_not_model_5                 0.875787                 0.750166   \n",
       "Survived_or_not_model_6                 0.730146                 0.728044   \n",
       "Survived_or_not_model_7                 0.927266                 0.780749   \n",
       "\n",
       "                         Survived_or_not_model_3  Survived_or_not_model_4  \\\n",
       "Survived_or_not_model_1                 0.326308                 0.183321   \n",
       "Survived_or_not_model_2                 0.338980                 0.245163   \n",
       "Survived_or_not_model_3                 1.000000                 0.462658   \n",
       "Survived_or_not_model_4                 0.462658                 1.000000   \n",
       "Survived_or_not_model_5                 0.321721                 0.255624   \n",
       "Survived_or_not_model_6                 0.339859                 0.222948   \n",
       "Survived_or_not_model_7                 0.307886                 0.165471   \n",
       "\n",
       "                         Survived_or_not_model_5  Survived_or_not_model_6  \\\n",
       "Survived_or_not_model_1                 0.875787                 0.730146   \n",
       "Survived_or_not_model_2                 0.750166                 0.728044   \n",
       "Survived_or_not_model_3                 0.321721                 0.339859   \n",
       "Survived_or_not_model_4                 0.255624                 0.222948   \n",
       "Survived_or_not_model_5                 1.000000                 0.680408   \n",
       "Survived_or_not_model_6                 0.680408                 1.000000   \n",
       "Survived_or_not_model_7                 0.834635                 0.710525   \n",
       "\n",
       "                         Survived_or_not_model_7  \n",
       "Survived_or_not_model_1                 0.927266  \n",
       "Survived_or_not_model_2                 0.780749  \n",
       "Survived_or_not_model_3                 0.307886  \n",
       "Survived_or_not_model_4                 0.165471  \n",
       "Survived_or_not_model_5                 0.834635  \n",
       "Survived_or_not_model_6                 0.710525  \n",
       "Survived_or_not_model_7                 1.000000  "
      ]
     },
     "metadata": {},
     "output_type": "display_data"
    },
    {
     "name": "stdout",
     "output_type": "stream",
     "text": [
      "                              COMMONALITY STATS\n",
      "\n",
      "Number of entries to be predicted         : 418\n",
      "\n",
      "Relevant model file                       : ../learn_from_aashita/kaggle_out_xgboost_sex_pclass_age_fare.csv\n",
      "Number of entries common with final model : 400\n",
      "\n",
      "Relevant model file                       : ../learn_from_oscar/kaggle_out_xgboost_sex_pclass_embarked.csv\n",
      "Number of entries common with final model : 397\n",
      "\n",
      "Relevant model file                       : ../learn_from_aashita/kaggle_out_xgboost_parch_sibsp_fare.csv\n",
      "Number of entries common with final model : 306\n",
      "\n",
      "Relevant model file                       : ../learn_from_oscar/kaggle_out_tickets_svc.csv\n",
      "Number of entries common with final model : 291\n",
      "\n",
      "Relevant model file                       : ../learn_from_oscar/kaggle_out_names_svc.csv\n",
      "Number of entries common with final model : 390\n",
      "\n",
      "Relevant model file                       : ../first_attempts/kaggle_out_random_forest.csv\n",
      "Number of entries common with final model : 381\n",
      "\n",
      "Relevant model file                       : ../first_attempts/kaggle_out_logistic_regression.csv\n",
      "Number of entries common with final model : 392\n"
     ]
    }
   ],
   "source": [
    "generate_ensembled_predictions_and_verify_results(files, \n",
    "                                                  generate_corr_heat_map=False, \n",
    "                                                  generate_csv=False, \n",
    "                                                  csv_file='kaggle_ensemble_of_ensembles.csv')"
   ]
  },
  {
   "cell_type": "markdown",
   "metadata": {},
   "source": [
    "Comment : The problem here is that we have 7 models, only 3 of them are known to be really good with out of sample data. Since the majority is not known to be good, we do not expect an imporvement here !"
   ]
  },
  {
   "cell_type": "markdown",
   "metadata": {},
   "source": [
    "### Yet another ensembler on xgboost models using Cabin column"
   ]
  },
  {
   "cell_type": "code",
   "execution_count": 93,
   "metadata": {},
   "outputs": [],
   "source": [
    "files = [\n",
    "        # Obtained by running ../learn_from_aashita/xgboost_my_attempt_detailed_fine_tuning.ipynb\n",
    "        '../learn_from_aashita/kaggle_out_xgboost_sex_pclass_age_fare.csv',    \n",
    "        # Obtained by running ../learn_from_oscar/xgboost_oscar_idea1_sex_pclass_embarked.ipynb\n",
    "        '../learn_from_oscar/kaggle_out_xgboost_cabin_null.csv',  \n",
    "        # Obtained by running ../learn_from_oscar/xgboost_oscar_idea1_sex_pclass_embarked.ipynb\n",
    "        '../learn_from_oscar/kaggle_out_xgboost_parch_sibsp_embarked.csv',    \n",
    "        # Obtained by running ../learn_from_oscar/xgboost_oscar_idea2_name_analysis     \n",
    "        '../learn_from_oscar/kaggle_out_tickets_svc.csv',  \n",
    "        # Obtained by running ../learn_from_oscar/xgboost_oscar_idea2_name_analysis     \n",
    "        '../learn_from_oscar/kaggle_out_names_svc.csv']\n",
    " "
   ]
  },
  {
   "cell_type": "code",
   "execution_count": 94,
   "metadata": {},
   "outputs": [
    {
     "name": "stdout",
     "output_type": "stream",
     "text": [
      "                              CORRELATION MATRIX OF MODEL OUTPUTS\n"
     ]
    },
    {
     "data": {
      "text/html": [
       "<div>\n",
       "<style scoped>\n",
       "    .dataframe tbody tr th:only-of-type {\n",
       "        vertical-align: middle;\n",
       "    }\n",
       "\n",
       "    .dataframe tbody tr th {\n",
       "        vertical-align: top;\n",
       "    }\n",
       "\n",
       "    .dataframe thead th {\n",
       "        text-align: right;\n",
       "    }\n",
       "</style>\n",
       "<table border=\"1\" class=\"dataframe\">\n",
       "  <thead>\n",
       "    <tr style=\"text-align: right;\">\n",
       "      <th></th>\n",
       "      <th>Survived_or_not_model_1</th>\n",
       "      <th>Survived_or_not_model_2</th>\n",
       "      <th>Survived_or_not_model_3</th>\n",
       "      <th>Survived_or_not_model_4</th>\n",
       "      <th>Survived_or_not_model_5</th>\n",
       "    </tr>\n",
       "  </thead>\n",
       "  <tbody>\n",
       "    <tr>\n",
       "      <th>Survived_or_not_model_1</th>\n",
       "      <td>1.000000</td>\n",
       "      <td>0.152047</td>\n",
       "      <td>0.248443</td>\n",
       "      <td>0.183321</td>\n",
       "      <td>0.875787</td>\n",
       "    </tr>\n",
       "    <tr>\n",
       "      <th>Survived_or_not_model_2</th>\n",
       "      <td>0.152047</td>\n",
       "      <td>1.000000</td>\n",
       "      <td>0.215749</td>\n",
       "      <td>0.293430</td>\n",
       "      <td>0.140695</td>\n",
       "    </tr>\n",
       "    <tr>\n",
       "      <th>Survived_or_not_model_3</th>\n",
       "      <td>0.248443</td>\n",
       "      <td>0.215749</td>\n",
       "      <td>1.000000</td>\n",
       "      <td>0.371325</td>\n",
       "      <td>0.292766</td>\n",
       "    </tr>\n",
       "    <tr>\n",
       "      <th>Survived_or_not_model_4</th>\n",
       "      <td>0.183321</td>\n",
       "      <td>0.293430</td>\n",
       "      <td>0.371325</td>\n",
       "      <td>1.000000</td>\n",
       "      <td>0.255624</td>\n",
       "    </tr>\n",
       "    <tr>\n",
       "      <th>Survived_or_not_model_5</th>\n",
       "      <td>0.875787</td>\n",
       "      <td>0.140695</td>\n",
       "      <td>0.292766</td>\n",
       "      <td>0.255624</td>\n",
       "      <td>1.000000</td>\n",
       "    </tr>\n",
       "  </tbody>\n",
       "</table>\n",
       "</div>"
      ],
      "text/plain": [
       "                         Survived_or_not_model_1  Survived_or_not_model_2  \\\n",
       "Survived_or_not_model_1                 1.000000                 0.152047   \n",
       "Survived_or_not_model_2                 0.152047                 1.000000   \n",
       "Survived_or_not_model_3                 0.248443                 0.215749   \n",
       "Survived_or_not_model_4                 0.183321                 0.293430   \n",
       "Survived_or_not_model_5                 0.875787                 0.140695   \n",
       "\n",
       "                         Survived_or_not_model_3  Survived_or_not_model_4  \\\n",
       "Survived_or_not_model_1                 0.248443                 0.183321   \n",
       "Survived_or_not_model_2                 0.215749                 0.293430   \n",
       "Survived_or_not_model_3                 1.000000                 0.371325   \n",
       "Survived_or_not_model_4                 0.371325                 1.000000   \n",
       "Survived_or_not_model_5                 0.292766                 0.255624   \n",
       "\n",
       "                         Survived_or_not_model_5  \n",
       "Survived_or_not_model_1                 0.875787  \n",
       "Survived_or_not_model_2                 0.140695  \n",
       "Survived_or_not_model_3                 0.292766  \n",
       "Survived_or_not_model_4                 0.255624  \n",
       "Survived_or_not_model_5                 1.000000  "
      ]
     },
     "metadata": {},
     "output_type": "display_data"
    },
    {
     "name": "stdout",
     "output_type": "stream",
     "text": [
      "                              COMMONALITY STATS\n",
      "\n",
      "Number of entries to be predicted         : 418\n",
      "\n",
      "Relevant model file                       : ../learn_from_aashita/kaggle_out_xgboost_sex_pclass_age_fare.csv\n",
      "Number of entries common with final model : 338\n",
      "\n",
      "Relevant model file                       : ../learn_from_oscar/kaggle_out_xgboost_cabin_null.csv\n",
      "Number of entries common with final model : 340\n",
      "\n",
      "Relevant model file                       : ../learn_from_oscar/kaggle_out_xgboost_parch_sibsp_embarked.csv\n",
      "Number of entries common with final model : 354\n",
      "\n",
      "Relevant model file                       : ../learn_from_oscar/kaggle_out_tickets_svc.csv\n",
      "Number of entries common with final model : 353\n",
      "\n",
      "Relevant model file                       : ../learn_from_oscar/kaggle_out_names_svc.csv\n",
      "Number of entries common with final model : 342\n"
     ]
    }
   ],
   "source": [
    "generate_ensembled_predictions_and_verify_results(files, \n",
    "                                                  generate_corr_heat_map=False, \n",
    "                                                  generate_csv=True, \n",
    "                                                  csv_file='kaggle_diff_factors_ensemble.csv')"
   ]
  },
  {
   "cell_type": "markdown",
   "metadata": {},
   "source": [
    "Comments : We do not have a great results as the poor models look to dominate here. Let us try another version below."
   ]
  },
  {
   "cell_type": "markdown",
   "metadata": {},
   "source": [
    "### Another version, trying to make sure that we 3 strong models."
   ]
  },
  {
   "cell_type": "code",
   "execution_count": 95,
   "metadata": {},
   "outputs": [],
   "source": [
    "files = [\n",
    "        # Obtained by running ../learn_from_aashita/xgboost_my_attempt_detailed_fine_tuning.ipynb\n",
    "        '../learn_from_aashita/kaggle_out_xgboost_sex_pclass_age_fare.csv',    \n",
    "        # Obtained by running ../learn_from_oscar/xgboost_oscar_idea1_sex_pclass_embarked.ipynb\n",
    "        '../learn_from_oscar/kaggle_out_xgboost_sex_pclass_embarked.csv',  \n",
    "        # Obtained by running ../learn_from_oscar/xgboost_oscar_idea1_sex_pclass_embarked.ipynb\n",
    "        '../learn_from_oscar/kaggle_out_xgboost_cabin_null.csv',    \n",
    "        # Obtained by running ../learn_from_oscar/xgboost_oscar_idea2_name_analysis     \n",
    "        '../learn_from_oscar/kaggle_out_tickets_svc.csv',  \n",
    "        # Obtained by running ../learn_from_oscar/xgboost_oscar_idea2_name_analysis     \n",
    "        '../learn_from_oscar/kaggle_out_names_svc.csv']\n",
    " "
   ]
  },
  {
   "cell_type": "code",
   "execution_count": 96,
   "metadata": {},
   "outputs": [
    {
     "name": "stdout",
     "output_type": "stream",
     "text": [
      "                              CORRELATION MATRIX OF MODEL OUTPUTS\n"
     ]
    },
    {
     "data": {
      "text/html": [
       "<div>\n",
       "<style scoped>\n",
       "    .dataframe tbody tr th:only-of-type {\n",
       "        vertical-align: middle;\n",
       "    }\n",
       "\n",
       "    .dataframe tbody tr th {\n",
       "        vertical-align: top;\n",
       "    }\n",
       "\n",
       "    .dataframe thead th {\n",
       "        text-align: right;\n",
       "    }\n",
       "</style>\n",
       "<table border=\"1\" class=\"dataframe\">\n",
       "  <thead>\n",
       "    <tr style=\"text-align: right;\">\n",
       "      <th></th>\n",
       "      <th>Survived_or_not_model_1</th>\n",
       "      <th>Survived_or_not_model_2</th>\n",
       "      <th>Survived_or_not_model_3</th>\n",
       "      <th>Survived_or_not_model_4</th>\n",
       "      <th>Survived_or_not_model_5</th>\n",
       "    </tr>\n",
       "  </thead>\n",
       "  <tbody>\n",
       "    <tr>\n",
       "      <th>Survived_or_not_model_1</th>\n",
       "      <td>1.000000</td>\n",
       "      <td>0.822808</td>\n",
       "      <td>0.152047</td>\n",
       "      <td>0.183321</td>\n",
       "      <td>0.875787</td>\n",
       "    </tr>\n",
       "    <tr>\n",
       "      <th>Survived_or_not_model_2</th>\n",
       "      <td>0.822808</td>\n",
       "      <td>1.000000</td>\n",
       "      <td>0.249679</td>\n",
       "      <td>0.245163</td>\n",
       "      <td>0.750166</td>\n",
       "    </tr>\n",
       "    <tr>\n",
       "      <th>Survived_or_not_model_3</th>\n",
       "      <td>0.152047</td>\n",
       "      <td>0.249679</td>\n",
       "      <td>1.000000</td>\n",
       "      <td>0.293430</td>\n",
       "      <td>0.140695</td>\n",
       "    </tr>\n",
       "    <tr>\n",
       "      <th>Survived_or_not_model_4</th>\n",
       "      <td>0.183321</td>\n",
       "      <td>0.245163</td>\n",
       "      <td>0.293430</td>\n",
       "      <td>1.000000</td>\n",
       "      <td>0.255624</td>\n",
       "    </tr>\n",
       "    <tr>\n",
       "      <th>Survived_or_not_model_5</th>\n",
       "      <td>0.875787</td>\n",
       "      <td>0.750166</td>\n",
       "      <td>0.140695</td>\n",
       "      <td>0.255624</td>\n",
       "      <td>1.000000</td>\n",
       "    </tr>\n",
       "  </tbody>\n",
       "</table>\n",
       "</div>"
      ],
      "text/plain": [
       "                         Survived_or_not_model_1  Survived_or_not_model_2  \\\n",
       "Survived_or_not_model_1                 1.000000                 0.822808   \n",
       "Survived_or_not_model_2                 0.822808                 1.000000   \n",
       "Survived_or_not_model_3                 0.152047                 0.249679   \n",
       "Survived_or_not_model_4                 0.183321                 0.245163   \n",
       "Survived_or_not_model_5                 0.875787                 0.750166   \n",
       "\n",
       "                         Survived_or_not_model_3  Survived_or_not_model_4  \\\n",
       "Survived_or_not_model_1                 0.152047                 0.183321   \n",
       "Survived_or_not_model_2                 0.249679                 0.245163   \n",
       "Survived_or_not_model_3                 1.000000                 0.293430   \n",
       "Survived_or_not_model_4                 0.293430                 1.000000   \n",
       "Survived_or_not_model_5                 0.140695                 0.255624   \n",
       "\n",
       "                         Survived_or_not_model_5  \n",
       "Survived_or_not_model_1                 0.875787  \n",
       "Survived_or_not_model_2                 0.750166  \n",
       "Survived_or_not_model_3                 0.140695  \n",
       "Survived_or_not_model_4                 0.255624  \n",
       "Survived_or_not_model_5                 1.000000  "
      ]
     },
     "metadata": {},
     "output_type": "display_data"
    },
    {
     "name": "stdout",
     "output_type": "stream",
     "text": [
      "                              COMMONALITY STATS\n",
      "\n",
      "Number of entries to be predicted         : 418\n",
      "\n",
      "Relevant model file                       : ../learn_from_aashita/kaggle_out_xgboost_sex_pclass_age_fare.csv\n",
      "Number of entries common with final model : 382\n",
      "\n",
      "Relevant model file                       : ../learn_from_oscar/kaggle_out_xgboost_sex_pclass_embarked.csv\n",
      "Number of entries common with final model : 409\n",
      "\n",
      "Relevant model file                       : ../learn_from_oscar/kaggle_out_xgboost_cabin_null.csv\n",
      "Number of entries common with final model : 304\n",
      "\n",
      "Relevant model file                       : ../learn_from_oscar/kaggle_out_tickets_svc.csv\n",
      "Number of entries common with final model : 309\n",
      "\n",
      "Relevant model file                       : ../learn_from_oscar/kaggle_out_names_svc.csv\n",
      "Number of entries common with final model : 378\n"
     ]
    }
   ],
   "source": [
    "generate_ensembled_predictions_and_verify_results(files, \n",
    "                                                  generate_corr_heat_map=False, \n",
    "                                                  generate_csv=True, \n",
    "                                                  csv_file='kaggle_diff_factors_ensemble_v2.csv')"
   ]
  },
  {
   "cell_type": "markdown",
   "metadata": {},
   "source": [
    "Comments : We have a similar issue here, where we have 5 models, of which only 2 are known to be very good. Since, ensembling here is just a majority vote, we are giving free reins for bad models to dominate here.\n",
    "\n",
    "Let us get back to the drawing board with our first ensembler here."
   ]
  },
  {
   "cell_type": "code",
   "execution_count": 98,
   "metadata": {},
   "outputs": [],
   "source": [
    "files = [\n",
    "        # Obtained by running ../learn_from_aashita/xgboost_my_attempt_detailed_fine_tuning.ipynb\n",
    "        '../learn_from_aashita/kaggle_out_xgboost_my_attempt_detailed_fine_tuning.csv',    \n",
    "        # Obtained by running ../learn_from_oscar/xgboost_oscar_idea2_name_analysis     \n",
    "        '../learn_from_oscar/kaggle_out_tickets_svc.csv',  \n",
    "        # Obtained by running ../learn_from_oscar/xgboost_oscar_idea2_name_analysis     \n",
    "        '../learn_from_oscar/kaggle_out_names_svc.csv']\n",
    " "
   ]
  },
  {
   "cell_type": "code",
   "execution_count": 99,
   "metadata": {},
   "outputs": [
    {
     "name": "stdout",
     "output_type": "stream",
     "text": [
      "                              CORRELATION MATRIX OF MODEL OUTPUTS\n"
     ]
    },
    {
     "data": {
      "text/html": [
       "<div>\n",
       "<style scoped>\n",
       "    .dataframe tbody tr th:only-of-type {\n",
       "        vertical-align: middle;\n",
       "    }\n",
       "\n",
       "    .dataframe tbody tr th {\n",
       "        vertical-align: top;\n",
       "    }\n",
       "\n",
       "    .dataframe thead th {\n",
       "        text-align: right;\n",
       "    }\n",
       "</style>\n",
       "<table border=\"1\" class=\"dataframe\">\n",
       "  <thead>\n",
       "    <tr style=\"text-align: right;\">\n",
       "      <th></th>\n",
       "      <th>Survived_or_not_model_1</th>\n",
       "      <th>Survived_or_not_model_2</th>\n",
       "      <th>Survived_or_not_model_3</th>\n",
       "    </tr>\n",
       "  </thead>\n",
       "  <tbody>\n",
       "    <tr>\n",
       "      <th>Survived_or_not_model_1</th>\n",
       "      <td>1.000000</td>\n",
       "      <td>0.183321</td>\n",
       "      <td>0.875787</td>\n",
       "    </tr>\n",
       "    <tr>\n",
       "      <th>Survived_or_not_model_2</th>\n",
       "      <td>0.183321</td>\n",
       "      <td>1.000000</td>\n",
       "      <td>0.255624</td>\n",
       "    </tr>\n",
       "    <tr>\n",
       "      <th>Survived_or_not_model_3</th>\n",
       "      <td>0.875787</td>\n",
       "      <td>0.255624</td>\n",
       "      <td>1.000000</td>\n",
       "    </tr>\n",
       "  </tbody>\n",
       "</table>\n",
       "</div>"
      ],
      "text/plain": [
       "                         Survived_or_not_model_1  Survived_or_not_model_2  \\\n",
       "Survived_or_not_model_1                 1.000000                 0.183321   \n",
       "Survived_or_not_model_2                 0.183321                 1.000000   \n",
       "Survived_or_not_model_3                 0.875787                 0.255624   \n",
       "\n",
       "                         Survived_or_not_model_3  \n",
       "Survived_or_not_model_1                 0.875787  \n",
       "Survived_or_not_model_2                 0.255624  \n",
       "Survived_or_not_model_3                 1.000000  "
      ]
     },
     "metadata": {},
     "output_type": "display_data"
    },
    {
     "name": "stdout",
     "output_type": "stream",
     "text": [
      "                              COMMONALITY STATS\n",
      "\n",
      "Number of entries to be predicted         : 418\n",
      "\n",
      "Relevant model file                       : ../learn_from_aashita/kaggle_out_xgboost_my_attempt_detailed_fine_tuning.csv\n",
      "Number of entries common with final model : 401\n",
      "\n",
      "Relevant model file                       : ../learn_from_oscar/kaggle_out_tickets_svc.csv\n",
      "Number of entries common with final model : 290\n",
      "\n",
      "Relevant model file                       : ../learn_from_oscar/kaggle_out_names_svc.csv\n",
      "Number of entries common with final model : 411\n"
     ]
    }
   ],
   "source": [
    "generate_ensembled_predictions_and_verify_results(files, \n",
    "                                                  generate_corr_heat_map=False, \n",
    "                                                  generate_csv=True, \n",
    "                                                  csv_file='kaggle_xgboost_best_tickets_name.csv')"
   ]
  },
  {
   "cell_type": "markdown",
   "metadata": {},
   "source": [
    "Comments : In this case, we are essentially using the tickets model as a yardstick to decide between (Sex, Age,Pclass,Fare) model and Names model. Though the tickets model is not very accurate in itself, the low correlation with either of the other models, makes it a reasonably good model for ensembling.\n",
    "\n",
    "Let us try to get a better indicator, that is a model, which preserves the correlation metric, but tries to be more accurate.\n",
    "\n",
    "We try to do that by creating a ensemble of the following :\n",
    "1. Model on tickets.\n",
    "2. Model on cabin\n",
    "3. Model on Parch,SibSp, Embarked.\n",
    "\n",
    "Since, we are repeating any of the fields in the current models, we hope to get a more refined low correlated model that can be used in an ensembler.\n",
    "\n",
    "NOTE : One may question the usage of ensembling in itself to come up with a low correlated model and may suggest the creation of an xgboost model with tickets, cabin, Parch, SibSp and Embarked as it's predictors. That is definitely a suggestion worth exploring, but I am not quite sure as to how to combine SVC on tickets field along with other predictors to an xgboost model."
   ]
  },
  {
   "cell_type": "markdown",
   "metadata": {},
   "source": [
    "### Getting a refined model, which is to be used for ensembling.\n"
   ]
  },
  {
   "cell_type": "code",
   "execution_count": 100,
   "metadata": {},
   "outputs": [],
   "source": [
    "files = [\n",
    "        # Obtained by running ../learn_from_oscar/xgboost_oscar_idea1_sex_pclass_embarked.ipynb\n",
    "        '../learn_from_oscar/kaggle_out_xgboost_cabin_null.csv',    \n",
    "        # Obtained by running ../learn_from_oscar/xgboost_oscar_idea2_name_analysis     \n",
    "        '../learn_from_oscar/kaggle_out_tickets_svc.csv',  \n",
    "        # Obtained by running ../learn_from_oscar/xgboost_oscar_idea1_sex_pclass_embarked.ipynb\n",
    "        '../learn_from_oscar/kaggle_out_xgboost_parch_sibsp_embarked.csv']\n",
    " "
   ]
  },
  {
   "cell_type": "code",
   "execution_count": 101,
   "metadata": {},
   "outputs": [
    {
     "name": "stdout",
     "output_type": "stream",
     "text": [
      "                              CORRELATION MATRIX OF MODEL OUTPUTS\n"
     ]
    },
    {
     "data": {
      "text/html": [
       "<div>\n",
       "<style scoped>\n",
       "    .dataframe tbody tr th:only-of-type {\n",
       "        vertical-align: middle;\n",
       "    }\n",
       "\n",
       "    .dataframe tbody tr th {\n",
       "        vertical-align: top;\n",
       "    }\n",
       "\n",
       "    .dataframe thead th {\n",
       "        text-align: right;\n",
       "    }\n",
       "</style>\n",
       "<table border=\"1\" class=\"dataframe\">\n",
       "  <thead>\n",
       "    <tr style=\"text-align: right;\">\n",
       "      <th></th>\n",
       "      <th>Survived_or_not_model_1</th>\n",
       "      <th>Survived_or_not_model_2</th>\n",
       "      <th>Survived_or_not_model_3</th>\n",
       "    </tr>\n",
       "  </thead>\n",
       "  <tbody>\n",
       "    <tr>\n",
       "      <th>Survived_or_not_model_1</th>\n",
       "      <td>1.000000</td>\n",
       "      <td>0.293430</td>\n",
       "      <td>0.215749</td>\n",
       "    </tr>\n",
       "    <tr>\n",
       "      <th>Survived_or_not_model_2</th>\n",
       "      <td>0.293430</td>\n",
       "      <td>1.000000</td>\n",
       "      <td>0.371325</td>\n",
       "    </tr>\n",
       "    <tr>\n",
       "      <th>Survived_or_not_model_3</th>\n",
       "      <td>0.215749</td>\n",
       "      <td>0.371325</td>\n",
       "      <td>1.000000</td>\n",
       "    </tr>\n",
       "  </tbody>\n",
       "</table>\n",
       "</div>"
      ],
      "text/plain": [
       "                         Survived_or_not_model_1  Survived_or_not_model_2  \\\n",
       "Survived_or_not_model_1                 1.000000                 0.293430   \n",
       "Survived_or_not_model_2                 0.293430                 1.000000   \n",
       "Survived_or_not_model_3                 0.215749                 0.371325   \n",
       "\n",
       "                         Survived_or_not_model_3  \n",
       "Survived_or_not_model_1                 0.215749  \n",
       "Survived_or_not_model_2                 0.371325  \n",
       "Survived_or_not_model_3                 1.000000  "
      ]
     },
     "metadata": {},
     "output_type": "display_data"
    },
    {
     "name": "stdout",
     "output_type": "stream",
     "text": [
      "                              COMMONALITY STATS\n",
      "\n",
      "Number of entries to be predicted         : 418\n",
      "\n",
      "Relevant model file                       : ../learn_from_oscar/kaggle_out_xgboost_cabin_null.csv\n",
      "Number of entries common with final model : 356\n",
      "\n",
      "Relevant model file                       : ../learn_from_oscar/kaggle_out_tickets_svc.csv\n",
      "Number of entries common with final model : 379\n",
      "\n",
      "Relevant model file                       : ../learn_from_oscar/kaggle_out_xgboost_parch_sibsp_embarked.csv\n",
      "Number of entries common with final model : 362\n"
     ]
    }
   ],
   "source": [
    "generate_ensembled_predictions_and_verify_results(files, \n",
    "                                                  generate_corr_heat_map=False, \n",
    "                                                  generate_csv=True, \n",
    "                                                  csv_file='kaggle_ticket_cabin_parch_sibsp_embarked.csv')"
   ]
  },
  {
   "cell_type": "markdown",
   "metadata": {},
   "source": [
    "Comments : As per kaggle, we look to be getting a better indicator here (this is rather expected because of the decreased correlation amongst the ensemble components). Let us see how correlated this is, when compared with our other good models."
   ]
  },
  {
   "cell_type": "code",
   "execution_count": 102,
   "metadata": {},
   "outputs": [],
   "source": [
    "files = [\n",
    "        # Obtained by running ../learn_from_aashita/xgboost_my_attempt_detailed_fine_tuning.ipynb\n",
    "        '../learn_from_aashita/kaggle_out_xgboost_sex_pclass_age_fare.csv',    \n",
    "        'kaggle_ticket_cabin_parch_sibsp_embarked.csv',  \n",
    "        # Obtained by running ../learn_from_oscar/xgboost_oscar_idea2_name_analysis     \n",
    "        '../learn_from_oscar/kaggle_out_names_svc.csv']\n",
    " "
   ]
  },
  {
   "cell_type": "code",
   "execution_count": 103,
   "metadata": {},
   "outputs": [
    {
     "name": "stdout",
     "output_type": "stream",
     "text": [
      "                              CORRELATION MATRIX OF MODEL OUTPUTS\n"
     ]
    },
    {
     "data": {
      "text/html": [
       "<div>\n",
       "<style scoped>\n",
       "    .dataframe tbody tr th:only-of-type {\n",
       "        vertical-align: middle;\n",
       "    }\n",
       "\n",
       "    .dataframe tbody tr th {\n",
       "        vertical-align: top;\n",
       "    }\n",
       "\n",
       "    .dataframe thead th {\n",
       "        text-align: right;\n",
       "    }\n",
       "</style>\n",
       "<table border=\"1\" class=\"dataframe\">\n",
       "  <thead>\n",
       "    <tr style=\"text-align: right;\">\n",
       "      <th></th>\n",
       "      <th>Survived_or_not_model_1</th>\n",
       "      <th>Survived_or_not_model_2</th>\n",
       "      <th>Survived_or_not_model_3</th>\n",
       "    </tr>\n",
       "  </thead>\n",
       "  <tbody>\n",
       "    <tr>\n",
       "      <th>Survived_or_not_model_1</th>\n",
       "      <td>1.000000</td>\n",
       "      <td>0.266983</td>\n",
       "      <td>0.875787</td>\n",
       "    </tr>\n",
       "    <tr>\n",
       "      <th>Survived_or_not_model_2</th>\n",
       "      <td>0.266983</td>\n",
       "      <td>1.000000</td>\n",
       "      <td>0.305970</td>\n",
       "    </tr>\n",
       "    <tr>\n",
       "      <th>Survived_or_not_model_3</th>\n",
       "      <td>0.875787</td>\n",
       "      <td>0.305970</td>\n",
       "      <td>1.000000</td>\n",
       "    </tr>\n",
       "  </tbody>\n",
       "</table>\n",
       "</div>"
      ],
      "text/plain": [
       "                         Survived_or_not_model_1  Survived_or_not_model_2  \\\n",
       "Survived_or_not_model_1                 1.000000                 0.266983   \n",
       "Survived_or_not_model_2                 0.266983                 1.000000   \n",
       "Survived_or_not_model_3                 0.875787                 0.305970   \n",
       "\n",
       "                         Survived_or_not_model_3  \n",
       "Survived_or_not_model_1                 0.875787  \n",
       "Survived_or_not_model_2                 0.305970  \n",
       "Survived_or_not_model_3                 1.000000  "
      ]
     },
     "metadata": {},
     "output_type": "display_data"
    },
    {
     "name": "stdout",
     "output_type": "stream",
     "text": [
      "                              COMMONALITY STATS\n",
      "\n",
      "Number of entries to be predicted         : 418\n",
      "\n",
      "Relevant model file                       : ../learn_from_aashita/kaggle_out_xgboost_sex_pclass_age_fare.csv\n",
      "Number of entries common with final model : 404\n",
      "\n",
      "Relevant model file                       : kaggle_ticket_cabin_parch_sibsp_embarked.csv\n",
      "Number of entries common with final model : 302\n",
      "\n",
      "Relevant model file                       : ../learn_from_oscar/kaggle_out_names_svc.csv\n",
      "Number of entries common with final model : 408\n"
     ]
    }
   ],
   "source": [
    "generate_ensembled_predictions_and_verify_results(files, \n",
    "                                                  generate_corr_heat_map=False, \n",
    "                                                  generate_csv=True, \n",
    "                                                  csv_file='kaggle_sex_pclass_age_fare_names_refined_ensembler.csv')"
   ]
  },
  {
   "cell_type": "markdown",
   "metadata": {},
   "source": [
    "Comment : On first glance, we look to be getting some benefit, though we cannot say for sure if this gives us a better result than the previous one."
   ]
  }
 ],
 "metadata": {
  "kernelspec": {
   "display_name": "Python 3",
   "language": "python",
   "name": "python3"
  },
  "language_info": {
   "codemirror_mode": {
    "name": "ipython",
    "version": 3
   },
   "file_extension": ".py",
   "mimetype": "text/x-python",
   "name": "python",
   "nbconvert_exporter": "python",
   "pygments_lexer": "ipython3",
   "version": "3.6.4"
  }
 },
 "nbformat": 4,
 "nbformat_minor": 2
}
