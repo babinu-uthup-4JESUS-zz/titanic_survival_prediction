{
 "cells": [
  {
   "cell_type": "markdown",
   "metadata": {},
   "source": [
    "\n",
    "# Basic Overview\n",
    "The objective is to see if we can squeeze out some more predictive power from logistic regression, random forest and\n",
    "xgboot models via ensembling.\n",
    "\n",
    "Comments/criticisms/appreciations are greatly accepted and appreciated. Do not be shy and send me an email at babinu@gmail.com !\n",
    "\n",
    "Source of data : https://www.kaggle.com/c/titanic/data"
   ]
  },
  {
   "cell_type": "code",
   "execution_count": 91,
   "metadata": {},
   "outputs": [],
   "source": [
    "import pandas as pd\n",
    "import numpy as np\n",
    "import os\n",
    "import re"
   ]
  },
  {
   "cell_type": "code",
   "execution_count": 92,
   "metadata": {},
   "outputs": [],
   "source": [
    "import seaborn as sns\n",
    "import matplotlib.pyplot as plt"
   ]
  },
  {
   "cell_type": "markdown",
   "metadata": {},
   "source": [
    "Comments :\n",
    "\n",
    "The ensemble of the following 3 models \n",
    "\n",
    "Model #1. Ensemble of 5 models :\n",
    "\n",
    "(a) Final fine tuned xgboost with Sex,Pclass,Age,Fare\n",
    "\n",
    "(b) Oscar's idea : xgboost model with Sex,Age,Pclass,Embarked\n",
    "\n",
    "(c) Xgboost model on Parch, SibSp, Fare --> Generated so as to get a reasonable model with low correlation with other models.\n",
    "\n",
    "(d) SVC on tickets field.\n",
    "\n",
    "(e) SVC on names field.\n",
    "\n",
    "\n",
    "Model #2. Ensemble of the following 3 models :\n",
    "\n",
    "\n",
    "(a) Final fine tuned xgboost with Sex,Pclass,Age,Fare\n",
    "\n",
    "\n",
    "(b) Xgboost model on Parch, SibSp, Embarked --> Generated so as to get a reasonable model with low correlation with other models.\n",
    "\n",
    "\n",
    "(c) SVC on names field.\n",
    "\n",
    "\n",
    "\n",
    "Model #3. Ensemble of the following 3 models :\n",
    "\n",
    "(a) Final fine tuned xgboost with Sex,Pclass,Age,Fare\n",
    "\n",
    "\n",
    "(b) SVC on tickets field.\n",
    "\n",
    "\n",
    "(c) SVC on names field.\n",
    "\n",
    "\n",
    "Other models worth taking a look :\n",
    "\n",
    "\n",
    "Model #4. Ensemble of the following 3 models :\n",
    "\n",
    "(a) Oscar's idea : xgboost model with Sex,Age,Pclass,Embarked\n",
    "\n",
    "(b) SVC on tickets field.\n",
    "\n",
    "(c) SVC on names field.\n",
    "\n",
    "\n",
    "\n",
    "Model #5. Ensemble of the following 3 models :\n",
    "\n",
    "(a) Final fine tuned xgboost with Sex,Pclass,Age,Fare\n",
    "\n",
    "(b) Oscar's idea : xgboost model with Sex,Age,Pclass,Embarked\n",
    "\n",
    "(c) SVC on names field.\n"
   ]
  },
  {
   "cell_type": "code",
   "execution_count": 95,
   "metadata": {},
   "outputs": [],
   "source": [
    "def populate_model_files_data(files):\n",
    "    count = 0\n",
    "    master_df = pd.DataFrame()\n",
    "    count_to_file_name = dict()\n",
    "    for  csv_file in files:\n",
    "        count += 1\n",
    "        data_df = pd.read_csv(csv_file)\n",
    "        column_name = 'Survived_or_not_model_' + str(count)\n",
    "\n",
    "        survived_list = data_df['Survived'].values\n",
    "        master_df[column_name] = survived_list\n",
    "        master_df['PassengerId'] = data_df['PassengerId'].values\n",
    "        count_to_file_name[count] = csv_file\n",
    "        prev_survived_list = survived_list\n",
    "    return master_df"
   ]
  },
  {
   "cell_type": "code",
   "execution_count": 96,
   "metadata": {},
   "outputs": [],
   "source": [
    "def display_corr_info(master_df, generate_corr_heat_map):\n",
    "    relevant_cols = [col for col in master_df.columns if col not in ['PassengerId']]\n",
    "\n",
    "    display(master_df[relevant_cols].corr())\n",
    "    if generate_corr_heat_map:\n",
    "        fig, ax = plt.subplots(1, 1, figsize=(16, 9))\n",
    "        sns.heatmap(master_df[relevant_cols].corr(), ax=ax)    "
   ]
  },
  {
   "cell_type": "code",
   "execution_count": 97,
   "metadata": {},
   "outputs": [],
   "source": [
    "def get_most_frequent_entry_3(a, b, c):\n",
    "    sum_vals = a + b + c\n",
    "    \n",
    "    if sum_vals <= 1:\n",
    "        frequent_val = 0\n",
    "    else:\n",
    "        frequent_val = 1\n",
    "    return frequent_val"
   ]
  },
  {
   "cell_type": "code",
   "execution_count": 98,
   "metadata": {},
   "outputs": [],
   "source": [
    "def get_most_frequent_entry_5(a, b, c, d, e):\n",
    "    sum_vals = a + b + c + d + e\n",
    "    \n",
    "    if sum_vals <= 2:\n",
    "        frequent_val = 0\n",
    "    else:\n",
    "        frequent_val = 1\n",
    "    return frequent_val"
   ]
  },
  {
   "cell_type": "code",
   "execution_count": 99,
   "metadata": {},
   "outputs": [],
   "source": [
    "def update_ensembled_cols(master_df):\n",
    "    \n",
    "    # Decrease by 1 to account for PassengerId column.\n",
    "    num_files = len(master_df.columns) - 1\n",
    "    if num_files == 5:\n",
    "\n",
    "        master_df['Survived_or_not_ensembled'] = master_df.apply(\n",
    "            lambda x : get_most_frequent_entry_5(x['Survived_or_not_model_1'], \n",
    "                                                 x['Survived_or_not_model_2'], \n",
    "                                                 x['Survived_or_not_model_3'],                                        \n",
    "                                                 x['Survived_or_not_model_4'],                                                                               \n",
    "                                                 x['Survived_or_not_model_5']), axis=1)\n",
    "    elif num_files == 3:\n",
    "        master_df['Survived_or_not_ensembled'] = master_df.apply(\n",
    "            lambda x : get_most_frequent_entry_3(x['Survived_or_not_model_1'], \n",
    "                                                 x['Survived_or_not_model_2'], \n",
    "                                                 x['Survived_or_not_model_3']), axis=1)    \n",
    "    master_df.sort_values(by=['PassengerId'], inplace=True)"
   ]
  },
  {
   "cell_type": "code",
   "execution_count": 100,
   "metadata": {},
   "outputs": [],
   "source": [
    "def evaluate_correctness_percentage(master_df):\n",
    "    # Check with out of sample of data (to be submitted to kaggle.)\n",
    "    test_data = pd.read_csv(\"../input/test_data_processed_correct.csv\")\n",
    "    test_data['Predictions'] = master_df['Survived_or_not_ensembled']\n",
    "    sucess_rate = (np.sum(test_data['Survived'] == test_data['Predictions'])/len(test_data))\n",
    "    print(\"Success rate of model on test data is {0:0.3g}\".format(sucess_rate))"
   ]
  },
  {
   "cell_type": "code",
   "execution_count": 101,
   "metadata": {},
   "outputs": [],
   "source": [
    "def display_commonalities_stats(master_df, files):\n",
    "    print(\"Number of passengers whose survivorship is to be predicted is {0}\".format(len(master_df)))\n",
    "\n",
    "    for i in range(len(files)):\n",
    "        index = i + 1\n",
    "        rel_csv_file = files[i]\n",
    "        print(\"\\nRel file is {0}\".format(rel_csv_file))    \n",
    "        single_model_prediction_col = 'Survived_or_not_model_' + str(index)\n",
    "        num_common_entries = np.sum(master_df[single_model_prediction_col] == master_df['Survived_or_not_ensembled'])\n",
    "        print(\"Number of entries with common prediction as that of the ensembled model is {0}\".format(num_common_entries))    \n",
    "    "
   ]
  },
  {
   "cell_type": "code",
   "execution_count": 102,
   "metadata": {},
   "outputs": [],
   "source": [
    "def dump_predictions_to_csv(master_df, csv_file):\n",
    "    predictions_to_kaggle = master_df[['PassengerId', 'Survived_or_not_ensembled']].copy()\n",
    "    predictions_to_kaggle.rename(columns={'Survived_or_not_ensembled' : 'Survived'}, inplace=True)\n",
    "    predictions_to_kaggle.to_csv(csv_file, index=False)    "
   ]
  },
  {
   "cell_type": "code",
   "execution_count": 103,
   "metadata": {},
   "outputs": [],
   "source": [
    "def generate_ensembled_predictions_and_verify_results(files, generate_corr_heat_map=False, \n",
    "                                                      generate_csv=False, csv_file='temp.csv'):\n",
    "    print(csv_file)\n",
    "    master_df = populate_model_files_data(files)\n",
    "    \n",
    "    # Display correlation info amongst predictors as a matrix as well as  heatmap\n",
    "    display_corr_info(master_df, generate_corr_heat_map)\n",
    "    \n",
    "    # The core routine for selecting the majority vote as the ensembled prediction.\n",
    "    update_ensembled_cols(master_df)\n",
    "    \n",
    "    # How correct are the predictions obtained by ensembling ?\n",
    "    evaluate_correctness_percentage(master_df)\n",
    "    \n",
    "    # How common are the ensembled predictions \n",
    "    display_commonalities_stats(master_df, files)\n",
    "    \n",
    "    if generate_csv:\n",
    "        dump_predictions_to_csv(master_df, csv_file)\n"
   ]
  },
  {
   "cell_type": "code",
   "execution_count": 104,
   "metadata": {},
   "outputs": [
    {
     "name": "stdout",
     "output_type": "stream",
     "text": [
      "temp.csv\n"
     ]
    },
    {
     "data": {
      "text/html": [
       "<div>\n",
       "<style scoped>\n",
       "    .dataframe tbody tr th:only-of-type {\n",
       "        vertical-align: middle;\n",
       "    }\n",
       "\n",
       "    .dataframe tbody tr th {\n",
       "        vertical-align: top;\n",
       "    }\n",
       "\n",
       "    .dataframe thead th {\n",
       "        text-align: right;\n",
       "    }\n",
       "</style>\n",
       "<table border=\"1\" class=\"dataframe\">\n",
       "  <thead>\n",
       "    <tr style=\"text-align: right;\">\n",
       "      <th></th>\n",
       "      <th>Survived_or_not_model_1</th>\n",
       "      <th>Survived_or_not_model_2</th>\n",
       "      <th>Survived_or_not_model_3</th>\n",
       "    </tr>\n",
       "  </thead>\n",
       "  <tbody>\n",
       "    <tr>\n",
       "      <th>Survived_or_not_model_1</th>\n",
       "      <td>1.000000</td>\n",
       "      <td>0.245163</td>\n",
       "      <td>0.750166</td>\n",
       "    </tr>\n",
       "    <tr>\n",
       "      <th>Survived_or_not_model_2</th>\n",
       "      <td>0.245163</td>\n",
       "      <td>1.000000</td>\n",
       "      <td>0.255624</td>\n",
       "    </tr>\n",
       "    <tr>\n",
       "      <th>Survived_or_not_model_3</th>\n",
       "      <td>0.750166</td>\n",
       "      <td>0.255624</td>\n",
       "      <td>1.000000</td>\n",
       "    </tr>\n",
       "  </tbody>\n",
       "</table>\n",
       "</div>"
      ],
      "text/plain": [
       "                         Survived_or_not_model_1  Survived_or_not_model_2  \\\n",
       "Survived_or_not_model_1                 1.000000                 0.245163   \n",
       "Survived_or_not_model_2                 0.245163                 1.000000   \n",
       "Survived_or_not_model_3                 0.750166                 0.255624   \n",
       "\n",
       "                         Survived_or_not_model_3  \n",
       "Survived_or_not_model_1                 0.750166  \n",
       "Survived_or_not_model_2                 0.255624  \n",
       "Survived_or_not_model_3                 1.000000  "
      ]
     },
     "metadata": {},
     "output_type": "display_data"
    },
    {
     "name": "stdout",
     "output_type": "stream",
     "text": [
      "Success rate of model on test data is 0.794\n",
      "Number of passengers whose survivorship is to be predicted is 418\n",
      "\n",
      "Rel file is ../learn_from_oscar/kaggle_out_xgboost_sex_pclass_embarked.csv\n",
      "Number of entries with common prediction as that of the ensembled model is 402\n",
      "\n",
      "Rel file is ../learn_from_oscar/kaggle_out_tickets_svc.csv\n",
      "Number of entries with common prediction as that of the ensembled model is 316\n",
      "\n",
      "Rel file is ../learn_from_oscar/kaggle_out_names_svc.csv\n",
      "Number of entries with common prediction as that of the ensembled model is 385\n"
     ]
    }
   ],
   "source": [
    "generate_ensembled_predictions_and_verify_results(files)"
   ]
  },
  {
   "cell_type": "markdown",
   "metadata": {},
   "source": [
    "### Generate model 1"
   ]
  },
  {
   "cell_type": "code",
   "execution_count": 105,
   "metadata": {},
   "outputs": [],
   "source": [
    "files = [\n",
    "        # Obtained by running ../learn_from_aashita/xgboost_my_attempt_detailed_fine_tuning.ipynb\n",
    "        '../learn_from_aashita/kaggle_out_xgboost_my_attempt_detailed_fine_tuning.csv',    \n",
    "        # Obtained by running ../learn_from_oscar/xgboost_oscar_idea1_sex_pclass_embarked.ipynb\n",
    "        '../learn_from_oscar/kaggle_out_xgboost_sex_pclass_embarked.csv',  \n",
    "        # Obtained by running ../learn_from_aashita/xgboost_my_attempt_detailed_fine_tuning.ipynb\n",
    "        '../learn_from_aashita/kaggle_out_xgboost_parch_sibsp_fare.csv',    \n",
    "        # Obtained by running ../learn_from_oscar/xgboost_oscar_idea2_name_analysis     \n",
    "        '../learn_from_oscar/kaggle_out_tickets_svc.csv',  \n",
    "        # Obtained by running ../learn_from_oscar/xgboost_oscar_idea2_name_analysis     \n",
    "        '../learn_from_oscar/kaggle_out_names_svc.csv']\n"
   ]
  },
  {
   "cell_type": "code",
   "execution_count": 106,
   "metadata": {},
   "outputs": [
    {
     "name": "stdout",
     "output_type": "stream",
     "text": [
      "kaggle_out_ensemble_model_1.csv\n"
     ]
    },
    {
     "data": {
      "text/html": [
       "<div>\n",
       "<style scoped>\n",
       "    .dataframe tbody tr th:only-of-type {\n",
       "        vertical-align: middle;\n",
       "    }\n",
       "\n",
       "    .dataframe tbody tr th {\n",
       "        vertical-align: top;\n",
       "    }\n",
       "\n",
       "    .dataframe thead th {\n",
       "        text-align: right;\n",
       "    }\n",
       "</style>\n",
       "<table border=\"1\" class=\"dataframe\">\n",
       "  <thead>\n",
       "    <tr style=\"text-align: right;\">\n",
       "      <th></th>\n",
       "      <th>Survived_or_not_model_1</th>\n",
       "      <th>Survived_or_not_model_2</th>\n",
       "      <th>Survived_or_not_model_3</th>\n",
       "      <th>Survived_or_not_model_4</th>\n",
       "      <th>Survived_or_not_model_5</th>\n",
       "    </tr>\n",
       "  </thead>\n",
       "  <tbody>\n",
       "    <tr>\n",
       "      <th>Survived_or_not_model_1</th>\n",
       "      <td>1.000000</td>\n",
       "      <td>0.822808</td>\n",
       "      <td>0.326308</td>\n",
       "      <td>0.183321</td>\n",
       "      <td>0.875787</td>\n",
       "    </tr>\n",
       "    <tr>\n",
       "      <th>Survived_or_not_model_2</th>\n",
       "      <td>0.822808</td>\n",
       "      <td>1.000000</td>\n",
       "      <td>0.338980</td>\n",
       "      <td>0.245163</td>\n",
       "      <td>0.750166</td>\n",
       "    </tr>\n",
       "    <tr>\n",
       "      <th>Survived_or_not_model_3</th>\n",
       "      <td>0.326308</td>\n",
       "      <td>0.338980</td>\n",
       "      <td>1.000000</td>\n",
       "      <td>0.462658</td>\n",
       "      <td>0.321721</td>\n",
       "    </tr>\n",
       "    <tr>\n",
       "      <th>Survived_or_not_model_4</th>\n",
       "      <td>0.183321</td>\n",
       "      <td>0.245163</td>\n",
       "      <td>0.462658</td>\n",
       "      <td>1.000000</td>\n",
       "      <td>0.255624</td>\n",
       "    </tr>\n",
       "    <tr>\n",
       "      <th>Survived_or_not_model_5</th>\n",
       "      <td>0.875787</td>\n",
       "      <td>0.750166</td>\n",
       "      <td>0.321721</td>\n",
       "      <td>0.255624</td>\n",
       "      <td>1.000000</td>\n",
       "    </tr>\n",
       "  </tbody>\n",
       "</table>\n",
       "</div>"
      ],
      "text/plain": [
       "                         Survived_or_not_model_1  Survived_or_not_model_2  \\\n",
       "Survived_or_not_model_1                 1.000000                 0.822808   \n",
       "Survived_or_not_model_2                 0.822808                 1.000000   \n",
       "Survived_or_not_model_3                 0.326308                 0.338980   \n",
       "Survived_or_not_model_4                 0.183321                 0.245163   \n",
       "Survived_or_not_model_5                 0.875787                 0.750166   \n",
       "\n",
       "                         Survived_or_not_model_3  Survived_or_not_model_4  \\\n",
       "Survived_or_not_model_1                 0.326308                 0.183321   \n",
       "Survived_or_not_model_2                 0.338980                 0.245163   \n",
       "Survived_or_not_model_3                 1.000000                 0.462658   \n",
       "Survived_or_not_model_4                 0.462658                 1.000000   \n",
       "Survived_or_not_model_5                 0.321721                 0.255624   \n",
       "\n",
       "                         Survived_or_not_model_5  \n",
       "Survived_or_not_model_1                 0.875787  \n",
       "Survived_or_not_model_2                 0.750166  \n",
       "Survived_or_not_model_3                 0.321721  \n",
       "Survived_or_not_model_4                 0.255624  \n",
       "Survived_or_not_model_5                 1.000000  "
      ]
     },
     "metadata": {},
     "output_type": "display_data"
    },
    {
     "name": "stdout",
     "output_type": "stream",
     "text": [
      "Success rate of model on test data is 0.804\n",
      "Number of passengers whose survivorship is to be predicted is 418\n",
      "\n",
      "Rel file is ../learn_from_aashita/kaggle_out_xgboost_my_attempt_detailed_fine_tuning.csv\n",
      "Number of entries with common prediction as that of the ensembled model is 387\n",
      "\n",
      "Rel file is ../learn_from_oscar/kaggle_out_xgboost_sex_pclass_embarked.csv\n",
      "Number of entries with common prediction as that of the ensembled model is 402\n",
      "\n",
      "Rel file is ../learn_from_aashita/kaggle_out_xgboost_parch_sibsp_fare.csv\n",
      "Number of entries with common prediction as that of the ensembled model is 319\n",
      "\n",
      "Rel file is ../learn_from_oscar/kaggle_out_tickets_svc.csv\n",
      "Number of entries with common prediction as that of the ensembled model is 304\n",
      "\n",
      "Rel file is ../learn_from_oscar/kaggle_out_names_svc.csv\n",
      "Number of entries with common prediction as that of the ensembled model is 385\n"
     ]
    }
   ],
   "source": [
    "generate_ensembled_predictions_and_verify_results(files, \n",
    "                                                  generate_corr_heat_map=False, \n",
    "                                                  generate_csv=True, \n",
    "                                                  csv_file='kaggle_out_ensemble_model_1.csv')"
   ]
  },
  {
   "cell_type": "markdown",
   "metadata": {},
   "source": [
    "### Generate model 2"
   ]
  },
  {
   "cell_type": "code",
   "execution_count": 107,
   "metadata": {},
   "outputs": [],
   "source": [
    "files = [\n",
    "        # Obtained by running ../learn_from_aashita/xgboost_my_attempt_detailed_fine_tuning.ipynb\n",
    "        '../learn_from_aashita/kaggle_out_xgboost_my_attempt_detailed_fine_tuning.csv',    \n",
    "        # Obtained by running ../learn_from_oscar/xgboost_oscar_idea1_name_analysis     \n",
    "        '../learn_from_oscar/kaggle_out_xgboost_parch_sibsp_embarked.csv',  \n",
    "        # Obtained by running ../learn_from_oscar/xgboost_oscar_idea2_name_analysis     \n",
    "        '../learn_from_oscar/kaggle_out_names_svc.csv']\n"
   ]
  },
  {
   "cell_type": "code",
   "execution_count": 108,
   "metadata": {},
   "outputs": [
    {
     "name": "stdout",
     "output_type": "stream",
     "text": [
      "kaggle_out_ensemble_model_2.csv\n"
     ]
    },
    {
     "data": {
      "text/html": [
       "<div>\n",
       "<style scoped>\n",
       "    .dataframe tbody tr th:only-of-type {\n",
       "        vertical-align: middle;\n",
       "    }\n",
       "\n",
       "    .dataframe tbody tr th {\n",
       "        vertical-align: top;\n",
       "    }\n",
       "\n",
       "    .dataframe thead th {\n",
       "        text-align: right;\n",
       "    }\n",
       "</style>\n",
       "<table border=\"1\" class=\"dataframe\">\n",
       "  <thead>\n",
       "    <tr style=\"text-align: right;\">\n",
       "      <th></th>\n",
       "      <th>Survived_or_not_model_1</th>\n",
       "      <th>Survived_or_not_model_2</th>\n",
       "      <th>Survived_or_not_model_3</th>\n",
       "    </tr>\n",
       "  </thead>\n",
       "  <tbody>\n",
       "    <tr>\n",
       "      <th>Survived_or_not_model_1</th>\n",
       "      <td>1.000000</td>\n",
       "      <td>0.248443</td>\n",
       "      <td>0.875787</td>\n",
       "    </tr>\n",
       "    <tr>\n",
       "      <th>Survived_or_not_model_2</th>\n",
       "      <td>0.248443</td>\n",
       "      <td>1.000000</td>\n",
       "      <td>0.292766</td>\n",
       "    </tr>\n",
       "    <tr>\n",
       "      <th>Survived_or_not_model_3</th>\n",
       "      <td>0.875787</td>\n",
       "      <td>0.292766</td>\n",
       "      <td>1.000000</td>\n",
       "    </tr>\n",
       "  </tbody>\n",
       "</table>\n",
       "</div>"
      ],
      "text/plain": [
       "                         Survived_or_not_model_1  Survived_or_not_model_2  \\\n",
       "Survived_or_not_model_1                 1.000000                 0.248443   \n",
       "Survived_or_not_model_2                 0.248443                 1.000000   \n",
       "Survived_or_not_model_3                 0.875787                 0.292766   \n",
       "\n",
       "                         Survived_or_not_model_3  \n",
       "Survived_or_not_model_1                 0.875787  \n",
       "Survived_or_not_model_2                 0.292766  \n",
       "Survived_or_not_model_3                 1.000000  "
      ]
     },
     "metadata": {},
     "output_type": "display_data"
    },
    {
     "name": "stdout",
     "output_type": "stream",
     "text": [
      "Success rate of model on test data is 0.794\n",
      "Number of passengers whose survivorship is to be predicted is 418\n",
      "\n",
      "Rel file is ../learn_from_aashita/kaggle_out_xgboost_my_attempt_detailed_fine_tuning.csv\n",
      "Number of entries with common prediction as that of the ensembled model is 403\n",
      "\n",
      "Rel file is ../learn_from_oscar/kaggle_out_xgboost_parch_sibsp_embarked.csv\n",
      "Number of entries with common prediction as that of the ensembled model is 297\n",
      "\n",
      "Rel file is ../learn_from_oscar/kaggle_out_names_svc.csv\n",
      "Number of entries with common prediction as that of the ensembled model is 409\n"
     ]
    }
   ],
   "source": [
    "generate_ensembled_predictions_and_verify_results(files, \n",
    "                                                  generate_corr_heat_map=False, \n",
    "                                                  generate_csv=True, \n",
    "                                                  csv_file='kaggle_out_ensemble_model_2.csv')"
   ]
  },
  {
   "cell_type": "markdown",
   "metadata": {},
   "source": [
    "### Generate model 3"
   ]
  },
  {
   "cell_type": "code",
   "execution_count": 109,
   "metadata": {},
   "outputs": [],
   "source": [
    "files = [\n",
    "        # Obtained by running ../learn_from_aashita/xgboost_my_attempt_detailed_fine_tuning.ipynb\n",
    "        '../learn_from_aashita/kaggle_out_xgboost_my_attempt_detailed_fine_tuning.csv',    \n",
    "        # Obtained by running ../learn_from_oscar/xgboost_oscar_idea2_name_analysis     \n",
    "        '../learn_from_oscar/kaggle_out_tickets_svc.csv',  \n",
    "        # Obtained by running ../learn_from_oscar/xgboost_oscar_idea2_name_analysis     \n",
    "        '../learn_from_oscar/kaggle_out_names_svc.csv']\n"
   ]
  },
  {
   "cell_type": "code",
   "execution_count": 110,
   "metadata": {},
   "outputs": [
    {
     "name": "stdout",
     "output_type": "stream",
     "text": [
      "kaggle_out_ensemble_model_3.csv\n"
     ]
    },
    {
     "data": {
      "text/html": [
       "<div>\n",
       "<style scoped>\n",
       "    .dataframe tbody tr th:only-of-type {\n",
       "        vertical-align: middle;\n",
       "    }\n",
       "\n",
       "    .dataframe tbody tr th {\n",
       "        vertical-align: top;\n",
       "    }\n",
       "\n",
       "    .dataframe thead th {\n",
       "        text-align: right;\n",
       "    }\n",
       "</style>\n",
       "<table border=\"1\" class=\"dataframe\">\n",
       "  <thead>\n",
       "    <tr style=\"text-align: right;\">\n",
       "      <th></th>\n",
       "      <th>Survived_or_not_model_1</th>\n",
       "      <th>Survived_or_not_model_2</th>\n",
       "      <th>Survived_or_not_model_3</th>\n",
       "    </tr>\n",
       "  </thead>\n",
       "  <tbody>\n",
       "    <tr>\n",
       "      <th>Survived_or_not_model_1</th>\n",
       "      <td>1.000000</td>\n",
       "      <td>0.183321</td>\n",
       "      <td>0.875787</td>\n",
       "    </tr>\n",
       "    <tr>\n",
       "      <th>Survived_or_not_model_2</th>\n",
       "      <td>0.183321</td>\n",
       "      <td>1.000000</td>\n",
       "      <td>0.255624</td>\n",
       "    </tr>\n",
       "    <tr>\n",
       "      <th>Survived_or_not_model_3</th>\n",
       "      <td>0.875787</td>\n",
       "      <td>0.255624</td>\n",
       "      <td>1.000000</td>\n",
       "    </tr>\n",
       "  </tbody>\n",
       "</table>\n",
       "</div>"
      ],
      "text/plain": [
       "                         Survived_or_not_model_1  Survived_or_not_model_2  \\\n",
       "Survived_or_not_model_1                 1.000000                 0.183321   \n",
       "Survived_or_not_model_2                 0.183321                 1.000000   \n",
       "Survived_or_not_model_3                 0.875787                 0.255624   \n",
       "\n",
       "                         Survived_or_not_model_3  \n",
       "Survived_or_not_model_1                 0.875787  \n",
       "Survived_or_not_model_2                 0.255624  \n",
       "Survived_or_not_model_3                 1.000000  "
      ]
     },
     "metadata": {},
     "output_type": "display_data"
    },
    {
     "name": "stdout",
     "output_type": "stream",
     "text": [
      "Success rate of model on test data is 0.799\n",
      "Number of passengers whose survivorship is to be predicted is 418\n",
      "\n",
      "Rel file is ../learn_from_aashita/kaggle_out_xgboost_my_attempt_detailed_fine_tuning.csv\n",
      "Number of entries with common prediction as that of the ensembled model is 401\n",
      "\n",
      "Rel file is ../learn_from_oscar/kaggle_out_tickets_svc.csv\n",
      "Number of entries with common prediction as that of the ensembled model is 290\n",
      "\n",
      "Rel file is ../learn_from_oscar/kaggle_out_names_svc.csv\n",
      "Number of entries with common prediction as that of the ensembled model is 411\n"
     ]
    }
   ],
   "source": [
    "generate_ensembled_predictions_and_verify_results(files, \n",
    "                                                  generate_corr_heat_map=False, \n",
    "                                                  generate_csv=True, \n",
    "                                                  csv_file='kaggle_out_ensemble_model_3.csv')"
   ]
  },
  {
   "cell_type": "markdown",
   "metadata": {},
   "source": [
    "### Generate model that is ensemble of ensembles."
   ]
  },
  {
   "cell_type": "code",
   "execution_count": 111,
   "metadata": {},
   "outputs": [],
   "source": [
    "files = ['kaggle_out_ensemble_model_1.csv',\n",
    "         'kaggle_out_ensemble_model_2.csv',\n",
    "         'kaggle_out_ensemble_model_3.csv']\n"
   ]
  },
  {
   "cell_type": "code",
   "execution_count": 112,
   "metadata": {},
   "outputs": [
    {
     "name": "stdout",
     "output_type": "stream",
     "text": [
      "kaggle_ensemble_of_ensembles.csv\n"
     ]
    },
    {
     "data": {
      "text/html": [
       "<div>\n",
       "<style scoped>\n",
       "    .dataframe tbody tr th:only-of-type {\n",
       "        vertical-align: middle;\n",
       "    }\n",
       "\n",
       "    .dataframe tbody tr th {\n",
       "        vertical-align: top;\n",
       "    }\n",
       "\n",
       "    .dataframe thead th {\n",
       "        text-align: right;\n",
       "    }\n",
       "</style>\n",
       "<table border=\"1\" class=\"dataframe\">\n",
       "  <thead>\n",
       "    <tr style=\"text-align: right;\">\n",
       "      <th></th>\n",
       "      <th>Survived_or_not_model_1</th>\n",
       "      <th>Survived_or_not_model_2</th>\n",
       "      <th>Survived_or_not_model_3</th>\n",
       "    </tr>\n",
       "  </thead>\n",
       "  <tbody>\n",
       "    <tr>\n",
       "      <th>Survived_or_not_model_1</th>\n",
       "      <td>1.000000</td>\n",
       "      <td>0.847311</td>\n",
       "      <td>0.865445</td>\n",
       "    </tr>\n",
       "    <tr>\n",
       "      <th>Survived_or_not_model_2</th>\n",
       "      <td>0.847311</td>\n",
       "      <td>1.000000</td>\n",
       "      <td>0.937821</td>\n",
       "    </tr>\n",
       "    <tr>\n",
       "      <th>Survived_or_not_model_3</th>\n",
       "      <td>0.865445</td>\n",
       "      <td>0.937821</td>\n",
       "      <td>1.000000</td>\n",
       "    </tr>\n",
       "  </tbody>\n",
       "</table>\n",
       "</div>"
      ],
      "text/plain": [
       "                         Survived_or_not_model_1  Survived_or_not_model_2  \\\n",
       "Survived_or_not_model_1                 1.000000                 0.847311   \n",
       "Survived_or_not_model_2                 0.847311                 1.000000   \n",
       "Survived_or_not_model_3                 0.865445                 0.937821   \n",
       "\n",
       "                         Survived_or_not_model_3  \n",
       "Survived_or_not_model_1                 0.865445  \n",
       "Survived_or_not_model_2                 0.937821  \n",
       "Survived_or_not_model_3                 1.000000  "
      ]
     },
     "metadata": {},
     "output_type": "display_data"
    },
    {
     "name": "stdout",
     "output_type": "stream",
     "text": [
      "Success rate of model on test data is 0.809\n",
      "Number of passengers whose survivorship is to be predicted is 418\n",
      "\n",
      "Rel file is kaggle_out_ensemble_model_1.csv\n",
      "Number of entries with common prediction as that of the ensembled model is 396\n",
      "\n",
      "Rel file is kaggle_out_ensemble_model_2.csv\n",
      "Number of entries with common prediction as that of the ensembled model is 410\n",
      "\n",
      "Rel file is kaggle_out_ensemble_model_3.csv\n",
      "Number of entries with common prediction as that of the ensembled model is 414\n"
     ]
    }
   ],
   "source": [
    "generate_ensembled_predictions_and_verify_results(files, \n",
    "                                                  generate_corr_heat_map=False, \n",
    "                                                  generate_csv=True, \n",
    "                                                  csv_file='kaggle_ensemble_of_ensembles.csv')"
   ]
  }
 ],
 "metadata": {
  "kernelspec": {
   "display_name": "Python 3",
   "language": "python",
   "name": "python3"
  },
  "language_info": {
   "codemirror_mode": {
    "name": "ipython",
    "version": 3
   },
   "file_extension": ".py",
   "mimetype": "text/x-python",
   "name": "python",
   "nbconvert_exporter": "python",
   "pygments_lexer": "ipython3",
   "version": "3.6.4"
  }
 },
 "nbformat": 4,
 "nbformat_minor": 2
}
