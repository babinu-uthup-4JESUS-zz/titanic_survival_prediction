{
 "cells": [
  {
   "cell_type": "markdown",
   "metadata": {},
   "source": [
    "# Basic Overview\n",
    "This is a stab to see if Oscar's ideas listed as part of the comments [here](https://www.kaggle.com/aashita/xgboost-model-with-minimalistic-features) (regarding analysis of names using a machine learning algorithm) would work.\n",
    "\n",
    "The idea here is to see if a simple Count vectorization algorithm on the survived cases and not survived cases and classify a name as survived or not depending on how much the name has in common with the survived/not survived vocabulary.\n",
    "\n",
    "Comments/criticisms/appreciations are greatly accepted and appreciated. Do not be shy and send me an email at babinu@gmail.com !\n",
    "\n",
    "Source of data : https://www.kaggle.com/c/titanic/data"
   ]
  },
  {
   "cell_type": "code",
   "execution_count": 2,
   "metadata": {},
   "outputs": [],
   "source": [
    "import pandas as pd\n",
    "import numpy as np\n",
    "from sklearn.feature_extraction.text import TfidfVectorizer"
   ]
  },
  {
   "cell_type": "code",
   "execution_count": 3,
   "metadata": {},
   "outputs": [],
   "source": [
    "# Ha\n",
    "import os\n",
    "os.environ[\"KMP_DUPLICATE_LIB_OK\"]=\"TRUE\""
   ]
  },
  {
   "cell_type": "code",
   "execution_count": 4,
   "metadata": {},
   "outputs": [],
   "source": [
    "train_data = pd.read_csv(\"../input/train.csv\")\n",
    "test_data = pd.read_csv(\"../input/test_data_processed_correct.csv\")"
   ]
  },
  {
   "cell_type": "code",
   "execution_count": 5,
   "metadata": {},
   "outputs": [
    {
     "data": {
      "text/plain": [
       "array([0., 1.])"
      ]
     },
     "execution_count": 5,
     "metadata": {},
     "output_type": "execute_result"
    }
   ],
   "source": [
    "test_data.Survived.unique()"
   ]
  },
  {
   "cell_type": "code",
   "execution_count": 6,
   "metadata": {},
   "outputs": [],
   "source": [
    "from sklearn.feature_extraction.text import CountVectorizer"
   ]
  },
  {
   "cell_type": "code",
   "execution_count": 7,
   "metadata": {},
   "outputs": [
    {
     "data": {
      "text/plain": [
       "Index(['PassengerId', 'Survived', 'Pclass', 'Name', 'Sex', 'Age', 'SibSp',\n",
       "       'Parch', 'Ticket', 'Fare', 'Cabin', 'Embarked'],\n",
       "      dtype='object')"
      ]
     },
     "execution_count": 7,
     "metadata": {},
     "output_type": "execute_result"
    }
   ],
   "source": [
    "train_data.columns"
   ]
  },
  {
   "cell_type": "code",
   "execution_count": 8,
   "metadata": {},
   "outputs": [
    {
     "data": {
      "text/plain": [
       "array(['Braund, Mr. Owen Harris',\n",
       "       'Cumings, Mrs. John Bradley (Florence Briggs Thayer)',\n",
       "       'Heikkinen, Miss. Laina',\n",
       "       'Futrelle, Mrs. Jacques Heath (Lily May Peel)',\n",
       "       'Allen, Mr. William Henry', 'Moran, Mr. James',\n",
       "       'McCarthy, Mr. Timothy J', 'Palsson, Master. Gosta Leonard',\n",
       "       'Johnson, Mrs. Oscar W (Elisabeth Vilhelmina Berg)',\n",
       "       'Nasser, Mrs. Nicholas (Adele Achem)',\n",
       "       'Sandstrom, Miss. Marguerite Rut', 'Bonnell, Miss. Elizabeth',\n",
       "       'Saundercock, Mr. William Henry', 'Andersson, Mr. Anders Johan',\n",
       "       'Vestrom, Miss. Hulda Amanda Adolfina',\n",
       "       'Hewlett, Mrs. (Mary D Kingcome) ', 'Rice, Master. Eugene',\n",
       "       'Williams, Mr. Charles Eugene',\n",
       "       'Vander Planke, Mrs. Julius (Emelia Maria Vandemoortele)',\n",
       "       'Masselmani, Mrs. Fatima', 'Fynney, Mr. Joseph J',\n",
       "       'Beesley, Mr. Lawrence', 'McGowan, Miss. Anna \"Annie\"',\n",
       "       'Sloper, Mr. William Thompson', 'Palsson, Miss. Torborg Danira',\n",
       "       'Asplund, Mrs. Carl Oscar (Selma Augusta Emilia Johansson)',\n",
       "       'Emir, Mr. Farred Chehab', 'Fortune, Mr. Charles Alexander',\n",
       "       'O\\'Dwyer, Miss. Ellen \"Nellie\"', 'Todoroff, Mr. Lalio',\n",
       "       'Uruchurtu, Don. Manuel E',\n",
       "       'Spencer, Mrs. William Augustus (Marie Eugenie)',\n",
       "       'Glynn, Miss. Mary Agatha', 'Wheadon, Mr. Edward H',\n",
       "       'Meyer, Mr. Edgar Joseph', 'Holverson, Mr. Alexander Oskar',\n",
       "       'Mamee, Mr. Hanna', 'Cann, Mr. Ernest Charles',\n",
       "       'Vander Planke, Miss. Augusta Maria',\n",
       "       'Nicola-Yarred, Miss. Jamila',\n",
       "       'Ahlin, Mrs. Johan (Johanna Persdotter Larsson)',\n",
       "       'Turpin, Mrs. William John Robert (Dorothy Ann Wonnacott)',\n",
       "       'Kraeff, Mr. Theodor', 'Laroche, Miss. Simonne Marie Anne Andree',\n",
       "       'Devaney, Miss. Margaret Delia', 'Rogers, Mr. William John',\n",
       "       'Lennon, Mr. Denis', \"O'Driscoll, Miss. Bridget\",\n",
       "       'Samaan, Mr. Youssef',\n",
       "       'Arnold-Franchi, Mrs. Josef (Josefine Franchi)',\n",
       "       'Panula, Master. Juha Niilo', 'Nosworthy, Mr. Richard Cater',\n",
       "       'Harper, Mrs. Henry Sleeper (Myna Haxtun)',\n",
       "       'Faunthorpe, Mrs. Lizzie (Elizabeth Anne Wilkinson)',\n",
       "       'Ostby, Mr. Engelhart Cornelius', 'Woolner, Mr. Hugh',\n",
       "       'Rugg, Miss. Emily', 'Novel, Mr. Mansouer',\n",
       "       'West, Miss. Constance Mirium',\n",
       "       'Goodwin, Master. William Frederick', 'Sirayanian, Mr. Orsen',\n",
       "       'Icard, Miss. Amelie', 'Harris, Mr. Henry Birkhardt',\n",
       "       'Skoog, Master. Harald', 'Stewart, Mr. Albert A',\n",
       "       'Moubarek, Master. Gerios', 'Nye, Mrs. (Elizabeth Ramell)',\n",
       "       'Crease, Mr. Ernest James', 'Andersson, Miss. Erna Alexandra',\n",
       "       'Kink, Mr. Vincenz', 'Jenkin, Mr. Stephen Curnow',\n",
       "       'Goodwin, Miss. Lillian Amy', 'Hood, Mr. Ambrose Jr',\n",
       "       'Chronopoulos, Mr. Apostolos', 'Bing, Mr. Lee',\n",
       "       'Moen, Mr. Sigurd Hansen', 'Staneff, Mr. Ivan',\n",
       "       'Moutal, Mr. Rahamin Haim', 'Caldwell, Master. Alden Gates',\n",
       "       'Dowdell, Miss. Elizabeth', 'Waelens, Mr. Achille',\n",
       "       'Sheerlinck, Mr. Jan Baptist', 'McDermott, Miss. Brigdet Delia',\n",
       "       'Carrau, Mr. Francisco M', 'Ilett, Miss. Bertha',\n",
       "       'Backstrom, Mrs. Karl Alfred (Maria Mathilda Gustafsson)',\n",
       "       'Ford, Mr. William Neal', 'Slocovski, Mr. Selman Francis',\n",
       "       'Fortune, Miss. Mabel Helen', 'Celotti, Mr. Francesco',\n",
       "       'Christmann, Mr. Emil', 'Andreasson, Mr. Paul Edvin',\n",
       "       'Chaffee, Mr. Herbert Fuller', 'Dean, Mr. Bertram Frank',\n",
       "       'Coxon, Mr. Daniel', 'Shorney, Mr. Charles Joseph',\n",
       "       'Goldschmidt, Mr. George B', 'Greenfield, Mr. William Bertram',\n",
       "       'Doling, Mrs. John T (Ada Julia Bone)', 'Kantor, Mr. Sinai',\n",
       "       'Petranec, Miss. Matilda', 'Petroff, Mr. Pastcho (\"Pentcho\")',\n",
       "       'White, Mr. Richard Frasar', 'Johansson, Mr. Gustaf Joel',\n",
       "       'Gustafsson, Mr. Anders Vilhelm', 'Mionoff, Mr. Stoytcho',\n",
       "       'Salkjelsvik, Miss. Anna Kristine', 'Moss, Mr. Albert Johan',\n",
       "       'Rekic, Mr. Tido', 'Moran, Miss. Bertha',\n",
       "       'Porter, Mr. Walter Chamberlain', 'Zabour, Miss. Hileni',\n",
       "       'Barton, Mr. David John', 'Jussila, Miss. Katriina',\n",
       "       'Attalah, Miss. Malake', 'Pekoniemi, Mr. Edvard',\n",
       "       'Connors, Mr. Patrick', 'Turpin, Mr. William John Robert',\n",
       "       'Baxter, Mr. Quigg Edmond', 'Andersson, Miss. Ellis Anna Maria',\n",
       "       'Hickman, Mr. Stanley George', 'Moore, Mr. Leonard Charles',\n",
       "       'Nasser, Mr. Nicholas', 'Webber, Miss. Susan',\n",
       "       'White, Mr. Percival Wayland', 'Nicola-Yarred, Master. Elias',\n",
       "       'McMahon, Mr. Martin', 'Madsen, Mr. Fridtjof Arne',\n",
       "       'Peter, Miss. Anna', 'Ekstrom, Mr. Johan', 'Drazenoic, Mr. Jozef',\n",
       "       'Coelho, Mr. Domingos Fernandeo',\n",
       "       'Robins, Mrs. Alexander A (Grace Charity Laury)',\n",
       "       'Weisz, Mrs. Leopold (Mathilde Francoise Pede)',\n",
       "       'Sobey, Mr. Samuel James Hayden', 'Richard, Mr. Emile',\n",
       "       'Newsom, Miss. Helen Monypeny', 'Futrelle, Mr. Jacques Heath',\n",
       "       'Osen, Mr. Olaf Elon', 'Giglio, Mr. Victor',\n",
       "       'Boulos, Mrs. Joseph (Sultana)', 'Nysten, Miss. Anna Sofia',\n",
       "       'Hakkarainen, Mrs. Pekka Pietari (Elin Matilda Dolck)',\n",
       "       'Burke, Mr. Jeremiah', 'Andrew, Mr. Edgardo Samuel',\n",
       "       'Nicholls, Mr. Joseph Charles',\n",
       "       'Andersson, Mr. August Edvard (\"Wennerstrom\")',\n",
       "       'Ford, Miss. Robina Maggie \"Ruby\"',\n",
       "       'Navratil, Mr. Michel (\"Louis M Hoffman\")',\n",
       "       'Byles, Rev. Thomas Roussel Davids', 'Bateman, Rev. Robert James',\n",
       "       'Pears, Mrs. Thomas (Edith Wearne)', 'Meo, Mr. Alfonzo',\n",
       "       'van Billiard, Mr. Austin Blyler', 'Olsen, Mr. Ole Martin',\n",
       "       'Williams, Mr. Charles Duane', 'Gilnagh, Miss. Katherine \"Katie\"',\n",
       "       'Corn, Mr. Harry', 'Smiljanic, Mr. Mile',\n",
       "       'Sage, Master. Thomas Henry', 'Cribb, Mr. John Hatfield',\n",
       "       'Watt, Mrs. James (Elizabeth \"Bessie\" Inglis Milne)',\n",
       "       'Bengtsson, Mr. John Viktor', 'Calic, Mr. Jovo',\n",
       "       'Panula, Master. Eino Viljami',\n",
       "       'Goldsmith, Master. Frank John William \"Frankie\"',\n",
       "       'Chibnall, Mrs. (Edith Martha Bowerman)',\n",
       "       'Skoog, Mrs. William (Anna Bernhardina Karlsson)',\n",
       "       'Baumann, Mr. John D', 'Ling, Mr. Lee',\n",
       "       'Van der hoef, Mr. Wyckoff', 'Rice, Master. Arthur',\n",
       "       'Johnson, Miss. Eleanor Ileen', 'Sivola, Mr. Antti Wilhelm',\n",
       "       'Smith, Mr. James Clinch', 'Klasen, Mr. Klas Albin',\n",
       "       'Lefebre, Master. Henry Forbes', 'Isham, Miss. Ann Elizabeth',\n",
       "       'Hale, Mr. Reginald', 'Leonard, Mr. Lionel',\n",
       "       'Sage, Miss. Constance Gladys', 'Pernot, Mr. Rene',\n",
       "       'Asplund, Master. Clarence Gustaf Hugo',\n",
       "       'Becker, Master. Richard F', 'Kink-Heilmann, Miss. Luise Gretchen',\n",
       "       'Rood, Mr. Hugh Roscoe',\n",
       "       'O\\'Brien, Mrs. Thomas (Johanna \"Hannah\" Godfrey)',\n",
       "       'Romaine, Mr. Charles Hallace (\"Mr C Rolmane\")',\n",
       "       'Bourke, Mr. John', 'Turcin, Mr. Stjepan', 'Pinsky, Mrs. (Rosa)',\n",
       "       'Carbines, Mr. William',\n",
       "       'Andersen-Jensen, Miss. Carla Christine Nielsine',\n",
       "       'Navratil, Master. Michel M',\n",
       "       'Brown, Mrs. James Joseph (Margaret Tobin)',\n",
       "       'Lurette, Miss. Elise', 'Mernagh, Mr. Robert',\n",
       "       'Olsen, Mr. Karl Siegwart Andreas',\n",
       "       'Madigan, Miss. Margaret \"Maggie\"',\n",
       "       'Yrois, Miss. Henriette (\"Mrs Harbeck\")',\n",
       "       'Vande Walle, Mr. Nestor Cyriel', 'Sage, Mr. Frederick',\n",
       "       'Johanson, Mr. Jakob Alfred', 'Youseff, Mr. Gerious',\n",
       "       'Cohen, Mr. Gurshon \"Gus\"', 'Strom, Miss. Telma Matilda',\n",
       "       'Backstrom, Mr. Karl Alfred', 'Albimona, Mr. Nassef Cassem',\n",
       "       'Carr, Miss. Helen \"Ellen\"', 'Blank, Mr. Henry', 'Ali, Mr. Ahmed',\n",
       "       'Cameron, Miss. Clear Annie', 'Perkin, Mr. John Henry',\n",
       "       'Givard, Mr. Hans Kristensen', 'Kiernan, Mr. Philip',\n",
       "       'Newell, Miss. Madeleine', 'Honkanen, Miss. Eliina',\n",
       "       'Jacobsohn, Mr. Sidney Samuel', 'Bazzani, Miss. Albina',\n",
       "       'Harris, Mr. Walter', 'Sunderland, Mr. Victor Francis',\n",
       "       'Bracken, Mr. James H', 'Green, Mr. George Henry',\n",
       "       'Nenkoff, Mr. Christo', 'Hoyt, Mr. Frederick Maxfield',\n",
       "       'Berglund, Mr. Karl Ivar Sven', 'Mellors, Mr. William John',\n",
       "       'Lovell, Mr. John Hall (\"Henry\")', 'Fahlstrom, Mr. Arne Jonas',\n",
       "       'Lefebre, Miss. Mathilde',\n",
       "       'Harris, Mrs. Henry Birkhardt (Irene Wallach)',\n",
       "       'Larsson, Mr. Bengt Edvin', 'Sjostedt, Mr. Ernst Adolf',\n",
       "       'Asplund, Miss. Lillian Gertrud',\n",
       "       'Leyson, Mr. Robert William Norman',\n",
       "       'Harknett, Miss. Alice Phoebe', 'Hold, Mr. Stephen',\n",
       "       'Collyer, Miss. Marjorie \"Lottie\"',\n",
       "       'Pengelly, Mr. Frederick William', 'Hunt, Mr. George Henry',\n",
       "       'Zabour, Miss. Thamine', 'Murphy, Miss. Katherine \"Kate\"',\n",
       "       'Coleridge, Mr. Reginald Charles', 'Maenpaa, Mr. Matti Alexanteri',\n",
       "       'Attalah, Mr. Sleiman', 'Minahan, Dr. William Edward',\n",
       "       'Lindahl, Miss. Agda Thorilda Viktoria',\n",
       "       'Hamalainen, Mrs. William (Anna)', 'Beckwith, Mr. Richard Leonard',\n",
       "       'Carter, Rev. Ernest Courtenay', 'Reed, Mr. James George',\n",
       "       'Strom, Mrs. Wilhelm (Elna Matilda Persson)',\n",
       "       'Stead, Mr. William Thomas', 'Lobb, Mr. William Arthur',\n",
       "       'Rosblom, Mrs. Viktor (Helena Wilhelmina)',\n",
       "       'Touma, Mrs. Darwis (Hanne Youssef Razi)',\n",
       "       'Thorne, Mrs. Gertrude Maybelle', 'Cherry, Miss. Gladys',\n",
       "       'Ward, Miss. Anna', 'Parrish, Mrs. (Lutie Davis)',\n",
       "       'Smith, Mr. Thomas', 'Asplund, Master. Edvin Rojj Felix',\n",
       "       'Taussig, Mr. Emil', 'Harrison, Mr. William', 'Henry, Miss. Delia',\n",
       "       'Reeves, Mr. David', 'Panula, Mr. Ernesti Arvid',\n",
       "       'Persson, Mr. Ernst Ulrik',\n",
       "       'Graham, Mrs. William Thompson (Edith Junkins)',\n",
       "       'Bissette, Miss. Amelia', 'Cairns, Mr. Alexander',\n",
       "       'Tornquist, Mr. William Henry',\n",
       "       'Mellinger, Mrs. (Elizabeth Anne Maidment)',\n",
       "       'Natsch, Mr. Charles H', 'Healy, Miss. Hanora \"Nora\"',\n",
       "       'Andrews, Miss. Kornelia Theodosia',\n",
       "       'Lindblom, Miss. Augusta Charlotta', 'Parkes, Mr. Francis \"Frank\"',\n",
       "       'Rice, Master. Eric', 'Abbott, Mrs. Stanton (Rosa Hunt)',\n",
       "       'Duane, Mr. Frank', 'Olsson, Mr. Nils Johan Goransson',\n",
       "       'de Pelsmaeker, Mr. Alfons', 'Dorking, Mr. Edward Arthur',\n",
       "       'Smith, Mr. Richard William', 'Stankovic, Mr. Ivan',\n",
       "       'de Mulder, Mr. Theodore', 'Naidenoff, Mr. Penko',\n",
       "       'Hosono, Mr. Masabumi', 'Connolly, Miss. Kate',\n",
       "       'Barber, Miss. Ellen \"Nellie\"',\n",
       "       'Bishop, Mrs. Dickinson H (Helen Walton)',\n",
       "       'Levy, Mr. Rene Jacques', 'Haas, Miss. Aloisia',\n",
       "       'Mineff, Mr. Ivan', 'Lewy, Mr. Ervin G', 'Hanna, Mr. Mansour',\n",
       "       'Allison, Miss. Helen Loraine', 'Saalfeld, Mr. Adolphe',\n",
       "       'Baxter, Mrs. James (Helene DeLaudeniere Chaput)',\n",
       "       'Kelly, Miss. Anna Katherine \"Annie Kate\"', 'McCoy, Mr. Bernard',\n",
       "       'Johnson, Mr. William Cahoone Jr', 'Keane, Miss. Nora A',\n",
       "       'Williams, Mr. Howard Hugh \"Harry\"',\n",
       "       'Allison, Master. Hudson Trevor', 'Fleming, Miss. Margaret',\n",
       "       'Penasco y Castellana, Mrs. Victor de Satode (Maria Josefa Perez de Soto y Vallejo)',\n",
       "       'Abelson, Mr. Samuel', 'Francatelli, Miss. Laura Mabel',\n",
       "       'Hays, Miss. Margaret Bechstein', 'Ryerson, Miss. Emily Borie',\n",
       "       'Lahtinen, Mrs. William (Anna Sylfven)', 'Hendekovic, Mr. Ignjac',\n",
       "       'Hart, Mr. Benjamin', 'Nilsson, Miss. Helmina Josefina',\n",
       "       'Kantor, Mrs. Sinai (Miriam Sternin)', 'Moraweck, Dr. Ernest',\n",
       "       'Wick, Miss. Mary Natalie',\n",
       "       'Spedden, Mrs. Frederic Oakley (Margaretta Corning Stone)',\n",
       "       'Dennis, Mr. Samuel', 'Danoff, Mr. Yoto',\n",
       "       'Slayter, Miss. Hilda Mary',\n",
       "       'Caldwell, Mrs. Albert Francis (Sylvia Mae Harbaugh)',\n",
       "       'Sage, Mr. George John Jr', 'Young, Miss. Marie Grice',\n",
       "       'Nysveen, Mr. Johan Hansen', 'Ball, Mrs. (Ada E Hall)',\n",
       "       'Goldsmith, Mrs. Frank John (Emily Alice Brown)',\n",
       "       'Hippach, Miss. Jean Gertrude', 'McCoy, Miss. Agnes',\n",
       "       'Partner, Mr. Austen', 'Graham, Mr. George Edward',\n",
       "       'Vander Planke, Mr. Leo Edmondus',\n",
       "       'Frauenthal, Mrs. Henry William (Clara Heinsheimer)',\n",
       "       'Denkoff, Mr. Mitto', 'Pears, Mr. Thomas Clinton',\n",
       "       'Burns, Miss. Elizabeth Margaret', 'Dahl, Mr. Karl Edwart',\n",
       "       'Blackwell, Mr. Stephen Weart', 'Navratil, Master. Edmond Roger',\n",
       "       'Fortune, Miss. Alice Elizabeth', 'Collander, Mr. Erik Gustaf',\n",
       "       'Sedgwick, Mr. Charles Frederick Waddington',\n",
       "       'Fox, Mr. Stanley Hubert', 'Brown, Miss. Amelia \"Mildred\"',\n",
       "       'Smith, Miss. Marion Elsie',\n",
       "       'Davison, Mrs. Thomas Henry (Mary E Finck)',\n",
       "       'Coutts, Master. William Loch \"William\"', 'Dimic, Mr. Jovan',\n",
       "       'Odahl, Mr. Nils Martin', 'Williams-Lambert, Mr. Fletcher Fellows',\n",
       "       'Elias, Mr. Tannous', 'Arnold-Franchi, Mr. Josef',\n",
       "       'Yousif, Mr. Wazli', 'Vanden Steen, Mr. Leo Peter',\n",
       "       'Bowerman, Miss. Elsie Edith', 'Funk, Miss. Annie Clemmer',\n",
       "       'McGovern, Miss. Mary', 'Mockler, Miss. Helen Mary \"Ellie\"',\n",
       "       'Skoog, Mr. Wilhelm', 'del Carlo, Mr. Sebastiano',\n",
       "       'Barbara, Mrs. (Catherine David)', 'Asim, Mr. Adola',\n",
       "       \"O'Brien, Mr. Thomas\", 'Adahl, Mr. Mauritz Nils Martin',\n",
       "       'Warren, Mrs. Frank Manley (Anna Sophia Atkinson)',\n",
       "       'Moussa, Mrs. (Mantoura Boulos)', 'Jermyn, Miss. Annie',\n",
       "       'Aubart, Mme. Leontine Pauline', 'Harder, Mr. George Achilles',\n",
       "       'Wiklund, Mr. Jakob Alfred', 'Beavan, Mr. William Thomas',\n",
       "       'Ringhini, Mr. Sante', 'Palsson, Miss. Stina Viola',\n",
       "       'Meyer, Mrs. Edgar Joseph (Leila Saks)',\n",
       "       'Landergren, Miss. Aurora Adelia', 'Widener, Mr. Harry Elkins',\n",
       "       'Betros, Mr. Tannous', 'Gustafsson, Mr. Karl Gideon',\n",
       "       'Bidois, Miss. Rosalie', 'Nakid, Miss. Maria (\"Mary\")',\n",
       "       'Tikkanen, Mr. Juho',\n",
       "       'Holverson, Mrs. Alexander Oskar (Mary Aline Towner)',\n",
       "       'Plotcharsky, Mr. Vasil', 'Davies, Mr. Charles Henry',\n",
       "       'Goodwin, Master. Sidney Leonard', 'Buss, Miss. Kate',\n",
       "       'Sadlier, Mr. Matthew', 'Lehmann, Miss. Bertha',\n",
       "       'Carter, Mr. William Ernest', 'Jansson, Mr. Carl Olof',\n",
       "       'Gustafsson, Mr. Johan Birger', 'Newell, Miss. Marjorie',\n",
       "       'Sandstrom, Mrs. Hjalmar (Agnes Charlotta Bengtsson)',\n",
       "       'Johansson, Mr. Erik', 'Olsson, Miss. Elina',\n",
       "       'McKane, Mr. Peter David', 'Pain, Dr. Alfred',\n",
       "       'Trout, Mrs. William H (Jessie L)', 'Niskanen, Mr. Juha',\n",
       "       'Adams, Mr. John', 'Jussila, Miss. Mari Aina',\n",
       "       'Hakkarainen, Mr. Pekka Pietari', 'Oreskovic, Miss. Marija',\n",
       "       'Gale, Mr. Shadrach', 'Widegren, Mr. Carl/Charles Peter',\n",
       "       'Richards, Master. William Rowe',\n",
       "       'Birkeland, Mr. Hans Martin Monsen', 'Lefebre, Miss. Ida',\n",
       "       'Sdycoff, Mr. Todor', 'Hart, Mr. Henry', 'Minahan, Miss. Daisy E',\n",
       "       'Cunningham, Mr. Alfred Fleming', 'Sundman, Mr. Johan Julian',\n",
       "       'Meek, Mrs. Thomas (Annie Louise Rowley)',\n",
       "       'Drew, Mrs. James Vivian (Lulu Thorne Christian)',\n",
       "       'Silven, Miss. Lyyli Karoliina', 'Matthews, Mr. William John',\n",
       "       'Van Impe, Miss. Catharina', 'Gheorgheff, Mr. Stanio',\n",
       "       'Charters, Mr. David', 'Zimmerman, Mr. Leo',\n",
       "       'Danbom, Mrs. Ernst Gilbert (Anna Sigrid Maria Brogren)',\n",
       "       'Rosblom, Mr. Viktor Richard', 'Wiseman, Mr. Phillippe',\n",
       "       'Clarke, Mrs. Charles V (Ada Maria Winfield)',\n",
       "       'Phillips, Miss. Kate Florence (\"Mrs Kate Louise Phillips Marshall\")',\n",
       "       'Flynn, Mr. James', 'Pickard, Mr. Berk (Berk Trembisky)',\n",
       "       'Bjornstrom-Steffansson, Mr. Mauritz Hakan',\n",
       "       'Thorneycroft, Mrs. Percival (Florence Kate White)',\n",
       "       'Louch, Mrs. Charles Alexander (Alice Adelaide Slow)',\n",
       "       'Kallio, Mr. Nikolai Erland', 'Silvey, Mr. William Baird',\n",
       "       'Carter, Miss. Lucile Polk',\n",
       "       'Ford, Miss. Doolina Margaret \"Daisy\"',\n",
       "       'Richards, Mrs. Sidney (Emily Hocking)', 'Fortune, Mr. Mark',\n",
       "       'Kvillner, Mr. Johan Henrik Johannesson',\n",
       "       'Hart, Mrs. Benjamin (Esther Ada Bloomfield)', 'Hampe, Mr. Leon',\n",
       "       'Petterson, Mr. Johan Emil', 'Reynaldo, Ms. Encarnacion',\n",
       "       'Johannesen-Bratthammer, Mr. Bernt', 'Dodge, Master. Washington',\n",
       "       'Mellinger, Miss. Madeleine Violet', 'Seward, Mr. Frederic Kimber',\n",
       "       'Baclini, Miss. Marie Catherine', 'Peuchen, Major. Arthur Godfrey',\n",
       "       'West, Mr. Edwy Arthur', 'Hagland, Mr. Ingvald Olai Olsen',\n",
       "       'Foreman, Mr. Benjamin Laventall', 'Goldenberg, Mr. Samuel L',\n",
       "       'Peduzzi, Mr. Joseph', 'Jalsevac, Mr. Ivan',\n",
       "       'Millet, Mr. Francis Davis', 'Kenyon, Mrs. Frederick R (Marion)',\n",
       "       'Toomey, Miss. Ellen', \"O'Connor, Mr. Maurice\",\n",
       "       'Anderson, Mr. Harry', 'Morley, Mr. William', 'Gee, Mr. Arthur H',\n",
       "       'Milling, Mr. Jacob Christian', 'Maisner, Mr. Simon',\n",
       "       'Goncalves, Mr. Manuel Estanslas', 'Campbell, Mr. William',\n",
       "       'Smart, Mr. John Montgomery', 'Scanlan, Mr. James',\n",
       "       'Baclini, Miss. Helene Barbara', 'Keefe, Mr. Arthur',\n",
       "       'Cacic, Mr. Luka', 'West, Mrs. Edwy Arthur (Ada Mary Worth)',\n",
       "       'Jerwan, Mrs. Amin S (Marie Marthe Thuillard)',\n",
       "       'Strandberg, Miss. Ida Sofia', 'Clifford, Mr. George Quincy',\n",
       "       'Renouf, Mr. Peter Henry', 'Braund, Mr. Lewis Richard',\n",
       "       'Karlsson, Mr. Nils August', 'Hirvonen, Miss. Hildur E',\n",
       "       'Goodwin, Master. Harold Victor',\n",
       "       'Frost, Mr. Anthony Wood \"Archie\"', 'Rouse, Mr. Richard Henry',\n",
       "       'Turkula, Mrs. (Hedwig)', 'Bishop, Mr. Dickinson H',\n",
       "       'Lefebre, Miss. Jeannie',\n",
       "       'Hoyt, Mrs. Frederick Maxfield (Jane Anne Forby)',\n",
       "       'Kent, Mr. Edward Austin', 'Somerton, Mr. Francis William',\n",
       "       'Coutts, Master. Eden Leslie \"Neville\"',\n",
       "       'Hagland, Mr. Konrad Mathias Reiersen', 'Windelov, Mr. Einar',\n",
       "       'Molson, Mr. Harry Markland', 'Artagaveytia, Mr. Ramon',\n",
       "       'Stanley, Mr. Edward Roland', 'Yousseff, Mr. Gerious',\n",
       "       'Eustis, Miss. Elizabeth Mussey',\n",
       "       'Shellard, Mr. Frederick William',\n",
       "       'Allison, Mrs. Hudson J C (Bessie Waldo Daniels)',\n",
       "       'Svensson, Mr. Olof', 'Calic, Mr. Petar', 'Canavan, Miss. Mary',\n",
       "       \"O'Sullivan, Miss. Bridget Mary\", 'Laitinen, Miss. Kristina Sofia',\n",
       "       'Maioni, Miss. Roberta',\n",
       "       'Penasco y Castellana, Mr. Victor de Satode',\n",
       "       'Quick, Mrs. Frederick Charles (Jane Richards)',\n",
       "       'Bradley, Mr. George (\"George Arthur Brayton\")',\n",
       "       'Olsen, Mr. Henry Margido', 'Lang, Mr. Fang',\n",
       "       'Daly, Mr. Eugene Patrick', 'Webber, Mr. James',\n",
       "       'McGough, Mr. James Robert',\n",
       "       'Rothschild, Mrs. Martin (Elizabeth L. Barrett)',\n",
       "       'Coleff, Mr. Satio', 'Walker, Mr. William Anderson',\n",
       "       'Lemore, Mrs. (Amelia Milley)', 'Ryan, Mr. Patrick',\n",
       "       'Angle, Mrs. William A (Florence \"Mary\" Agnes Hughes)',\n",
       "       'Pavlovic, Mr. Stefo', 'Perreault, Miss. Anne', 'Vovk, Mr. Janko',\n",
       "       'Lahoud, Mr. Sarkis',\n",
       "       'Hippach, Mrs. Louis Albert (Ida Sophia Fischer)',\n",
       "       'Kassem, Mr. Fared', 'Farrell, Mr. James', 'Ridsdale, Miss. Lucy',\n",
       "       'Farthing, Mr. John', 'Salonen, Mr. Johan Werner',\n",
       "       'Hocking, Mr. Richard George', 'Quick, Miss. Phyllis May',\n",
       "       'Toufik, Mr. Nakli', 'Elias, Mr. Joseph Jr',\n",
       "       'Peter, Mrs. Catherine (Catherine Rizk)', 'Cacic, Miss. Marija',\n",
       "       'Hart, Miss. Eva Miriam', 'Butt, Major. Archibald Willingham',\n",
       "       'LeRoy, Miss. Bertha', 'Risien, Mr. Samuel Beard',\n",
       "       'Frolicher, Miss. Hedwig Margaritha', 'Crosby, Miss. Harriet R',\n",
       "       'Andersson, Miss. Ingeborg Constanzia',\n",
       "       'Andersson, Miss. Sigrid Elisabeth', 'Beane, Mr. Edward',\n",
       "       'Douglas, Mr. Walter Donald', 'Nicholson, Mr. Arthur Ernest',\n",
       "       'Beane, Mrs. Edward (Ethel Clarke)', 'Padro y Manent, Mr. Julian',\n",
       "       'Goldsmith, Mr. Frank John', 'Davies, Master. John Morgan Jr',\n",
       "       'Thayer, Mr. John Borland Jr', 'Sharp, Mr. Percival James R',\n",
       "       \"O'Brien, Mr. Timothy\", 'Leeni, Mr. Fahim (\"Philip Zenni\")',\n",
       "       'Ohman, Miss. Velin', 'Wright, Mr. George',\n",
       "       'Duff Gordon, Lady. (Lucille Christiana Sutherland) (\"Mrs Morgan\")',\n",
       "       'Robbins, Mr. Victor', 'Taussig, Mrs. Emil (Tillie Mandelbaum)',\n",
       "       'de Messemaeker, Mrs. Guillaume Joseph (Emma)',\n",
       "       'Morrow, Mr. Thomas Rowan', 'Sivic, Mr. Husein',\n",
       "       'Norman, Mr. Robert Douglas', 'Simmons, Mr. John',\n",
       "       'Meanwell, Miss. (Marion Ogden)', 'Davies, Mr. Alfred J',\n",
       "       'Stoytcheff, Mr. Ilia',\n",
       "       'Palsson, Mrs. Nils (Alma Cornelia Berglund)',\n",
       "       'Doharr, Mr. Tannous', 'Jonsson, Mr. Carl', 'Harris, Mr. George',\n",
       "       'Appleton, Mrs. Edward Dale (Charlotte Lamson)',\n",
       "       'Flynn, Mr. John Irwin (\"Irving\")', 'Kelly, Miss. Mary',\n",
       "       'Rush, Mr. Alfred George John', 'Patchett, Mr. George',\n",
       "       'Garside, Miss. Ethel',\n",
       "       'Silvey, Mrs. William Baird (Alice Munger)',\n",
       "       'Caram, Mrs. Joseph (Maria Elias)', 'Jussila, Mr. Eiriik',\n",
       "       'Christy, Miss. Julie Rachel',\n",
       "       'Thayer, Mrs. John Borland (Marian Longstreth Morris)',\n",
       "       'Downton, Mr. William James', 'Ross, Mr. John Hugo',\n",
       "       'Paulner, Mr. Uscher', 'Taussig, Miss. Ruth',\n",
       "       'Jarvis, Mr. John Denzil', 'Frolicher-Stehli, Mr. Maxmillian',\n",
       "       'Gilinski, Mr. Eliezer', 'Murdlin, Mr. Joseph',\n",
       "       'Rintamaki, Mr. Matti',\n",
       "       'Stephenson, Mrs. Walter Bertram (Martha Eustis)',\n",
       "       'Elsbury, Mr. William James', 'Bourke, Miss. Mary',\n",
       "       'Chapman, Mr. John Henry', 'Van Impe, Mr. Jean Baptiste',\n",
       "       'Leitch, Miss. Jessie Wills', 'Johnson, Mr. Alfred',\n",
       "       'Boulos, Mr. Hanna',\n",
       "       'Duff Gordon, Sir. Cosmo Edmund (\"Mr Morgan\")',\n",
       "       'Jacobsohn, Mrs. Sidney Samuel (Amy Frances Christy)',\n",
       "       'Slabenoff, Mr. Petco', 'Harrington, Mr. Charles H',\n",
       "       'Torber, Mr. Ernst William', 'Homer, Mr. Harry (\"Mr E Haven\")',\n",
       "       'Lindell, Mr. Edvard Bengtsson', 'Karaic, Mr. Milan',\n",
       "       'Daniel, Mr. Robert Williams',\n",
       "       'Laroche, Mrs. Joseph (Juliette Marie Louise Lafargue)',\n",
       "       'Shutes, Miss. Elizabeth W',\n",
       "       'Andersson, Mrs. Anders Johan (Alfrida Konstantia Brogren)',\n",
       "       'Jardin, Mr. Jose Neto', 'Murphy, Miss. Margaret Jane',\n",
       "       'Horgan, Mr. John', 'Brocklebank, Mr. William Alfred',\n",
       "       'Herman, Miss. Alice', 'Danbom, Mr. Ernst Gilbert',\n",
       "       'Lobb, Mrs. William Arthur (Cordelia K Stanlick)',\n",
       "       'Becker, Miss. Marion Louise', 'Gavey, Mr. Lawrence',\n",
       "       'Yasbeck, Mr. Antoni', 'Kimball, Mr. Edwin Nelson Jr',\n",
       "       'Nakid, Mr. Sahid', 'Hansen, Mr. Henry Damsgaard',\n",
       "       'Bowen, Mr. David John \"Dai\"', 'Sutton, Mr. Frederick',\n",
       "       'Kirkland, Rev. Charles Leonard', 'Longley, Miss. Gretchen Fiske',\n",
       "       'Bostandyeff, Mr. Guentcho', \"O'Connell, Mr. Patrick D\",\n",
       "       'Barkworth, Mr. Algernon Henry Wilson',\n",
       "       'Lundahl, Mr. Johan Svensson', 'Stahelin-Maeglin, Dr. Max',\n",
       "       'Parr, Mr. William Henry Marsh', 'Skoog, Miss. Mabel',\n",
       "       'Davis, Miss. Mary', 'Leinonen, Mr. Antti Gustaf',\n",
       "       'Collyer, Mr. Harvey', 'Panula, Mrs. Juha (Maria Emilia Ojala)',\n",
       "       'Thorneycroft, Mr. Percival', 'Jensen, Mr. Hans Peder',\n",
       "       'Sagesser, Mlle. Emma', 'Skoog, Miss. Margit Elizabeth',\n",
       "       'Foo, Mr. Choong', 'Baclini, Miss. Eugenie',\n",
       "       'Harper, Mr. Henry Sleeper', 'Cor, Mr. Liudevit',\n",
       "       'Simonius-Blumer, Col. Oberst Alfons', 'Willey, Mr. Edward',\n",
       "       'Stanley, Miss. Amy Zillah Elsie', 'Mitkoff, Mr. Mito',\n",
       "       'Doling, Miss. Elsie', 'Kalvik, Mr. Johannes Halvorsen',\n",
       "       'O\\'Leary, Miss. Hanora \"Norah\"', 'Hegarty, Miss. Hanora \"Nora\"',\n",
       "       'Hickman, Mr. Leonard Mark', 'Radeff, Mr. Alexander',\n",
       "       'Bourke, Mrs. John (Catherine)', 'Eitemiller, Mr. George Floyd',\n",
       "       'Newell, Mr. Arthur Webster', 'Frauenthal, Dr. Henry William',\n",
       "       'Badt, Mr. Mohamed', 'Colley, Mr. Edward Pomeroy',\n",
       "       'Coleff, Mr. Peju', 'Lindqvist, Mr. Eino William',\n",
       "       'Hickman, Mr. Lewis', 'Butler, Mr. Reginald Fenton',\n",
       "       'Rommetvedt, Mr. Knud Paust', 'Cook, Mr. Jacob',\n",
       "       'Taylor, Mrs. Elmer Zebley (Juliet Cummins Wright)',\n",
       "       'Brown, Mrs. Thomas William Solomon (Elizabeth Catherine Ford)',\n",
       "       'Davidson, Mr. Thornton', 'Mitchell, Mr. Henry Michael',\n",
       "       'Wilhelms, Mr. Charles', 'Watson, Mr. Ennis Hastings',\n",
       "       'Edvardsson, Mr. Gustaf Hjalmar', 'Sawyer, Mr. Frederick Charles',\n",
       "       'Turja, Miss. Anna Sofia',\n",
       "       'Goodwin, Mrs. Frederick (Augusta Tyler)',\n",
       "       'Cardeza, Mr. Thomas Drake Martinez', 'Peters, Miss. Katie',\n",
       "       'Hassab, Mr. Hammad', 'Olsvigen, Mr. Thor Anderson',\n",
       "       'Goodwin, Mr. Charles Edward', 'Brown, Mr. Thomas William Solomon',\n",
       "       'Laroche, Mr. Joseph Philippe Lemercier',\n",
       "       'Panula, Mr. Jaako Arnold', 'Dakic, Mr. Branko',\n",
       "       'Fischer, Mr. Eberhard Thelander',\n",
       "       'Madill, Miss. Georgette Alexandra', 'Dick, Mr. Albert Adrian',\n",
       "       'Karun, Miss. Manca', 'Lam, Mr. Ali', 'Saad, Mr. Khalil',\n",
       "       'Weir, Col. John', 'Chapman, Mr. Charles Henry',\n",
       "       'Kelly, Mr. James', 'Mullens, Miss. Katherine \"Katie\"',\n",
       "       'Thayer, Mr. John Borland',\n",
       "       'Humblen, Mr. Adolf Mathias Nicolai Olsen',\n",
       "       'Astor, Mrs. John Jacob (Madeleine Talmadge Force)',\n",
       "       'Silverthorne, Mr. Spencer Victor', 'Barbara, Miss. Saiide',\n",
       "       'Gallagher, Mr. Martin', 'Hansen, Mr. Henrik Juul',\n",
       "       'Morley, Mr. Henry Samuel (\"Mr Henry Marshall\")',\n",
       "       'Kelly, Mrs. Florence \"Fannie\"',\n",
       "       'Calderhead, Mr. Edward Pennington', 'Cleaver, Miss. Alice',\n",
       "       'Moubarek, Master. Halim Gonios (\"William George\")',\n",
       "       'Mayne, Mlle. Berthe Antonine (\"Mrs de Villiers\")',\n",
       "       'Klaber, Mr. Herman', 'Taylor, Mr. Elmer Zebley',\n",
       "       'Larsson, Mr. August Viktor', 'Greenberg, Mr. Samuel',\n",
       "       'Soholt, Mr. Peter Andreas Lauritz Andersen',\n",
       "       'Endres, Miss. Caroline Louise',\n",
       "       'Troutt, Miss. Edwina Celia \"Winnie\"', 'McEvoy, Mr. Michael',\n",
       "       'Johnson, Mr. Malkolm Joackim',\n",
       "       'Harper, Miss. Annie Jessie \"Nina\"', 'Jensen, Mr. Svend Lauritz',\n",
       "       'Gillespie, Mr. William Henry', 'Hodges, Mr. Henry Price',\n",
       "       'Chambers, Mr. Norman Campbell', 'Oreskovic, Mr. Luka',\n",
       "       'Renouf, Mrs. Peter Henry (Lillian Jefferys)',\n",
       "       'Mannion, Miss. Margareth', 'Bryhl, Mr. Kurt Arnold Gottfrid',\n",
       "       'Ilmakangas, Miss. Pieta Sofia', 'Allen, Miss. Elisabeth Walton',\n",
       "       'Hassan, Mr. Houssein G N', 'Knight, Mr. Robert J',\n",
       "       'Berriman, Mr. William John', 'Troupiansky, Mr. Moses Aaron',\n",
       "       'Williams, Mr. Leslie', 'Ford, Mrs. Edward (Margaret Ann Watson)',\n",
       "       'Lesurer, Mr. Gustave J', 'Ivanoff, Mr. Kanio',\n",
       "       'Nankoff, Mr. Minko', 'Hawksford, Mr. Walter James',\n",
       "       'Cavendish, Mr. Tyrell William',\n",
       "       'Ryerson, Miss. Susan Parker \"Suzette\"', 'McNamee, Mr. Neal',\n",
       "       'Stranden, Mr. Juho', 'Crosby, Capt. Edward Gifford',\n",
       "       'Abbott, Mr. Rossmore Edward', 'Sinkkonen, Miss. Anna',\n",
       "       'Marvin, Mr. Daniel Warner', 'Connaghton, Mr. Michael',\n",
       "       'Wells, Miss. Joan', 'Moor, Master. Meier',\n",
       "       'Vande Velde, Mr. Johannes Joseph', 'Jonkoff, Mr. Lalio',\n",
       "       'Herman, Mrs. Samuel (Jane Laver)', 'Hamalainen, Master. Viljo',\n",
       "       'Carlsson, Mr. August Sigfrid', 'Bailey, Mr. Percy Andrew',\n",
       "       'Theobald, Mr. Thomas Leonard',\n",
       "       'Rothes, the Countess. of (Lucy Noel Martha Dyer-Edwards)',\n",
       "       'Garfirth, Mr. John', 'Nirva, Mr. Iisakki Antino Aijo',\n",
       "       'Barah, Mr. Hanna Assi',\n",
       "       'Carter, Mrs. William Ernest (Lucile Polk)',\n",
       "       'Eklund, Mr. Hans Linus', 'Hogeboom, Mrs. John C (Anna Andrews)',\n",
       "       'Brewe, Dr. Arthur Jackson', 'Mangan, Miss. Mary',\n",
       "       'Moran, Mr. Daniel J', 'Gronnestad, Mr. Daniel Danielsen',\n",
       "       'Lievens, Mr. Rene Aime', 'Jensen, Mr. Niels Peder',\n",
       "       'Mack, Mrs. (Mary)', 'Elias, Mr. Dibo',\n",
       "       'Hocking, Mrs. Elizabeth (Eliza Needs)',\n",
       "       'Myhrman, Mr. Pehr Fabian Oliver Malkolm', 'Tobin, Mr. Roger',\n",
       "       'Emanuel, Miss. Virginia Ethel', 'Kilgannon, Mr. Thomas J',\n",
       "       'Robert, Mrs. Edward Scott (Elisabeth Walton McMillan)',\n",
       "       'Ayoub, Miss. Banoura',\n",
       "       'Dick, Mrs. Albert Adrian (Vera Gillespie)',\n",
       "       'Long, Mr. Milton Clyde', 'Johnston, Mr. Andrew G',\n",
       "       'Ali, Mr. William', 'Harmer, Mr. Abraham (David Lishin)',\n",
       "       'Sjoblom, Miss. Anna Sofia', 'Rice, Master. George Hugh',\n",
       "       'Dean, Master. Bertram Vere', 'Guggenheim, Mr. Benjamin',\n",
       "       'Keane, Mr. Andrew \"Andy\"', 'Gaskell, Mr. Alfred',\n",
       "       'Sage, Miss. Stella Anna', 'Hoyt, Mr. William Fisher',\n",
       "       'Dantcheff, Mr. Ristiu', 'Otter, Mr. Richard',\n",
       "       'Leader, Dr. Alice (Farnham)', 'Osman, Mrs. Mara',\n",
       "       'Ibrahim Shawah, Mr. Yousseff',\n",
       "       'Van Impe, Mrs. Jean Baptiste (Rosalie Paula Govaert)',\n",
       "       'Ponesell, Mr. Martin',\n",
       "       'Collyer, Mrs. Harvey (Charlotte Annie Tate)',\n",
       "       'Carter, Master. William Thornton II',\n",
       "       'Thomas, Master. Assad Alexander', 'Hedman, Mr. Oskar Arvid',\n",
       "       'Johansson, Mr. Karl Johan', 'Andrews, Mr. Thomas Jr',\n",
       "       'Pettersson, Miss. Ellen Natalia', 'Meyer, Mr. August',\n",
       "       'Chambers, Mrs. Norman Campbell (Bertha Griggs)',\n",
       "       'Alexander, Mr. William', 'Lester, Mr. James',\n",
       "       'Slemen, Mr. Richard James', 'Andersson, Miss. Ebba Iris Alfrida',\n",
       "       'Tomlin, Mr. Ernest Portage', 'Fry, Mr. Richard',\n",
       "       'Heininen, Miss. Wendla Maria', 'Mallet, Mr. Albert',\n",
       "       'Holm, Mr. John Fredrik Alexander', 'Skoog, Master. Karl Thorsten',\n",
       "       'Hays, Mrs. Charles Melville (Clara Jennings Gregg)',\n",
       "       'Lulic, Mr. Nikola', 'Reuchlin, Jonkheer. John George',\n",
       "       'Moor, Mrs. (Beila)', 'Panula, Master. Urho Abraham',\n",
       "       'Flynn, Mr. John', 'Lam, Mr. Len', 'Mallet, Master. Andre',\n",
       "       'McCormack, Mr. Thomas Joseph',\n",
       "       'Stone, Mrs. George Nelson (Martha Evelyn)',\n",
       "       'Yasbeck, Mrs. Antoni (Selini Alexander)',\n",
       "       'Richards, Master. George Sibley', 'Saad, Mr. Amin',\n",
       "       'Augustsson, Mr. Albert', 'Allum, Mr. Owen George',\n",
       "       'Compton, Miss. Sara Rebecca', 'Pasic, Mr. Jakob',\n",
       "       'Sirota, Mr. Maurice', 'Chip, Mr. Chang', 'Marechal, Mr. Pierre',\n",
       "       'Alhomaki, Mr. Ilmari Rudolf', 'Mudd, Mr. Thomas Charles',\n",
       "       'Serepeca, Miss. Augusta', 'Lemberopolous, Mr. Peter L',\n",
       "       'Culumovic, Mr. Jeso', 'Abbing, Mr. Anthony',\n",
       "       'Sage, Mr. Douglas Bullen', 'Markoff, Mr. Marin',\n",
       "       'Harper, Rev. John',\n",
       "       'Goldenberg, Mrs. Samuel L (Edwiga Grabowska)',\n",
       "       'Andersson, Master. Sigvard Harald Elias', 'Svensson, Mr. Johan',\n",
       "       'Boulos, Miss. Nourelain', 'Lines, Miss. Mary Conover',\n",
       "       'Carter, Mrs. Ernest Courtenay (Lilian Hughes)',\n",
       "       'Aks, Mrs. Sam (Leah Rosen)',\n",
       "       'Wick, Mrs. George Dennick (Mary Hitchcock)',\n",
       "       'Daly, Mr. Peter Denis ', 'Baclini, Mrs. Solomon (Latifa Qurban)',\n",
       "       'Razi, Mr. Raihed', 'Hansen, Mr. Claus Peter',\n",
       "       'Giles, Mr. Frederick Edward',\n",
       "       'Swift, Mrs. Frederick Joel (Margaret Welles Barron)',\n",
       "       'Sage, Miss. Dorothy Edith \"Dolly\"', 'Gill, Mr. John William',\n",
       "       'Bystrom, Mrs. (Karolina)', 'Duran y More, Miss. Asuncion',\n",
       "       'Roebling, Mr. Washington Augustus II',\n",
       "       'van Melkebeke, Mr. Philemon', 'Johnson, Master. Harold Theodor',\n",
       "       'Balkic, Mr. Cerin',\n",
       "       'Beckwith, Mrs. Richard Leonard (Sallie Monypeny)',\n",
       "       'Carlsson, Mr. Frans Olof', 'Vander Cruyssen, Mr. Victor',\n",
       "       'Abelson, Mrs. Samuel (Hannah Wizosky)',\n",
       "       'Najib, Miss. Adele Kiamie \"Jane\"',\n",
       "       'Gustafsson, Mr. Alfred Ossian', 'Petroff, Mr. Nedelio',\n",
       "       'Laleff, Mr. Kristo',\n",
       "       'Potter, Mrs. Thomas Jr (Lily Alexenia Wilson)',\n",
       "       'Shelley, Mrs. William (Imanita Parrish Hall)',\n",
       "       'Markun, Mr. Johann', 'Dahlberg, Miss. Gerda Ulrika',\n",
       "       'Banfield, Mr. Frederick James', 'Sutehall, Mr. Henry Jr',\n",
       "       'Rice, Mrs. William (Margaret Norton)', 'Montvila, Rev. Juozas',\n",
       "       'Graham, Miss. Margaret Edith',\n",
       "       'Johnston, Miss. Catherine Helen \"Carrie\"',\n",
       "       'Behr, Mr. Karl Howell', 'Dooley, Mr. Patrick'], dtype=object)"
      ]
     },
     "execution_count": 8,
     "metadata": {},
     "output_type": "execute_result"
    }
   ],
   "source": [
    "train_data['Name'].values"
   ]
  },
  {
   "cell_type": "code",
   "execution_count": 9,
   "metadata": {},
   "outputs": [],
   "source": [
    "# Gets a vocabulary using all entries from the 'Name' column from the given dataframe.\n",
    "def get_names_count_vector(given_data , count_vectorizer=True):\n",
    "    if count_vectorizer :\n",
    "        vectorizer = CountVectorizer() \n",
    "    else:\n",
    "        vectorizer = TfidfVectorizer()\n",
    "    vectorizer.fit(given_data['Name'].values)\n",
    "    return(vectorizer)"
   ]
  },
  {
   "cell_type": "code",
   "execution_count": 10,
   "metadata": {},
   "outputs": [],
   "source": [
    "# Compares a string with a master vocabulary that is passed on and evaluates a comparison score.\n",
    "def get_relevant_score(given_text, vector_obj):\n",
    "    fit_cur_val = vector_obj.transform([given_text])\n",
    "    score = np.sum(1.0/(1.0 + fit_cur_val.todense()))    \n",
    "    #score = np.sum(fit_cur_val)\n",
    "    #print(score)\n",
    "    return score"
   ]
  },
  {
   "cell_type": "code",
   "execution_count": 11,
   "metadata": {},
   "outputs": [],
   "source": [
    "# Generates vocabularies for survived and not survived cases separately and \n",
    "# generates predictions on test data accordingly.\n",
    "def update_predictions_out_of_sample(train_data, test_data, count_vectorizer=True):\n",
    "    survived_vector = get_names_count_vector(train_data[train_data['Survived'] == 1], count_vectorizer)\n",
    "    not_survived_vector = get_names_count_vector(train_data[train_data['Survived'] == 0], count_vectorizer)        \n",
    "\n",
    "    test_data['Survived_score'] = test_data['Name'].apply(lambda x : get_relevant_score(x, survived_vector)) \n",
    "    test_data['Not_survived_score'] = test_data['Name'].apply(lambda x : get_relevant_score(x, not_survived_vector))\n",
    "    test_data['Predictions'] = test_data['Survived_score'] > test_data['Not_survived_score']        \n",
    "    "
   ]
  },
  {
   "cell_type": "code",
   "execution_count": 12,
   "metadata": {},
   "outputs": [],
   "source": [
    "# The bread and butter routine for cross validation.\n",
    "def get_cross_val_output_name_analysis(input_df, nfolds=5, count_vectorizer=True):\n",
    "    partition_indices = np.array_split(np.arange(len(input_df)), nfolds)\n",
    "    cross_validated_data = pd.DataFrame(columns=input_df.columns)\n",
    "    for i in range(nfolds):\n",
    "        cross_validated_set = input_df[partition_indices[i][0]:partition_indices[i][-1] + 1].copy()\n",
    "        rel_training_data = pd.DataFrame(columns=input_df.columns)\n",
    "        for j in range(nfolds):\n",
    "            if j != i:\n",
    "                training_set = input_df[partition_indices[j][0]:partition_indices[j][-1] + 1]\n",
    "                rel_training_data = pd.concat([rel_training_data, training_set])\n",
    "\n",
    "        # Make sure that a copy is made, so that the original dataset is untouched.\n",
    "        rel_training_data_v1 = rel_training_data.copy()\n",
    "        update_predictions_out_of_sample(rel_training_data_v1, cross_validated_set, count_vectorizer)\n",
    "        \n",
    "        cross_validated_data = pd.concat([cross_validated_data, cross_validated_set])\n",
    "\n",
    "    return cross_validated_data\n",
    "    "
   ]
  },
  {
   "cell_type": "markdown",
   "metadata": {},
   "source": [
    "### In sample performance.\n",
    "At first we train the model and see how it performs on the training data itself. Note that this is bound to show significant performance as words are selected from the training data itself."
   ]
  },
  {
   "cell_type": "code",
   "execution_count": 13,
   "metadata": {},
   "outputs": [
    {
     "data": {
      "text/plain": [
       "61.61616161616162"
      ]
     },
     "execution_count": 13,
     "metadata": {},
     "output_type": "execute_result"
    }
   ],
   "source": [
    "update_predictions_out_of_sample(train_data, train_data)\n",
    "(train_data['Predictions'] == train_data['Survived']).sum()*100/(len(train_data))"
   ]
  },
  {
   "cell_type": "markdown",
   "metadata": {},
   "source": [
    "### Cross validation.\n",
    "This time, let us do a 5-fold cross validation and see how things look."
   ]
  },
  {
   "cell_type": "code",
   "execution_count": 14,
   "metadata": {},
   "outputs": [
    {
     "data": {
      "text/plain": [
       "0.6161616161616161"
      ]
     },
     "execution_count": 14,
     "metadata": {},
     "output_type": "execute_result"
    }
   ],
   "source": [
    "cross_validated_data = get_cross_val_output_name_analysis(train_data)\n",
    "(cross_validated_data['Predictions'] == cross_validated_data['Survived']).sum()/len(cross_validated_data)"
   ]
  },
  {
   "cell_type": "markdown",
   "metadata": {},
   "source": [
    "Comments : As expected the performance is much lesser on out of sample data."
   ]
  },
  {
   "cell_type": "markdown",
   "metadata": {},
   "source": [
    "### Sidetrack : Learning advanced tutorial\n"
   ]
  },
  {
   "cell_type": "markdown",
   "metadata": {},
   "source": [
    "#### TfidVectorizer"
   ]
  },
  {
   "cell_type": "code",
   "execution_count": 15,
   "metadata": {},
   "outputs": [],
   "source": [
    "\n",
    "text = [\"The quick brown fox jumped over the lazy dog.\",\n",
    "\t\t\"The dog.\",\n",
    "\t\t\"The fox\"]"
   ]
  },
  {
   "cell_type": "code",
   "execution_count": 16,
   "metadata": {},
   "outputs": [
    {
     "data": {
      "text/plain": [
       "TfidfVectorizer(analyzer='word', binary=False, decode_error='strict',\n",
       "        dtype=<class 'numpy.int64'>, encoding='utf-8', input='content',\n",
       "        lowercase=True, max_df=1.0, max_features=None, min_df=1,\n",
       "        ngram_range=(1, 1), norm='l2', preprocessor=None, smooth_idf=True,\n",
       "        stop_words=None, strip_accents=None, sublinear_tf=False,\n",
       "        token_pattern='(?u)\\\\b\\\\w\\\\w+\\\\b', tokenizer=None, use_idf=False,\n",
       "        vocabulary=None)"
      ]
     },
     "execution_count": 16,
     "metadata": {},
     "output_type": "execute_result"
    }
   ],
   "source": [
    "# create the transform\n",
    "vectorizer_tfid = TfidfVectorizer(use_idf=False)\n",
    "# tokenize and build vocab\n",
    "vectorizer_tfid.fit(text)"
   ]
  },
  {
   "cell_type": "code",
   "execution_count": 17,
   "metadata": {},
   "outputs": [
    {
     "data": {
      "text/plain": [
       "{'brown': 0,\n",
       " 'dog': 1,\n",
       " 'fox': 2,\n",
       " 'jumped': 3,\n",
       " 'lazy': 4,\n",
       " 'over': 5,\n",
       " 'quick': 6,\n",
       " 'the': 7}"
      ]
     },
     "execution_count": 17,
     "metadata": {},
     "output_type": "execute_result"
    }
   ],
   "source": [
    "vectorizer_tfid.vocabulary_"
   ]
  },
  {
   "cell_type": "code",
   "execution_count": 18,
   "metadata": {},
   "outputs": [],
   "source": [
    "vector_tfid_transform = vectorizer_tfid.transform([text[1]]) "
   ]
  },
  {
   "cell_type": "code",
   "execution_count": 19,
   "metadata": {},
   "outputs": [
    {
     "data": {
      "text/plain": [
       "matrix([[0.        , 0.70710678, 0.        , 0.        , 0.        ,\n",
       "         0.        , 0.        , 0.70710678]])"
      ]
     },
     "execution_count": 19,
     "metadata": {},
     "output_type": "execute_result"
    }
   ],
   "source": [
    "vector_tfid_transform.todense()"
   ]
  },
  {
   "cell_type": "markdown",
   "metadata": {},
   "source": [
    "#### CountVectorizer"
   ]
  },
  {
   "cell_type": "code",
   "execution_count": 20,
   "metadata": {},
   "outputs": [
    {
     "data": {
      "text/plain": [
       "CountVectorizer(analyzer='word', binary=False, decode_error='strict',\n",
       "        dtype=<class 'numpy.int64'>, encoding='utf-8', input='content',\n",
       "        lowercase=True, max_df=1.0, max_features=None, min_df=1,\n",
       "        ngram_range=(1, 1), preprocessor=None, stop_words=None,\n",
       "        strip_accents=None, token_pattern='(?u)\\\\b\\\\w\\\\w+\\\\b',\n",
       "        tokenizer=None, vocabulary=None)"
      ]
     },
     "execution_count": 20,
     "metadata": {},
     "output_type": "execute_result"
    }
   ],
   "source": [
    "vectorizer_count = CountVectorizer()\n",
    "vectorizer_count.fit(text)"
   ]
  },
  {
   "cell_type": "code",
   "execution_count": 21,
   "metadata": {},
   "outputs": [
    {
     "data": {
      "text/plain": [
       "{'brown': 0,\n",
       " 'dog': 1,\n",
       " 'fox': 2,\n",
       " 'jumped': 3,\n",
       " 'lazy': 4,\n",
       " 'over': 5,\n",
       " 'quick': 6,\n",
       " 'the': 7}"
      ]
     },
     "execution_count": 21,
     "metadata": {},
     "output_type": "execute_result"
    }
   ],
   "source": [
    "vectorizer_count.vocabulary_"
   ]
  },
  {
   "cell_type": "code",
   "execution_count": 22,
   "metadata": {},
   "outputs": [],
   "source": [
    "vector_count_transform = vectorizer_count.transform([text[1]]) "
   ]
  },
  {
   "cell_type": "code",
   "execution_count": 23,
   "metadata": {},
   "outputs": [
    {
     "data": {
      "text/plain": [
       "matrix([[0, 1, 0, 0, 0, 0, 0, 1]])"
      ]
     },
     "execution_count": 23,
     "metadata": {},
     "output_type": "execute_result"
    }
   ],
   "source": [
    "vector_count_transform.todense()"
   ]
  },
  {
   "cell_type": "code",
   "execution_count": 24,
   "metadata": {},
   "outputs": [
    {
     "data": {
      "text/plain": [
       "2"
      ]
     },
     "execution_count": 24,
     "metadata": {},
     "output_type": "execute_result"
    }
   ],
   "source": [
    "np.sum(vector_count_transform)"
   ]
  },
  {
   "cell_type": "markdown",
   "metadata": {},
   "source": [
    "### Repeat the same analysis using TfidVectorizer"
   ]
  },
  {
   "cell_type": "code",
   "execution_count": 25,
   "metadata": {},
   "outputs": [
    {
     "data": {
      "text/plain": [
       "61.61616161616162"
      ]
     },
     "execution_count": 25,
     "metadata": {},
     "output_type": "execute_result"
    }
   ],
   "source": [
    "update_predictions_out_of_sample(train_data, train_data, count_vectorizer=False)\n",
    "(train_data['Predictions'] == train_data['Survived']).sum()*100/(len(train_data))"
   ]
  },
  {
   "cell_type": "code",
   "execution_count": 26,
   "metadata": {},
   "outputs": [
    {
     "data": {
      "text/plain": [
       "61.61616161616162"
      ]
     },
     "execution_count": 26,
     "metadata": {},
     "output_type": "execute_result"
    }
   ],
   "source": [
    "cross_validated_data = get_cross_val_output_name_analysis(train_data, count_vectorizer=False)\n",
    "(cross_validated_data['Predictions'] == cross_validated_data['Survived']).sum() * 100/len(cross_validated_data)"
   ]
  },
  {
   "cell_type": "markdown",
   "metadata": {},
   "source": [
    "### Comment\n",
    "\n",
    "The first method performs reasonably well, and it takes into count , just the presence of the word in the training data (NOTE : The index however is linked the frequency of the word's occurence in the document , as is detailed [here](http://scikit-learn.org/stable/tutorial/text_analytics/working_with_text_data.html)\n",
    "\n",
    "The second method does not perform very well, and it takes into count the frequency of the word and inverts the same.\n",
    "\n",
    "This points us in the direction that we should be looking for a method where we increase the weights according to the frequency of the occurence of the word(and not inverts as was done in the second method)"
   ]
  },
  {
   "cell_type": "markdown",
   "metadata": {},
   "source": [
    "### Using Naive Bayes algorithm "
   ]
  },
  {
   "cell_type": "code",
   "execution_count": 27,
   "metadata": {},
   "outputs": [],
   "source": [
    "# We use a pipeline to make things easire\n",
    "from sklearn.pipeline import Pipeline\n",
    "from sklearn.feature_extraction.text import TfidfTransformer\n",
    "from sklearn.naive_bayes import MultinomialNB\n",
    "clf = Pipeline([('vect', TfidfVectorizer()),\n",
    "                ('transformer', TfidfTransformer()),\n",
    "                ('classify', MultinomialNB())])"
   ]
  },
  {
   "cell_type": "code",
   "execution_count": 28,
   "metadata": {},
   "outputs": [
    {
     "data": {
      "text/plain": [
       "Index(['PassengerId', 'Survived', 'Pclass', 'Name', 'Sex', 'Age', 'SibSp',\n",
       "       'Parch', 'Ticket', 'Fare', 'Cabin', 'Embarked', 'Survived_score',\n",
       "       'Not_survived_score', 'Predictions'],\n",
       "      dtype='object')"
      ]
     },
     "execution_count": 28,
     "metadata": {},
     "output_type": "execute_result"
    }
   ],
   "source": [
    "train_data.columns"
   ]
  },
  {
   "cell_type": "code",
   "execution_count": 29,
   "metadata": {},
   "outputs": [
    {
     "data": {
      "text/plain": [
       "Pipeline(memory=None,\n",
       "     steps=[('vect', TfidfVectorizer(analyzer='word', binary=False, decode_error='strict',\n",
       "        dtype=<class 'numpy.int64'>, encoding='utf-8', input='content',\n",
       "        lowercase=True, max_df=1.0, max_features=None, min_df=1,\n",
       "        ngram_range=(1, 1), norm='l2', preprocessor=None, smooth_idf=True,\n",
       "  ..._tf=False, use_idf=True)), ('classify', MultinomialNB(alpha=1.0, class_prior=None, fit_prior=True))])"
      ]
     },
     "execution_count": 29,
     "metadata": {},
     "output_type": "execute_result"
    }
   ],
   "source": [
    "clf.fit(train_data['Name'][:700], train_data['Survived'][:700])"
   ]
  },
  {
   "cell_type": "code",
   "execution_count": 30,
   "metadata": {},
   "outputs": [],
   "source": [
    "predictions = clf.predict(train_data['Name'][700:]) "
   ]
  },
  {
   "cell_type": "code",
   "execution_count": 31,
   "metadata": {},
   "outputs": [],
   "source": [
    "survived_or_not = train_data['Survived'][700:]"
   ]
  },
  {
   "cell_type": "code",
   "execution_count": 32,
   "metadata": {},
   "outputs": [
    {
     "data": {
      "text/plain": [
       "0.7696335078534031"
      ]
     },
     "execution_count": 32,
     "metadata": {},
     "output_type": "execute_result"
    }
   ],
   "source": [
    "np.mean(predictions == survived_or_not)"
   ]
  },
  {
   "cell_type": "markdown",
   "metadata": {},
   "source": [
    "#### Optimize parameters using GridSearch"
   ]
  },
  {
   "cell_type": "code",
   "execution_count": 33,
   "metadata": {},
   "outputs": [],
   "source": [
    "from sklearn.model_selection import GridSearchCV"
   ]
  },
  {
   "cell_type": "code",
   "execution_count": 34,
   "metadata": {},
   "outputs": [],
   "source": [
    "parameters = {'vect__ngram_range' : [(1, 1), (2, 2), (3 , 3)],\n",
    "              'transformer__use_idf' : (True, False),\n",
    "              }"
   ]
  },
  {
   "cell_type": "code",
   "execution_count": 35,
   "metadata": {},
   "outputs": [],
   "source": [
    "gs_clf = GridSearchCV(clf, parameters, n_jobs=-1)"
   ]
  },
  {
   "cell_type": "code",
   "execution_count": 36,
   "metadata": {},
   "outputs": [
    {
     "data": {
      "text/plain": [
       "GridSearchCV(cv=None, error_score='raise',\n",
       "       estimator=Pipeline(memory=None,\n",
       "     steps=[('vect', TfidfVectorizer(analyzer='word', binary=False, decode_error='strict',\n",
       "        dtype=<class 'numpy.int64'>, encoding='utf-8', input='content',\n",
       "        lowercase=True, max_df=1.0, max_features=None, min_df=1,\n",
       "        ngram_range=(1, 1), norm='l2', preprocessor=None, smooth_idf=True,\n",
       "  ..._tf=False, use_idf=True)), ('classify', MultinomialNB(alpha=1.0, class_prior=None, fit_prior=True))]),\n",
       "       fit_params=None, iid=True, n_jobs=-1,\n",
       "       param_grid={'vect__ngram_range': [(1, 1), (2, 2), (3, 3)], 'transformer__use_idf': (True, False)},\n",
       "       pre_dispatch='2*n_jobs', refit=True, return_train_score='warn',\n",
       "       scoring=None, verbose=0)"
      ]
     },
     "execution_count": 36,
     "metadata": {},
     "output_type": "execute_result"
    }
   ],
   "source": [
    "gs_clf.fit(train_data['Name'], train_data['Survived'])"
   ]
  },
  {
   "cell_type": "code",
   "execution_count": 37,
   "metadata": {},
   "outputs": [],
   "source": [
    "# Make sure that unnecessary deprecation warnings are avoided.\n",
    "# Thanks to https://stackoverflow.com/questions/49545947/sklearn-deprecationwarning-truth-value-of-an-array\n",
    "import warnings\n",
    "warnings.filterwarnings(action='ignore', category=FutureWarning)\n"
   ]
  },
  {
   "cell_type": "code",
   "execution_count": 38,
   "metadata": {},
   "outputs": [],
   "source": [
    "cv_result = pd.DataFrame(gs_clf.cv_results_)"
   ]
  },
  {
   "cell_type": "code",
   "execution_count": 39,
   "metadata": {},
   "outputs": [
    {
     "data": {
      "text/html": [
       "<div>\n",
       "<style scoped>\n",
       "    .dataframe tbody tr th:only-of-type {\n",
       "        vertical-align: middle;\n",
       "    }\n",
       "\n",
       "    .dataframe tbody tr th {\n",
       "        vertical-align: top;\n",
       "    }\n",
       "\n",
       "    .dataframe thead th {\n",
       "        text-align: right;\n",
       "    }\n",
       "</style>\n",
       "<table border=\"1\" class=\"dataframe\">\n",
       "  <thead>\n",
       "    <tr style=\"text-align: right;\">\n",
       "      <th></th>\n",
       "      <th>mean_fit_time</th>\n",
       "      <th>mean_score_time</th>\n",
       "      <th>mean_test_score</th>\n",
       "      <th>mean_train_score</th>\n",
       "      <th>param_transformer__use_idf</th>\n",
       "      <th>param_vect__ngram_range</th>\n",
       "      <th>params</th>\n",
       "      <th>rank_test_score</th>\n",
       "      <th>split0_test_score</th>\n",
       "      <th>split0_train_score</th>\n",
       "      <th>split1_test_score</th>\n",
       "      <th>split1_train_score</th>\n",
       "      <th>split2_test_score</th>\n",
       "      <th>split2_train_score</th>\n",
       "      <th>std_fit_time</th>\n",
       "      <th>std_score_time</th>\n",
       "      <th>std_test_score</th>\n",
       "      <th>std_train_score</th>\n",
       "    </tr>\n",
       "  </thead>\n",
       "  <tbody>\n",
       "    <tr>\n",
       "      <th>0</th>\n",
       "      <td>0.017531</td>\n",
       "      <td>0.005901</td>\n",
       "      <td>0.739618</td>\n",
       "      <td>0.951740</td>\n",
       "      <td>True</td>\n",
       "      <td>(1, 1)</td>\n",
       "      <td>{'transformer__use_idf': True, 'vect__ngram_ra...</td>\n",
       "      <td>2</td>\n",
       "      <td>0.734007</td>\n",
       "      <td>0.962963</td>\n",
       "      <td>0.737374</td>\n",
       "      <td>0.949495</td>\n",
       "      <td>0.747475</td>\n",
       "      <td>0.942761</td>\n",
       "      <td>0.002759</td>\n",
       "      <td>0.000394</td>\n",
       "      <td>0.005723</td>\n",
       "      <td>0.008399</td>\n",
       "    </tr>\n",
       "    <tr>\n",
       "      <th>1</th>\n",
       "      <td>0.025163</td>\n",
       "      <td>0.007973</td>\n",
       "      <td>0.679012</td>\n",
       "      <td>0.983726</td>\n",
       "      <td>True</td>\n",
       "      <td>(2, 2)</td>\n",
       "      <td>{'transformer__use_idf': True, 'vect__ngram_ra...</td>\n",
       "      <td>4</td>\n",
       "      <td>0.690236</td>\n",
       "      <td>0.983165</td>\n",
       "      <td>0.676768</td>\n",
       "      <td>0.988215</td>\n",
       "      <td>0.670034</td>\n",
       "      <td>0.979798</td>\n",
       "      <td>0.001941</td>\n",
       "      <td>0.001807</td>\n",
       "      <td>0.008399</td>\n",
       "      <td>0.003459</td>\n",
       "    </tr>\n",
       "    <tr>\n",
       "      <th>2</th>\n",
       "      <td>0.021897</td>\n",
       "      <td>0.011019</td>\n",
       "      <td>0.618406</td>\n",
       "      <td>0.996633</td>\n",
       "      <td>True</td>\n",
       "      <td>(3, 3)</td>\n",
       "      <td>{'transformer__use_idf': True, 'vect__ngram_ra...</td>\n",
       "      <td>5</td>\n",
       "      <td>0.622896</td>\n",
       "      <td>0.998316</td>\n",
       "      <td>0.616162</td>\n",
       "      <td>0.996633</td>\n",
       "      <td>0.616162</td>\n",
       "      <td>0.994949</td>\n",
       "      <td>0.002507</td>\n",
       "      <td>0.000424</td>\n",
       "      <td>0.003174</td>\n",
       "      <td>0.001375</td>\n",
       "    </tr>\n",
       "    <tr>\n",
       "      <th>3</th>\n",
       "      <td>0.017906</td>\n",
       "      <td>0.006593</td>\n",
       "      <td>0.758698</td>\n",
       "      <td>0.934905</td>\n",
       "      <td>False</td>\n",
       "      <td>(1, 1)</td>\n",
       "      <td>{'transformer__use_idf': False, 'vect__ngram_r...</td>\n",
       "      <td>1</td>\n",
       "      <td>0.754209</td>\n",
       "      <td>0.936027</td>\n",
       "      <td>0.750842</td>\n",
       "      <td>0.930976</td>\n",
       "      <td>0.771044</td>\n",
       "      <td>0.937710</td>\n",
       "      <td>0.001741</td>\n",
       "      <td>0.001414</td>\n",
       "      <td>0.008837</td>\n",
       "      <td>0.002861</td>\n",
       "    </tr>\n",
       "    <tr>\n",
       "      <th>4</th>\n",
       "      <td>0.022219</td>\n",
       "      <td>0.006543</td>\n",
       "      <td>0.680135</td>\n",
       "      <td>0.973625</td>\n",
       "      <td>False</td>\n",
       "      <td>(2, 2)</td>\n",
       "      <td>{'transformer__use_idf': False, 'vect__ngram_r...</td>\n",
       "      <td>3</td>\n",
       "      <td>0.700337</td>\n",
       "      <td>0.978114</td>\n",
       "      <td>0.673401</td>\n",
       "      <td>0.974747</td>\n",
       "      <td>0.666667</td>\n",
       "      <td>0.968013</td>\n",
       "      <td>0.001536</td>\n",
       "      <td>0.000244</td>\n",
       "      <td>0.014547</td>\n",
       "      <td>0.004199</td>\n",
       "    </tr>\n",
       "    <tr>\n",
       "      <th>5</th>\n",
       "      <td>0.014181</td>\n",
       "      <td>0.005105</td>\n",
       "      <td>0.618406</td>\n",
       "      <td>0.996633</td>\n",
       "      <td>False</td>\n",
       "      <td>(3, 3)</td>\n",
       "      <td>{'transformer__use_idf': False, 'vect__ngram_r...</td>\n",
       "      <td>5</td>\n",
       "      <td>0.622896</td>\n",
       "      <td>0.998316</td>\n",
       "      <td>0.616162</td>\n",
       "      <td>0.996633</td>\n",
       "      <td>0.616162</td>\n",
       "      <td>0.994949</td>\n",
       "      <td>0.003801</td>\n",
       "      <td>0.001078</td>\n",
       "      <td>0.003174</td>\n",
       "      <td>0.001375</td>\n",
       "    </tr>\n",
       "  </tbody>\n",
       "</table>\n",
       "</div>"
      ],
      "text/plain": [
       "   mean_fit_time  mean_score_time  mean_test_score  mean_train_score  \\\n",
       "0       0.017531         0.005901         0.739618          0.951740   \n",
       "1       0.025163         0.007973         0.679012          0.983726   \n",
       "2       0.021897         0.011019         0.618406          0.996633   \n",
       "3       0.017906         0.006593         0.758698          0.934905   \n",
       "4       0.022219         0.006543         0.680135          0.973625   \n",
       "5       0.014181         0.005105         0.618406          0.996633   \n",
       "\n",
       "  param_transformer__use_idf param_vect__ngram_range  \\\n",
       "0                       True                  (1, 1)   \n",
       "1                       True                  (2, 2)   \n",
       "2                       True                  (3, 3)   \n",
       "3                      False                  (1, 1)   \n",
       "4                      False                  (2, 2)   \n",
       "5                      False                  (3, 3)   \n",
       "\n",
       "                                              params  rank_test_score  \\\n",
       "0  {'transformer__use_idf': True, 'vect__ngram_ra...                2   \n",
       "1  {'transformer__use_idf': True, 'vect__ngram_ra...                4   \n",
       "2  {'transformer__use_idf': True, 'vect__ngram_ra...                5   \n",
       "3  {'transformer__use_idf': False, 'vect__ngram_r...                1   \n",
       "4  {'transformer__use_idf': False, 'vect__ngram_r...                3   \n",
       "5  {'transformer__use_idf': False, 'vect__ngram_r...                5   \n",
       "\n",
       "   split0_test_score  split0_train_score  split1_test_score  \\\n",
       "0           0.734007            0.962963           0.737374   \n",
       "1           0.690236            0.983165           0.676768   \n",
       "2           0.622896            0.998316           0.616162   \n",
       "3           0.754209            0.936027           0.750842   \n",
       "4           0.700337            0.978114           0.673401   \n",
       "5           0.622896            0.998316           0.616162   \n",
       "\n",
       "   split1_train_score  split2_test_score  split2_train_score  std_fit_time  \\\n",
       "0            0.949495           0.747475            0.942761      0.002759   \n",
       "1            0.988215           0.670034            0.979798      0.001941   \n",
       "2            0.996633           0.616162            0.994949      0.002507   \n",
       "3            0.930976           0.771044            0.937710      0.001741   \n",
       "4            0.974747           0.666667            0.968013      0.001536   \n",
       "5            0.996633           0.616162            0.994949      0.003801   \n",
       "\n",
       "   std_score_time  std_test_score  std_train_score  \n",
       "0        0.000394        0.005723         0.008399  \n",
       "1        0.001807        0.008399         0.003459  \n",
       "2        0.000424        0.003174         0.001375  \n",
       "3        0.001414        0.008837         0.002861  \n",
       "4        0.000244        0.014547         0.004199  \n",
       "5        0.001078        0.003174         0.001375  "
      ]
     },
     "execution_count": 39,
     "metadata": {},
     "output_type": "execute_result"
    }
   ],
   "source": [
    "cv_result"
   ]
  },
  {
   "cell_type": "code",
   "execution_count": 40,
   "metadata": {},
   "outputs": [
    {
     "data": {
      "text/plain": [
       "0.7586980920314254"
      ]
     },
     "execution_count": 40,
     "metadata": {},
     "output_type": "execute_result"
    }
   ],
   "source": [
    "gs_clf.best_score_"
   ]
  },
  {
   "cell_type": "markdown",
   "metadata": {},
   "source": [
    "#### Generate the best model using Naive Bayes.\n"
   ]
  },
  {
   "cell_type": "code",
   "execution_count": 41,
   "metadata": {},
   "outputs": [],
   "source": [
    "best_model_pipeline = Pipeline([('vect', TfidfVectorizer()),\n",
    "                                ('transform', TfidfTransformer(use_idf=False)),\n",
    "                                ('classify', MultinomialNB())])"
   ]
  },
  {
   "cell_type": "code",
   "execution_count": 42,
   "metadata": {},
   "outputs": [
    {
     "data": {
      "text/plain": [
       "Pipeline(memory=None,\n",
       "     steps=[('vect', TfidfVectorizer(analyzer='word', binary=False, decode_error='strict',\n",
       "        dtype=<class 'numpy.int64'>, encoding='utf-8', input='content',\n",
       "        lowercase=True, max_df=1.0, max_features=None, min_df=1,\n",
       "        ngram_range=(1, 1), norm='l2', preprocessor=None, smooth_idf=True,\n",
       "  ...\n",
       "         use_idf=False)), ('classify', MultinomialNB(alpha=1.0, class_prior=None, fit_prior=True))])"
      ]
     },
     "execution_count": 42,
     "metadata": {},
     "output_type": "execute_result"
    }
   ],
   "source": [
    "best_model_pipeline.fit(train_data['Name'], train_data['Survived'])"
   ]
  },
  {
   "cell_type": "code",
   "execution_count": 43,
   "metadata": {},
   "outputs": [],
   "source": [
    "# Generate out of sample predictions\n",
    "predictions = best_model_pipeline.predict(test_data['Name'])"
   ]
  },
  {
   "cell_type": "code",
   "execution_count": 44,
   "metadata": {},
   "outputs": [],
   "source": [
    "test_data['Predictions'] = predictions"
   ]
  },
  {
   "cell_type": "code",
   "execution_count": 45,
   "metadata": {},
   "outputs": [
    {
     "name": "stdout",
     "output_type": "stream",
     "text": [
      "Out of sample score is 0.7392344497607656\n"
     ]
    }
   ],
   "source": [
    "kaggle_data = test_data[['PassengerId', 'Predictions']].copy()\n",
    "kaggle_data.rename(columns={'Predictions' : 'Survived'}, inplace=True)\n",
    "kaggle_data.sort_values(by=['PassengerId']).to_csv('kaggle_out_names_naive_bayes.csv', index=False)\n",
    "print(\"Out of sample score is {0}\".format(np.sum(test_data['Predictions'] == test_data['Survived'])/len(test_data)))"
   ]
  },
  {
   "cell_type": "markdown",
   "metadata": {},
   "source": [
    "### Using SVC"
   ]
  },
  {
   "cell_type": "code",
   "execution_count": 46,
   "metadata": {},
   "outputs": [],
   "source": [
    "# We use a pipeline to make things easire\n",
    "from sklearn.linear_model import SGDClassifier\n",
    "svc_clf = Pipeline([('vect', TfidfVectorizer()),\n",
    "                    ('transformer', TfidfTransformer()),\n",
    "                    ('classify', SGDClassifier(loss='hinge', penalty='l2', alpha=1e-3, \n",
    "                                               random_state=0, max_iter=5, tol=None))])"
   ]
  },
  {
   "cell_type": "code",
   "execution_count": 47,
   "metadata": {},
   "outputs": [
    {
     "data": {
      "text/plain": [
       "Pipeline(memory=None,\n",
       "     steps=[('vect', TfidfVectorizer(analyzer='word', binary=False, decode_error='strict',\n",
       "        dtype=<class 'numpy.int64'>, encoding='utf-8', input='content',\n",
       "        lowercase=True, max_df=1.0, max_features=None, min_df=1,\n",
       "        ngram_range=(1, 1), norm='l2', preprocessor=None, smooth_idf=True,\n",
       "  ...lty='l2', power_t=0.5, random_state=0, shuffle=True,\n",
       "       tol=None, verbose=0, warm_start=False))])"
      ]
     },
     "execution_count": 47,
     "metadata": {},
     "output_type": "execute_result"
    }
   ],
   "source": [
    "svc_clf.fit(train_data['Name'][:700], train_data['Survived'][:700])"
   ]
  },
  {
   "cell_type": "code",
   "execution_count": 48,
   "metadata": {},
   "outputs": [],
   "source": [
    "predictions = svc_clf.predict(train_data['Name'][700:]) "
   ]
  },
  {
   "cell_type": "code",
   "execution_count": 49,
   "metadata": {},
   "outputs": [],
   "source": [
    "survived_or_not = train_data['Survived'][700:]"
   ]
  },
  {
   "cell_type": "code",
   "execution_count": 50,
   "metadata": {},
   "outputs": [
    {
     "data": {
      "text/plain": [
       "0.8010471204188482"
      ]
     },
     "execution_count": 50,
     "metadata": {},
     "output_type": "execute_result"
    }
   ],
   "source": [
    "np.mean(predictions == survived_or_not)"
   ]
  },
  {
   "cell_type": "markdown",
   "metadata": {},
   "source": [
    "### Finding optimal parameters using GridSearch"
   ]
  },
  {
   "cell_type": "code",
   "execution_count": 51,
   "metadata": {},
   "outputs": [],
   "source": [
    "parameters = {'vect__ngram_range' : [(1, 1), (2, 2), (3 , 3)],\n",
    "              'transformer__use_idf' : (True, False),\n",
    "              'classify__alpha' : (1e-2, 1e-3),\n",
    "              }"
   ]
  },
  {
   "cell_type": "code",
   "execution_count": 52,
   "metadata": {},
   "outputs": [],
   "source": [
    "gs_clf = GridSearchCV(svc_clf, parameters, n_jobs=-1)"
   ]
  },
  {
   "cell_type": "code",
   "execution_count": 53,
   "metadata": {},
   "outputs": [
    {
     "data": {
      "text/plain": [
       "GridSearchCV(cv=None, error_score='raise',\n",
       "       estimator=Pipeline(memory=None,\n",
       "     steps=[('vect', TfidfVectorizer(analyzer='word', binary=False, decode_error='strict',\n",
       "        dtype=<class 'numpy.int64'>, encoding='utf-8', input='content',\n",
       "        lowercase=True, max_df=1.0, max_features=None, min_df=1,\n",
       "        ngram_range=(1, 1), norm='l2', preprocessor=None, smooth_idf=True,\n",
       "  ...lty='l2', power_t=0.5, random_state=0, shuffle=True,\n",
       "       tol=None, verbose=0, warm_start=False))]),\n",
       "       fit_params=None, iid=True, n_jobs=-1,\n",
       "       param_grid={'vect__ngram_range': [(1, 1), (2, 2), (3, 3)], 'transformer__use_idf': (True, False), 'classify__alpha': (0.01, 0.001)},\n",
       "       pre_dispatch='2*n_jobs', refit=True, return_train_score='warn',\n",
       "       scoring=None, verbose=0)"
      ]
     },
     "execution_count": 53,
     "metadata": {},
     "output_type": "execute_result"
    }
   ],
   "source": [
    "gs_clf.fit(train_data['Name'], train_data['Survived'])"
   ]
  },
  {
   "cell_type": "code",
   "execution_count": 54,
   "metadata": {},
   "outputs": [],
   "source": [
    "cv_result = pd.DataFrame(gs_clf.cv_results_)"
   ]
  },
  {
   "cell_type": "code",
   "execution_count": 55,
   "metadata": {},
   "outputs": [
    {
     "data": {
      "text/html": [
       "<div>\n",
       "<style scoped>\n",
       "    .dataframe tbody tr th:only-of-type {\n",
       "        vertical-align: middle;\n",
       "    }\n",
       "\n",
       "    .dataframe tbody tr th {\n",
       "        vertical-align: top;\n",
       "    }\n",
       "\n",
       "    .dataframe thead th {\n",
       "        text-align: right;\n",
       "    }\n",
       "</style>\n",
       "<table border=\"1\" class=\"dataframe\">\n",
       "  <thead>\n",
       "    <tr style=\"text-align: right;\">\n",
       "      <th></th>\n",
       "      <th>mean_fit_time</th>\n",
       "      <th>mean_score_time</th>\n",
       "      <th>mean_test_score</th>\n",
       "      <th>mean_train_score</th>\n",
       "      <th>param_classify__alpha</th>\n",
       "      <th>param_transformer__use_idf</th>\n",
       "      <th>param_vect__ngram_range</th>\n",
       "      <th>params</th>\n",
       "      <th>rank_test_score</th>\n",
       "      <th>split0_test_score</th>\n",
       "      <th>split0_train_score</th>\n",
       "      <th>split1_test_score</th>\n",
       "      <th>split1_train_score</th>\n",
       "      <th>split2_test_score</th>\n",
       "      <th>split2_train_score</th>\n",
       "      <th>std_fit_time</th>\n",
       "      <th>std_score_time</th>\n",
       "      <th>std_test_score</th>\n",
       "      <th>std_train_score</th>\n",
       "    </tr>\n",
       "  </thead>\n",
       "  <tbody>\n",
       "    <tr>\n",
       "      <th>0</th>\n",
       "      <td>0.018975</td>\n",
       "      <td>0.006868</td>\n",
       "      <td>0.637486</td>\n",
       "      <td>0.616162</td>\n",
       "      <td>0.01</td>\n",
       "      <td>True</td>\n",
       "      <td>(1, 1)</td>\n",
       "      <td>{'classify__alpha': 0.01, 'transformer__use_id...</td>\n",
       "      <td>6</td>\n",
       "      <td>0.626263</td>\n",
       "      <td>0.616162</td>\n",
       "      <td>0.632997</td>\n",
       "      <td>0.616162</td>\n",
       "      <td>0.653199</td>\n",
       "      <td>0.616162</td>\n",
       "      <td>0.002588</td>\n",
       "      <td>0.001415</td>\n",
       "      <td>0.011446</td>\n",
       "      <td>0.000000</td>\n",
       "    </tr>\n",
       "    <tr>\n",
       "      <th>1</th>\n",
       "      <td>0.027952</td>\n",
       "      <td>0.008416</td>\n",
       "      <td>0.616162</td>\n",
       "      <td>0.616162</td>\n",
       "      <td>0.01</td>\n",
       "      <td>True</td>\n",
       "      <td>(2, 2)</td>\n",
       "      <td>{'classify__alpha': 0.01, 'transformer__use_id...</td>\n",
       "      <td>7</td>\n",
       "      <td>0.616162</td>\n",
       "      <td>0.616162</td>\n",
       "      <td>0.616162</td>\n",
       "      <td>0.616162</td>\n",
       "      <td>0.616162</td>\n",
       "      <td>0.616162</td>\n",
       "      <td>0.002480</td>\n",
       "      <td>0.002168</td>\n",
       "      <td>0.000000</td>\n",
       "      <td>0.000000</td>\n",
       "    </tr>\n",
       "    <tr>\n",
       "      <th>2</th>\n",
       "      <td>0.025147</td>\n",
       "      <td>0.008129</td>\n",
       "      <td>0.616162</td>\n",
       "      <td>0.616162</td>\n",
       "      <td>0.01</td>\n",
       "      <td>True</td>\n",
       "      <td>(3, 3)</td>\n",
       "      <td>{'classify__alpha': 0.01, 'transformer__use_id...</td>\n",
       "      <td>7</td>\n",
       "      <td>0.616162</td>\n",
       "      <td>0.616162</td>\n",
       "      <td>0.616162</td>\n",
       "      <td>0.616162</td>\n",
       "      <td>0.616162</td>\n",
       "      <td>0.616162</td>\n",
       "      <td>0.002497</td>\n",
       "      <td>0.002554</td>\n",
       "      <td>0.000000</td>\n",
       "      <td>0.000000</td>\n",
       "    </tr>\n",
       "    <tr>\n",
       "      <th>3</th>\n",
       "      <td>0.015740</td>\n",
       "      <td>0.004674</td>\n",
       "      <td>0.781145</td>\n",
       "      <td>0.841190</td>\n",
       "      <td>0.01</td>\n",
       "      <td>False</td>\n",
       "      <td>(1, 1)</td>\n",
       "      <td>{'classify__alpha': 0.01, 'transformer__use_id...</td>\n",
       "      <td>2</td>\n",
       "      <td>0.791246</td>\n",
       "      <td>0.848485</td>\n",
       "      <td>0.784512</td>\n",
       "      <td>0.821549</td>\n",
       "      <td>0.767677</td>\n",
       "      <td>0.853535</td>\n",
       "      <td>0.002803</td>\n",
       "      <td>0.000336</td>\n",
       "      <td>0.009912</td>\n",
       "      <td>0.014040</td>\n",
       "    </tr>\n",
       "    <tr>\n",
       "      <th>4</th>\n",
       "      <td>0.016260</td>\n",
       "      <td>0.006522</td>\n",
       "      <td>0.616162</td>\n",
       "      <td>0.616162</td>\n",
       "      <td>0.01</td>\n",
       "      <td>False</td>\n",
       "      <td>(2, 2)</td>\n",
       "      <td>{'classify__alpha': 0.01, 'transformer__use_id...</td>\n",
       "      <td>7</td>\n",
       "      <td>0.616162</td>\n",
       "      <td>0.616162</td>\n",
       "      <td>0.616162</td>\n",
       "      <td>0.616162</td>\n",
       "      <td>0.616162</td>\n",
       "      <td>0.616162</td>\n",
       "      <td>0.001064</td>\n",
       "      <td>0.000444</td>\n",
       "      <td>0.000000</td>\n",
       "      <td>0.000000</td>\n",
       "    </tr>\n",
       "    <tr>\n",
       "      <th>5</th>\n",
       "      <td>0.012839</td>\n",
       "      <td>0.004891</td>\n",
       "      <td>0.616162</td>\n",
       "      <td>0.616162</td>\n",
       "      <td>0.01</td>\n",
       "      <td>False</td>\n",
       "      <td>(3, 3)</td>\n",
       "      <td>{'classify__alpha': 0.01, 'transformer__use_id...</td>\n",
       "      <td>7</td>\n",
       "      <td>0.616162</td>\n",
       "      <td>0.616162</td>\n",
       "      <td>0.616162</td>\n",
       "      <td>0.616162</td>\n",
       "      <td>0.616162</td>\n",
       "      <td>0.616162</td>\n",
       "      <td>0.002766</td>\n",
       "      <td>0.001502</td>\n",
       "      <td>0.000000</td>\n",
       "      <td>0.000000</td>\n",
       "    </tr>\n",
       "    <tr>\n",
       "      <th>6</th>\n",
       "      <td>0.007987</td>\n",
       "      <td>0.002674</td>\n",
       "      <td>0.768799</td>\n",
       "      <td>0.993827</td>\n",
       "      <td>0.001</td>\n",
       "      <td>True</td>\n",
       "      <td>(1, 1)</td>\n",
       "      <td>{'classify__alpha': 0.001, 'transformer__use_i...</td>\n",
       "      <td>3</td>\n",
       "      <td>0.750842</td>\n",
       "      <td>0.994949</td>\n",
       "      <td>0.767677</td>\n",
       "      <td>0.991582</td>\n",
       "      <td>0.787879</td>\n",
       "      <td>0.994949</td>\n",
       "      <td>0.000250</td>\n",
       "      <td>0.000063</td>\n",
       "      <td>0.015141</td>\n",
       "      <td>0.001587</td>\n",
       "    </tr>\n",
       "    <tr>\n",
       "      <th>7</th>\n",
       "      <td>0.012981</td>\n",
       "      <td>0.004038</td>\n",
       "      <td>0.696970</td>\n",
       "      <td>0.998878</td>\n",
       "      <td>0.001</td>\n",
       "      <td>True</td>\n",
       "      <td>(2, 2)</td>\n",
       "      <td>{'classify__alpha': 0.001, 'transformer__use_i...</td>\n",
       "      <td>5</td>\n",
       "      <td>0.710438</td>\n",
       "      <td>0.998316</td>\n",
       "      <td>0.700337</td>\n",
       "      <td>1.000000</td>\n",
       "      <td>0.680135</td>\n",
       "      <td>0.998316</td>\n",
       "      <td>0.004573</td>\n",
       "      <td>0.000948</td>\n",
       "      <td>0.012598</td>\n",
       "      <td>0.000794</td>\n",
       "    </tr>\n",
       "    <tr>\n",
       "      <th>8</th>\n",
       "      <td>0.008631</td>\n",
       "      <td>0.002867</td>\n",
       "      <td>0.616162</td>\n",
       "      <td>0.999439</td>\n",
       "      <td>0.001</td>\n",
       "      <td>True</td>\n",
       "      <td>(3, 3)</td>\n",
       "      <td>{'classify__alpha': 0.001, 'transformer__use_i...</td>\n",
       "      <td>7</td>\n",
       "      <td>0.622896</td>\n",
       "      <td>0.998316</td>\n",
       "      <td>0.609428</td>\n",
       "      <td>1.000000</td>\n",
       "      <td>0.616162</td>\n",
       "      <td>1.000000</td>\n",
       "      <td>0.000182</td>\n",
       "      <td>0.000093</td>\n",
       "      <td>0.005498</td>\n",
       "      <td>0.000794</td>\n",
       "    </tr>\n",
       "    <tr>\n",
       "      <th>9</th>\n",
       "      <td>0.009929</td>\n",
       "      <td>0.003433</td>\n",
       "      <td>0.799102</td>\n",
       "      <td>0.979237</td>\n",
       "      <td>0.001</td>\n",
       "      <td>False</td>\n",
       "      <td>(1, 1)</td>\n",
       "      <td>{'classify__alpha': 0.001, 'transformer__use_i...</td>\n",
       "      <td>1</td>\n",
       "      <td>0.791246</td>\n",
       "      <td>0.983165</td>\n",
       "      <td>0.811448</td>\n",
       "      <td>0.976431</td>\n",
       "      <td>0.794613</td>\n",
       "      <td>0.978114</td>\n",
       "      <td>0.002996</td>\n",
       "      <td>0.001268</td>\n",
       "      <td>0.008837</td>\n",
       "      <td>0.002861</td>\n",
       "    </tr>\n",
       "    <tr>\n",
       "      <th>10</th>\n",
       "      <td>0.009250</td>\n",
       "      <td>0.003017</td>\n",
       "      <td>0.698092</td>\n",
       "      <td>0.996633</td>\n",
       "      <td>0.001</td>\n",
       "      <td>False</td>\n",
       "      <td>(2, 2)</td>\n",
       "      <td>{'classify__alpha': 0.001, 'transformer__use_i...</td>\n",
       "      <td>4</td>\n",
       "      <td>0.710438</td>\n",
       "      <td>0.998316</td>\n",
       "      <td>0.703704</td>\n",
       "      <td>0.996633</td>\n",
       "      <td>0.680135</td>\n",
       "      <td>0.994949</td>\n",
       "      <td>0.000582</td>\n",
       "      <td>0.000176</td>\n",
       "      <td>0.012992</td>\n",
       "      <td>0.001375</td>\n",
       "    </tr>\n",
       "    <tr>\n",
       "      <th>11</th>\n",
       "      <td>0.010938</td>\n",
       "      <td>0.003584</td>\n",
       "      <td>0.616162</td>\n",
       "      <td>0.999439</td>\n",
       "      <td>0.001</td>\n",
       "      <td>False</td>\n",
       "      <td>(3, 3)</td>\n",
       "      <td>{'classify__alpha': 0.001, 'transformer__use_i...</td>\n",
       "      <td>7</td>\n",
       "      <td>0.622896</td>\n",
       "      <td>0.998316</td>\n",
       "      <td>0.609428</td>\n",
       "      <td>1.000000</td>\n",
       "      <td>0.616162</td>\n",
       "      <td>1.000000</td>\n",
       "      <td>0.004079</td>\n",
       "      <td>0.001081</td>\n",
       "      <td>0.005498</td>\n",
       "      <td>0.000794</td>\n",
       "    </tr>\n",
       "  </tbody>\n",
       "</table>\n",
       "</div>"
      ],
      "text/plain": [
       "    mean_fit_time  mean_score_time  mean_test_score  mean_train_score  \\\n",
       "0        0.018975         0.006868         0.637486          0.616162   \n",
       "1        0.027952         0.008416         0.616162          0.616162   \n",
       "2        0.025147         0.008129         0.616162          0.616162   \n",
       "3        0.015740         0.004674         0.781145          0.841190   \n",
       "4        0.016260         0.006522         0.616162          0.616162   \n",
       "5        0.012839         0.004891         0.616162          0.616162   \n",
       "6        0.007987         0.002674         0.768799          0.993827   \n",
       "7        0.012981         0.004038         0.696970          0.998878   \n",
       "8        0.008631         0.002867         0.616162          0.999439   \n",
       "9        0.009929         0.003433         0.799102          0.979237   \n",
       "10       0.009250         0.003017         0.698092          0.996633   \n",
       "11       0.010938         0.003584         0.616162          0.999439   \n",
       "\n",
       "   param_classify__alpha param_transformer__use_idf param_vect__ngram_range  \\\n",
       "0                   0.01                       True                  (1, 1)   \n",
       "1                   0.01                       True                  (2, 2)   \n",
       "2                   0.01                       True                  (3, 3)   \n",
       "3                   0.01                      False                  (1, 1)   \n",
       "4                   0.01                      False                  (2, 2)   \n",
       "5                   0.01                      False                  (3, 3)   \n",
       "6                  0.001                       True                  (1, 1)   \n",
       "7                  0.001                       True                  (2, 2)   \n",
       "8                  0.001                       True                  (3, 3)   \n",
       "9                  0.001                      False                  (1, 1)   \n",
       "10                 0.001                      False                  (2, 2)   \n",
       "11                 0.001                      False                  (3, 3)   \n",
       "\n",
       "                                               params  rank_test_score  \\\n",
       "0   {'classify__alpha': 0.01, 'transformer__use_id...                6   \n",
       "1   {'classify__alpha': 0.01, 'transformer__use_id...                7   \n",
       "2   {'classify__alpha': 0.01, 'transformer__use_id...                7   \n",
       "3   {'classify__alpha': 0.01, 'transformer__use_id...                2   \n",
       "4   {'classify__alpha': 0.01, 'transformer__use_id...                7   \n",
       "5   {'classify__alpha': 0.01, 'transformer__use_id...                7   \n",
       "6   {'classify__alpha': 0.001, 'transformer__use_i...                3   \n",
       "7   {'classify__alpha': 0.001, 'transformer__use_i...                5   \n",
       "8   {'classify__alpha': 0.001, 'transformer__use_i...                7   \n",
       "9   {'classify__alpha': 0.001, 'transformer__use_i...                1   \n",
       "10  {'classify__alpha': 0.001, 'transformer__use_i...                4   \n",
       "11  {'classify__alpha': 0.001, 'transformer__use_i...                7   \n",
       "\n",
       "    split0_test_score  split0_train_score  split1_test_score  \\\n",
       "0            0.626263            0.616162           0.632997   \n",
       "1            0.616162            0.616162           0.616162   \n",
       "2            0.616162            0.616162           0.616162   \n",
       "3            0.791246            0.848485           0.784512   \n",
       "4            0.616162            0.616162           0.616162   \n",
       "5            0.616162            0.616162           0.616162   \n",
       "6            0.750842            0.994949           0.767677   \n",
       "7            0.710438            0.998316           0.700337   \n",
       "8            0.622896            0.998316           0.609428   \n",
       "9            0.791246            0.983165           0.811448   \n",
       "10           0.710438            0.998316           0.703704   \n",
       "11           0.622896            0.998316           0.609428   \n",
       "\n",
       "    split1_train_score  split2_test_score  split2_train_score  std_fit_time  \\\n",
       "0             0.616162           0.653199            0.616162      0.002588   \n",
       "1             0.616162           0.616162            0.616162      0.002480   \n",
       "2             0.616162           0.616162            0.616162      0.002497   \n",
       "3             0.821549           0.767677            0.853535      0.002803   \n",
       "4             0.616162           0.616162            0.616162      0.001064   \n",
       "5             0.616162           0.616162            0.616162      0.002766   \n",
       "6             0.991582           0.787879            0.994949      0.000250   \n",
       "7             1.000000           0.680135            0.998316      0.004573   \n",
       "8             1.000000           0.616162            1.000000      0.000182   \n",
       "9             0.976431           0.794613            0.978114      0.002996   \n",
       "10            0.996633           0.680135            0.994949      0.000582   \n",
       "11            1.000000           0.616162            1.000000      0.004079   \n",
       "\n",
       "    std_score_time  std_test_score  std_train_score  \n",
       "0         0.001415        0.011446         0.000000  \n",
       "1         0.002168        0.000000         0.000000  \n",
       "2         0.002554        0.000000         0.000000  \n",
       "3         0.000336        0.009912         0.014040  \n",
       "4         0.000444        0.000000         0.000000  \n",
       "5         0.001502        0.000000         0.000000  \n",
       "6         0.000063        0.015141         0.001587  \n",
       "7         0.000948        0.012598         0.000794  \n",
       "8         0.000093        0.005498         0.000794  \n",
       "9         0.001268        0.008837         0.002861  \n",
       "10        0.000176        0.012992         0.001375  \n",
       "11        0.001081        0.005498         0.000794  "
      ]
     },
     "execution_count": 55,
     "metadata": {},
     "output_type": "execute_result"
    }
   ],
   "source": [
    "cv_result"
   ]
  },
  {
   "cell_type": "code",
   "execution_count": 56,
   "metadata": {},
   "outputs": [
    {
     "data": {
      "text/plain": [
       "{'classify__alpha': 0.001,\n",
       " 'transformer__use_idf': False,\n",
       " 'vect__ngram_range': (1, 1)}"
      ]
     },
     "execution_count": 56,
     "metadata": {},
     "output_type": "execute_result"
    }
   ],
   "source": [
    "gs_clf.best_params_"
   ]
  },
  {
   "cell_type": "markdown",
   "metadata": {},
   "source": [
    "### Find best model using SVC"
   ]
  },
  {
   "cell_type": "code",
   "execution_count": 57,
   "metadata": {},
   "outputs": [],
   "source": [
    "# We use a pipeline to make things easire\n",
    "from sklearn.linear_model import SGDClassifier\n",
    "best_model_svc = Pipeline([('vect', TfidfVectorizer()),\n",
    "                           ('transformer', TfidfTransformer(use_idf=False)),\n",
    "                           ('classify', SGDClassifier(loss='hinge', penalty='l2', alpha=1e-3, \n",
    "                                                      random_state=0, max_iter=5, tol=None))])"
   ]
  },
  {
   "cell_type": "code",
   "execution_count": 58,
   "metadata": {},
   "outputs": [
    {
     "data": {
      "text/plain": [
       "Pipeline(memory=None,\n",
       "     steps=[('vect', TfidfVectorizer(analyzer='word', binary=False, decode_error='strict',\n",
       "        dtype=<class 'numpy.int64'>, encoding='utf-8', input='content',\n",
       "        lowercase=True, max_df=1.0, max_features=None, min_df=1,\n",
       "        ngram_range=(1, 1), norm='l2', preprocessor=None, smooth_idf=True,\n",
       "  ...lty='l2', power_t=0.5, random_state=0, shuffle=True,\n",
       "       tol=None, verbose=0, warm_start=False))])"
      ]
     },
     "execution_count": 58,
     "metadata": {},
     "output_type": "execute_result"
    }
   ],
   "source": [
    "best_model_svc.fit(train_data['Name'], train_data['Survived'])"
   ]
  },
  {
   "cell_type": "code",
   "execution_count": 59,
   "metadata": {},
   "outputs": [],
   "source": [
    "# Generate out of sample predictions\n",
    "predictions = best_model_svc.predict(test_data['Name'])"
   ]
  },
  {
   "cell_type": "code",
   "execution_count": 60,
   "metadata": {},
   "outputs": [],
   "source": [
    "test_data['Predictions'] = predictions"
   ]
  },
  {
   "cell_type": "code",
   "execution_count": 61,
   "metadata": {},
   "outputs": [
    {
     "name": "stdout",
     "output_type": "stream",
     "text": [
      "Out of sample score is 0.7870813397129187\n"
     ]
    }
   ],
   "source": [
    "kaggle_data = test_data[['PassengerId', 'Predictions']].copy()\n",
    "kaggle_data.rename(columns={'Predictions' : 'Survived'}, inplace=True)\n",
    "kaggle_data.sort_values(by=['PassengerId']).to_csv('kaggle_out_names_svc.csv', index=False)\n",
    "print(\"Out of sample score is {0}\".format(np.sum(test_data['Predictions'] == test_data['Survived'])/len(test_data)))"
   ]
  },
  {
   "cell_type": "markdown",
   "metadata": {},
   "source": [
    "### Use SVC with ticket names as well.\n",
    "\n",
    "Since we see that results using SVC are encouraging, let us use the same with the ticket field as well."
   ]
  },
  {
   "cell_type": "code",
   "execution_count": 63,
   "metadata": {},
   "outputs": [],
   "source": [
    "best_model_svc.fit(train_data['Ticket'], train_data['Survived'])\n",
    "\n",
    "# Generate out of sample predictions\n",
    "predictions = best_model_svc.predict(test_data['Ticket'])\n",
    "test_data['Predictions'] = predictions"
   ]
  },
  {
   "cell_type": "code",
   "execution_count": 64,
   "metadata": {},
   "outputs": [
    {
     "name": "stdout",
     "output_type": "stream",
     "text": [
      "Out of sample score is 0.69377990430622\n"
     ]
    }
   ],
   "source": [
    "kaggle_data = test_data[['PassengerId', 'Predictions']].copy()\n",
    "kaggle_data.rename(columns={'Predictions' : 'Survived'}, inplace=True)\n",
    "kaggle_data.sort_values(by=['PassengerId']).to_csv('kaggle_out_tickets_svc.csv', index=False)\n",
    "print(\"Out of sample score is {0}\".format(np.sum(test_data['Predictions'] == test_data['Survived'])/len(test_data)))"
   ]
  }
 ],
 "metadata": {
  "kernelspec": {
   "display_name": "Python 3",
   "language": "python",
   "name": "python3"
  },
  "language_info": {
   "codemirror_mode": {
    "name": "ipython",
    "version": 3
   },
   "file_extension": ".py",
   "mimetype": "text/x-python",
   "name": "python",
   "nbconvert_exporter": "python",
   "pygments_lexer": "ipython3",
   "version": "3.6.4"
  }
 },
 "nbformat": 4,
 "nbformat_minor": 2
}
