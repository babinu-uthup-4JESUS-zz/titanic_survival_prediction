{
 "cells": [
  {
   "cell_type": "markdown",
   "metadata": {},
   "source": [
    "# Basic Overview\n",
    "This is a stab to see if Oscar's ideas listed as part of the comments [here](https://www.kaggle.com/aashita/xgboost-model-with-minimalistic-features) work.\n",
    "\n",
    "\n",
    "Comments/criticisms/appreciations are greatly accepted and appreciated. Do not be shy and send me an email at babinu@gmail.com !\n",
    "\n",
    "Source of data : https://www.kaggle.com/c/titanic/data"
   ]
  },
  {
   "cell_type": "code",
   "execution_count": 39,
   "metadata": {},
   "outputs": [],
   "source": [
    "import pandas as pd\n",
    "import numpy as np"
   ]
  },
  {
   "cell_type": "code",
   "execution_count": 40,
   "metadata": {},
   "outputs": [],
   "source": [
    "# Ha\n",
    "import os\n",
    "os.environ[\"KMP_DUPLICATE_LIB_OK\"]=\"TRUE\""
   ]
  },
  {
   "cell_type": "code",
   "execution_count": 41,
   "metadata": {},
   "outputs": [],
   "source": [
    "train_data = pd.read_csv(\"../input/train.csv\")\n",
    "test_data = pd.read_csv(\"../input/test_data_processed_correct.csv\")"
   ]
  },
  {
   "cell_type": "code",
   "execution_count": 42,
   "metadata": {},
   "outputs": [
    {
     "data": {
      "text/plain": [
       "array([0., 1.])"
      ]
     },
     "execution_count": 42,
     "metadata": {},
     "output_type": "execute_result"
    }
   ],
   "source": [
    "test_data.Survived.unique()"
   ]
  },
  {
   "cell_type": "markdown",
   "metadata": {},
   "source": [
    "Since XGBoost uses only numeric predictors, and we do not want to increase dimensionality, we will go with numeric encoding for sex and plcass variables for now."
   ]
  },
  {
   "cell_type": "code",
   "execution_count": 43,
   "metadata": {},
   "outputs": [],
   "source": [
    "train_data.loc[(train_data['Sex'] == 'male'), 'Sex'] = 1\n",
    "train_data.loc[(train_data['Sex'] == 'female'), 'Sex'] = 0\n",
    "\n",
    "test_data.loc[(test_data['Sex'] == 'male'), 'Sex'] = 1\n",
    "test_data.loc[(test_data['Sex'] == 'female'), 'Sex'] = 0\n"
   ]
  },
  {
   "cell_type": "code",
   "execution_count": 44,
   "metadata": {},
   "outputs": [],
   "source": [
    "# Add a column called Predictions in training data, which will become handy while doing\n",
    "# cross validation.\n",
    "train_data['Predictions'] = -1"
   ]
  },
  {
   "cell_type": "code",
   "execution_count": 45,
   "metadata": {},
   "outputs": [],
   "source": [
    "from sklearn.preprocessing import Imputer\n",
    "from xgboost import XGBClassifier\n",
    "from sklearn.model_selection import cross_val_score\n",
    "from sklearn.pipeline import make_pipeline\n",
    "from sklearn.model_selection import train_test_split\n",
    "from sklearn.metrics import mean_absolute_error\n",
    "import xgboost as xgb"
   ]
  },
  {
   "cell_type": "code",
   "execution_count": 46,
   "metadata": {},
   "outputs": [],
   "source": [
    "def get_train_test_data(train_data,\n",
    "                        X_columns=['Sex', 'Pclass', 'Age'], \n",
    "                        Y_columns=['Survived']):\n",
    "    # Simple training and testing\n",
    "    X = train_data[X_columns]\n",
    "    Y = train_data[Y_columns]\n",
    "\n",
    "    X_one_hot = pd.get_dummies(X)\n",
    "\n",
    "    # Do imputation on relevant columns.\n",
    "    X_train, X_test, Y_train, Y_test = train_test_split(X_one_hot, Y, random_state=0)\n",
    "\n",
    "    return (X_train, X_test, Y_train, Y_test, X_one_hot, Y)\n"
   ]
  },
  {
   "cell_type": "code",
   "execution_count": 47,
   "metadata": {},
   "outputs": [],
   "source": [
    "def create_pipeline_and_out_of_sample_score(X_train, X_test, Y_train, Y_test, n_estimators=100, \n",
    "                                            learning_rate=0.1):\n",
    "    # Rewrite everything as a pipeline\n",
    "    my_pipeline = make_pipeline(Imputer(), \n",
    "                                XGBClassifier(seed=1, n_estimators=n_estimators, learning_rate=learning_rate))\n",
    "    my_pipeline.fit(X_train, Y_train.values.ravel())\n",
    "    predictions = my_pipeline.predict(X_test)\n",
    "    #predictions = (X_test['Sex'] == 0)\n",
    "    out_of_sample_score = 1.0 - mean_absolute_error(predictions, Y_test)\n",
    "    return (my_pipeline, out_of_sample_score, predictions)"
   ]
  },
  {
   "cell_type": "code",
   "execution_count": 48,
   "metadata": {},
   "outputs": [],
   "source": [
    "def cross_validate(my_pipeline, X_one_hot, Y):\n",
    "    cross_val_scores = cross_val_score(my_pipeline, X_one_hot, Y, scoring='neg_mean_absolute_error', cv=5)\n",
    "    return 1.0  + cross_val_scores.mean()"
   ]
  },
  {
   "cell_type": "code",
   "execution_count": 49,
   "metadata": {},
   "outputs": [],
   "source": [
    "def train_test_cross_validate(train_data, \n",
    "                              X_columns=['Sex', 'Pclass', 'Age'], \n",
    "                              Y_columns=['Survived'],\n",
    "                              n_estimators=100,\n",
    "                              learning_rate=0.1):\n",
    "    (X_train, X_test, Y_train, Y_test, X_one_hot, Y) = get_train_test_data(train_data, X_columns, Y_columns)\n",
    "    my_pipeline, out_of_sample_score, predictions_test = \\\n",
    "        create_pipeline_and_out_of_sample_score(X_train, X_test, Y_train, Y_test, n_estimators, learning_rate)\n",
    "\n",
    "    print(\"Number of entries in training set is {0}\".format(len(X_train)))\n",
    "    predictions_train = my_pipeline.predict(X_train)\n",
    "    #predictions_train = (X_train['Sex'] == 0)    \n",
    "    num_correct_predictions_train = int((1.0 - mean_absolute_error(predictions_train, Y_train)) * len(Y_train))\n",
    "\n",
    "\n",
    "    print(\"Number of correct predictions in training set is {0}\".format(num_correct_predictions_train))    \n",
    "    print(\"Number of entries in test set is {0}\".format(len(X_test)))    \n",
    "    print(\"Number of correct predictions in test set is {0}\".format(int(out_of_sample_score * len(X_test))))\n",
    "\n",
    "    cross_validation_score = cross_validate(make_pipeline(Imputer(), \n",
    "                                                          XGBClassifier(seed=1,\n",
    "                                                                        n_estimators=n_estimators, \n",
    "                                                                        learning_rate=learning_rate)), \n",
    "                                            X_one_hot, Y.values.ravel())\n",
    "    return (my_pipeline, out_of_sample_score, cross_validation_score)"
   ]
  },
  {
   "cell_type": "code",
   "execution_count": 50,
   "metadata": {},
   "outputs": [],
   "source": [
    "# Make sure that unnecessary deprecation warnings are avoided.\n",
    "# Thanks to https://stackoverflow.com/questions/49545947/sklearn-deprecationwarning-truth-value-of-an-array\n",
    "import warnings\n",
    "warnings.filterwarnings(action='ignore', category=DeprecationWarning)\n"
   ]
  },
  {
   "cell_type": "markdown",
   "metadata": {},
   "source": [
    "### Correlation between predictors. "
   ]
  },
  {
   "cell_type": "code",
   "execution_count": 51,
   "metadata": {},
   "outputs": [
    {
     "data": {
      "text/html": [
       "<div>\n",
       "<style scoped>\n",
       "    .dataframe tbody tr th:only-of-type {\n",
       "        vertical-align: middle;\n",
       "    }\n",
       "\n",
       "    .dataframe tbody tr th {\n",
       "        vertical-align: top;\n",
       "    }\n",
       "\n",
       "    .dataframe thead th {\n",
       "        text-align: right;\n",
       "    }\n",
       "</style>\n",
       "<table border=\"1\" class=\"dataframe\">\n",
       "  <thead>\n",
       "    <tr style=\"text-align: right;\">\n",
       "      <th></th>\n",
       "      <th>Survived</th>\n",
       "      <th>Pclass</th>\n",
       "      <th>Age</th>\n",
       "      <th>Sex</th>\n",
       "    </tr>\n",
       "  </thead>\n",
       "  <tbody>\n",
       "    <tr>\n",
       "      <th>Survived</th>\n",
       "      <td>1.000000</td>\n",
       "      <td>-0.338481</td>\n",
       "      <td>-0.077221</td>\n",
       "      <td>-0.543351</td>\n",
       "    </tr>\n",
       "    <tr>\n",
       "      <th>Pclass</th>\n",
       "      <td>-0.338481</td>\n",
       "      <td>1.000000</td>\n",
       "      <td>-0.369226</td>\n",
       "      <td>0.131900</td>\n",
       "    </tr>\n",
       "    <tr>\n",
       "      <th>Age</th>\n",
       "      <td>-0.077221</td>\n",
       "      <td>-0.369226</td>\n",
       "      <td>1.000000</td>\n",
       "      <td>0.093254</td>\n",
       "    </tr>\n",
       "    <tr>\n",
       "      <th>Sex</th>\n",
       "      <td>-0.543351</td>\n",
       "      <td>0.131900</td>\n",
       "      <td>0.093254</td>\n",
       "      <td>1.000000</td>\n",
       "    </tr>\n",
       "  </tbody>\n",
       "</table>\n",
       "</div>"
      ],
      "text/plain": [
       "          Survived    Pclass       Age       Sex\n",
       "Survived  1.000000 -0.338481 -0.077221 -0.543351\n",
       "Pclass   -0.338481  1.000000 -0.369226  0.131900\n",
       "Age      -0.077221 -0.369226  1.000000  0.093254\n",
       "Sex      -0.543351  0.131900  0.093254  1.000000"
      ]
     },
     "execution_count": 51,
     "metadata": {},
     "output_type": "execute_result"
    }
   ],
   "source": [
    "train_data[['Survived', 'Pclass', 'Age', 'Sex']].corr()"
   ]
  },
  {
   "cell_type": "code",
   "execution_count": 52,
   "metadata": {},
   "outputs": [
    {
     "data": {
      "text/plain": [
       "<matplotlib.axes._subplots.AxesSubplot at 0x1a1f35d518>"
      ]
     },
     "execution_count": 52,
     "metadata": {},
     "output_type": "execute_result"
    },
    {
     "data": {
      "image/png": "[encoded data removed]",
      "text/plain": [
       "<Figure size 1152x648 with 2 Axes>"
      ]
     },
     "metadata": {},
     "output_type": "display_data"
    }
   ],
   "source": [
    "import seaborn as sns\n",
    "import matplotlib.pyplot as plt\n",
    "fig, ax = plt.subplots(1, 1, figsize=(16, 9))\n",
    "sns.heatmap(train_data[['Survived', 'Pclass', 'Age', 'Sex']].corr(), ax=ax)"
   ]
  },
  {
   "cell_type": "markdown",
   "metadata": {},
   "source": [
    "The correlation level looks acceptable here."
   ]
  },
  {
   "cell_type": "code",
   "execution_count": 53,
   "metadata": {},
   "outputs": [],
   "source": [
    "# Get the XGBclassifier directly as it is far easier to visualize this than the\n",
    "# pipeline object.\n",
    "def get_sklearn_xgbclassifier(train_data, X_columns=['Sex'], Y_columns=['Survived']):\n",
    "    my_model = XGBClassifier(seed=1)\n",
    "    X_train = train_data[X_columns]\n",
    "    Y_train = train_data[Y_columns]\n",
    "    my_model.fit(X_train, Y_train.values.ravel())    \n",
    "    return my_model"
   ]
  },
  {
   "cell_type": "code",
   "execution_count": 54,
   "metadata": {},
   "outputs": [],
   "source": [
    "def get_gridsearch_crossval_output(train_data, \n",
    "                                   X_columns = ['Sex', 'Pclass'], \n",
    "                                   Y_columns = ['Survived'],\n",
    "                                   n_estimators_list = [10, 50, 70, 100, 120, 150, 200],\n",
    "                                   learning_rates_list = [0.01, 0.02, 0.05, 0.07, 0.1],\n",
    "                                   early_stopping_round = 10,\n",
    "                                   num_cross_val_sets = 5\n",
    "                                  ):\n",
    "    (X_train, X_test, Y_train, Y_test, X_one_hot, Y) = get_train_test_data(train_data, X_columns, Y_columns)\n",
    "    col_names = ['f' + str(i) for i in range(len(X_train.columns))]\n",
    "    X_train.columns = col_names\n",
    "    X_test.columns = col_names\n",
    "    my_pipeline = Pipeline([('imputer', Imputer()), ('xgcl', XGBClassifier())])\n",
    "    param_grid = {\n",
    "        'xgcl__n_estimators' : n_estimators_list,\n",
    "        'xgcl__learning_rate' : learning_rates_list\n",
    "    }\n",
    "    fit_params = {'xgcl__eval_set' : [(X_test, Y_test.values.ravel())],\n",
    "                  'xgcl__early_stopping_rounds' : early_stopping_round,\n",
    "                  'xgcl__verbose': False}\n",
    "\n",
    "    searchCV = GridSearchCV(my_pipeline, cv=num_cross_val_sets, param_grid=param_grid, fit_params=fit_params)\n",
    "    searchCV.fit(X_train, Y_train.values.ravel())\n",
    "    return searchCV"
   ]
  },
  {
   "cell_type": "code",
   "execution_count": 55,
   "metadata": {},
   "outputs": [],
   "source": [
    "def get_model_metrics_and_display(train_data, X_columns=['Sex'], Y_columns=['Survived']):\n",
    "    (my_pipeline, out_of_sample_score, cross_validation_score) = \\\n",
    "        train_test_cross_validate(train_data,\n",
    "                                  X_columns, \n",
    "                                  Y_columns)\n",
    "\n",
    "    print(\"Out of sample score is {0}\\nCross val score is {1}\".format(out_of_sample_score, cross_validation_score))\n",
    "    my_model = get_sklearn_xgbclassifier(train_data, X_columns, Y_columns)\n",
    "    return my_model\n",
    "    "
   ]
  },
  {
   "cell_type": "markdown",
   "metadata": {},
   "source": [
    "### Idea 1:  Gender + Class + Embarked + Age yields a score of 0.78947\n"
   ]
  },
  {
   "cell_type": "code",
   "execution_count": 56,
   "metadata": {},
   "outputs": [
    {
     "data": {
      "text/plain": [
       "array(['S', 'C', 'Q', nan], dtype=object)"
      ]
     },
     "execution_count": 56,
     "metadata": {},
     "output_type": "execute_result"
    }
   ],
   "source": [
    "# Check for the values of Embarked variable.\n",
    "train_data['Embarked'].unique()"
   ]
  },
  {
   "cell_type": "code",
   "execution_count": 57,
   "metadata": {},
   "outputs": [
    {
     "data": {
      "text/html": [
       "<div>\n",
       "<style scoped>\n",
       "    .dataframe tbody tr th:only-of-type {\n",
       "        vertical-align: middle;\n",
       "    }\n",
       "\n",
       "    .dataframe tbody tr th {\n",
       "        vertical-align: top;\n",
       "    }\n",
       "\n",
       "    .dataframe thead th {\n",
       "        text-align: right;\n",
       "    }\n",
       "</style>\n",
       "<table border=\"1\" class=\"dataframe\">\n",
       "  <thead>\n",
       "    <tr style=\"text-align: right;\">\n",
       "      <th></th>\n",
       "      <th>PassengerId</th>\n",
       "      <th>Survived</th>\n",
       "      <th>Pclass</th>\n",
       "      <th>Name</th>\n",
       "      <th>Sex</th>\n",
       "      <th>Age</th>\n",
       "      <th>SibSp</th>\n",
       "      <th>Parch</th>\n",
       "      <th>Ticket</th>\n",
       "      <th>Fare</th>\n",
       "      <th>Cabin</th>\n",
       "      <th>Embarked</th>\n",
       "      <th>Predictions</th>\n",
       "    </tr>\n",
       "  </thead>\n",
       "  <tbody>\n",
       "    <tr>\n",
       "      <th>61</th>\n",
       "      <td>62</td>\n",
       "      <td>1</td>\n",
       "      <td>1</td>\n",
       "      <td>Icard, Miss. Amelie</td>\n",
       "      <td>0</td>\n",
       "      <td>38.0</td>\n",
       "      <td>0</td>\n",
       "      <td>0</td>\n",
       "      <td>113572</td>\n",
       "      <td>80.0</td>\n",
       "      <td>B28</td>\n",
       "      <td>NaN</td>\n",
       "      <td>-1</td>\n",
       "    </tr>\n",
       "    <tr>\n",
       "      <th>829</th>\n",
       "      <td>830</td>\n",
       "      <td>1</td>\n",
       "      <td>1</td>\n",
       "      <td>Stone, Mrs. George Nelson (Martha Evelyn)</td>\n",
       "      <td>0</td>\n",
       "      <td>62.0</td>\n",
       "      <td>0</td>\n",
       "      <td>0</td>\n",
       "      <td>113572</td>\n",
       "      <td>80.0</td>\n",
       "      <td>B28</td>\n",
       "      <td>NaN</td>\n",
       "      <td>-1</td>\n",
       "    </tr>\n",
       "  </tbody>\n",
       "</table>\n",
       "</div>"
      ],
      "text/plain": [
       "     PassengerId  Survived  Pclass                                       Name  \\\n",
       "61            62         1       1                        Icard, Miss. Amelie   \n",
       "829          830         1       1  Stone, Mrs. George Nelson (Martha Evelyn)   \n",
       "\n",
       "     Sex   Age  SibSp  Parch  Ticket  Fare Cabin Embarked  Predictions  \n",
       "61     0  38.0      0      0  113572  80.0   B28      NaN           -1  \n",
       "829    0  62.0      0      0  113572  80.0   B28      NaN           -1  "
      ]
     },
     "execution_count": 57,
     "metadata": {},
     "output_type": "execute_result"
    }
   ],
   "source": [
    "train_data[train_data['Embarked'].isnull()]"
   ]
  },
  {
   "cell_type": "code",
   "execution_count": 58,
   "metadata": {},
   "outputs": [
    {
     "data": {
      "text/html": [
       "<div>\n",
       "<style scoped>\n",
       "    .dataframe tbody tr th:only-of-type {\n",
       "        vertical-align: middle;\n",
       "    }\n",
       "\n",
       "    .dataframe tbody tr th {\n",
       "        vertical-align: top;\n",
       "    }\n",
       "\n",
       "    .dataframe thead th {\n",
       "        text-align: right;\n",
       "    }\n",
       "</style>\n",
       "<table border=\"1\" class=\"dataframe\">\n",
       "  <thead>\n",
       "    <tr style=\"text-align: right;\">\n",
       "      <th></th>\n",
       "      <th>PassengerId</th>\n",
       "      <th>Pclass</th>\n",
       "      <th>Name</th>\n",
       "      <th>Sex</th>\n",
       "      <th>Age</th>\n",
       "      <th>SibSp</th>\n",
       "      <th>Parch</th>\n",
       "      <th>Ticket</th>\n",
       "      <th>Fare</th>\n",
       "      <th>Cabin</th>\n",
       "      <th>Embarked</th>\n",
       "      <th>Survived</th>\n",
       "    </tr>\n",
       "  </thead>\n",
       "  <tbody>\n",
       "  </tbody>\n",
       "</table>\n",
       "</div>"
      ],
      "text/plain": [
       "Empty DataFrame\n",
       "Columns: [PassengerId, Pclass, Name, Sex, Age, SibSp, Parch, Ticket, Fare, Cabin, Embarked, Survived]\n",
       "Index: []"
      ]
     },
     "execution_count": 58,
     "metadata": {},
     "output_type": "execute_result"
    }
   ],
   "source": [
    "test_data[test_data['Embarked'].isnull()]"
   ]
  },
  {
   "cell_type": "code",
   "execution_count": 59,
   "metadata": {},
   "outputs": [],
   "source": [
    "# Remove the nans from the training data before analysis.\n",
    "train_data_new = pd.get_dummies(train_data[train_data['Embarked'].notnull()])\n",
    "test_data_new = pd.get_dummies(test_data[test_data['Embarked'].notnull()])"
   ]
  },
  {
   "cell_type": "code",
   "execution_count": 60,
   "metadata": {},
   "outputs": [
    {
     "data": {
      "text/plain": [
       "Index(['PassengerId', 'Survived', 'Pclass', 'Sex', 'Age', 'SibSp', 'Parch',\n",
       "       'Fare', 'Predictions', 'Name_Abbing, Mr. Anthony',\n",
       "       ...\n",
       "       'Cabin_F G73', 'Cabin_F2', 'Cabin_F33', 'Cabin_F38', 'Cabin_F4',\n",
       "       'Cabin_G6', 'Cabin_T', 'Embarked_C', 'Embarked_Q', 'Embarked_S'],\n",
       "      dtype='object', length=1727)"
      ]
     },
     "execution_count": 60,
     "metadata": {},
     "output_type": "execute_result"
    }
   ],
   "source": [
    "train_data_new.columns"
   ]
  },
  {
   "cell_type": "markdown",
   "metadata": {},
   "source": [
    "Comment : It can be seen that since Embarked is a categorical variable, we will be forced to add in 2 variables (there are 3 values for this variable, hence we can represent this with 2 variables).\n",
    "\n",
    "However, since we want to keep dimensonality as low as possible, we will try to see the 'density' of the values of this variable and check if we can manage with one variable itself."
   ]
  },
  {
   "cell_type": "code",
   "execution_count": 61,
   "metadata": {},
   "outputs": [
    {
     "data": {
      "text/html": [
       "<div>\n",
       "<style scoped>\n",
       "    .dataframe tbody tr th:only-of-type {\n",
       "        vertical-align: middle;\n",
       "    }\n",
       "\n",
       "    .dataframe tbody tr th {\n",
       "        vertical-align: top;\n",
       "    }\n",
       "\n",
       "    .dataframe thead th {\n",
       "        text-align: right;\n",
       "    }\n",
       "</style>\n",
       "<table border=\"1\" class=\"dataframe\">\n",
       "  <thead>\n",
       "    <tr style=\"text-align: right;\">\n",
       "      <th></th>\n",
       "      <th>Embarked_C</th>\n",
       "    </tr>\n",
       "  </thead>\n",
       "  <tbody>\n",
       "    <tr>\n",
       "      <th>count</th>\n",
       "      <td>889.000000</td>\n",
       "    </tr>\n",
       "    <tr>\n",
       "      <th>mean</th>\n",
       "      <td>0.188976</td>\n",
       "    </tr>\n",
       "    <tr>\n",
       "      <th>std</th>\n",
       "      <td>0.391710</td>\n",
       "    </tr>\n",
       "    <tr>\n",
       "      <th>min</th>\n",
       "      <td>0.000000</td>\n",
       "    </tr>\n",
       "    <tr>\n",
       "      <th>25%</th>\n",
       "      <td>0.000000</td>\n",
       "    </tr>\n",
       "    <tr>\n",
       "      <th>50%</th>\n",
       "      <td>0.000000</td>\n",
       "    </tr>\n",
       "    <tr>\n",
       "      <th>75%</th>\n",
       "      <td>0.000000</td>\n",
       "    </tr>\n",
       "    <tr>\n",
       "      <th>max</th>\n",
       "      <td>1.000000</td>\n",
       "    </tr>\n",
       "  </tbody>\n",
       "</table>\n",
       "</div>"
      ],
      "text/plain": [
       "       Embarked_C\n",
       "count  889.000000\n",
       "mean     0.188976\n",
       "std      0.391710\n",
       "min      0.000000\n",
       "25%      0.000000\n",
       "50%      0.000000\n",
       "75%      0.000000\n",
       "max      1.000000"
      ]
     },
     "execution_count": 61,
     "metadata": {},
     "output_type": "execute_result"
    }
   ],
   "source": [
    "train_data_new[['Embarked_C']].describe()"
   ]
  },
  {
   "cell_type": "code",
   "execution_count": 62,
   "metadata": {},
   "outputs": [
    {
     "data": {
      "text/html": [
       "<div>\n",
       "<style scoped>\n",
       "    .dataframe tbody tr th:only-of-type {\n",
       "        vertical-align: middle;\n",
       "    }\n",
       "\n",
       "    .dataframe tbody tr th {\n",
       "        vertical-align: top;\n",
       "    }\n",
       "\n",
       "    .dataframe thead th {\n",
       "        text-align: right;\n",
       "    }\n",
       "</style>\n",
       "<table border=\"1\" class=\"dataframe\">\n",
       "  <thead>\n",
       "    <tr style=\"text-align: right;\">\n",
       "      <th></th>\n",
       "      <th>Embarked_Q</th>\n",
       "    </tr>\n",
       "  </thead>\n",
       "  <tbody>\n",
       "    <tr>\n",
       "      <th>count</th>\n",
       "      <td>889.000000</td>\n",
       "    </tr>\n",
       "    <tr>\n",
       "      <th>mean</th>\n",
       "      <td>0.086614</td>\n",
       "    </tr>\n",
       "    <tr>\n",
       "      <th>std</th>\n",
       "      <td>0.281427</td>\n",
       "    </tr>\n",
       "    <tr>\n",
       "      <th>min</th>\n",
       "      <td>0.000000</td>\n",
       "    </tr>\n",
       "    <tr>\n",
       "      <th>25%</th>\n",
       "      <td>0.000000</td>\n",
       "    </tr>\n",
       "    <tr>\n",
       "      <th>50%</th>\n",
       "      <td>0.000000</td>\n",
       "    </tr>\n",
       "    <tr>\n",
       "      <th>75%</th>\n",
       "      <td>0.000000</td>\n",
       "    </tr>\n",
       "    <tr>\n",
       "      <th>max</th>\n",
       "      <td>1.000000</td>\n",
       "    </tr>\n",
       "  </tbody>\n",
       "</table>\n",
       "</div>"
      ],
      "text/plain": [
       "       Embarked_Q\n",
       "count  889.000000\n",
       "mean     0.086614\n",
       "std      0.281427\n",
       "min      0.000000\n",
       "25%      0.000000\n",
       "50%      0.000000\n",
       "75%      0.000000\n",
       "max      1.000000"
      ]
     },
     "execution_count": 62,
     "metadata": {},
     "output_type": "execute_result"
    }
   ],
   "source": [
    "train_data_new[['Embarked_Q']].describe()"
   ]
  },
  {
   "cell_type": "code",
   "execution_count": 63,
   "metadata": {},
   "outputs": [
    {
     "data": {
      "text/html": [
       "<div>\n",
       "<style scoped>\n",
       "    .dataframe tbody tr th:only-of-type {\n",
       "        vertical-align: middle;\n",
       "    }\n",
       "\n",
       "    .dataframe tbody tr th {\n",
       "        vertical-align: top;\n",
       "    }\n",
       "\n",
       "    .dataframe thead th {\n",
       "        text-align: right;\n",
       "    }\n",
       "</style>\n",
       "<table border=\"1\" class=\"dataframe\">\n",
       "  <thead>\n",
       "    <tr style=\"text-align: right;\">\n",
       "      <th></th>\n",
       "      <th>Embarked_S</th>\n",
       "    </tr>\n",
       "  </thead>\n",
       "  <tbody>\n",
       "    <tr>\n",
       "      <th>count</th>\n",
       "      <td>889.000000</td>\n",
       "    </tr>\n",
       "    <tr>\n",
       "      <th>mean</th>\n",
       "      <td>0.724409</td>\n",
       "    </tr>\n",
       "    <tr>\n",
       "      <th>std</th>\n",
       "      <td>0.447063</td>\n",
       "    </tr>\n",
       "    <tr>\n",
       "      <th>min</th>\n",
       "      <td>0.000000</td>\n",
       "    </tr>\n",
       "    <tr>\n",
       "      <th>25%</th>\n",
       "      <td>0.000000</td>\n",
       "    </tr>\n",
       "    <tr>\n",
       "      <th>50%</th>\n",
       "      <td>1.000000</td>\n",
       "    </tr>\n",
       "    <tr>\n",
       "      <th>75%</th>\n",
       "      <td>1.000000</td>\n",
       "    </tr>\n",
       "    <tr>\n",
       "      <th>max</th>\n",
       "      <td>1.000000</td>\n",
       "    </tr>\n",
       "  </tbody>\n",
       "</table>\n",
       "</div>"
      ],
      "text/plain": [
       "       Embarked_S\n",
       "count  889.000000\n",
       "mean     0.724409\n",
       "std      0.447063\n",
       "min      0.000000\n",
       "25%      0.000000\n",
       "50%      1.000000\n",
       "75%      1.000000\n",
       "max      1.000000"
      ]
     },
     "execution_count": 63,
     "metadata": {},
     "output_type": "execute_result"
    }
   ],
   "source": [
    "train_data_new[['Embarked_S']].describe()"
   ]
  },
  {
   "cell_type": "markdown",
   "metadata": {},
   "source": [
    "Comments : It can be easily seen that 'S' is the major embarking point and hence let us use only that as our predictor for now(as far as 'Embarked' variable is concerned)."
   ]
  },
  {
   "cell_type": "code",
   "execution_count": 64,
   "metadata": {},
   "outputs": [],
   "source": [
    "X_columns = ['Sex', 'Pclass', 'Age', 'Embarked_S']\n",
    "Y_columns = ['Survived']"
   ]
  },
  {
   "cell_type": "code",
   "execution_count": 65,
   "metadata": {},
   "outputs": [
    {
     "name": "stdout",
     "output_type": "stream",
     "text": [
      "Number of entries in training set is 666\n",
      "Number of correct predictions in training set is 576\n",
      "Number of entries in test set is 223\n",
      "Number of correct predictions in test set is 176\n",
      "Out of sample score is 0.789237668161435\n",
      "Cross val score is 0.823411413698978\n"
     ]
    },
    {
     "data": {
      "image/svg+xml": [
       "<?xml version=\"1.0\" encoding=\"UTF-8\" standalone=\"no\"?>\n",
       "<!DOCTYPE svg PUBLIC \"-//W3C//DTD SVG 1.1//EN\"\n",
       " \"http://www.w3.org/Graphics/SVG/1.1/DTD/svg11.dtd\">\n",
       "<!-- Generated by graphviz version 2.40.1 (20161225.0304)\n",
       " -->\n",
       "<!-- Title: %3 Pages: 1 -->\n",
       "<svg width=\"689pt\" height=\"430pt\"\n",
       " viewBox=\"0.00 0.00 689.00 429.68\" xmlns=\"http://www.w3.org/2000/svg\" xmlns:xlink=\"http://www.w3.org/1999/xlink\">\n",
       "<g id=\"graph0\" class=\"graph\" transform=\"scale(1 1) rotate(0) translate(4 425.6794)\">\n",
       "<title>%3</title>\n",
       "<polygon fill=\"#ffffff\" stroke=\"transparent\" points=\"-4,4 -4,-425.6794 685,-425.6794 685,4 -4,4\"/>\n",
       "<!-- 0 -->\n",
       "<g id=\"node1\" class=\"node\">\n",
       "<title>0</title>\n",
       "<ellipse fill=\"none\" stroke=\"#000000\" cx=\"221.5\" cy=\"-393.7318\" rx=\"27.8951\" ry=\"27.8951\"/>\n",
       "<text text-anchor=\"middle\" x=\"221.5\" y=\"-390.0318\" font-family=\"Times,serif\" font-size=\"14.00\" fill=\"#000000\">Sex&lt;1</text>\n",
       "</g>\n",
       "<!-- 1 -->\n",
       "<g id=\"node2\" class=\"node\">\n",
       "<title>1</title>\n",
       "<ellipse fill=\"none\" stroke=\"#000000\" cx=\"165.5\" cy=\"-279.6874\" rx=\"35.194\" ry=\"35.194\"/>\n",
       "<text text-anchor=\"middle\" x=\"165.5\" y=\"-275.9874\" font-family=\"Times,serif\" font-size=\"14.00\" fill=\"#000000\">Pclass&lt;3</text>\n",
       "</g>\n",
       "<!-- 0&#45;&gt;1 -->\n",
       "<g id=\"edge1\" class=\"edge\">\n",
       "<title>0&#45;&gt;1</title>\n",
       "<path fill=\"none\" stroke=\"#0000ff\" d=\"M206.6132,-369.733C202.501,-362.7561 198.1652,-355.0548 194.5,-347.7843 190.3371,-339.5265 186.2228,-330.5297 182.4589,-321.8622\"/>\n",
       "<polygon fill=\"#0000ff\" stroke=\"#0000ff\" points=\"185.6674,-320.4634 178.5264,-312.6368 179.228,-323.2084 185.6674,-320.4634\"/>\n",
       "<text text-anchor=\"middle\" x=\"220.5\" y=\"-336.5843\" font-family=\"Times,serif\" font-size=\"14.00\" fill=\"#000000\">yes, missing</text>\n",
       "</g>\n",
       "<!-- 2 -->\n",
       "<g id=\"node3\" class=\"node\">\n",
       "<title>2</title>\n",
       "<ellipse fill=\"none\" stroke=\"#000000\" cx=\"328.5\" cy=\"-279.6874\" rx=\"32.4942\" ry=\"32.4942\"/>\n",
       "<text text-anchor=\"middle\" x=\"328.5\" y=\"-275.9874\" font-family=\"Times,serif\" font-size=\"14.00\" fill=\"#000000\">Age&lt;13</text>\n",
       "</g>\n",
       "<!-- 0&#45;&gt;2 -->\n",
       "<g id=\"edge2\" class=\"edge\">\n",
       "<title>0&#45;&gt;2</title>\n",
       "<path fill=\"none\" stroke=\"#ff0000\" d=\"M240.6295,-373.343C256.9398,-355.9588 280.6412,-330.6971 299.319,-310.7896\"/>\n",
       "<polygon fill=\"#ff0000\" stroke=\"#ff0000\" points=\"301.9158,-313.1371 306.2056,-303.4496 296.8109,-308.3475 301.9158,-313.1371\"/>\n",
       "<text text-anchor=\"middle\" x=\"284\" y=\"-336.5843\" font-family=\"Times,serif\" font-size=\"14.00\" fill=\"#000000\">no</text>\n",
       "</g>\n",
       "<!-- 3 -->\n",
       "<g id=\"node4\" class=\"node\">\n",
       "<title>3</title>\n",
       "<polygon fill=\"none\" stroke=\"#000000\" points=\"94,-158.2953 1,-158.2953 1,-122.2953 94,-122.2953 94,-158.2953\"/>\n",
       "<text text-anchor=\"middle\" x=\"47.5\" y=\"-136.5953\" font-family=\"Times,serif\" font-size=\"14.00\" fill=\"#000000\">leaf=0.174418613</text>\n",
       "</g>\n",
       "<!-- 1&#45;&gt;3 -->\n",
       "<g id=\"edge3\" class=\"edge\">\n",
       "<title>1&#45;&gt;3</title>\n",
       "<path fill=\"none\" stroke=\"#0000ff\" d=\"M138.8408,-256.3393C129.2005,-247.4076 118.4852,-236.8869 109.5,-226.5905 93.0769,-207.771 76.6825,-184.719 64.8807,-167.176\"/>\n",
       "<polygon fill=\"#0000ff\" stroke=\"#0000ff\" points=\"67.6019,-164.9472 59.1518,-158.556 61.772,-168.8217 67.6019,-164.9472\"/>\n",
       "<text text-anchor=\"middle\" x=\"135.5\" y=\"-215.3905\" font-family=\"Times,serif\" font-size=\"14.00\" fill=\"#000000\">yes, missing</text>\n",
       "</g>\n",
       "<!-- 4 -->\n",
       "<g id=\"node5\" class=\"node\">\n",
       "<title>4</title>\n",
       "<ellipse fill=\"none\" stroke=\"#000000\" cx=\"165.5\" cy=\"-140.2953\" rx=\"53.0913\" ry=\"53.0913\"/>\n",
       "<text text-anchor=\"middle\" x=\"165.5\" y=\"-136.5953\" font-family=\"Times,serif\" font-size=\"14.00\" fill=\"#000000\">Embarked_S&lt;1</text>\n",
       "</g>\n",
       "<!-- 1&#45;&gt;4 -->\n",
       "<g id=\"edge4\" class=\"edge\">\n",
       "<title>1&#45;&gt;4</title>\n",
       "<path fill=\"none\" stroke=\"#ff0000\" d=\"M165.5,-244.5129C165.5,-232.1171 165.5,-217.7721 165.5,-203.7653\"/>\n",
       "<polygon fill=\"#ff0000\" stroke=\"#ff0000\" points=\"169.0001,-203.6585 165.5,-193.6586 162.0001,-203.6586 169.0001,-203.6585\"/>\n",
       "<text text-anchor=\"middle\" x=\"171\" y=\"-215.3905\" font-family=\"Times,serif\" font-size=\"14.00\" fill=\"#000000\">no</text>\n",
       "</g>\n",
       "<!-- 5 -->\n",
       "<g id=\"node8\" class=\"node\">\n",
       "<title>5</title>\n",
       "<ellipse fill=\"none\" stroke=\"#000000\" cx=\"328.5\" cy=\"-140.2953\" rx=\"35.194\" ry=\"35.194\"/>\n",
       "<text text-anchor=\"middle\" x=\"328.5\" y=\"-136.5953\" font-family=\"Times,serif\" font-size=\"14.00\" fill=\"#000000\">Pclass&lt;3</text>\n",
       "</g>\n",
       "<!-- 2&#45;&gt;5 -->\n",
       "<g id=\"edge7\" class=\"edge\">\n",
       "<title>2&#45;&gt;5</title>\n",
       "<path fill=\"none\" stroke=\"#0000ff\" d=\"M328.5,-247.0062C328.5,-228.7787 328.5,-205.7929 328.5,-185.8267\"/>\n",
       "<polygon fill=\"#0000ff\" stroke=\"#0000ff\" points=\"332.0001,-185.7021 328.5,-175.7021 325.0001,-185.7022 332.0001,-185.7021\"/>\n",
       "<text text-anchor=\"middle\" x=\"335.5\" y=\"-215.3905\" font-family=\"Times,serif\" font-size=\"14.00\" fill=\"#000000\">yes</text>\n",
       "</g>\n",
       "<!-- 6 -->\n",
       "<g id=\"node9\" class=\"node\">\n",
       "<title>6</title>\n",
       "<ellipse fill=\"none\" stroke=\"#000000\" cx=\"514.5\" cy=\"-140.2953\" rx=\"35.194\" ry=\"35.194\"/>\n",
       "<text text-anchor=\"middle\" x=\"514.5\" y=\"-136.5953\" font-family=\"Times,serif\" font-size=\"14.00\" fill=\"#000000\">Pclass&lt;2</text>\n",
       "</g>\n",
       "<!-- 2&#45;&gt;6 -->\n",
       "<g id=\"edge8\" class=\"edge\">\n",
       "<title>2&#45;&gt;6</title>\n",
       "<path fill=\"none\" stroke=\"#ff0000\" d=\"M354.7548,-260.0116C386.9239,-235.9034 441.6125,-194.9187 477.8974,-167.726\"/>\n",
       "<polygon fill=\"#ff0000\" stroke=\"#ff0000\" points=\"480.345,-170.2656 486.2482,-161.4677 476.147,-164.664 480.345,-170.2656\"/>\n",
       "<text text-anchor=\"middle\" x=\"441\" y=\"-215.3905\" font-family=\"Times,serif\" font-size=\"14.00\" fill=\"#000000\">no, missing</text>\n",
       "</g>\n",
       "<!-- 7 -->\n",
       "<g id=\"node6\" class=\"node\">\n",
       "<title>7</title>\n",
       "<polygon fill=\"none\" stroke=\"#000000\" points=\"99,-36 0,-36 0,0 99,0 99,-36\"/>\n",
       "<text text-anchor=\"middle\" x=\"49.5\" y=\"-14.3\" font-family=\"Times,serif\" font-size=\"14.00\" fill=\"#000000\">leaf=0.0733333379</text>\n",
       "</g>\n",
       "<!-- 4&#45;&gt;7 -->\n",
       "<g id=\"edge5\" class=\"edge\">\n",
       "<title>4&#45;&gt;7</title>\n",
       "<path fill=\"none\" stroke=\"#0000ff\" d=\"M128.7969,-101.6003C110.8381,-82.6669 89.7159,-60.3984 73.7887,-43.6068\"/>\n",
       "<polygon fill=\"#0000ff\" stroke=\"#0000ff\" points=\"76.2876,-41.1555 66.8664,-36.3088 71.2089,-45.9729 76.2876,-41.1555\"/>\n",
       "<text text-anchor=\"middle\" x=\"123.5\" y=\"-57.8\" font-family=\"Times,serif\" font-size=\"14.00\" fill=\"#000000\">yes, missing</text>\n",
       "</g>\n",
       "<!-- 8 -->\n",
       "<g id=\"node7\" class=\"node\">\n",
       "<title>8</title>\n",
       "<polygon fill=\"none\" stroke=\"#000000\" points=\"214,-36 117,-36 117,0 214,0 214,-36\"/>\n",
       "<text text-anchor=\"middle\" x=\"165.5\" y=\"-14.3\" font-family=\"Times,serif\" font-size=\"14.00\" fill=\"#000000\">leaf=&#45;0.047826089</text>\n",
       "</g>\n",
       "<!-- 4&#45;&gt;8 -->\n",
       "<g id=\"edge6\" class=\"edge\">\n",
       "<title>4&#45;&gt;8</title>\n",
       "<path fill=\"none\" stroke=\"#ff0000\" d=\"M165.5,-86.6548C165.5,-72.7983 165.5,-58.4197 165.5,-46.4233\"/>\n",
       "<polygon fill=\"#ff0000\" stroke=\"#ff0000\" points=\"169.0001,-46.1592 165.5,-36.1593 162.0001,-46.1593 169.0001,-46.1592\"/>\n",
       "<text text-anchor=\"middle\" x=\"171\" y=\"-57.8\" font-family=\"Times,serif\" font-size=\"14.00\" fill=\"#000000\">no</text>\n",
       "</g>\n",
       "<!-- 9 -->\n",
       "<g id=\"node10\" class=\"node\">\n",
       "<title>9</title>\n",
       "<polygon fill=\"none\" stroke=\"#000000\" points=\"325,-36 232,-36 232,0 325,0 325,-36\"/>\n",
       "<text text-anchor=\"middle\" x=\"278.5\" y=\"-14.3\" font-family=\"Times,serif\" font-size=\"14.00\" fill=\"#000000\">leaf=0.150000006</text>\n",
       "</g>\n",
       "<!-- 5&#45;&gt;9 -->\n",
       "<g id=\"edge9\" class=\"edge\">\n",
       "<title>5&#45;&gt;9</title>\n",
       "<path fill=\"none\" stroke=\"#0000ff\" d=\"M315.1009,-107.5224C307.1564,-88.0908 297.2036,-63.7472 289.6829,-45.3523\"/>\n",
       "<polygon fill=\"#0000ff\" stroke=\"#0000ff\" points=\"292.9136,-44.0056 285.8894,-36.0739 286.4342,-46.6547 292.9136,-44.0056\"/>\n",
       "<text text-anchor=\"middle\" x=\"325.5\" y=\"-57.8\" font-family=\"Times,serif\" font-size=\"14.00\" fill=\"#000000\">yes, missing</text>\n",
       "</g>\n",
       "<!-- 10 -->\n",
       "<g id=\"node11\" class=\"node\">\n",
       "<title>10</title>\n",
       "<polygon fill=\"none\" stroke=\"#000000\" points=\"445.5,-36 343.5,-36 343.5,0 445.5,0 445.5,-36\"/>\n",
       "<text text-anchor=\"middle\" x=\"394.5\" y=\"-14.3\" font-family=\"Times,serif\" font-size=\"14.00\" fill=\"#000000\">leaf=&#45;0.0482758619</text>\n",
       "</g>\n",
       "<!-- 5&#45;&gt;10 -->\n",
       "<g id=\"edge10\" class=\"edge\">\n",
       "<title>5&#45;&gt;10</title>\n",
       "<path fill=\"none\" stroke=\"#ff0000\" d=\"M345.3254,-109.1186C355.9764,-89.3827 369.614,-64.1128 379.8245,-45.193\"/>\n",
       "<polygon fill=\"#ff0000\" stroke=\"#ff0000\" points=\"383.0061,-46.6671 384.6754,-36.2046 376.846,-43.3426 383.0061,-46.6671\"/>\n",
       "<text text-anchor=\"middle\" x=\"381\" y=\"-57.8\" font-family=\"Times,serif\" font-size=\"14.00\" fill=\"#000000\">no</text>\n",
       "</g>\n",
       "<!-- 11 -->\n",
       "<g id=\"node12\" class=\"node\">\n",
       "<title>11</title>\n",
       "<polygon fill=\"none\" stroke=\"#000000\" points=\"565.5,-36 463.5,-36 463.5,0 565.5,0 565.5,-36\"/>\n",
       "<text text-anchor=\"middle\" x=\"514.5\" y=\"-14.3\" font-family=\"Times,serif\" font-size=\"14.00\" fill=\"#000000\">leaf=&#45;0.0569105707</text>\n",
       "</g>\n",
       "<!-- 6&#45;&gt;11 -->\n",
       "<g id=\"edge11\" class=\"edge\">\n",
       "<title>6&#45;&gt;11</title>\n",
       "<path fill=\"none\" stroke=\"#0000ff\" d=\"M514.5,-104.9224C514.5,-86.3451 514.5,-63.8828 514.5,-46.4465\"/>\n",
       "<polygon fill=\"#0000ff\" stroke=\"#0000ff\" points=\"518.0001,-46.3191 514.5,-36.3192 511.0001,-46.3192 518.0001,-46.3191\"/>\n",
       "<text text-anchor=\"middle\" x=\"540.5\" y=\"-57.8\" font-family=\"Times,serif\" font-size=\"14.00\" fill=\"#000000\">yes, missing</text>\n",
       "</g>\n",
       "<!-- 12 -->\n",
       "<g id=\"node13\" class=\"node\">\n",
       "<title>12</title>\n",
       "<polygon fill=\"none\" stroke=\"#000000\" points=\"681,-36 584,-36 584,0 681,0 681,-36\"/>\n",
       "<text text-anchor=\"middle\" x=\"632.5\" y=\"-14.3\" font-family=\"Times,serif\" font-size=\"14.00\" fill=\"#000000\">leaf=&#45;0.154823527</text>\n",
       "</g>\n",
       "<!-- 6&#45;&gt;12 -->\n",
       "<g id=\"edge12\" class=\"edge\">\n",
       "<title>6&#45;&gt;12</title>\n",
       "<path fill=\"none\" stroke=\"#ff0000\" d=\"M538.9497,-114.9556C559.1508,-94.0192 587.6954,-64.4355 607.9297,-43.4647\"/>\n",
       "<polygon fill=\"#ff0000\" stroke=\"#ff0000\" points=\"610.5527,-45.7869 614.9775,-36.1603 605.5152,-40.9264 610.5527,-45.7869\"/>\n",
       "<text text-anchor=\"middle\" x=\"603\" y=\"-57.8\" font-family=\"Times,serif\" font-size=\"14.00\" fill=\"#000000\">no</text>\n",
       "</g>\n",
       "</g>\n",
       "</svg>\n"
      ],
      "text/plain": [
       "<graphviz.dot.Digraph at 0x1a1f4e2d68>"
      ]
     },
     "execution_count": 65,
     "metadata": {},
     "output_type": "execute_result"
    }
   ],
   "source": [
    "my_model = get_model_metrics_and_display(train_data_new,X_columns=X_columns)\n",
    "xgb.to_graphviz(my_model)\n"
   ]
  },
  {
   "cell_type": "markdown",
   "metadata": {},
   "source": [
    "Comment : The performance does not look bad and asks for more tuning. Let us do it !"
   ]
  },
  {
   "cell_type": "markdown",
   "metadata": {},
   "source": [
    "#### Fine tuning using xgboost cross validation\n"
   ]
  },
  {
   "cell_type": "code",
   "execution_count": 66,
   "metadata": {},
   "outputs": [],
   "source": [
    "X_train = train_data_new[X_columns]\n",
    "Y_train = train_data_new[Y_columns]\n",
    "dtrain = xgb.DMatrix(data=X_train, label=Y_train)\n",
    "params = {\"Objective\" : 'gbtree',\n",
    "          \"eval_metric\" : 'error',\n",
    "          'learning_rate' : 0.01\n",
    "         }\n",
    "cv = xgb.cv(dtrain=dtrain, params=params, num_boost_round=500, nfold=5, seed=0, early_stopping_rounds=10)"
   ]
  },
  {
   "cell_type": "code",
   "execution_count": 67,
   "metadata": {},
   "outputs": [
    {
     "data": {
      "text/html": [
       "<div>\n",
       "<style scoped>\n",
       "    .dataframe tbody tr th:only-of-type {\n",
       "        vertical-align: middle;\n",
       "    }\n",
       "\n",
       "    .dataframe tbody tr th {\n",
       "        vertical-align: top;\n",
       "    }\n",
       "\n",
       "    .dataframe thead th {\n",
       "        text-align: right;\n",
       "    }\n",
       "</style>\n",
       "<table border=\"1\" class=\"dataframe\">\n",
       "  <thead>\n",
       "    <tr style=\"text-align: right;\">\n",
       "      <th></th>\n",
       "      <th>test-error-mean</th>\n",
       "      <th>test-error-std</th>\n",
       "      <th>train-error-mean</th>\n",
       "      <th>train-error-std</th>\n",
       "    </tr>\n",
       "  </thead>\n",
       "  <tbody>\n",
       "    <tr>\n",
       "      <th>0</th>\n",
       "      <td>0.193417</td>\n",
       "      <td>0.050409</td>\n",
       "      <td>0.138918</td>\n",
       "      <td>0.010581</td>\n",
       "    </tr>\n",
       "    <tr>\n",
       "      <th>1</th>\n",
       "      <td>0.193417</td>\n",
       "      <td>0.050409</td>\n",
       "      <td>0.138918</td>\n",
       "      <td>0.010581</td>\n",
       "    </tr>\n",
       "    <tr>\n",
       "      <th>2</th>\n",
       "      <td>0.193417</td>\n",
       "      <td>0.050409</td>\n",
       "      <td>0.138918</td>\n",
       "      <td>0.010581</td>\n",
       "    </tr>\n",
       "    <tr>\n",
       "      <th>3</th>\n",
       "      <td>0.193417</td>\n",
       "      <td>0.050409</td>\n",
       "      <td>0.138918</td>\n",
       "      <td>0.010581</td>\n",
       "    </tr>\n",
       "    <tr>\n",
       "      <th>4</th>\n",
       "      <td>0.193417</td>\n",
       "      <td>0.050409</td>\n",
       "      <td>0.137230</td>\n",
       "      <td>0.008463</td>\n",
       "    </tr>\n",
       "    <tr>\n",
       "      <th>5</th>\n",
       "      <td>0.193417</td>\n",
       "      <td>0.050409</td>\n",
       "      <td>0.136949</td>\n",
       "      <td>0.008738</td>\n",
       "    </tr>\n",
       "    <tr>\n",
       "      <th>6</th>\n",
       "      <td>0.193417</td>\n",
       "      <td>0.050409</td>\n",
       "      <td>0.137230</td>\n",
       "      <td>0.008463</td>\n",
       "    </tr>\n",
       "    <tr>\n",
       "      <th>7</th>\n",
       "      <td>0.193417</td>\n",
       "      <td>0.050409</td>\n",
       "      <td>0.136667</td>\n",
       "      <td>0.008590</td>\n",
       "    </tr>\n",
       "    <tr>\n",
       "      <th>8</th>\n",
       "      <td>0.193417</td>\n",
       "      <td>0.050409</td>\n",
       "      <td>0.136668</td>\n",
       "      <td>0.007977</td>\n",
       "    </tr>\n",
       "    <tr>\n",
       "      <th>9</th>\n",
       "      <td>0.188923</td>\n",
       "      <td>0.042843</td>\n",
       "      <td>0.136949</td>\n",
       "      <td>0.007582</td>\n",
       "    </tr>\n",
       "  </tbody>\n",
       "</table>\n",
       "</div>"
      ],
      "text/plain": [
       "   test-error-mean  test-error-std  train-error-mean  train-error-std\n",
       "0         0.193417        0.050409          0.138918         0.010581\n",
       "1         0.193417        0.050409          0.138918         0.010581\n",
       "2         0.193417        0.050409          0.138918         0.010581\n",
       "3         0.193417        0.050409          0.138918         0.010581\n",
       "4         0.193417        0.050409          0.137230         0.008463\n",
       "5         0.193417        0.050409          0.136949         0.008738\n",
       "6         0.193417        0.050409          0.137230         0.008463\n",
       "7         0.193417        0.050409          0.136667         0.008590\n",
       "8         0.193417        0.050409          0.136668         0.007977\n",
       "9         0.188923        0.042843          0.136949         0.007582"
      ]
     },
     "execution_count": 67,
     "metadata": {},
     "output_type": "execute_result"
    }
   ],
   "source": [
    "cv.tail(10)"
   ]
  },
  {
   "cell_type": "markdown",
   "metadata": {},
   "source": [
    "#### Fine tuning using GridSearchCV\n"
   ]
  },
  {
   "cell_type": "code",
   "execution_count": 68,
   "metadata": {},
   "outputs": [],
   "source": [
    "from sklearn.preprocessing import Imputer\n",
    "from sklearn.pipeline import Pipeline\n",
    "from sklearn.model_selection import GridSearchCV"
   ]
  },
  {
   "cell_type": "code",
   "execution_count": 69,
   "metadata": {},
   "outputs": [
    {
     "data": {
      "text/plain": [
       "{'xgcl__learning_rate': 0.01, 'xgcl__n_estimators': 10}"
      ]
     },
     "execution_count": 69,
     "metadata": {},
     "output_type": "execute_result"
    }
   ],
   "source": [
    "searchCV = get_gridsearch_crossval_output(train_data_new, X_columns=X_columns)\n",
    "searchCV.best_params_\n"
   ]
  },
  {
   "cell_type": "code",
   "execution_count": 70,
   "metadata": {},
   "outputs": [
    {
     "name": "stderr",
     "output_type": "stream",
     "text": [
      "/Users/babs4JESUS/anaconda3/lib/python3.6/site-packages/sklearn/utils/deprecation.py:122: FutureWarning: You are accessing a training score ('mean_train_score'), which will not be available by default any more in 0.21. If you need training scores, please set return_train_score=True\n",
      "  warnings.warn(*warn_args, **warn_kwargs)\n"
     ]
    },
    {
     "data": {
      "text/plain": [
       "array([0.83821725, 0.83821725, 0.83821725, 0.83821725, 0.83821725,\n",
       "       0.83821725, 0.83821725, 0.83821725, 0.83821725, 0.83821725,\n",
       "       0.83821725, 0.83821725, 0.83821725, 0.83821725, 0.83821725,\n",
       "       0.83859319, 0.83859319, 0.83859319, 0.83859319, 0.83859319,\n",
       "       0.83859319, 0.83934507, 0.84009554, 0.84009554, 0.84009554,\n",
       "       0.84009554, 0.84009554, 0.84009554, 0.8408446 , 0.84159648,\n",
       "       0.84159648, 0.84159648, 0.84159648, 0.84159648, 0.84159648])"
      ]
     },
     "execution_count": 70,
     "metadata": {},
     "output_type": "execute_result"
    }
   ],
   "source": [
    "searchCV.cv_results_['mean_train_score']"
   ]
  },
  {
   "cell_type": "code",
   "execution_count": 71,
   "metadata": {},
   "outputs": [
    {
     "data": {
      "text/plain": [
       "array([0.83333333, 0.83333333, 0.83333333, 0.83333333, 0.83333333,\n",
       "       0.83333333, 0.83333333, 0.83333333, 0.83333333, 0.83333333,\n",
       "       0.83333333, 0.83333333, 0.83333333, 0.83333333, 0.83333333,\n",
       "       0.83183183, 0.83183183, 0.83183183, 0.83183183, 0.83183183,\n",
       "       0.83183183, 0.83183183, 0.83183183, 0.83183183, 0.83183183,\n",
       "       0.83183183, 0.83183183, 0.83183183, 0.83183183, 0.83033033,\n",
       "       0.83033033, 0.83033033, 0.83033033, 0.83033033, 0.83033033])"
      ]
     },
     "execution_count": 71,
     "metadata": {},
     "output_type": "execute_result"
    }
   ],
   "source": [
    "searchCV.cv_results_['mean_test_score']"
   ]
  },
  {
   "cell_type": "markdown",
   "metadata": {},
   "source": [
    "Comment : Both methods agree on this estimate, and hence let us go ahead and generate out of sample predictions using the same."
   ]
  },
  {
   "cell_type": "code",
   "execution_count": 72,
   "metadata": {},
   "outputs": [
    {
     "name": "stdout",
     "output_type": "stream",
     "text": [
      "Number of entries in training set is 666\n",
      "Number of correct predictions in training set is 557\n",
      "Number of entries in test set is 223\n",
      "Number of correct predictions in test set is 175\n",
      "Out of sample score is 0.7847533632286996\n",
      "Cross val score is 0.8076556846314987\n"
     ]
    }
   ],
   "source": [
    "(my_pipeline, out_of_sample_score, cross_validation_score) = \\\n",
    "    train_test_cross_validate(train_data_new,\n",
    "                              X_columns, \n",
    "                              Y_columns,\n",
    "                              n_estimators=10,\n",
    "                              learning_rate=0.01)\n",
    "    \n",
    "print(\"Out of sample score is {0}\\nCross val score is {1}\".format(out_of_sample_score, cross_validation_score))\n",
    "\n"
   ]
  },
  {
   "cell_type": "markdown",
   "metadata": {},
   "source": [
    "Comment : The mystery continue, but let us generate out of sample predictions on kaggle test data !"
   ]
  },
  {
   "cell_type": "code",
   "execution_count": 73,
   "metadata": {},
   "outputs": [
    {
     "data": {
      "text/plain": [
       "['Sex', 'Pclass', 'Age', 'Embarked_S']"
      ]
     },
     "execution_count": 73,
     "metadata": {},
     "output_type": "execute_result"
    }
   ],
   "source": [
    "X_columns"
   ]
  },
  {
   "cell_type": "code",
   "execution_count": 74,
   "metadata": {},
   "outputs": [
    {
     "name": "stdout",
     "output_type": "stream",
     "text": [
      "Complete score on out of sample data is 0.784688995215311\n"
     ]
    }
   ],
   "source": [
    "#create_pipeline_and_out_of_sample_score(X_train, X_test, Y_train, Y_test)\n",
    "Y_column = ['Survived']\n",
    "X_train = train_data_new[X_columns]\n",
    "X_train_one_hot = pd.get_dummies(X_train)\n",
    "Y_train = train_data_new[Y_column]\n",
    "X_test = test_data_new[X_columns]\n",
    "X_test_one_hot = pd.get_dummies(X_test)\n",
    "Y_test = test_data_new[Y_column]\n",
    "(my_pipeline, out_of_sample_score, predictions_out_of_sample) = \\\n",
    "    create_pipeline_and_out_of_sample_score(X_train_one_hot, \n",
    "                                            X_test_one_hot,\n",
    "                                            Y_train,\n",
    "                                            Y_test,\n",
    "                                            10,\n",
    "                                            0.01)\n",
    "print(\"Complete score on out of sample data is {0}\".format(out_of_sample_score))\n",
    "test_data['Predictions'] = predictions_out_of_sample\n",
    "kaggle_data = test_data[['PassengerId', 'Predictions']].copy()\n",
    "kaggle_data.rename(columns={'Predictions' : 'Survived'}, inplace=True)\n",
    "kaggle_data.sort_values(by=['PassengerId']).to_csv('kaggle_out_xgboost_sex_pclass_embarked.csv', index=False)"
   ]
  },
  {
   "cell_type": "markdown",
   "metadata": {},
   "source": [
    "### Another model on Parch,SibSp, Embarked\n",
    "\n",
    "We add another model using Parch,SibSp and Embarked factors which could prove useful in ensembling."
   ]
  },
  {
   "cell_type": "code",
   "execution_count": 75,
   "metadata": {},
   "outputs": [
    {
     "name": "stdout",
     "output_type": "stream",
     "text": [
      "Complete score on out of sample data is 0.6770334928229664\n"
     ]
    }
   ],
   "source": [
    "#create_pipeline_and_out_of_sample_score(X_train, X_test, Y_train, Y_test)\n",
    "Y_column = ['Survived']\n",
    "X_columns = ['Parch', 'SibSp', 'Embarked_S']\n",
    "X_train = train_data_new[X_columns]\n",
    "X_train_one_hot = pd.get_dummies(X_train)\n",
    "Y_train = train_data_new[Y_column]\n",
    "X_test = test_data_new[X_columns]\n",
    "X_test_one_hot = pd.get_dummies(X_test)\n",
    "Y_test = test_data_new[Y_column]\n",
    "(my_pipeline, out_of_sample_score, predictions_out_of_sample) = \\\n",
    "    create_pipeline_and_out_of_sample_score(X_train_one_hot, \n",
    "                                            X_test_one_hot,\n",
    "                                            Y_train,\n",
    "                                            Y_test)\n",
    "print(\"Complete score on out of sample data is {0}\".format(out_of_sample_score))\n",
    "test_data['Predictions'] = predictions_out_of_sample\n",
    "kaggle_data = test_data[['PassengerId', 'Predictions']].copy()\n",
    "kaggle_data.rename(columns={'Predictions' : 'Survived'}, inplace=True)\n",
    "kaggle_data.sort_values(by=['PassengerId']).to_csv('kaggle_out_xgboost_parch_sibsp_embarked.csv', index=False)"
   ]
  }
 ],
 "metadata": {
  "kernelspec": {
   "display_name": "Python 3",
   "language": "python",
   "name": "python3"
  },
  "language_info": {
   "codemirror_mode": {
    "name": "ipython",
    "version": 3
   },
   "file_extension": ".py",
   "mimetype": "text/x-python",
   "name": "python",
   "nbconvert_exporter": "python",
   "pygments_lexer": "ipython3",
   "version": "3.6.4"
  }
 },
 "nbformat": 4,
 "nbformat_minor": 2
}
