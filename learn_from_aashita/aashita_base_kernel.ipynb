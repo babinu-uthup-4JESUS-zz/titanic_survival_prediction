{
 "cells": [
  {
   "cell_type": "markdown",
   "metadata": {
    "_cell_guid": "baf0ffeb-2f8c-42cd-bd06-72df0122f8d1",
    "_uuid": "deee186eefa5f62ae8f8d4085538ae701afeab63"
   },
   "source": [
    "# Titanic survival prediction "
   ]
  },
  {
   "cell_type": "markdown",
   "metadata": {
    "_cell_guid": "dc1711c9-709f-4dbf-9ed5-65a9637e1220",
    "_uuid": "a4e48709148ddf3b7c1dd9c02e462e8b975012d1"
   },
   "source": [
    "First we import the data and the relevant python modules:"
   ]
  },
  {
   "cell_type": "code",
   "execution_count": 1,
   "metadata": {
    "_cell_guid": "aa077ff1-c532-40d5-86f2-f85f901cf1cb",
    "_uuid": "434deda42cf417a18246b8ff6f6aeab5b025ec06"
   },
   "outputs": [],
   "source": [
    "import pandas as pd\n",
    "import numpy as np\n",
    "import re\n",
    "\n",
    "import matplotlib.pyplot as plt\n",
    "import seaborn as sns\n",
    "%matplotlib inline\n",
    "\n",
    "import xgboost as xgb\n",
    "from xgboost import XGBClassifier\n",
    "from sklearn.ensemble import GradientBoostingClassifier\n",
    "\n",
    "from sklearn.ensemble.partial_dependence import partial_dependence, plot_partial_dependence\n",
    "\n",
    "import warnings\n",
    "warnings.filterwarnings('ignore')\n",
    "\n",
    "train = pd.read_csv('../input/train.csv')\n",
    "target = train.Survived.astype('category', ordered=False)\n",
    "train.drop('Survived', axis=1)\n",
    "\n",
    "test = pd.read_csv('../input/test.csv')\n",
    "PassengerId = test.PassengerId"
   ]
  },
  {
   "cell_type": "code",
   "execution_count": 2,
   "metadata": {
    "_cell_guid": "4a871814-cb22-42de-a960-7d3f8f78ca99",
    "_uuid": "890b7b7bbed4be5278e2ccc258fb2f40dc2519cd"
   },
   "outputs": [
    {
     "data": {
      "text/html": [
       "<div>\n",
       "<style scoped>\n",
       "    .dataframe tbody tr th:only-of-type {\n",
       "        vertical-align: middle;\n",
       "    }\n",
       "\n",
       "    .dataframe tbody tr th {\n",
       "        vertical-align: top;\n",
       "    }\n",
       "\n",
       "    .dataframe thead th {\n",
       "        text-align: right;\n",
       "    }\n",
       "</style>\n",
       "<table border=\"1\" class=\"dataframe\">\n",
       "  <thead>\n",
       "    <tr style=\"text-align: right;\">\n",
       "      <th></th>\n",
       "      <th>PassengerId</th>\n",
       "      <th>Survived</th>\n",
       "      <th>Pclass</th>\n",
       "      <th>Name</th>\n",
       "      <th>Sex</th>\n",
       "      <th>Age</th>\n",
       "      <th>SibSp</th>\n",
       "      <th>Parch</th>\n",
       "      <th>Ticket</th>\n",
       "      <th>Fare</th>\n",
       "      <th>Cabin</th>\n",
       "      <th>Embarked</th>\n",
       "    </tr>\n",
       "  </thead>\n",
       "  <tbody>\n",
       "    <tr>\n",
       "      <th>0</th>\n",
       "      <td>1</td>\n",
       "      <td>0</td>\n",
       "      <td>3</td>\n",
       "      <td>Braund, Mr. Owen Harris</td>\n",
       "      <td>male</td>\n",
       "      <td>22.0</td>\n",
       "      <td>1</td>\n",
       "      <td>0</td>\n",
       "      <td>A/5 21171</td>\n",
       "      <td>7.2500</td>\n",
       "      <td>NaN</td>\n",
       "      <td>S</td>\n",
       "    </tr>\n",
       "    <tr>\n",
       "      <th>1</th>\n",
       "      <td>2</td>\n",
       "      <td>1</td>\n",
       "      <td>1</td>\n",
       "      <td>Cumings, Mrs. John Bradley (Florence Briggs Th...</td>\n",
       "      <td>female</td>\n",
       "      <td>38.0</td>\n",
       "      <td>1</td>\n",
       "      <td>0</td>\n",
       "      <td>PC 17599</td>\n",
       "      <td>71.2833</td>\n",
       "      <td>C85</td>\n",
       "      <td>C</td>\n",
       "    </tr>\n",
       "    <tr>\n",
       "      <th>2</th>\n",
       "      <td>3</td>\n",
       "      <td>1</td>\n",
       "      <td>3</td>\n",
       "      <td>Heikkinen, Miss. Laina</td>\n",
       "      <td>female</td>\n",
       "      <td>26.0</td>\n",
       "      <td>0</td>\n",
       "      <td>0</td>\n",
       "      <td>STON/O2. 3101282</td>\n",
       "      <td>7.9250</td>\n",
       "      <td>NaN</td>\n",
       "      <td>S</td>\n",
       "    </tr>\n",
       "    <tr>\n",
       "      <th>3</th>\n",
       "      <td>4</td>\n",
       "      <td>1</td>\n",
       "      <td>1</td>\n",
       "      <td>Futrelle, Mrs. Jacques Heath (Lily May Peel)</td>\n",
       "      <td>female</td>\n",
       "      <td>35.0</td>\n",
       "      <td>1</td>\n",
       "      <td>0</td>\n",
       "      <td>113803</td>\n",
       "      <td>53.1000</td>\n",
       "      <td>C123</td>\n",
       "      <td>S</td>\n",
       "    </tr>\n",
       "    <tr>\n",
       "      <th>4</th>\n",
       "      <td>5</td>\n",
       "      <td>0</td>\n",
       "      <td>3</td>\n",
       "      <td>Allen, Mr. William Henry</td>\n",
       "      <td>male</td>\n",
       "      <td>35.0</td>\n",
       "      <td>0</td>\n",
       "      <td>0</td>\n",
       "      <td>373450</td>\n",
       "      <td>8.0500</td>\n",
       "      <td>NaN</td>\n",
       "      <td>S</td>\n",
       "    </tr>\n",
       "  </tbody>\n",
       "</table>\n",
       "</div>"
      ],
      "text/plain": [
       "   PassengerId  Survived  Pclass  \\\n",
       "0            1         0       3   \n",
       "1            2         1       1   \n",
       "2            3         1       3   \n",
       "3            4         1       1   \n",
       "4            5         0       3   \n",
       "\n",
       "                                                Name     Sex   Age  SibSp  \\\n",
       "0                            Braund, Mr. Owen Harris    male  22.0      1   \n",
       "1  Cumings, Mrs. John Bradley (Florence Briggs Th...  female  38.0      1   \n",
       "2                             Heikkinen, Miss. Laina  female  26.0      0   \n",
       "3       Futrelle, Mrs. Jacques Heath (Lily May Peel)  female  35.0      1   \n",
       "4                           Allen, Mr. William Henry    male  35.0      0   \n",
       "\n",
       "   Parch            Ticket     Fare Cabin Embarked  \n",
       "0      0         A/5 21171   7.2500   NaN        S  \n",
       "1      0          PC 17599  71.2833   C85        C  \n",
       "2      0  STON/O2. 3101282   7.9250   NaN        S  \n",
       "3      0            113803  53.1000  C123        S  \n",
       "4      0            373450   8.0500   NaN        S  "
      ]
     },
     "execution_count": 2,
     "metadata": {},
     "output_type": "execute_result"
    }
   ],
   "source": [
    "train.head()"
   ]
  },
  {
   "cell_type": "markdown",
   "metadata": {
    "_cell_guid": "656db7af-bc3b-4d98-9955-5dcfa4810e07",
    "_uuid": "dc5555db9ed655b9694f285b73e10fb2c9754e6d"
   },
   "source": [
    "# Exploratory Data Analysis"
   ]
  },
  {
   "cell_type": "markdown",
   "metadata": {
    "_cell_guid": "407611dc-cac3-403d-b9ba-c9f1b90ad1ae",
    "_uuid": "15c98ffe1c44caabf9016569908fc6287a3504ba"
   },
   "source": [
    "A much higher percentage of female passengers survived the titanic shipwreck as compared to the male passengers."
   ]
  },
  {
   "cell_type": "code",
   "execution_count": 3,
   "metadata": {
    "_cell_guid": "780d0965-10ff-4762-a847-c28204552848",
    "_uuid": "48aec531e5a268dc5ff19a7d8153e799265b4876"
   },
   "outputs": [
    {
     "data": {
      "image/png": "[encoded data removed]",
      "text/plain": [
       "<Figure size 432x288 with 1 Axes>"
      ]
     },
     "metadata": {},
     "output_type": "display_data"
    }
   ],
   "source": [
    "sns.barplot(x='Sex', y='Survived', data=train);"
   ]
  },
  {
   "cell_type": "markdown",
   "metadata": {
    "_cell_guid": "2c7131c8-5d14-44f9-8edb-267ac62226cf",
    "_uuid": "8f3b8dd0a717fb36247a385cb63259739d2bd05e"
   },
   "source": [
    "Similarly the graph below suggests that the ticket class can also be a useful indicator in predicting the survival."
   ]
  },
  {
   "cell_type": "code",
   "execution_count": 4,
   "metadata": {
    "_cell_guid": "e9371390-119d-4ff9-a90e-de352f6dac02",
    "_uuid": "5a8fc5aab96c77d9370d163ad4bb2e46f0e43f1e"
   },
   "outputs": [
    {
     "data": {
      "image/png": "[encoded data removed]",
      "text/plain": [
       "<Figure size 432x288 with 1 Axes>"
      ]
     },
     "metadata": {},
     "output_type": "display_data"
    }
   ],
   "source": [
    "sns.barplot(x='Pclass', y='Survived', data=train);"
   ]
  },
  {
   "cell_type": "markdown",
   "metadata": {
    "_cell_guid": "3a1526f6-e4e8-4f8e-be6a-5eb7e3d72774",
    "_uuid": "0ac0aa815f62dc57a260ab418fe07634cd730f63"
   },
   "source": [
    "Now we look at how the gender within the ticket classes affects the chance of survival."
   ]
  },
  {
   "cell_type": "code",
   "execution_count": 5,
   "metadata": {
    "_cell_guid": "11433487-4df5-44d1-b24e-64ec4fe247b3",
    "_uuid": "e68cae636cd9554d12493a90defb9ad0c10ead63"
   },
   "outputs": [
    {
     "data": {
      "image/png": "[encoded data removed]",
      "text/plain": [
       "<Figure size 432x288 with 1 Axes>"
      ]
     },
     "metadata": {},
     "output_type": "display_data"
    }
   ],
   "source": [
    "sns.barplot(x='Sex', y='Survived', hue = 'Pclass', data=train);"
   ]
  },
  {
   "cell_type": "markdown",
   "metadata": {
    "_cell_guid": "d45e245a-353b-40a6-8890-2a9d50b1f720",
    "_uuid": "afa70404dc5b7cb679b584a355e0b69a1645c651"
   },
   "source": [
    "It seems like for both genders, ticket class play a role in predicting the chance of survival. "
   ]
  },
  {
   "cell_type": "markdown",
   "metadata": {
    "_cell_guid": "6d74d469-ef0e-42d5-aeaa-a34fb269b74c",
    "_uuid": "b4afafbfafe15302b39144839b52bde5d5201c21"
   },
   "source": [
    "Next we check the survival rate among both genders within the three ticket classes."
   ]
  },
  {
   "cell_type": "code",
   "execution_count": 6,
   "metadata": {
    "_cell_guid": "21847637-705a-4f8f-8d89-77880a0bd816",
    "_uuid": "6b0e572024dc8873fb26e98a0c3c540b1523f18a"
   },
   "outputs": [
    {
     "data": {
      "image/png": "[encoded data removed]",
      "text/plain": [
       "<Figure size 432x288 with 1 Axes>"
      ]
     },
     "metadata": {},
     "output_type": "display_data"
    }
   ],
   "source": [
    "sns.barplot(x='Pclass', y='Survived', hue = 'Sex', data=train);"
   ]
  },
  {
   "cell_type": "markdown",
   "metadata": {
    "_cell_guid": "26fd5a77-f4e9-4f0d-8b07-670cb0c82432",
    "_uuid": "db713f62f02ab3790676adecbd6402b7cb019dad"
   },
   "source": [
    "It seems that though the gender affects the chance of survival for all the three ticket classes, its effect is most pronounced for the second class passenger and least prounced for the third class. This is also reflected by the slopes in the graph below."
   ]
  },
  {
   "cell_type": "code",
   "execution_count": 7,
   "metadata": {
    "_cell_guid": "7724e5e4-b14f-44e3-b872-d925870d289b",
    "_uuid": "2a9c3f1bd372f329e1345efc6b76ac3c7e9961d3"
   },
   "outputs": [
    {
     "data": {
      "image/png": "[encoded data removed]",
      "text/plain": [
       "<Figure size 432x288 with 1 Axes>"
      ]
     },
     "metadata": {},
     "output_type": "display_data"
    }
   ],
   "source": [
    "sns.pointplot(x='Sex', y='Survived', hue = 'Pclass', data=train);"
   ]
  },
  {
   "cell_type": "markdown",
   "metadata": {
    "_cell_guid": "e5d4a708-fa91-4ab4-b4fe-c845198d6f58",
    "_uuid": "54d4f29c48c3a4d4ba483000633ad6ff33802c93"
   },
   "source": [
    "Within each gender, surviving passengers have a higher median fare than those who did not survive. However, the gap in fares between those who survived and who did not is more pronounced among females. "
   ]
  },
  {
   "cell_type": "code",
   "execution_count": 8,
   "metadata": {
    "_cell_guid": "68cbfb61-ab99-4260-95d6-1596087fa85f",
    "_uuid": "15ded746d39f8a2b124c02cc300ef5a19653c43c"
   },
   "outputs": [
    {
     "data": {
      "image/png": "[encoded data removed]",
      "text/plain": [
       "<Figure size 339.875x288 with 1 Axes>"
      ]
     },
     "metadata": {},
     "output_type": "display_data"
    }
   ],
   "source": [
    "sns.factorplot(x='Sex', y='Fare', hue='Survived', data=train);"
   ]
  },
  {
   "cell_type": "markdown",
   "metadata": {
    "_cell_guid": "3417c31d-94eb-4d3e-b54b-5cf4c150cae0",
    "_uuid": "4dfeddf916b836c457407163e13ecd457ddd2593"
   },
   "source": [
    "The higher survival rate for female passengers can be explained by their higher fares to some extent. "
   ]
  },
  {
   "cell_type": "code",
   "execution_count": 9,
   "metadata": {
    "_cell_guid": "086140cf-29ed-4395-a4d4-ce4e4833f666",
    "_uuid": "81f12722c78d95c3d6e889382bc730a60a03efda"
   },
   "outputs": [
    {
     "data": {
      "image/png": "[encoded data removed]",
      "text/plain": [
       "<Figure size 432x288 with 1 Axes>"
      ]
     },
     "metadata": {},
     "output_type": "display_data"
    }
   ],
   "source": [
    " sns.boxplot(x='Sex', y='Fare', hue='Survived', data=train);"
   ]
  },
  {
   "cell_type": "markdown",
   "metadata": {
    "_cell_guid": "38374153-56ca-46fe-b516-b06d3e54b160",
    "_uuid": "87ccac7c2169ae807ebbaa922a77fe179d2bedc2"
   },
   "source": [
    "Does it mean that when we compare the survival rate for male and female passengers who paid similar fares, the men have higher survival than women? The following two graphs indicates otherwise."
   ]
  },
  {
   "cell_type": "code",
   "execution_count": 10,
   "metadata": {
    "_cell_guid": "9848a542-fc06-4dc4-9f4b-34ebe29c3d9d",
    "_uuid": "37fd47e4077c0b20003f38a11129db3e12dc72cc"
   },
   "outputs": [
    {
     "data": {
      "image/png": "[encoded data removed]",
      "text/plain": [
       "<Figure size 432x288 with 1 Axes>"
      ]
     },
     "metadata": {},
     "output_type": "display_data"
    }
   ],
   "source": [
    " sns.stripplot(x='Sex', y='Fare', hue='Survived', data=train);"
   ]
  },
  {
   "cell_type": "code",
   "execution_count": 11,
   "metadata": {
    "_cell_guid": "0d24bd5a-e1ca-4663-b8d4-e477f13df760",
    "_uuid": "0564158b93ecb5aa83cb409edeaf5951468f3a83"
   },
   "outputs": [
    {
     "data": {
      "image/png": "[encoded data removed]",
      "text/plain": [
       "<Figure size 432x288 with 1 Axes>"
      ]
     },
     "metadata": {},
     "output_type": "display_data"
    }
   ],
   "source": [
    " sns.swarmplot(x='Sex', y='Fare', hue='Survived', data=train);"
   ]
  },
  {
   "cell_type": "markdown",
   "metadata": {
    "_cell_guid": "6b01361c-10dc-418a-916a-883fc959793a",
    "_uuid": "dd37353406894a894600f425980bdcc1cb66d11f"
   },
   "source": [
    "We observed that though each of the feature - Sex, Class and Fare is closely related to the survival, there is an interesting interplay among them. I have not included the interplay among the other remaining features to keep the kernel length as short as possible, but the kernels in the references mentioned below have explored it in more detail.\n",
    "After we train the model, we will check again which features the model considered more important than others in predicting the survival."
   ]
  },
  {
   "cell_type": "markdown",
   "metadata": {
    "_cell_guid": "7d27499b-e4f9-4fd8-a252-e669ceec2b25",
    "_uuid": "30aa27dc738e9726706069f9195f840a2fd15e31"
   },
   "source": [
    "# Feature Engineering"
   ]
  },
  {
   "cell_type": "code",
   "execution_count": 12,
   "metadata": {
    "_cell_guid": "4b050e5c-d9d7-4a10-bac0-b8f7b1956602",
    "_uuid": "7caf02bf1ba60dff6d58a188a5459cd143085e0b"
   },
   "outputs": [
    {
     "data": {
      "text/plain": [
       "(891, 12)"
      ]
     },
     "execution_count": 12,
     "metadata": {},
     "output_type": "execute_result"
    }
   ],
   "source": [
    "train.shape"
   ]
  },
  {
   "cell_type": "markdown",
   "metadata": {
    "_cell_guid": "042cc5c5-994e-4f0d-bf77-2000201d7eeb",
    "_uuid": "cb4ae385c2533569000bd8cc67eea0306bd51896"
   },
   "source": [
    "The training data consists of 891 passengers which means the sample size is small, so a complex model runs a chance of overfitting to the training set and not predicting as well on the unseen test data. Keeping this in view, it is desirable to be selective about which features to include in our model."
   ]
  },
  {
   "cell_type": "code",
   "execution_count": 13,
   "metadata": {
    "_cell_guid": "5a6f72bb-5af8-4308-afd7-2cc4fc94929a",
    "_uuid": "4859c824730e41e0ad8315beb77c1fb0744e4efd"
   },
   "outputs": [
    {
     "data": {
      "text/plain": [
       "PassengerId      0\n",
       "Survived         0\n",
       "Pclass           0\n",
       "Name             0\n",
       "Sex              0\n",
       "Age            177\n",
       "SibSp            0\n",
       "Parch            0\n",
       "Ticket           0\n",
       "Fare             0\n",
       "Cabin          687\n",
       "Embarked         2\n",
       "dtype: int64"
      ]
     },
     "execution_count": 13,
     "metadata": {},
     "output_type": "execute_result"
    }
   ],
   "source": [
    "train.isnull().sum()"
   ]
  },
  {
   "cell_type": "markdown",
   "metadata": {
    "_cell_guid": "d7def55c-9b24-4148-86a5-1677b43aaecf",
    "_uuid": "50ea889c004e30478c8b6f3358f10d930e40bd6a"
   },
   "source": [
    "A lot of values from the Age and Cabin columns are missing. We decide to fill the Age column whereas discard the Cabin column. "
   ]
  },
  {
   "cell_type": "markdown",
   "metadata": {
    "_cell_guid": "6d91645a-40e2-4696-9e52-1335d408f1c7",
    "_uuid": "ec6b04bade476e7d3a89a7934c3056bf2b2f2b63"
   },
   "source": [
    "The title of the passengers can be extracted from their names. The titles have a strong correlation with gender and when age as well as the number of parent-children and sibling-spouses are also accounted, the titles does not seems to add much information and hence can be discarded. However, the titles are useful to fill the missing values in age column since passengers with the same title tend to have similar age."
   ]
  },
  {
   "cell_type": "code",
   "execution_count": 14,
   "metadata": {
    "_cell_guid": "45926afc-cfe7-4ac2-9813-e68cd46f4cc9",
    "_uuid": "7ef40ef5c69aad371144fa199377d800a140be43"
   },
   "outputs": [],
   "source": [
    "def get_Titles(df):\n",
    "    df.Name = df.Name.apply(lambda name: re.findall(\"\\s\\S+[.]\\s\", name)[0].strip())\n",
    "    df = df.rename(columns = {'Name': 'Title'})\n",
    "    df.Title.replace({'Ms.': 'Miss.', 'Mlle.': 'Miss.', 'Dr.': 'Rare', 'Mme.': 'Mr.', 'Major.': 'Rare', 'Lady.': 'Rare', 'Sir.': 'Rare', 'Col.': 'Rare', 'Capt.': 'Rare', 'Countess.': 'Rare', 'Jonkheer.': 'Rare', 'Dona.': 'Rare', 'Don.': 'Rare', 'Rev.': 'Rare'}, inplace=True)\n",
    "    return df"
   ]
  },
  {
   "cell_type": "markdown",
   "metadata": {
    "_cell_guid": "8d7e646c-4cd2-41b4-b249-8bdb8be76005",
    "_uuid": "8dfd80adf8bd6daf8fea8a435d7d514c080f23ef"
   },
   "source": [
    "We first group the passengers as per their titles and then fill the missing values for the age using the median age for each group."
   ]
  },
  {
   "cell_type": "code",
   "execution_count": 15,
   "metadata": {
    "_cell_guid": "73fd97ae-a2e5-4a51-98c5-446807de6b31",
    "_uuid": "c390a6c322b2a6a05813974689ae2698e73c5d54"
   },
   "outputs": [],
   "source": [
    "def fill_Age(df):\n",
    "    df.Age = df.Age.fillna(df.groupby(\"Title\").Age.transform(\"median\"))\n",
    "    return df"
   ]
  },
  {
   "cell_type": "markdown",
   "metadata": {
    "_cell_guid": "ee133e4d-53a0-43b8-a9bf-8280c2c75cf4",
    "_uuid": "60e18aa2d5d3ac980606453b1d2cf48b4a002692"
   },
   "source": [
    "We observe that multiple passengers were traveling on the same ticket. "
   ]
  },
  {
   "cell_type": "code",
   "execution_count": 16,
   "metadata": {
    "_cell_guid": "34e85d3b-bc2f-42eb-902b-5bfc41de91ea",
    "_uuid": "0cf7067009802dfbb836344cf56b48ea0e2ee86c"
   },
   "outputs": [
    {
     "data": {
      "text/plain": [
       "1601            7\n",
       "347082          7\n",
       "CA. 2343        7\n",
       "CA 2144         6\n",
       "347088          6\n",
       "3101295         6\n",
       "S.O.C. 14879    5\n",
       "382652          5\n",
       "17421           4\n",
       "LINE            4\n",
       "Name: Ticket, dtype: int64"
      ]
     },
     "execution_count": 16,
     "metadata": {},
     "output_type": "execute_result"
    }
   ],
   "source": [
    "train.Ticket.value_counts()[:10]"
   ]
  },
  {
   "cell_type": "markdown",
   "metadata": {
    "_cell_guid": "50618dc1-ac12-4f46-850e-8b31eecbfc85",
    "_uuid": "a656abf506e771d605c4594d59455a4c0f4a7073"
   },
   "source": [
    "Often the tickets are shared among family members with the same last name. "
   ]
  },
  {
   "cell_type": "code",
   "execution_count": 17,
   "metadata": {
    "_cell_guid": "26ab09b4-24ca-464a-a8ff-a99c4eab1303",
    "_uuid": "817e3c1e903a3f801e0183cd1b44fcf01d078801"
   },
   "outputs": [
    {
     "data": {
      "text/html": [
       "<div>\n",
       "<style scoped>\n",
       "    .dataframe tbody tr th:only-of-type {\n",
       "        vertical-align: middle;\n",
       "    }\n",
       "\n",
       "    .dataframe tbody tr th {\n",
       "        vertical-align: top;\n",
       "    }\n",
       "\n",
       "    .dataframe thead th {\n",
       "        text-align: right;\n",
       "    }\n",
       "</style>\n",
       "<table border=\"1\" class=\"dataframe\">\n",
       "  <thead>\n",
       "    <tr style=\"text-align: right;\">\n",
       "      <th></th>\n",
       "      <th>PassengerId</th>\n",
       "      <th>Survived</th>\n",
       "      <th>Pclass</th>\n",
       "      <th>Name</th>\n",
       "      <th>Sex</th>\n",
       "      <th>Age</th>\n",
       "      <th>SibSp</th>\n",
       "      <th>Parch</th>\n",
       "      <th>Ticket</th>\n",
       "      <th>Fare</th>\n",
       "      <th>Cabin</th>\n",
       "      <th>Embarked</th>\n",
       "    </tr>\n",
       "  </thead>\n",
       "  <tbody>\n",
       "    <tr>\n",
       "      <th>159</th>\n",
       "      <td>160</td>\n",
       "      <td>0</td>\n",
       "      <td>3</td>\n",
       "      <td>Sage, Master. Thomas Henry</td>\n",
       "      <td>male</td>\n",
       "      <td>NaN</td>\n",
       "      <td>8</td>\n",
       "      <td>2</td>\n",
       "      <td>CA. 2343</td>\n",
       "      <td>69.55</td>\n",
       "      <td>NaN</td>\n",
       "      <td>S</td>\n",
       "    </tr>\n",
       "    <tr>\n",
       "      <th>180</th>\n",
       "      <td>181</td>\n",
       "      <td>0</td>\n",
       "      <td>3</td>\n",
       "      <td>Sage, Miss. Constance Gladys</td>\n",
       "      <td>female</td>\n",
       "      <td>NaN</td>\n",
       "      <td>8</td>\n",
       "      <td>2</td>\n",
       "      <td>CA. 2343</td>\n",
       "      <td>69.55</td>\n",
       "      <td>NaN</td>\n",
       "      <td>S</td>\n",
       "    </tr>\n",
       "    <tr>\n",
       "      <th>201</th>\n",
       "      <td>202</td>\n",
       "      <td>0</td>\n",
       "      <td>3</td>\n",
       "      <td>Sage, Mr. Frederick</td>\n",
       "      <td>male</td>\n",
       "      <td>NaN</td>\n",
       "      <td>8</td>\n",
       "      <td>2</td>\n",
       "      <td>CA. 2343</td>\n",
       "      <td>69.55</td>\n",
       "      <td>NaN</td>\n",
       "      <td>S</td>\n",
       "    </tr>\n",
       "    <tr>\n",
       "      <th>324</th>\n",
       "      <td>325</td>\n",
       "      <td>0</td>\n",
       "      <td>3</td>\n",
       "      <td>Sage, Mr. George John Jr</td>\n",
       "      <td>male</td>\n",
       "      <td>NaN</td>\n",
       "      <td>8</td>\n",
       "      <td>2</td>\n",
       "      <td>CA. 2343</td>\n",
       "      <td>69.55</td>\n",
       "      <td>NaN</td>\n",
       "      <td>S</td>\n",
       "    </tr>\n",
       "    <tr>\n",
       "      <th>792</th>\n",
       "      <td>793</td>\n",
       "      <td>0</td>\n",
       "      <td>3</td>\n",
       "      <td>Sage, Miss. Stella Anna</td>\n",
       "      <td>female</td>\n",
       "      <td>NaN</td>\n",
       "      <td>8</td>\n",
       "      <td>2</td>\n",
       "      <td>CA. 2343</td>\n",
       "      <td>69.55</td>\n",
       "      <td>NaN</td>\n",
       "      <td>S</td>\n",
       "    </tr>\n",
       "    <tr>\n",
       "      <th>846</th>\n",
       "      <td>847</td>\n",
       "      <td>0</td>\n",
       "      <td>3</td>\n",
       "      <td>Sage, Mr. Douglas Bullen</td>\n",
       "      <td>male</td>\n",
       "      <td>NaN</td>\n",
       "      <td>8</td>\n",
       "      <td>2</td>\n",
       "      <td>CA. 2343</td>\n",
       "      <td>69.55</td>\n",
       "      <td>NaN</td>\n",
       "      <td>S</td>\n",
       "    </tr>\n",
       "    <tr>\n",
       "      <th>863</th>\n",
       "      <td>864</td>\n",
       "      <td>0</td>\n",
       "      <td>3</td>\n",
       "      <td>Sage, Miss. Dorothy Edith \"Dolly\"</td>\n",
       "      <td>female</td>\n",
       "      <td>NaN</td>\n",
       "      <td>8</td>\n",
       "      <td>2</td>\n",
       "      <td>CA. 2343</td>\n",
       "      <td>69.55</td>\n",
       "      <td>NaN</td>\n",
       "      <td>S</td>\n",
       "    </tr>\n",
       "  </tbody>\n",
       "</table>\n",
       "</div>"
      ],
      "text/plain": [
       "     PassengerId  Survived  Pclass                               Name     Sex  \\\n",
       "159          160         0       3         Sage, Master. Thomas Henry    male   \n",
       "180          181         0       3       Sage, Miss. Constance Gladys  female   \n",
       "201          202         0       3                Sage, Mr. Frederick    male   \n",
       "324          325         0       3           Sage, Mr. George John Jr    male   \n",
       "792          793         0       3            Sage, Miss. Stella Anna  female   \n",
       "846          847         0       3           Sage, Mr. Douglas Bullen    male   \n",
       "863          864         0       3  Sage, Miss. Dorothy Edith \"Dolly\"  female   \n",
       "\n",
       "     Age  SibSp  Parch    Ticket   Fare Cabin Embarked  \n",
       "159  NaN      8      2  CA. 2343  69.55   NaN        S  \n",
       "180  NaN      8      2  CA. 2343  69.55   NaN        S  \n",
       "201  NaN      8      2  CA. 2343  69.55   NaN        S  \n",
       "324  NaN      8      2  CA. 2343  69.55   NaN        S  \n",
       "792  NaN      8      2  CA. 2343  69.55   NaN        S  \n",
       "846  NaN      8      2  CA. 2343  69.55   NaN        S  \n",
       "863  NaN      8      2  CA. 2343  69.55   NaN        S  "
      ]
     },
     "execution_count": 17,
     "metadata": {},
     "output_type": "execute_result"
    }
   ],
   "source": [
    "train[train.Ticket == \"CA. 2343\"]"
   ]
  },
  {
   "cell_type": "markdown",
   "metadata": {
    "_cell_guid": "8d066125-8df9-4880-beb7-2879e95cc287",
    "_uuid": "9160f1b6f35ca78899881aa30a10537b752d3366"
   },
   "source": [
    "Instead of having seperate features for the number of parent-children and sibling-spouse, we can use the family size as a single feature for accompanying family members. So, the two features - family size and co-passengers on the same ticket are closely related. However, it turns out they are not the same.\n",
    "In some cases, passengers that appear to be traveling alone by account of their family size were part of a group traveling on the same ticket. "
   ]
  },
  {
   "cell_type": "code",
   "execution_count": 18,
   "metadata": {
    "_cell_guid": "df76edbf-e6b4-48a4-a845-da80ea40f544",
    "_uuid": "cee5fcdd5ecd9388486311ed2bf031260735e9f8"
   },
   "outputs": [
    {
     "data": {
      "text/html": [
       "<div>\n",
       "<style scoped>\n",
       "    .dataframe tbody tr th:only-of-type {\n",
       "        vertical-align: middle;\n",
       "    }\n",
       "\n",
       "    .dataframe tbody tr th {\n",
       "        vertical-align: top;\n",
       "    }\n",
       "\n",
       "    .dataframe thead th {\n",
       "        text-align: right;\n",
       "    }\n",
       "</style>\n",
       "<table border=\"1\" class=\"dataframe\">\n",
       "  <thead>\n",
       "    <tr style=\"text-align: right;\">\n",
       "      <th></th>\n",
       "      <th>PassengerId</th>\n",
       "      <th>Survived</th>\n",
       "      <th>Pclass</th>\n",
       "      <th>Name</th>\n",
       "      <th>Sex</th>\n",
       "      <th>Age</th>\n",
       "      <th>SibSp</th>\n",
       "      <th>Parch</th>\n",
       "      <th>Ticket</th>\n",
       "      <th>Fare</th>\n",
       "      <th>Cabin</th>\n",
       "      <th>Embarked</th>\n",
       "    </tr>\n",
       "  </thead>\n",
       "  <tbody>\n",
       "    <tr>\n",
       "      <th>74</th>\n",
       "      <td>75</td>\n",
       "      <td>1</td>\n",
       "      <td>3</td>\n",
       "      <td>Bing, Mr. Lee</td>\n",
       "      <td>male</td>\n",
       "      <td>32.0</td>\n",
       "      <td>0</td>\n",
       "      <td>0</td>\n",
       "      <td>1601</td>\n",
       "      <td>56.4958</td>\n",
       "      <td>NaN</td>\n",
       "      <td>S</td>\n",
       "    </tr>\n",
       "    <tr>\n",
       "      <th>169</th>\n",
       "      <td>170</td>\n",
       "      <td>0</td>\n",
       "      <td>3</td>\n",
       "      <td>Ling, Mr. Lee</td>\n",
       "      <td>male</td>\n",
       "      <td>28.0</td>\n",
       "      <td>0</td>\n",
       "      <td>0</td>\n",
       "      <td>1601</td>\n",
       "      <td>56.4958</td>\n",
       "      <td>NaN</td>\n",
       "      <td>S</td>\n",
       "    </tr>\n",
       "    <tr>\n",
       "      <th>509</th>\n",
       "      <td>510</td>\n",
       "      <td>1</td>\n",
       "      <td>3</td>\n",
       "      <td>Lang, Mr. Fang</td>\n",
       "      <td>male</td>\n",
       "      <td>26.0</td>\n",
       "      <td>0</td>\n",
       "      <td>0</td>\n",
       "      <td>1601</td>\n",
       "      <td>56.4958</td>\n",
       "      <td>NaN</td>\n",
       "      <td>S</td>\n",
       "    </tr>\n",
       "    <tr>\n",
       "      <th>643</th>\n",
       "      <td>644</td>\n",
       "      <td>1</td>\n",
       "      <td>3</td>\n",
       "      <td>Foo, Mr. Choong</td>\n",
       "      <td>male</td>\n",
       "      <td>NaN</td>\n",
       "      <td>0</td>\n",
       "      <td>0</td>\n",
       "      <td>1601</td>\n",
       "      <td>56.4958</td>\n",
       "      <td>NaN</td>\n",
       "      <td>S</td>\n",
       "    </tr>\n",
       "    <tr>\n",
       "      <th>692</th>\n",
       "      <td>693</td>\n",
       "      <td>1</td>\n",
       "      <td>3</td>\n",
       "      <td>Lam, Mr. Ali</td>\n",
       "      <td>male</td>\n",
       "      <td>NaN</td>\n",
       "      <td>0</td>\n",
       "      <td>0</td>\n",
       "      <td>1601</td>\n",
       "      <td>56.4958</td>\n",
       "      <td>NaN</td>\n",
       "      <td>S</td>\n",
       "    </tr>\n",
       "    <tr>\n",
       "      <th>826</th>\n",
       "      <td>827</td>\n",
       "      <td>0</td>\n",
       "      <td>3</td>\n",
       "      <td>Lam, Mr. Len</td>\n",
       "      <td>male</td>\n",
       "      <td>NaN</td>\n",
       "      <td>0</td>\n",
       "      <td>0</td>\n",
       "      <td>1601</td>\n",
       "      <td>56.4958</td>\n",
       "      <td>NaN</td>\n",
       "      <td>S</td>\n",
       "    </tr>\n",
       "    <tr>\n",
       "      <th>838</th>\n",
       "      <td>839</td>\n",
       "      <td>1</td>\n",
       "      <td>3</td>\n",
       "      <td>Chip, Mr. Chang</td>\n",
       "      <td>male</td>\n",
       "      <td>32.0</td>\n",
       "      <td>0</td>\n",
       "      <td>0</td>\n",
       "      <td>1601</td>\n",
       "      <td>56.4958</td>\n",
       "      <td>NaN</td>\n",
       "      <td>S</td>\n",
       "    </tr>\n",
       "  </tbody>\n",
       "</table>\n",
       "</div>"
      ],
      "text/plain": [
       "     PassengerId  Survived  Pclass             Name   Sex   Age  SibSp  Parch  \\\n",
       "74            75         1       3    Bing, Mr. Lee  male  32.0      0      0   \n",
       "169          170         0       3    Ling, Mr. Lee  male  28.0      0      0   \n",
       "509          510         1       3   Lang, Mr. Fang  male  26.0      0      0   \n",
       "643          644         1       3  Foo, Mr. Choong  male   NaN      0      0   \n",
       "692          693         1       3     Lam, Mr. Ali  male   NaN      0      0   \n",
       "826          827         0       3     Lam, Mr. Len  male   NaN      0      0   \n",
       "838          839         1       3  Chip, Mr. Chang  male  32.0      0      0   \n",
       "\n",
       "    Ticket     Fare Cabin Embarked  \n",
       "74    1601  56.4958   NaN        S  \n",
       "169   1601  56.4958   NaN        S  \n",
       "509   1601  56.4958   NaN        S  \n",
       "643   1601  56.4958   NaN        S  \n",
       "692   1601  56.4958   NaN        S  \n",
       "826   1601  56.4958   NaN        S  \n",
       "838   1601  56.4958   NaN        S  "
      ]
     },
     "execution_count": 18,
     "metadata": {},
     "output_type": "execute_result"
    }
   ],
   "source": [
    "train[train.Ticket == \"1601\"]"
   ]
  },
  {
   "cell_type": "markdown",
   "metadata": {
    "_cell_guid": "b5283685-6c37-4714-b283-49f560009952",
    "_uuid": "750e417ee9fb5a1107d1f2f029811352941e0f97"
   },
   "source": [
    "In other cases, the family members were not traveling on the same ticket."
   ]
  },
  {
   "cell_type": "code",
   "execution_count": 19,
   "metadata": {
    "_cell_guid": "ba722866-781f-40cd-8d9e-26d614d82d54",
    "_uuid": "f922d0dce792cd3987050a388ff17182bd743bb9"
   },
   "outputs": [
    {
     "data": {
      "text/html": [
       "<div>\n",
       "<style scoped>\n",
       "    .dataframe tbody tr th:only-of-type {\n",
       "        vertical-align: middle;\n",
       "    }\n",
       "\n",
       "    .dataframe tbody tr th {\n",
       "        vertical-align: top;\n",
       "    }\n",
       "\n",
       "    .dataframe thead th {\n",
       "        text-align: right;\n",
       "    }\n",
       "</style>\n",
       "<table border=\"1\" class=\"dataframe\">\n",
       "  <thead>\n",
       "    <tr style=\"text-align: right;\">\n",
       "      <th></th>\n",
       "      <th>PassengerId</th>\n",
       "      <th>Survived</th>\n",
       "      <th>Pclass</th>\n",
       "      <th>Name</th>\n",
       "      <th>Sex</th>\n",
       "      <th>Age</th>\n",
       "      <th>SibSp</th>\n",
       "      <th>Parch</th>\n",
       "      <th>Ticket</th>\n",
       "      <th>Fare</th>\n",
       "      <th>Cabin</th>\n",
       "      <th>Embarked</th>\n",
       "    </tr>\n",
       "  </thead>\n",
       "  <tbody>\n",
       "    <tr>\n",
       "      <th>69</th>\n",
       "      <td>70</td>\n",
       "      <td>0</td>\n",
       "      <td>3</td>\n",
       "      <td>Kink, Mr. Vincenz</td>\n",
       "      <td>male</td>\n",
       "      <td>26.0</td>\n",
       "      <td>2</td>\n",
       "      <td>0</td>\n",
       "      <td>315151</td>\n",
       "      <td>8.6625</td>\n",
       "      <td>NaN</td>\n",
       "      <td>S</td>\n",
       "    </tr>\n",
       "    <tr>\n",
       "      <th>184</th>\n",
       "      <td>185</td>\n",
       "      <td>1</td>\n",
       "      <td>3</td>\n",
       "      <td>Kink-Heilmann, Miss. Luise Gretchen</td>\n",
       "      <td>female</td>\n",
       "      <td>4.0</td>\n",
       "      <td>0</td>\n",
       "      <td>2</td>\n",
       "      <td>315153</td>\n",
       "      <td>22.0250</td>\n",
       "      <td>NaN</td>\n",
       "      <td>S</td>\n",
       "    </tr>\n",
       "  </tbody>\n",
       "</table>\n",
       "</div>"
      ],
      "text/plain": [
       "     PassengerId  Survived  Pclass                                 Name  \\\n",
       "69            70         0       3                    Kink, Mr. Vincenz   \n",
       "184          185         1       3  Kink-Heilmann, Miss. Luise Gretchen   \n",
       "\n",
       "        Sex   Age  SibSp  Parch  Ticket     Fare Cabin Embarked  \n",
       "69     male  26.0      2      0  315151   8.6625   NaN        S  \n",
       "184  female   4.0      0      2  315153  22.0250   NaN        S  "
      ]
     },
     "execution_count": 19,
     "metadata": {},
     "output_type": "execute_result"
    }
   ],
   "source": [
    "train.loc[[69, 184]]"
   ]
  },
  {
   "cell_type": "markdown",
   "metadata": {
    "_cell_guid": "18353eae-ce31-479f-9b6b-decaa3f5133d",
    "_uuid": "08be1b900abb1520c519d8352850ab77f99a8a22"
   },
   "source": [
    "To combine the two, a feature named group size is derived by taking the maximum of the family size and the number co-travelers of a passenger. "
   ]
  },
  {
   "cell_type": "code",
   "execution_count": 20,
   "metadata": {
    "_cell_guid": "ed6f1dd2-cf22-4b94-b9aa-d92b6023c75e",
    "_uuid": "473b9312f435dffa5467349e7189871318392e41"
   },
   "outputs": [],
   "source": [
    "def get_Group_size(df):\n",
    "    Ticket_counts = df.Ticket.value_counts()\n",
    "    df['Ticket_counts'] = df.Ticket.apply(lambda x: Ticket_counts[x])\n",
    "    df['Family_size'] = df['SibSp'] + df['Parch'] + 1\n",
    "    df['Group_size'] = df[['Family_size', 'Ticket_counts']].max(axis=1)\n",
    "    return df"
   ]
  },
  {
   "cell_type": "markdown",
   "metadata": {
    "_cell_guid": "07168aad-0f5c-4c48-9fe1-5ff316a0065a",
    "_uuid": "de3a1af8ddee0403ff0f1c8ea3b2555ff60f1c59"
   },
   "source": [
    "I have noticed that using the feature `Embarked` does not improve my model, so I discarded it as well. The feature for gender is encoded as numerical categories and only five features are kept. "
   ]
  },
  {
   "cell_type": "code",
   "execution_count": 21,
   "metadata": {
    "_cell_guid": "34ee7d9f-0de6-4253-8040-0bf26ef439ae",
    "_uuid": "e907e0c6b640a43fb16bb4176c1495010ef871d7"
   },
   "outputs": [],
   "source": [
    "def process_features(df):\n",
    "    df.Sex = df.Sex.astype('category', ordered=False).cat.codes\n",
    "    features_to_keep = ['Age', 'Fare', 'Group_size', 'Pclass', 'Sex']\n",
    "    df = df[features_to_keep]\n",
    "    return df"
   ]
  },
  {
   "cell_type": "markdown",
   "metadata": {
    "_cell_guid": "3aa5bbff-8d59-4d22-a2ca-be383e4f6c18",
    "_uuid": "a5a7c7e0b28f4b9255db55244a061baeaccae59b"
   },
   "source": [
    "We can either process the training and test set seperately or together. Processing them together would mean that while calculating the group size for passengers in the training set, the ticket information about those in the test set is used and vice versa. Similarly, the missing values for age in the training set can either be imputed using the age of passengers from both the training and test set or simply the training set alone. Processing them together would certainly account for considerable data-leakage from the test set to the training set and the resulting model will likely overfit to the test set. In most scenarios, this is bad news, for example online predictions where the model would generalize poorly for unseen future test data. [Data-leakage can be prevented by using scikit-learn Pipelines](https://www.kaggle.com/dansbecker/data-leakage) which is also especially useful to keep the validation and training sets separate while tuning the hyperparameters. The Titanic survival prediction is a different story however, and later on in the next section, I have taken the liberty to deliberately not follow the standard best practise and explained my reasons below."
   ]
  },
  {
   "cell_type": "markdown",
   "metadata": {
    "_cell_guid": "a4893b7e-5dbd-47b0-be9e-5ca657e1b833",
    "_uuid": "13513de5e409963fce7465458d8c9d4727465cdd"
   },
   "source": [
    "Processing the training and test set seperately:"
   ]
  },
  {
   "cell_type": "code",
   "execution_count": 22,
   "metadata": {
    "_cell_guid": "8519250c-d89d-4604-9c1f-5f32f5359731",
    "_uuid": "8951fe2c507de34aee2f7b589f90d0e5505a90f9"
   },
   "outputs": [],
   "source": [
    "def process_data(df):\n",
    "    df = df.copy()\n",
    "    df = get_Titles(df)\n",
    "    df = fill_Age(df)\n",
    "    df = get_Group_size(df)\n",
    "    df = process_features(df)\n",
    "    return df\n",
    "\n",
    "X_train, X_test = process_data(train), process_data(test)"
   ]
  },
  {
   "cell_type": "code",
   "execution_count": 23,
   "metadata": {
    "_cell_guid": "f4f855f2-83f0-43bd-acb0-ab12da826839",
    "_uuid": "20ac047d02c670c5a9458610bd4c84124a44f678"
   },
   "outputs": [
    {
     "data": {
      "text/html": [
       "<div>\n",
       "<style scoped>\n",
       "    .dataframe tbody tr th:only-of-type {\n",
       "        vertical-align: middle;\n",
       "    }\n",
       "\n",
       "    .dataframe tbody tr th {\n",
       "        vertical-align: top;\n",
       "    }\n",
       "\n",
       "    .dataframe thead th {\n",
       "        text-align: right;\n",
       "    }\n",
       "</style>\n",
       "<table border=\"1\" class=\"dataframe\">\n",
       "  <thead>\n",
       "    <tr style=\"text-align: right;\">\n",
       "      <th></th>\n",
       "      <th>Age</th>\n",
       "      <th>Fare</th>\n",
       "      <th>Group_size</th>\n",
       "      <th>Pclass</th>\n",
       "      <th>Sex</th>\n",
       "    </tr>\n",
       "  </thead>\n",
       "  <tbody>\n",
       "    <tr>\n",
       "      <th>0</th>\n",
       "      <td>22.0</td>\n",
       "      <td>7.2500</td>\n",
       "      <td>2</td>\n",
       "      <td>3</td>\n",
       "      <td>1</td>\n",
       "    </tr>\n",
       "    <tr>\n",
       "      <th>1</th>\n",
       "      <td>38.0</td>\n",
       "      <td>71.2833</td>\n",
       "      <td>2</td>\n",
       "      <td>1</td>\n",
       "      <td>0</td>\n",
       "    </tr>\n",
       "    <tr>\n",
       "      <th>2</th>\n",
       "      <td>26.0</td>\n",
       "      <td>7.9250</td>\n",
       "      <td>1</td>\n",
       "      <td>3</td>\n",
       "      <td>0</td>\n",
       "    </tr>\n",
       "    <tr>\n",
       "      <th>3</th>\n",
       "      <td>35.0</td>\n",
       "      <td>53.1000</td>\n",
       "      <td>2</td>\n",
       "      <td>1</td>\n",
       "      <td>0</td>\n",
       "    </tr>\n",
       "    <tr>\n",
       "      <th>4</th>\n",
       "      <td>35.0</td>\n",
       "      <td>8.0500</td>\n",
       "      <td>1</td>\n",
       "      <td>3</td>\n",
       "      <td>1</td>\n",
       "    </tr>\n",
       "  </tbody>\n",
       "</table>\n",
       "</div>"
      ],
      "text/plain": [
       "    Age     Fare  Group_size  Pclass  Sex\n",
       "0  22.0   7.2500           2       3    1\n",
       "1  38.0  71.2833           2       1    0\n",
       "2  26.0   7.9250           1       3    0\n",
       "3  35.0  53.1000           2       1    0\n",
       "4  35.0   8.0500           1       3    1"
      ]
     },
     "execution_count": 23,
     "metadata": {},
     "output_type": "execute_result"
    }
   ],
   "source": [
    "X_train.head()"
   ]
  },
  {
   "cell_type": "code",
   "execution_count": 24,
   "metadata": {
    "_cell_guid": "78fab6dc-0f21-47d1-b4d8-00f6821c60eb",
    "_uuid": "18a2bab29353f28548d1257fc4ac10d416a60200"
   },
   "outputs": [
    {
     "data": {
      "text/html": [
       "<div>\n",
       "<style scoped>\n",
       "    .dataframe tbody tr th:only-of-type {\n",
       "        vertical-align: middle;\n",
       "    }\n",
       "\n",
       "    .dataframe tbody tr th {\n",
       "        vertical-align: top;\n",
       "    }\n",
       "\n",
       "    .dataframe thead th {\n",
       "        text-align: right;\n",
       "    }\n",
       "</style>\n",
       "<table border=\"1\" class=\"dataframe\">\n",
       "  <thead>\n",
       "    <tr style=\"text-align: right;\">\n",
       "      <th></th>\n",
       "      <th>Age</th>\n",
       "      <th>Fare</th>\n",
       "      <th>Group_size</th>\n",
       "      <th>Pclass</th>\n",
       "      <th>Sex</th>\n",
       "    </tr>\n",
       "  </thead>\n",
       "  <tbody>\n",
       "    <tr>\n",
       "      <th>Age</th>\n",
       "      <td>1.000000</td>\n",
       "      <td>0.097947</td>\n",
       "      <td>-0.256371</td>\n",
       "      <td>-0.354189</td>\n",
       "      <td>0.104921</td>\n",
       "    </tr>\n",
       "    <tr>\n",
       "      <th>Fare</th>\n",
       "      <td>0.097947</td>\n",
       "      <td>1.000000</td>\n",
       "      <td>0.334278</td>\n",
       "      <td>-0.549500</td>\n",
       "      <td>-0.182333</td>\n",
       "    </tr>\n",
       "    <tr>\n",
       "      <th>Group_size</th>\n",
       "      <td>-0.256371</td>\n",
       "      <td>0.334278</td>\n",
       "      <td>1.000000</td>\n",
       "      <td>0.018783</td>\n",
       "      <td>-0.191490</td>\n",
       "    </tr>\n",
       "    <tr>\n",
       "      <th>Pclass</th>\n",
       "      <td>-0.354189</td>\n",
       "      <td>-0.549500</td>\n",
       "      <td>0.018783</td>\n",
       "      <td>1.000000</td>\n",
       "      <td>0.131900</td>\n",
       "    </tr>\n",
       "    <tr>\n",
       "      <th>Sex</th>\n",
       "      <td>0.104921</td>\n",
       "      <td>-0.182333</td>\n",
       "      <td>-0.191490</td>\n",
       "      <td>0.131900</td>\n",
       "      <td>1.000000</td>\n",
       "    </tr>\n",
       "  </tbody>\n",
       "</table>\n",
       "</div>"
      ],
      "text/plain": [
       "                 Age      Fare  Group_size    Pclass       Sex\n",
       "Age         1.000000  0.097947   -0.256371 -0.354189  0.104921\n",
       "Fare        0.097947  1.000000    0.334278 -0.549500 -0.182333\n",
       "Group_size -0.256371  0.334278    1.000000  0.018783 -0.191490\n",
       "Pclass     -0.354189 -0.549500    0.018783  1.000000  0.131900\n",
       "Sex         0.104921 -0.182333   -0.191490  0.131900  1.000000"
      ]
     },
     "execution_count": 24,
     "metadata": {},
     "output_type": "execute_result"
    }
   ],
   "source": [
    "correlation_matrix = X_train.corr()\n",
    "correlation_matrix"
   ]
  },
  {
   "cell_type": "markdown",
   "metadata": {
    "_cell_guid": "c23b8a3b-934f-442f-99aa-65db82d8090b",
    "_uuid": "530f9ab15287d8d692624185b91b00ef0afc8706"
   },
   "source": [
    "The correlation matrix measures the linear dependence of the features and it is desirable to have features that have little or no depedence on each other. Decision tree based algorithms including boosted trees are robust to correlated features, so they are safer to use. However, using correlated features makes prediction less accurate for many machine learning algorithms, for example linear regression. It can remedied by using Principal Component Analysis to obtain uncorrelated features.  It is a good practise to know the correlation before proceeding to build models."
   ]
  },
  {
   "cell_type": "code",
   "execution_count": 25,
   "metadata": {
    "_cell_guid": "d75ab32b-794f-46df-8e04-e8e1b07f3a3b",
    "_uuid": "0bb09b7d989c2bab8de1d1b24cc5145243c3501c"
   },
   "outputs": [
    {
     "data": {
      "image/png": "[encoded data removed]",
      "text/plain": [
       "<Figure size 1008x864 with 2 Axes>"
      ]
     },
     "metadata": {},
     "output_type": "display_data"
    }
   ],
   "source": [
    "plt.figure(figsize=(14,12))\n",
    "plt.title('Pearson Correlation of Features', y=1.05, size=15)\n",
    "sns.heatmap(correlation_matrix);"
   ]
  },
  {
   "cell_type": "markdown",
   "metadata": {
    "_cell_guid": "62b19fa8-3f3f-45d0-b2ef-1ff7da3bead6",
    "_uuid": "c3a1f67b194009ff8d059b5e6723b0db3652ecba"
   },
   "source": [
    "The heatmap suggests the selected features are not overly dependent on each other. "
   ]
  },
  {
   "cell_type": "markdown",
   "metadata": {
    "_cell_guid": "53d5bc09-10df-4ede-a79b-3bfcefe7af5b",
    "_uuid": "faf5a6ccdc176aa56c2dfa475a694cebc6056048"
   },
   "source": [
    "# Building the model"
   ]
  },
  {
   "cell_type": "markdown",
   "metadata": {
    "_cell_guid": "aac5cc35-9e0c-413e-a57d-4ee5dc94ac44",
    "_uuid": "a075bc3a790239e5338d8bfe28fa821625986ccd"
   },
   "source": [
    "XGBoost has an in-built cross validation function that will help us to decide the number of estimators for the gradient boosting tree. "
   ]
  },
  {
   "cell_type": "code",
   "execution_count": 26,
   "metadata": {
    "_cell_guid": "fac31133-6ed0-433a-ae7d-07a8a334f93e",
    "_uuid": "962f6af934640b859eee727e8a919740f486593e"
   },
   "outputs": [
    {
     "data": {
      "text/html": [
       "<div>\n",
       "<style scoped>\n",
       "    .dataframe tbody tr th:only-of-type {\n",
       "        vertical-align: middle;\n",
       "    }\n",
       "\n",
       "    .dataframe tbody tr th {\n",
       "        vertical-align: top;\n",
       "    }\n",
       "\n",
       "    .dataframe thead th {\n",
       "        text-align: right;\n",
       "    }\n",
       "</style>\n",
       "<table border=\"1\" class=\"dataframe\">\n",
       "  <thead>\n",
       "    <tr style=\"text-align: right;\">\n",
       "      <th></th>\n",
       "      <th>test-error-mean</th>\n",
       "      <th>test-error-std</th>\n",
       "      <th>train-error-mean</th>\n",
       "      <th>train-error-std</th>\n",
       "    </tr>\n",
       "  </thead>\n",
       "  <tbody>\n",
       "    <tr>\n",
       "      <th>8</th>\n",
       "      <td>0.17174</td>\n",
       "      <td>0.029971</td>\n",
       "      <td>0.113917</td>\n",
       "      <td>0.002874</td>\n",
       "    </tr>\n",
       "  </tbody>\n",
       "</table>\n",
       "</div>"
      ],
      "text/plain": [
       "   test-error-mean  test-error-std  train-error-mean  train-error-std\n",
       "8          0.17174        0.029971          0.113917         0.002874"
      ]
     },
     "execution_count": 26,
     "metadata": {},
     "output_type": "execute_result"
    }
   ],
   "source": [
    "dtrain = xgb.DMatrix(data=X_train, label=target)\n",
    "params = { \n",
    "    \"Objective\": 'gbtree',\n",
    "    \"eval_metric\": 'error',\n",
    "    \"eta\": 0.05\n",
    "}\n",
    "cv = xgb.cv(params=params, dtrain=dtrain, num_boost_round=100, nfold=5, seed=41, early_stopping_rounds= 10)\n",
    "cv.tail(1)"
   ]
  },
  {
   "cell_type": "markdown",
   "metadata": {
    "_cell_guid": "41d366e3-3863-43a6-a3ce-17873117bbd7",
    "_uuid": "a2ac88e93a771264ed05f159b113e210eb4f5453"
   },
   "source": [
    "I have left out the detailed hyperparamter tuning to get the best XGBoost classifier. This minimalistic model can achieve an accuracy of around 0.79 with optimal number of estimators, which is quite good for a single classifier for  this dataset. Using multiple XGBoost classifiers with different optimal paramters along with other classifiers in an ensemble has given me an accuracy score upwards of 0.82 which is top 3% in the leaderboard. \n",
    "The ensembling/stacking of dissimilar classifiers is a very effective way to improve performance, but it is a good learning process to try to make the best out of a single classfier."
   ]
  },
  {
   "cell_type": "markdown",
   "metadata": {
    "_cell_guid": "d22ff518-529c-4e53-a64e-c5356170fc34",
    "_uuid": "c10e93a643de2405e5a8b301f9caf29acfd37dbd"
   },
   "source": [
    "Titanic sank only once and the passengers' age and their tickets were known before the tragedy.\n",
    "Processing train and test set together in this case, to fill the missing values for Age and deriving the feature Group size, can be seen as using all information available to make predictions and thus striving to make a model that best predict the test set but disregard the performance on unseen examples outside of the test set. This will overfit the model to the test set, which is not the best practise in general, but can be argued to be desirable in this case where the test set is limited, fixed and known beforehand. Unsurpisingly, processing data together in the following way increases accuracy for the test set."
   ]
  },
  {
   "cell_type": "markdown",
   "metadata": {
    "_cell_guid": "33a42f40-f533-4b31-a187-ddafdf985b0a",
    "_uuid": "43d0ac5b78d1d4572bec70a9edf36f0051a9ed7e"
   },
   "source": [
    "Processing the training and test set together (optional):"
   ]
  },
  {
   "cell_type": "code",
   "execution_count": 27,
   "metadata": {
    "_cell_guid": "339b8138-b540-4907-be8b-065cb4ae491c",
    "_uuid": "47366455ec0d3e6ae4cd5de080901d1329baa77d"
   },
   "outputs": [],
   "source": [
    "# Please comment this cell if you would decide on not processing the training and test set together:\n",
    "def process_data_together(train, test):\n",
    "    df = pd.concat([train, test], join='inner', keys=['train', 'test']).copy()\n",
    "    df = get_Titles(df)\n",
    "    df = fill_Age(df)\n",
    "    df = get_Group_size(df)\n",
    "    df = process_features(df)\n",
    "    return df.loc['train'], df.loc['test']\n",
    "\n",
    "X_train, X_test = process_data_together(train, test)"
   ]
  },
  {
   "cell_type": "markdown",
   "metadata": {
    "_cell_guid": "582eab75-2d29-4fa2-b803-dcfbf1539a26",
    "_uuid": "7d6520326d61a2b2241f04e58ebb1784f1c72178"
   },
   "source": [
    "Irrespective of whether we process the training and test set together, after we decide on the hyperparameters (here `n_estimators=14`), we use the entire training set to retrain the model and then use this model to predict the test cases. "
   ]
  },
  {
   "cell_type": "code",
   "execution_count": 28,
   "metadata": {
    "_cell_guid": "a7b2c064-f762-4870-af01-e2be6c09c7da",
    "_uuid": "1931f413ca9f27338bba1ca6adef53f7ad9c479c"
   },
   "outputs": [
    {
     "name": "stdout",
     "output_type": "stream",
     "text": [
      "0.835016835016835\n"
     ]
    }
   ],
   "source": [
    "xgbcl = XGBClassifier(n_estimators=14, seed=41)\n",
    "xgbcl.fit(X_train, target)\n",
    "print(xgbcl.score(X_train, target)) "
   ]
  },
  {
   "cell_type": "markdown",
   "metadata": {
    "_cell_guid": "0ffc639e-083d-4df6-a6ed-94786b6b6aeb",
    "_uuid": "00eb24a7680a8314b7517f00e58caf7d8f3c9d08"
   },
   "source": [
    "# Interpreting the model"
   ]
  },
  {
   "cell_type": "markdown",
   "metadata": {
    "_cell_guid": "057c948a-0ca0-452f-a2e6-372812559ffa",
    "_uuid": "937a515d29da4b542d4cba7c7a8507502a020200"
   },
   "source": [
    "Machine learning algorithms need not be the blackboxes, especially with the availability of various tools today. XGBoost has in-built functions to plot the decision tree as well as the importance of each feature. The heatmap to gauge the correlation of each feature with the predictor variable also adds a different perspective to understand the working of our model. Lastly, partial dependence plots are excellent to understand the relationship between individual features and the predictor variable."
   ]
  },
  {
   "cell_type": "code",
   "execution_count": 29,
   "metadata": {
    "_cell_guid": "c41b8625-68ae-4192-8a44-54adb0938f24",
    "_uuid": "f5f3de1239aad00f4f52d500394ce8badb957a71"
   },
   "outputs": [
    {
     "data": {
      "image/svg+xml": [
       "<?xml version=\"1.0\" encoding=\"UTF-8\" standalone=\"no\"?>\n",
       "<!DOCTYPE svg PUBLIC \"-//W3C//DTD SVG 1.1//EN\"\n",
       " \"http://www.w3.org/Graphics/SVG/1.1/DTD/svg11.dtd\">\n",
       "<!-- Generated by graphviz version 2.40.1 (20161225.0304)\n",
       " -->\n",
       "<!-- Title: %3 Pages: 1 -->\n",
       "<svg width=\"902pt\" height=\"441pt\"\n",
       " viewBox=\"0.00 0.00 902.00 441.38\" xmlns=\"http://www.w3.org/2000/svg\" xmlns:xlink=\"http://www.w3.org/1999/xlink\">\n",
       "<g id=\"graph0\" class=\"graph\" transform=\"scale(1 1) rotate(0) translate(4 437.3783)\">\n",
       "<title>%3</title>\n",
       "<polygon fill=\"#ffffff\" stroke=\"transparent\" points=\"-4,4 -4,-437.3783 898,-437.3783 898,4 -4,4\"/>\n",
       "<!-- 0 -->\n",
       "<g id=\"node1\" class=\"node\">\n",
       "<title>0</title>\n",
       "<ellipse fill=\"none\" stroke=\"#000000\" cx=\"430.5\" cy=\"-405.4308\" rx=\"27.8951\" ry=\"27.8951\"/>\n",
       "<text text-anchor=\"middle\" x=\"430.5\" y=\"-401.7308\" font-family=\"Times,serif\" font-size=\"14.00\" fill=\"#000000\">Sex&lt;1</text>\n",
       "</g>\n",
       "<!-- 1 -->\n",
       "<g id=\"node2\" class=\"node\">\n",
       "<title>1</title>\n",
       "<ellipse fill=\"none\" stroke=\"#000000\" cx=\"367.5\" cy=\"-291.3864\" rx=\"35.194\" ry=\"35.194\"/>\n",
       "<text text-anchor=\"middle\" x=\"367.5\" y=\"-287.6864\" font-family=\"Times,serif\" font-size=\"14.00\" fill=\"#000000\">Pclass&lt;3</text>\n",
       "</g>\n",
       "<!-- 0&#45;&gt;1 -->\n",
       "<g id=\"edge1\" class=\"edge\">\n",
       "<title>0&#45;&gt;1</title>\n",
       "<path fill=\"none\" stroke=\"#0000ff\" d=\"M416.9849,-380.9654C408.9924,-366.497 398.6766,-347.8232 389.5338,-331.2727\"/>\n",
       "<polygon fill=\"#0000ff\" stroke=\"#0000ff\" points=\"392.4965,-329.3974 384.5974,-322.3366 386.3692,-332.7822 392.4965,-329.3974\"/>\n",
       "<text text-anchor=\"middle\" x=\"431.5\" y=\"-348.2833\" font-family=\"Times,serif\" font-size=\"14.00\" fill=\"#000000\">yes, missing</text>\n",
       "</g>\n",
       "<!-- 2 -->\n",
       "<g id=\"node3\" class=\"node\">\n",
       "<title>2</title>\n",
       "<ellipse fill=\"none\" stroke=\"#000000\" cx=\"529.5\" cy=\"-291.3864\" rx=\"32.4942\" ry=\"32.4942\"/>\n",
       "<text text-anchor=\"middle\" x=\"529.5\" y=\"-287.6864\" font-family=\"Times,serif\" font-size=\"14.00\" fill=\"#000000\">Age&lt;13</text>\n",
       "</g>\n",
       "<!-- 0&#45;&gt;2 -->\n",
       "<g id=\"edge2\" class=\"edge\">\n",
       "<title>0&#45;&gt;2</title>\n",
       "<path fill=\"none\" stroke=\"#ff0000\" d=\"M448.8891,-384.2472C463.6332,-367.2626 484.57,-343.1441 501.411,-323.7439\"/>\n",
       "<polygon fill=\"#ff0000\" stroke=\"#ff0000\" points=\"504.1994,-325.8708 508.1118,-316.0248 498.9133,-321.282 504.1994,-325.8708\"/>\n",
       "<text text-anchor=\"middle\" x=\"489\" y=\"-348.2833\" font-family=\"Times,serif\" font-size=\"14.00\" fill=\"#000000\">no</text>\n",
       "</g>\n",
       "<!-- 3 -->\n",
       "<g id=\"node4\" class=\"node\">\n",
       "<title>3</title>\n",
       "<ellipse fill=\"none\" stroke=\"#000000\" cx=\"160.5\" cy=\"-146.1448\" rx=\"49.2915\" ry=\"49.2915\"/>\n",
       "<text text-anchor=\"middle\" x=\"160.5\" y=\"-142.4448\" font-family=\"Times,serif\" font-size=\"14.00\" fill=\"#000000\">Group_size&lt;6</text>\n",
       "</g>\n",
       "<!-- 1&#45;&gt;3 -->\n",
       "<g id=\"edge3\" class=\"edge\">\n",
       "<title>1&#45;&gt;3</title>\n",
       "<path fill=\"none\" stroke=\"#0000ff\" d=\"M338.7175,-271.1912C305.3221,-247.7592 249.7043,-208.735 209.4722,-180.5061\"/>\n",
       "<polygon fill=\"#0000ff\" stroke=\"#0000ff\" points=\"211.3304,-177.5343 201.1341,-174.6557 207.3098,-183.2645 211.3304,-177.5343\"/>\n",
       "<text text-anchor=\"middle\" x=\"315.5\" y=\"-227.0895\" font-family=\"Times,serif\" font-size=\"14.00\" fill=\"#000000\">yes, missing</text>\n",
       "</g>\n",
       "<!-- 4 -->\n",
       "<g id=\"node5\" class=\"node\">\n",
       "<title>4</title>\n",
       "<ellipse fill=\"none\" stroke=\"#000000\" cx=\"367.5\" cy=\"-146.1448\" rx=\"59.2899\" ry=\"59.2899\"/>\n",
       "<text text-anchor=\"middle\" x=\"367.5\" y=\"-142.4448\" font-family=\"Times,serif\" font-size=\"14.00\" fill=\"#000000\">Fare&lt;23.3500004</text>\n",
       "</g>\n",
       "<!-- 1&#45;&gt;4 -->\n",
       "<g id=\"edge4\" class=\"edge\">\n",
       "<title>1&#45;&gt;4</title>\n",
       "<path fill=\"none\" stroke=\"#ff0000\" d=\"M367.5,-256.2274C367.5,-243.9321 367.5,-229.6637 367.5,-215.5571\"/>\n",
       "<polygon fill=\"#ff0000\" stroke=\"#ff0000\" points=\"371.0001,-215.3444 367.5,-205.3445 364.0001,-215.3445 371.0001,-215.3444\"/>\n",
       "<text text-anchor=\"middle\" x=\"373\" y=\"-227.0895\" font-family=\"Times,serif\" font-size=\"14.00\" fill=\"#000000\">no</text>\n",
       "</g>\n",
       "<!-- 5 -->\n",
       "<g id=\"node10\" class=\"node\">\n",
       "<title>5</title>\n",
       "<ellipse fill=\"none\" stroke=\"#000000\" cx=\"529.5\" cy=\"-146.1448\" rx=\"49.2915\" ry=\"49.2915\"/>\n",
       "<text text-anchor=\"middle\" x=\"529.5\" y=\"-142.4448\" font-family=\"Times,serif\" font-size=\"14.00\" fill=\"#000000\">Group_size&lt;5</text>\n",
       "</g>\n",
       "<!-- 2&#45;&gt;5 -->\n",
       "<g id=\"edge9\" class=\"edge\">\n",
       "<title>2&#45;&gt;5</title>\n",
       "<path fill=\"none\" stroke=\"#0000ff\" d=\"M529.5,-258.7913C529.5,-243.1976 529.5,-224.0233 529.5,-205.9438\"/>\n",
       "<polygon fill=\"#0000ff\" stroke=\"#0000ff\" points=\"533.0001,-205.7525 529.5,-195.7526 526.0001,-205.7526 533.0001,-205.7525\"/>\n",
       "<text text-anchor=\"middle\" x=\"555.5\" y=\"-227.0895\" font-family=\"Times,serif\" font-size=\"14.00\" fill=\"#000000\">yes, missing</text>\n",
       "</g>\n",
       "<!-- 6 -->\n",
       "<g id=\"node11\" class=\"node\">\n",
       "<title>6</title>\n",
       "<ellipse fill=\"none\" stroke=\"#000000\" cx=\"730.5\" cy=\"-146.1448\" rx=\"59.2899\" ry=\"59.2899\"/>\n",
       "<text text-anchor=\"middle\" x=\"730.5\" y=\"-142.4448\" font-family=\"Times,serif\" font-size=\"14.00\" fill=\"#000000\">Fare&lt;26.2687492</text>\n",
       "</g>\n",
       "<!-- 2&#45;&gt;6 -->\n",
       "<g id=\"edge10\" class=\"edge\">\n",
       "<title>2&#45;&gt;6</title>\n",
       "<path fill=\"none\" stroke=\"#ff0000\" d=\"M556.1912,-272.0994C586.0746,-250.5058 635.3621,-214.891 673.916,-187.0321\"/>\n",
       "<polygon fill=\"#ff0000\" stroke=\"#ff0000\" points=\"676.4108,-189.5475 682.4663,-180.8537 672.311,-183.8737 676.4108,-189.5475\"/>\n",
       "<text text-anchor=\"middle\" x=\"624\" y=\"-227.0895\" font-family=\"Times,serif\" font-size=\"14.00\" fill=\"#000000\">no</text>\n",
       "</g>\n",
       "<!-- 7 -->\n",
       "<g id=\"node6\" class=\"node\">\n",
       "<title>7</title>\n",
       "<polygon fill=\"none\" stroke=\"#000000\" points=\"93,-36 0,-36 0,0 93,0 93,-36\"/>\n",
       "<text text-anchor=\"middle\" x=\"46.5\" y=\"-14.3\" font-family=\"Times,serif\" font-size=\"14.00\" fill=\"#000000\">leaf=0.178313255</text>\n",
       "</g>\n",
       "<!-- 3&#45;&gt;7 -->\n",
       "<g id=\"edge5\" class=\"edge\">\n",
       "<title>3&#45;&gt;7</title>\n",
       "<path fill=\"none\" stroke=\"#0000ff\" d=\"M127.5265,-109.08C108.8838,-88.1242 86.0441,-62.4506 69.371,-43.7087\"/>\n",
       "<polygon fill=\"#0000ff\" stroke=\"#0000ff\" points=\"71.8948,-41.2799 62.6331,-36.1348 66.6648,-45.9326 71.8948,-41.2799\"/>\n",
       "<text text-anchor=\"middle\" x=\"116.5\" y=\"-57.8\" font-family=\"Times,serif\" font-size=\"14.00\" fill=\"#000000\">yes, missing</text>\n",
       "</g>\n",
       "<!-- 8 -->\n",
       "<g id=\"node7\" class=\"node\">\n",
       "<title>8</title>\n",
       "<polygon fill=\"none\" stroke=\"#000000\" points=\"210,-36 111,-36 111,0 210,0 210,-36\"/>\n",
       "<text text-anchor=\"middle\" x=\"160.5\" y=\"-14.3\" font-family=\"Times,serif\" font-size=\"14.00\" fill=\"#000000\">leaf=0.0666666701</text>\n",
       "</g>\n",
       "<!-- 3&#45;&gt;8 -->\n",
       "<g id=\"edge6\" class=\"edge\">\n",
       "<title>3&#45;&gt;8</title>\n",
       "<path fill=\"none\" stroke=\"#ff0000\" d=\"M160.5,-96.6006C160.5,-79.4852 160.5,-60.9097 160.5,-46.116\"/>\n",
       "<polygon fill=\"#ff0000\" stroke=\"#ff0000\" points=\"164.0001,-46.0871 160.5,-36.0872 157.0001,-46.0872 164.0001,-46.0871\"/>\n",
       "<text text-anchor=\"middle\" x=\"166\" y=\"-57.8\" font-family=\"Times,serif\" font-size=\"14.00\" fill=\"#000000\">no</text>\n",
       "</g>\n",
       "<!-- 9 -->\n",
       "<g id=\"node8\" class=\"node\">\n",
       "<title>9</title>\n",
       "<polygon fill=\"none\" stroke=\"#000000\" points=\"327,-36 228,-36 228,0 327,0 327,-36\"/>\n",
       "<text text-anchor=\"middle\" x=\"277.5\" y=\"-14.3\" font-family=\"Times,serif\" font-size=\"14.00\" fill=\"#000000\">leaf=0.0347107463</text>\n",
       "</g>\n",
       "<!-- 4&#45;&gt;9 -->\n",
       "<g id=\"edge7\" class=\"edge\">\n",
       "<title>4&#45;&gt;9</title>\n",
       "<path fill=\"none\" stroke=\"#0000ff\" d=\"M333.4749,-97.6987C320.825,-79.6874 306.9429,-59.9216 296.168,-44.5801\"/>\n",
       "<polygon fill=\"#0000ff\" stroke=\"#0000ff\" points=\"298.8275,-42.2769 290.2158,-36.1052 293.0991,-46.3001 298.8275,-42.2769\"/>\n",
       "<text text-anchor=\"middle\" x=\"338.5\" y=\"-57.8\" font-family=\"Times,serif\" font-size=\"14.00\" fill=\"#000000\">yes, missing</text>\n",
       "</g>\n",
       "<!-- 10 -->\n",
       "<g id=\"node9\" class=\"node\">\n",
       "<title>10</title>\n",
       "<polygon fill=\"none\" stroke=\"#000000\" points=\"442,-36 345,-36 345,0 442,0 442,-36\"/>\n",
       "<text text-anchor=\"middle\" x=\"393.5\" y=\"-14.3\" font-family=\"Times,serif\" font-size=\"14.00\" fill=\"#000000\">leaf=&#45;0.135483876</text>\n",
       "</g>\n",
       "<!-- 4&#45;&gt;10 -->\n",
       "<g id=\"edge8\" class=\"edge\">\n",
       "<title>4&#45;&gt;10</title>\n",
       "<path fill=\"none\" stroke=\"#ff0000\" d=\"M379.2828,-88.0713C382.2342,-73.5253 385.2699,-58.5633 387.7744,-46.2195\"/>\n",
       "<polygon fill=\"#ff0000\" stroke=\"#ff0000\" points=\"391.2647,-46.6184 389.8231,-36.1221 384.4045,-45.2264 391.2647,-46.6184\"/>\n",
       "<text text-anchor=\"middle\" x=\"392\" y=\"-57.8\" font-family=\"Times,serif\" font-size=\"14.00\" fill=\"#000000\">no</text>\n",
       "</g>\n",
       "<!-- 11 -->\n",
       "<g id=\"node12\" class=\"node\">\n",
       "<title>11</title>\n",
       "<polygon fill=\"none\" stroke=\"#000000\" points=\"548.5,-36 460.5,-36 460.5,0 548.5,0 548.5,-36\"/>\n",
       "<text text-anchor=\"middle\" x=\"504.5\" y=\"-14.3\" font-family=\"Times,serif\" font-size=\"14.00\" fill=\"#000000\">leaf=0.15384616</text>\n",
       "</g>\n",
       "<!-- 5&#45;&gt;11 -->\n",
       "<g id=\"edge11\" class=\"edge\">\n",
       "<title>5&#45;&gt;11</title>\n",
       "<path fill=\"none\" stroke=\"#0000ff\" d=\"M519.9773,-97.3332C516.6239,-80.1447 512.9671,-61.4005 510.0503,-46.4496\"/>\n",
       "<polygon fill=\"#0000ff\" stroke=\"#0000ff\" points=\"513.4223,-45.4548 508.0721,-36.31 506.5518,-46.7952 513.4223,-45.4548\"/>\n",
       "<text text-anchor=\"middle\" x=\"540.5\" y=\"-57.8\" font-family=\"Times,serif\" font-size=\"14.00\" fill=\"#000000\">yes, missing</text>\n",
       "</g>\n",
       "<!-- 12 -->\n",
       "<g id=\"node13\" class=\"node\">\n",
       "<title>12</title>\n",
       "<polygon fill=\"none\" stroke=\"#000000\" points=\"664,-36 567,-36 567,0 664,0 664,-36\"/>\n",
       "<text text-anchor=\"middle\" x=\"615.5\" y=\"-14.3\" font-family=\"Times,serif\" font-size=\"14.00\" fill=\"#000000\">leaf=&#45;0.130434796</text>\n",
       "</g>\n",
       "<!-- 5&#45;&gt;12 -->\n",
       "<g id=\"edge12\" class=\"edge\">\n",
       "<title>5&#45;&gt;12</title>\n",
       "<path fill=\"none\" stroke=\"#ff0000\" d=\"M557.1843,-104.8936C570.3975,-85.2052 585.8301,-62.2098 597.4993,-44.822\"/>\n",
       "<polygon fill=\"#ff0000\" stroke=\"#ff0000\" points=\"600.5605,-46.5415 603.2268,-36.2877 594.7481,-42.6407 600.5605,-46.5415\"/>\n",
       "<text text-anchor=\"middle\" x=\"596\" y=\"-57.8\" font-family=\"Times,serif\" font-size=\"14.00\" fill=\"#000000\">no</text>\n",
       "</g>\n",
       "<!-- 13 -->\n",
       "<g id=\"node14\" class=\"node\">\n",
       "<title>13</title>\n",
       "<polygon fill=\"none\" stroke=\"#000000\" points=\"779,-36 682,-36 682,0 779,0 779,-36\"/>\n",
       "<text text-anchor=\"middle\" x=\"730.5\" y=\"-14.3\" font-family=\"Times,serif\" font-size=\"14.00\" fill=\"#000000\">leaf=&#45;0.159102246</text>\n",
       "</g>\n",
       "<!-- 6&#45;&gt;13 -->\n",
       "<g id=\"edge13\" class=\"edge\">\n",
       "<title>6&#45;&gt;13</title>\n",
       "<path fill=\"none\" stroke=\"#0000ff\" d=\"M730.5,-86.9487C730.5,-72.7899 730.5,-58.3116 730.5,-46.3012\"/>\n",
       "<polygon fill=\"#0000ff\" stroke=\"#0000ff\" points=\"734.0001,-46.0448 730.5,-36.0448 727.0001,-46.0449 734.0001,-46.0448\"/>\n",
       "<text text-anchor=\"middle\" x=\"756.5\" y=\"-57.8\" font-family=\"Times,serif\" font-size=\"14.00\" fill=\"#000000\">yes, missing</text>\n",
       "</g>\n",
       "<!-- 14 -->\n",
       "<g id=\"node15\" class=\"node\">\n",
       "<title>14</title>\n",
       "<polygon fill=\"none\" stroke=\"#000000\" points=\"894,-36 797,-36 797,0 894,0 894,-36\"/>\n",
       "<text text-anchor=\"middle\" x=\"845.5\" y=\"-14.3\" font-family=\"Times,serif\" font-size=\"14.00\" fill=\"#000000\">leaf=&#45;0.062937066</text>\n",
       "</g>\n",
       "<!-- 6&#45;&gt;14 -->\n",
       "<g id=\"edge14\" class=\"edge\">\n",
       "<title>6&#45;&gt;14</title>\n",
       "<path fill=\"none\" stroke=\"#ff0000\" d=\"M770.0765,-102.0446C787.497,-82.6329 807.3562,-60.5037 822.3225,-43.8267\"/>\n",
       "<polygon fill=\"#ff0000\" stroke=\"#ff0000\" points=\"825.1702,-45.8938 829.2444,-36.1136 819.9605,-41.2185 825.1702,-45.8938\"/>\n",
       "<text text-anchor=\"middle\" x=\"817\" y=\"-57.8\" font-family=\"Times,serif\" font-size=\"14.00\" fill=\"#000000\">no</text>\n",
       "</g>\n",
       "</g>\n",
       "</svg>\n"
      ],
      "text/plain": [
       "<graphviz.dot.Digraph at 0x1a14a32a90>"
      ]
     },
     "execution_count": 29,
     "metadata": {},
     "output_type": "execute_result"
    }
   ],
   "source": [
    "# xgb.plot_tree(xgbcl);\n",
    "xgb.to_graphviz(xgbcl)"
   ]
  },
  {
   "cell_type": "markdown",
   "metadata": {
    "_cell_guid": "dc97d02e-b692-424f-9b28-c9d55923c5da",
    "_uuid": "bacaf58757bf03f1deb3030ecc4d3b367d74ea34"
   },
   "source": [
    "Here, Sex = 1 implies male and Sex = 0 implies female. In case of female passengers, ticket class is a deciding factor early on in the decision tree whereas for males, age plays that role."
   ]
  },
  {
   "cell_type": "code",
   "execution_count": null,
   "metadata": {
    "_cell_guid": "56908c9d-38ae-43fa-83d3-1424f96c132b",
    "_uuid": "36342fa1aa4591a8d81a83a07413e98b94144e60"
   },
   "outputs": [],
   "source": [
    "xgb.plot_importance(xgbcl);"
   ]
  },
  {
   "cell_type": "markdown",
   "metadata": {
    "_cell_guid": "f84d8e6e-27d1-4647-a1c2-2bb429e7d0c4",
    "_uuid": "3f34a991777c3f3a8fb218e02863b9e3f8856701"
   },
   "source": [
    "Interestingly, gender is the least important feature in the model we built which is counterintuitive considering what is largely believed about the tragedy."
   ]
  },
  {
   "cell_type": "code",
   "execution_count": null,
   "metadata": {
    "_cell_guid": "2a03e2c2-4f5b-4f7b-906a-15764b9e9d10",
    "_uuid": "2501dad256142f13e2bc8cf894ec0406da7da4a0"
   },
   "outputs": [],
   "source": [
    "X_w_target = X_train.copy()\n",
    "X_w_target['Survived'] = target.astype('int64')\n",
    "correlation_matrix_w_target = X_w_target.corr()\n",
    "correlation_matrix_w_target"
   ]
  },
  {
   "cell_type": "markdown",
   "metadata": {
    "_cell_guid": "8bcc1ed5-e5ea-4fce-b326-24e9e8efc5fe",
    "_uuid": "b8bdc5eece27f31c81bb3ffd47448f9eb12d69a2"
   },
   "source": [
    "Indeed, the gender is the feature that is most highly correlated with survival among all with correlation coefficient of $-0.54$. It is a good demonstration of \"Correlation does not imply causation\"."
   ]
  },
  {
   "cell_type": "code",
   "execution_count": null,
   "metadata": {
    "_cell_guid": "21b99eb5-ea14-450f-b56d-1be7a3f96cee",
    "_uuid": "1b577c4ae56522de7f8c6107f270885c0335346b"
   },
   "outputs": [],
   "source": [
    "plt.figure(figsize=(14,12))\n",
    "plt.title('Pearson Correlation of Features along with target variable', y=1.05, size=15)\n",
    "sns.heatmap(correlation_matrix_w_target);"
   ]
  },
  {
   "cell_type": "markdown",
   "metadata": {
    "_cell_guid": "00a3311f-4328-481b-a1f6-61eaefb4b66a",
    "_uuid": "02ce486584aa89b18ec5ccbe6cad7d6a668bd376"
   },
   "source": [
    "[Partial dependence plots](https://www.kaggle.com/dansbecker/partial-dependence-plots) are useful to see how continuous variables affect the model's predictions. They show us the relationship of a particular variable with target variable when all other features are kept constant. I am unaware of making `plot_partial_dependence` work on `XGBoost Classifier`, so I am rebuilding the model using its equivalent in `scikit-learn`, that is `GradientBoostingClassifier`. "
   ]
  },
  {
   "cell_type": "code",
   "execution_count": null,
   "metadata": {
    "_cell_guid": "57a74955-5b91-44cd-a498-fc1c8ddacdcb",
    "_uuid": "3f609ec0da67595c5bbd18bff717cb2e3c03544a"
   },
   "outputs": [],
   "source": [
    "gbcl = GradientBoostingClassifier(learning_rate=0.2, n_estimators=70)\n",
    "gbcl.fit(X_train, target)\n",
    "plot_partial_dependence(gbcl, X=X_train, features=[0, 1, 2], feature_names=['Age', 'Fare', 'Group_size'], grid_resolution=10);"
   ]
  },
  {
   "cell_type": "markdown",
   "metadata": {
    "_cell_guid": "8a964a21-3a65-427c-bf85-fbbba72f01f2",
    "_uuid": "d769bd40b5ce73bf45dc2e87b5c43cb75befa394"
   },
   "source": [
    "This suggests that Age is a strong indicator of survival in the range of 0-10 years."
   ]
  },
  {
   "cell_type": "markdown",
   "metadata": {
    "_cell_guid": "4e83f371-270e-4400-9d73-5bd376b8823f",
    "_uuid": "46760fa8ef42d83657c7cdbfe99920bfe612eaaf"
   },
   "source": [
    "# Prediction and submission"
   ]
  },
  {
   "cell_type": "code",
   "execution_count": null,
   "metadata": {
    "_cell_guid": "6f25ddcb-9bce-4280-93c5-2fd989160bbc",
    "_uuid": "1eee4700ceb97d5338342a86b3f22f4dc27aefc3"
   },
   "outputs": [],
   "source": [
    "predictions = xgbcl.predict(X_test)\n",
    "Predictions = pd.DataFrame({'PassengerId': PassengerId, 'Survived': predictions})\n",
    "Predictions.to_csv('submission.csv', index=False)"
   ]
  },
  {
   "cell_type": "markdown",
   "metadata": {
    "_cell_guid": "e9c9b3cc-dd0f-4587-8935-532b535c7e12",
    "_uuid": "cc03d920b93aa02f41d47c519ec152b92427d972"
   },
   "source": [
    " ## References for kernels\n",
    " * https://www.kaggle.com/yassineghouzam/titanic-top-4-with-ensemble-modeling\n",
    " * https://www.kaggle.com/arthurtok/introduction-to-ensembling-stacking-in-python\n",
    " * https://www.kaggle.com/pliptor/divide-and-conquer-0-82296"
   ]
  },
  {
   "cell_type": "markdown",
   "metadata": {
    "_cell_guid": "9d9602d6-2b90-4acf-a15d-00eda01f6a95",
    "_uuid": "dbb9d5866e6489fd5b2b625eda2d24dbad7a10d7",
    "collapsed": true
   },
   "source": [
    "If you learned from the kernel and/or liked it, an upvote would be appreciated!"
   ]
  }
 ],
 "metadata": {
  "kernelspec": {
   "display_name": "Python 3",
   "language": "python",
   "name": "python3"
  },
  "language_info": {
   "codemirror_mode": {
    "name": "ipython",
    "version": 3
   },
   "file_extension": ".py",
   "mimetype": "text/x-python",
   "name": "python",
   "nbconvert_exporter": "python",
   "pygments_lexer": "ipython3",
   "version": "3.6.4"
  }
 },
 "nbformat": 4,
 "nbformat_minor": 1
}
