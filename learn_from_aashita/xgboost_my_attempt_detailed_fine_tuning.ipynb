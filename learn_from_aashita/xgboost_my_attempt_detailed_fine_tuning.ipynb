{
 "cells": [
  {
   "cell_type": "markdown",
   "metadata": {},
   "source": [
    "# Basic Overview\n",
    "The idea here is to have a minimalized model with sex,pclass and age (using  xgboost) and fine tune the same\n",
    "(and see where we get !)\n",
    "\n",
    "Admittedly, this may not get us much with respect to score, but will be great learning opportunity(and foundation for future projects)\n",
    "\n",
    "Comments/criticisms/appreciations are greatly accepted and appreciated. Do not be shy and send me an email at babinu@gmail.com !\n",
    "\n",
    "Source of data : https://www.kaggle.com/c/titanic/data"
   ]
  },
  {
   "cell_type": "code",
   "execution_count": 1,
   "metadata": {},
   "outputs": [],
   "source": [
    "import pandas as pd\n",
    "import numpy as np"
   ]
  },
  {
   "cell_type": "code",
   "execution_count": 2,
   "metadata": {},
   "outputs": [],
   "source": [
    "from sklearn.preprocessing import Imputer\n",
    "from sklearn.pipeline import Pipeline\n",
    "from sklearn.model_selection import GridSearchCV"
   ]
  },
  {
   "cell_type": "code",
   "execution_count": 3,
   "metadata": {},
   "outputs": [],
   "source": [
    "# Ha\n",
    "import os\n",
    "os.environ[\"KMP_DUPLICATE_LIB_OK\"]=\"TRUE\""
   ]
  },
  {
   "cell_type": "code",
   "execution_count": 4,
   "metadata": {},
   "outputs": [],
   "source": [
    "train_data = pd.read_csv(\"../input/train.csv\")\n",
    "test_data = pd.read_csv(\"../input/test_data_processed_correct.csv\")"
   ]
  },
  {
   "cell_type": "code",
   "execution_count": 5,
   "metadata": {},
   "outputs": [
    {
     "data": {
      "text/plain": [
       "0        male\n",
       "1      female\n",
       "2      female\n",
       "3      female\n",
       "4        male\n",
       "5        male\n",
       "6        male\n",
       "7        male\n",
       "8      female\n",
       "9      female\n",
       "10     female\n",
       "11     female\n",
       "12       male\n",
       "13       male\n",
       "14     female\n",
       "15     female\n",
       "16       male\n",
       "17       male\n",
       "18     female\n",
       "19     female\n",
       "20       male\n",
       "21       male\n",
       "22     female\n",
       "23       male\n",
       "24     female\n",
       "25     female\n",
       "26       male\n",
       "27       male\n",
       "28     female\n",
       "29       male\n",
       "        ...  \n",
       "861      male\n",
       "862    female\n",
       "863    female\n",
       "864      male\n",
       "865    female\n",
       "866    female\n",
       "867      male\n",
       "868      male\n",
       "869      male\n",
       "870      male\n",
       "871    female\n",
       "872      male\n",
       "873      male\n",
       "874    female\n",
       "875    female\n",
       "876      male\n",
       "877      male\n",
       "878      male\n",
       "879    female\n",
       "880    female\n",
       "881      male\n",
       "882    female\n",
       "883      male\n",
       "884      male\n",
       "885    female\n",
       "886      male\n",
       "887    female\n",
       "888    female\n",
       "889      male\n",
       "890      male\n",
       "Name: Sex, Length: 891, dtype: object"
      ]
     },
     "execution_count": 5,
     "metadata": {},
     "output_type": "execute_result"
    }
   ],
   "source": [
    "train_data['Sex']"
   ]
  },
  {
   "cell_type": "code",
   "execution_count": 6,
   "metadata": {},
   "outputs": [
    {
     "data": {
      "text/plain": [
       "array([0., 1.])"
      ]
     },
     "execution_count": 6,
     "metadata": {},
     "output_type": "execute_result"
    }
   ],
   "source": [
    "test_data.Survived.unique()"
   ]
  },
  {
   "cell_type": "markdown",
   "metadata": {},
   "source": [
    "Since XGBoost uses only numeric predictors, and we do not want to increase dimensionality, we will go with numeric encoding for sex and plcass variables for now."
   ]
  },
  {
   "cell_type": "code",
   "execution_count": 7,
   "metadata": {},
   "outputs": [],
   "source": [
    "train_data.loc[(train_data['Sex'] == 'male'), 'Sex'] = 1\n",
    "train_data.loc[(train_data['Sex'] == 'female'), 'Sex'] = 0\n",
    "\n",
    "test_data.loc[(test_data['Sex'] == 'male'), 'Sex'] = 1\n",
    "test_data.loc[(test_data['Sex'] == 'female'), 'Sex'] = 0\n"
   ]
  },
  {
   "cell_type": "code",
   "execution_count": 8,
   "metadata": {},
   "outputs": [],
   "source": [
    "# Add a column called Predictions in training data, which will become handy while doing\n",
    "# cross validation.\n",
    "train_data['Predictions'] = -1"
   ]
  },
  {
   "cell_type": "code",
   "execution_count": 9,
   "metadata": {},
   "outputs": [],
   "source": [
    "from sklearn.preprocessing import Imputer\n",
    "from xgboost import XGBClassifier\n",
    "from sklearn.model_selection import cross_val_score\n",
    "from sklearn.pipeline import make_pipeline\n",
    "from sklearn.model_selection import train_test_split\n",
    "from sklearn.metrics import mean_absolute_error\n",
    "import xgboost as xgb"
   ]
  },
  {
   "cell_type": "code",
   "execution_count": 10,
   "metadata": {},
   "outputs": [],
   "source": [
    "def get_train_test_data(train_data,\n",
    "                        X_columns=['Sex', 'Pclass', 'Age'], \n",
    "                        Y_columns=['Survived']):\n",
    "    # Simple training and testing\n",
    "    X = train_data[X_columns]\n",
    "    Y = train_data[Y_columns]\n",
    "\n",
    "    X_one_hot = pd.get_dummies(X)\n",
    "\n",
    "    # Do imputation on relevant columns.\n",
    "    X_train, X_test, Y_train, Y_test = train_test_split(X_one_hot, Y, random_state=0)\n",
    "\n",
    "    return (X_train, X_test, Y_train, Y_test, X_one_hot, Y)\n"
   ]
  },
  {
   "cell_type": "code",
   "execution_count": 11,
   "metadata": {},
   "outputs": [],
   "source": [
    "def create_pipeline_and_out_of_sample_score(X_train, X_test, Y_train, Y_test, n_estimators=100, \n",
    "                                            learning_rate=0.1):\n",
    "    # Rewrite everything as a pipeline\n",
    "    my_pipeline = make_pipeline(Imputer(), \n",
    "                                XGBClassifier(seed=1, n_estimators=n_estimators, learning_rate=learning_rate))\n",
    "    my_pipeline.fit(X_train, Y_train.values.ravel())\n",
    "    predictions = my_pipeline.predict(X_test)\n",
    "    #predictions = (X_test['Sex'] == 0)\n",
    "    out_of_sample_score = 1.0 - mean_absolute_error(predictions, Y_test)\n",
    "    return (my_pipeline, out_of_sample_score, predictions)"
   ]
  },
  {
   "cell_type": "code",
   "execution_count": 12,
   "metadata": {},
   "outputs": [],
   "source": [
    "def cross_validate(my_pipeline, X_one_hot, Y):\n",
    "    cross_val_scores = cross_val_score(my_pipeline, X_one_hot, Y, scoring='neg_mean_absolute_error', cv=5)\n",
    "    return 1.0  + cross_val_scores.mean()"
   ]
  },
  {
   "cell_type": "code",
   "execution_count": 13,
   "metadata": {},
   "outputs": [],
   "source": [
    "def train_test_cross_validate(train_data, \n",
    "                              X_columns=['Sex', 'Pclass', 'Age'], \n",
    "                              Y_columns=['Survived'],\n",
    "                              n_estimators=100,\n",
    "                              learning_rate=0.1):\n",
    "    (X_train, X_test, Y_train, Y_test, X_one_hot, Y) = get_train_test_data(train_data, X_columns, Y_columns)\n",
    "    my_pipeline, out_of_sample_score, predictions_test = \\\n",
    "        create_pipeline_and_out_of_sample_score(X_train, X_test, Y_train, Y_test, n_estimators, learning_rate)\n",
    "\n",
    "    print(\"Number of entries in training set is {0}\".format(len(X_train)))\n",
    "    predictions_train = my_pipeline.predict(X_train)\n",
    "    #predictions_train = (X_train['Sex'] == 0)    \n",
    "    num_correct_predictions_train = int((1.0 - mean_absolute_error(predictions_train, Y_train)) * len(Y_train))\n",
    "\n",
    "\n",
    "    print(\"Number of correct predictions in training set is {0}\".format(num_correct_predictions_train))    \n",
    "    print(\"Number of entries in test set is {0}\".format(len(X_test)))    \n",
    "    print(\"Number of correct predictions in test set is {0}\".format(int(out_of_sample_score * len(X_test))))\n",
    "\n",
    "    cross_validation_score = cross_validate(make_pipeline(Imputer(), \n",
    "                                                          XGBClassifier(seed=1,\n",
    "                                                                        n_estimators=n_estimators, \n",
    "                                                                        learning_rate=learning_rate)), \n",
    "                                            X_one_hot, Y.values.ravel())\n",
    "    return (my_pipeline, out_of_sample_score, cross_validation_score)"
   ]
  },
  {
   "cell_type": "code",
   "execution_count": 14,
   "metadata": {},
   "outputs": [],
   "source": [
    "# Make sure that unnecessary deprecation warnings are avoided.\n",
    "# Thanks to https://stackoverflow.com/questions/49545947/sklearn-deprecationwarning-truth-value-of-an-array\n",
    "import warnings\n",
    "warnings.filterwarnings(action='ignore', category=DeprecationWarning)\n"
   ]
  },
  {
   "cell_type": "markdown",
   "metadata": {},
   "source": [
    "### Correlation between predictors. "
   ]
  },
  {
   "cell_type": "code",
   "execution_count": 15,
   "metadata": {},
   "outputs": [
    {
     "data": {
      "text/html": [
       "<div>\n",
       "<style scoped>\n",
       "    .dataframe tbody tr th:only-of-type {\n",
       "        vertical-align: middle;\n",
       "    }\n",
       "\n",
       "    .dataframe tbody tr th {\n",
       "        vertical-align: top;\n",
       "    }\n",
       "\n",
       "    .dataframe thead th {\n",
       "        text-align: right;\n",
       "    }\n",
       "</style>\n",
       "<table border=\"1\" class=\"dataframe\">\n",
       "  <thead>\n",
       "    <tr style=\"text-align: right;\">\n",
       "      <th></th>\n",
       "      <th>Survived</th>\n",
       "      <th>Pclass</th>\n",
       "      <th>Age</th>\n",
       "      <th>Sex</th>\n",
       "    </tr>\n",
       "  </thead>\n",
       "  <tbody>\n",
       "    <tr>\n",
       "      <th>Survived</th>\n",
       "      <td>1.000000</td>\n",
       "      <td>-0.338481</td>\n",
       "      <td>-0.077221</td>\n",
       "      <td>-0.543351</td>\n",
       "    </tr>\n",
       "    <tr>\n",
       "      <th>Pclass</th>\n",
       "      <td>-0.338481</td>\n",
       "      <td>1.000000</td>\n",
       "      <td>-0.369226</td>\n",
       "      <td>0.131900</td>\n",
       "    </tr>\n",
       "    <tr>\n",
       "      <th>Age</th>\n",
       "      <td>-0.077221</td>\n",
       "      <td>-0.369226</td>\n",
       "      <td>1.000000</td>\n",
       "      <td>0.093254</td>\n",
       "    </tr>\n",
       "    <tr>\n",
       "      <th>Sex</th>\n",
       "      <td>-0.543351</td>\n",
       "      <td>0.131900</td>\n",
       "      <td>0.093254</td>\n",
       "      <td>1.000000</td>\n",
       "    </tr>\n",
       "  </tbody>\n",
       "</table>\n",
       "</div>"
      ],
      "text/plain": [
       "          Survived    Pclass       Age       Sex\n",
       "Survived  1.000000 -0.338481 -0.077221 -0.543351\n",
       "Pclass   -0.338481  1.000000 -0.369226  0.131900\n",
       "Age      -0.077221 -0.369226  1.000000  0.093254\n",
       "Sex      -0.543351  0.131900  0.093254  1.000000"
      ]
     },
     "execution_count": 15,
     "metadata": {},
     "output_type": "execute_result"
    }
   ],
   "source": [
    "train_data[['Survived', 'Pclass', 'Age', 'Sex']].corr()"
   ]
  },
  {
   "cell_type": "code",
   "execution_count": 16,
   "metadata": {},
   "outputs": [
    {
     "data": {
      "text/plain": [
       "<matplotlib.axes._subplots.AxesSubplot at 0x1a0e900358>"
      ]
     },
     "execution_count": 16,
     "metadata": {},
     "output_type": "execute_result"
    }
   ],
   "source": [
    "import seaborn as sns\n",
    "import matplotlib.pyplot as plt\n",
    "fig, ax = plt.subplots(1, 1, figsize=(16, 9))\n",
    "sns.heatmap(train_data[['Survived', 'Pclass', 'Age', 'Sex']].corr(), ax=ax)"
   ]
  },
  {
   "cell_type": "markdown",
   "metadata": {},
   "source": [
    "The correlation level looks acceptable here."
   ]
  },
  {
   "cell_type": "code",
   "execution_count": 17,
   "metadata": {},
   "outputs": [],
   "source": [
    "# Get the XGBclassifier directly as it is far easier to visualize this than the\n",
    "# pipeline object.\n",
    "def get_sklearn_xgbclassifier(train_data, X_columns=['Sex'], Y_columns=['Survived']):\n",
    "    my_model = XGBClassifier(seed=1)\n",
    "    X_train = train_data[X_columns]\n",
    "    Y_train = train_data[Y_columns]\n",
    "    my_model.fit(X_train, Y_train.values.ravel())    \n",
    "    return my_model"
   ]
  },
  {
   "cell_type": "code",
   "execution_count": 18,
   "metadata": {},
   "outputs": [],
   "source": [
    "def get_gridsearch_crossval_output(train_data, \n",
    "                                   X_columns = ['Sex', 'Pclass'], \n",
    "                                   Y_columns = ['Survived'],\n",
    "                                   n_estimators_list = [10, 50, 70, 100, 120, 150, 200],\n",
    "                                   learning_rates_list = [0.01, 0.02, 0.05, 0.07, 0.1],\n",
    "                                   early_stopping_round = 10,\n",
    "                                   num_cross_val_sets = 5\n",
    "                                  ):\n",
    "    (X_train, X_test, Y_train, Y_test, X_one_hot, Y) = get_train_test_data(train_data, X_columns, Y_columns)\n",
    "    col_names = ['f' + str(i) for i in range(len(X_train.columns))]\n",
    "    X_train.columns = col_names\n",
    "    X_test.columns = col_names\n",
    "    my_pipeline = Pipeline([('imputer', Imputer()), ('xgcl', XGBClassifier())])\n",
    "    param_grid = {\n",
    "        'xgcl__n_estimators' : n_estimators_list,\n",
    "        'xgcl__learning_rate' : learning_rates_list\n",
    "    }\n",
    "    fit_params = {'xgcl__eval_set' : [(X_test, Y_test.values.ravel())],\n",
    "                  'xgcl__early_stopping_rounds' : early_stopping_round,\n",
    "                  'xgcl__verbose': False}\n",
    "\n",
    "    searchCV = GridSearchCV(my_pipeline, cv=num_cross_val_sets, param_grid=param_grid, fit_params=fit_params)\n",
    "    searchCV.fit(X_train, Y_train.values.ravel())\n",
    "    return searchCV"
   ]
  },
  {
   "cell_type": "code",
   "execution_count": 19,
   "metadata": {},
   "outputs": [],
   "source": [
    "def get_model_metrics_and_display(train_data, X_columns=['Sex'], Y_columns=['Survived']):\n",
    "    (my_pipeline, out_of_sample_score, cross_validation_score) = \\\n",
    "        train_test_cross_validate(train_data,\n",
    "                                  X_columns, \n",
    "                                  Y_columns)\n",
    "\n",
    "    print(\"Out of sample score is {0}\\nCross val score is {1}\".format(out_of_sample_score, cross_validation_score))\n",
    "    my_model = get_sklearn_xgbclassifier(train_data, X_columns, Y_columns)\n",
    "    return my_model\n",
    "    "
   ]
  },
  {
   "cell_type": "markdown",
   "metadata": {},
   "source": [
    "### Model 1: Sex as the only predictor"
   ]
  },
  {
   "cell_type": "markdown",
   "metadata": {},
   "source": [
    "#### Basic training/cross validation"
   ]
  },
  {
   "cell_type": "code",
   "execution_count": 20,
   "metadata": {},
   "outputs": [],
   "source": [
    "X_columns = ['Sex']\n",
    "Y_columns = ['Survived']"
   ]
  },
  {
   "cell_type": "code",
   "execution_count": 21,
   "metadata": {},
   "outputs": [
    {
     "name": "stdout",
     "output_type": "stream",
     "text": [
      "Number of entries in training set is 668\n",
      "Number of correct predictions in training set is 527\n",
      "Number of entries in test set is 223\n",
      "Number of correct predictions in test set is 174\n",
      "Out of sample score is 0.7802690582959642\n",
      "Cross val score is 0.7867150249291879\n"
     ]
    },
    {
     "data": {
      "image/svg+xml": [
       "<?xml version=\"1.0\" encoding=\"UTF-8\" standalone=\"no\"?>\n",
       "<!DOCTYPE svg PUBLIC \"-//W3C//DTD SVG 1.1//EN\"\n",
       " \"http://www.w3.org/Graphics/SVG/1.1/DTD/svg11.dtd\">\n",
       "<!-- Generated by graphviz version 2.40.1 (20161225.0304)\n",
       " -->\n",
       "<!-- Title: %3 Pages: 1 -->\n",
       "<svg width=\"222pt\" height=\"151pt\"\n",
       " viewBox=\"0.00 0.00 222.00 150.90\" xmlns=\"http://www.w3.org/2000/svg\" xmlns:xlink=\"http://www.w3.org/1999/xlink\">\n",
       "<g id=\"graph0\" class=\"graph\" transform=\"scale(1 1) rotate(0) translate(4 146.895)\">\n",
       "<title>%3</title>\n",
       "<polygon fill=\"#ffffff\" stroke=\"transparent\" points=\"-4,4 -4,-146.895 218,-146.895 218,4 -4,4\"/>\n",
       "<!-- 0 -->\n",
       "<g id=\"node1\" class=\"node\">\n",
       "<title>0</title>\n",
       "<ellipse fill=\"none\" stroke=\"#000000\" cx=\"107.5\" cy=\"-114.9475\" rx=\"27.8951\" ry=\"27.8951\"/>\n",
       "<text text-anchor=\"middle\" x=\"107.5\" y=\"-111.2475\" font-family=\"Times,serif\" font-size=\"14.00\" fill=\"#000000\">Sex&lt;1</text>\n",
       "</g>\n",
       "<!-- 1 -->\n",
       "<g id=\"node2\" class=\"node\">\n",
       "<title>1</title>\n",
       "<polygon fill=\"none\" stroke=\"#000000\" points=\"99,-36 0,-36 0,0 99,0 99,-36\"/>\n",
       "<text text-anchor=\"middle\" x=\"49.5\" y=\"-14.3\" font-family=\"Times,serif\" font-size=\"14.00\" fill=\"#000000\">leaf=0.0955974832</text>\n",
       "</g>\n",
       "<!-- 0&#45;&gt;1 -->\n",
       "<g id=\"edge1\" class=\"edge\">\n",
       "<title>0&#45;&gt;1</title>\n",
       "<path fill=\"none\" stroke=\"#0000ff\" d=\"M92.8642,-90.4836C84.5505,-76.5873 74.1298,-59.169 65.5874,-44.8903\"/>\n",
       "<polygon fill=\"#0000ff\" stroke=\"#0000ff\" points=\"68.4237,-42.8137 60.2861,-36.0291 62.4166,-46.4076 68.4237,-42.8137\"/>\n",
       "<text text-anchor=\"middle\" x=\"104.5\" y=\"-57.8\" font-family=\"Times,serif\" font-size=\"14.00\" fill=\"#000000\">yes, missing</text>\n",
       "</g>\n",
       "<!-- 2 -->\n",
       "<g id=\"node3\" class=\"node\">\n",
       "<title>2</title>\n",
       "<polygon fill=\"none\" stroke=\"#000000\" points=\"214,-36 117,-36 117,0 214,0 214,-36\"/>\n",
       "<text text-anchor=\"middle\" x=\"165.5\" y=\"-14.3\" font-family=\"Times,serif\" font-size=\"14.00\" fill=\"#000000\">leaf=&#45;0.123580039</text>\n",
       "</g>\n",
       "<!-- 0&#45;&gt;2 -->\n",
       "<g id=\"edge2\" class=\"edge\">\n",
       "<title>0&#45;&gt;2</title>\n",
       "<path fill=\"none\" stroke=\"#ff0000\" d=\"M122.1358,-90.4836C130.4495,-76.5873 140.8702,-59.169 149.4126,-44.8903\"/>\n",
       "<polygon fill=\"#ff0000\" stroke=\"#ff0000\" points=\"152.5834,-46.4076 154.7139,-36.0291 146.5763,-42.8137 152.5834,-46.4076\"/>\n",
       "<text text-anchor=\"middle\" x=\"148\" y=\"-57.8\" font-family=\"Times,serif\" font-size=\"14.00\" fill=\"#000000\">no</text>\n",
       "</g>\n",
       "</g>\n",
       "</svg>\n"
      ],
      "text/plain": [
       "<graphviz.dot.Digraph at 0x1068974a8>"
      ]
     },
     "execution_count": 21,
     "metadata": {},
     "output_type": "execute_result"
    }
   ],
   "source": [
    "my_model = get_model_metrics_and_display(train_data,X_columns=['Sex'])\n",
    "xgb.to_graphviz(my_model)\n"
   ]
  },
  {
   "cell_type": "markdown",
   "metadata": {},
   "source": [
    "How do we interpret these numbers and convert to probabilities ?\n",
    "\n",
    "Check out the following links in detail : https://github.com/dmlc/xgboost/issues/1746\n",
    "https://stackoverflow.com/questions/39858916/xgboost-how-to-get-probabilities-of-class-from-xgb-dump-multisoftprob-objecti"
   ]
  },
  {
   "cell_type": "markdown",
   "metadata": {},
   "source": [
    "#### Fine tuning using xgboost cross validation"
   ]
  },
  {
   "cell_type": "code",
   "execution_count": 22,
   "metadata": {},
   "outputs": [],
   "source": [
    "X_train = train_data[X_columns]\n",
    "Y_train = train_data[Y_columns]\n",
    "dtrain = xgb.DMatrix(data=X_train, label=Y_train)\n",
    "params = {\"Objective\" : 'gbtree',\n",
    "          \"eval_metric\" : 'error',\n",
    "          'learning_rate' : 0.05\n",
    "         }\n",
    "cv = xgb.cv(dtrain=dtrain, params=params, num_boost_round=500, nfold=5, seed=0, early_stopping_rounds=10)"
   ]
  },
  {
   "cell_type": "code",
   "execution_count": 23,
   "metadata": {},
   "outputs": [
    {
     "data": {
      "text/html": [
       "<div>\n",
       "<style scoped>\n",
       "    .dataframe tbody tr th:only-of-type {\n",
       "        vertical-align: middle;\n",
       "    }\n",
       "\n",
       "    .dataframe tbody tr th {\n",
       "        vertical-align: top;\n",
       "    }\n",
       "\n",
       "    .dataframe thead th {\n",
       "        text-align: right;\n",
       "    }\n",
       "</style>\n",
       "<table border=\"1\" class=\"dataframe\">\n",
       "  <thead>\n",
       "    <tr style=\"text-align: right;\">\n",
       "      <th></th>\n",
       "      <th>test-error-mean</th>\n",
       "      <th>test-error-std</th>\n",
       "      <th>train-error-mean</th>\n",
       "      <th>train-error-std</th>\n",
       "    </tr>\n",
       "  </thead>\n",
       "  <tbody>\n",
       "    <tr>\n",
       "      <th>0</th>\n",
       "      <td>0.213244</td>\n",
       "      <td>0.009413</td>\n",
       "      <td>0.213244</td>\n",
       "      <td>0.00235</td>\n",
       "    </tr>\n",
       "  </tbody>\n",
       "</table>\n",
       "</div>"
      ],
      "text/plain": [
       "   test-error-mean  test-error-std  train-error-mean  train-error-std\n",
       "0         0.213244        0.009413          0.213244          0.00235"
      ]
     },
     "execution_count": 23,
     "metadata": {},
     "output_type": "execute_result"
    }
   ],
   "source": [
    "cv.tail(10)"
   ]
  },
  {
   "cell_type": "markdown",
   "metadata": {},
   "source": [
    "#### Fine tuning using GridSearchCV"
   ]
  },
  {
   "cell_type": "code",
   "execution_count": 24,
   "metadata": {},
   "outputs": [
    {
     "data": {
      "text/plain": [
       "{'xgcl__learning_rate': 0.01, 'xgcl__n_estimators': 10}"
      ]
     },
     "execution_count": 24,
     "metadata": {},
     "output_type": "execute_result"
    }
   ],
   "source": [
    "searchCV = get_gridsearch_crossval_output(train_data, X_columns=X_columns)\n",
    "searchCV.best_params_\n"
   ]
  },
  {
   "cell_type": "code",
   "execution_count": 25,
   "metadata": {},
   "outputs": [
    {
     "name": "stderr",
     "output_type": "stream",
     "text": [
      "/Users/babs4JESUS/anaconda3/lib/python3.6/site-packages/sklearn/utils/deprecation.py:122: FutureWarning: You are accessing a training score ('mean_train_score'), which will not be available by default any more in 0.21. If you need training scores, please set return_train_score=True\n",
      "  warnings.warn(*warn_args, **warn_kwargs)\n"
     ]
    },
    {
     "data": {
      "text/plain": [
       "array([0.78892366, 0.78892366, 0.78892366, 0.78892366, 0.78892366,\n",
       "       0.78892366, 0.78892366, 0.78892366, 0.78892366, 0.78892366,\n",
       "       0.78892366, 0.78892366, 0.78892366, 0.78892366, 0.78892366,\n",
       "       0.78892366, 0.78892366, 0.78892366, 0.78892366, 0.78892366,\n",
       "       0.78892366, 0.78892366, 0.78892366, 0.78892366, 0.78892366,\n",
       "       0.78892366, 0.78892366, 0.78892366, 0.78892366, 0.78892366,\n",
       "       0.78892366, 0.78892366, 0.78892366, 0.78892366, 0.78892366])"
      ]
     },
     "execution_count": 25,
     "metadata": {},
     "output_type": "execute_result"
    }
   ],
   "source": [
    "searchCV.cv_results_['mean_train_score']"
   ]
  },
  {
   "cell_type": "code",
   "execution_count": 26,
   "metadata": {},
   "outputs": [
    {
     "data": {
      "text/plain": [
       "array([0.78892216, 0.78892216, 0.78892216, 0.78892216, 0.78892216,\n",
       "       0.78892216, 0.78892216, 0.78892216, 0.78892216, 0.78892216,\n",
       "       0.78892216, 0.78892216, 0.78892216, 0.78892216, 0.78892216,\n",
       "       0.78892216, 0.78892216, 0.78892216, 0.78892216, 0.78892216,\n",
       "       0.78892216, 0.78892216, 0.78892216, 0.78892216, 0.78892216,\n",
       "       0.78892216, 0.78892216, 0.78892216, 0.78892216, 0.78892216,\n",
       "       0.78892216, 0.78892216, 0.78892216, 0.78892216, 0.78892216])"
      ]
     },
     "execution_count": 26,
     "metadata": {},
     "output_type": "execute_result"
    }
   ],
   "source": [
    "searchCV.cv_results_['mean_test_score']"
   ]
  },
  {
   "cell_type": "markdown",
   "metadata": {},
   "source": [
    "### Model 2: Sex and Pclass as predictors."
   ]
  },
  {
   "cell_type": "markdown",
   "metadata": {},
   "source": [
    "#### Basic training/cross validation"
   ]
  },
  {
   "cell_type": "code",
   "execution_count": 27,
   "metadata": {},
   "outputs": [],
   "source": [
    "X_columns = ['Sex', 'Pclass']\n",
    "Y_columns = ['Survived']"
   ]
  },
  {
   "cell_type": "code",
   "execution_count": 28,
   "metadata": {},
   "outputs": [
    {
     "name": "stdout",
     "output_type": "stream",
     "text": [
      "Number of entries in training set is 668\n",
      "Number of correct predictions in training set is 527\n",
      "Number of entries in test set is 223\n",
      "Number of correct predictions in test set is 174\n",
      "Out of sample score is 0.7802690582959642\n",
      "Cross val score is 0.7733072037001376\n"
     ]
    },
    {
     "data": {
      "image/svg+xml": [
       "<?xml version=\"1.0\" encoding=\"UTF-8\" standalone=\"no\"?>\n",
       "<!DOCTYPE svg PUBLIC \"-//W3C//DTD SVG 1.1//EN\"\n",
       " \"http://www.w3.org/Graphics/SVG/1.1/DTD/svg11.dtd\">\n",
       "<!-- Generated by graphviz version 2.40.1 (20161225.0304)\n",
       " -->\n",
       "<!-- Title: %3 Pages: 1 -->\n",
       "<svg width=\"409pt\" height=\"272pt\"\n",
       " viewBox=\"0.00 0.00 409.00 272.09\" xmlns=\"http://www.w3.org/2000/svg\" xmlns:xlink=\"http://www.w3.org/1999/xlink\">\n",
       "<g id=\"graph0\" class=\"graph\" transform=\"scale(1 1) rotate(0) translate(4 268.0888)\">\n",
       "<title>%3</title>\n",
       "<polygon fill=\"#ffffff\" stroke=\"transparent\" points=\"-4,4 -4,-268.0888 405,-268.0888 405,4 -4,4\"/>\n",
       "<!-- 0 -->\n",
       "<g id=\"node1\" class=\"node\">\n",
       "<title>0</title>\n",
       "<ellipse fill=\"none\" stroke=\"#000000\" cx=\"185.5\" cy=\"-236.1413\" rx=\"27.8951\" ry=\"27.8951\"/>\n",
       "<text text-anchor=\"middle\" x=\"185.5\" y=\"-232.4413\" font-family=\"Times,serif\" font-size=\"14.00\" fill=\"#000000\">Sex&lt;1</text>\n",
       "</g>\n",
       "<!-- 1 -->\n",
       "<g id=\"node2\" class=\"node\">\n",
       "<title>1</title>\n",
       "<ellipse fill=\"none\" stroke=\"#000000\" cx=\"138.5\" cy=\"-122.0969\" rx=\"35.194\" ry=\"35.194\"/>\n",
       "<text text-anchor=\"middle\" x=\"138.5\" y=\"-118.3969\" font-family=\"Times,serif\" font-size=\"14.00\" fill=\"#000000\">Pclass&lt;3</text>\n",
       "</g>\n",
       "<!-- 0&#45;&gt;1 -->\n",
       "<g id=\"edge1\" class=\"edge\">\n",
       "<title>0&#45;&gt;1</title>\n",
       "<path fill=\"none\" stroke=\"#0000ff\" d=\"M167.9996,-213.7181C163.0474,-206.5209 158.0463,-198.3054 154.5,-190.1938 151.2847,-182.8393 148.6631,-174.7432 146.543,-166.7788\"/>\n",
       "<polygon fill=\"#0000ff\" stroke=\"#0000ff\" points=\"149.8861,-165.7142 144.1188,-156.8266 143.085,-167.3709 149.8861,-165.7142\"/>\n",
       "<text text-anchor=\"middle\" x=\"180.5\" y=\"-178.9938\" font-family=\"Times,serif\" font-size=\"14.00\" fill=\"#000000\">yes, missing</text>\n",
       "</g>\n",
       "<!-- 2 -->\n",
       "<g id=\"node3\" class=\"node\">\n",
       "<title>2</title>\n",
       "<ellipse fill=\"none\" stroke=\"#000000\" cx=\"234.5\" cy=\"-122.0969\" rx=\"35.194\" ry=\"35.194\"/>\n",
       "<text text-anchor=\"middle\" x=\"234.5\" y=\"-118.3969\" font-family=\"Times,serif\" font-size=\"14.00\" fill=\"#000000\">Pclass&lt;2</text>\n",
       "</g>\n",
       "<!-- 0&#45;&gt;2 -->\n",
       "<g id=\"edge2\" class=\"edge\">\n",
       "<title>0&#45;&gt;2</title>\n",
       "<path fill=\"none\" stroke=\"#ff0000\" d=\"M197.4488,-210.4602C200.4537,-203.8766 203.6372,-196.7914 206.5,-190.1938 210.123,-181.8442 213.8967,-172.8713 217.4571,-164.2677\"/>\n",
       "<polygon fill=\"#ff0000\" stroke=\"#ff0000\" points=\"220.7991,-165.3435 221.3667,-154.7639 214.3254,-162.6804 220.7991,-165.3435\"/>\n",
       "<text text-anchor=\"middle\" x=\"219\" y=\"-178.9938\" font-family=\"Times,serif\" font-size=\"14.00\" fill=\"#000000\">no</text>\n",
       "</g>\n",
       "<!-- 3 -->\n",
       "<g id=\"node4\" class=\"node\">\n",
       "<title>3</title>\n",
       "<polygon fill=\"none\" stroke=\"#000000\" points=\"93,-36 0,-36 0,0 93,0 93,-36\"/>\n",
       "<text text-anchor=\"middle\" x=\"46.5\" y=\"-14.3\" font-family=\"Times,serif\" font-size=\"14.00\" fill=\"#000000\">leaf=0.174712643</text>\n",
       "</g>\n",
       "<!-- 1&#45;&gt;3 -->\n",
       "<g id=\"edge3\" class=\"edge\">\n",
       "<title>1&#45;&gt;3</title>\n",
       "<path fill=\"none\" stroke=\"#0000ff\" d=\"M111.794,-98.7893C102.1487,-89.862 91.4422,-79.3337 82.5,-69 75.9378,-61.4167 69.4162,-52.6524 63.7631,-44.5516\"/>\n",
       "<polygon fill=\"#0000ff\" stroke=\"#0000ff\" points=\"66.5331,-42.4011 58.009,-36.109 60.7488,-46.3435 66.5331,-42.4011\"/>\n",
       "<text text-anchor=\"middle\" x=\"108.5\" y=\"-57.8\" font-family=\"Times,serif\" font-size=\"14.00\" fill=\"#000000\">yes, missing</text>\n",
       "</g>\n",
       "<!-- 4 -->\n",
       "<g id=\"node5\" class=\"node\">\n",
       "<title>4</title>\n",
       "<polygon fill=\"none\" stroke=\"#000000\" points=\"165.5,-36 111.5,-36 111.5,0 165.5,0 165.5,-36\"/>\n",
       "<text text-anchor=\"middle\" x=\"138.5\" y=\"-14.3\" font-family=\"Times,serif\" font-size=\"14.00\" fill=\"#000000\">leaf=&#45;0</text>\n",
       "</g>\n",
       "<!-- 1&#45;&gt;4 -->\n",
       "<g id=\"edge4\" class=\"edge\">\n",
       "<title>1&#45;&gt;4</title>\n",
       "<path fill=\"none\" stroke=\"#ff0000\" d=\"M138.5,-86.8544C138.5,-73.716 138.5,-58.977 138.5,-46.517\"/>\n",
       "<polygon fill=\"#ff0000\" stroke=\"#ff0000\" points=\"142.0001,-46.2514 138.5,-36.2514 135.0001,-46.2514 142.0001,-46.2514\"/>\n",
       "<text text-anchor=\"middle\" x=\"144\" y=\"-57.8\" font-family=\"Times,serif\" font-size=\"14.00\" fill=\"#000000\">no</text>\n",
       "</g>\n",
       "<!-- 5 -->\n",
       "<g id=\"node6\" class=\"node\">\n",
       "<title>5</title>\n",
       "<polygon fill=\"none\" stroke=\"#000000\" points=\"285.5,-36 183.5,-36 183.5,0 285.5,0 285.5,-36\"/>\n",
       "<text text-anchor=\"middle\" x=\"234.5\" y=\"-14.3\" font-family=\"Times,serif\" font-size=\"14.00\" fill=\"#000000\">leaf=&#45;0.0507936552</text>\n",
       "</g>\n",
       "<!-- 2&#45;&gt;5 -->\n",
       "<g id=\"edge5\" class=\"edge\">\n",
       "<title>2&#45;&gt;5</title>\n",
       "<path fill=\"none\" stroke=\"#0000ff\" d=\"M234.5,-86.8544C234.5,-73.716 234.5,-58.977 234.5,-46.517\"/>\n",
       "<polygon fill=\"#0000ff\" stroke=\"#0000ff\" points=\"238.0001,-46.2514 234.5,-36.2514 231.0001,-46.2514 238.0001,-46.2514\"/>\n",
       "<text text-anchor=\"middle\" x=\"260.5\" y=\"-57.8\" font-family=\"Times,serif\" font-size=\"14.00\" fill=\"#000000\">yes, missing</text>\n",
       "</g>\n",
       "<!-- 6 -->\n",
       "<g id=\"node7\" class=\"node\">\n",
       "<title>6</title>\n",
       "<polygon fill=\"none\" stroke=\"#000000\" points=\"401,-36 304,-36 304,0 401,0 401,-36\"/>\n",
       "<text text-anchor=\"middle\" x=\"352.5\" y=\"-14.3\" font-family=\"Times,serif\" font-size=\"14.00\" fill=\"#000000\">leaf=&#45;0.142483667</text>\n",
       "</g>\n",
       "<!-- 2&#45;&gt;6 -->\n",
       "<g id=\"edge6\" class=\"edge\">\n",
       "<title>2&#45;&gt;6</title>\n",
       "<path fill=\"none\" stroke=\"#ff0000\" d=\"M260.9815,-98.7355C279.8535,-82.0871 305.1808,-59.7439 324.4069,-42.7831\"/>\n",
       "<polygon fill=\"#ff0000\" stroke=\"#ff0000\" points=\"326.7897,-45.3483 331.9734,-36.1081 322.1589,-40.099 326.7897,-45.3483\"/>\n",
       "<text text-anchor=\"middle\" x=\"316\" y=\"-57.8\" font-family=\"Times,serif\" font-size=\"14.00\" fill=\"#000000\">no</text>\n",
       "</g>\n",
       "</g>\n",
       "</svg>\n"
      ],
      "text/plain": [
       "<graphviz.dot.Digraph at 0x1a18151c88>"
      ]
     },
     "execution_count": 28,
     "metadata": {},
     "output_type": "execute_result"
    }
   ],
   "source": [
    "my_model = get_model_metrics_and_display(train_data,X_columns=X_columns)\n",
    "xgb.to_graphviz(my_model)\n"
   ]
  },
  {
   "cell_type": "markdown",
   "metadata": {},
   "source": [
    "It looks like here, we are not taking into account pclass here. Hence, let us see if we can finetune the model to take into account plcass as well."
   ]
  },
  {
   "cell_type": "markdown",
   "metadata": {},
   "source": [
    "#### Fine tuning using xgboost cross validation"
   ]
  },
  {
   "cell_type": "code",
   "execution_count": 29,
   "metadata": {},
   "outputs": [],
   "source": [
    "dtrain = xgb.DMatrix(data=X_train, label=Y_train)\n",
    "params = {\"Objective\" : 'gbtree',\n",
    "          \"eval_metric\" : 'error',\n",
    "          'learning_rate' : 0.05\n",
    "         }\n",
    "cv = xgb.cv(dtrain=dtrain, params=params, num_boost_round=500, nfold=5, seed=0, early_stopping_rounds=10)"
   ]
  },
  {
   "cell_type": "code",
   "execution_count": 30,
   "metadata": {},
   "outputs": [
    {
     "data": {
      "text/html": [
       "<div>\n",
       "<style scoped>\n",
       "    .dataframe tbody tr th:only-of-type {\n",
       "        vertical-align: middle;\n",
       "    }\n",
       "\n",
       "    .dataframe tbody tr th {\n",
       "        vertical-align: top;\n",
       "    }\n",
       "\n",
       "    .dataframe thead th {\n",
       "        text-align: right;\n",
       "    }\n",
       "</style>\n",
       "<table border=\"1\" class=\"dataframe\">\n",
       "  <thead>\n",
       "    <tr style=\"text-align: right;\">\n",
       "      <th></th>\n",
       "      <th>test-error-mean</th>\n",
       "      <th>test-error-std</th>\n",
       "      <th>train-error-mean</th>\n",
       "      <th>train-error-std</th>\n",
       "    </tr>\n",
       "  </thead>\n",
       "  <tbody>\n",
       "    <tr>\n",
       "      <th>0</th>\n",
       "      <td>0.213244</td>\n",
       "      <td>0.009413</td>\n",
       "      <td>0.213244</td>\n",
       "      <td>0.00235</td>\n",
       "    </tr>\n",
       "  </tbody>\n",
       "</table>\n",
       "</div>"
      ],
      "text/plain": [
       "   test-error-mean  test-error-std  train-error-mean  train-error-std\n",
       "0         0.213244        0.009413          0.213244          0.00235"
      ]
     },
     "execution_count": 30,
     "metadata": {},
     "output_type": "execute_result"
    }
   ],
   "source": [
    "cv.tail(10)"
   ]
  },
  {
   "cell_type": "markdown",
   "metadata": {},
   "source": [
    "#### Fine tuning using GridSearchCV"
   ]
  },
  {
   "cell_type": "code",
   "execution_count": 31,
   "metadata": {},
   "outputs": [
    {
     "data": {
      "text/plain": [
       "{'xgcl__learning_rate': 0.01, 'xgcl__n_estimators': 10}"
      ]
     },
     "execution_count": 31,
     "metadata": {},
     "output_type": "execute_result"
    }
   ],
   "source": [
    "searchCV = get_gridsearch_crossval_output(train_data, X_columns=X_columns)\n",
    "searchCV.best_params_\n"
   ]
  },
  {
   "cell_type": "code",
   "execution_count": 32,
   "metadata": {},
   "outputs": [
    {
     "name": "stderr",
     "output_type": "stream",
     "text": [
      "/Users/babs4JESUS/anaconda3/lib/python3.6/site-packages/sklearn/utils/deprecation.py:122: FutureWarning: You are accessing a training score ('mean_train_score'), which will not be available by default any more in 0.21. If you need training scores, please set return_train_score=True\n",
      "  warnings.warn(*warn_args, **warn_kwargs)\n"
     ]
    },
    {
     "data": {
      "text/plain": [
       "array([0.79041899, 0.79041899, 0.79041899, 0.79041899, 0.79041899,\n",
       "       0.79041899, 0.79041899, 0.79041899, 0.79041899, 0.79041899,\n",
       "       0.79041899, 0.79041899, 0.79041899, 0.79041899, 0.79041899,\n",
       "       0.79041899, 0.79041899, 0.79041899, 0.79041899, 0.79041899,\n",
       "       0.79041899, 0.79041899, 0.79041899, 0.79041899, 0.79041899,\n",
       "       0.79041899, 0.79041899, 0.79041899, 0.79041899, 0.79041899,\n",
       "       0.79041899, 0.79041899, 0.79041899, 0.79041899, 0.79041899])"
      ]
     },
     "execution_count": 32,
     "metadata": {},
     "output_type": "execute_result"
    }
   ],
   "source": [
    "searchCV.cv_results_['mean_train_score']"
   ]
  },
  {
   "cell_type": "code",
   "execution_count": 33,
   "metadata": {},
   "outputs": [
    {
     "data": {
      "text/plain": [
       "array([0.77095808, 0.77095808, 0.77095808, 0.77095808, 0.77095808,\n",
       "       0.77095808, 0.77095808, 0.77095808, 0.77095808, 0.77095808,\n",
       "       0.77095808, 0.77095808, 0.77095808, 0.77095808, 0.77095808,\n",
       "       0.77095808, 0.77095808, 0.77095808, 0.77095808, 0.77095808,\n",
       "       0.77095808, 0.77095808, 0.77095808, 0.77095808, 0.77095808,\n",
       "       0.77095808, 0.77095808, 0.77095808, 0.77095808, 0.77095808,\n",
       "       0.77095808, 0.77095808, 0.77095808, 0.77095808, 0.77095808])"
      ]
     },
     "execution_count": 33,
     "metadata": {},
     "output_type": "execute_result"
    }
   ],
   "source": [
    "searchCV.cv_results_['mean_test_score']"
   ]
  },
  {
   "cell_type": "markdown",
   "metadata": {},
   "source": [
    "### Model 3: Sex, Pclass  and Age as predictors."
   ]
  },
  {
   "cell_type": "markdown",
   "metadata": {},
   "source": [
    "#### Basic training/cross validation"
   ]
  },
  {
   "cell_type": "code",
   "execution_count": 34,
   "metadata": {},
   "outputs": [],
   "source": [
    "X_columns = ['Sex', 'Pclass', 'Age']\n",
    "Y_columns = ['Survived']"
   ]
  },
  {
   "cell_type": "code",
   "execution_count": 35,
   "metadata": {},
   "outputs": [
    {
     "name": "stdout",
     "output_type": "stream",
     "text": [
      "Number of entries in training set is 668\n",
      "Number of correct predictions in training set is 562\n",
      "Number of entries in test set is 223\n",
      "Number of correct predictions in test set is 184\n",
      "Out of sample score is 0.8251121076233183\n",
      "Cross val score is 0.8025148353403998\n"
     ]
    },
    {
     "data": {
      "image/svg+xml": [
       "<?xml version=\"1.0\" encoding=\"UTF-8\" standalone=\"no\"?>\n",
       "<!DOCTYPE svg PUBLIC \"-//W3C//DTD SVG 1.1//EN\"\n",
       " \"http://www.w3.org/Graphics/SVG/1.1/DTD/svg11.dtd\">\n",
       "<!-- Generated by graphviz version 2.40.1 (20161225.0304)\n",
       " -->\n",
       "<!-- Title: %3 Pages: 1 -->\n",
       "<svg width=\"657pt\" height=\"398pt\"\n",
       " viewBox=\"0.00 0.00 657.00 398.48\" xmlns=\"http://www.w3.org/2000/svg\" xmlns:xlink=\"http://www.w3.org/1999/xlink\">\n",
       "<g id=\"graph0\" class=\"graph\" transform=\"scale(1 1) rotate(0) translate(4 394.4821)\">\n",
       "<title>%3</title>\n",
       "<polygon fill=\"#ffffff\" stroke=\"transparent\" points=\"-4,4 -4,-394.4821 653,-394.4821 653,4 -4,4\"/>\n",
       "<!-- 0 -->\n",
       "<g id=\"node1\" class=\"node\">\n",
       "<title>0</title>\n",
       "<ellipse fill=\"none\" stroke=\"#000000\" cx=\"197.5\" cy=\"-362.5346\" rx=\"27.8951\" ry=\"27.8951\"/>\n",
       "<text text-anchor=\"middle\" x=\"197.5\" y=\"-358.8346\" font-family=\"Times,serif\" font-size=\"14.00\" fill=\"#000000\">Sex&lt;1</text>\n",
       "</g>\n",
       "<!-- 1 -->\n",
       "<g id=\"node2\" class=\"node\">\n",
       "<title>1</title>\n",
       "<ellipse fill=\"none\" stroke=\"#000000\" cx=\"149.5\" cy=\"-248.4902\" rx=\"35.194\" ry=\"35.194\"/>\n",
       "<text text-anchor=\"middle\" x=\"149.5\" y=\"-244.7902\" font-family=\"Times,serif\" font-size=\"14.00\" fill=\"#000000\">Pclass&lt;3</text>\n",
       "</g>\n",
       "<!-- 0&#45;&gt;1 -->\n",
       "<g id=\"edge1\" class=\"edge\">\n",
       "<title>0&#45;&gt;1</title>\n",
       "<path fill=\"none\" stroke=\"#0000ff\" d=\"M180.0688,-340.0808C175.1194,-332.8825 170.1025,-324.6739 166.5,-316.5871 163.1863,-309.1486 160.4442,-300.9533 158.2011,-292.903\"/>\n",
       "<polygon fill=\"#0000ff\" stroke=\"#0000ff\" points=\"161.59,-292.0279 155.7076,-283.2161 154.811,-293.773 161.59,-292.0279\"/>\n",
       "<text text-anchor=\"middle\" x=\"192.5\" y=\"-305.3871\" font-family=\"Times,serif\" font-size=\"14.00\" fill=\"#000000\">yes, missing</text>\n",
       "</g>\n",
       "<!-- 2 -->\n",
       "<g id=\"node3\" class=\"node\">\n",
       "<title>2</title>\n",
       "<ellipse fill=\"none\" stroke=\"#000000\" cx=\"296.5\" cy=\"-248.4902\" rx=\"32.4942\" ry=\"32.4942\"/>\n",
       "<text text-anchor=\"middle\" x=\"296.5\" y=\"-244.7902\" font-family=\"Times,serif\" font-size=\"14.00\" fill=\"#000000\">Age&lt;13</text>\n",
       "</g>\n",
       "<!-- 0&#45;&gt;2 -->\n",
       "<g id=\"edge2\" class=\"edge\">\n",
       "<title>0&#45;&gt;2</title>\n",
       "<path fill=\"none\" stroke=\"#ff0000\" d=\"M215.8891,-341.351C230.6332,-324.3664 251.57,-300.2479 268.411,-280.8477\"/>\n",
       "<polygon fill=\"#ff0000\" stroke=\"#ff0000\" points=\"271.1994,-282.9746 275.1118,-273.1286 265.9133,-278.3858 271.1994,-282.9746\"/>\n",
       "<text text-anchor=\"middle\" x=\"256\" y=\"-305.3871\" font-family=\"Times,serif\" font-size=\"14.00\" fill=\"#000000\">no</text>\n",
       "</g>\n",
       "<!-- 3 -->\n",
       "<g id=\"node4\" class=\"node\">\n",
       "<title>3</title>\n",
       "<polygon fill=\"none\" stroke=\"#000000\" points=\"94,-142.6967 1,-142.6967 1,-106.6967 94,-106.6967 94,-142.6967\"/>\n",
       "<text text-anchor=\"middle\" x=\"47.5\" y=\"-120.9967\" font-family=\"Times,serif\" font-size=\"14.00\" fill=\"#000000\">leaf=0.174712643</text>\n",
       "</g>\n",
       "<!-- 1&#45;&gt;3 -->\n",
       "<g id=\"edge3\" class=\"edge\">\n",
       "<title>1&#45;&gt;3</title>\n",
       "<path fill=\"none\" stroke=\"#0000ff\" d=\"M122.8642,-225.6257C113.121,-216.6636 102.3309,-205.9972 93.5,-195.3933 82.2316,-181.8626 71.3998,-165.4446 63.0807,-151.8373\"/>\n",
       "<polygon fill=\"#0000ff\" stroke=\"#0000ff\" points=\"65.8898,-149.7158 57.7482,-142.9359 59.8848,-153.3131 65.8898,-149.7158\"/>\n",
       "<text text-anchor=\"middle\" x=\"119.5\" y=\"-184.1933\" font-family=\"Times,serif\" font-size=\"14.00\" fill=\"#000000\">yes, missing</text>\n",
       "</g>\n",
       "<!-- 4 -->\n",
       "<g id=\"node5\" class=\"node\">\n",
       "<title>4</title>\n",
       "<ellipse fill=\"none\" stroke=\"#000000\" cx=\"149.5\" cy=\"-124.6967\" rx=\"37.8943\" ry=\"37.8943\"/>\n",
       "<text text-anchor=\"middle\" x=\"149.5\" y=\"-120.9967\" font-family=\"Times,serif\" font-size=\"14.00\" fill=\"#000000\">Age&lt;38.5</text>\n",
       "</g>\n",
       "<!-- 1&#45;&gt;4 -->\n",
       "<g id=\"edge4\" class=\"edge\">\n",
       "<title>1&#45;&gt;4</title>\n",
       "<path fill=\"none\" stroke=\"#ff0000\" d=\"M149.5,-213.3471C149.5,-200.7015 149.5,-186.211 149.5,-172.6603\"/>\n",
       "<polygon fill=\"#ff0000\" stroke=\"#ff0000\" points=\"153.0001,-172.5272 149.5,-162.5273 146.0001,-172.5273 153.0001,-172.5272\"/>\n",
       "<text text-anchor=\"middle\" x=\"155\" y=\"-184.1933\" font-family=\"Times,serif\" font-size=\"14.00\" fill=\"#000000\">no</text>\n",
       "</g>\n",
       "<!-- 5 -->\n",
       "<g id=\"node8\" class=\"node\">\n",
       "<title>5</title>\n",
       "<ellipse fill=\"none\" stroke=\"#000000\" cx=\"296.5\" cy=\"-124.6967\" rx=\"35.194\" ry=\"35.194\"/>\n",
       "<text text-anchor=\"middle\" x=\"296.5\" y=\"-120.9967\" font-family=\"Times,serif\" font-size=\"14.00\" fill=\"#000000\">Pclass&lt;3</text>\n",
       "</g>\n",
       "<!-- 2&#45;&gt;5 -->\n",
       "<g id=\"edge7\" class=\"edge\">\n",
       "<title>2&#45;&gt;5</title>\n",
       "<path fill=\"none\" stroke=\"#0000ff\" d=\"M296.5,-215.9649C296.5,-201.9958 296.5,-185.4284 296.5,-170.2682\"/>\n",
       "<polygon fill=\"#0000ff\" stroke=\"#0000ff\" points=\"300.0001,-170.0466 296.5,-160.0466 293.0001,-170.0467 300.0001,-170.0466\"/>\n",
       "<text text-anchor=\"middle\" x=\"303.5\" y=\"-184.1933\" font-family=\"Times,serif\" font-size=\"14.00\" fill=\"#000000\">yes</text>\n",
       "</g>\n",
       "<!-- 6 -->\n",
       "<g id=\"node9\" class=\"node\">\n",
       "<title>6</title>\n",
       "<ellipse fill=\"none\" stroke=\"#000000\" cx=\"482.5\" cy=\"-124.6967\" rx=\"35.194\" ry=\"35.194\"/>\n",
       "<text text-anchor=\"middle\" x=\"482.5\" y=\"-120.9967\" font-family=\"Times,serif\" font-size=\"14.00\" fill=\"#000000\">Pclass&lt;2</text>\n",
       "</g>\n",
       "<!-- 2&#45;&gt;6 -->\n",
       "<g id=\"edge8\" class=\"edge\">\n",
       "<title>2&#45;&gt;6</title>\n",
       "<path fill=\"none\" stroke=\"#ff0000\" d=\"M323.9449,-230.224C355.805,-209.0194 408.5497,-173.9148 444.3771,-150.0696\"/>\n",
       "<polygon fill=\"#ff0000\" stroke=\"#ff0000\" points=\"446.7128,-152.7195 453.0983,-144.2651 442.8343,-146.8921 446.7128,-152.7195\"/>\n",
       "<text text-anchor=\"middle\" x=\"420\" y=\"-184.1933\" font-family=\"Times,serif\" font-size=\"14.00\" fill=\"#000000\">no, missing</text>\n",
       "</g>\n",
       "<!-- 7 -->\n",
       "<g id=\"node6\" class=\"node\">\n",
       "<title>7</title>\n",
       "<polygon fill=\"none\" stroke=\"#000000\" points=\"99,-36 0,-36 0,0 99,0 99,-36\"/>\n",
       "<text text-anchor=\"middle\" x=\"49.5\" y=\"-14.3\" font-family=\"Times,serif\" font-size=\"14.00\" fill=\"#000000\">leaf=0.0147058833</text>\n",
       "</g>\n",
       "<!-- 4&#45;&gt;7 -->\n",
       "<g id=\"edge5\" class=\"edge\">\n",
       "<title>4&#45;&gt;7</title>\n",
       "<path fill=\"none\" stroke=\"#0000ff\" d=\"M122.3037,-98.4734C113.0129,-89.2991 102.6596,-78.8325 93.5,-69 86.0871,-61.0425 78.2533,-52.1359 71.2827,-44.0201\"/>\n",
       "<polygon fill=\"#0000ff\" stroke=\"#0000ff\" points=\"73.797,-41.5743 64.6474,-36.2323 68.4686,-46.114 73.797,-41.5743\"/>\n",
       "<text text-anchor=\"middle\" x=\"119.5\" y=\"-57.8\" font-family=\"Times,serif\" font-size=\"14.00\" fill=\"#000000\">yes, missing</text>\n",
       "</g>\n",
       "<!-- 8 -->\n",
       "<g id=\"node7\" class=\"node\">\n",
       "<title>8</title>\n",
       "<polygon fill=\"none\" stroke=\"#000000\" points=\"182,-36 117,-36 117,0 182,0 182,-36\"/>\n",
       "<text text-anchor=\"middle\" x=\"149.5\" y=\"-14.3\" font-family=\"Times,serif\" font-size=\"14.00\" fill=\"#000000\">leaf=&#45;0.125</text>\n",
       "</g>\n",
       "<!-- 4&#45;&gt;8 -->\n",
       "<g id=\"edge6\" class=\"edge\">\n",
       "<title>4&#45;&gt;8</title>\n",
       "<path fill=\"none\" stroke=\"#ff0000\" d=\"M149.5,-86.779C149.5,-73.4367 149.5,-58.6856 149.5,-46.2768\"/>\n",
       "<polygon fill=\"#ff0000\" stroke=\"#ff0000\" points=\"153.0001,-46.0694 149.5,-36.0694 146.0001,-46.0695 153.0001,-46.0694\"/>\n",
       "<text text-anchor=\"middle\" x=\"155\" y=\"-57.8\" font-family=\"Times,serif\" font-size=\"14.00\" fill=\"#000000\">no</text>\n",
       "</g>\n",
       "<!-- 9 -->\n",
       "<g id=\"node10\" class=\"node\">\n",
       "<title>9</title>\n",
       "<polygon fill=\"none\" stroke=\"#000000\" points=\"293,-36 200,-36 200,0 293,0 293,-36\"/>\n",
       "<text text-anchor=\"middle\" x=\"246.5\" y=\"-14.3\" font-family=\"Times,serif\" font-size=\"14.00\" fill=\"#000000\">leaf=0.150000006</text>\n",
       "</g>\n",
       "<!-- 5&#45;&gt;9 -->\n",
       "<g id=\"edge9\" class=\"edge\">\n",
       "<title>5&#45;&gt;9</title>\n",
       "<path fill=\"none\" stroke=\"#0000ff\" d=\"M281.4984,-92.6841C274.4401,-77.6223 266.1088,-59.8438 259.3457,-45.4119\"/>\n",
       "<polygon fill=\"#0000ff\" stroke=\"#0000ff\" points=\"262.3618,-43.5997 254.9491,-36.0298 256.0233,-46.5701 262.3618,-43.5997\"/>\n",
       "<text text-anchor=\"middle\" x=\"296.5\" y=\"-57.8\" font-family=\"Times,serif\" font-size=\"14.00\" fill=\"#000000\">yes, missing</text>\n",
       "</g>\n",
       "<!-- 10 -->\n",
       "<g id=\"node11\" class=\"node\">\n",
       "<title>10</title>\n",
       "<polygon fill=\"none\" stroke=\"#000000\" points=\"413.5,-36 311.5,-36 311.5,0 413.5,0 413.5,-36\"/>\n",
       "<text text-anchor=\"middle\" x=\"362.5\" y=\"-14.3\" font-family=\"Times,serif\" font-size=\"14.00\" fill=\"#000000\">leaf=&#45;0.0482758619</text>\n",
       "</g>\n",
       "<!-- 5&#45;&gt;10 -->\n",
       "<g id=\"edge10\" class=\"edge\">\n",
       "<title>5&#45;&gt;10</title>\n",
       "<path fill=\"none\" stroke=\"#ff0000\" d=\"M315.0603,-94.6917C324.722,-79.0725 336.4407,-60.1279 345.8135,-44.9756\"/>\n",
       "<polygon fill=\"#ff0000\" stroke=\"#ff0000\" points=\"349.0228,-46.4406 351.3069,-36.0949 343.0697,-42.7581 349.0228,-46.4406\"/>\n",
       "<text text-anchor=\"middle\" x=\"345\" y=\"-57.8\" font-family=\"Times,serif\" font-size=\"14.00\" fill=\"#000000\">no</text>\n",
       "</g>\n",
       "<!-- 11 -->\n",
       "<g id=\"node12\" class=\"node\">\n",
       "<title>11</title>\n",
       "<polygon fill=\"none\" stroke=\"#000000\" points=\"533.5,-36 431.5,-36 431.5,0 533.5,0 533.5,-36\"/>\n",
       "<text text-anchor=\"middle\" x=\"482.5\" y=\"-14.3\" font-family=\"Times,serif\" font-size=\"14.00\" fill=\"#000000\">leaf=&#45;0.0569105707</text>\n",
       "</g>\n",
       "<!-- 6&#45;&gt;11 -->\n",
       "<g id=\"edge11\" class=\"edge\">\n",
       "<title>6&#45;&gt;11</title>\n",
       "<path fill=\"none\" stroke=\"#0000ff\" d=\"M482.5,-89.4645C482.5,-75.5225 482.5,-59.7073 482.5,-46.5054\"/>\n",
       "<polygon fill=\"#0000ff\" stroke=\"#0000ff\" points=\"486.0001,-46.1289 482.5,-36.1289 479.0001,-46.1289 486.0001,-46.1289\"/>\n",
       "<text text-anchor=\"middle\" x=\"508.5\" y=\"-57.8\" font-family=\"Times,serif\" font-size=\"14.00\" fill=\"#000000\">yes, missing</text>\n",
       "</g>\n",
       "<!-- 12 -->\n",
       "<g id=\"node13\" class=\"node\">\n",
       "<title>12</title>\n",
       "<polygon fill=\"none\" stroke=\"#000000\" points=\"649,-36 552,-36 552,0 649,0 649,-36\"/>\n",
       "<text text-anchor=\"middle\" x=\"600.5\" y=\"-14.3\" font-family=\"Times,serif\" font-size=\"14.00\" fill=\"#000000\">leaf=&#45;0.154823527</text>\n",
       "</g>\n",
       "<!-- 6&#45;&gt;12 -->\n",
       "<g id=\"edge12\" class=\"edge\">\n",
       "<title>6&#45;&gt;12</title>\n",
       "<path fill=\"none\" stroke=\"#ff0000\" d=\"M508.688,-101.0172C527.665,-83.8581 553.2824,-60.6945 572.6356,-43.1952\"/>\n",
       "<polygon fill=\"#ff0000\" stroke=\"#ff0000\" points=\"575.1744,-45.6183 580.2444,-36.3153 570.4796,-40.4261 575.1744,-45.6183\"/>\n",
       "<text text-anchor=\"middle\" x=\"564\" y=\"-57.8\" font-family=\"Times,serif\" font-size=\"14.00\" fill=\"#000000\">no</text>\n",
       "</g>\n",
       "</g>\n",
       "</svg>\n"
      ],
      "text/plain": [
       "<graphviz.dot.Digraph at 0x1a1818bb00>"
      ]
     },
     "execution_count": 35,
     "metadata": {},
     "output_type": "execute_result"
    }
   ],
   "source": [
    "my_model = get_model_metrics_and_display(train_data,X_columns=X_columns)\n",
    "xgb.to_graphviz(my_model)\n"
   ]
  },
  {
   "cell_type": "markdown",
   "metadata": {},
   "source": [
    "#### Fine tuning using xgboost cross validation"
   ]
  },
  {
   "cell_type": "code",
   "execution_count": 36,
   "metadata": {},
   "outputs": [],
   "source": [
    "X_train = train_data[X_columns]\n",
    "Y_train = train_data[Y_columns]\n",
    "dtrain = xgb.DMatrix(data=X_train, label=Y_train)\n",
    "params = {\"Objective\" : 'gbtree',\n",
    "          \"eval_metric\" : 'error',\n",
    "          'learning_rate' : 0.05\n",
    "         }\n",
    "cv = xgb.cv(dtrain=dtrain, params=params, num_boost_round=500, nfold=5, seed=0, early_stopping_rounds=10)"
   ]
  },
  {
   "cell_type": "code",
   "execution_count": 37,
   "metadata": {},
   "outputs": [
    {
     "data": {
      "text/html": [
       "<div>\n",
       "<style scoped>\n",
       "    .dataframe tbody tr th:only-of-type {\n",
       "        vertical-align: middle;\n",
       "    }\n",
       "\n",
       "    .dataframe tbody tr th {\n",
       "        vertical-align: top;\n",
       "    }\n",
       "\n",
       "    .dataframe thead th {\n",
       "        text-align: right;\n",
       "    }\n",
       "</style>\n",
       "<table border=\"1\" class=\"dataframe\">\n",
       "  <thead>\n",
       "    <tr style=\"text-align: right;\">\n",
       "      <th></th>\n",
       "      <th>test-error-mean</th>\n",
       "      <th>test-error-std</th>\n",
       "      <th>train-error-mean</th>\n",
       "      <th>train-error-std</th>\n",
       "    </tr>\n",
       "  </thead>\n",
       "  <tbody>\n",
       "    <tr>\n",
       "      <th>9</th>\n",
       "      <td>0.197552</td>\n",
       "      <td>0.024095</td>\n",
       "      <td>0.139734</td>\n",
       "      <td>0.008402</td>\n",
       "    </tr>\n",
       "    <tr>\n",
       "      <th>10</th>\n",
       "      <td>0.197552</td>\n",
       "      <td>0.024095</td>\n",
       "      <td>0.138892</td>\n",
       "      <td>0.008791</td>\n",
       "    </tr>\n",
       "    <tr>\n",
       "      <th>11</th>\n",
       "      <td>0.197552</td>\n",
       "      <td>0.024095</td>\n",
       "      <td>0.138892</td>\n",
       "      <td>0.008791</td>\n",
       "    </tr>\n",
       "    <tr>\n",
       "      <th>12</th>\n",
       "      <td>0.198675</td>\n",
       "      <td>0.026163</td>\n",
       "      <td>0.138612</td>\n",
       "      <td>0.008987</td>\n",
       "    </tr>\n",
       "    <tr>\n",
       "      <th>13</th>\n",
       "      <td>0.197552</td>\n",
       "      <td>0.024095</td>\n",
       "      <td>0.138050</td>\n",
       "      <td>0.008302</td>\n",
       "    </tr>\n",
       "    <tr>\n",
       "      <th>14</th>\n",
       "      <td>0.198675</td>\n",
       "      <td>0.026163</td>\n",
       "      <td>0.137769</td>\n",
       "      <td>0.008527</td>\n",
       "    </tr>\n",
       "    <tr>\n",
       "      <th>15</th>\n",
       "      <td>0.198675</td>\n",
       "      <td>0.026163</td>\n",
       "      <td>0.137489</td>\n",
       "      <td>0.008693</td>\n",
       "    </tr>\n",
       "    <tr>\n",
       "      <th>16</th>\n",
       "      <td>0.198675</td>\n",
       "      <td>0.026163</td>\n",
       "      <td>0.137489</td>\n",
       "      <td>0.008693</td>\n",
       "    </tr>\n",
       "    <tr>\n",
       "      <th>17</th>\n",
       "      <td>0.197552</td>\n",
       "      <td>0.024095</td>\n",
       "      <td>0.137769</td>\n",
       "      <td>0.008481</td>\n",
       "    </tr>\n",
       "    <tr>\n",
       "      <th>18</th>\n",
       "      <td>0.196428</td>\n",
       "      <td>0.028547</td>\n",
       "      <td>0.136928</td>\n",
       "      <td>0.008018</td>\n",
       "    </tr>\n",
       "  </tbody>\n",
       "</table>\n",
       "</div>"
      ],
      "text/plain": [
       "    test-error-mean  test-error-std  train-error-mean  train-error-std\n",
       "9          0.197552        0.024095          0.139734         0.008402\n",
       "10         0.197552        0.024095          0.138892         0.008791\n",
       "11         0.197552        0.024095          0.138892         0.008791\n",
       "12         0.198675        0.026163          0.138612         0.008987\n",
       "13         0.197552        0.024095          0.138050         0.008302\n",
       "14         0.198675        0.026163          0.137769         0.008527\n",
       "15         0.198675        0.026163          0.137489         0.008693\n",
       "16         0.198675        0.026163          0.137489         0.008693\n",
       "17         0.197552        0.024095          0.137769         0.008481\n",
       "18         0.196428        0.028547          0.136928         0.008018"
      ]
     },
     "execution_count": 37,
     "metadata": {},
     "output_type": "execute_result"
    }
   ],
   "source": [
    "cv.tail(10)"
   ]
  },
  {
   "cell_type": "markdown",
   "metadata": {},
   "source": [
    "#### Fine tuning using GridSearchCV"
   ]
  },
  {
   "cell_type": "code",
   "execution_count": 38,
   "metadata": {},
   "outputs": [
    {
     "data": {
      "text/plain": [
       "{'xgcl__learning_rate': 0.05, 'xgcl__n_estimators': 15}"
      ]
     },
     "execution_count": 38,
     "metadata": {},
     "output_type": "execute_result"
    }
   ],
   "source": [
    "searchCV = get_gridsearch_crossval_output(train_data, X_columns=X_columns,\n",
    "                                          Y_columns = ['Survived'],\n",
    "                                          n_estimators_list = [10, 15, 18, 20, 50, 70, 100, 120, 150, 200])\n",
    "searchCV.best_params_\n"
   ]
  },
  {
   "cell_type": "code",
   "execution_count": 39,
   "metadata": {},
   "outputs": [
    {
     "name": "stderr",
     "output_type": "stream",
     "text": [
      "/Users/babs4JESUS/anaconda3/lib/python3.6/site-packages/sklearn/utils/deprecation.py:122: FutureWarning: You are accessing a training score ('mean_train_score'), which will not be available by default any more in 0.21. If you need training scores, please set return_train_score=True\n",
      "  warnings.warn(*warn_args, **warn_kwargs)\n"
     ]
    },
    {
     "data": {
      "text/plain": [
       "array([0.81624278, 0.81624278, 0.81624278, 0.81624278, 0.81624278,\n",
       "       0.81624278, 0.81624278, 0.81624278, 0.81624278, 0.81624278,\n",
       "       0.81624278, 0.81624278, 0.81624278, 0.81624278, 0.81624278,\n",
       "       0.81624278, 0.81624278, 0.81624278, 0.81624278, 0.81624278,\n",
       "       0.81661731, 0.81661731, 0.81661731, 0.81661731, 0.81661731,\n",
       "       0.81661731, 0.81661731, 0.81661731, 0.81661731, 0.81661731,\n",
       "       0.81699184, 0.81661731, 0.81661731, 0.81661731, 0.81661731,\n",
       "       0.81661731, 0.81661731, 0.81661731, 0.81661731, 0.81661731,\n",
       "       0.81773951, 0.81773951, 0.81773951, 0.81773951, 0.81773951,\n",
       "       0.81773951, 0.81773951, 0.81773951, 0.81773951, 0.81773951])"
      ]
     },
     "execution_count": 39,
     "metadata": {},
     "output_type": "execute_result"
    }
   ],
   "source": [
    "searchCV.cv_results_['mean_train_score']"
   ]
  },
  {
   "cell_type": "code",
   "execution_count": 40,
   "metadata": {},
   "outputs": [
    {
     "data": {
      "text/plain": [
       "array([0.80988024, 0.80988024, 0.80988024, 0.80988024, 0.80988024,\n",
       "       0.80988024, 0.80988024, 0.80988024, 0.80988024, 0.80988024,\n",
       "       0.80988024, 0.80988024, 0.80988024, 0.80988024, 0.80988024,\n",
       "       0.80988024, 0.80988024, 0.80988024, 0.80988024, 0.80988024,\n",
       "       0.81137725, 0.81287425, 0.81287425, 0.81287425, 0.81287425,\n",
       "       0.81287425, 0.81287425, 0.81287425, 0.81287425, 0.81287425,\n",
       "       0.81287425, 0.81287425, 0.81287425, 0.81287425, 0.81287425,\n",
       "       0.81287425, 0.81287425, 0.81287425, 0.81287425, 0.81287425,\n",
       "       0.8008982 , 0.8008982 , 0.8008982 , 0.8008982 , 0.8008982 ,\n",
       "       0.8008982 , 0.8008982 , 0.8008982 , 0.8008982 , 0.8008982 ])"
      ]
     },
     "execution_count": 40,
     "metadata": {},
     "output_type": "execute_result"
    }
   ],
   "source": [
    "searchCV.cv_results_['mean_test_score']"
   ]
  },
  {
   "cell_type": "code",
   "execution_count": 41,
   "metadata": {},
   "outputs": [
    {
     "name": "stdout",
     "output_type": "stream",
     "text": [
      "Number of entries in training set is 668\n",
      "Number of correct predictions in training set is 545\n",
      "Number of entries in test set is 223\n",
      "Number of correct predictions in test set is 178\n",
      "Out of sample score is 0.7982062780269058\n",
      "Cross val score is 0.7857111193150405\n"
     ]
    }
   ],
   "source": [
    "(my_pipeline, out_of_sample_score, cross_validation_score) = \\\n",
    "    train_test_cross_validate(train_data,\n",
    "                              X_columns, \n",
    "                              Y_columns,\n",
    "                              n_estimators=15,\n",
    "                              learning_rate=0.05)\n",
    "    \n",
    "print(\"Out of sample score is {0}\\nCross val score is {1}\".format(out_of_sample_score, cross_validation_score))\n",
    "\n"
   ]
  },
  {
   "cell_type": "markdown",
   "metadata": {},
   "source": [
    "Question : Why is the optimal choice for n_estimators and learning_rate returning sub optimal results when we run with our manual cross validation procedure ?"
   ]
  },
  {
   "cell_type": "code",
   "execution_count": 42,
   "metadata": {},
   "outputs": [
    {
     "name": "stdout",
     "output_type": "stream",
     "text": [
      "Complete score on out of sample data is 0.7655502392344498\n"
     ]
    }
   ],
   "source": [
    "#create_pipeline_and_out_of_sample_score(X_train, X_test, Y_train, Y_test)\n",
    "X_columns = ['Sex']\n",
    "Y_column = ['Survived']\n",
    "X_train = train_data[X_columns]\n",
    "X_train_one_hot = pd.get_dummies(X_train)\n",
    "Y_train = train_data[Y_column]\n",
    "X_test = test_data[X_columns]\n",
    "X_test_one_hot = pd.get_dummies(X_test)\n",
    "Y_test = test_data[Y_column]\n",
    "(my_pipeline, out_of_sample_score, predictions_out_of_sample) = \\\n",
    "    create_pipeline_and_out_of_sample_score(X_train_one_hot, \n",
    "                                            X_test_one_hot,\n",
    "                                            Y_train,\n",
    "                                            Y_test,\n",
    "                                            50,\n",
    "                                            0.01)\n",
    "print(\"Complete score on out of sample data is {0}\".format(out_of_sample_score))\n",
    "test_data['Predictions'] = predictions_out_of_sample\n",
    "kaggle_data = test_data[['PassengerId', 'Predictions']].copy()\n",
    "kaggle_data.rename(columns={'Predictions' : 'Survived'}, inplace=True)\n",
    "kaggle_data.sort_values(by=['PassengerId']).to_csv('kaggle_out_xgboost_sex_only.csv', index=False)"
   ]
  },
  {
   "cell_type": "markdown",
   "metadata": {},
   "source": [
    "Question : We really do not look to be getting any benefit from the addition of Age and Pclass variables. Why is that the case ?"
   ]
  },
  {
   "cell_type": "markdown",
   "metadata": {},
   "source": [
    "### Model 4: Sex, Pclass,Age,Fare as predictors."
   ]
  },
  {
   "cell_type": "code",
   "execution_count": 43,
   "metadata": {},
   "outputs": [],
   "source": [
    "X_columns = ['Sex', 'Pclass', 'Age', 'Fare']\n",
    "Y_columns = ['Survived']"
   ]
  },
  {
   "cell_type": "code",
   "execution_count": 44,
   "metadata": {},
   "outputs": [
    {
     "name": "stdout",
     "output_type": "stream",
     "text": [
      "Number of entries in training set is 668\n",
      "Number of correct predictions in training set is 576\n",
      "Number of entries in test set is 223\n",
      "Number of correct predictions in test set is 186\n",
      "Out of sample score is 0.8340807174887892\n",
      "Cross val score is 0.8305672733436958\n"
     ]
    },
    {
     "data": {
      "image/svg+xml": [
       "<?xml version=\"1.0\" encoding=\"UTF-8\" standalone=\"no\"?>\n",
       "<!DOCTYPE svg PUBLIC \"-//W3C//DTD SVG 1.1//EN\"\n",
       " \"http://www.w3.org/Graphics/SVG/1.1/DTD/svg11.dtd\">\n",
       "<!-- Generated by graphviz version 2.40.1 (20161225.0304)\n",
       " -->\n",
       "<!-- Title: %3 Pages: 1 -->\n",
       "<svg width=\"695pt\" height=\"441pt\"\n",
       " viewBox=\"0.00 0.00 694.50 441.38\" xmlns=\"http://www.w3.org/2000/svg\" xmlns:xlink=\"http://www.w3.org/1999/xlink\">\n",
       "<g id=\"graph0\" class=\"graph\" transform=\"scale(1 1) rotate(0) translate(4 437.3783)\">\n",
       "<title>%3</title>\n",
       "<polygon fill=\"#ffffff\" stroke=\"transparent\" points=\"-4,4 -4,-437.3783 690.5,-437.3783 690.5,4 -4,4\"/>\n",
       "<!-- 0 -->\n",
       "<g id=\"node1\" class=\"node\">\n",
       "<title>0</title>\n",
       "<ellipse fill=\"none\" stroke=\"#000000\" cx=\"226.5\" cy=\"-405.4308\" rx=\"27.8951\" ry=\"27.8951\"/>\n",
       "<text text-anchor=\"middle\" x=\"226.5\" y=\"-401.7308\" font-family=\"Times,serif\" font-size=\"14.00\" fill=\"#000000\">Sex&lt;1</text>\n",
       "</g>\n",
       "<!-- 1 -->\n",
       "<g id=\"node2\" class=\"node\">\n",
       "<title>1</title>\n",
       "<ellipse fill=\"none\" stroke=\"#000000\" cx=\"170.5\" cy=\"-291.3864\" rx=\"35.194\" ry=\"35.194\"/>\n",
       "<text text-anchor=\"middle\" x=\"170.5\" y=\"-287.6864\" font-family=\"Times,serif\" font-size=\"14.00\" fill=\"#000000\">Pclass&lt;3</text>\n",
       "</g>\n",
       "<!-- 0&#45;&gt;1 -->\n",
       "<g id=\"edge1\" class=\"edge\">\n",
       "<title>0&#45;&gt;1</title>\n",
       "<path fill=\"none\" stroke=\"#0000ff\" d=\"M211.6132,-381.432C207.501,-374.4551 203.1652,-366.7537 199.5,-359.4833 195.3371,-351.2254 191.2228,-342.2287 187.4589,-333.5612\"/>\n",
       "<polygon fill=\"#0000ff\" stroke=\"#0000ff\" points=\"190.6674,-332.1624 183.5264,-324.3357 184.228,-334.9073 190.6674,-332.1624\"/>\n",
       "<text text-anchor=\"middle\" x=\"225.5\" y=\"-348.2833\" font-family=\"Times,serif\" font-size=\"14.00\" fill=\"#000000\">yes, missing</text>\n",
       "</g>\n",
       "<!-- 2 -->\n",
       "<g id=\"node3\" class=\"node\">\n",
       "<title>2</title>\n",
       "<ellipse fill=\"none\" stroke=\"#000000\" cx=\"332.5\" cy=\"-291.3864\" rx=\"32.4942\" ry=\"32.4942\"/>\n",
       "<text text-anchor=\"middle\" x=\"332.5\" y=\"-287.6864\" font-family=\"Times,serif\" font-size=\"14.00\" fill=\"#000000\">Age&lt;13</text>\n",
       "</g>\n",
       "<!-- 0&#45;&gt;2 -->\n",
       "<g id=\"edge2\" class=\"edge\">\n",
       "<title>0&#45;&gt;2</title>\n",
       "<path fill=\"none\" stroke=\"#ff0000\" d=\"M245.6958,-384.7782C261.7072,-367.5517 284.7831,-342.7246 303.1182,-322.998\"/>\n",
       "<polygon fill=\"#ff0000\" stroke=\"#ff0000\" points=\"305.8972,-325.1491 310.1416,-315.4416 300.7699,-320.3835 305.8972,-325.1491\"/>\n",
       "<text text-anchor=\"middle\" x=\"289\" y=\"-348.2833\" font-family=\"Times,serif\" font-size=\"14.00\" fill=\"#000000\">no</text>\n",
       "</g>\n",
       "<!-- 3 -->\n",
       "<g id=\"node4\" class=\"node\">\n",
       "<title>3</title>\n",
       "<polygon fill=\"none\" stroke=\"#000000\" points=\"93,-164.1448 0,-164.1448 0,-128.1448 93,-128.1448 93,-164.1448\"/>\n",
       "<text text-anchor=\"middle\" x=\"46.5\" y=\"-142.4448\" font-family=\"Times,serif\" font-size=\"14.00\" fill=\"#000000\">leaf=0.174712643</text>\n",
       "</g>\n",
       "<!-- 1&#45;&gt;3 -->\n",
       "<g id=\"edge3\" class=\"edge\">\n",
       "<title>1&#45;&gt;3</title>\n",
       "<path fill=\"none\" stroke=\"#0000ff\" d=\"M143.9118,-267.9758C134.2792,-259.0374 123.5507,-248.5283 114.5,-238.2895 95.9712,-217.3282 77.2666,-191.5703 64.1777,-172.622\"/>\n",
       "<polygon fill=\"#0000ff\" stroke=\"#0000ff\" points=\"66.9378,-170.4576 58.4045,-164.1779 61.1592,-174.4084 66.9378,-170.4576\"/>\n",
       "<text text-anchor=\"middle\" x=\"140.5\" y=\"-227.0895\" font-family=\"Times,serif\" font-size=\"14.00\" fill=\"#000000\">yes, missing</text>\n",
       "</g>\n",
       "<!-- 4 -->\n",
       "<g id=\"node5\" class=\"node\">\n",
       "<title>4</title>\n",
       "<ellipse fill=\"none\" stroke=\"#000000\" cx=\"170.5\" cy=\"-146.1448\" rx=\"59.2899\" ry=\"59.2899\"/>\n",
       "<text text-anchor=\"middle\" x=\"170.5\" y=\"-142.4448\" font-family=\"Times,serif\" font-size=\"14.00\" fill=\"#000000\">Fare&lt;23.3500004</text>\n",
       "</g>\n",
       "<!-- 1&#45;&gt;4 -->\n",
       "<g id=\"edge4\" class=\"edge\">\n",
       "<title>1&#45;&gt;4</title>\n",
       "<path fill=\"none\" stroke=\"#ff0000\" d=\"M170.5,-256.2274C170.5,-243.9321 170.5,-229.6637 170.5,-215.5571\"/>\n",
       "<polygon fill=\"#ff0000\" stroke=\"#ff0000\" points=\"174.0001,-215.3444 170.5,-205.3445 167.0001,-215.3445 174.0001,-215.3444\"/>\n",
       "<text text-anchor=\"middle\" x=\"176\" y=\"-227.0895\" font-family=\"Times,serif\" font-size=\"14.00\" fill=\"#000000\">no</text>\n",
       "</g>\n",
       "<!-- 5 -->\n",
       "<g id=\"node8\" class=\"node\">\n",
       "<title>5</title>\n",
       "<ellipse fill=\"none\" stroke=\"#000000\" cx=\"332.5\" cy=\"-146.1448\" rx=\"35.194\" ry=\"35.194\"/>\n",
       "<text text-anchor=\"middle\" x=\"332.5\" y=\"-142.4448\" font-family=\"Times,serif\" font-size=\"14.00\" fill=\"#000000\">Pclass&lt;3</text>\n",
       "</g>\n",
       "<!-- 2&#45;&gt;5 -->\n",
       "<g id=\"edge7\" class=\"edge\">\n",
       "<title>2&#45;&gt;5</title>\n",
       "<path fill=\"none\" stroke=\"#0000ff\" d=\"M332.5,-258.7913C332.5,-238.9357 332.5,-213.2748 332.5,-191.4609\"/>\n",
       "<polygon fill=\"#0000ff\" stroke=\"#0000ff\" points=\"336.0001,-191.4246 332.5,-181.4246 329.0001,-191.4247 336.0001,-191.4246\"/>\n",
       "<text text-anchor=\"middle\" x=\"339.5\" y=\"-227.0895\" font-family=\"Times,serif\" font-size=\"14.00\" fill=\"#000000\">yes</text>\n",
       "</g>\n",
       "<!-- 6 -->\n",
       "<g id=\"node9\" class=\"node\">\n",
       "<title>6</title>\n",
       "<ellipse fill=\"none\" stroke=\"#000000\" cx=\"517.5\" cy=\"-146.1448\" rx=\"59.2899\" ry=\"59.2899\"/>\n",
       "<text text-anchor=\"middle\" x=\"517.5\" y=\"-142.4448\" font-family=\"Times,serif\" font-size=\"14.00\" fill=\"#000000\">Fare&lt;26.2687492</text>\n",
       "</g>\n",
       "<!-- 2&#45;&gt;6 -->\n",
       "<g id=\"edge8\" class=\"edge\">\n",
       "<title>2&#45;&gt;6</title>\n",
       "<path fill=\"none\" stroke=\"#ff0000\" d=\"M358.2235,-271.1912C385.1544,-250.048 428.2555,-216.2097 462.8341,-189.0624\"/>\n",
       "<polygon fill=\"#ff0000\" stroke=\"#ff0000\" points=\"465.2692,-191.6005 470.9734,-182.6723 460.9465,-186.0945 465.2692,-191.6005\"/>\n",
       "<text text-anchor=\"middle\" x=\"439\" y=\"-227.0895\" font-family=\"Times,serif\" font-size=\"14.00\" fill=\"#000000\">no, missing</text>\n",
       "</g>\n",
       "<!-- 7 -->\n",
       "<g id=\"node6\" class=\"node\">\n",
       "<title>7</title>\n",
       "<polygon fill=\"none\" stroke=\"#000000\" points=\"104,-36 5,-36 5,0 104,0 104,-36\"/>\n",
       "<text text-anchor=\"middle\" x=\"54.5\" y=\"-14.3\" font-family=\"Times,serif\" font-size=\"14.00\" fill=\"#000000\">leaf=0.0347107463</text>\n",
       "</g>\n",
       "<!-- 4&#45;&gt;7 -->\n",
       "<g id=\"edge5\" class=\"edge\">\n",
       "<title>4&#45;&gt;7</title>\n",
       "<path fill=\"none\" stroke=\"#0000ff\" d=\"M130.5794,-102.0446C113.0074,-82.6329 92.9755,-60.5037 77.879,-43.8267\"/>\n",
       "<polygon fill=\"#0000ff\" stroke=\"#0000ff\" points=\"80.2028,-41.1784 70.8969,-36.1136 75.0132,-45.8762 80.2028,-41.1784\"/>\n",
       "<text text-anchor=\"middle\" x=\"125.5\" y=\"-57.8\" font-family=\"Times,serif\" font-size=\"14.00\" fill=\"#000000\">yes, missing</text>\n",
       "</g>\n",
       "<!-- 8 -->\n",
       "<g id=\"node7\" class=\"node\">\n",
       "<title>8</title>\n",
       "<polygon fill=\"none\" stroke=\"#000000\" points=\"219,-36 122,-36 122,0 219,0 219,-36\"/>\n",
       "<text text-anchor=\"middle\" x=\"170.5\" y=\"-14.3\" font-family=\"Times,serif\" font-size=\"14.00\" fill=\"#000000\">leaf=&#45;0.135483876</text>\n",
       "</g>\n",
       "<!-- 4&#45;&gt;8 -->\n",
       "<g id=\"edge6\" class=\"edge\">\n",
       "<title>4&#45;&gt;8</title>\n",
       "<path fill=\"none\" stroke=\"#ff0000\" d=\"M170.5,-86.9487C170.5,-72.7899 170.5,-58.3116 170.5,-46.3012\"/>\n",
       "<polygon fill=\"#ff0000\" stroke=\"#ff0000\" points=\"174.0001,-46.0448 170.5,-36.0448 167.0001,-46.0449 174.0001,-46.0448\"/>\n",
       "<text text-anchor=\"middle\" x=\"176\" y=\"-57.8\" font-family=\"Times,serif\" font-size=\"14.00\" fill=\"#000000\">no</text>\n",
       "</g>\n",
       "<!-- 9 -->\n",
       "<g id=\"node10\" class=\"node\">\n",
       "<title>9</title>\n",
       "<polygon fill=\"none\" stroke=\"#000000\" points=\"330,-36 237,-36 237,0 330,0 330,-36\"/>\n",
       "<text text-anchor=\"middle\" x=\"283.5\" y=\"-14.3\" font-family=\"Times,serif\" font-size=\"14.00\" fill=\"#000000\">leaf=0.150000006</text>\n",
       "</g>\n",
       "<!-- 5&#45;&gt;9 -->\n",
       "<g id=\"edge9\" class=\"edge\">\n",
       "<title>5&#45;&gt;9</title>\n",
       "<path fill=\"none\" stroke=\"#0000ff\" d=\"M319.8813,-113.1443C311.8762,-92.2094 301.6383,-65.4352 294.0634,-45.6254\"/>\n",
       "<polygon fill=\"#0000ff\" stroke=\"#0000ff\" points=\"297.3166,-44.3334 290.4758,-36.243 290.7783,-46.8336 297.3166,-44.3334\"/>\n",
       "<text text-anchor=\"middle\" x=\"328.5\" y=\"-57.8\" font-family=\"Times,serif\" font-size=\"14.00\" fill=\"#000000\">yes, missing</text>\n",
       "</g>\n",
       "<!-- 10 -->\n",
       "<g id=\"node11\" class=\"node\">\n",
       "<title>10</title>\n",
       "<polygon fill=\"none\" stroke=\"#000000\" points=\"450.5,-36 348.5,-36 348.5,0 450.5,0 450.5,-36\"/>\n",
       "<text text-anchor=\"middle\" x=\"399.5\" y=\"-14.3\" font-family=\"Times,serif\" font-size=\"14.00\" fill=\"#000000\">leaf=&#45;0.0482758619</text>\n",
       "</g>\n",
       "<!-- 5&#45;&gt;10 -->\n",
       "<g id=\"edge10\" class=\"edge\">\n",
       "<title>5&#45;&gt;10</title>\n",
       "<path fill=\"none\" stroke=\"#ff0000\" d=\"M348.89,-114.797C359.9935,-93.5605 374.5249,-65.7675 385.1671,-45.4132\"/>\n",
       "<polygon fill=\"#ff0000\" stroke=\"#ff0000\" points=\"388.3699,-46.8414 389.9016,-36.3579 382.1666,-43.598 388.3699,-46.8414\"/>\n",
       "<text text-anchor=\"middle\" x=\"386\" y=\"-57.8\" font-family=\"Times,serif\" font-size=\"14.00\" fill=\"#000000\">no</text>\n",
       "</g>\n",
       "<!-- 11 -->\n",
       "<g id=\"node12\" class=\"node\">\n",
       "<title>11</title>\n",
       "<polygon fill=\"none\" stroke=\"#000000\" points=\"566,-36 469,-36 469,0 566,0 566,-36\"/>\n",
       "<text text-anchor=\"middle\" x=\"517.5\" y=\"-14.3\" font-family=\"Times,serif\" font-size=\"14.00\" fill=\"#000000\">leaf=&#45;0.157425746</text>\n",
       "</g>\n",
       "<!-- 6&#45;&gt;11 -->\n",
       "<g id=\"edge11\" class=\"edge\">\n",
       "<title>6&#45;&gt;11</title>\n",
       "<path fill=\"none\" stroke=\"#0000ff\" d=\"M517.5,-86.9487C517.5,-72.7899 517.5,-58.3116 517.5,-46.3012\"/>\n",
       "<polygon fill=\"#0000ff\" stroke=\"#0000ff\" points=\"521.0001,-46.0448 517.5,-36.0448 514.0001,-46.0449 521.0001,-46.0448\"/>\n",
       "<text text-anchor=\"middle\" x=\"543.5\" y=\"-57.8\" font-family=\"Times,serif\" font-size=\"14.00\" fill=\"#000000\">yes, missing</text>\n",
       "</g>\n",
       "<!-- 12 -->\n",
       "<g id=\"node13\" class=\"node\">\n",
       "<title>12</title>\n",
       "<polygon fill=\"none\" stroke=\"#000000\" points=\"686.5,-36 584.5,-36 584.5,0 686.5,0 686.5,-36\"/>\n",
       "<text text-anchor=\"middle\" x=\"635.5\" y=\"-14.3\" font-family=\"Times,serif\" font-size=\"14.00\" fill=\"#000000\">leaf=&#45;0.0638888925</text>\n",
       "</g>\n",
       "<!-- 6&#45;&gt;12 -->\n",
       "<g id=\"edge12\" class=\"edge\">\n",
       "<title>6&#45;&gt;12</title>\n",
       "<path fill=\"none\" stroke=\"#ff0000\" d=\"M557.7789,-102.403C575.6802,-82.9626 596.1468,-60.7365 611.5826,-43.9737\"/>\n",
       "<polygon fill=\"#ff0000\" stroke=\"#ff0000\" points=\"614.5235,-45.9468 618.7227,-36.2197 609.3741,-41.2051 614.5235,-45.9468\"/>\n",
       "<text text-anchor=\"middle\" x=\"606\" y=\"-57.8\" font-family=\"Times,serif\" font-size=\"14.00\" fill=\"#000000\">no</text>\n",
       "</g>\n",
       "</g>\n",
       "</svg>\n"
      ],
      "text/plain": [
       "<graphviz.dot.Digraph at 0x1a1819c828>"
      ]
     },
     "execution_count": 44,
     "metadata": {},
     "output_type": "execute_result"
    }
   ],
   "source": [
    "my_model = get_model_metrics_and_display(train_data,X_columns=X_columns)\n",
    "xgb.to_graphviz(my_model)\n"
   ]
  },
  {
   "cell_type": "markdown",
   "metadata": {},
   "source": [
    "#### Fine tuning using cross validation"
   ]
  },
  {
   "cell_type": "code",
   "execution_count": 45,
   "metadata": {},
   "outputs": [],
   "source": [
    "X_train = train_data[X_columns]\n",
    "Y_train = train_data[Y_columns]\n",
    "dtrain = xgb.DMatrix(data=X_train, label=Y_train)\n",
    "params = {\"Objective\" : 'gbtree',\n",
    "          \"eval_metric\" : 'error',\n",
    "          'learning_rate' : 0.01\n",
    "         }\n",
    "cv = xgb.cv(dtrain=dtrain, params=params, num_boost_round=500, nfold=5, seed=0, early_stopping_rounds=10)"
   ]
  },
  {
   "cell_type": "code",
   "execution_count": 46,
   "metadata": {},
   "outputs": [
    {
     "data": {
      "text/html": [
       "<div>\n",
       "<style scoped>\n",
       "    .dataframe tbody tr th:only-of-type {\n",
       "        vertical-align: middle;\n",
       "    }\n",
       "\n",
       "    .dataframe tbody tr th {\n",
       "        vertical-align: top;\n",
       "    }\n",
       "\n",
       "    .dataframe thead th {\n",
       "        text-align: right;\n",
       "    }\n",
       "</style>\n",
       "<table border=\"1\" class=\"dataframe\">\n",
       "  <thead>\n",
       "    <tr style=\"text-align: right;\">\n",
       "      <th></th>\n",
       "      <th>test-error-mean</th>\n",
       "      <th>test-error-std</th>\n",
       "      <th>train-error-mean</th>\n",
       "      <th>train-error-std</th>\n",
       "    </tr>\n",
       "  </thead>\n",
       "  <tbody>\n",
       "    <tr>\n",
       "      <th>0</th>\n",
       "      <td>0.191946</td>\n",
       "      <td>0.027087</td>\n",
       "      <td>0.131874</td>\n",
       "      <td>0.002643</td>\n",
       "    </tr>\n",
       "    <tr>\n",
       "      <th>1</th>\n",
       "      <td>0.189699</td>\n",
       "      <td>0.024371</td>\n",
       "      <td>0.129630</td>\n",
       "      <td>0.003032</td>\n",
       "    </tr>\n",
       "  </tbody>\n",
       "</table>\n",
       "</div>"
      ],
      "text/plain": [
       "   test-error-mean  test-error-std  train-error-mean  train-error-std\n",
       "0         0.191946        0.027087          0.131874         0.002643\n",
       "1         0.189699        0.024371          0.129630         0.003032"
      ]
     },
     "execution_count": 46,
     "metadata": {},
     "output_type": "execute_result"
    }
   ],
   "source": [
    "cv.tail(10)"
   ]
  },
  {
   "cell_type": "markdown",
   "metadata": {},
   "source": [
    "#### Fine tuning using grid searchCV"
   ]
  },
  {
   "cell_type": "code",
   "execution_count": 47,
   "metadata": {},
   "outputs": [
    {
     "data": {
      "text/plain": [
       "{'xgcl__learning_rate': 0.01, 'xgcl__n_estimators': 1}"
      ]
     },
     "execution_count": 47,
     "metadata": {},
     "output_type": "execute_result"
    }
   ],
   "source": [
    "searchCV = get_gridsearch_crossval_output(train_data, X_columns=X_columns,\n",
    "                                          Y_columns = ['Survived'],\n",
    "                                          n_estimators_list = [1, 2, 3, 4 , 5, 6 ,7 ,8 , 10, 15, 18, 20, 50, 70, 100, 120, 150, 200])\n",
    "searchCV.best_params_\n"
   ]
  },
  {
   "cell_type": "code",
   "execution_count": 48,
   "metadata": {},
   "outputs": [
    {
     "data": {
      "text/plain": [
       "array([0.81287425, 0.81287425, 0.80538922, 0.80538922, 0.80538922,\n",
       "       0.80988024, 0.80988024, 0.80988024, 0.80988024, 0.81137725,\n",
       "       0.81137725, 0.81137725, 0.81137725, 0.81137725, 0.81137725,\n",
       "       0.81137725, 0.81137725, 0.81137725, 0.81287425, 0.81287425,\n",
       "       0.80538922, 0.80988024, 0.80988024, 0.80988024, 0.81137725,\n",
       "       0.81137725, 0.81137725, 0.81137725, 0.81137725, 0.81137725,\n",
       "       0.81137725, 0.81137725, 0.81137725, 0.81137725, 0.81137725,\n",
       "       0.81137725, 0.81287425, 0.81287425, 0.80988024, 0.80988024,\n",
       "       0.81137725, 0.81137725, 0.81137725, 0.81137725, 0.81137725,\n",
       "       0.81137725, 0.81137725, 0.81137725, 0.81137725, 0.81137725,\n",
       "       0.81137725, 0.81137725, 0.81137725, 0.81137725, 0.81287425,\n",
       "       0.80988024, 0.81137725, 0.81137725, 0.81137725, 0.81137725,\n",
       "       0.81137725, 0.81137725, 0.81137725, 0.81137725, 0.81137725,\n",
       "       0.81137725, 0.81137725, 0.81137725, 0.81137725, 0.81137725,\n",
       "       0.81137725, 0.81137725, 0.81287425, 0.80988024, 0.81137725,\n",
       "       0.81137725, 0.81137725, 0.81137725, 0.81137725, 0.81137725,\n",
       "       0.81137725, 0.81137725, 0.81137725, 0.81137725, 0.81137725,\n",
       "       0.81137725, 0.81137725, 0.81137725, 0.81137725, 0.81137725])"
      ]
     },
     "execution_count": 48,
     "metadata": {},
     "output_type": "execute_result"
    }
   ],
   "source": [
    "searchCV.cv_results_['mean_test_score']"
   ]
  },
  {
   "cell_type": "code",
   "execution_count": 49,
   "metadata": {},
   "outputs": [
    {
     "name": "stderr",
     "output_type": "stream",
     "text": [
      "/Users/babs4JESUS/anaconda3/lib/python3.6/site-packages/sklearn/utils/deprecation.py:122: FutureWarning: You are accessing a training score ('mean_train_score'), which will not be available by default any more in 0.21. If you need training scores, please set return_train_score=True\n",
      "  warnings.warn(*warn_args, **warn_kwargs)\n"
     ]
    },
    {
     "data": {
      "text/plain": [
       "array([0.82971613, 0.82971613, 0.82896706, 0.82896706, 0.82896706,\n",
       "       0.82934159, 0.82934159, 0.83196332, 0.83196332, 0.82971613,\n",
       "       0.82971613, 0.82971613, 0.82971613, 0.82971613, 0.82971613,\n",
       "       0.82971613, 0.82971613, 0.82971613, 0.82971613, 0.82971613,\n",
       "       0.82896706, 0.82934159, 0.83196332, 0.83196332, 0.82971613,\n",
       "       0.82971613, 0.82971613, 0.82971613, 0.82971613, 0.82971613,\n",
       "       0.82971613, 0.82971613, 0.82971613, 0.82971613, 0.82971613,\n",
       "       0.82971613, 0.82971613, 0.82971613, 0.82934159, 0.83196332,\n",
       "       0.82971613, 0.83009066, 0.83121215, 0.83009066, 0.83121215,\n",
       "       0.83121215, 0.83121215, 0.83121215, 0.83121215, 0.83121215,\n",
       "       0.83121215, 0.83121215, 0.83121215, 0.83121215, 0.82971613,\n",
       "       0.83196332, 0.82971613, 0.82971613, 0.83009066, 0.83121215,\n",
       "       0.83121215, 0.83121215, 0.83158668, 0.83121215, 0.83121215,\n",
       "       0.83121215, 0.83121215, 0.83121215, 0.83121215, 0.83121215,\n",
       "       0.83121215, 0.83121215, 0.82971613, 0.83196332, 0.83121215,\n",
       "       0.83009066, 0.83121215, 0.83121215, 0.83121215, 0.83233575,\n",
       "       0.83383108, 0.83570023, 0.83570023, 0.83570023, 0.83570023,\n",
       "       0.83570023, 0.83570023, 0.83570023, 0.83570023, 0.83570023])"
      ]
     },
     "execution_count": 49,
     "metadata": {},
     "output_type": "execute_result"
    }
   ],
   "source": [
    "searchCV.cv_results_['mean_train_score']"
   ]
  },
  {
   "cell_type": "code",
   "execution_count": 50,
   "metadata": {},
   "outputs": [
    {
     "name": "stdout",
     "output_type": "stream",
     "text": [
      "Number of entries in training set is 668\n",
      "Number of correct predictions in training set is 554\n",
      "Number of entries in test set is 223\n",
      "Number of correct predictions in test set is 180\n",
      "Out of sample score is 0.8071748878923767\n",
      "Cross val score is 0.8091998438179905\n"
     ]
    }
   ],
   "source": [
    "(my_pipeline, out_of_sample_score, cross_validation_score) = \\\n",
    "    train_test_cross_validate(train_data,\n",
    "                              X_columns,  \n",
    "                              Y_columns,\n",
    "                              n_estimators=1,\n",
    "                              learning_rate=0.01)\n",
    "    \n",
    "print(\"Out of sample score is {0}\\nCross val score is {1}\".format(out_of_sample_score, cross_validation_score))\n",
    "\n"
   ]
  },
  {
   "cell_type": "code",
   "execution_count": 51,
   "metadata": {},
   "outputs": [
    {
     "name": "stdout",
     "output_type": "stream",
     "text": [
      "Complete score on out of sample data is 0.7870813397129186\n"
     ]
    }
   ],
   "source": [
    "#create_pipeline_and_out_of_sample_score(X_train, X_test, Y_train, Y_test)\n",
    "X_train = train_data[X_columns]\n",
    "X_train_one_hot = pd.get_dummies(X_train)\n",
    "Y_train = train_data[Y_column]\n",
    "X_test = test_data[X_columns]\n",
    "X_test_one_hot = pd.get_dummies(X_test)\n",
    "Y_test = test_data[Y_column]\n",
    "(my_pipeline, out_of_sample_score, predictions_out_of_sample) = \\\n",
    "    create_pipeline_and_out_of_sample_score(X_train_one_hot, \n",
    "                                            X_test_one_hot,\n",
    "                                            Y_train,\n",
    "                                            Y_test,\n",
    "                                            1,\n",
    "                                            0.01)\n",
    "print(\"Complete score on out of sample data is {0}\".format(out_of_sample_score))\n",
    "test_data['Predictions'] = predictions_out_of_sample\n",
    "kaggle_data = test_data[['PassengerId', 'Predictions']].copy()\n",
    "kaggle_data.rename(columns={'Predictions' : 'Survived'}, inplace=True)\n",
    "kaggle_data.sort_values(by=['PassengerId']).to_csv('kaggle_out_xgboost_my_attempt_detailed_fine_tuning.csv', index=False)"
   ]
  },
  {
   "cell_type": "code",
   "execution_count": 52,
   "metadata": {},
   "outputs": [
    {
     "data": {
      "text/plain": [
       "Index(['PassengerId', 'Survived', 'Pclass', 'Name', 'Sex', 'Age', 'SibSp',\n",
       "       'Parch', 'Ticket', 'Fare', 'Cabin', 'Embarked', 'Predictions'],\n",
       "      dtype='object')"
      ]
     },
     "execution_count": 52,
     "metadata": {},
     "output_type": "execute_result"
    }
   ],
   "source": [
    "train_data.columns"
   ]
  },
  {
   "cell_type": "code",
   "execution_count": 53,
   "metadata": {},
   "outputs": [
    {
     "data": {
      "text/html": [
       "<div>\n",
       "<style scoped>\n",
       "    .dataframe tbody tr th:only-of-type {\n",
       "        vertical-align: middle;\n",
       "    }\n",
       "\n",
       "    .dataframe tbody tr th {\n",
       "        vertical-align: top;\n",
       "    }\n",
       "\n",
       "    .dataframe thead th {\n",
       "        text-align: right;\n",
       "    }\n",
       "</style>\n",
       "<table border=\"1\" class=\"dataframe\">\n",
       "  <thead>\n",
       "    <tr style=\"text-align: right;\">\n",
       "      <th></th>\n",
       "      <th>PassengerId</th>\n",
       "      <th>Survived</th>\n",
       "      <th>Pclass</th>\n",
       "      <th>Name</th>\n",
       "      <th>Sex</th>\n",
       "      <th>Age</th>\n",
       "      <th>SibSp</th>\n",
       "      <th>Parch</th>\n",
       "      <th>Ticket</th>\n",
       "      <th>Fare</th>\n",
       "      <th>Cabin</th>\n",
       "      <th>Embarked</th>\n",
       "      <th>Predictions</th>\n",
       "    </tr>\n",
       "  </thead>\n",
       "  <tbody>\n",
       "    <tr>\n",
       "      <th>61</th>\n",
       "      <td>62</td>\n",
       "      <td>1</td>\n",
       "      <td>1</td>\n",
       "      <td>Icard, Miss. Amelie</td>\n",
       "      <td>0</td>\n",
       "      <td>38.0</td>\n",
       "      <td>0</td>\n",
       "      <td>0</td>\n",
       "      <td>113572</td>\n",
       "      <td>80.0</td>\n",
       "      <td>B28</td>\n",
       "      <td>NaN</td>\n",
       "      <td>-1</td>\n",
       "    </tr>\n",
       "    <tr>\n",
       "      <th>829</th>\n",
       "      <td>830</td>\n",
       "      <td>1</td>\n",
       "      <td>1</td>\n",
       "      <td>Stone, Mrs. George Nelson (Martha Evelyn)</td>\n",
       "      <td>0</td>\n",
       "      <td>62.0</td>\n",
       "      <td>0</td>\n",
       "      <td>0</td>\n",
       "      <td>113572</td>\n",
       "      <td>80.0</td>\n",
       "      <td>B28</td>\n",
       "      <td>NaN</td>\n",
       "      <td>-1</td>\n",
       "    </tr>\n",
       "  </tbody>\n",
       "</table>\n",
       "</div>"
      ],
      "text/plain": [
       "     PassengerId  Survived  Pclass                                       Name  \\\n",
       "61            62         1       1                        Icard, Miss. Amelie   \n",
       "829          830         1       1  Stone, Mrs. George Nelson (Martha Evelyn)   \n",
       "\n",
       "     Sex   Age  SibSp  Parch  Ticket  Fare Cabin Embarked  Predictions  \n",
       "61     0  38.0      0      0  113572  80.0   B28      NaN           -1  \n",
       "829    0  62.0      0      0  113572  80.0   B28      NaN           -1  "
      ]
     },
     "execution_count": 53,
     "metadata": {},
     "output_type": "execute_result"
    }
   ],
   "source": [
    "train_data[train_data['Embarked'].isnull()]"
   ]
  },
  {
   "cell_type": "markdown",
   "metadata": {},
   "source": [
    "We do some plots if we can include Embarked variable and make some sense ."
   ]
  },
  {
   "cell_type": "code",
   "execution_count": 54,
   "metadata": {},
   "outputs": [
    {
     "data": {
      "text/plain": [
       "<matplotlib.axes._subplots.AxesSubplot at 0x1a18189cc0>"
      ]
     },
     "execution_count": 54,
     "metadata": {},
     "output_type": "execute_result"
    },
    {
     "data": {
      "image/png": "[encoded data removed]",
      "text/plain": [
       "<Figure size 432x288 with 1 Axes>"
      ]
     },
     "metadata": {},
     "output_type": "display_data"
    }
   ],
   "source": [
    "sns.barplot(x='Embarked', y='Survived', data=train_data[train_data['Embarked'].notnull()])"
   ]
  },
  {
   "cell_type": "markdown",
   "metadata": {},
   "source": [
    "Comments : The port 'C' looks to be having a bigger survival rate. Now, let us see if that is explained by the gender variable (putting in other words, we want to see if the bigger survival rate is explained by more females boarding from this point)."
   ]
  },
  {
   "cell_type": "code",
   "execution_count": 55,
   "metadata": {},
   "outputs": [
    {
     "data": {
      "text/plain": [
       "<matplotlib.axes._subplots.AxesSubplot at 0x1a181fbc50>"
      ]
     },
     "execution_count": 55,
     "metadata": {},
     "output_type": "execute_result"
    },
    {
     "data": {
      "image/png": "[encoded data removed]",
      "text/plain": [
       "<Figure size 432x288 with 1 Axes>"
      ]
     },
     "metadata": {},
     "output_type": "display_data"
    }
   ],
   "source": [
    "sns.barplot(x='Embarked', y='Sex', data=train_data[train_data['Embarked'].notnull()])"
   ]
  },
  {
   "cell_type": "markdown",
   "metadata": {},
   "source": [
    "Comment : It does look like more number of males boarded from 'S' than from 'C' or 'Q', even though the number of males were roughly same across 'C' and 'Q'. \n",
    "\n",
    "This definitely had an effect, though I am not sure if this could explain it completely.\n",
    "\n",
    "Now, let us see if the passengers from 'C' were predominantly from a higher class and whether that explains the survival rate."
   ]
  },
  {
   "cell_type": "code",
   "execution_count": 56,
   "metadata": {},
   "outputs": [
    {
     "data": {
      "text/plain": [
       "<matplotlib.axes._subplots.AxesSubplot at 0x1a18241ef0>"
      ]
     },
     "execution_count": 56,
     "metadata": {},
     "output_type": "execute_result"
    },
    {
     "data": {
      "image/png": "[encoded data removed]",
      "text/plain": [
       "<Figure size 432x288 with 1 Axes>"
      ]
     },
     "metadata": {},
     "output_type": "display_data"
    }
   ],
   "source": [
    "sns.barplot(x='Embarked', y='Pclass', data=train_data[train_data['Embarked'].notnull()])"
   ]
  },
  {
   "cell_type": "code",
   "execution_count": 57,
   "metadata": {},
   "outputs": [
    {
     "data": {
      "text/plain": [
       "<matplotlib.axes._subplots.AxesSubplot at 0x1a182f93c8>"
      ]
     },
     "execution_count": 57,
     "metadata": {},
     "output_type": "execute_result"
    },
    {
     "data": {
      "image/png": "[encoded data removed]",
      "text/plain": [
       "<Figure size 432x288 with 1 Axes>"
      ]
     },
     "metadata": {},
     "output_type": "display_data"
    }
   ],
   "source": [
    "sns.barplot(x='Embarked', y='Age', data=train_data[train_data['Embarked'].notnull()])"
   ]
  },
  {
   "cell_type": "markdown",
   "metadata": {},
   "source": [
    "Comments : It is quite visible that the average class of people boaridng from 'C' is less compared to that of 'Q' or 'S', implying that we had a higher percentage of higher class people and this definitely played a part in getting a better survival rate.\n",
    "\n",
    "We decide to do the following :\n",
    "\n",
    "1. Include a new factor on whether the boarding point was 'C' or not. This way, we will be able to add this information without adding too many dimensions.\n",
    "\n",
    "\n",
    "2. Make sure that we add factors Pclass and Sex when we test out the factor. This way, we will make sure that we do not see any false predictive power from this factor, which was already present in Sex and Pclass factors."
   ]
  },
  {
   "cell_type": "code",
   "execution_count": 58,
   "metadata": {},
   "outputs": [],
   "source": [
    "train_data['boarded_from_C'] = 0\n",
    "test_data['boarded_from_C'] = 0"
   ]
  },
  {
   "cell_type": "code",
   "execution_count": 59,
   "metadata": {},
   "outputs": [],
   "source": [
    "train_data.loc[(train_data['Embarked'] == 'C'), 'boarded_from_C'] = 1\n",
    "test_data.loc[(test_data['Embarked'] == 'C'), 'boarded_from_C'] = 1"
   ]
  },
  {
   "cell_type": "markdown",
   "metadata": {},
   "source": [
    "### Model 5: Sex, Pclass,Age,Fare,boarded_from_C as predictors."
   ]
  },
  {
   "cell_type": "code",
   "execution_count": 60,
   "metadata": {},
   "outputs": [],
   "source": [
    "X_columns = ['Sex', 'Pclass', 'Age', 'Fare', 'boarded_from_C']\n",
    "Y_columns = ['Survived']"
   ]
  },
  {
   "cell_type": "code",
   "execution_count": 61,
   "metadata": {},
   "outputs": [
    {
     "name": "stdout",
     "output_type": "stream",
     "text": [
      "Number of entries in training set is 668\n",
      "Number of correct predictions in training set is 585\n",
      "Number of entries in test set is 223\n",
      "Number of correct predictions in test set is 188\n",
      "Out of sample score is 0.8430493273542601\n",
      "Cross val score is 0.8216036175782071\n"
     ]
    },
    {
     "data": {
      "image/svg+xml": [
       "<?xml version=\"1.0\" encoding=\"UTF-8\" standalone=\"no\"?>\n",
       "<!DOCTYPE svg PUBLIC \"-//W3C//DTD SVG 1.1//EN\"\n",
       " \"http://www.w3.org/Graphics/SVG/1.1/DTD/svg11.dtd\">\n",
       "<!-- Generated by graphviz version 2.40.1 (20161225.0304)\n",
       " -->\n",
       "<!-- Title: %3 Pages: 1 -->\n",
       "<svg width=\"695pt\" height=\"441pt\"\n",
       " viewBox=\"0.00 0.00 694.50 441.38\" xmlns=\"http://www.w3.org/2000/svg\" xmlns:xlink=\"http://www.w3.org/1999/xlink\">\n",
       "<g id=\"graph0\" class=\"graph\" transform=\"scale(1 1) rotate(0) translate(4 437.3783)\">\n",
       "<title>%3</title>\n",
       "<polygon fill=\"#ffffff\" stroke=\"transparent\" points=\"-4,4 -4,-437.3783 690.5,-437.3783 690.5,4 -4,4\"/>\n",
       "<!-- 0 -->\n",
       "<g id=\"node1\" class=\"node\">\n",
       "<title>0</title>\n",
       "<ellipse fill=\"none\" stroke=\"#000000\" cx=\"226.5\" cy=\"-405.4308\" rx=\"27.8951\" ry=\"27.8951\"/>\n",
       "<text text-anchor=\"middle\" x=\"226.5\" y=\"-401.7308\" font-family=\"Times,serif\" font-size=\"14.00\" fill=\"#000000\">Sex&lt;1</text>\n",
       "</g>\n",
       "<!-- 1 -->\n",
       "<g id=\"node2\" class=\"node\">\n",
       "<title>1</title>\n",
       "<ellipse fill=\"none\" stroke=\"#000000\" cx=\"170.5\" cy=\"-291.3864\" rx=\"35.194\" ry=\"35.194\"/>\n",
       "<text text-anchor=\"middle\" x=\"170.5\" y=\"-287.6864\" font-family=\"Times,serif\" font-size=\"14.00\" fill=\"#000000\">Pclass&lt;3</text>\n",
       "</g>\n",
       "<!-- 0&#45;&gt;1 -->\n",
       "<g id=\"edge1\" class=\"edge\">\n",
       "<title>0&#45;&gt;1</title>\n",
       "<path fill=\"none\" stroke=\"#0000ff\" d=\"M211.6132,-381.432C207.501,-374.4551 203.1652,-366.7537 199.5,-359.4833 195.3371,-351.2254 191.2228,-342.2287 187.4589,-333.5612\"/>\n",
       "<polygon fill=\"#0000ff\" stroke=\"#0000ff\" points=\"190.6674,-332.1624 183.5264,-324.3357 184.228,-334.9073 190.6674,-332.1624\"/>\n",
       "<text text-anchor=\"middle\" x=\"225.5\" y=\"-348.2833\" font-family=\"Times,serif\" font-size=\"14.00\" fill=\"#000000\">yes, missing</text>\n",
       "</g>\n",
       "<!-- 2 -->\n",
       "<g id=\"node3\" class=\"node\">\n",
       "<title>2</title>\n",
       "<ellipse fill=\"none\" stroke=\"#000000\" cx=\"332.5\" cy=\"-291.3864\" rx=\"32.4942\" ry=\"32.4942\"/>\n",
       "<text text-anchor=\"middle\" x=\"332.5\" y=\"-287.6864\" font-family=\"Times,serif\" font-size=\"14.00\" fill=\"#000000\">Age&lt;13</text>\n",
       "</g>\n",
       "<!-- 0&#45;&gt;2 -->\n",
       "<g id=\"edge2\" class=\"edge\">\n",
       "<title>0&#45;&gt;2</title>\n",
       "<path fill=\"none\" stroke=\"#ff0000\" d=\"M245.6958,-384.7782C261.7072,-367.5517 284.7831,-342.7246 303.1182,-322.998\"/>\n",
       "<polygon fill=\"#ff0000\" stroke=\"#ff0000\" points=\"305.8972,-325.1491 310.1416,-315.4416 300.7699,-320.3835 305.8972,-325.1491\"/>\n",
       "<text text-anchor=\"middle\" x=\"289\" y=\"-348.2833\" font-family=\"Times,serif\" font-size=\"14.00\" fill=\"#000000\">no</text>\n",
       "</g>\n",
       "<!-- 3 -->\n",
       "<g id=\"node4\" class=\"node\">\n",
       "<title>3</title>\n",
       "<polygon fill=\"none\" stroke=\"#000000\" points=\"93,-164.1448 0,-164.1448 0,-128.1448 93,-128.1448 93,-164.1448\"/>\n",
       "<text text-anchor=\"middle\" x=\"46.5\" y=\"-142.4448\" font-family=\"Times,serif\" font-size=\"14.00\" fill=\"#000000\">leaf=0.174712643</text>\n",
       "</g>\n",
       "<!-- 1&#45;&gt;3 -->\n",
       "<g id=\"edge3\" class=\"edge\">\n",
       "<title>1&#45;&gt;3</title>\n",
       "<path fill=\"none\" stroke=\"#0000ff\" d=\"M143.9118,-267.9758C134.2792,-259.0374 123.5507,-248.5283 114.5,-238.2895 95.9712,-217.3282 77.2666,-191.5703 64.1777,-172.622\"/>\n",
       "<polygon fill=\"#0000ff\" stroke=\"#0000ff\" points=\"66.9378,-170.4576 58.4045,-164.1779 61.1592,-174.4084 66.9378,-170.4576\"/>\n",
       "<text text-anchor=\"middle\" x=\"140.5\" y=\"-227.0895\" font-family=\"Times,serif\" font-size=\"14.00\" fill=\"#000000\">yes, missing</text>\n",
       "</g>\n",
       "<!-- 4 -->\n",
       "<g id=\"node5\" class=\"node\">\n",
       "<title>4</title>\n",
       "<ellipse fill=\"none\" stroke=\"#000000\" cx=\"170.5\" cy=\"-146.1448\" rx=\"59.2899\" ry=\"59.2899\"/>\n",
       "<text text-anchor=\"middle\" x=\"170.5\" y=\"-142.4448\" font-family=\"Times,serif\" font-size=\"14.00\" fill=\"#000000\">Fare&lt;23.3500004</text>\n",
       "</g>\n",
       "<!-- 1&#45;&gt;4 -->\n",
       "<g id=\"edge4\" class=\"edge\">\n",
       "<title>1&#45;&gt;4</title>\n",
       "<path fill=\"none\" stroke=\"#ff0000\" d=\"M170.5,-256.2274C170.5,-243.9321 170.5,-229.6637 170.5,-215.5571\"/>\n",
       "<polygon fill=\"#ff0000\" stroke=\"#ff0000\" points=\"174.0001,-215.3444 170.5,-205.3445 167.0001,-215.3445 174.0001,-215.3444\"/>\n",
       "<text text-anchor=\"middle\" x=\"176\" y=\"-227.0895\" font-family=\"Times,serif\" font-size=\"14.00\" fill=\"#000000\">no</text>\n",
       "</g>\n",
       "<!-- 5 -->\n",
       "<g id=\"node8\" class=\"node\">\n",
       "<title>5</title>\n",
       "<ellipse fill=\"none\" stroke=\"#000000\" cx=\"332.5\" cy=\"-146.1448\" rx=\"35.194\" ry=\"35.194\"/>\n",
       "<text text-anchor=\"middle\" x=\"332.5\" y=\"-142.4448\" font-family=\"Times,serif\" font-size=\"14.00\" fill=\"#000000\">Pclass&lt;3</text>\n",
       "</g>\n",
       "<!-- 2&#45;&gt;5 -->\n",
       "<g id=\"edge7\" class=\"edge\">\n",
       "<title>2&#45;&gt;5</title>\n",
       "<path fill=\"none\" stroke=\"#0000ff\" d=\"M332.5,-258.7913C332.5,-238.9357 332.5,-213.2748 332.5,-191.4609\"/>\n",
       "<polygon fill=\"#0000ff\" stroke=\"#0000ff\" points=\"336.0001,-191.4246 332.5,-181.4246 329.0001,-191.4247 336.0001,-191.4246\"/>\n",
       "<text text-anchor=\"middle\" x=\"339.5\" y=\"-227.0895\" font-family=\"Times,serif\" font-size=\"14.00\" fill=\"#000000\">yes</text>\n",
       "</g>\n",
       "<!-- 6 -->\n",
       "<g id=\"node9\" class=\"node\">\n",
       "<title>6</title>\n",
       "<ellipse fill=\"none\" stroke=\"#000000\" cx=\"517.5\" cy=\"-146.1448\" rx=\"59.2899\" ry=\"59.2899\"/>\n",
       "<text text-anchor=\"middle\" x=\"517.5\" y=\"-142.4448\" font-family=\"Times,serif\" font-size=\"14.00\" fill=\"#000000\">Fare&lt;26.2687492</text>\n",
       "</g>\n",
       "<!-- 2&#45;&gt;6 -->\n",
       "<g id=\"edge8\" class=\"edge\">\n",
       "<title>2&#45;&gt;6</title>\n",
       "<path fill=\"none\" stroke=\"#ff0000\" d=\"M358.2235,-271.1912C385.1544,-250.048 428.2555,-216.2097 462.8341,-189.0624\"/>\n",
       "<polygon fill=\"#ff0000\" stroke=\"#ff0000\" points=\"465.2692,-191.6005 470.9734,-182.6723 460.9465,-186.0945 465.2692,-191.6005\"/>\n",
       "<text text-anchor=\"middle\" x=\"439\" y=\"-227.0895\" font-family=\"Times,serif\" font-size=\"14.00\" fill=\"#000000\">no, missing</text>\n",
       "</g>\n",
       "<!-- 7 -->\n",
       "<g id=\"node6\" class=\"node\">\n",
       "<title>7</title>\n",
       "<polygon fill=\"none\" stroke=\"#000000\" points=\"104,-36 5,-36 5,0 104,0 104,-36\"/>\n",
       "<text text-anchor=\"middle\" x=\"54.5\" y=\"-14.3\" font-family=\"Times,serif\" font-size=\"14.00\" fill=\"#000000\">leaf=0.0347107463</text>\n",
       "</g>\n",
       "<!-- 4&#45;&gt;7 -->\n",
       "<g id=\"edge5\" class=\"edge\">\n",
       "<title>4&#45;&gt;7</title>\n",
       "<path fill=\"none\" stroke=\"#0000ff\" d=\"M130.5794,-102.0446C113.0074,-82.6329 92.9755,-60.5037 77.879,-43.8267\"/>\n",
       "<polygon fill=\"#0000ff\" stroke=\"#0000ff\" points=\"80.2028,-41.1784 70.8969,-36.1136 75.0132,-45.8762 80.2028,-41.1784\"/>\n",
       "<text text-anchor=\"middle\" x=\"125.5\" y=\"-57.8\" font-family=\"Times,serif\" font-size=\"14.00\" fill=\"#000000\">yes, missing</text>\n",
       "</g>\n",
       "<!-- 8 -->\n",
       "<g id=\"node7\" class=\"node\">\n",
       "<title>8</title>\n",
       "<polygon fill=\"none\" stroke=\"#000000\" points=\"219,-36 122,-36 122,0 219,0 219,-36\"/>\n",
       "<text text-anchor=\"middle\" x=\"170.5\" y=\"-14.3\" font-family=\"Times,serif\" font-size=\"14.00\" fill=\"#000000\">leaf=&#45;0.135483876</text>\n",
       "</g>\n",
       "<!-- 4&#45;&gt;8 -->\n",
       "<g id=\"edge6\" class=\"edge\">\n",
       "<title>4&#45;&gt;8</title>\n",
       "<path fill=\"none\" stroke=\"#ff0000\" d=\"M170.5,-86.9487C170.5,-72.7899 170.5,-58.3116 170.5,-46.3012\"/>\n",
       "<polygon fill=\"#ff0000\" stroke=\"#ff0000\" points=\"174.0001,-46.0448 170.5,-36.0448 167.0001,-46.0449 174.0001,-46.0448\"/>\n",
       "<text text-anchor=\"middle\" x=\"176\" y=\"-57.8\" font-family=\"Times,serif\" font-size=\"14.00\" fill=\"#000000\">no</text>\n",
       "</g>\n",
       "<!-- 9 -->\n",
       "<g id=\"node10\" class=\"node\">\n",
       "<title>9</title>\n",
       "<polygon fill=\"none\" stroke=\"#000000\" points=\"330,-36 237,-36 237,0 330,0 330,-36\"/>\n",
       "<text text-anchor=\"middle\" x=\"283.5\" y=\"-14.3\" font-family=\"Times,serif\" font-size=\"14.00\" fill=\"#000000\">leaf=0.150000006</text>\n",
       "</g>\n",
       "<!-- 5&#45;&gt;9 -->\n",
       "<g id=\"edge9\" class=\"edge\">\n",
       "<title>5&#45;&gt;9</title>\n",
       "<path fill=\"none\" stroke=\"#0000ff\" d=\"M319.8813,-113.1443C311.8762,-92.2094 301.6383,-65.4352 294.0634,-45.6254\"/>\n",
       "<polygon fill=\"#0000ff\" stroke=\"#0000ff\" points=\"297.3166,-44.3334 290.4758,-36.243 290.7783,-46.8336 297.3166,-44.3334\"/>\n",
       "<text text-anchor=\"middle\" x=\"328.5\" y=\"-57.8\" font-family=\"Times,serif\" font-size=\"14.00\" fill=\"#000000\">yes, missing</text>\n",
       "</g>\n",
       "<!-- 10 -->\n",
       "<g id=\"node11\" class=\"node\">\n",
       "<title>10</title>\n",
       "<polygon fill=\"none\" stroke=\"#000000\" points=\"450.5,-36 348.5,-36 348.5,0 450.5,0 450.5,-36\"/>\n",
       "<text text-anchor=\"middle\" x=\"399.5\" y=\"-14.3\" font-family=\"Times,serif\" font-size=\"14.00\" fill=\"#000000\">leaf=&#45;0.0482758619</text>\n",
       "</g>\n",
       "<!-- 5&#45;&gt;10 -->\n",
       "<g id=\"edge10\" class=\"edge\">\n",
       "<title>5&#45;&gt;10</title>\n",
       "<path fill=\"none\" stroke=\"#ff0000\" d=\"M348.89,-114.797C359.9935,-93.5605 374.5249,-65.7675 385.1671,-45.4132\"/>\n",
       "<polygon fill=\"#ff0000\" stroke=\"#ff0000\" points=\"388.3699,-46.8414 389.9016,-36.3579 382.1666,-43.598 388.3699,-46.8414\"/>\n",
       "<text text-anchor=\"middle\" x=\"386\" y=\"-57.8\" font-family=\"Times,serif\" font-size=\"14.00\" fill=\"#000000\">no</text>\n",
       "</g>\n",
       "<!-- 11 -->\n",
       "<g id=\"node12\" class=\"node\">\n",
       "<title>11</title>\n",
       "<polygon fill=\"none\" stroke=\"#000000\" points=\"566,-36 469,-36 469,0 566,0 566,-36\"/>\n",
       "<text text-anchor=\"middle\" x=\"517.5\" y=\"-14.3\" font-family=\"Times,serif\" font-size=\"14.00\" fill=\"#000000\">leaf=&#45;0.157425746</text>\n",
       "</g>\n",
       "<!-- 6&#45;&gt;11 -->\n",
       "<g id=\"edge11\" class=\"edge\">\n",
       "<title>6&#45;&gt;11</title>\n",
       "<path fill=\"none\" stroke=\"#0000ff\" d=\"M517.5,-86.9487C517.5,-72.7899 517.5,-58.3116 517.5,-46.3012\"/>\n",
       "<polygon fill=\"#0000ff\" stroke=\"#0000ff\" points=\"521.0001,-46.0448 517.5,-36.0448 514.0001,-46.0449 521.0001,-46.0448\"/>\n",
       "<text text-anchor=\"middle\" x=\"543.5\" y=\"-57.8\" font-family=\"Times,serif\" font-size=\"14.00\" fill=\"#000000\">yes, missing</text>\n",
       "</g>\n",
       "<!-- 12 -->\n",
       "<g id=\"node13\" class=\"node\">\n",
       "<title>12</title>\n",
       "<polygon fill=\"none\" stroke=\"#000000\" points=\"686.5,-36 584.5,-36 584.5,0 686.5,0 686.5,-36\"/>\n",
       "<text text-anchor=\"middle\" x=\"635.5\" y=\"-14.3\" font-family=\"Times,serif\" font-size=\"14.00\" fill=\"#000000\">leaf=&#45;0.0638888925</text>\n",
       "</g>\n",
       "<!-- 6&#45;&gt;12 -->\n",
       "<g id=\"edge12\" class=\"edge\">\n",
       "<title>6&#45;&gt;12</title>\n",
       "<path fill=\"none\" stroke=\"#ff0000\" d=\"M557.7789,-102.403C575.6802,-82.9626 596.1468,-60.7365 611.5826,-43.9737\"/>\n",
       "<polygon fill=\"#ff0000\" stroke=\"#ff0000\" points=\"614.5235,-45.9468 618.7227,-36.2197 609.3741,-41.2051 614.5235,-45.9468\"/>\n",
       "<text text-anchor=\"middle\" x=\"606\" y=\"-57.8\" font-family=\"Times,serif\" font-size=\"14.00\" fill=\"#000000\">no</text>\n",
       "</g>\n",
       "</g>\n",
       "</svg>\n"
      ],
      "text/plain": [
       "<graphviz.dot.Digraph at 0x1a18151518>"
      ]
     },
     "execution_count": 61,
     "metadata": {},
     "output_type": "execute_result"
    }
   ],
   "source": [
    "my_model = get_model_metrics_and_display(train_data,X_columns=X_columns)\n",
    "xgb.to_graphviz(my_model)\n"
   ]
  },
  {
   "cell_type": "markdown",
   "metadata": {},
   "source": [
    "Comments : \n",
    "\n",
    "1. The cross validation score looks to have decreaesed.\n",
    "2. Though, we see a different cross validation score, the printed model looks identical to that of the earlier one.\n",
    "\n",
    "For the sake of completeness, I am going over the cross validation procedure as well here."
   ]
  },
  {
   "cell_type": "code",
   "execution_count": 62,
   "metadata": {},
   "outputs": [
    {
     "data": {
      "text/plain": [
       "Index(['PassengerId', 'Survived', 'Pclass', 'Name', 'Sex', 'Age', 'SibSp',\n",
       "       'Parch', 'Ticket', 'Fare', 'Cabin', 'Embarked', 'Predictions',\n",
       "       'boarded_from_C'],\n",
       "      dtype='object')"
      ]
     },
     "execution_count": 62,
     "metadata": {},
     "output_type": "execute_result"
    }
   ],
   "source": [
    "train_data.columns"
   ]
  },
  {
   "cell_type": "markdown",
   "metadata": {},
   "source": [
    "### Yet another approach.\n",
    "\n",
    "Now, we try another approach, wherein we try to build another miniscule model using other features and then later do an ensemble with the models already built by us."
   ]
  },
  {
   "cell_type": "markdown",
   "metadata": {},
   "source": [
    "### Model 1: Age as the only predictor"
   ]
  },
  {
   "cell_type": "code",
   "execution_count": 63,
   "metadata": {},
   "outputs": [],
   "source": [
    "X_columns = ['Age']\n",
    "Y_columns = ['Survived']"
   ]
  },
  {
   "cell_type": "code",
   "execution_count": 64,
   "metadata": {},
   "outputs": [
    {
     "name": "stdout",
     "output_type": "stream",
     "text": [
      "Number of entries in training set is 668\n",
      "Number of correct predictions in training set is 440\n",
      "Number of entries in test set is 223\n",
      "Number of correct predictions in test set is 140\n",
      "Out of sample score is 0.6278026905829597\n",
      "Cross val score is 0.6341616937733241\n"
     ]
    },
    {
     "data": {
      "image/svg+xml": [
       "<?xml version=\"1.0\" encoding=\"UTF-8\" standalone=\"no\"?>\n",
       "<!DOCTYPE svg PUBLIC \"-//W3C//DTD SVG 1.1//EN\"\n",
       " \"http://www.w3.org/Graphics/SVG/1.1/DTD/svg11.dtd\">\n",
       "<!-- Generated by graphviz version 2.40.1 (20161225.0304)\n",
       " -->\n",
       "<!-- Title: %3 Pages: 1 -->\n",
       "<svg width=\"693pt\" height=\"417pt\"\n",
       " viewBox=\"0.00 0.00 693.00 416.68\" xmlns=\"http://www.w3.org/2000/svg\" xmlns:xlink=\"http://www.w3.org/1999/xlink\">\n",
       "<g id=\"graph0\" class=\"graph\" transform=\"scale(1 1) rotate(0) translate(4 412.6805)\">\n",
       "<title>%3</title>\n",
       "<polygon fill=\"#ffffff\" stroke=\"transparent\" points=\"-4,4 -4,-412.6805 689,-412.6805 689,4 -4,4\"/>\n",
       "<!-- 0 -->\n",
       "<g id=\"node1\" class=\"node\">\n",
       "<title>0</title>\n",
       "<ellipse fill=\"none\" stroke=\"#000000\" cx=\"252\" cy=\"-374.2336\" rx=\"34.394\" ry=\"34.394\"/>\n",
       "<text text-anchor=\"middle\" x=\"252\" y=\"-370.5336\" font-family=\"Times,serif\" font-size=\"14.00\" fill=\"#000000\">Age&lt;6.5</text>\n",
       "</g>\n",
       "<!-- 1 -->\n",
       "<g id=\"node2\" class=\"node\">\n",
       "<title>1</title>\n",
       "<ellipse fill=\"none\" stroke=\"#000000\" cx=\"167\" cy=\"-251.09\" rx=\"34.394\" ry=\"34.394\"/>\n",
       "<text text-anchor=\"middle\" x=\"167\" y=\"-247.39\" font-family=\"Times,serif\" font-size=\"14.00\" fill=\"#000000\">Age&lt;1.5</text>\n",
       "</g>\n",
       "<!-- 0&#45;&gt;1 -->\n",
       "<g id=\"edge1\" class=\"edge\">\n",
       "<title>0&#45;&gt;1</title>\n",
       "<path fill=\"none\" stroke=\"#0000ff\" d=\"M232.2856,-345.6724C220.4311,-328.4982 205.2186,-306.4591 192.461,-287.9765\"/>\n",
       "<polygon fill=\"#0000ff\" stroke=\"#0000ff\" points=\"195.1686,-285.7378 186.6074,-279.4962 189.4077,-289.7143 195.1686,-285.7378\"/>\n",
       "<text text-anchor=\"middle\" x=\"222\" y=\"-310.5866\" font-family=\"Times,serif\" font-size=\"14.00\" fill=\"#000000\">yes</text>\n",
       "</g>\n",
       "<!-- 2 -->\n",
       "<g id=\"node3\" class=\"node\">\n",
       "<title>2</title>\n",
       "<ellipse fill=\"none\" stroke=\"#000000\" cx=\"339\" cy=\"-251.09\" rx=\"37.8943\" ry=\"37.8943\"/>\n",
       "<text text-anchor=\"middle\" x=\"339\" y=\"-247.39\" font-family=\"Times,serif\" font-size=\"14.00\" fill=\"#000000\">Age&lt;63.5</text>\n",
       "</g>\n",
       "<!-- 0&#45;&gt;2 -->\n",
       "<g id=\"edge2\" class=\"edge\">\n",
       "<title>0&#45;&gt;2</title>\n",
       "<path fill=\"none\" stroke=\"#ff0000\" d=\"M271.9596,-345.9819C283.5136,-329.6279 298.2383,-308.7858 310.9433,-290.8027\"/>\n",
       "<polygon fill=\"#ff0000\" stroke=\"#ff0000\" points=\"314.0837,-292.4233 316.9953,-282.2364 308.3665,-288.3842 314.0837,-292.4233\"/>\n",
       "<text text-anchor=\"middle\" x=\"323.5\" y=\"-310.5866\" font-family=\"Times,serif\" font-size=\"14.00\" fill=\"#000000\">no, missing</text>\n",
       "</g>\n",
       "<!-- 3 -->\n",
       "<g id=\"node4\" class=\"node\">\n",
       "<title>3</title>\n",
       "<polygon fill=\"none\" stroke=\"#000000\" points=\"114.5,-142.6967 21.5,-142.6967 21.5,-106.6967 114.5,-106.6967 114.5,-142.6967\"/>\n",
       "<text text-anchor=\"middle\" x=\"68\" y=\"-120.9967\" font-family=\"Times,serif\" font-size=\"14.00\" fill=\"#000000\">leaf=0.111111119</text>\n",
       "</g>\n",
       "<!-- 1&#45;&gt;3 -->\n",
       "<g id=\"edge3\" class=\"edge\">\n",
       "<title>1&#45;&gt;3</title>\n",
       "<path fill=\"none\" stroke=\"#0000ff\" d=\"M145.5185,-223.6645C128.5494,-202.0001 105.0302,-171.9732 88.3592,-150.6892\"/>\n",
       "<polygon fill=\"#0000ff\" stroke=\"#0000ff\" points=\"91.0354,-148.4298 82.1136,-142.7155 85.5246,-152.7463 91.0354,-148.4298\"/>\n",
       "<text text-anchor=\"middle\" x=\"128\" y=\"-184.1933\" font-family=\"Times,serif\" font-size=\"14.00\" fill=\"#000000\">yes</text>\n",
       "</g>\n",
       "<!-- 4 -->\n",
       "<g id=\"node5\" class=\"node\">\n",
       "<title>4</title>\n",
       "<ellipse fill=\"none\" stroke=\"#000000\" cx=\"167\" cy=\"-124.6967\" rx=\"34.394\" ry=\"34.394\"/>\n",
       "<text text-anchor=\"middle\" x=\"167\" y=\"-120.9967\" font-family=\"Times,serif\" font-size=\"14.00\" fill=\"#000000\">Age&lt;2.5</text>\n",
       "</g>\n",
       "<!-- 1&#45;&gt;4 -->\n",
       "<g id=\"edge4\" class=\"edge\">\n",
       "<title>1&#45;&gt;4</title>\n",
       "<path fill=\"none\" stroke=\"#ff0000\" d=\"M167,-216.5524C167,-202.0621 167,-185.0214 167,-169.5779\"/>\n",
       "<polygon fill=\"#ff0000\" stroke=\"#ff0000\" points=\"170.5001,-169.1924 167,-159.1924 163.5001,-169.1925 170.5001,-169.1924\"/>\n",
       "<text text-anchor=\"middle\" x=\"191.5\" y=\"-184.1933\" font-family=\"Times,serif\" font-size=\"14.00\" fill=\"#000000\">no, missing</text>\n",
       "</g>\n",
       "<!-- 5 -->\n",
       "<g id=\"node8\" class=\"node\">\n",
       "<title>5</title>\n",
       "<ellipse fill=\"none\" stroke=\"#000000\" cx=\"339\" cy=\"-124.6967\" rx=\"37.8943\" ry=\"37.8943\"/>\n",
       "<text text-anchor=\"middle\" x=\"339\" y=\"-120.9967\" font-family=\"Times,serif\" font-size=\"14.00\" fill=\"#000000\">Age&lt;47.5</text>\n",
       "</g>\n",
       "<!-- 2&#45;&gt;5 -->\n",
       "<g id=\"edge7\" class=\"edge\">\n",
       "<title>2&#45;&gt;5</title>\n",
       "<path fill=\"none\" stroke=\"#0000ff\" d=\"M339,-213.1678C339,-200.42 339,-186.0295 339,-172.6158\"/>\n",
       "<polygon fill=\"#0000ff\" stroke=\"#0000ff\" points=\"342.5001,-172.592 339,-162.5921 335.5001,-172.5921 342.5001,-172.592\"/>\n",
       "<text text-anchor=\"middle\" x=\"346\" y=\"-184.1933\" font-family=\"Times,serif\" font-size=\"14.00\" fill=\"#000000\">yes</text>\n",
       "</g>\n",
       "<!-- 6 -->\n",
       "<g id=\"node9\" class=\"node\">\n",
       "<title>6</title>\n",
       "<ellipse fill=\"none\" stroke=\"#000000\" cx=\"516\" cy=\"-124.6967\" rx=\"32.4942\" ry=\"32.4942\"/>\n",
       "<text text-anchor=\"middle\" x=\"516\" y=\"-120.9967\" font-family=\"Times,serif\" font-size=\"14.00\" fill=\"#000000\">Age&lt;77</text>\n",
       "</g>\n",
       "<!-- 2&#45;&gt;6 -->\n",
       "<g id=\"edge8\" class=\"edge\">\n",
       "<title>2&#45;&gt;6</title>\n",
       "<path fill=\"none\" stroke=\"#ff0000\" d=\"M369.831,-229.0739C400.8352,-206.9343 448.5648,-172.8513 480.9795,-149.7043\"/>\n",
       "<polygon fill=\"#ff0000\" stroke=\"#ff0000\" points=\"483.1755,-152.437 489.2797,-143.7773 479.1076,-146.7403 483.1755,-152.437\"/>\n",
       "<text text-anchor=\"middle\" x=\"457.5\" y=\"-184.1933\" font-family=\"Times,serif\" font-size=\"14.00\" fill=\"#000000\">no, missing</text>\n",
       "</g>\n",
       "<!-- 7 -->\n",
       "<g id=\"node6\" class=\"node\">\n",
       "<title>7</title>\n",
       "<polygon fill=\"none\" stroke=\"#000000\" points=\"102,-36 0,-36 0,0 102,0 102,-36\"/>\n",
       "<text text-anchor=\"middle\" x=\"51\" y=\"-14.3\" font-family=\"Times,serif\" font-size=\"14.00\" fill=\"#000000\">leaf=&#45;0.0571428612</text>\n",
       "</g>\n",
       "<!-- 4&#45;&gt;7 -->\n",
       "<g id=\"edge5\" class=\"edge\">\n",
       "<title>4&#45;&gt;7</title>\n",
       "<path fill=\"none\" stroke=\"#0000ff\" d=\"M141.5433,-101.2816C122.7861,-84.0287 97.3148,-60.6003 78.1658,-42.9871\"/>\n",
       "<polygon fill=\"#0000ff\" stroke=\"#0000ff\" points=\"80.3745,-40.2632 70.645,-36.0694 75.6356,-45.4153 80.3745,-40.2632\"/>\n",
       "<text text-anchor=\"middle\" x=\"113\" y=\"-57.8\" font-family=\"Times,serif\" font-size=\"14.00\" fill=\"#000000\">yes</text>\n",
       "</g>\n",
       "<!-- 8 -->\n",
       "<g id=\"node7\" class=\"node\">\n",
       "<title>8</title>\n",
       "<polygon fill=\"none\" stroke=\"#000000\" points=\"213.5,-36 120.5,-36 120.5,0 213.5,0 213.5,-36\"/>\n",
       "<text text-anchor=\"middle\" x=\"167\" y=\"-14.3\" font-family=\"Times,serif\" font-size=\"14.00\" fill=\"#000000\">leaf=0.096296303</text>\n",
       "</g>\n",
       "<!-- 4&#45;&gt;8 -->\n",
       "<g id=\"edge6\" class=\"edge\">\n",
       "<title>4&#45;&gt;8</title>\n",
       "<path fill=\"none\" stroke=\"#ff0000\" d=\"M167,-90.0553C167,-75.8432 167,-59.6031 167,-46.1427\"/>\n",
       "<polygon fill=\"#ff0000\" stroke=\"#ff0000\" points=\"170.5001,-46.0355 167,-36.0355 163.5001,-46.0355 170.5001,-46.0355\"/>\n",
       "<text text-anchor=\"middle\" x=\"191.5\" y=\"-57.8\" font-family=\"Times,serif\" font-size=\"14.00\" fill=\"#000000\">no, missing</text>\n",
       "</g>\n",
       "<!-- 9 -->\n",
       "<g id=\"node10\" class=\"node\">\n",
       "<title>9</title>\n",
       "<polygon fill=\"none\" stroke=\"#000000\" points=\"328.5,-36 231.5,-36 231.5,0 328.5,0 328.5,-36\"/>\n",
       "<text text-anchor=\"middle\" x=\"280\" y=\"-14.3\" font-family=\"Times,serif\" font-size=\"14.00\" fill=\"#000000\">leaf=&#45;0.047422681</text>\n",
       "</g>\n",
       "<!-- 5&#45;&gt;9 -->\n",
       "<g id=\"edge9\" class=\"edge\">\n",
       "<title>5&#45;&gt;9</title>\n",
       "<path fill=\"none\" stroke=\"#0000ff\" d=\"M320.6554,-91.522C312.3863,-76.5679 302.7456,-59.1336 294.9281,-44.9963\"/>\n",
       "<polygon fill=\"#0000ff\" stroke=\"#0000ff\" points=\"297.989,-43.2989 290.0869,-36.2414 291.8632,-46.6863 297.989,-43.2989\"/>\n",
       "<text text-anchor=\"middle\" x=\"315\" y=\"-57.8\" font-family=\"Times,serif\" font-size=\"14.00\" fill=\"#000000\">yes</text>\n",
       "</g>\n",
       "<!-- 10 -->\n",
       "<g id=\"node11\" class=\"node\">\n",
       "<title>10</title>\n",
       "<polygon fill=\"none\" stroke=\"#000000\" points=\"449,-36 347,-36 347,0 449,0 449,-36\"/>\n",
       "<text text-anchor=\"middle\" x=\"398\" y=\"-14.3\" font-family=\"Times,serif\" font-size=\"14.00\" fill=\"#000000\">leaf=&#45;0.0100000007</text>\n",
       "</g>\n",
       "<!-- 5&#45;&gt;10 -->\n",
       "<g id=\"edge10\" class=\"edge\">\n",
       "<title>5&#45;&gt;10</title>\n",
       "<path fill=\"none\" stroke=\"#ff0000\" d=\"M357.3446,-91.522C365.6137,-76.5679 375.2544,-59.1336 383.0719,-44.9963\"/>\n",
       "<polygon fill=\"#ff0000\" stroke=\"#ff0000\" points=\"386.1368,-46.6863 387.9131,-36.2414 380.011,-43.2989 386.1368,-46.6863\"/>\n",
       "<text text-anchor=\"middle\" x=\"402.5\" y=\"-57.8\" font-family=\"Times,serif\" font-size=\"14.00\" fill=\"#000000\">no, missing</text>\n",
       "</g>\n",
       "<!-- 11 -->\n",
       "<g id=\"node12\" class=\"node\">\n",
       "<title>11</title>\n",
       "<polygon fill=\"none\" stroke=\"#000000\" points=\"564.5,-36 467.5,-36 467.5,0 564.5,0 564.5,-36\"/>\n",
       "<text text-anchor=\"middle\" x=\"516\" y=\"-14.3\" font-family=\"Times,serif\" font-size=\"14.00\" fill=\"#000000\">leaf=&#45;0.150000006</text>\n",
       "</g>\n",
       "<!-- 6&#45;&gt;11 -->\n",
       "<g id=\"edge11\" class=\"edge\">\n",
       "<title>6&#45;&gt;11</title>\n",
       "<path fill=\"none\" stroke=\"#0000ff\" d=\"M516,-92.1044C516,-77.4536 516,-60.3286 516,-46.2338\"/>\n",
       "<polygon fill=\"#0000ff\" stroke=\"#0000ff\" points=\"519.5001,-46.1374 516,-36.1374 512.5001,-46.1374 519.5001,-46.1374\"/>\n",
       "<text text-anchor=\"middle\" x=\"523\" y=\"-57.8\" font-family=\"Times,serif\" font-size=\"14.00\" fill=\"#000000\">yes</text>\n",
       "</g>\n",
       "<!-- 12 -->\n",
       "<g id=\"node13\" class=\"node\">\n",
       "<title>12</title>\n",
       "<polygon fill=\"none\" stroke=\"#000000\" points=\"685,-36 583,-36 583,0 685,0 685,-36\"/>\n",
       "<text text-anchor=\"middle\" x=\"634\" y=\"-14.3\" font-family=\"Times,serif\" font-size=\"14.00\" fill=\"#000000\">leaf=&#45;0.0791208819</text>\n",
       "</g>\n",
       "<!-- 6&#45;&gt;12 -->\n",
       "<g id=\"edge12\" class=\"edge\">\n",
       "<title>6&#45;&gt;12</title>\n",
       "<path fill=\"none\" stroke=\"#ff0000\" d=\"M540.1638,-102.8475C559.3309,-85.5165 586.14,-61.2755 606.197,-43.1397\"/>\n",
       "<polygon fill=\"#ff0000\" stroke=\"#ff0000\" points=\"608.7237,-45.5737 613.7937,-36.2707 604.0288,-40.3816 608.7237,-45.5737\"/>\n",
       "<text text-anchor=\"middle\" x=\"617.5\" y=\"-57.8\" font-family=\"Times,serif\" font-size=\"14.00\" fill=\"#000000\">no, missing</text>\n",
       "</g>\n",
       "</g>\n",
       "</svg>\n"
      ],
      "text/plain": [
       "<graphviz.dot.Digraph at 0x1a183d0d30>"
      ]
     },
     "execution_count": 64,
     "metadata": {},
     "output_type": "execute_result"
    }
   ],
   "source": [
    "my_model = get_model_metrics_and_display(train_data,X_columns=X_columns)\n",
    "xgb.to_graphviz(my_model)\n"
   ]
  },
  {
   "cell_type": "markdown",
   "metadata": {},
   "source": [
    "Comments : As expected the stats are very bad. Now, let us see if we can add the boarding information and see if things improve."
   ]
  },
  {
   "cell_type": "markdown",
   "metadata": {},
   "source": [
    "### Model 2: Age, boarded_from_C as the only predictor"
   ]
  },
  {
   "cell_type": "code",
   "execution_count": 65,
   "metadata": {},
   "outputs": [],
   "source": [
    "X_columns = ['Age', 'boarded_from_C']\n",
    "Y_columns = ['Survived']"
   ]
  },
  {
   "cell_type": "code",
   "execution_count": 66,
   "metadata": {},
   "outputs": [
    {
     "name": "stdout",
     "output_type": "stream",
     "text": [
      "Number of entries in training set is 668\n",
      "Number of correct predictions in training set is 454\n",
      "Number of entries in test set is 223\n",
      "Number of correct predictions in test set is 147\n",
      "Out of sample score is 0.663677130044843\n",
      "Cross val score is 0.6476514006199758\n"
     ]
    },
    {
     "data": {
      "image/svg+xml": [
       "<?xml version=\"1.0\" encoding=\"UTF-8\" standalone=\"no\"?>\n",
       "<!DOCTYPE svg PUBLIC \"-//W3C//DTD SVG 1.1//EN\"\n",
       " \"http://www.w3.org/Graphics/SVG/1.1/DTD/svg11.dtd\">\n",
       "<!-- Generated by graphviz version 2.40.1 (20161225.0304)\n",
       " -->\n",
       "<!-- Title: %3 Pages: 1 -->\n",
       "<svg width=\"689pt\" height=\"476pt\"\n",
       " viewBox=\"0.00 0.00 688.50 476.48\" xmlns=\"http://www.w3.org/2000/svg\" xmlns:xlink=\"http://www.w3.org/1999/xlink\">\n",
       "<g id=\"graph0\" class=\"graph\" transform=\"scale(1 1) rotate(0) translate(4 472.4752)\">\n",
       "<title>%3</title>\n",
       "<polygon fill=\"#ffffff\" stroke=\"transparent\" points=\"-4,4 -4,-472.4752 684.5,-472.4752 684.5,4 -4,4\"/>\n",
       "<!-- 0 -->\n",
       "<g id=\"node1\" class=\"node\">\n",
       "<title>0</title>\n",
       "<ellipse fill=\"none\" stroke=\"#000000\" cx=\"422\" cy=\"-404.1309\" rx=\"64.189\" ry=\"64.189\"/>\n",
       "<text text-anchor=\"middle\" x=\"422\" y=\"-400.4309\" font-family=\"Times,serif\" font-size=\"14.00\" fill=\"#000000\">boarded_from_C&lt;1</text>\n",
       "</g>\n",
       "<!-- 1 -->\n",
       "<g id=\"node2\" class=\"node\">\n",
       "<title>1</title>\n",
       "<ellipse fill=\"none\" stroke=\"#000000\" cx=\"307\" cy=\"-251.09\" rx=\"34.394\" ry=\"34.394\"/>\n",
       "<text text-anchor=\"middle\" x=\"307\" y=\"-247.39\" font-family=\"Times,serif\" font-size=\"14.00\" fill=\"#000000\">Age&lt;6.5</text>\n",
       "</g>\n",
       "<!-- 0&#45;&gt;1 -->\n",
       "<g id=\"edge1\" class=\"edge\">\n",
       "<title>0&#45;&gt;1</title>\n",
       "<path fill=\"none\" stroke=\"#0000ff\" d=\"M383.0662,-352.3182C366.8738,-330.7694 348.4807,-306.2922 333.8376,-286.8053\"/>\n",
       "<polygon fill=\"#0000ff\" stroke=\"#0000ff\" points=\"336.6144,-284.6743 327.809,-278.7824 331.0183,-288.8795 336.6144,-284.6743\"/>\n",
       "<text text-anchor=\"middle\" x=\"384\" y=\"-310.5866\" font-family=\"Times,serif\" font-size=\"14.00\" fill=\"#000000\">yes, missing</text>\n",
       "</g>\n",
       "<!-- 2 -->\n",
       "<g id=\"node3\" class=\"node\">\n",
       "<title>2</title>\n",
       "<ellipse fill=\"none\" stroke=\"#000000\" cx=\"519\" cy=\"-251.09\" rx=\"37.8943\" ry=\"37.8943\"/>\n",
       "<text text-anchor=\"middle\" x=\"519\" y=\"-247.39\" font-family=\"Times,serif\" font-size=\"14.00\" fill=\"#000000\">Age&lt;62.5</text>\n",
       "</g>\n",
       "<!-- 0&#45;&gt;2 -->\n",
       "<g id=\"edge2\" class=\"edge\">\n",
       "<title>0&#45;&gt;2</title>\n",
       "<path fill=\"none\" stroke=\"#ff0000\" d=\"M456.4717,-349.7435C468.6388,-330.5469 482.0947,-309.317 493.3974,-291.4843\"/>\n",
       "<polygon fill=\"#ff0000\" stroke=\"#ff0000\" points=\"496.3606,-293.3469 498.7579,-283.0268 490.4482,-289.5994 496.3606,-293.3469\"/>\n",
       "<text text-anchor=\"middle\" x=\"488.5\" y=\"-310.5866\" font-family=\"Times,serif\" font-size=\"14.00\" fill=\"#000000\">no</text>\n",
       "</g>\n",
       "<!-- 3 -->\n",
       "<g id=\"node4\" class=\"node\">\n",
       "<title>3</title>\n",
       "<ellipse fill=\"none\" stroke=\"#000000\" cx=\"172\" cy=\"-124.6967\" rx=\"34.394\" ry=\"34.394\"/>\n",
       "<text text-anchor=\"middle\" x=\"172\" y=\"-120.9967\" font-family=\"Times,serif\" font-size=\"14.00\" fill=\"#000000\">Age&lt;2.5</text>\n",
       "</g>\n",
       "<!-- 1&#45;&gt;3 -->\n",
       "<g id=\"edge3\" class=\"edge\">\n",
       "<title>1&#45;&gt;3</title>\n",
       "<path fill=\"none\" stroke=\"#0000ff\" d=\"M281.6075,-227.3164C259.8287,-206.926 228.3125,-177.4191 204.6595,-155.274\"/>\n",
       "<polygon fill=\"#0000ff\" stroke=\"#0000ff\" points=\"206.9707,-152.6433 197.2786,-148.3637 202.1865,-157.7532 206.9707,-152.6433\"/>\n",
       "<text text-anchor=\"middle\" x=\"251\" y=\"-184.1933\" font-family=\"Times,serif\" font-size=\"14.00\" fill=\"#000000\">yes</text>\n",
       "</g>\n",
       "<!-- 4 -->\n",
       "<g id=\"node5\" class=\"node\">\n",
       "<title>4</title>\n",
       "<ellipse fill=\"none\" stroke=\"#000000\" cx=\"307\" cy=\"-124.6967\" rx=\"37.8943\" ry=\"37.8943\"/>\n",
       "<text text-anchor=\"middle\" x=\"307\" y=\"-120.9967\" font-family=\"Times,serif\" font-size=\"14.00\" fill=\"#000000\">Age&lt;26.5</text>\n",
       "</g>\n",
       "<!-- 1&#45;&gt;4 -->\n",
       "<g id=\"edge4\" class=\"edge\">\n",
       "<title>1&#45;&gt;4</title>\n",
       "<path fill=\"none\" stroke=\"#ff0000\" d=\"M307,-216.5524C307,-203.1425 307,-187.5483 307,-173.0572\"/>\n",
       "<polygon fill=\"#ff0000\" stroke=\"#ff0000\" points=\"310.5001,-172.7473 307,-162.7473 303.5001,-172.7474 310.5001,-172.7473\"/>\n",
       "<text text-anchor=\"middle\" x=\"331.5\" y=\"-184.1933\" font-family=\"Times,serif\" font-size=\"14.00\" fill=\"#000000\">no, missing</text>\n",
       "</g>\n",
       "<!-- 5 -->\n",
       "<g id=\"node10\" class=\"node\">\n",
       "<title>5</title>\n",
       "<ellipse fill=\"none\" stroke=\"#000000\" cx=\"519\" cy=\"-124.6967\" rx=\"29.4969\" ry=\"29.4969\"/>\n",
       "<text text-anchor=\"middle\" x=\"519\" y=\"-120.9967\" font-family=\"Times,serif\" font-size=\"14.00\" fill=\"#000000\">Age&lt;7</text>\n",
       "</g>\n",
       "<!-- 2&#45;&gt;5 -->\n",
       "<g id=\"edge9\" class=\"edge\">\n",
       "<title>2&#45;&gt;5</title>\n",
       "<path fill=\"none\" stroke=\"#0000ff\" d=\"M519,-213.1678C519,-197.8068 519,-180.0606 519,-164.5124\"/>\n",
       "<polygon fill=\"#0000ff\" stroke=\"#0000ff\" points=\"522.5001,-164.1558 519,-154.1558 515.5001,-164.1558 522.5001,-164.1558\"/>\n",
       "<text text-anchor=\"middle\" x=\"526\" y=\"-184.1933\" font-family=\"Times,serif\" font-size=\"14.00\" fill=\"#000000\">yes</text>\n",
       "</g>\n",
       "<!-- 6 -->\n",
       "<g id=\"node11\" class=\"node\">\n",
       "<title>6</title>\n",
       "<polygon fill=\"none\" stroke=\"#000000\" points=\"663.5,-142.6967 566.5,-142.6967 566.5,-106.6967 663.5,-106.6967 663.5,-142.6967\"/>\n",
       "<text text-anchor=\"middle\" x=\"615\" y=\"-120.9967\" font-family=\"Times,serif\" font-size=\"14.00\" fill=\"#000000\">leaf=&#45;0.057777781</text>\n",
       "</g>\n",
       "<!-- 2&#45;&gt;6 -->\n",
       "<g id=\"edge10\" class=\"edge\">\n",
       "<title>2&#45;&gt;6</title>\n",
       "<path fill=\"none\" stroke=\"#ff0000\" d=\"M541.9944,-220.8156C558.1085,-199.5998 579.4391,-171.5161 594.8791,-151.1877\"/>\n",
       "<polygon fill=\"#ff0000\" stroke=\"#ff0000\" points=\"597.842,-153.0734 601.1033,-142.993 592.2676,-148.8395 597.842,-153.0734\"/>\n",
       "<text text-anchor=\"middle\" x=\"594.5\" y=\"-184.1933\" font-family=\"Times,serif\" font-size=\"14.00\" fill=\"#000000\">no, missing</text>\n",
       "</g>\n",
       "<!-- 7 -->\n",
       "<g id=\"node6\" class=\"node\">\n",
       "<title>7</title>\n",
       "<polygon fill=\"none\" stroke=\"#000000\" points=\"104,-36 0,-36 0,0 104,0 104,-36\"/>\n",
       "<text text-anchor=\"middle\" x=\"52\" y=\"-14.3\" font-family=\"Times,serif\" font-size=\"14.00\" fill=\"#000000\">leaf=0.00869565271</text>\n",
       "</g>\n",
       "<!-- 3&#45;&gt;7 -->\n",
       "<g id=\"edge5\" class=\"edge\">\n",
       "<title>3&#45;&gt;7</title>\n",
       "<path fill=\"none\" stroke=\"#0000ff\" d=\"M146.257,-101.8075C126.802,-84.5094 100.1206,-60.7859 80.1101,-42.9938\"/>\n",
       "<polygon fill=\"#0000ff\" stroke=\"#0000ff\" points=\"82.3253,-40.28 72.5264,-36.2509 77.674,-45.5112 82.3253,-40.28\"/>\n",
       "<text text-anchor=\"middle\" x=\"116\" y=\"-57.8\" font-family=\"Times,serif\" font-size=\"14.00\" fill=\"#000000\">yes</text>\n",
       "</g>\n",
       "<!-- 8 -->\n",
       "<g id=\"node7\" class=\"node\">\n",
       "<title>8</title>\n",
       "<polygon fill=\"none\" stroke=\"#000000\" points=\"221.5,-36 122.5,-36 122.5,0 221.5,0 221.5,-36\"/>\n",
       "<text text-anchor=\"middle\" x=\"172\" y=\"-14.3\" font-family=\"Times,serif\" font-size=\"14.00\" fill=\"#000000\">leaf=0.0833333358</text>\n",
       "</g>\n",
       "<!-- 3&#45;&gt;8 -->\n",
       "<g id=\"edge6\" class=\"edge\">\n",
       "<title>3&#45;&gt;8</title>\n",
       "<path fill=\"none\" stroke=\"#ff0000\" d=\"M172,-90.0553C172,-75.8432 172,-59.6031 172,-46.1427\"/>\n",
       "<polygon fill=\"#ff0000\" stroke=\"#ff0000\" points=\"175.5001,-46.0355 172,-36.0355 168.5001,-46.0355 175.5001,-46.0355\"/>\n",
       "<text text-anchor=\"middle\" x=\"196.5\" y=\"-57.8\" font-family=\"Times,serif\" font-size=\"14.00\" fill=\"#000000\">no, missing</text>\n",
       "</g>\n",
       "<!-- 9 -->\n",
       "<g id=\"node8\" class=\"node\">\n",
       "<title>9</title>\n",
       "<polygon fill=\"none\" stroke=\"#000000\" points=\"336.5,-36 239.5,-36 239.5,0 336.5,0 336.5,-36\"/>\n",
       "<text text-anchor=\"middle\" x=\"288\" y=\"-14.3\" font-family=\"Times,serif\" font-size=\"14.00\" fill=\"#000000\">leaf=&#45;0.084153004</text>\n",
       "</g>\n",
       "<!-- 4&#45;&gt;9 -->\n",
       "<g id=\"edge7\" class=\"edge\">\n",
       "<title>4&#45;&gt;9</title>\n",
       "<path fill=\"none\" stroke=\"#0000ff\" d=\"M300.3547,-87.3793C297.9469,-73.8581 295.2694,-58.8223 293.0243,-46.2143\"/>\n",
       "<polygon fill=\"#0000ff\" stroke=\"#0000ff\" points=\"296.4545,-45.5126 291.2554,-36.2812 289.5629,-46.7399 296.4545,-45.5126\"/>\n",
       "<text text-anchor=\"middle\" x=\"323\" y=\"-57.8\" font-family=\"Times,serif\" font-size=\"14.00\" fill=\"#000000\">yes, missing</text>\n",
       "</g>\n",
       "<!-- 10 -->\n",
       "<g id=\"node9\" class=\"node\">\n",
       "<title>10</title>\n",
       "<polygon fill=\"none\" stroke=\"#000000\" points=\"457,-36 355,-36 355,0 457,0 457,-36\"/>\n",
       "<text text-anchor=\"middle\" x=\"406\" y=\"-14.3\" font-family=\"Times,serif\" font-size=\"14.00\" fill=\"#000000\">leaf=&#45;0.0503067486</text>\n",
       "</g>\n",
       "<!-- 4&#45;&gt;10 -->\n",
       "<g id=\"edge8\" class=\"edge\">\n",
       "<title>4&#45;&gt;10</title>\n",
       "<path fill=\"none\" stroke=\"#ff0000\" d=\"M332.7526,-96.9419C348.0155,-80.4925 367.2259,-59.7886 382.1436,-43.7111\"/>\n",
       "<polygon fill=\"#ff0000\" stroke=\"#ff0000\" points=\"384.8498,-45.9403 389.0859,-36.2291 379.7184,-41.179 384.8498,-45.9403\"/>\n",
       "<text text-anchor=\"middle\" x=\"377.5\" y=\"-57.8\" font-family=\"Times,serif\" font-size=\"14.00\" fill=\"#000000\">no</text>\n",
       "</g>\n",
       "<!-- 11 -->\n",
       "<g id=\"node12\" class=\"node\">\n",
       "<title>11</title>\n",
       "<polygon fill=\"none\" stroke=\"#000000\" points=\"563,-36 475,-36 475,0 563,0 563,-36\"/>\n",
       "<text text-anchor=\"middle\" x=\"519\" y=\"-14.3\" font-family=\"Times,serif\" font-size=\"14.00\" fill=\"#000000\">leaf=0.13333334</text>\n",
       "</g>\n",
       "<!-- 5&#45;&gt;11 -->\n",
       "<g id=\"edge11\" class=\"edge\">\n",
       "<title>5&#45;&gt;11</title>\n",
       "<path fill=\"none\" stroke=\"#0000ff\" d=\"M519,-95.2589C519,-80.0705 519,-61.6218 519,-46.5618\"/>\n",
       "<polygon fill=\"#0000ff\" stroke=\"#0000ff\" points=\"522.5001,-46.2896 519,-36.2897 515.5001,-46.2897 522.5001,-46.2896\"/>\n",
       "<text text-anchor=\"middle\" x=\"526\" y=\"-57.8\" font-family=\"Times,serif\" font-size=\"14.00\" fill=\"#000000\">yes</text>\n",
       "</g>\n",
       "<!-- 12 -->\n",
       "<g id=\"node13\" class=\"node\">\n",
       "<title>12</title>\n",
       "<polygon fill=\"none\" stroke=\"#000000\" points=\"680.5,-36 581.5,-36 581.5,0 680.5,0 680.5,-36\"/>\n",
       "<text text-anchor=\"middle\" x=\"631\" y=\"-14.3\" font-family=\"Times,serif\" font-size=\"14.00\" fill=\"#000000\">leaf=0.0373983756</text>\n",
       "</g>\n",
       "<!-- 5&#45;&gt;12 -->\n",
       "<g id=\"edge12\" class=\"edge\">\n",
       "<title>5&#45;&gt;12</title>\n",
       "<path fill=\"none\" stroke=\"#ff0000\" d=\"M539.7919,-103.8403C545.3487,-98.3297 551.3739,-92.411 557,-87 572.2755,-72.3083 589.59,-56.138 603.6282,-43.1464\"/>\n",
       "<polygon fill=\"#ff0000\" stroke=\"#ff0000\" points=\"606.0852,-45.6416 611.0564,-36.2854 601.3357,-40.4994 606.0852,-45.6416\"/>\n",
       "<text text-anchor=\"middle\" x=\"616.5\" y=\"-57.8\" font-family=\"Times,serif\" font-size=\"14.00\" fill=\"#000000\">no, missing</text>\n",
       "</g>\n",
       "</g>\n",
       "</svg>\n"
      ],
      "text/plain": [
       "<graphviz.dot.Digraph at 0x1a183d9da0>"
      ]
     },
     "execution_count": 66,
     "metadata": {},
     "output_type": "execute_result"
    }
   ],
   "source": [
    "my_model = get_model_metrics_and_display(train_data,X_columns=X_columns)\n",
    "xgb.to_graphviz(my_model)\n"
   ]
  },
  {
   "cell_type": "markdown",
   "metadata": {},
   "source": [
    "Comments : As expected , stats do not come up significantly even now. Let us try adding Pclass"
   ]
  },
  {
   "cell_type": "markdown",
   "metadata": {},
   "source": [
    "### Model 3: Age, boarded_from_C,Pclass as the only predictor"
   ]
  },
  {
   "cell_type": "code",
   "execution_count": 67,
   "metadata": {},
   "outputs": [],
   "source": [
    "X_columns = ['Age', 'Pclass', 'boarded_from_C']\n",
    "Y_columns = ['Survived']"
   ]
  },
  {
   "cell_type": "code",
   "execution_count": 68,
   "metadata": {},
   "outputs": [
    {
     "name": "stdout",
     "output_type": "stream",
     "text": [
      "Number of entries in training set is 668\n",
      "Number of correct predictions in training set is 488\n",
      "Number of entries in test set is 223\n",
      "Number of correct predictions in test set is 165\n",
      "Out of sample score is 0.7443946188340806\n",
      "Cross val score is 0.6914342466292667\n"
     ]
    },
    {
     "data": {
      "image/svg+xml": [
       "<?xml version=\"1.0\" encoding=\"UTF-8\" standalone=\"no\"?>\n",
       "<!DOCTYPE svg PUBLIC \"-//W3C//DTD SVG 1.1//EN\"\n",
       " \"http://www.w3.org/Graphics/SVG/1.1/DTD/svg11.dtd\">\n",
       "<!-- Generated by graphviz version 2.40.1 (20161225.0304)\n",
       " -->\n",
       "<!-- Title: %3 Pages: 1 -->\n",
       "<svg width=\"695pt\" height=\"471pt\"\n",
       " viewBox=\"0.00 0.00 695.00 471.28\" xmlns=\"http://www.w3.org/2000/svg\" xmlns:xlink=\"http://www.w3.org/1999/xlink\">\n",
       "<g id=\"graph0\" class=\"graph\" transform=\"scale(1 1) rotate(0) translate(4 467.2757)\">\n",
       "<title>%3</title>\n",
       "<polygon fill=\"#ffffff\" stroke=\"transparent\" points=\"-4,4 -4,-467.2757 691,-467.2757 691,4 -4,4\"/>\n",
       "<!-- 0 -->\n",
       "<g id=\"node1\" class=\"node\">\n",
       "<title>0</title>\n",
       "<ellipse fill=\"none\" stroke=\"#000000\" cx=\"255.5\" cy=\"-428.1788\" rx=\"35.194\" ry=\"35.194\"/>\n",
       "<text text-anchor=\"middle\" x=\"255.5\" y=\"-424.4788\" font-family=\"Times,serif\" font-size=\"14.00\" fill=\"#000000\">Pclass&lt;3</text>\n",
       "</g>\n",
       "<!-- 1 -->\n",
       "<g id=\"node2\" class=\"node\">\n",
       "<title>1</title>\n",
       "<ellipse fill=\"none\" stroke=\"#000000\" cx=\"168.5\" cy=\"-304.3852\" rx=\"37.8943\" ry=\"37.8943\"/>\n",
       "<text text-anchor=\"middle\" x=\"168.5\" y=\"-300.6852\" font-family=\"Times,serif\" font-size=\"14.00\" fill=\"#000000\">Age&lt;17.5</text>\n",
       "</g>\n",
       "<!-- 0&#45;&gt;1 -->\n",
       "<g id=\"edge1\" class=\"edge\">\n",
       "<title>0&#45;&gt;1</title>\n",
       "<path fill=\"none\" stroke=\"#0000ff\" d=\"M235.1024,-399.1547C223.5352,-382.6956 208.8978,-361.8678 196.2929,-343.9321\"/>\n",
       "<polygon fill=\"#0000ff\" stroke=\"#0000ff\" points=\"198.9042,-341.5606 190.2906,-335.3915 193.177,-345.5856 198.9042,-341.5606\"/>\n",
       "<text text-anchor=\"middle\" x=\"243.5\" y=\"-363.8819\" font-family=\"Times,serif\" font-size=\"14.00\" fill=\"#000000\">yes, missing</text>\n",
       "</g>\n",
       "<!-- 2 -->\n",
       "<g id=\"node3\" class=\"node\">\n",
       "<title>2</title>\n",
       "<ellipse fill=\"none\" stroke=\"#000000\" cx=\"344.5\" cy=\"-304.3852\" rx=\"34.394\" ry=\"34.394\"/>\n",
       "<text text-anchor=\"middle\" x=\"344.5\" y=\"-300.6852\" font-family=\"Times,serif\" font-size=\"14.00\" fill=\"#000000\">Age&lt;6.5</text>\n",
       "</g>\n",
       "<!-- 0&#45;&gt;2 -->\n",
       "<g id=\"edge2\" class=\"edge\">\n",
       "<title>0&#45;&gt;2</title>\n",
       "<path fill=\"none\" stroke=\"#ff0000\" d=\"M276.1421,-399.4669C288.6997,-382 304.8561,-359.5275 318.3087,-340.8158\"/>\n",
       "<polygon fill=\"#ff0000\" stroke=\"#ff0000\" points=\"321.2811,-342.6771 324.2767,-332.5146 315.5975,-338.591 321.2811,-342.6771\"/>\n",
       "<text text-anchor=\"middle\" x=\"309\" y=\"-363.8819\" font-family=\"Times,serif\" font-size=\"14.00\" fill=\"#000000\">no</text>\n",
       "</g>\n",
       "<!-- 3 -->\n",
       "<g id=\"node4\" class=\"node\">\n",
       "<title>3</title>\n",
       "<polygon fill=\"none\" stroke=\"#000000\" points=\"115,-169.3443 22,-169.3443 22,-133.3443 115,-133.3443 115,-169.3443\"/>\n",
       "<text text-anchor=\"middle\" x=\"68.5\" y=\"-147.6443\" font-family=\"Times,serif\" font-size=\"14.00\" fill=\"#000000\">leaf=0.148717955</text>\n",
       "</g>\n",
       "<!-- 1&#45;&gt;3 -->\n",
       "<g id=\"edge3\" class=\"edge\">\n",
       "<title>1&#45;&gt;3</title>\n",
       "<path fill=\"none\" stroke=\"#0000ff\" d=\"M147.7799,-272.6751C129.5618,-244.7938 103.3362,-204.6579 86.1119,-178.2977\"/>\n",
       "<polygon fill=\"#0000ff\" stroke=\"#0000ff\" points=\"88.8228,-176.0478 80.4227,-169.591 82.9628,-179.8768 88.8228,-176.0478\"/>\n",
       "<text text-anchor=\"middle\" x=\"137.5\" y=\"-237.4886\" font-family=\"Times,serif\" font-size=\"14.00\" fill=\"#000000\">yes</text>\n",
       "</g>\n",
       "<!-- 4 -->\n",
       "<g id=\"node5\" class=\"node\">\n",
       "<title>4</title>\n",
       "<ellipse fill=\"none\" stroke=\"#000000\" cx=\"168.5\" cy=\"-151.3443\" rx=\"35.194\" ry=\"35.194\"/>\n",
       "<text text-anchor=\"middle\" x=\"168.5\" y=\"-147.6443\" font-family=\"Times,serif\" font-size=\"14.00\" fill=\"#000000\">Pclass&lt;2</text>\n",
       "</g>\n",
       "<!-- 1&#45;&gt;4 -->\n",
       "<g id=\"edge4\" class=\"edge\">\n",
       "<title>1&#45;&gt;4</title>\n",
       "<path fill=\"none\" stroke=\"#ff0000\" d=\"M168.5,-266.5549C168.5,-245.4647 168.5,-219.0535 168.5,-196.8409\"/>\n",
       "<polygon fill=\"#ff0000\" stroke=\"#ff0000\" points=\"172.0001,-196.6411 168.5,-186.6411 165.0001,-196.6412 172.0001,-196.6411\"/>\n",
       "<text text-anchor=\"middle\" x=\"193\" y=\"-237.4886\" font-family=\"Times,serif\" font-size=\"14.00\" fill=\"#000000\">no, missing</text>\n",
       "</g>\n",
       "<!-- 5 -->\n",
       "<g id=\"node8\" class=\"node\">\n",
       "<title>5</title>\n",
       "<ellipse fill=\"none\" stroke=\"#000000\" cx=\"344.5\" cy=\"-151.3443\" rx=\"64.189\" ry=\"64.189\"/>\n",
       "<text text-anchor=\"middle\" x=\"344.5\" y=\"-147.6443\" font-family=\"Times,serif\" font-size=\"14.00\" fill=\"#000000\">boarded_from_C&lt;1</text>\n",
       "</g>\n",
       "<!-- 2&#45;&gt;5 -->\n",
       "<g id=\"edge7\" class=\"edge\">\n",
       "<title>2&#45;&gt;5</title>\n",
       "<path fill=\"none\" stroke=\"#0000ff\" d=\"M344.5,-269.6579C344.5,-256.5637 344.5,-241.1142 344.5,-225.7767\"/>\n",
       "<polygon fill=\"#0000ff\" stroke=\"#0000ff\" points=\"348.0001,-225.7398 344.5,-215.7398 341.0001,-225.7398 348.0001,-225.7398\"/>\n",
       "<text text-anchor=\"middle\" x=\"351.5\" y=\"-237.4886\" font-family=\"Times,serif\" font-size=\"14.00\" fill=\"#000000\">yes</text>\n",
       "</g>\n",
       "<!-- 6 -->\n",
       "<g id=\"node9\" class=\"node\">\n",
       "<title>6</title>\n",
       "<ellipse fill=\"none\" stroke=\"#000000\" cx=\"520.5\" cy=\"-151.3443\" rx=\"37.8943\" ry=\"37.8943\"/>\n",
       "<text text-anchor=\"middle\" x=\"520.5\" y=\"-147.6443\" font-family=\"Times,serif\" font-size=\"14.00\" fill=\"#000000\">Age&lt;32.5</text>\n",
       "</g>\n",
       "<!-- 2&#45;&gt;6 -->\n",
       "<g id=\"edge8\" class=\"edge\">\n",
       "<title>2&#45;&gt;6</title>\n",
       "<path fill=\"none\" stroke=\"#ff0000\" d=\"M370.849,-281.4735C400.9446,-255.3038 450.3733,-212.323 484.1261,-182.9732\"/>\n",
       "<polygon fill=\"#ff0000\" stroke=\"#ff0000\" points=\"486.6741,-185.3958 491.9236,-176.1929 482.0809,-180.1135 486.6741,-185.3958\"/>\n",
       "<text text-anchor=\"middle\" x=\"447\" y=\"-237.4886\" font-family=\"Times,serif\" font-size=\"14.00\" fill=\"#000000\">no, missing</text>\n",
       "</g>\n",
       "<!-- 7 -->\n",
       "<g id=\"node6\" class=\"node\">\n",
       "<title>7</title>\n",
       "<polygon fill=\"none\" stroke=\"#000000\" points=\"99,-36 0,-36 0,0 99,0 99,-36\"/>\n",
       "<text text-anchor=\"middle\" x=\"49.5\" y=\"-14.3\" font-family=\"Times,serif\" font-size=\"14.00\" fill=\"#000000\">leaf=0.0442307703</text>\n",
       "</g>\n",
       "<!-- 4&#45;&gt;7 -->\n",
       "<g id=\"edge5\" class=\"edge\">\n",
       "<title>4&#45;&gt;7</title>\n",
       "<path fill=\"none\" stroke=\"#0000ff\" d=\"M149.5799,-121.5483C141.9683,-110.3279 132.7981,-97.7019 123.5,-87 109.8913,-71.3367 93.0857,-55.4372 78.9311,-42.8545\"/>\n",
       "<polygon fill=\"#0000ff\" stroke=\"#0000ff\" points=\"81.2028,-40.1914 71.3773,-36.2279 76.5865,-45.4536 81.2028,-40.1914\"/>\n",
       "<text text-anchor=\"middle\" x=\"132.5\" y=\"-57.8\" font-family=\"Times,serif\" font-size=\"14.00\" fill=\"#000000\">yes, missing</text>\n",
       "</g>\n",
       "<!-- 8 -->\n",
       "<g id=\"node7\" class=\"node\">\n",
       "<title>8</title>\n",
       "<polygon fill=\"none\" stroke=\"#000000\" points=\"219.5,-36 117.5,-36 117.5,0 219.5,0 219.5,-36\"/>\n",
       "<text text-anchor=\"middle\" x=\"168.5\" y=\"-14.3\" font-family=\"Times,serif\" font-size=\"14.00\" fill=\"#000000\">leaf=&#45;0.0351515152</text>\n",
       "</g>\n",
       "<!-- 4&#45;&gt;8 -->\n",
       "<g id=\"edge6\" class=\"edge\">\n",
       "<title>4&#45;&gt;8</title>\n",
       "<path fill=\"none\" stroke=\"#ff0000\" d=\"M168.5,-115.9606C168.5,-94.2471 168.5,-66.8078 168.5,-46.497\"/>\n",
       "<polygon fill=\"#ff0000\" stroke=\"#ff0000\" points=\"172.0001,-46.3114 168.5,-36.3115 165.0001,-46.3115 172.0001,-46.3114\"/>\n",
       "<text text-anchor=\"middle\" x=\"174\" y=\"-57.8\" font-family=\"Times,serif\" font-size=\"14.00\" fill=\"#000000\">no</text>\n",
       "</g>\n",
       "<!-- 9 -->\n",
       "<g id=\"node10\" class=\"node\">\n",
       "<title>9</title>\n",
       "<polygon fill=\"none\" stroke=\"#000000\" points=\"339.5,-36 237.5,-36 237.5,0 339.5,0 339.5,-36\"/>\n",
       "<text text-anchor=\"middle\" x=\"288.5\" y=\"-14.3\" font-family=\"Times,serif\" font-size=\"14.00\" fill=\"#000000\">leaf=&#45;0.0142857153</text>\n",
       "</g>\n",
       "<!-- 5&#45;&gt;9 -->\n",
       "<g id=\"edge9\" class=\"edge\">\n",
       "<title>5&#45;&gt;9</title>\n",
       "<path fill=\"none\" stroke=\"#0000ff\" d=\"M319.4483,-91.6924C312.7184,-75.6676 305.7589,-59.0959 300.148,-45.7355\"/>\n",
       "<polygon fill=\"#0000ff\" stroke=\"#0000ff\" points=\"303.2454,-44.0716 296.1463,-36.2069 296.7914,-46.7821 303.2454,-44.0716\"/>\n",
       "<text text-anchor=\"middle\" x=\"336.5\" y=\"-57.8\" font-family=\"Times,serif\" font-size=\"14.00\" fill=\"#000000\">yes, missing</text>\n",
       "</g>\n",
       "<!-- 10 -->\n",
       "<g id=\"node11\" class=\"node\">\n",
       "<title>10</title>\n",
       "<polygon fill=\"none\" stroke=\"#000000\" points=\"451,-36 358,-36 358,0 451,0 451,-36\"/>\n",
       "<text text-anchor=\"middle\" x=\"404.5\" y=\"-14.3\" font-family=\"Times,serif\" font-size=\"14.00\" fill=\"#000000\">leaf=0.120000005</text>\n",
       "</g>\n",
       "<!-- 5&#45;&gt;10 -->\n",
       "<g id=\"edge10\" class=\"edge\">\n",
       "<title>5&#45;&gt;10</title>\n",
       "<path fill=\"none\" stroke=\"#ff0000\" d=\"M370.9915,-92.4694C378.3679,-76.0761 386.0311,-59.0453 392.1644,-45.4148\"/>\n",
       "<polygon fill=\"#ff0000\" stroke=\"#ff0000\" points=\"395.4223,-46.7038 396.334,-36.1482 389.0388,-43.8314 395.4223,-46.7038\"/>\n",
       "<text text-anchor=\"middle\" x=\"393\" y=\"-57.8\" font-family=\"Times,serif\" font-size=\"14.00\" fill=\"#000000\">no</text>\n",
       "</g>\n",
       "<!-- 11 -->\n",
       "<g id=\"node12\" class=\"node\">\n",
       "<title>11</title>\n",
       "<polygon fill=\"none\" stroke=\"#000000\" points=\"571.5,-36 469.5,-36 469.5,0 571.5,0 571.5,-36\"/>\n",
       "<text text-anchor=\"middle\" x=\"520.5\" y=\"-14.3\" font-family=\"Times,serif\" font-size=\"14.00\" fill=\"#000000\">leaf=&#45;0.0997389033</text>\n",
       "</g>\n",
       "<!-- 6&#45;&gt;11 -->\n",
       "<g id=\"edge11\" class=\"edge\">\n",
       "<title>6&#45;&gt;11</title>\n",
       "<path fill=\"none\" stroke=\"#0000ff\" d=\"M520.5,-113.4898C520.5,-92.181 520.5,-66.0089 520.5,-46.4568\"/>\n",
       "<polygon fill=\"#0000ff\" stroke=\"#0000ff\" points=\"524.0001,-46.3485 520.5,-36.3486 517.0001,-46.3486 524.0001,-46.3485\"/>\n",
       "<text text-anchor=\"middle\" x=\"546.5\" y=\"-57.8\" font-family=\"Times,serif\" font-size=\"14.00\" fill=\"#000000\">yes, missing</text>\n",
       "</g>\n",
       "<!-- 12 -->\n",
       "<g id=\"node13\" class=\"node\">\n",
       "<title>12</title>\n",
       "<polygon fill=\"none\" stroke=\"#000000\" points=\"687,-36 590,-36 590,0 687,0 687,-36\"/>\n",
       "<text text-anchor=\"middle\" x=\"638.5\" y=\"-14.3\" font-family=\"Times,serif\" font-size=\"14.00\" fill=\"#000000\">leaf=&#45;0.153488383</text>\n",
       "</g>\n",
       "<!-- 6&#45;&gt;12 -->\n",
       "<g id=\"edge12\" class=\"edge\">\n",
       "<title>6&#45;&gt;12</title>\n",
       "<path fill=\"none\" stroke=\"#ff0000\" d=\"M545.5248,-123.0654C566.3426,-99.5405 595.721,-66.3418 615.8503,-43.595\"/>\n",
       "<polygon fill=\"#ff0000\" stroke=\"#ff0000\" points=\"618.5493,-45.8264 622.5553,-36.0181 613.3072,-41.1874 618.5493,-45.8264\"/>\n",
       "<text text-anchor=\"middle\" x=\"609\" y=\"-57.8\" font-family=\"Times,serif\" font-size=\"14.00\" fill=\"#000000\">no</text>\n",
       "</g>\n",
       "</g>\n",
       "</svg>\n"
      ],
      "text/plain": [
       "<graphviz.dot.Digraph at 0x1a183d0978>"
      ]
     },
     "execution_count": 68,
     "metadata": {},
     "output_type": "execute_result"
    }
   ],
   "source": [
    "my_model = get_model_metrics_and_display(train_data,X_columns=X_columns)\n",
    "xgb.to_graphviz(my_model)\n"
   ]
  },
  {
   "cell_type": "markdown",
   "metadata": {},
   "source": [
    "Comments : As expected the performance has gone up considerably. The field boarded_from_C does not look to be helping much. Let us remove the same."
   ]
  },
  {
   "cell_type": "markdown",
   "metadata": {},
   "source": [
    "### Model 4: Age,Pclass as the only predictor"
   ]
  },
  {
   "cell_type": "code",
   "execution_count": 69,
   "metadata": {},
   "outputs": [],
   "source": [
    "X_columns = ['Age', 'Pclass']\n",
    "Y_columns = ['Survived']"
   ]
  },
  {
   "cell_type": "code",
   "execution_count": 70,
   "metadata": {},
   "outputs": [
    {
     "name": "stdout",
     "output_type": "stream",
     "text": [
      "Number of entries in training set is 668\n",
      "Number of correct predictions in training set is 481\n",
      "Number of entries in test set is 223\n",
      "Number of correct predictions in test set is 168\n",
      "Out of sample score is 0.7533632286995515\n",
      "Cross val score is 0.6947924790063931\n"
     ]
    },
    {
     "data": {
      "image/svg+xml": [
       "<?xml version=\"1.0\" encoding=\"UTF-8\" standalone=\"no\"?>\n",
       "<!DOCTYPE svg PUBLIC \"-//W3C//DTD SVG 1.1//EN\"\n",
       " \"http://www.w3.org/Graphics/SVG/1.1/DTD/svg11.dtd\">\n",
       "<!-- Generated by graphviz version 2.40.1 (20161225.0304)\n",
       " -->\n",
       "<!-- Title: %3 Pages: 1 -->\n",
       "<svg width=\"701pt\" height=\"418pt\"\n",
       " viewBox=\"0.00 0.00 701.00 417.98\" xmlns=\"http://www.w3.org/2000/svg\" xmlns:xlink=\"http://www.w3.org/1999/xlink\">\n",
       "<g id=\"graph0\" class=\"graph\" transform=\"scale(1 1) rotate(0) translate(4 413.9804)\">\n",
       "<title>%3</title>\n",
       "<polygon fill=\"#ffffff\" stroke=\"transparent\" points=\"-4,4 -4,-413.9804 697,-413.9804 697,4 -4,4\"/>\n",
       "<!-- 0 -->\n",
       "<g id=\"node1\" class=\"node\">\n",
       "<title>0</title>\n",
       "<ellipse fill=\"none\" stroke=\"#000000\" cx=\"227.5\" cy=\"-374.8835\" rx=\"35.194\" ry=\"35.194\"/>\n",
       "<text text-anchor=\"middle\" x=\"227.5\" y=\"-371.1835\" font-family=\"Times,serif\" font-size=\"14.00\" fill=\"#000000\">Pclass&lt;3</text>\n",
       "</g>\n",
       "<!-- 1 -->\n",
       "<g id=\"node2\" class=\"node\">\n",
       "<title>1</title>\n",
       "<ellipse fill=\"none\" stroke=\"#000000\" cx=\"168.5\" cy=\"-251.09\" rx=\"37.8943\" ry=\"37.8943\"/>\n",
       "<text text-anchor=\"middle\" x=\"168.5\" y=\"-247.39\" font-family=\"Times,serif\" font-size=\"14.00\" fill=\"#000000\">Age&lt;17.5</text>\n",
       "</g>\n",
       "<!-- 0&#45;&gt;1 -->\n",
       "<g id=\"edge1\" class=\"edge\">\n",
       "<title>0&#45;&gt;1</title>\n",
       "<path fill=\"none\" stroke=\"#0000ff\" d=\"M212.306,-343.0036C205.2848,-328.2717 196.837,-310.5466 189.2412,-294.6091\"/>\n",
       "<polygon fill=\"#0000ff\" stroke=\"#0000ff\" points=\"192.3465,-292.9894 184.8846,-285.468 186.0275,-296.001 192.3465,-292.9894\"/>\n",
       "<text text-anchor=\"middle\" x=\"228.5\" y=\"-310.5866\" font-family=\"Times,serif\" font-size=\"14.00\" fill=\"#000000\">yes, missing</text>\n",
       "</g>\n",
       "<!-- 2 -->\n",
       "<g id=\"node3\" class=\"node\">\n",
       "<title>2</title>\n",
       "<ellipse fill=\"none\" stroke=\"#000000\" cx=\"338.5\" cy=\"-251.09\" rx=\"34.394\" ry=\"34.394\"/>\n",
       "<text text-anchor=\"middle\" x=\"338.5\" y=\"-247.39\" font-family=\"Times,serif\" font-size=\"14.00\" fill=\"#000000\">Age&lt;6.5</text>\n",
       "</g>\n",
       "<!-- 0&#45;&gt;2 -->\n",
       "<g id=\"edge2\" class=\"edge\">\n",
       "<title>0&#45;&gt;2</title>\n",
       "<path fill=\"none\" stroke=\"#ff0000\" d=\"M251.0402,-348.6301C267.8563,-329.8759 290.6104,-304.4992 308.6943,-284.331\"/>\n",
       "<polygon fill=\"#ff0000\" stroke=\"#ff0000\" points=\"311.3043,-286.663 315.3743,-276.8811 306.0925,-281.9898 311.3043,-286.663\"/>\n",
       "<text text-anchor=\"middle\" x=\"292\" y=\"-310.5866\" font-family=\"Times,serif\" font-size=\"14.00\" fill=\"#000000\">no</text>\n",
       "</g>\n",
       "<!-- 3 -->\n",
       "<g id=\"node4\" class=\"node\">\n",
       "<title>3</title>\n",
       "<polygon fill=\"none\" stroke=\"#000000\" points=\"115,-142.6967 22,-142.6967 22,-106.6967 115,-106.6967 115,-142.6967\"/>\n",
       "<text text-anchor=\"middle\" x=\"68.5\" y=\"-120.9967\" font-family=\"Times,serif\" font-size=\"14.00\" fill=\"#000000\">leaf=0.148717955</text>\n",
       "</g>\n",
       "<!-- 1&#45;&gt;3 -->\n",
       "<g id=\"edge3\" class=\"edge\">\n",
       "<title>1&#45;&gt;3</title>\n",
       "<path fill=\"none\" stroke=\"#0000ff\" d=\"M145.0544,-221.4563C128.108,-200.0371 105.4283,-171.3716 89.1605,-150.8101\"/>\n",
       "<polygon fill=\"#0000ff\" stroke=\"#0000ff\" points=\"91.7829,-148.4838 82.8334,-142.8131 86.2933,-152.8271 91.7829,-148.4838\"/>\n",
       "<text text-anchor=\"middle\" x=\"128.5\" y=\"-184.1933\" font-family=\"Times,serif\" font-size=\"14.00\" fill=\"#000000\">yes</text>\n",
       "</g>\n",
       "<!-- 4 -->\n",
       "<g id=\"node5\" class=\"node\">\n",
       "<title>4</title>\n",
       "<ellipse fill=\"none\" stroke=\"#000000\" cx=\"168.5\" cy=\"-124.6967\" rx=\"35.194\" ry=\"35.194\"/>\n",
       "<text text-anchor=\"middle\" x=\"168.5\" y=\"-120.9967\" font-family=\"Times,serif\" font-size=\"14.00\" fill=\"#000000\">Pclass&lt;2</text>\n",
       "</g>\n",
       "<!-- 1&#45;&gt;4 -->\n",
       "<g id=\"edge4\" class=\"edge\">\n",
       "<title>1&#45;&gt;4</title>\n",
       "<path fill=\"none\" stroke=\"#ff0000\" d=\"M168.5,-213.1678C168.5,-199.5929 168.5,-184.1551 168.5,-170.0178\"/>\n",
       "<polygon fill=\"#ff0000\" stroke=\"#ff0000\" points=\"172.0001,-169.9987 168.5,-159.9988 165.0001,-169.9988 172.0001,-169.9987\"/>\n",
       "<text text-anchor=\"middle\" x=\"193\" y=\"-184.1933\" font-family=\"Times,serif\" font-size=\"14.00\" fill=\"#000000\">no, missing</text>\n",
       "</g>\n",
       "<!-- 5 -->\n",
       "<g id=\"node8\" class=\"node\">\n",
       "<title>5</title>\n",
       "<ellipse fill=\"none\" stroke=\"#000000\" cx=\"338.5\" cy=\"-124.6967\" rx=\"34.394\" ry=\"34.394\"/>\n",
       "<text text-anchor=\"middle\" x=\"338.5\" y=\"-120.9967\" font-family=\"Times,serif\" font-size=\"14.00\" fill=\"#000000\">Age&lt;2.5</text>\n",
       "</g>\n",
       "<!-- 2&#45;&gt;5 -->\n",
       "<g id=\"edge7\" class=\"edge\">\n",
       "<title>2&#45;&gt;5</title>\n",
       "<path fill=\"none\" stroke=\"#0000ff\" d=\"M338.5,-216.5524C338.5,-202.0621 338.5,-185.0214 338.5,-169.5779\"/>\n",
       "<polygon fill=\"#0000ff\" stroke=\"#0000ff\" points=\"342.0001,-169.1924 338.5,-159.1924 335.0001,-169.1925 342.0001,-169.1924\"/>\n",
       "<text text-anchor=\"middle\" x=\"345.5\" y=\"-184.1933\" font-family=\"Times,serif\" font-size=\"14.00\" fill=\"#000000\">yes</text>\n",
       "</g>\n",
       "<!-- 6 -->\n",
       "<g id=\"node9\" class=\"node\">\n",
       "<title>6</title>\n",
       "<ellipse fill=\"none\" stroke=\"#000000\" cx=\"526.5\" cy=\"-124.6967\" rx=\"37.8943\" ry=\"37.8943\"/>\n",
       "<text text-anchor=\"middle\" x=\"526.5\" y=\"-120.9967\" font-family=\"Times,serif\" font-size=\"14.00\" fill=\"#000000\">Age&lt;32.5</text>\n",
       "</g>\n",
       "<!-- 2&#45;&gt;6 -->\n",
       "<g id=\"edge8\" class=\"edge\">\n",
       "<title>2&#45;&gt;6</title>\n",
       "<path fill=\"none\" stroke=\"#ff0000\" d=\"M367.463,-231.618C399.272,-210.2327 450.5697,-175.745 486.2728,-151.7416\"/>\n",
       "<polygon fill=\"#ff0000\" stroke=\"#ff0000\" points=\"488.6464,-154.3633 494.9925,-145.8793 484.7408,-148.5541 488.6464,-154.3633\"/>\n",
       "<text text-anchor=\"middle\" x=\"463\" y=\"-184.1933\" font-family=\"Times,serif\" font-size=\"14.00\" fill=\"#000000\">no, missing</text>\n",
       "</g>\n",
       "<!-- 7 -->\n",
       "<g id=\"node6\" class=\"node\">\n",
       "<title>7</title>\n",
       "<polygon fill=\"none\" stroke=\"#000000\" points=\"99,-36 0,-36 0,0 99,0 99,-36\"/>\n",
       "<text text-anchor=\"middle\" x=\"49.5\" y=\"-14.3\" font-family=\"Times,serif\" font-size=\"14.00\" fill=\"#000000\">leaf=0.0442307703</text>\n",
       "</g>\n",
       "<!-- 4&#45;&gt;7 -->\n",
       "<g id=\"edge5\" class=\"edge\">\n",
       "<title>4&#45;&gt;7</title>\n",
       "<path fill=\"none\" stroke=\"#0000ff\" d=\"M142.09,-101.0172C122.9523,-83.8581 97.1177,-60.6945 77.6005,-43.1952\"/>\n",
       "<polygon fill=\"#0000ff\" stroke=\"#0000ff\" points=\"79.7092,-40.3851 69.9272,-36.3153 75.0362,-45.5969 79.7092,-40.3851\"/>\n",
       "<text text-anchor=\"middle\" x=\"131.5\" y=\"-57.8\" font-family=\"Times,serif\" font-size=\"14.00\" fill=\"#000000\">yes, missing</text>\n",
       "</g>\n",
       "<!-- 8 -->\n",
       "<g id=\"node7\" class=\"node\">\n",
       "<title>8</title>\n",
       "<polygon fill=\"none\" stroke=\"#000000\" points=\"219.5,-36 117.5,-36 117.5,0 219.5,0 219.5,-36\"/>\n",
       "<text text-anchor=\"middle\" x=\"168.5\" y=\"-14.3\" font-family=\"Times,serif\" font-size=\"14.00\" fill=\"#000000\">leaf=&#45;0.0351515152</text>\n",
       "</g>\n",
       "<!-- 4&#45;&gt;8 -->\n",
       "<g id=\"edge6\" class=\"edge\">\n",
       "<title>4&#45;&gt;8</title>\n",
       "<path fill=\"none\" stroke=\"#ff0000\" d=\"M168.5,-89.4645C168.5,-75.5225 168.5,-59.7073 168.5,-46.5054\"/>\n",
       "<polygon fill=\"#ff0000\" stroke=\"#ff0000\" points=\"172.0001,-46.1289 168.5,-36.1289 165.0001,-46.1289 172.0001,-46.1289\"/>\n",
       "<text text-anchor=\"middle\" x=\"174\" y=\"-57.8\" font-family=\"Times,serif\" font-size=\"14.00\" fill=\"#000000\">no</text>\n",
       "</g>\n",
       "<!-- 9 -->\n",
       "<g id=\"node10\" class=\"node\">\n",
       "<title>9</title>\n",
       "<polygon fill=\"none\" stroke=\"#000000\" points=\"339.5,-36 237.5,-36 237.5,0 339.5,0 339.5,-36\"/>\n",
       "<text text-anchor=\"middle\" x=\"288.5\" y=\"-14.3\" font-family=\"Times,serif\" font-size=\"14.00\" fill=\"#000000\">leaf=&#45;0.0105263162</text>\n",
       "</g>\n",
       "<!-- 5&#45;&gt;9 -->\n",
       "<g id=\"edge9\" class=\"edge\">\n",
       "<title>5&#45;&gt;9</title>\n",
       "<path fill=\"none\" stroke=\"#0000ff\" d=\"M323.7688,-93.2612C316.7005,-78.1779 308.3066,-60.266 301.4812,-45.701\"/>\n",
       "<polygon fill=\"#0000ff\" stroke=\"#0000ff\" points=\"304.4547,-43.798 297.042,-36.2281 298.1162,-46.7684 304.4547,-43.798\"/>\n",
       "<text text-anchor=\"middle\" x=\"319.5\" y=\"-57.8\" font-family=\"Times,serif\" font-size=\"14.00\" fill=\"#000000\">yes</text>\n",
       "</g>\n",
       "<!-- 10 -->\n",
       "<g id=\"node11\" class=\"node\">\n",
       "<title>10</title>\n",
       "<polygon fill=\"none\" stroke=\"#000000\" points=\"457,-36 358,-36 358,0 457,0 457,-36\"/>\n",
       "<text text-anchor=\"middle\" x=\"407.5\" y=\"-14.3\" font-family=\"Times,serif\" font-size=\"14.00\" fill=\"#000000\">leaf=0.0526315831</text>\n",
       "</g>\n",
       "<!-- 5&#45;&gt;10 -->\n",
       "<g id=\"edge10\" class=\"edge\">\n",
       "<title>5&#45;&gt;10</title>\n",
       "<path fill=\"none\" stroke=\"#ff0000\" d=\"M357.3546,-95.5413C367.628,-79.6552 380.2497,-60.138 390.26,-44.6588\"/>\n",
       "<polygon fill=\"#ff0000\" stroke=\"#ff0000\" points=\"393.3232,-46.3672 395.8146,-36.0694 387.4452,-42.5659 393.3232,-46.3672\"/>\n",
       "<text text-anchor=\"middle\" x=\"408\" y=\"-57.8\" font-family=\"Times,serif\" font-size=\"14.00\" fill=\"#000000\">no, missing</text>\n",
       "</g>\n",
       "<!-- 11 -->\n",
       "<g id=\"node12\" class=\"node\">\n",
       "<title>11</title>\n",
       "<polygon fill=\"none\" stroke=\"#000000\" points=\"577.5,-36 475.5,-36 475.5,0 577.5,0 577.5,-36\"/>\n",
       "<text text-anchor=\"middle\" x=\"526.5\" y=\"-14.3\" font-family=\"Times,serif\" font-size=\"14.00\" fill=\"#000000\">leaf=&#45;0.0997389033</text>\n",
       "</g>\n",
       "<!-- 6&#45;&gt;11 -->\n",
       "<g id=\"edge11\" class=\"edge\">\n",
       "<title>6&#45;&gt;11</title>\n",
       "<path fill=\"none\" stroke=\"#0000ff\" d=\"M526.5,-86.779C526.5,-73.4367 526.5,-58.6856 526.5,-46.2768\"/>\n",
       "<polygon fill=\"#0000ff\" stroke=\"#0000ff\" points=\"530.0001,-46.0694 526.5,-36.0694 523.0001,-46.0695 530.0001,-46.0694\"/>\n",
       "<text text-anchor=\"middle\" x=\"552.5\" y=\"-57.8\" font-family=\"Times,serif\" font-size=\"14.00\" fill=\"#000000\">yes, missing</text>\n",
       "</g>\n",
       "<!-- 12 -->\n",
       "<g id=\"node13\" class=\"node\">\n",
       "<title>12</title>\n",
       "<polygon fill=\"none\" stroke=\"#000000\" points=\"693,-36 596,-36 596,0 693,0 693,-36\"/>\n",
       "<text text-anchor=\"middle\" x=\"644.5\" y=\"-14.3\" font-family=\"Times,serif\" font-size=\"14.00\" fill=\"#000000\">leaf=&#45;0.153488383</text>\n",
       "</g>\n",
       "<!-- 6&#45;&gt;12 -->\n",
       "<g id=\"edge12\" class=\"edge\">\n",
       "<title>6&#45;&gt;12</title>\n",
       "<path fill=\"none\" stroke=\"#ff0000\" d=\"M554.4644,-99.411C573.3086,-82.3719 598.0578,-59.9935 616.8383,-43.0119\"/>\n",
       "<polygon fill=\"#ff0000\" stroke=\"#ff0000\" points=\"619.4171,-45.3989 624.4871,-36.0959 614.7222,-40.2067 619.4171,-45.3989\"/>\n",
       "<text text-anchor=\"middle\" x=\"608\" y=\"-57.8\" font-family=\"Times,serif\" font-size=\"14.00\" fill=\"#000000\">no</text>\n",
       "</g>\n",
       "</g>\n",
       "</svg>\n"
      ],
      "text/plain": [
       "<graphviz.dot.Digraph at 0x1a183b7550>"
      ]
     },
     "execution_count": 70,
     "metadata": {},
     "output_type": "execute_result"
    }
   ],
   "source": [
    "my_model = get_model_metrics_and_display(train_data,X_columns=X_columns)\n",
    "xgb.to_graphviz(my_model)\n"
   ]
  },
  {
   "cell_type": "markdown",
   "metadata": {},
   "source": [
    "Comments : As expected, we do not look to be gaining much from the boarding variable. Let us add Fare and see how it looks."
   ]
  },
  {
   "cell_type": "markdown",
   "metadata": {},
   "source": [
    "### Model 5: Age,Pclass,Fare as the only predictor"
   ]
  },
  {
   "cell_type": "code",
   "execution_count": 71,
   "metadata": {},
   "outputs": [],
   "source": [
    "X_columns = ['Age', 'Pclass', 'Fare']\n",
    "Y_columns = ['Survived']"
   ]
  },
  {
   "cell_type": "code",
   "execution_count": 72,
   "metadata": {},
   "outputs": [
    {
     "name": "stdout",
     "output_type": "stream",
     "text": [
      "Number of entries in training set is 668\n",
      "Number of correct predictions in training set is 517\n",
      "Number of entries in test set is 223\n",
      "Number of correct predictions in test set is 170\n",
      "Out of sample score is 0.7623318385650224\n",
      "Cross val score is 0.7128650142723546\n"
     ]
    },
    {
     "data": {
      "image/svg+xml": [
       "<?xml version=\"1.0\" encoding=\"UTF-8\" standalone=\"no\"?>\n",
       "<!DOCTYPE svg PUBLIC \"-//W3C//DTD SVG 1.1//EN\"\n",
       " \"http://www.w3.org/Graphics/SVG/1.1/DTD/svg11.dtd\">\n",
       "<!-- Generated by graphviz version 2.40.1 (20161225.0304)\n",
       " -->\n",
       "<!-- Title: %3 Pages: 1 -->\n",
       "<svg width=\"935pt\" height=\"504pt\"\n",
       " viewBox=\"0.00 0.00 935.00 503.77\" xmlns=\"http://www.w3.org/2000/svg\" xmlns:xlink=\"http://www.w3.org/1999/xlink\">\n",
       "<g id=\"graph0\" class=\"graph\" transform=\"scale(1 1) rotate(0) translate(4 499.7728)\">\n",
       "<title>%3</title>\n",
       "<polygon fill=\"#ffffff\" stroke=\"transparent\" points=\"-4,4 -4,-499.7728 931,-499.7728 931,4 -4,4\"/>\n",
       "<!-- 0 -->\n",
       "<g id=\"node1\" class=\"node\">\n",
       "<title>0</title>\n",
       "<ellipse fill=\"none\" stroke=\"#000000\" cx=\"423.5\" cy=\"-460.6759\" rx=\"35.194\" ry=\"35.194\"/>\n",
       "<text text-anchor=\"middle\" x=\"423.5\" y=\"-456.9759\" font-family=\"Times,serif\" font-size=\"14.00\" fill=\"#000000\">Pclass&lt;3</text>\n",
       "</g>\n",
       "<!-- 1 -->\n",
       "<g id=\"node2\" class=\"node\">\n",
       "<title>1</title>\n",
       "<ellipse fill=\"none\" stroke=\"#000000\" cx=\"365.5\" cy=\"-315.4343\" rx=\"59.2899\" ry=\"59.2899\"/>\n",
       "<text text-anchor=\"middle\" x=\"365.5\" y=\"-311.7343\" font-family=\"Times,serif\" font-size=\"14.00\" fill=\"#000000\">Fare&lt;13.6458502</text>\n",
       "</g>\n",
       "<!-- 0&#45;&gt;1 -->\n",
       "<g id=\"edge1\" class=\"edge\">\n",
       "<title>0&#45;&gt;1</title>\n",
       "<path fill=\"none\" stroke=\"#0000ff\" d=\"M407.9265,-428.8894C404.6843,-421.9232 401.3803,-414.5469 398.5,-407.579 395.0201,-399.1604 391.5504,-390.2269 388.2394,-381.3633\"/>\n",
       "<polygon fill=\"#0000ff\" stroke=\"#0000ff\" points=\"391.4575,-379.9736 384.7159,-371.8004 384.8892,-382.3938 391.4575,-379.9736\"/>\n",
       "<text text-anchor=\"middle\" x=\"424.5\" y=\"-396.379\" font-family=\"Times,serif\" font-size=\"14.00\" fill=\"#000000\">yes, missing</text>\n",
       "</g>\n",
       "<!-- 2 -->\n",
       "<g id=\"node3\" class=\"node\">\n",
       "<title>2</title>\n",
       "<ellipse fill=\"none\" stroke=\"#000000\" cx=\"574.5\" cy=\"-315.4343\" rx=\"34.394\" ry=\"34.394\"/>\n",
       "<text text-anchor=\"middle\" x=\"574.5\" y=\"-311.7343\" font-family=\"Times,serif\" font-size=\"14.00\" fill=\"#000000\">Age&lt;6.5</text>\n",
       "</g>\n",
       "<!-- 0&#45;&gt;2 -->\n",
       "<g id=\"edge2\" class=\"edge\">\n",
       "<title>0&#45;&gt;2</title>\n",
       "<path fill=\"none\" stroke=\"#ff0000\" d=\"M449.1151,-436.0376C474.7266,-411.4028 514.2006,-373.4341 542.0029,-346.6921\"/>\n",
       "<polygon fill=\"#ff0000\" stroke=\"#ff0000\" points=\"544.733,-348.9224 549.5138,-339.4676 539.8803,-343.8774 544.733,-348.9224\"/>\n",
       "<text text-anchor=\"middle\" x=\"496\" y=\"-396.379\" font-family=\"Times,serif\" font-size=\"14.00\" fill=\"#000000\">no</text>\n",
       "</g>\n",
       "<!-- 3 -->\n",
       "<g id=\"node4\" class=\"node\">\n",
       "<title>3</title>\n",
       "<ellipse fill=\"none\" stroke=\"#000000\" cx=\"166.5\" cy=\"-146.1448\" rx=\"38.1938\" ry=\"38.1938\"/>\n",
       "<text text-anchor=\"middle\" x=\"166.5\" y=\"-142.4448\" font-family=\"Times,serif\" font-size=\"14.00\" fill=\"#000000\">Fare&lt;7.75</text>\n",
       "</g>\n",
       "<!-- 1&#45;&gt;3 -->\n",
       "<g id=\"edge3\" class=\"edge\">\n",
       "<title>1&#45;&gt;3</title>\n",
       "<path fill=\"none\" stroke=\"#0000ff\" d=\"M320.3438,-277.0198C284.9914,-246.9455 236.436,-205.6394 203.3941,-177.5306\"/>\n",
       "<polygon fill=\"#0000ff\" stroke=\"#0000ff\" points=\"205.6459,-174.851 195.7612,-171.0373 201.1101,-180.1828 205.6459,-174.851\"/>\n",
       "<text text-anchor=\"middle\" x=\"298.5\" y=\"-227.0895\" font-family=\"Times,serif\" font-size=\"14.00\" fill=\"#000000\">yes, missing</text>\n",
       "</g>\n",
       "<!-- 4 -->\n",
       "<g id=\"node5\" class=\"node\">\n",
       "<title>4</title>\n",
       "<ellipse fill=\"none\" stroke=\"#000000\" cx=\"365.5\" cy=\"-146.1448\" rx=\"37.8943\" ry=\"37.8943\"/>\n",
       "<text text-anchor=\"middle\" x=\"365.5\" y=\"-142.4448\" font-family=\"Times,serif\" font-size=\"14.00\" fill=\"#000000\">Age&lt;42.5</text>\n",
       "</g>\n",
       "<!-- 1&#45;&gt;4 -->\n",
       "<g id=\"edge4\" class=\"edge\">\n",
       "<title>1&#45;&gt;4</title>\n",
       "<path fill=\"none\" stroke=\"#ff0000\" d=\"M365.5,-256.225C365.5,-235.8578 365.5,-213.3245 365.5,-193.9778\"/>\n",
       "<polygon fill=\"#ff0000\" stroke=\"#ff0000\" points=\"369.0001,-193.8864 365.5,-183.8864 362.0001,-193.8865 369.0001,-193.8864\"/>\n",
       "<text text-anchor=\"middle\" x=\"371\" y=\"-227.0895\" font-family=\"Times,serif\" font-size=\"14.00\" fill=\"#000000\">no</text>\n",
       "</g>\n",
       "<!-- 5 -->\n",
       "<g id=\"node10\" class=\"node\">\n",
       "<title>5</title>\n",
       "<ellipse fill=\"none\" stroke=\"#000000\" cx=\"574.5\" cy=\"-146.1448\" rx=\"59.2899\" ry=\"59.2899\"/>\n",
       "<text text-anchor=\"middle\" x=\"574.5\" y=\"-142.4448\" font-family=\"Times,serif\" font-size=\"14.00\" fill=\"#000000\">Fare&lt;20.8250008</text>\n",
       "</g>\n",
       "<!-- 2&#45;&gt;5 -->\n",
       "<g id=\"edge9\" class=\"edge\">\n",
       "<title>2&#45;&gt;5</title>\n",
       "<path fill=\"none\" stroke=\"#0000ff\" d=\"M574.5,-280.7675C574.5,-261.9769 574.5,-238.0668 574.5,-215.6265\"/>\n",
       "<polygon fill=\"#0000ff\" stroke=\"#0000ff\" points=\"578.0001,-215.4431 574.5,-205.4432 571.0001,-215.4432 578.0001,-215.4431\"/>\n",
       "<text text-anchor=\"middle\" x=\"581.5\" y=\"-227.0895\" font-family=\"Times,serif\" font-size=\"14.00\" fill=\"#000000\">yes</text>\n",
       "</g>\n",
       "<!-- 6 -->\n",
       "<g id=\"node11\" class=\"node\">\n",
       "<title>6</title>\n",
       "<ellipse fill=\"none\" stroke=\"#000000\" cx=\"760.5\" cy=\"-146.1448\" rx=\"37.8943\" ry=\"37.8943\"/>\n",
       "<text text-anchor=\"middle\" x=\"760.5\" y=\"-142.4448\" font-family=\"Times,serif\" font-size=\"14.00\" fill=\"#000000\">Age&lt;32.5</text>\n",
       "</g>\n",
       "<!-- 2&#45;&gt;6 -->\n",
       "<g id=\"edge10\" class=\"edge\">\n",
       "<title>2&#45;&gt;6</title>\n",
       "<path fill=\"none\" stroke=\"#ff0000\" d=\"M600.3625,-291.8953C632.793,-262.3784 688.5462,-211.6341 724.9648,-178.4874\"/>\n",
       "<polygon fill=\"#ff0000\" stroke=\"#ff0000\" points=\"727.3877,-181.0148 732.4273,-171.6953 722.6759,-175.838 727.3877,-181.0148\"/>\n",
       "<text text-anchor=\"middle\" x=\"698\" y=\"-227.0895\" font-family=\"Times,serif\" font-size=\"14.00\" fill=\"#000000\">no, missing</text>\n",
       "</g>\n",
       "<!-- 7 -->\n",
       "<g id=\"node6\" class=\"node\">\n",
       "<title>7</title>\n",
       "<polygon fill=\"none\" stroke=\"#000000\" points=\"97,-36 0,-36 0,0 97,0 97,-36\"/>\n",
       "<text text-anchor=\"middle\" x=\"48.5\" y=\"-14.3\" font-family=\"Times,serif\" font-size=\"14.00\" fill=\"#000000\">leaf=&#45;0.150000006</text>\n",
       "</g>\n",
       "<!-- 3&#45;&gt;7 -->\n",
       "<g id=\"edge5\" class=\"edge\">\n",
       "<title>3&#45;&gt;7</title>\n",
       "<path fill=\"none\" stroke=\"#0000ff\" d=\"M140.312,-117.7053C119.8726,-95.5086 91.7297,-64.9463 72.0075,-43.5286\"/>\n",
       "<polygon fill=\"#0000ff\" stroke=\"#0000ff\" points=\"74.501,-41.0694 65.1523,-36.084 69.3516,-45.8111 74.501,-41.0694\"/>\n",
       "<text text-anchor=\"middle\" x=\"119.5\" y=\"-57.8\" font-family=\"Times,serif\" font-size=\"14.00\" fill=\"#000000\">yes, missing</text>\n",
       "</g>\n",
       "<!-- 8 -->\n",
       "<g id=\"node7\" class=\"node\">\n",
       "<title>8</title>\n",
       "<polygon fill=\"none\" stroke=\"#000000\" points=\"217.5,-36 115.5,-36 115.5,0 217.5,0 217.5,-36\"/>\n",
       "<text text-anchor=\"middle\" x=\"166.5\" y=\"-14.3\" font-family=\"Times,serif\" font-size=\"14.00\" fill=\"#000000\">leaf=&#45;0.0511627905</text>\n",
       "</g>\n",
       "<!-- 3&#45;&gt;8 -->\n",
       "<g id=\"edge6\" class=\"edge\">\n",
       "<title>3&#45;&gt;8</title>\n",
       "<path fill=\"none\" stroke=\"#ff0000\" d=\"M166.5,-107.6971C166.5,-87.9458 166.5,-64.305 166.5,-46.2533\"/>\n",
       "<polygon fill=\"#ff0000\" stroke=\"#ff0000\" points=\"170.0001,-46.0818 166.5,-36.0819 163.0001,-46.0819 170.0001,-46.0818\"/>\n",
       "<text text-anchor=\"middle\" x=\"172\" y=\"-57.8\" font-family=\"Times,serif\" font-size=\"14.00\" fill=\"#000000\">no</text>\n",
       "</g>\n",
       "<!-- 9 -->\n",
       "<g id=\"node8\" class=\"node\">\n",
       "<title>9</title>\n",
       "<polygon fill=\"none\" stroke=\"#000000\" points=\"335,-36 236,-36 236,0 335,0 335,-36\"/>\n",
       "<text text-anchor=\"middle\" x=\"285.5\" y=\"-14.3\" font-family=\"Times,serif\" font-size=\"14.00\" fill=\"#000000\">leaf=0.0865979418</text>\n",
       "</g>\n",
       "<!-- 4&#45;&gt;9 -->\n",
       "<g id=\"edge7\" class=\"edge\">\n",
       "<title>4&#45;&gt;9</title>\n",
       "<path fill=\"none\" stroke=\"#0000ff\" d=\"M345.519,-114.139C332.1946,-92.7959 314.8773,-65.0568 302.2708,-44.8635\"/>\n",
       "<polygon fill=\"#0000ff\" stroke=\"#0000ff\" points=\"305.106,-42.7958 296.8413,-36.1666 299.1681,-46.5028 305.106,-42.7958\"/>\n",
       "<text text-anchor=\"middle\" x=\"323.5\" y=\"-57.8\" font-family=\"Times,serif\" font-size=\"14.00\" fill=\"#000000\">yes</text>\n",
       "</g>\n",
       "<!-- 10 -->\n",
       "<g id=\"node9\" class=\"node\">\n",
       "<title>10</title>\n",
       "<polygon fill=\"none\" stroke=\"#000000\" points=\"460,-36 353,-36 353,0 460,0 460,-36\"/>\n",
       "<text text-anchor=\"middle\" x=\"406.5\" y=\"-14.3\" font-family=\"Times,serif\" font-size=\"14.00\" fill=\"#000000\">leaf=&#45;0.00666666729</text>\n",
       "</g>\n",
       "<!-- 4&#45;&gt;10 -->\n",
       "<g id=\"edge8\" class=\"edge\">\n",
       "<title>4&#45;&gt;10</title>\n",
       "<path fill=\"none\" stroke=\"#ff0000\" d=\"M377.0299,-110.1083C383.5448,-89.7461 391.5653,-64.6783 397.5933,-45.8377\"/>\n",
       "<polygon fill=\"#ff0000\" stroke=\"#ff0000\" points=\"401.0012,-46.6718 400.715,-36.0808 394.3341,-44.5386 401.0012,-46.6718\"/>\n",
       "<text text-anchor=\"middle\" x=\"419\" y=\"-57.8\" font-family=\"Times,serif\" font-size=\"14.00\" fill=\"#000000\">no, missing</text>\n",
       "</g>\n",
       "<!-- 11 -->\n",
       "<g id=\"node12\" class=\"node\">\n",
       "<title>11</title>\n",
       "<polygon fill=\"none\" stroke=\"#000000\" points=\"571,-36 478,-36 478,0 571,0 571,-36\"/>\n",
       "<text text-anchor=\"middle\" x=\"524.5\" y=\"-14.3\" font-family=\"Times,serif\" font-size=\"14.00\" fill=\"#000000\">leaf=0.136842117</text>\n",
       "</g>\n",
       "<!-- 5&#45;&gt;11 -->\n",
       "<g id=\"edge11\" class=\"edge\">\n",
       "<title>5&#45;&gt;11</title>\n",
       "<path fill=\"none\" stroke=\"#0000ff\" d=\"M552.8601,-90.6839C546.7609,-75.0523 540.3899,-58.7242 535.2351,-45.5129\"/>\n",
       "<polygon fill=\"#0000ff\" stroke=\"#0000ff\" points=\"538.4504,-44.1245 531.5548,-36.0808 531.9293,-46.669 538.4504,-44.1245\"/>\n",
       "<text text-anchor=\"middle\" x=\"570.5\" y=\"-57.8\" font-family=\"Times,serif\" font-size=\"14.00\" fill=\"#000000\">yes, missing</text>\n",
       "</g>\n",
       "<!-- 12 -->\n",
       "<g id=\"node13\" class=\"node\">\n",
       "<title>12</title>\n",
       "<polygon fill=\"none\" stroke=\"#000000\" points=\"691.5,-36 589.5,-36 589.5,0 691.5,0 691.5,-36\"/>\n",
       "<text text-anchor=\"middle\" x=\"640.5\" y=\"-14.3\" font-family=\"Times,serif\" font-size=\"14.00\" fill=\"#000000\">leaf=&#45;0.0947368443</text>\n",
       "</g>\n",
       "<!-- 5&#45;&gt;12 -->\n",
       "<g id=\"edge12\" class=\"edge\">\n",
       "<title>5&#45;&gt;12</title>\n",
       "<path fill=\"none\" stroke=\"#ff0000\" d=\"M601.7258,-93.2835C610.2079,-76.8147 619.2154,-59.326 626.4116,-45.3538\"/>\n",
       "<polygon fill=\"#ff0000\" stroke=\"#ff0000\" points=\"629.6083,-46.7911 631.0756,-36.2983 623.3852,-43.5859 629.6083,-46.7911\"/>\n",
       "<text text-anchor=\"middle\" x=\"627\" y=\"-57.8\" font-family=\"Times,serif\" font-size=\"14.00\" fill=\"#000000\">no</text>\n",
       "</g>\n",
       "<!-- 13 -->\n",
       "<g id=\"node14\" class=\"node\">\n",
       "<title>13</title>\n",
       "<polygon fill=\"none\" stroke=\"#000000\" points=\"811.5,-36 709.5,-36 709.5,0 811.5,0 811.5,-36\"/>\n",
       "<text text-anchor=\"middle\" x=\"760.5\" y=\"-14.3\" font-family=\"Times,serif\" font-size=\"14.00\" fill=\"#000000\">leaf=&#45;0.0997389033</text>\n",
       "</g>\n",
       "<!-- 6&#45;&gt;13 -->\n",
       "<g id=\"edge13\" class=\"edge\">\n",
       "<title>6&#45;&gt;13</title>\n",
       "<path fill=\"none\" stroke=\"#0000ff\" d=\"M760.5,-108.3902C760.5,-88.518 760.5,-64.5577 760.5,-46.3002\"/>\n",
       "<polygon fill=\"#0000ff\" stroke=\"#0000ff\" points=\"764.0001,-46.2834 760.5,-36.2834 757.0001,-46.2835 764.0001,-46.2834\"/>\n",
       "<text text-anchor=\"middle\" x=\"786.5\" y=\"-57.8\" font-family=\"Times,serif\" font-size=\"14.00\" fill=\"#000000\">yes, missing</text>\n",
       "</g>\n",
       "<!-- 14 -->\n",
       "<g id=\"node15\" class=\"node\">\n",
       "<title>14</title>\n",
       "<polygon fill=\"none\" stroke=\"#000000\" points=\"927,-36 830,-36 830,0 927,0 927,-36\"/>\n",
       "<text text-anchor=\"middle\" x=\"878.5\" y=\"-14.3\" font-family=\"Times,serif\" font-size=\"14.00\" fill=\"#000000\">leaf=&#45;0.153488383</text>\n",
       "</g>\n",
       "<!-- 6&#45;&gt;14 -->\n",
       "<g id=\"edge14\" class=\"edge\">\n",
       "<title>6&#45;&gt;14</title>\n",
       "<path fill=\"none\" stroke=\"#ff0000\" d=\"M786.1042,-118.3392C806.509,-96.1803 834.8597,-65.3921 854.7591,-43.782\"/>\n",
       "<polygon fill=\"#ff0000\" stroke=\"#ff0000\" points=\"857.4785,-45.9957 861.6777,-36.2685 852.3291,-41.2539 857.4785,-45.9957\"/>\n",
       "<text text-anchor=\"middle\" x=\"849\" y=\"-57.8\" font-family=\"Times,serif\" font-size=\"14.00\" fill=\"#000000\">no</text>\n",
       "</g>\n",
       "</g>\n",
       "</svg>\n"
      ],
      "text/plain": [
       "<graphviz.dot.Digraph at 0x1a18151780>"
      ]
     },
     "execution_count": 72,
     "metadata": {},
     "output_type": "execute_result"
    }
   ],
   "source": [
    "my_model = get_model_metrics_and_display(train_data,X_columns=X_columns)\n",
    "xgb.to_graphviz(my_model)\n"
   ]
  },
  {
   "cell_type": "markdown",
   "metadata": {},
   "source": [
    "Comments : There is non trivial improvement in the cross validation score and hence we decide to keep fare variable.\n",
    "\n",
    "Now, let us try to make sense of sibling and parch variables. Since, these roughly correspond to number of family members, let us try adding sum of these as another variable."
   ]
  },
  {
   "cell_type": "markdown",
   "metadata": {},
   "source": [
    "### Model 6: Age,Pclass,Fare,SibSp + Parch as the only predictor"
   ]
  },
  {
   "cell_type": "code",
   "execution_count": 73,
   "metadata": {},
   "outputs": [],
   "source": [
    "train_data['FamilyNum'] = train_data['SibSp'] + train_data['Parch']"
   ]
  },
  {
   "cell_type": "code",
   "execution_count": 74,
   "metadata": {},
   "outputs": [],
   "source": [
    "X_columns = ['Age', 'Pclass', 'Fare', 'FamilyNum']\n",
    "Y_columns = ['Survived']"
   ]
  },
  {
   "cell_type": "code",
   "execution_count": 75,
   "metadata": {},
   "outputs": [
    {
     "name": "stdout",
     "output_type": "stream",
     "text": [
      "Number of entries in training set is 668\n",
      "Number of correct predictions in training set is 516\n",
      "Number of entries in test set is 223\n",
      "Number of correct predictions in test set is 170\n",
      "Out of sample score is 0.7623318385650224\n",
      "Cross val score is 0.710567322992836\n"
     ]
    },
    {
     "data": {
      "image/svg+xml": [
       "<?xml version=\"1.0\" encoding=\"UTF-8\" standalone=\"no\"?>\n",
       "<!DOCTYPE svg PUBLIC \"-//W3C//DTD SVG 1.1//EN\"\n",
       " \"http://www.w3.org/Graphics/SVG/1.1/DTD/svg11.dtd\">\n",
       "<!-- Generated by graphviz version 2.40.1 (20161225.0304)\n",
       " -->\n",
       "<!-- Title: %3 Pages: 1 -->\n",
       "<svg width=\"930pt\" height=\"487pt\"\n",
       " viewBox=\"0.00 0.00 930.00 486.87\" xmlns=\"http://www.w3.org/2000/svg\" xmlns:xlink=\"http://www.w3.org/1999/xlink\">\n",
       "<g id=\"graph0\" class=\"graph\" transform=\"scale(1 1) rotate(0) translate(4 482.8743)\">\n",
       "<title>%3</title>\n",
       "<polygon fill=\"#ffffff\" stroke=\"transparent\" points=\"-4,4 -4,-482.8743 926,-482.8743 926,4 -4,4\"/>\n",
       "<!-- 0 -->\n",
       "<g id=\"node1\" class=\"node\">\n",
       "<title>0</title>\n",
       "<ellipse fill=\"none\" stroke=\"#000000\" cx=\"423.5\" cy=\"-443.7774\" rx=\"35.194\" ry=\"35.194\"/>\n",
       "<text text-anchor=\"middle\" x=\"423.5\" y=\"-440.0774\" font-family=\"Times,serif\" font-size=\"14.00\" fill=\"#000000\">Pclass&lt;3</text>\n",
       "</g>\n",
       "<!-- 1 -->\n",
       "<g id=\"node2\" class=\"node\">\n",
       "<title>1</title>\n",
       "<ellipse fill=\"none\" stroke=\"#000000\" cx=\"365.5\" cy=\"-298.5358\" rx=\"59.2899\" ry=\"59.2899\"/>\n",
       "<text text-anchor=\"middle\" x=\"365.5\" y=\"-294.8358\" font-family=\"Times,serif\" font-size=\"14.00\" fill=\"#000000\">Fare&lt;13.6458502</text>\n",
       "</g>\n",
       "<!-- 0&#45;&gt;1 -->\n",
       "<g id=\"edge1\" class=\"edge\">\n",
       "<title>0&#45;&gt;1</title>\n",
       "<path fill=\"none\" stroke=\"#0000ff\" d=\"M407.9265,-411.9909C404.6843,-405.0247 401.3803,-397.6484 398.5,-390.6805 395.0201,-382.2619 391.5504,-373.3284 388.2394,-364.4648\"/>\n",
       "<polygon fill=\"#0000ff\" stroke=\"#0000ff\" points=\"391.4575,-363.0751 384.7159,-354.9019 384.8892,-365.4953 391.4575,-363.0751\"/>\n",
       "<text text-anchor=\"middle\" x=\"424.5\" y=\"-379.4805\" font-family=\"Times,serif\" font-size=\"14.00\" fill=\"#000000\">yes, missing</text>\n",
       "</g>\n",
       "<!-- 2 -->\n",
       "<g id=\"node3\" class=\"node\">\n",
       "<title>2</title>\n",
       "<ellipse fill=\"none\" stroke=\"#000000\" cx=\"572.5\" cy=\"-298.5358\" rx=\"34.394\" ry=\"34.394\"/>\n",
       "<text text-anchor=\"middle\" x=\"572.5\" y=\"-294.8358\" font-family=\"Times,serif\" font-size=\"14.00\" fill=\"#000000\">Age&lt;6.5</text>\n",
       "</g>\n",
       "<!-- 0&#45;&gt;2 -->\n",
       "<g id=\"edge2\" class=\"edge\">\n",
       "<title>0&#45;&gt;2</title>\n",
       "<path fill=\"none\" stroke=\"#ff0000\" d=\"M448.7758,-419.1391C473.9722,-394.5783 512.7655,-356.7635 540.1858,-330.0348\"/>\n",
       "<polygon fill=\"#ff0000\" stroke=\"#ff0000\" points=\"542.8797,-332.2967 547.5975,-322.8102 537.9936,-327.2841 542.8797,-332.2967\"/>\n",
       "<text text-anchor=\"middle\" x=\"495\" y=\"-379.4805\" font-family=\"Times,serif\" font-size=\"14.00\" fill=\"#000000\">no</text>\n",
       "</g>\n",
       "<!-- 3 -->\n",
       "<g id=\"node4\" class=\"node\">\n",
       "<title>3</title>\n",
       "<ellipse fill=\"none\" stroke=\"#000000\" cx=\"166.5\" cy=\"-137.6955\" rx=\"38.1938\" ry=\"38.1938\"/>\n",
       "<text text-anchor=\"middle\" x=\"166.5\" y=\"-133.9955\" font-family=\"Times,serif\" font-size=\"14.00\" fill=\"#000000\">Fare&lt;7.75</text>\n",
       "</g>\n",
       "<!-- 1&#45;&gt;3 -->\n",
       "<g id=\"edge3\" class=\"edge\">\n",
       "<title>1&#45;&gt;3</title>\n",
       "<path fill=\"none\" stroke=\"#0000ff\" d=\"M319.3452,-261.2315C284.4155,-232.9999 237.0332,-194.7034 204.3282,-168.2699\"/>\n",
       "<polygon fill=\"#0000ff\" stroke=\"#0000ff\" points=\"206.3236,-165.3823 196.3461,-161.8184 201.9234,-170.8265 206.3236,-165.3823\"/>\n",
       "<text text-anchor=\"middle\" x=\"292.5\" y=\"-210.191\" font-family=\"Times,serif\" font-size=\"14.00\" fill=\"#000000\">yes, missing</text>\n",
       "</g>\n",
       "<!-- 4 -->\n",
       "<g id=\"node5\" class=\"node\">\n",
       "<title>4</title>\n",
       "<ellipse fill=\"none\" stroke=\"#000000\" cx=\"365.5\" cy=\"-137.6955\" rx=\"37.8943\" ry=\"37.8943\"/>\n",
       "<text text-anchor=\"middle\" x=\"365.5\" y=\"-133.9955\" font-family=\"Times,serif\" font-size=\"14.00\" fill=\"#000000\">Age&lt;42.5</text>\n",
       "</g>\n",
       "<!-- 1&#45;&gt;4 -->\n",
       "<g id=\"edge4\" class=\"edge\">\n",
       "<title>1&#45;&gt;4</title>\n",
       "<path fill=\"none\" stroke=\"#ff0000\" d=\"M365.5,-239.1018C365.5,-221.4644 365.5,-202.3791 365.5,-185.5741\"/>\n",
       "<polygon fill=\"#ff0000\" stroke=\"#ff0000\" points=\"369.0001,-185.4387 365.5,-175.4387 362.0001,-185.4388 369.0001,-185.4387\"/>\n",
       "<text text-anchor=\"middle\" x=\"371\" y=\"-210.191\" font-family=\"Times,serif\" font-size=\"14.00\" fill=\"#000000\">no</text>\n",
       "</g>\n",
       "<!-- 5 -->\n",
       "<g id=\"node10\" class=\"node\">\n",
       "<title>5</title>\n",
       "<ellipse fill=\"none\" stroke=\"#000000\" cx=\"572.5\" cy=\"-137.6955\" rx=\"50.8918\" ry=\"50.8918\"/>\n",
       "<text text-anchor=\"middle\" x=\"572.5\" y=\"-133.9955\" font-family=\"Times,serif\" font-size=\"14.00\" fill=\"#000000\">FamilyNum&lt;4</text>\n",
       "</g>\n",
       "<!-- 2&#45;&gt;5 -->\n",
       "<g id=\"edge9\" class=\"edge\">\n",
       "<title>2&#45;&gt;5</title>\n",
       "<path fill=\"none\" stroke=\"#0000ff\" d=\"M572.5,-264.0315C572.5,-245.0664 572.5,-220.9779 572.5,-198.932\"/>\n",
       "<polygon fill=\"#0000ff\" stroke=\"#0000ff\" points=\"576.0001,-198.6398 572.5,-188.6399 569.0001,-198.6399 576.0001,-198.6398\"/>\n",
       "<text text-anchor=\"middle\" x=\"579.5\" y=\"-210.191\" font-family=\"Times,serif\" font-size=\"14.00\" fill=\"#000000\">yes</text>\n",
       "</g>\n",
       "<!-- 6 -->\n",
       "<g id=\"node11\" class=\"node\">\n",
       "<title>6</title>\n",
       "<ellipse fill=\"none\" stroke=\"#000000\" cx=\"755.5\" cy=\"-137.6955\" rx=\"37.8943\" ry=\"37.8943\"/>\n",
       "<text text-anchor=\"middle\" x=\"755.5\" y=\"-133.9955\" font-family=\"Times,serif\" font-size=\"14.00\" fill=\"#000000\">Age&lt;32.5</text>\n",
       "</g>\n",
       "<!-- 2&#45;&gt;6 -->\n",
       "<g id=\"edge10\" class=\"edge\">\n",
       "<title>2&#45;&gt;6</title>\n",
       "<path fill=\"none\" stroke=\"#ff0000\" d=\"M598.7194,-275.4913C630.3266,-247.7115 683.6186,-200.8726 719.1732,-169.6234\"/>\n",
       "<polygon fill=\"#ff0000\" stroke=\"#ff0000\" points=\"721.7182,-172.0464 726.9188,-162.8157 717.097,-166.7885 721.7182,-172.0464\"/>\n",
       "<text text-anchor=\"middle\" x=\"700\" y=\"-210.191\" font-family=\"Times,serif\" font-size=\"14.00\" fill=\"#000000\">no, missing</text>\n",
       "</g>\n",
       "<!-- 7 -->\n",
       "<g id=\"node6\" class=\"node\">\n",
       "<title>7</title>\n",
       "<polygon fill=\"none\" stroke=\"#000000\" points=\"97,-36 0,-36 0,0 97,0 97,-36\"/>\n",
       "<text text-anchor=\"middle\" x=\"48.5\" y=\"-14.3\" font-family=\"Times,serif\" font-size=\"14.00\" fill=\"#000000\">leaf=&#45;0.150000006</text>\n",
       "</g>\n",
       "<!-- 3&#45;&gt;7 -->\n",
       "<g id=\"edge5\" class=\"edge\">\n",
       "<title>3&#45;&gt;7</title>\n",
       "<path fill=\"none\" stroke=\"#0000ff\" d=\"M139.4284,-110.2349C119.5181,-90.0385 92.6658,-62.8004 73.3098,-43.1663\"/>\n",
       "<polygon fill=\"#0000ff\" stroke=\"#0000ff\" points=\"75.8015,-40.7083 66.2886,-36.0442 70.8166,-45.6227 75.8015,-40.7083\"/>\n",
       "<text text-anchor=\"middle\" x=\"123.5\" y=\"-57.8\" font-family=\"Times,serif\" font-size=\"14.00\" fill=\"#000000\">yes, missing</text>\n",
       "</g>\n",
       "<!-- 8 -->\n",
       "<g id=\"node7\" class=\"node\">\n",
       "<title>8</title>\n",
       "<polygon fill=\"none\" stroke=\"#000000\" points=\"217.5,-36 115.5,-36 115.5,0 217.5,0 217.5,-36\"/>\n",
       "<text text-anchor=\"middle\" x=\"166.5\" y=\"-14.3\" font-family=\"Times,serif\" font-size=\"14.00\" fill=\"#000000\">leaf=&#45;0.0511627905</text>\n",
       "</g>\n",
       "<!-- 3&#45;&gt;8 -->\n",
       "<g id=\"edge6\" class=\"edge\">\n",
       "<title>3&#45;&gt;8</title>\n",
       "<path fill=\"none\" stroke=\"#ff0000\" d=\"M166.5,-99.1642C166.5,-81.9507 166.5,-62.031 166.5,-46.2334\"/>\n",
       "<polygon fill=\"#ff0000\" stroke=\"#ff0000\" points=\"170.0001,-46.0391 166.5,-36.0391 163.0001,-46.0391 170.0001,-46.0391\"/>\n",
       "<text text-anchor=\"middle\" x=\"172\" y=\"-57.8\" font-family=\"Times,serif\" font-size=\"14.00\" fill=\"#000000\">no</text>\n",
       "</g>\n",
       "<!-- 9 -->\n",
       "<g id=\"node8\" class=\"node\">\n",
       "<title>9</title>\n",
       "<polygon fill=\"none\" stroke=\"#000000\" points=\"335,-36 236,-36 236,0 335,0 335,-36\"/>\n",
       "<text text-anchor=\"middle\" x=\"285.5\" y=\"-14.3\" font-family=\"Times,serif\" font-size=\"14.00\" fill=\"#000000\">leaf=0.0865979418</text>\n",
       "</g>\n",
       "<!-- 4&#45;&gt;9 -->\n",
       "<g id=\"edge7\" class=\"edge\">\n",
       "<title>4&#45;&gt;9</title>\n",
       "<path fill=\"none\" stroke=\"#0000ff\" d=\"M344.4809,-106.2469C331.6705,-87.08 315.4787,-62.8539 303.3026,-44.6361\"/>\n",
       "<polygon fill=\"#0000ff\" stroke=\"#0000ff\" points=\"306.1469,-42.593 297.6802,-36.2239 300.3271,-46.4828 306.1469,-42.593\"/>\n",
       "<text text-anchor=\"middle\" x=\"325.5\" y=\"-57.8\" font-family=\"Times,serif\" font-size=\"14.00\" fill=\"#000000\">yes</text>\n",
       "</g>\n",
       "<!-- 10 -->\n",
       "<g id=\"node9\" class=\"node\">\n",
       "<title>10</title>\n",
       "<polygon fill=\"none\" stroke=\"#000000\" points=\"460,-36 353,-36 353,0 460,0 460,-36\"/>\n",
       "<text text-anchor=\"middle\" x=\"406.5\" y=\"-14.3\" font-family=\"Times,serif\" font-size=\"14.00\" fill=\"#000000\">leaf=&#45;0.00666666729</text>\n",
       "</g>\n",
       "<!-- 4&#45;&gt;10 -->\n",
       "<g id=\"edge8\" class=\"edge\">\n",
       "<title>4&#45;&gt;10</title>\n",
       "<path fill=\"none\" stroke=\"#ff0000\" d=\"M377.8014,-101.7829C383.9348,-83.8768 391.2407,-62.5482 396.946,-45.8921\"/>\n",
       "<polygon fill=\"#ff0000\" stroke=\"#ff0000\" points=\"400.3373,-46.7921 400.2667,-36.1975 393.715,-44.5237 400.3373,-46.7921\"/>\n",
       "<text text-anchor=\"middle\" x=\"418\" y=\"-57.8\" font-family=\"Times,serif\" font-size=\"14.00\" fill=\"#000000\">no, missing</text>\n",
       "</g>\n",
       "<!-- 11 -->\n",
       "<g id=\"node12\" class=\"node\">\n",
       "<title>11</title>\n",
       "<polygon fill=\"none\" stroke=\"#000000\" points=\"571,-36 478,-36 478,0 571,0 571,-36\"/>\n",
       "<text text-anchor=\"middle\" x=\"524.5\" y=\"-14.3\" font-family=\"Times,serif\" font-size=\"14.00\" fill=\"#000000\">leaf=0.140000001</text>\n",
       "</g>\n",
       "<!-- 5&#45;&gt;11 -->\n",
       "<g id=\"edge11\" class=\"edge\">\n",
       "<title>5&#45;&gt;11</title>\n",
       "<path fill=\"none\" stroke=\"#0000ff\" d=\"M553.5291,-90.3887C547.4316,-75.1836 540.8806,-58.8477 535.5478,-45.5493\"/>\n",
       "<polygon fill=\"#0000ff\" stroke=\"#0000ff\" points=\"538.7054,-44.0199 531.7348,-36.0411 532.2084,-46.6254 538.7054,-44.0199\"/>\n",
       "<text text-anchor=\"middle\" x=\"570.5\" y=\"-57.8\" font-family=\"Times,serif\" font-size=\"14.00\" fill=\"#000000\">yes, missing</text>\n",
       "</g>\n",
       "<!-- 12 -->\n",
       "<g id=\"node13\" class=\"node\">\n",
       "<title>12</title>\n",
       "<polygon fill=\"none\" stroke=\"#000000\" points=\"686,-36 589,-36 589,0 686,0 686,-36\"/>\n",
       "<text text-anchor=\"middle\" x=\"637.5\" y=\"-14.3\" font-family=\"Times,serif\" font-size=\"14.00\" fill=\"#000000\">leaf=&#45;0.111111119</text>\n",
       "</g>\n",
       "<!-- 5&#45;&gt;12 -->\n",
       "<g id=\"edge12\" class=\"edge\">\n",
       "<title>5&#45;&gt;12</title>\n",
       "<path fill=\"none\" stroke=\"#ff0000\" d=\"M596.7036,-93.1253C605.443,-77.032 615.0402,-59.3591 622.7294,-45.1996\"/>\n",
       "<polygon fill=\"#ff0000\" stroke=\"#ff0000\" points=\"626.0174,-46.479 627.7139,-36.0208 619.8659,-43.1384 626.0174,-46.479\"/>\n",
       "<text text-anchor=\"middle\" x=\"622\" y=\"-57.8\" font-family=\"Times,serif\" font-size=\"14.00\" fill=\"#000000\">no</text>\n",
       "</g>\n",
       "<!-- 13 -->\n",
       "<g id=\"node14\" class=\"node\">\n",
       "<title>13</title>\n",
       "<polygon fill=\"none\" stroke=\"#000000\" points=\"806.5,-36 704.5,-36 704.5,0 806.5,0 806.5,-36\"/>\n",
       "<text text-anchor=\"middle\" x=\"755.5\" y=\"-14.3\" font-family=\"Times,serif\" font-size=\"14.00\" fill=\"#000000\">leaf=&#45;0.0997389033</text>\n",
       "</g>\n",
       "<!-- 6&#45;&gt;13 -->\n",
       "<g id=\"edge13\" class=\"edge\">\n",
       "<title>6&#45;&gt;13</title>\n",
       "<path fill=\"none\" stroke=\"#0000ff\" d=\"M755.5,-99.8231C755.5,-82.5721 755.5,-62.4923 755.5,-46.5417\"/>\n",
       "<polygon fill=\"#0000ff\" stroke=\"#0000ff\" points=\"759.0001,-46.2442 755.5,-36.2443 752.0001,-46.2443 759.0001,-46.2442\"/>\n",
       "<text text-anchor=\"middle\" x=\"781.5\" y=\"-57.8\" font-family=\"Times,serif\" font-size=\"14.00\" fill=\"#000000\">yes, missing</text>\n",
       "</g>\n",
       "<!-- 14 -->\n",
       "<g id=\"node15\" class=\"node\">\n",
       "<title>14</title>\n",
       "<polygon fill=\"none\" stroke=\"#000000\" points=\"922,-36 825,-36 825,0 922,0 922,-36\"/>\n",
       "<text text-anchor=\"middle\" x=\"873.5\" y=\"-14.3\" font-family=\"Times,serif\" font-size=\"14.00\" fill=\"#000000\">leaf=&#45;0.153488383</text>\n",
       "</g>\n",
       "<!-- 6&#45;&gt;14 -->\n",
       "<g id=\"edge14\" class=\"edge\">\n",
       "<title>6&#45;&gt;14</title>\n",
       "<path fill=\"none\" stroke=\"#ff0000\" d=\"M781.9815,-110.8335C801.8648,-90.6645 828.9137,-63.2269 848.4432,-43.4169\"/>\n",
       "<polygon fill=\"#ff0000\" stroke=\"#ff0000\" points=\"851.0012,-45.8075 855.5292,-36.229 846.0163,-40.8932 851.0012,-45.8075\"/>\n",
       "<text text-anchor=\"middle\" x=\"840\" y=\"-57.8\" font-family=\"Times,serif\" font-size=\"14.00\" fill=\"#000000\">no</text>\n",
       "</g>\n",
       "</g>\n",
       "</svg>\n"
      ],
      "text/plain": [
       "<graphviz.dot.Digraph at 0x1a183e3c50>"
      ]
     },
     "execution_count": 75,
     "metadata": {},
     "output_type": "execute_result"
    }
   ],
   "source": [
    "my_model = get_model_metrics_and_display(train_data,X_columns=X_columns)\n",
    "xgb.to_graphviz(my_model)\n"
   ]
  },
  {
   "cell_type": "markdown",
   "metadata": {},
   "source": [
    "Comment : We do not see much of benefit here and hence we do not add this indicator.\n",
    "\n",
    "Hence, we finalize on this model and try to solve for most optimal tuning parameters."
   ]
  },
  {
   "cell_type": "code",
   "execution_count": 76,
   "metadata": {},
   "outputs": [],
   "source": [
    "X_columns = ['Age', 'Pclass', 'Fare']\n",
    "Y_columns = ['Survived']"
   ]
  },
  {
   "cell_type": "markdown",
   "metadata": {},
   "source": [
    "#### Fine tuning using cross validation"
   ]
  },
  {
   "cell_type": "code",
   "execution_count": 77,
   "metadata": {},
   "outputs": [],
   "source": [
    "X_train = train_data[X_columns]\n",
    "Y_train = train_data[Y_columns]\n",
    "dtrain = xgb.DMatrix(data=X_train, label=Y_train)\n",
    "params = {\"Objective\" : 'gbtree',\n",
    "          \"eval_metric\" : 'error',\n",
    "          'learning_rate' : 0.05\n",
    "         }\n",
    "cv = xgb.cv(dtrain=dtrain, params=params, num_boost_round=500, nfold=5, seed=0, early_stopping_rounds=10)"
   ]
  },
  {
   "cell_type": "code",
   "execution_count": 78,
   "metadata": {},
   "outputs": [
    {
     "data": {
      "text/html": [
       "<div>\n",
       "<style scoped>\n",
       "    .dataframe tbody tr th:only-of-type {\n",
       "        vertical-align: middle;\n",
       "    }\n",
       "\n",
       "    .dataframe tbody tr th {\n",
       "        vertical-align: top;\n",
       "    }\n",
       "\n",
       "    .dataframe thead th {\n",
       "        text-align: right;\n",
       "    }\n",
       "</style>\n",
       "<table border=\"1\" class=\"dataframe\">\n",
       "  <thead>\n",
       "    <tr style=\"text-align: right;\">\n",
       "      <th></th>\n",
       "      <th>test-error-mean</th>\n",
       "      <th>test-error-std</th>\n",
       "      <th>train-error-mean</th>\n",
       "      <th>train-error-std</th>\n",
       "    </tr>\n",
       "  </thead>\n",
       "  <tbody>\n",
       "    <tr>\n",
       "      <th>7</th>\n",
       "      <td>0.291853</td>\n",
       "      <td>0.030727</td>\n",
       "      <td>0.206510</td>\n",
       "      <td>0.011268</td>\n",
       "    </tr>\n",
       "    <tr>\n",
       "      <th>8</th>\n",
       "      <td>0.298588</td>\n",
       "      <td>0.032619</td>\n",
       "      <td>0.205950</td>\n",
       "      <td>0.012133</td>\n",
       "    </tr>\n",
       "    <tr>\n",
       "      <th>9</th>\n",
       "      <td>0.291846</td>\n",
       "      <td>0.024762</td>\n",
       "      <td>0.205388</td>\n",
       "      <td>0.010026</td>\n",
       "    </tr>\n",
       "    <tr>\n",
       "      <th>10</th>\n",
       "      <td>0.290716</td>\n",
       "      <td>0.021813</td>\n",
       "      <td>0.207351</td>\n",
       "      <td>0.011060</td>\n",
       "    </tr>\n",
       "    <tr>\n",
       "      <th>11</th>\n",
       "      <td>0.289593</td>\n",
       "      <td>0.022982</td>\n",
       "      <td>0.207071</td>\n",
       "      <td>0.011805</td>\n",
       "    </tr>\n",
       "    <tr>\n",
       "      <th>12</th>\n",
       "      <td>0.289593</td>\n",
       "      <td>0.021855</td>\n",
       "      <td>0.205387</td>\n",
       "      <td>0.012467</td>\n",
       "    </tr>\n",
       "    <tr>\n",
       "      <th>13</th>\n",
       "      <td>0.287358</td>\n",
       "      <td>0.025863</td>\n",
       "      <td>0.199493</td>\n",
       "      <td>0.011094</td>\n",
       "    </tr>\n",
       "    <tr>\n",
       "      <th>14</th>\n",
       "      <td>0.285111</td>\n",
       "      <td>0.028176</td>\n",
       "      <td>0.198371</td>\n",
       "      <td>0.009544</td>\n",
       "    </tr>\n",
       "    <tr>\n",
       "      <th>15</th>\n",
       "      <td>0.287346</td>\n",
       "      <td>0.024237</td>\n",
       "      <td>0.196687</td>\n",
       "      <td>0.009661</td>\n",
       "    </tr>\n",
       "    <tr>\n",
       "      <th>16</th>\n",
       "      <td>0.281734</td>\n",
       "      <td>0.025746</td>\n",
       "      <td>0.195003</td>\n",
       "      <td>0.011691</td>\n",
       "    </tr>\n",
       "  </tbody>\n",
       "</table>\n",
       "</div>"
      ],
      "text/plain": [
       "    test-error-mean  test-error-std  train-error-mean  train-error-std\n",
       "7          0.291853        0.030727          0.206510         0.011268\n",
       "8          0.298588        0.032619          0.205950         0.012133\n",
       "9          0.291846        0.024762          0.205388         0.010026\n",
       "10         0.290716        0.021813          0.207351         0.011060\n",
       "11         0.289593        0.022982          0.207071         0.011805\n",
       "12         0.289593        0.021855          0.205387         0.012467\n",
       "13         0.287358        0.025863          0.199493         0.011094\n",
       "14         0.285111        0.028176          0.198371         0.009544\n",
       "15         0.287346        0.024237          0.196687         0.009661\n",
       "16         0.281734        0.025746          0.195003         0.011691"
      ]
     },
     "execution_count": 78,
     "metadata": {},
     "output_type": "execute_result"
    }
   ],
   "source": [
    "cv.tail(10)"
   ]
  },
  {
   "cell_type": "markdown",
   "metadata": {},
   "source": [
    "#### Fine tuning using grid searchCV"
   ]
  },
  {
   "cell_type": "code",
   "execution_count": 79,
   "metadata": {},
   "outputs": [
    {
     "data": {
      "text/plain": [
       "{'xgcl__learning_rate': 0.05, 'xgcl__n_estimators': 5}"
      ]
     },
     "execution_count": 79,
     "metadata": {},
     "output_type": "execute_result"
    }
   ],
   "source": [
    "searchCV = get_gridsearch_crossval_output(train_data, X_columns=X_columns,\n",
    "                                          n_estimators_list = [1, 2, 3, 4 , 5, 6 ,7 ,8 , 9, 10, 11, 12, 13, 14, 15, 16,  18, 20, 39, 40, 41, 42],\n",
    "                                          learning_rates_list = [0.01, 0.02, 0.03, 0.04, 0.05, 0.06, 0.07])\n",
    "searchCV.best_params_\n"
   ]
  },
  {
   "cell_type": "markdown",
   "metadata": {},
   "source": [
    "Comment : It is sort of strange as to why these 2 methods do not agree much. Anyways, let us move on !"
   ]
  },
  {
   "cell_type": "code",
   "execution_count": 80,
   "metadata": {},
   "outputs": [
    {
     "data": {
      "text/plain": [
       "array([0.71107784, 0.71107784, 0.71107784, 0.71257485, 0.71257485,\n",
       "       0.71257485, 0.71257485, 0.71257485, 0.71257485, 0.71257485,\n",
       "       0.71257485, 0.71257485, 0.71257485, 0.71257485, 0.71257485,\n",
       "       0.71257485, 0.71257485, 0.71257485, 0.71257485, 0.71257485,\n",
       "       0.71257485, 0.71257485, 0.71107784, 0.71257485, 0.71257485,\n",
       "       0.71257485, 0.71257485, 0.71257485, 0.71257485, 0.71407186,\n",
       "       0.71407186, 0.71407186, 0.71407186, 0.71407186, 0.71407186,\n",
       "       0.71407186, 0.71407186, 0.71407186, 0.71407186, 0.71407186,\n",
       "       0.71407186, 0.71407186, 0.71407186, 0.71407186, 0.71107784,\n",
       "       0.71257485, 0.71257485, 0.71257485, 0.71407186, 0.71407186,\n",
       "       0.71407186, 0.71407186, 0.71407186, 0.71407186, 0.71257485,\n",
       "       0.71257485, 0.70958084, 0.71107784, 0.70958084, 0.70958084,\n",
       "       0.70958084, 0.70958084, 0.70958084, 0.70958084, 0.70958084,\n",
       "       0.70958084, 0.71107784, 0.71257485, 0.71257485, 0.71407186,\n",
       "       0.71407186, 0.71407186, 0.71107784, 0.71407186, 0.70958084,\n",
       "       0.70958084, 0.70808383, 0.70808383, 0.70808383, 0.70808383,\n",
       "       0.70808383, 0.70658683, 0.70658683, 0.70658683, 0.70508982,\n",
       "       0.70508982, 0.70508982, 0.70508982, 0.71107784, 0.71257485,\n",
       "       0.71407186, 0.71407186, 0.71556886, 0.71556886, 0.71107784,\n",
       "       0.70958084, 0.70808383, 0.70658683, 0.70658683, 0.70658683,\n",
       "       0.70658683, 0.70508982, 0.70508982, 0.70508982, 0.70508982,\n",
       "       0.70508982, 0.70808383, 0.70808383, 0.70808383, 0.70808383,\n",
       "       0.71107784, 0.71257485, 0.71407186, 0.71407186, 0.71556886,\n",
       "       0.71107784, 0.70808383, 0.70808383, 0.70658683, 0.70508982,\n",
       "       0.70658683, 0.70508982, 0.70508982, 0.70508982, 0.70508982,\n",
       "       0.70808383, 0.70808383, 0.70808383, 0.70808383, 0.70808383,\n",
       "       0.70808383, 0.70808383, 0.71107784, 0.71257485, 0.71107784,\n",
       "       0.71407186, 0.71407186, 0.71107784, 0.70808383, 0.70808383,\n",
       "       0.70508982, 0.70808383, 0.70808383, 0.70658683, 0.70808383,\n",
       "       0.70359281, 0.70508982, 0.71107784, 0.70658683, 0.70658683,\n",
       "       0.70808383, 0.70808383, 0.70808383, 0.70808383])"
      ]
     },
     "execution_count": 80,
     "metadata": {},
     "output_type": "execute_result"
    }
   ],
   "source": [
    "searchCV.cv_results_['mean_test_score']"
   ]
  },
  {
   "cell_type": "code",
   "execution_count": 81,
   "metadata": {},
   "outputs": [
    {
     "name": "stderr",
     "output_type": "stream",
     "text": [
      "/Users/babs4JESUS/anaconda3/lib/python3.6/site-packages/sklearn/utils/deprecation.py:122: FutureWarning: You are accessing a training score ('mean_train_score'), which will not be available by default any more in 0.21. If you need training scores, please set return_train_score=True\n",
      "  warnings.warn(*warn_args, **warn_kwargs)\n"
     ]
    },
    {
     "data": {
      "text/plain": [
       "array([0.71481746, 0.71631559, 0.71631559, 0.71893731, 0.71893731,\n",
       "       0.71893731, 0.71893731, 0.71893731, 0.71893731, 0.71893731,\n",
       "       0.71893731, 0.71893731, 0.71893731, 0.71893731, 0.71893731,\n",
       "       0.71893731, 0.71893731, 0.71893731, 0.71893731, 0.71893731,\n",
       "       0.71893731, 0.71893731, 0.71481746, 0.71893731, 0.71893731,\n",
       "       0.71893731, 0.71893731, 0.71893731, 0.71893731, 0.71968637,\n",
       "       0.71968637, 0.71968637, 0.71968637, 0.71968637, 0.71968637,\n",
       "       0.71968637, 0.71968637, 0.71968637, 0.71968637, 0.71968637,\n",
       "       0.71968637, 0.71968637, 0.71968637, 0.71968637, 0.71481746,\n",
       "       0.71893731, 0.71893731, 0.71893731, 0.71968637, 0.71968637,\n",
       "       0.71968637, 0.71968637, 0.71968637, 0.71968637, 0.72006091,\n",
       "       0.72006091, 0.71968637, 0.71968637, 0.71968637, 0.71968637,\n",
       "       0.71968637, 0.71968637, 0.71968637, 0.71968637, 0.71968637,\n",
       "       0.71968637, 0.71481746, 0.71893731, 0.71893731, 0.71968637,\n",
       "       0.71968637, 0.71968637, 0.72267703, 0.71968637, 0.72305086,\n",
       "       0.72305086, 0.72267633, 0.72267633, 0.72267633, 0.72267633,\n",
       "       0.72267633, 0.72305016, 0.72305016, 0.72305016, 0.72305016,\n",
       "       0.72305016, 0.72305016, 0.72305016, 0.71481746, 0.71893731,\n",
       "       0.71968637, 0.71968637, 0.72006091, 0.72006091, 0.71968637,\n",
       "       0.72305086, 0.72305086, 0.72679618, 0.72679618, 0.72679618,\n",
       "       0.72679618, 0.72717001, 0.72717001, 0.72717001, 0.72717001,\n",
       "       0.72717001, 0.72717001, 0.72717001, 0.72717001, 0.72717001,\n",
       "       0.71481746, 0.71893731, 0.71968637, 0.71968637, 0.72006091,\n",
       "       0.72342539, 0.72305086, 0.72267633, 0.72679618, 0.72717001,\n",
       "       0.72679618, 0.72717001, 0.72717001, 0.72717001, 0.72717001,\n",
       "       0.72717001, 0.72717001, 0.72679618, 0.72679618, 0.72679618,\n",
       "       0.72679618, 0.72679618, 0.71481746, 0.71893731, 0.72267703,\n",
       "       0.71968637, 0.72342539, 0.72342539, 0.72267633, 0.72267633,\n",
       "       0.72717001, 0.72866814, 0.72904267, 0.72904267, 0.73016626,\n",
       "       0.73128986, 0.73128986, 0.73016626, 0.73091603, 0.73091603,\n",
       "       0.73129056, 0.73129056, 0.73129056, 0.73129056])"
      ]
     },
     "execution_count": 81,
     "metadata": {},
     "output_type": "execute_result"
    }
   ],
   "source": [
    "searchCV.cv_results_['mean_train_score']"
   ]
  },
  {
   "cell_type": "code",
   "execution_count": 82,
   "metadata": {},
   "outputs": [
    {
     "name": "stdout",
     "output_type": "stream",
     "text": [
      "Number of entries in training set is 668\n",
      "Number of correct predictions in training set is 477\n",
      "Number of entries in test set is 223\n",
      "Number of correct predictions in test set is 163\n",
      "Out of sample score is 0.7309417040358744\n",
      "Cross val score is 0.7094689066940163\n"
     ]
    }
   ],
   "source": [
    "(my_pipeline, out_of_sample_score, cross_validation_score) = \\\n",
    "    train_test_cross_validate(train_data,\n",
    "                              X_columns,  \n",
    "                              Y_columns,\n",
    "                              n_estimators=5,\n",
    "                              learning_rate=0.05)\n",
    "    \n",
    "print(\"Out of sample score is {0}\\nCross val score is {1}\".format(out_of_sample_score, cross_validation_score))\n",
    "\n"
   ]
  },
  {
   "cell_type": "markdown",
   "metadata": {},
   "source": [
    "Comments : The mystery continues as to why we do not see good results with our cross validation procedure !"
   ]
  },
  {
   "cell_type": "code",
   "execution_count": 83,
   "metadata": {},
   "outputs": [
    {
     "name": "stdout",
     "output_type": "stream",
     "text": [
      "Complete score on out of sample data is 0.6602870813397129\n"
     ]
    }
   ],
   "source": [
    "#create_pipeline_and_out_of_sample_score(X_train, X_test, Y_train, Y_test)\n",
    "X_train = train_data[X_columns]\n",
    "X_train_one_hot = pd.get_dummies(X_train)\n",
    "Y_train = train_data[Y_column]\n",
    "X_test = test_data[X_columns]\n",
    "X_test_one_hot = pd.get_dummies(X_test)\n",
    "Y_test = test_data[Y_column]\n",
    "(my_pipeline, out_of_sample_score, predictions_out_of_sample) = \\\n",
    "    create_pipeline_and_out_of_sample_score(X_train_one_hot, \n",
    "                                            X_test_one_hot,\n",
    "                                            Y_train,\n",
    "                                            Y_test,\n",
    "                                            50,\n",
    "                                            0.05)\n",
    "print(\"Complete score on out of sample data is {0}\".format(out_of_sample_score))\n",
    "test_data['Predictions'] = predictions_out_of_sample\n",
    "kaggle_data = test_data[['PassengerId', 'Predictions']].copy()\n",
    "kaggle_data.rename(columns={'Predictions' : 'Survived'}, inplace=True)\n",
    "kaggle_data.sort_values(by=['PassengerId']).to_csv('kaggle_out_xgboost_no_sex.csv', index=False)"
   ]
  },
  {
   "cell_type": "markdown",
   "metadata": {},
   "source": [
    "Comment : The performance is disappointing, but frankly not much unexpected, given that we did not have the gender variable, which is immensely important.\n",
    "\n",
    "This shows that we cannot simply pick up models, which are to be ensembled, but need to build reasonably stronger models first (the strength of the ensemble is only as much as the strength of it's constituents).\n",
    "\n",
    "Let us try to build a model avoiding Pclass variable."
   ]
  },
  {
   "cell_type": "code",
   "execution_count": 84,
   "metadata": {},
   "outputs": [],
   "source": [
    "X_columns = ['Sex', 'Age', 'Fare']\n",
    "Y_columns = ['Survived']"
   ]
  },
  {
   "cell_type": "code",
   "execution_count": 85,
   "metadata": {},
   "outputs": [
    {
     "name": "stdout",
     "output_type": "stream",
     "text": [
      "Number of entries in training set is 668\n",
      "Number of correct predictions in training set is 571\n",
      "Number of entries in test set is 223\n",
      "Number of correct predictions in test set is 182\n",
      "Out of sample score is 0.8161434977578476\n",
      "Cross val score is 0.7990810653428787\n"
     ]
    },
    {
     "data": {
      "image/svg+xml": [
       "<?xml version=\"1.0\" encoding=\"UTF-8\" standalone=\"no\"?>\n",
       "<!DOCTYPE svg PUBLIC \"-//W3C//DTD SVG 1.1//EN\"\n",
       " \"http://www.w3.org/Graphics/SVG/1.1/DTD/svg11.dtd\">\n",
       "<!-- Generated by graphviz version 2.40.1 (20161225.0304)\n",
       " -->\n",
       "<!-- Title: %3 Pages: 1 -->\n",
       "<svg width=\"876pt\" height=\"489pt\"\n",
       " viewBox=\"0.00 0.00 875.50 489.47\" xmlns=\"http://www.w3.org/2000/svg\" xmlns:xlink=\"http://www.w3.org/1999/xlink\">\n",
       "<g id=\"graph0\" class=\"graph\" transform=\"scale(1 1) rotate(0) translate(4 485.474)\">\n",
       "<title>%3</title>\n",
       "<polygon fill=\"#ffffff\" stroke=\"transparent\" points=\"-4,4 -4,-485.474 871.5,-485.474 871.5,4 -4,4\"/>\n",
       "<!-- 0 -->\n",
       "<g id=\"node1\" class=\"node\">\n",
       "<title>0</title>\n",
       "<ellipse fill=\"none\" stroke=\"#000000\" cx=\"375.5\" cy=\"-453.5265\" rx=\"27.8951\" ry=\"27.8951\"/>\n",
       "<text text-anchor=\"middle\" x=\"375.5\" y=\"-449.8265\" font-family=\"Times,serif\" font-size=\"14.00\" fill=\"#000000\">Sex&lt;1</text>\n",
       "</g>\n",
       "<!-- 1 -->\n",
       "<g id=\"node2\" class=\"node\">\n",
       "<title>1</title>\n",
       "<ellipse fill=\"none\" stroke=\"#000000\" cx=\"320.5\" cy=\"-315.4343\" rx=\"59.2899\" ry=\"59.2899\"/>\n",
       "<text text-anchor=\"middle\" x=\"320.5\" y=\"-311.7343\" font-family=\"Times,serif\" font-size=\"14.00\" fill=\"#000000\">Fare&lt;48.2000008</text>\n",
       "</g>\n",
       "<!-- 0&#45;&gt;1 -->\n",
       "<g id=\"edge1\" class=\"edge\">\n",
       "<title>0&#45;&gt;1</title>\n",
       "<path fill=\"none\" stroke=\"#0000ff\" d=\"M360.1013,-429.7688C355.9809,-422.7957 351.7689,-415.036 348.5,-407.579 344.9884,-399.5684 341.7428,-390.984 338.8011,-382.3948\"/>\n",
       "<polygon fill=\"#0000ff\" stroke=\"#0000ff\" points=\"342.0679,-381.1254 335.6109,-372.7255 335.4204,-383.3186 342.0679,-381.1254\"/>\n",
       "<text text-anchor=\"middle\" x=\"374.5\" y=\"-396.379\" font-family=\"Times,serif\" font-size=\"14.00\" fill=\"#000000\">yes, missing</text>\n",
       "</g>\n",
       "<!-- 2 -->\n",
       "<g id=\"node3\" class=\"node\">\n",
       "<title>2</title>\n",
       "<ellipse fill=\"none\" stroke=\"#000000\" cx=\"513.5\" cy=\"-315.4343\" rx=\"32.4942\" ry=\"32.4942\"/>\n",
       "<text text-anchor=\"middle\" x=\"513.5\" y=\"-311.7343\" font-family=\"Times,serif\" font-size=\"14.00\" fill=\"#000000\">Age&lt;13</text>\n",
       "</g>\n",
       "<!-- 0&#45;&gt;2 -->\n",
       "<g id=\"edge2\" class=\"edge\">\n",
       "<title>0&#45;&gt;2</title>\n",
       "<path fill=\"none\" stroke=\"#ff0000\" d=\"M395.272,-433.7413C418.1614,-410.8366 456.1315,-372.8411 482.8538,-346.101\"/>\n",
       "<polygon fill=\"#ff0000\" stroke=\"#ff0000\" points=\"485.4776,-348.4268 490.0706,-338.8793 480.5262,-343.4787 485.4776,-348.4268\"/>\n",
       "<text text-anchor=\"middle\" x=\"442\" y=\"-396.379\" font-family=\"Times,serif\" font-size=\"14.00\" fill=\"#000000\">no</text>\n",
       "</g>\n",
       "<!-- 3 -->\n",
       "<g id=\"node4\" class=\"node\">\n",
       "<title>3</title>\n",
       "<ellipse fill=\"none\" stroke=\"#000000\" cx=\"144.5\" cy=\"-146.1448\" rx=\"59.2899\" ry=\"59.2899\"/>\n",
       "<text text-anchor=\"middle\" x=\"144.5\" y=\"-142.4448\" font-family=\"Times,serif\" font-size=\"14.00\" fill=\"#000000\">Fare&lt;27.8250008</text>\n",
       "</g>\n",
       "<!-- 1&#45;&gt;3 -->\n",
       "<g id=\"edge3\" class=\"edge\">\n",
       "<title>1&#45;&gt;3</title>\n",
       "<path fill=\"none\" stroke=\"#0000ff\" d=\"M277.4456,-274.0214C252.4229,-249.9528 220.7727,-219.5093 194.6316,-194.3649\"/>\n",
       "<polygon fill=\"#0000ff\" stroke=\"#0000ff\" points=\"197.0481,-191.833 187.4146,-187.4231 192.1954,-196.878 197.0481,-191.833\"/>\n",
       "<text text-anchor=\"middle\" x=\"264.5\" y=\"-227.0895\" font-family=\"Times,serif\" font-size=\"14.00\" fill=\"#000000\">yes, missing</text>\n",
       "</g>\n",
       "<!-- 4 -->\n",
       "<g id=\"node5\" class=\"node\">\n",
       "<title>4</title>\n",
       "<ellipse fill=\"none\" stroke=\"#000000\" cx=\"320.5\" cy=\"-146.1448\" rx=\"29.4969\" ry=\"29.4969\"/>\n",
       "<text text-anchor=\"middle\" x=\"320.5\" y=\"-142.4448\" font-family=\"Times,serif\" font-size=\"14.00\" fill=\"#000000\">Age&lt;8</text>\n",
       "</g>\n",
       "<!-- 1&#45;&gt;4 -->\n",
       "<g id=\"edge4\" class=\"edge\">\n",
       "<title>1&#45;&gt;4</title>\n",
       "<path fill=\"none\" stroke=\"#ff0000\" d=\"M320.5,-256.225C320.5,-232.8968 320.5,-206.727 320.5,-185.7584\"/>\n",
       "<polygon fill=\"#ff0000\" stroke=\"#ff0000\" points=\"324.0001,-185.6146 320.5,-175.6146 317.0001,-185.6146 324.0001,-185.6146\"/>\n",
       "<text text-anchor=\"middle\" x=\"326\" y=\"-227.0895\" font-family=\"Times,serif\" font-size=\"14.00\" fill=\"#000000\">no</text>\n",
       "</g>\n",
       "<!-- 5 -->\n",
       "<g id=\"node10\" class=\"node\">\n",
       "<title>5</title>\n",
       "<ellipse fill=\"none\" stroke=\"#000000\" cx=\"513.5\" cy=\"-146.1448\" rx=\"59.2899\" ry=\"59.2899\"/>\n",
       "<text text-anchor=\"middle\" x=\"513.5\" y=\"-142.4448\" font-family=\"Times,serif\" font-size=\"14.00\" fill=\"#000000\">Fare&lt;26.9500008</text>\n",
       "</g>\n",
       "<!-- 2&#45;&gt;5 -->\n",
       "<g id=\"edge9\" class=\"edge\">\n",
       "<title>2&#45;&gt;5</title>\n",
       "<path fill=\"none\" stroke=\"#0000ff\" d=\"M513.5,-282.7935C513.5,-263.7109 513.5,-238.8709 513.5,-215.6117\"/>\n",
       "<polygon fill=\"#0000ff\" stroke=\"#0000ff\" points=\"517.0001,-215.4134 513.5,-205.4134 510.0001,-215.4135 517.0001,-215.4134\"/>\n",
       "<text text-anchor=\"middle\" x=\"520.5\" y=\"-227.0895\" font-family=\"Times,serif\" font-size=\"14.00\" fill=\"#000000\">yes</text>\n",
       "</g>\n",
       "<!-- 6 -->\n",
       "<g id=\"node11\" class=\"node\">\n",
       "<title>6</title>\n",
       "<ellipse fill=\"none\" stroke=\"#000000\" cx=\"698.5\" cy=\"-146.1448\" rx=\"59.2899\" ry=\"59.2899\"/>\n",
       "<text text-anchor=\"middle\" x=\"698.5\" y=\"-142.4448\" font-family=\"Times,serif\" font-size=\"14.00\" fill=\"#000000\">Fare&lt;26.2687492</text>\n",
       "</g>\n",
       "<!-- 2&#45;&gt;6 -->\n",
       "<g id=\"edge10\" class=\"edge\">\n",
       "<title>2&#45;&gt;6</title>\n",
       "<path fill=\"none\" stroke=\"#ff0000\" d=\"M537.6855,-293.3026C565.3913,-267.9496 611.5716,-225.6911 647.3548,-192.9466\"/>\n",
       "<polygon fill=\"#ff0000\" stroke=\"#ff0000\" points=\"649.8078,-195.4462 654.8223,-186.1132 645.0821,-190.2821 649.8078,-195.4462\"/>\n",
       "<text text-anchor=\"middle\" x=\"637\" y=\"-227.0895\" font-family=\"Times,serif\" font-size=\"14.00\" fill=\"#000000\">no, missing</text>\n",
       "</g>\n",
       "<!-- 7 -->\n",
       "<g id=\"node6\" class=\"node\">\n",
       "<title>7</title>\n",
       "<polygon fill=\"none\" stroke=\"#000000\" points=\"99,-36 0,-36 0,0 99,0 99,-36\"/>\n",
       "<text text-anchor=\"middle\" x=\"49.5\" y=\"-14.3\" font-family=\"Times,serif\" font-size=\"14.00\" fill=\"#000000\">leaf=0.0741116777</text>\n",
       "</g>\n",
       "<!-- 3&#45;&gt;7 -->\n",
       "<g id=\"edge5\" class=\"edge\">\n",
       "<title>3&#45;&gt;7</title>\n",
       "<path fill=\"none\" stroke=\"#0000ff\" d=\"M109.1255,-98.4284C95.5052,-80.056 80.4594,-59.7608 68.8892,-44.154\"/>\n",
       "<polygon fill=\"#0000ff\" stroke=\"#0000ff\" points=\"71.6172,-41.9567 62.8501,-36.0078 65.9939,-46.1255 71.6172,-41.9567\"/>\n",
       "<text text-anchor=\"middle\" x=\"112.5\" y=\"-57.8\" font-family=\"Times,serif\" font-size=\"14.00\" fill=\"#000000\">yes, missing</text>\n",
       "</g>\n",
       "<!-- 8 -->\n",
       "<g id=\"node7\" class=\"node\">\n",
       "<title>8</title>\n",
       "<polygon fill=\"none\" stroke=\"#000000\" points=\"171.5,-36 117.5,-36 117.5,0 171.5,0 171.5,-36\"/>\n",
       "<text text-anchor=\"middle\" x=\"144.5\" y=\"-14.3\" font-family=\"Times,serif\" font-size=\"14.00\" fill=\"#000000\">leaf=&#45;0</text>\n",
       "</g>\n",
       "<!-- 3&#45;&gt;8 -->\n",
       "<g id=\"edge6\" class=\"edge\">\n",
       "<title>3&#45;&gt;8</title>\n",
       "<path fill=\"none\" stroke=\"#ff0000\" d=\"M144.5,-86.9487C144.5,-72.7899 144.5,-58.3116 144.5,-46.3012\"/>\n",
       "<polygon fill=\"#ff0000\" stroke=\"#ff0000\" points=\"148.0001,-46.0448 144.5,-36.0448 141.0001,-46.0449 148.0001,-46.0448\"/>\n",
       "<text text-anchor=\"middle\" x=\"150\" y=\"-57.8\" font-family=\"Times,serif\" font-size=\"14.00\" fill=\"#000000\">no</text>\n",
       "</g>\n",
       "<!-- 9 -->\n",
       "<g id=\"node8\" class=\"node\">\n",
       "<title>9</title>\n",
       "<polygon fill=\"none\" stroke=\"#000000\" points=\"289,-36 190,-36 190,0 289,0 289,-36\"/>\n",
       "<text text-anchor=\"middle\" x=\"239.5\" y=\"-14.3\" font-family=\"Times,serif\" font-size=\"14.00\" fill=\"#000000\">leaf=0.0588235334</text>\n",
       "</g>\n",
       "<!-- 4&#45;&gt;9 -->\n",
       "<g id=\"edge7\" class=\"edge\">\n",
       "<title>4&#45;&gt;9</title>\n",
       "<path fill=\"none\" stroke=\"#0000ff\" d=\"M304.6901,-121.1329C290.8511,-99.2392 270.7926,-67.506 256.5871,-45.0324\"/>\n",
       "<polygon fill=\"#0000ff\" stroke=\"#0000ff\" points=\"259.3821,-42.9035 251.0804,-36.3206 253.465,-46.6437 259.3821,-42.9035\"/>\n",
       "<text text-anchor=\"middle\" x=\"296.5\" y=\"-57.8\" font-family=\"Times,serif\" font-size=\"14.00\" fill=\"#000000\">yes, missing</text>\n",
       "</g>\n",
       "<!-- 10 -->\n",
       "<g id=\"node9\" class=\"node\">\n",
       "<title>10</title>\n",
       "<polygon fill=\"none\" stroke=\"#000000\" points=\"400,-36 307,-36 307,0 400,0 400,-36\"/>\n",
       "<text text-anchor=\"middle\" x=\"353.5\" y=\"-14.3\" font-family=\"Times,serif\" font-size=\"14.00\" fill=\"#000000\">leaf=0.185000002</text>\n",
       "</g>\n",
       "<!-- 4&#45;&gt;10 -->\n",
       "<g id=\"edge8\" class=\"edge\">\n",
       "<title>4&#45;&gt;10</title>\n",
       "<path fill=\"none\" stroke=\"#ff0000\" d=\"M327.8238,-117.7053C333.3393,-96.2875 340.8607,-67.0807 346.3368,-45.8161\"/>\n",
       "<polygon fill=\"#ff0000\" stroke=\"#ff0000\" points=\"349.7385,-46.6409 348.843,-36.084 342.9596,-44.8952 349.7385,-46.6409\"/>\n",
       "<text text-anchor=\"middle\" x=\"350\" y=\"-57.8\" font-family=\"Times,serif\" font-size=\"14.00\" fill=\"#000000\">no</text>\n",
       "</g>\n",
       "<!-- 11 -->\n",
       "<g id=\"node12\" class=\"node\">\n",
       "<title>11</title>\n",
       "<polygon fill=\"none\" stroke=\"#000000\" points=\"511,-36 418,-36 418,0 511,0 511,-36\"/>\n",
       "<text text-anchor=\"middle\" x=\"464.5\" y=\"-14.3\" font-family=\"Times,serif\" font-size=\"14.00\" fill=\"#000000\">leaf=0.115789473</text>\n",
       "</g>\n",
       "<!-- 5&#45;&gt;11 -->\n",
       "<g id=\"edge11\" class=\"edge\">\n",
       "<title>5&#45;&gt;11</title>\n",
       "<path fill=\"none\" stroke=\"#0000ff\" d=\"M492.2929,-90.6839C486.3157,-75.0523 480.0721,-58.7242 475.0204,-45.5129\"/>\n",
       "<polygon fill=\"#0000ff\" stroke=\"#0000ff\" points=\"478.2546,-44.1712 471.4137,-36.0808 471.7162,-46.6713 478.2546,-44.1712\"/>\n",
       "<text text-anchor=\"middle\" x=\"509.5\" y=\"-57.8\" font-family=\"Times,serif\" font-size=\"14.00\" fill=\"#000000\">yes, missing</text>\n",
       "</g>\n",
       "<!-- 12 -->\n",
       "<g id=\"node13\" class=\"node\">\n",
       "<title>12</title>\n",
       "<polygon fill=\"none\" stroke=\"#000000\" points=\"631.5,-36 529.5,-36 529.5,0 631.5,0 631.5,-36\"/>\n",
       "<text text-anchor=\"middle\" x=\"580.5\" y=\"-14.3\" font-family=\"Times,serif\" font-size=\"14.00\" fill=\"#000000\">leaf=&#45;0.0461538471</text>\n",
       "</g>\n",
       "<!-- 5&#45;&gt;12 -->\n",
       "<g id=\"edge12\" class=\"edge\">\n",
       "<title>5&#45;&gt;12</title>\n",
       "<path fill=\"none\" stroke=\"#ff0000\" d=\"M540.9448,-93.6536C549.6361,-77.0305 558.8899,-59.3316 566.2601,-45.2353\"/>\n",
       "<polygon fill=\"#ff0000\" stroke=\"#ff0000\" points=\"569.4998,-46.5929 571.0316,-36.1094 563.2965,-43.3495 569.4998,-46.5929\"/>\n",
       "<text text-anchor=\"middle\" x=\"567\" y=\"-57.8\" font-family=\"Times,serif\" font-size=\"14.00\" fill=\"#000000\">no</text>\n",
       "</g>\n",
       "<!-- 13 -->\n",
       "<g id=\"node14\" class=\"node\">\n",
       "<title>13</title>\n",
       "<polygon fill=\"none\" stroke=\"#000000\" points=\"747,-36 650,-36 650,0 747,0 747,-36\"/>\n",
       "<text text-anchor=\"middle\" x=\"698.5\" y=\"-14.3\" font-family=\"Times,serif\" font-size=\"14.00\" fill=\"#000000\">leaf=&#45;0.157425746</text>\n",
       "</g>\n",
       "<!-- 6&#45;&gt;13 -->\n",
       "<g id=\"edge13\" class=\"edge\">\n",
       "<title>6&#45;&gt;13</title>\n",
       "<path fill=\"none\" stroke=\"#0000ff\" d=\"M698.5,-86.9487C698.5,-72.7899 698.5,-58.3116 698.5,-46.3012\"/>\n",
       "<polygon fill=\"#0000ff\" stroke=\"#0000ff\" points=\"702.0001,-46.0448 698.5,-36.0448 695.0001,-46.0449 702.0001,-46.0448\"/>\n",
       "<text text-anchor=\"middle\" x=\"724.5\" y=\"-57.8\" font-family=\"Times,serif\" font-size=\"14.00\" fill=\"#000000\">yes, missing</text>\n",
       "</g>\n",
       "<!-- 14 -->\n",
       "<g id=\"node15\" class=\"node\">\n",
       "<title>14</title>\n",
       "<polygon fill=\"none\" stroke=\"#000000\" points=\"867.5,-36 765.5,-36 765.5,0 867.5,0 867.5,-36\"/>\n",
       "<text text-anchor=\"middle\" x=\"816.5\" y=\"-14.3\" font-family=\"Times,serif\" font-size=\"14.00\" fill=\"#000000\">leaf=&#45;0.0638888925</text>\n",
       "</g>\n",
       "<!-- 6&#45;&gt;14 -->\n",
       "<g id=\"edge14\" class=\"edge\">\n",
       "<title>6&#45;&gt;14</title>\n",
       "<path fill=\"none\" stroke=\"#ff0000\" d=\"M738.7789,-102.403C756.6802,-82.9626 777.1468,-60.7365 792.5826,-43.9737\"/>\n",
       "<polygon fill=\"#ff0000\" stroke=\"#ff0000\" points=\"795.5235,-45.9468 799.7227,-36.2197 790.3741,-41.2051 795.5235,-45.9468\"/>\n",
       "<text text-anchor=\"middle\" x=\"787\" y=\"-57.8\" font-family=\"Times,serif\" font-size=\"14.00\" fill=\"#000000\">no</text>\n",
       "</g>\n",
       "</g>\n",
       "</svg>\n"
      ],
      "text/plain": [
       "<graphviz.dot.Digraph at 0x1a1818b668>"
      ]
     },
     "execution_count": 85,
     "metadata": {},
     "output_type": "execute_result"
    }
   ],
   "source": [
    "my_model = get_model_metrics_and_display(train_data,X_columns=X_columns)\n",
    "xgb.to_graphviz(my_model)\n"
   ]
  },
  {
   "cell_type": "markdown",
   "metadata": {},
   "source": [
    "Comments : This results do not look bad. Let us fine tune our parameters and see where we get !"
   ]
  },
  {
   "cell_type": "code",
   "execution_count": 86,
   "metadata": {},
   "outputs": [],
   "source": [
    "X_train = train_data[X_columns]\n",
    "Y_train = train_data[Y_columns]\n",
    "dtrain = xgb.DMatrix(data=X_train, label=Y_train)\n",
    "params = {\"Objective\" : 'gbtree',\n",
    "          \"eval_metric\" : 'error',\n",
    "          'learning_rate' : 0.05\n",
    "         }\n",
    "cv = xgb.cv(dtrain=dtrain, params=params, num_boost_round=500, nfold=5, seed=0, early_stopping_rounds=10)"
   ]
  },
  {
   "cell_type": "code",
   "execution_count": 87,
   "metadata": {},
   "outputs": [
    {
     "data": {
      "text/html": [
       "<div>\n",
       "<style scoped>\n",
       "    .dataframe tbody tr th:only-of-type {\n",
       "        vertical-align: middle;\n",
       "    }\n",
       "\n",
       "    .dataframe tbody tr th {\n",
       "        vertical-align: top;\n",
       "    }\n",
       "\n",
       "    .dataframe thead th {\n",
       "        text-align: right;\n",
       "    }\n",
       "</style>\n",
       "<table border=\"1\" class=\"dataframe\">\n",
       "  <thead>\n",
       "    <tr style=\"text-align: right;\">\n",
       "      <th></th>\n",
       "      <th>test-error-mean</th>\n",
       "      <th>test-error-std</th>\n",
       "      <th>train-error-mean</th>\n",
       "      <th>train-error-std</th>\n",
       "    </tr>\n",
       "  </thead>\n",
       "  <tbody>\n",
       "    <tr>\n",
       "      <th>0</th>\n",
       "      <td>0.203138</td>\n",
       "      <td>0.012934</td>\n",
       "      <td>0.147588</td>\n",
       "      <td>0.010152</td>\n",
       "    </tr>\n",
       "  </tbody>\n",
       "</table>\n",
       "</div>"
      ],
      "text/plain": [
       "   test-error-mean  test-error-std  train-error-mean  train-error-std\n",
       "0         0.203138        0.012934          0.147588         0.010152"
      ]
     },
     "execution_count": 87,
     "metadata": {},
     "output_type": "execute_result"
    }
   ],
   "source": [
    "cv.tail(10)"
   ]
  },
  {
   "cell_type": "code",
   "execution_count": 88,
   "metadata": {},
   "outputs": [
    {
     "data": {
      "text/plain": [
       "{'xgcl__learning_rate': 0.05, 'xgcl__n_estimators': 10}"
      ]
     },
     "execution_count": 88,
     "metadata": {},
     "output_type": "execute_result"
    }
   ],
   "source": [
    "searchCV = get_gridsearch_crossval_output(train_data, X_columns=X_columns,\n",
    "                                          n_estimators_list = [1, 2, 3, 4 , 5, 6 ,7 ,8 , 9, 10, 11, 12, 13, 14, 15, 16,  18, 20, 39, 40, 41, 42],\n",
    "                                          learning_rates_list = [0.01, 0.02, 0.03, 0.04, 0.05,  0.06, 0.07])\n",
    "searchCV.best_params_\n"
   ]
  },
  {
   "cell_type": "code",
   "execution_count": 89,
   "metadata": {},
   "outputs": [
    {
     "name": "stdout",
     "output_type": "stream",
     "text": [
      "Complete score on out of sample data is 0.7607655502392344\n"
     ]
    }
   ],
   "source": [
    "#create_pipeline_and_out_of_sample_score(X_train, X_test, Y_train, Y_test)\n",
    "X_train = train_data[X_columns]\n",
    "X_train_one_hot = pd.get_dummies(X_train)\n",
    "Y_train = train_data[Y_column]\n",
    "X_test = test_data[X_columns]\n",
    "X_test_one_hot = pd.get_dummies(X_test)\n",
    "Y_test = test_data[Y_column]\n",
    "(my_pipeline, out_of_sample_score, predictions_out_of_sample) = \\\n",
    "    create_pipeline_and_out_of_sample_score(X_train_one_hot, \n",
    "                                            X_test_one_hot,\n",
    "                                            Y_train,\n",
    "                                            Y_test,\n",
    "                                            10,\n",
    "                                            0.02)\n",
    "print(\"Complete score on out of sample data is {0}\".format(out_of_sample_score))\n",
    "test_data['Predictions'] = predictions_out_of_sample\n",
    "kaggle_data = test_data[['PassengerId', 'Predictions']].copy()\n",
    "kaggle_data.rename(columns={'Predictions' : 'Survived'}, inplace=True)\n",
    "kaggle_data.sort_values(by=['PassengerId']).to_csv('kaggle_out_xgboost_no_pclass.csv', index=False)"
   ]
  },
  {
   "cell_type": "markdown",
   "metadata": {},
   "source": [
    "## Conclusion\n",
    "\n",
    "We see that trying out models without sex variable and addition  of Embarked variable has not helped much. Hence, we conclude that the best model which we have been able to build (as part of this exercise) is the model with Sex, Age, Pclass and Fare as it's predictors.\n",
    "\n",
    "Output Model => With predictors Sex, Age, Pclass, FAre"
   ]
  },
  {
   "cell_type": "markdown",
   "metadata": {},
   "source": [
    "### Another model using Parch,SibSp,Fare\n",
    "\n",
    "We are building another model using Parch,SibSp and Fare. Though this model, may not be very useful in itself, the very fact that we are using predictors, not used in other models, can help us yield a model not much correlated with others and can hence help in ensembling.\n"
   ]
  },
  {
   "cell_type": "code",
   "execution_count": 91,
   "metadata": {},
   "outputs": [
    {
     "name": "stdout",
     "output_type": "stream",
     "text": [
      "Complete score on out of sample data is 0.6961722488038278\n"
     ]
    }
   ],
   "source": [
    "#create_pipeline_and_out_of_sample_score(X_train, X_test, Y_train, Y_test)\n",
    "X_columns = ['Parch', 'SibSp', 'Fare']\n",
    "X_train = train_data[X_columns]\n",
    "X_train_one_hot = pd.get_dummies(X_train)\n",
    "Y_train = train_data[Y_column]\n",
    "X_test = test_data[X_columns]\n",
    "X_test_one_hot = pd.get_dummies(X_test)\n",
    "Y_test = test_data[Y_column]\n",
    "(my_pipeline, out_of_sample_score, predictions_out_of_sample) = \\\n",
    "    create_pipeline_and_out_of_sample_score(X_train_one_hot, \n",
    "                                            X_test_one_hot,\n",
    "                                            Y_train,\n",
    "                                            Y_test)\n",
    "print(\"Complete score on out of sample data is {0}\".format(out_of_sample_score))\n",
    "test_data['Predictions'] = predictions_out_of_sample\n",
    "kaggle_data = test_data[['PassengerId', 'Predictions']].copy()\n",
    "kaggle_data.rename(columns={'Predictions' : 'Survived'}, inplace=True)\n",
    "kaggle_data.sort_values(by=['PassengerId']).to_csv('kaggle_out_xgboost_parch_sibsp_fare.csv', index=False)"
   ]
  }
 ],
 "metadata": {
  "kernelspec": {
   "display_name": "Python 3",
   "language": "python",
   "name": "python3"
  },
  "language_info": {
   "codemirror_mode": {
    "name": "ipython",
    "version": 3
   },
   "file_extension": ".py",
   "mimetype": "text/x-python",
   "name": "python",
   "nbconvert_exporter": "python",
   "pygments_lexer": "ipython3",
   "version": "3.6.4"
  }
 },
 "nbformat": 4,
 "nbformat_minor": 2
}
